{
  "nbformat": 4,
  "nbformat_minor": 0,
  "metadata": {
    "colab": {
      "name": "paprika.ipynb",
      "provenance": [],
      "collapsed_sections": [],
      "authorship_tag": "ABX9TyP5qRUV10qIq9HrQNjf93NV",
      "include_colab_link": true
    },
    "kernelspec": {
      "name": "python3",
      "display_name": "Python 3"
    },
    "language_info": {
      "name": "python"
    },
    "accelerator": "GPU"
  },
  "cells": [
    {
      "cell_type": "markdown",
      "metadata": {
        "id": "view-in-github",
        "colab_type": "text"
      },
      "source": [
        "<a href=\"https://colab.research.google.com/github/rasheedtobi/Paprika_Mask_RCNN/blob/main/paprika.ipynb\" target=\"_parent\"><img src=\"https://colab.research.google.com/assets/colab-badge.svg\" alt=\"Open In Colab\"/></a>"
      ]
    },
    {
      "cell_type": "code",
      "source": [
        "import tensorflow as tf\n",
        "tf.test.gpu_device_name()"
      ],
      "metadata": {
        "colab": {
          "base_uri": "https://localhost:8080/",
          "height": 35
        },
        "id": "-kc39spvD6ET",
        "outputId": "49abfcdb-1a9c-4f3e-f7b3-bcfb31a50e8b"
      },
      "execution_count": 11,
      "outputs": [
        {
          "output_type": "execute_result",
          "data": {
            "text/plain": [
              "''"
            ],
            "application/vnd.google.colaboratory.intrinsic+json": {
              "type": "string"
            }
          },
          "metadata": {},
          "execution_count": 11
        }
      ]
    },
    {
      "cell_type": "code",
      "source": [
        "pip uninstall keras -y\n"
      ],
      "metadata": {
        "colab": {
          "base_uri": "https://localhost:8080/"
        },
        "id": "rKdkmRTsIjr6",
        "outputId": "a7c534fb-83c5-4a4c-8da1-9b173e030818"
      },
      "execution_count": null,
      "outputs": [
        {
          "output_type": "stream",
          "name": "stdout",
          "text": [
            "Found existing installation: keras 2.8.0\n",
            "Uninstalling keras-2.8.0:\n",
            "  Successfully uninstalled keras-2.8.0\n"
          ]
        }
      ]
    },
    {
      "cell_type": "code",
      "source": [
        "pip uninstall keras-Preprocessing -y"
      ],
      "metadata": {
        "colab": {
          "base_uri": "https://localhost:8080/"
        },
        "id": "IDEjq5DmIlHs",
        "outputId": "280b7e32-c6ef-44ce-f3a2-b2172240e2ea"
      },
      "execution_count": null,
      "outputs": [
        {
          "output_type": "stream",
          "name": "stdout",
          "text": [
            "Found existing installation: Keras-Preprocessing 1.1.2\n",
            "Uninstalling Keras-Preprocessing-1.1.2:\n",
            "  Successfully uninstalled Keras-Preprocessing-1.1.2\n"
          ]
        }
      ]
    },
    {
      "cell_type": "code",
      "source": [
        "pip uninstall keras-vis -y"
      ],
      "metadata": {
        "colab": {
          "base_uri": "https://localhost:8080/"
        },
        "id": "RG6gA-5PIlLU",
        "outputId": "d98d71f0-ffed-4d84-ed62-ad325625c5cc"
      },
      "execution_count": null,
      "outputs": [
        {
          "output_type": "stream",
          "name": "stdout",
          "text": [
            "Found existing installation: keras-vis 0.4.1\n",
            "Uninstalling keras-vis-0.4.1:\n",
            "  Successfully uninstalled keras-vis-0.4.1\n"
          ]
        }
      ]
    },
    {
      "cell_type": "code",
      "source": [
        "pip uninstall tensorflow -y"
      ],
      "metadata": {
        "colab": {
          "base_uri": "https://localhost:8080/"
        },
        "id": "cXFGXCabIlO6",
        "outputId": "a412aa9f-d919-4e70-9eeb-073a1a1ee04e"
      },
      "execution_count": null,
      "outputs": [
        {
          "output_type": "stream",
          "name": "stdout",
          "text": [
            "Found existing installation: tensorflow 2.8.0\n",
            "Uninstalling tensorflow-2.8.0:\n",
            "  Successfully uninstalled tensorflow-2.8.0\n"
          ]
        }
      ]
    },
    {
      "cell_type": "code",
      "source": [
        "pip uninstall h5py -y"
      ],
      "metadata": {
        "colab": {
          "base_uri": "https://localhost:8080/"
        },
        "id": "9Sh1YDdhIlSJ",
        "outputId": "ba2cddbd-5851-487d-b0cf-4b48f5483ef7"
      },
      "execution_count": 7,
      "outputs": [
        {
          "output_type": "stream",
          "name": "stdout",
          "text": [
            "Found existing installation: h5py 3.1.0\n",
            "Uninstalling h5py-3.1.0:\n",
            "  Successfully uninstalled h5py-3.1.0\n"
          ]
        }
      ]
    },
    {
      "cell_type": "code",
      "source": [
        "pip install tensorflow==1.13.1"
      ],
      "metadata": {
        "colab": {
          "base_uri": "https://localhost:8080/",
          "height": 939
        },
        "id": "MrEROXDAIlWB",
        "outputId": "15794a6f-321f-48aa-ae17-237616dec767"
      },
      "execution_count": 8,
      "outputs": [
        {
          "output_type": "stream",
          "name": "stdout",
          "text": [
            "Collecting tensorflow==1.13.1\n",
            "  Downloading tensorflow-1.13.1-cp37-cp37m-manylinux1_x86_64.whl (92.6 MB)\n",
            "\u001b[K     |████████████████████████████████| 92.6 MB 49 kB/s \n",
            "\u001b[?25hCollecting keras-applications>=1.0.6\n",
            "  Downloading Keras_Applications-1.0.8-py3-none-any.whl (50 kB)\n",
            "\u001b[K     |████████████████████████████████| 50 kB 5.0 MB/s \n",
            "\u001b[?25hRequirement already satisfied: protobuf>=3.6.1 in /usr/local/lib/python3.7/dist-packages (from tensorflow==1.13.1) (3.17.3)\n",
            "Collecting keras-preprocessing>=1.0.5\n",
            "  Downloading Keras_Preprocessing-1.1.2-py2.py3-none-any.whl (42 kB)\n",
            "\u001b[K     |████████████████████████████████| 42 kB 1.0 MB/s \n",
            "\u001b[?25hRequirement already satisfied: grpcio>=1.8.6 in /usr/local/lib/python3.7/dist-packages (from tensorflow==1.13.1) (1.44.0)\n",
            "Requirement already satisfied: wheel>=0.26 in /usr/local/lib/python3.7/dist-packages (from tensorflow==1.13.1) (0.37.1)\n",
            "Requirement already satisfied: gast>=0.2.0 in /usr/local/lib/python3.7/dist-packages (from tensorflow==1.13.1) (0.5.3)\n",
            "Requirement already satisfied: termcolor>=1.1.0 in /usr/local/lib/python3.7/dist-packages (from tensorflow==1.13.1) (1.1.0)\n",
            "Requirement already satisfied: six>=1.10.0 in /usr/local/lib/python3.7/dist-packages (from tensorflow==1.13.1) (1.15.0)\n",
            "Requirement already satisfied: numpy>=1.13.3 in /usr/local/lib/python3.7/dist-packages (from tensorflow==1.13.1) (1.21.5)\n",
            "Collecting tensorboard<1.14.0,>=1.13.0\n",
            "  Downloading tensorboard-1.13.1-py3-none-any.whl (3.2 MB)\n",
            "\u001b[K     |████████████████████████████████| 3.2 MB 16.3 MB/s \n",
            "\u001b[?25hRequirement already satisfied: astor>=0.6.0 in /usr/local/lib/python3.7/dist-packages (from tensorflow==1.13.1) (0.8.1)\n",
            "Requirement already satisfied: absl-py>=0.1.6 in /usr/local/lib/python3.7/dist-packages (from tensorflow==1.13.1) (1.0.0)\n",
            "Collecting tensorflow-estimator<1.14.0rc0,>=1.13.0\n",
            "  Downloading tensorflow_estimator-1.13.0-py2.py3-none-any.whl (367 kB)\n",
            "\u001b[K     |████████████████████████████████| 367 kB 44.8 MB/s \n",
            "\u001b[?25hCollecting h5py\n",
            "  Downloading h5py-3.6.0-cp37-cp37m-manylinux_2_12_x86_64.manylinux2010_x86_64.whl (4.1 MB)\n",
            "\u001b[K     |████████████████████████████████| 4.1 MB 32.4 MB/s \n",
            "\u001b[?25hRequirement already satisfied: werkzeug>=0.11.15 in /usr/local/lib/python3.7/dist-packages (from tensorboard<1.14.0,>=1.13.0->tensorflow==1.13.1) (1.0.1)\n",
            "Requirement already satisfied: markdown>=2.6.8 in /usr/local/lib/python3.7/dist-packages (from tensorboard<1.14.0,>=1.13.0->tensorflow==1.13.1) (3.3.6)\n",
            "Requirement already satisfied: importlib-metadata>=4.4 in /usr/local/lib/python3.7/dist-packages (from markdown>=2.6.8->tensorboard<1.14.0,>=1.13.0->tensorflow==1.13.1) (4.11.2)\n",
            "Requirement already satisfied: zipp>=0.5 in /usr/local/lib/python3.7/dist-packages (from importlib-metadata>=4.4->markdown>=2.6.8->tensorboard<1.14.0,>=1.13.0->tensorflow==1.13.1) (3.7.0)\n",
            "Requirement already satisfied: typing-extensions>=3.6.4 in /usr/local/lib/python3.7/dist-packages (from importlib-metadata>=4.4->markdown>=2.6.8->tensorboard<1.14.0,>=1.13.0->tensorflow==1.13.1) (3.10.0.2)\n",
            "Collecting mock>=2.0.0\n",
            "  Downloading mock-4.0.3-py3-none-any.whl (28 kB)\n",
            "Requirement already satisfied: cached-property in /usr/local/lib/python3.7/dist-packages (from h5py->keras-applications>=1.0.6->tensorflow==1.13.1) (1.5.2)\n",
            "Installing collected packages: mock, h5py, tensorflow-estimator, tensorboard, keras-preprocessing, keras-applications, tensorflow\n",
            "  Attempting uninstall: tensorflow-estimator\n",
            "    Found existing installation: tensorflow-estimator 2.8.0\n",
            "    Uninstalling tensorflow-estimator-2.8.0:\n",
            "      Successfully uninstalled tensorflow-estimator-2.8.0\n",
            "  Attempting uninstall: tensorboard\n",
            "    Found existing installation: tensorboard 2.8.0\n",
            "    Uninstalling tensorboard-2.8.0:\n",
            "      Successfully uninstalled tensorboard-2.8.0\n",
            "\u001b[31mERROR: pip's dependency resolver does not currently take into account all the packages that are installed. This behaviour is the source of the following dependency conflicts.\n",
            "kapre 0.3.7 requires tensorflow>=2.0.0, but you have tensorflow 1.13.1 which is incompatible.\u001b[0m\n",
            "Successfully installed h5py-3.6.0 keras-applications-1.0.8 keras-preprocessing-1.1.2 mock-4.0.3 tensorboard-1.13.1 tensorflow-1.13.1 tensorflow-estimator-1.13.0\n"
          ]
        },
        {
          "output_type": "display_data",
          "data": {
            "application/vnd.colab-display-data+json": {
              "pip_warning": {
                "packages": [
                  "h5py",
                  "keras_preprocessing",
                  "tensorboard",
                  "tensorflow"
                ]
              }
            }
          },
          "metadata": {}
        }
      ]
    },
    {
      "cell_type": "code",
      "source": [
        "pip install keras==2.0.8"
      ],
      "metadata": {
        "colab": {
          "base_uri": "https://localhost:8080/",
          "height": 259
        },
        "id": "g4PBQt6FIlaR",
        "outputId": "176c47e8-b295-4888-8de6-85254517b580"
      },
      "execution_count": 9,
      "outputs": [
        {
          "output_type": "stream",
          "name": "stdout",
          "text": [
            "Collecting keras==2.0.8\n",
            "  Downloading Keras-2.0.8-py2.py3-none-any.whl (276 kB)\n",
            "\u001b[?25l\r\u001b[K     |█▏                              | 10 kB 19.1 MB/s eta 0:00:01\r\u001b[K     |██▍                             | 20 kB 16.0 MB/s eta 0:00:01\r\u001b[K     |███▋                            | 30 kB 7.4 MB/s eta 0:00:01\r\u001b[K     |████▊                           | 40 kB 6.4 MB/s eta 0:00:01\r\u001b[K     |██████                          | 51 kB 3.6 MB/s eta 0:00:01\r\u001b[K     |███████▏                        | 61 kB 4.3 MB/s eta 0:00:01\r\u001b[K     |████████▎                       | 71 kB 3.4 MB/s eta 0:00:01\r\u001b[K     |█████████▌                      | 81 kB 3.8 MB/s eta 0:00:01\r\u001b[K     |██████████▊                     | 92 kB 4.2 MB/s eta 0:00:01\r\u001b[K     |███████████▉                    | 102 kB 4.0 MB/s eta 0:00:01\r\u001b[K     |█████████████                   | 112 kB 4.0 MB/s eta 0:00:01\r\u001b[K     |██████████████▎                 | 122 kB 4.0 MB/s eta 0:00:01\r\u001b[K     |███████████████▍                | 133 kB 4.0 MB/s eta 0:00:01\r\u001b[K     |████████████████▋               | 143 kB 4.0 MB/s eta 0:00:01\r\u001b[K     |█████████████████▉              | 153 kB 4.0 MB/s eta 0:00:01\r\u001b[K     |███████████████████             | 163 kB 4.0 MB/s eta 0:00:01\r\u001b[K     |████████████████████▏           | 174 kB 4.0 MB/s eta 0:00:01\r\u001b[K     |█████████████████████▍          | 184 kB 4.0 MB/s eta 0:00:01\r\u001b[K     |██████████████████████▌         | 194 kB 4.0 MB/s eta 0:00:01\r\u001b[K     |███████████████████████▊        | 204 kB 4.0 MB/s eta 0:00:01\r\u001b[K     |█████████████████████████       | 215 kB 4.0 MB/s eta 0:00:01\r\u001b[K     |██████████████████████████▏     | 225 kB 4.0 MB/s eta 0:00:01\r\u001b[K     |███████████████████████████▎    | 235 kB 4.0 MB/s eta 0:00:01\r\u001b[K     |████████████████████████████▌   | 245 kB 4.0 MB/s eta 0:00:01\r\u001b[K     |█████████████████████████████▊  | 256 kB 4.0 MB/s eta 0:00:01\r\u001b[K     |██████████████████████████████▉ | 266 kB 4.0 MB/s eta 0:00:01\r\u001b[K     |████████████████████████████████| 276 kB 4.0 MB/s \n",
            "\u001b[?25hRequirement already satisfied: scipy>=0.14 in /usr/local/lib/python3.7/dist-packages (from keras==2.0.8) (1.4.1)\n",
            "Requirement already satisfied: pyyaml in /usr/local/lib/python3.7/dist-packages (from keras==2.0.8) (3.13)\n",
            "Requirement already satisfied: six>=1.9.0 in /usr/local/lib/python3.7/dist-packages (from keras==2.0.8) (1.15.0)\n",
            "Requirement already satisfied: numpy>=1.9.1 in /usr/local/lib/python3.7/dist-packages (from keras==2.0.8) (1.21.5)\n",
            "Installing collected packages: keras\n",
            "Successfully installed keras-2.0.8\n"
          ]
        },
        {
          "output_type": "display_data",
          "data": {
            "application/vnd.colab-display-data+json": {
              "pip_warning": {
                "packages": [
                  "keras"
                ]
              }
            }
          },
          "metadata": {}
        }
      ]
    },
    {
      "cell_type": "code",
      "source": [
        "pip install h5py==2.10.0"
      ],
      "metadata": {
        "colab": {
          "base_uri": "https://localhost:8080/",
          "height": 294
        },
        "id": "s2UGW4hCJEkU",
        "outputId": "601206dd-1b9c-4ce7-c9f8-128196ecd226"
      },
      "execution_count": 10,
      "outputs": [
        {
          "output_type": "stream",
          "name": "stdout",
          "text": [
            "Collecting h5py==2.10.0\n",
            "  Downloading h5py-2.10.0-cp37-cp37m-manylinux1_x86_64.whl (2.9 MB)\n",
            "\u001b[K     |████████████████████████████████| 2.9 MB 4.2 MB/s \n",
            "\u001b[?25hRequirement already satisfied: numpy>=1.7 in /usr/local/lib/python3.7/dist-packages (from h5py==2.10.0) (1.21.5)\n",
            "Requirement already satisfied: six in /usr/local/lib/python3.7/dist-packages (from h5py==2.10.0) (1.15.0)\n",
            "Installing collected packages: h5py\n",
            "  Attempting uninstall: h5py\n",
            "    Found existing installation: h5py 3.6.0\n",
            "    Uninstalling h5py-3.6.0:\n",
            "      Successfully uninstalled h5py-3.6.0\n",
            "Successfully installed h5py-2.10.0\n"
          ]
        },
        {
          "output_type": "display_data",
          "data": {
            "application/vnd.colab-display-data+json": {
              "pip_warning": {
                "packages": [
                  "h5py"
                ]
              }
            }
          },
          "metadata": {}
        }
      ]
    },
    {
      "cell_type": "code",
      "source": [
        "import tensorflow as tf\n",
        "device_name = tf.test.gpu_device_name()\n",
        "if device_name != '/device:GPU:0':\n",
        "  raise SystemError('GPU device not found')\n",
        "print('Found GPU at: {}'.format(device_name))"
      ],
      "metadata": {
        "colab": {
          "base_uri": "https://localhost:8080/",
          "height": 217
        },
        "id": "TI-iZ-BNKWOd",
        "outputId": "1e920521-5431-4d2a-aff4-9cf3e7e25c04"
      },
      "execution_count": 13,
      "outputs": [
        {
          "output_type": "error",
          "ename": "SystemError",
          "evalue": "ignored",
          "traceback": [
            "\u001b[0;31m---------------------------------------------------------------------------\u001b[0m",
            "\u001b[0;31mSystemError\u001b[0m                               Traceback (most recent call last)",
            "\u001b[0;32m<ipython-input-13-d1680108c58e>\u001b[0m in \u001b[0;36m<module>\u001b[0;34m()\u001b[0m\n\u001b[1;32m      2\u001b[0m \u001b[0mdevice_name\u001b[0m \u001b[0;34m=\u001b[0m \u001b[0mtf\u001b[0m\u001b[0;34m.\u001b[0m\u001b[0mtest\u001b[0m\u001b[0;34m.\u001b[0m\u001b[0mgpu_device_name\u001b[0m\u001b[0;34m(\u001b[0m\u001b[0;34m)\u001b[0m\u001b[0;34m\u001b[0m\u001b[0;34m\u001b[0m\u001b[0m\n\u001b[1;32m      3\u001b[0m \u001b[0;32mif\u001b[0m \u001b[0mdevice_name\u001b[0m \u001b[0;34m!=\u001b[0m \u001b[0;34m'/device:GPU:0'\u001b[0m\u001b[0;34m:\u001b[0m\u001b[0;34m\u001b[0m\u001b[0;34m\u001b[0m\u001b[0m\n\u001b[0;32m----> 4\u001b[0;31m   \u001b[0;32mraise\u001b[0m \u001b[0mSystemError\u001b[0m\u001b[0;34m(\u001b[0m\u001b[0;34m'GPU device not found'\u001b[0m\u001b[0;34m)\u001b[0m\u001b[0;34m\u001b[0m\u001b[0;34m\u001b[0m\u001b[0m\n\u001b[0m\u001b[1;32m      5\u001b[0m \u001b[0mprint\u001b[0m\u001b[0;34m(\u001b[0m\u001b[0;34m'Found GPU at: {}'\u001b[0m\u001b[0;34m.\u001b[0m\u001b[0mformat\u001b[0m\u001b[0;34m(\u001b[0m\u001b[0mdevice_name\u001b[0m\u001b[0;34m)\u001b[0m\u001b[0;34m)\u001b[0m\u001b[0;34m\u001b[0m\u001b[0;34m\u001b[0m\u001b[0m\n",
            "\u001b[0;31mSystemError\u001b[0m: GPU device not found"
          ]
        }
      ]
    },
    {
      "cell_type": "code",
      "execution_count": 1,
      "metadata": {
        "id": "HB5yg6RmEe6-"
      },
      "outputs": [],
      "source": [
        "import os"
      ]
    },
    {
      "cell_type": "code",
      "source": [
        ""
      ],
      "metadata": {
        "id": "zgvP-VixIf7R"
      },
      "execution_count": null,
      "outputs": []
    },
    {
      "cell_type": "code",
      "source": [
        "import os\n",
        "import sys\n",
        "import json\n",
        "import datetime\n",
        "import numpy as np\n",
        "import skimage.draw\n",
        "import cv2\n",
        "from mrcnn.visualize import display_instances\n",
        "import matplotlib.pyplot as plt"
      ],
      "metadata": {
        "colab": {
          "base_uri": "https://localhost:8080/"
        },
        "id": "0cxzxj9oHmTF",
        "outputId": "4d8a0f24-d9f2-436b-f8e1-73a798026b22"
      },
      "execution_count": 1,
      "outputs": [
        {
          "output_type": "stream",
          "name": "stderr",
          "text": [
            "/usr/local/lib/python3.7/dist-packages/tensorflow/python/framework/dtypes.py:526: FutureWarning: Passing (type, 1) or '1type' as a synonym of type is deprecated; in a future version of numpy, it will be understood as (type, (1,)) / '(1,)type'.\n",
            "  _np_qint8 = np.dtype([(\"qint8\", np.int8, 1)])\n",
            "/usr/local/lib/python3.7/dist-packages/tensorflow/python/framework/dtypes.py:527: FutureWarning: Passing (type, 1) or '1type' as a synonym of type is deprecated; in a future version of numpy, it will be understood as (type, (1,)) / '(1,)type'.\n",
            "  _np_quint8 = np.dtype([(\"quint8\", np.uint8, 1)])\n",
            "/usr/local/lib/python3.7/dist-packages/tensorflow/python/framework/dtypes.py:528: FutureWarning: Passing (type, 1) or '1type' as a synonym of type is deprecated; in a future version of numpy, it will be understood as (type, (1,)) / '(1,)type'.\n",
            "  _np_qint16 = np.dtype([(\"qint16\", np.int16, 1)])\n",
            "/usr/local/lib/python3.7/dist-packages/tensorflow/python/framework/dtypes.py:529: FutureWarning: Passing (type, 1) or '1type' as a synonym of type is deprecated; in a future version of numpy, it will be understood as (type, (1,)) / '(1,)type'.\n",
            "  _np_quint16 = np.dtype([(\"quint16\", np.uint16, 1)])\n",
            "/usr/local/lib/python3.7/dist-packages/tensorflow/python/framework/dtypes.py:530: FutureWarning: Passing (type, 1) or '1type' as a synonym of type is deprecated; in a future version of numpy, it will be understood as (type, (1,)) / '(1,)type'.\n",
            "  _np_qint32 = np.dtype([(\"qint32\", np.int32, 1)])\n",
            "/usr/local/lib/python3.7/dist-packages/tensorflow/python/framework/dtypes.py:535: FutureWarning: Passing (type, 1) or '1type' as a synonym of type is deprecated; in a future version of numpy, it will be understood as (type, (1,)) / '(1,)type'.\n",
            "  np_resource = np.dtype([(\"resource\", np.ubyte, 1)])\n"
          ]
        }
      ]
    },
    {
      "cell_type": "code",
      "source": [
        ""
      ],
      "metadata": {
        "id": "pkp4gGaDIdUs"
      },
      "execution_count": null,
      "outputs": []
    },
    {
      "cell_type": "code",
      "source": [
        "# Root directory of the project\n",
        "ROOT_DIR = \"./\"\n",
        "\n",
        "# Import Mask RCNN\n",
        "sys.path.append(ROOT_DIR)  # To find local version of the library\n",
        "from mrcnn.config import Config\n",
        "from mrcnn import model as modellib, utils\n",
        "\n",
        "# Path to trained weights file\n",
        "COCO_WEIGHTS_PATH = os.path.join(ROOT_DIR, \"mask_rcnn_coco.h5\")\n",
        "\n",
        "# Directory to save logs and model checkpoints, if not provided\n",
        "# through the command line argument --logs\n",
        "DEFAULT_LOGS_DIR = os.path.join(ROOT_DIR, \"logs\")\n",
        "\n"
      ],
      "metadata": {
        "colab": {
          "base_uri": "https://localhost:8080/"
        },
        "id": "3rEYYdIEHuwa",
        "outputId": "4f1cc0c3-5079-474d-b0cf-ab06ffbdf2cf"
      },
      "execution_count": 2,
      "outputs": [
        {
          "output_type": "stream",
          "name": "stderr",
          "text": [
            "Using TensorFlow backend.\n"
          ]
        }
      ]
    },
    {
      "cell_type": "code",
      "source": [
        "#Defining a custom class for paprika\n",
        "\n",
        "class CustomConfig(Config):\n",
        "    \"\"\"Configuration for training on the custom  dataset.\n",
        "    Derives from the base Config class and overrides some values.\n",
        "    \"\"\"\n",
        "    # Give the configuration a recognizable name\n",
        "    NAME = \"paprika\"\n",
        "\n",
        "    # We use a GPU with 12GB memory, which can fit two images.\n",
        "    # Adjust down if you use a smaller GPU.\n",
        "    IMAGES_PER_GPU = 2\n",
        "\n",
        "    # Number of classes (including background)\n",
        "    NUM_CLASSES = 1 + 1  # Background + phone,laptop and mobile\n",
        "\n",
        "    # Number of training steps per epoch\n",
        "    STEPS_PER_EPOCH = 10\n",
        "\n",
        "    # Skip detections with < 90% confidence\n",
        "    DETECTION_MIN_CONFIDENCE = 0.9"
      ],
      "metadata": {
        "id": "90gO893fIV6d"
      },
      "execution_count": 3,
      "outputs": []
    },
    {
      "cell_type": "code",
      "source": [
        "#  Dataset\n",
        "class PaprikaDataset(utils.Dataset):\n",
        "\n",
        "    def load_custom(self, dataset_dir, subset):\n",
        "        \"\"\"Load a subset of the Dog-Cat dataset.\n",
        "        dataset_dir: Root directory of the dataset.\n",
        "        subset: Subset to load: train or val\n",
        "        \"\"\"\n",
        "        # Add classes. We have only one class to add.\n",
        "        self.add_class(\"paprika\", 1, \"paprika\")\n",
        "        \n",
        "\n",
        "        # Train or validation dataset?\n",
        "        assert subset in [\"train\", \"val\"]\n",
        "        dataset_dir = os.path.join(dataset_dir, subset)\n",
        "\n",
        "        # Load annotations\n",
        "        # VGG Image Annotator saves each image in the form:\n",
        "        # { 'filename': '28503151_5b5b7ec140_b.jpg',\n",
        "        #   'regions': {\n",
        "        #       '0': {\n",
        "        #           'region_attributes': {},\n",
        "        #           'shape_attributes': {\n",
        "        #               'all_points_x': [...],\n",
        "        #               'all_points_y': [...],\n",
        "        #               'name': 'polygon'}},\n",
        "        #       ... more regions ...\n",
        "        #   },\n",
        "        #   'size': 100202\n",
        "        # }\n",
        "        # We mostly care about the x and y coordinates of each region\n",
        "        annotations1 = json.load(open(os.path.join('/content/dataset/train', \"via_region_data.json\")))\n",
        "        # annotations1 = json.load(open(os.path.join('/content/dataset/train', \"via_project.json\")))\n",
        "        # print(annotations1)\n",
        "        annotations = list(annotations1.values())  # don't need the dict keys\n",
        "\n",
        "        # The VIA tool saves images in the JSON even if they don't have any\n",
        "        # annotations. Skip unannotated images.\n",
        "        annotations = [a for a in annotations if a['regions']]\n",
        "        \n",
        "      # Add images\n",
        "        for a in annotations:\n",
        "            # Get the x, y coordinaets of points of the polygons that make up\n",
        "            # the outline of each object instance. These are stores in the\n",
        "            # shape_attributes (see json format above)\n",
        "            # The if condition is needed to support VIA versions 1.x and 2.x.\n",
        "            if type(a['regions']) is dict:\n",
        "                polygons = [r['shape_attributes'] for r in a['regions'].values()]\n",
        "            else:\n",
        "                polygons = [r['shape_attributes'] for r in a['regions']] \n",
        "\n",
        "            # load_mask() needs the image size to convert polygons to masks.\n",
        "            # Unfortunately, VIA doesn't include it in JSON, so we must read\n",
        "            # the image. This is only managable since the dataset is tiny.\n",
        "            image_path = os.path.join('/content/dataset/train', a['filename'])\n",
        "            image = skimage.io.imread(image_path)\n",
        "            height, width = image.shape[:2]\n",
        "\n",
        "            self.add_image(\n",
        "                \"paprika\",\n",
        "                image_id=a['filename'],  # use file name as a unique image id\n",
        "                path=image_path,\n",
        "                width=width, height=height,\n",
        "                polygons=polygons)\n",
        "                \n",
        "\n",
        "    def load_mask(self, image_id):\n",
        "        \"\"\"Generate instance masks for an image.\n",
        "       Returns:\n",
        "        masks: A bool array of shape [height, width, instance count] with\n",
        "            one mask per instance.\n",
        "        class_ids: a 1D array of class IDs of the instance masks.\n",
        "        \"\"\"\n",
        "        # If not a paprika dataset image, delegate to parent class.\n",
        "        image_info = self.image_info[image_id]\n",
        "        if image_info[\"source\"] != \"paprika\":\n",
        "            return super(self.__class__, self).load_mask(image_id)\n",
        "\n",
        "        # Convert polygons to a bitmap mask of shape\n",
        "        # [height, width, instance_count]\n",
        "        info = self.image_info[image_id]\n",
        "        if info[\"source\"] != \"paprika\":\n",
        "            return super(self.__class__, self).load_mask(image_id)\n",
        "        \n",
        "        \n",
        "        # num_ids = info['num_ids']\n",
        "        mask = np.zeros([info[\"height\"], info[\"width\"], len(info[\"polygons\"])],\n",
        "                        dtype=np.uint8)\n",
        "        for i, p in enumerate(info[\"polygons\"]):\n",
        "            # Get indexes of pixels inside the polygon and set them to 1\n",
        "            rr, cc = skimage.draw.polygon(p['all_points_y'], p['all_points_x'])\n",
        "            print(\"mask.shape, min(mask),max(mask): {}, {},{}\".format(mask.shape, np.min(mask),np.max(mask)))\n",
        "            print(\"rr.shape, min(rr),max(rr): {}, {},{}\".format(rr.shape, np.min(rr),np.max(rr)))\n",
        "            print(\"cc.shape, min(cc),max(cc): {}, {},{}\".format(cc.shape, np.min(cc),np.max(cc)))\n",
        "\n",
        "            ## Note that this modifies the existing array arr, instead of creating a result array\n",
        "            ## Ref: https://stackoverflow.com/questions/19666626/replace-all-elements-of-python-numpy-array-that-are-greater-than-some-value\n",
        "            rr[rr > mask.shape[0]-1] = mask.shape[0]-1\n",
        "            cc[cc > mask.shape[1]-1] = mask.shape[1]-1\n",
        "\n",
        "            print(\"After fixing the dirt mask, new values:\")        \n",
        "            print(\"rr.shape, min(rr),max(rr): {}, {},{}\".format(rr.shape, np.min(rr),np.max(rr)))\n",
        "            print(\"cc.shape, min(cc),max(cc): {}, {},{}\".format(cc.shape, np.min(cc),np.max(cc)))\n",
        "\n",
        "            mask[rr, cc, i] = 1          \n",
        "         \n",
        "\n",
        "\n",
        "         \n",
        "\n",
        "        \t\n",
        "\n",
        "\n",
        "\n",
        "          \n",
        "\n",
        "\n",
        "\n",
        "\n",
        "\n",
        "\n",
        "\n",
        "\n",
        "\n",
        "        # Return mask, and array of class IDs of each instance. Since we have\n",
        "        # one class ID only, we return an array of 1s\n",
        "        # Map class names to class IDs.\n",
        "        # num_ids = np.array(num_ids, dtype=np.int32)\n",
        "        return mask.astype(np.bool), np.ones([mask.shape[-1]], dtype=np.int32)\n",
        "\n",
        "    def image_reference(self, image_id):\n",
        "        \"\"\"Return the path of the image.\"\"\"\n",
        "        info = self.image_info[image_id]\n",
        "        if info[\"source\"] == \"paprika\":\n",
        "            return info[\"path\"]\n",
        "        else:\n",
        "            super(self.__class__, self).image_reference(image_id)\n",
        "\n",
        "\n",
        "def train(model):\n",
        "    \"\"\"Train the model.\"\"\"\n",
        "    # Training dataset.\n",
        "    dataset_train = PaprikaDataset()\n",
        "    dataset_train.load_custom(\"./dataset\", \"train\")\n",
        "    dataset_train.prepare()\n",
        "\n",
        "    # Validation dataset\n",
        "    dataset_val = PaprikaDataset()\n",
        "    dataset_val.load_custom(\"./dataset\", \"val\")\n",
        "    dataset_val.prepare()\n",
        "\n",
        "    # *** This training schedule is an example. Update to your needs ***\n",
        "    # Since we're using a very small dataset, and starting from\n",
        "    # COCO trained weights, we don't need to train too long. Also,\n",
        "    # no need to train all layers, just the heads should do it.\n",
        "    print(\"Training network heads\")\n",
        "    model.train(dataset_train, dataset_val,\n",
        "                learning_rate=config.LEARNING_RATE,\n",
        "                epochs=5,\n",
        "                layers='heads')\n",
        "\t\t\t\t\n",
        "\t\t\t\t\n",
        "\t\t\t\t\n",
        "config = CustomConfig()\n",
        "model = modellib.MaskRCNN(mode=\"training\", config=config,\n",
        "                                  model_dir=DEFAULT_LOGS_DIR)\n",
        "\n",
        "\n",
        "weights_path = COCO_WEIGHTS_PATH\n",
        "        # Download weights file\n",
        "if not os.path.exists(weights_path):\n",
        "  utils.download_trained_weights(weights_path)\n",
        "\n",
        "model.load_weights(weights_path, by_name=True, exclude=[\n",
        "            \"mrcnn_class_logits\", \"mrcnn_bbox_fc\",\n",
        "            \"mrcnn_bbox\", \"mrcnn_mask\"])\n",
        "\n",
        "train(model)\t\t\t"
      ],
      "metadata": {
        "colab": {
          "base_uri": "https://localhost:8080/"
        },
        "id": "b1Z8XnRcL66w",
        "outputId": "f999e877-96a5-4ed4-b08b-73f6a863c19f"
      },
      "execution_count": null,
      "outputs": [
        {
          "output_type": "stream",
          "name": "stdout",
          "text": [
            "WARNING:tensorflow:From /usr/local/lib/python3.7/dist-packages/tensorflow/python/framework/op_def_library.py:263: colocate_with (from tensorflow.python.framework.ops) is deprecated and will be removed in a future version.\n",
            "Instructions for updating:\n",
            "Colocations handled automatically by placer.\n",
            "WARNING:tensorflow:From /usr/local/lib/python3.7/dist-packages/keras/backend/tensorflow_backend.py:1154: calling reduce_max_v1 (from tensorflow.python.ops.math_ops) with keep_dims is deprecated and will be removed in a future version.\n",
            "Instructions for updating:\n",
            "keep_dims is deprecated, use keepdims instead\n",
            "WARNING:tensorflow:From /usr/local/lib/python3.7/dist-packages/keras/backend/tensorflow_backend.py:1188: calling reduce_sum_v1 (from tensorflow.python.ops.math_ops) with keep_dims is deprecated and will be removed in a future version.\n",
            "Instructions for updating:\n",
            "keep_dims is deprecated, use keepdims instead\n",
            "Training network heads\n",
            "\n",
            "Starting at epoch 0. LR=0.001\n",
            "\n",
            "Checkpoint Path: ./logs/paprika20220317T2355/mask_rcnn_paprika_{epoch:04d}.h5\n",
            "Selecting layers to train\n",
            "fpn_c5p5               (Conv2D)\n",
            "fpn_c4p4               (Conv2D)\n",
            "fpn_c3p3               (Conv2D)\n",
            "fpn_c2p2               (Conv2D)\n",
            "fpn_p5                 (Conv2D)\n",
            "fpn_p2                 (Conv2D)\n",
            "fpn_p3                 (Conv2D)\n",
            "fpn_p4                 (Conv2D)\n",
            "In model:  rpn_model\n",
            "    rpn_conv_shared        (Conv2D)\n",
            "    rpn_class_raw          (Conv2D)\n",
            "    rpn_bbox_pred          (Conv2D)\n",
            "mrcnn_mask_conv1       (TimeDistributed)\n",
            "mrcnn_mask_bn1         (TimeDistributed)\n",
            "mrcnn_mask_conv2       (TimeDistributed)\n",
            "mrcnn_mask_bn2         (TimeDistributed)\n",
            "mrcnn_class_conv1      (TimeDistributed)\n",
            "mrcnn_class_bn1        (TimeDistributed)\n",
            "mrcnn_mask_conv3       (TimeDistributed)\n",
            "mrcnn_mask_bn3         (TimeDistributed)\n",
            "mrcnn_class_conv2      (TimeDistributed)\n",
            "mrcnn_class_bn2        (TimeDistributed)\n",
            "mrcnn_mask_conv4       (TimeDistributed)\n",
            "mrcnn_mask_bn4         (TimeDistributed)\n",
            "mrcnn_bbox_fc          (TimeDistributed)\n",
            "mrcnn_mask_deconv      (TimeDistributed)\n",
            "mrcnn_class_logits     (TimeDistributed)\n",
            "mrcnn_mask             (TimeDistributed)\n",
            "WARNING:tensorflow:From /usr/local/lib/python3.7/dist-packages/tensorflow/python/ops/math_ops.py:3066: to_int32 (from tensorflow.python.ops.math_ops) is deprecated and will be removed in a future version.\n",
            "Instructions for updating:\n",
            "Use tf.cast instead.\n"
          ]
        },
        {
          "output_type": "stream",
          "name": "stderr",
          "text": [
            "/usr/local/lib/python3.7/dist-packages/tensorflow/python/ops/gradients_impl.py:110: UserWarning: Converting sparse IndexedSlices to a dense Tensor of unknown shape. This may consume a large amount of memory.\n",
            "  \"Converting sparse IndexedSlices to a dense Tensor of unknown shape. \"\n",
            "/usr/local/lib/python3.7/dist-packages/keras/engine/training.py:1987: UserWarning: Using a generator with `use_multiprocessing=True` and multiple workers may duplicate your data. Please consider using the`keras.utils.Sequence class.\n",
            "  UserWarning('Using a generator with `use_multiprocessing=True`'\n"
          ]
        },
        {
          "output_type": "stream",
          "name": "stdout",
          "text": [
            "mask.shape, min(mask),max(mask): (833, 1024, 2), 0,0\n",
            "rr.shape, min(rr),max(rr): (31513,), 114,322\n",
            "cc.shape, min(cc),max(cc): (31513,), 62,263\n",
            "After fixing the dirt mask, new values:\n",
            "rr.shape, min(rr),max(rr): (31513,), 114,322\n",
            "cc.shape, min(cc),max(cc): (31513,), 62,263\n",
            "mask.shape, min(mask),max(mask): (833, 1024, 2), 0,1\n",
            "rr.shape, min(rr),max(rr): (29853,), 101,305\n",
            "Epoch 1/5\n",
            "cc.shape, min(cc),max(cc): (29853,), 756,959\n",
            "After fixing the dirt mask, new values:\n",
            "rr.shape, min(rr),max(rr): (29853,), 101,305\n",
            "cc.shape, min(cc),max(cc): (29853,), 756,959\n"
          ]
        },
        {
          "output_type": "stream",
          "name": "stderr",
          "text": [
            "/usr/local/lib/python3.7/dist-packages/ipykernel_launcher.py:129: DeprecationWarning: `np.bool` is a deprecated alias for the builtin `bool`. To silence this warning, use `bool` by itself. Doing this will not modify any behavior and is safe. If you specifically wanted the numpy scalar type, use `np.bool_` here.\n",
            "Deprecated in NumPy 1.20; for more details and guidance: https://numpy.org/devdocs/release/1.20.0-notes.html#deprecations\n",
            "/usr/local/lib/python3.7/dist-packages/skimage/transform/_warps.py:830: FutureWarning: Input image dtype is bool. Interpolation is not defined with bool data type. Please set order to 0 or explicitely cast input image to another data type. Starting from version 0.19 a ValueError will be raised instead of this warning.\n",
            "  order = _validate_interpolation_order(image.dtype, order)\n"
          ]
        },
        {
          "output_type": "stream",
          "name": "stdout",
          "text": [
            "mask.shape, min(mask),max(mask): (1365, 2048, 1), 0,0\n",
            "rr.shape, min(rr),max(rr): (283761,), 469,1125\n",
            "cc.shape, min(cc),max(cc): (283761,), 777,1322\n",
            "After fixing the dirt mask, new values:\n",
            "rr.shape, min(rr),max(rr): (283761,), 469,1125\n",
            "cc.shape, min(cc),max(cc): (283761,), 777,1322\n"
          ]
        },
        {
          "output_type": "stream",
          "name": "stderr",
          "text": [
            "/usr/local/lib/python3.7/dist-packages/ipykernel_launcher.py:129: DeprecationWarning: `np.bool` is a deprecated alias for the builtin `bool`. To silence this warning, use `bool` by itself. Doing this will not modify any behavior and is safe. If you specifically wanted the numpy scalar type, use `np.bool_` here.\n",
            "Deprecated in NumPy 1.20; for more details and guidance: https://numpy.org/devdocs/release/1.20.0-notes.html#deprecations\n"
          ]
        },
        {
          "output_type": "stream",
          "name": "stdout",
          "text": [
            "mask.shape, min(mask),max(mask): (840, 1400, 1), 0,0\n",
            "rr.shape, min(rr),max(rr): (232786,), 146,644\n",
            "cc.shape, min(cc),max(cc): (232786,), 74,689\n",
            "After fixing the dirt mask, new values:\n",
            "rr.shape, min(rr),max(rr): (232786,), 146,644\n",
            "cc.shape, min(cc),max(cc): (232786,), 74,689\n"
          ]
        },
        {
          "output_type": "stream",
          "name": "stderr",
          "text": [
            "/usr/local/lib/python3.7/dist-packages/ipykernel_launcher.py:129: DeprecationWarning: `np.bool` is a deprecated alias for the builtin `bool`. To silence this warning, use `bool` by itself. Doing this will not modify any behavior and is safe. If you specifically wanted the numpy scalar type, use `np.bool_` here.\n",
            "Deprecated in NumPy 1.20; for more details and guidance: https://numpy.org/devdocs/release/1.20.0-notes.html#deprecations\n",
            "/usr/local/lib/python3.7/dist-packages/skimage/transform/_warps.py:830: FutureWarning: Input image dtype is bool. Interpolation is not defined with bool data type. Please set order to 0 or explicitely cast input image to another data type. Starting from version 0.19 a ValueError will be raised instead of this warning.\n",
            "  order = _validate_interpolation_order(image.dtype, order)\n",
            "/usr/local/lib/python3.7/dist-packages/skimage/transform/_warps.py:830: FutureWarning: Input image dtype is bool. Interpolation is not defined with bool data type. Please set order to 0 or explicitely cast input image to another data type. Starting from version 0.19 a ValueError will be raised instead of this warning.\n",
            "  order = _validate_interpolation_order(image.dtype, order)\n"
          ]
        },
        {
          "output_type": "stream",
          "name": "stdout",
          "text": [
            "mask.shape, min(mask),max(mask): (541, 812, 4), 0,0\n",
            "rr.shape, min(rr),max(rr): (82349,), 67,387\n",
            "cc.shape, min(cc),max(cc): (82349,), 283,641\n",
            "After fixing the dirt mask, new values:\n",
            "rr.shape, min(rr),max(rr): (82349,), 67,387\n",
            "cc.shape, min(cc),max(cc): (82349,), 283,641\n",
            "mask.shape, min(mask),max(mask): (541, 812, 4), 0,1\n",
            "rr.shape, min(rr),max(rr): (86074,), 4,326\n",
            "cc.shape, min(cc),max(cc): (86074,), 0,401\n",
            "After fixing the dirt mask, new values:\n",
            "rr.shape, min(rr),max(rr): (86074,), 4,326\n",
            "cc.shape, min(cc),max(cc): (86074,), 0,401\n",
            "mask.shape, min(mask),max(mask): (742, 1200, 1), 0,0\n",
            "mask.shape, min(mask),max(mask): (541, 812, 4), 0,1\n",
            "rr.shape, min(rr),max(rr): (19352,), 1,134\n",
            "rr.shape, min(rr),max(rr): (30802,), 93,279\n",
            "cc.shape, min(cc),max(cc): (30802,), 730,970\n",
            "cc.shape, min(cc),max(cc): (19352,), 398,664\n",
            "After fixing the dirt mask, new values:\n",
            "After fixing the dirt mask, new values:\n",
            "rr.shape, min(rr),max(rr): (19352,), 1,134\n",
            "rr.shape, min(rr),max(rr): (30802,), 93,279\n",
            "cc.shape, min(cc),max(cc): (19352,), 398,664\n",
            "cc.shape, min(cc),max(cc): (30802,), 730,970\n"
          ]
        },
        {
          "output_type": "stream",
          "name": "stderr",
          "text": [
            "/usr/local/lib/python3.7/dist-packages/ipykernel_launcher.py:129: DeprecationWarning: `np.bool` is a deprecated alias for the builtin `bool`. To silence this warning, use `bool` by itself. Doing this will not modify any behavior and is safe. If you specifically wanted the numpy scalar type, use `np.bool_` here.\n",
            "Deprecated in NumPy 1.20; for more details and guidance: https://numpy.org/devdocs/release/1.20.0-notes.html#deprecations\n"
          ]
        },
        {
          "output_type": "stream",
          "name": "stdout",
          "text": [
            "mask.shape, min(mask),max(mask): (541, 812, 4), 0,1\n",
            "rr.shape, min(rr),max(rr): (8580,), 0,72\n",
            "cc.shape, min(cc),max(cc): (8580,), 140,417\n",
            "After fixing the dirt mask, new values:\n",
            "rr.shape, min(rr),max(rr): (8580,), 0,72\n",
            "cc.shape, min(cc),max(cc): (8580,), 140,417\n"
          ]
        },
        {
          "output_type": "stream",
          "name": "stderr",
          "text": [
            "/usr/local/lib/python3.7/dist-packages/ipykernel_launcher.py:129: DeprecationWarning: `np.bool` is a deprecated alias for the builtin `bool`. To silence this warning, use `bool` by itself. Doing this will not modify any behavior and is safe. If you specifically wanted the numpy scalar type, use `np.bool_` here.\n",
            "Deprecated in NumPy 1.20; for more details and guidance: https://numpy.org/devdocs/release/1.20.0-notes.html#deprecations\n",
            "/usr/local/lib/python3.7/dist-packages/skimage/transform/_warps.py:830: FutureWarning: Input image dtype is bool. Interpolation is not defined with bool data type. Please set order to 0 or explicitely cast input image to another data type. Starting from version 0.19 a ValueError will be raised instead of this warning.\n",
            "  order = _validate_interpolation_order(image.dtype, order)\n",
            "/usr/local/lib/python3.7/dist-packages/skimage/transform/_warps.py:830: FutureWarning: Input image dtype is bool. Interpolation is not defined with bool data type. Please set order to 0 or explicitely cast input image to another data type. Starting from version 0.19 a ValueError will be raised instead of this warning.\n",
            "  order = _validate_interpolation_order(image.dtype, order)\n"
          ]
        },
        {
          "output_type": "stream",
          "name": "stdout",
          "text": [
            "mask.shape, min(mask),max(mask): (606, 606, 2), 0,0\n",
            "rr.shape, min(rr),max(rr): (78497,), 34,425\n",
            "cc.shape, min(cc),max(cc): (78497,), 114,474\n",
            "After fixing the dirt mask, new values:\n",
            "rr.shape, min(rr),max(rr): (78497,), 34,425\n",
            "cc.shape, min(cc),max(cc): (78497,), 114,474\n",
            "mask.shape, min(mask),max(mask): (606, 606, 2), 0,1\n",
            "rr.shape, min(rr),max(rr): (22891,), 178,441\n",
            "cc.shape, min(cc),max(cc): (22891,), 1,147\n",
            "After fixing the dirt mask, new values:\n",
            "rr.shape, min(rr),max(rr): (22891,), 178,441\n",
            "cc.shape, min(cc),max(cc): (22891,), 1,147\n"
          ]
        },
        {
          "output_type": "stream",
          "name": "stderr",
          "text": [
            "/usr/local/lib/python3.7/dist-packages/ipykernel_launcher.py:129: DeprecationWarning: `np.bool` is a deprecated alias for the builtin `bool`. To silence this warning, use `bool` by itself. Doing this will not modify any behavior and is safe. If you specifically wanted the numpy scalar type, use `np.bool_` here.\n",
            "Deprecated in NumPy 1.20; for more details and guidance: https://numpy.org/devdocs/release/1.20.0-notes.html#deprecations\n"
          ]
        },
        {
          "output_type": "stream",
          "name": "stdout",
          "text": [
            "mask.shape, min(mask),max(mask): (450, 600, 1), 0,0\n",
            "rr.shape, min(rr),max(rr): (4863,), 215,289\n",
            "cc.shape, min(cc),max(cc): (4863,), 336,433\n",
            "After fixing the dirt mask, new values:\n",
            "rr.shape, min(rr),max(rr): (4863,), 215,289\n",
            "cc.shape, min(cc),max(cc): (4863,), 336,433\n"
          ]
        },
        {
          "output_type": "stream",
          "name": "stderr",
          "text": [
            "/usr/local/lib/python3.7/dist-packages/ipykernel_launcher.py:129: DeprecationWarning: `np.bool` is a deprecated alias for the builtin `bool`. To silence this warning, use `bool` by itself. Doing this will not modify any behavior and is safe. If you specifically wanted the numpy scalar type, use `np.bool_` here.\n",
            "Deprecated in NumPy 1.20; for more details and guidance: https://numpy.org/devdocs/release/1.20.0-notes.html#deprecations\n",
            "/usr/local/lib/python3.7/dist-packages/skimage/transform/_warps.py:830: FutureWarning: Input image dtype is bool. Interpolation is not defined with bool data type. Please set order to 0 or explicitely cast input image to another data type. Starting from version 0.19 a ValueError will be raised instead of this warning.\n",
            "  order = _validate_interpolation_order(image.dtype, order)\n",
            "/usr/local/lib/python3.7/dist-packages/skimage/transform/_warps.py:830: FutureWarning: Input image dtype is bool. Interpolation is not defined with bool data type. Please set order to 0 or explicitely cast input image to another data type. Starting from version 0.19 a ValueError will be raised instead of this warning.\n",
            "  order = _validate_interpolation_order(image.dtype, order)\n"
          ]
        },
        {
          "output_type": "stream",
          "name": "stdout",
          "text": [
            "mask.shape, min(mask),max(mask): (1067, 1600, 1), 0,0\n",
            "rr.shape, min(rr),max(rr): (77179,), 7,344\n",
            "cc.shape, min(cc),max(cc): (77179,), 906,1260\n",
            "After fixing the dirt mask, new values:\n",
            "rr.shape, min(rr),max(rr): (77179,), 7,344\n",
            "cc.shape, min(cc),max(cc): (77179,), 906,1260\n"
          ]
        },
        {
          "output_type": "stream",
          "name": "stderr",
          "text": [
            "/usr/local/lib/python3.7/dist-packages/ipykernel_launcher.py:129: DeprecationWarning: `np.bool` is a deprecated alias for the builtin `bool`. To silence this warning, use `bool` by itself. Doing this will not modify any behavior and is safe. If you specifically wanted the numpy scalar type, use `np.bool_` here.\n",
            "Deprecated in NumPy 1.20; for more details and guidance: https://numpy.org/devdocs/release/1.20.0-notes.html#deprecations\n"
          ]
        },
        {
          "output_type": "stream",
          "name": "stdout",
          "text": [
            "mask.shape, min(mask),max(mask): (1024, 683, 1), 0,0\n",
            "rr.shape, min(rr),max(rr): (190428,), 472,1024\n",
            "cc.shape, min(cc),max(cc): (190428,), 92,577\n",
            "After fixing the dirt mask, new values:\n",
            "rr.shape, min(rr),max(rr): (190428,), 472,1023\n",
            "cc.shape, min(cc),max(cc): (190428,), 92,577\n"
          ]
        },
        {
          "output_type": "stream",
          "name": "stderr",
          "text": [
            "/usr/local/lib/python3.7/dist-packages/ipykernel_launcher.py:129: DeprecationWarning: `np.bool` is a deprecated alias for the builtin `bool`. To silence this warning, use `bool` by itself. Doing this will not modify any behavior and is safe. If you specifically wanted the numpy scalar type, use `np.bool_` here.\n",
            "Deprecated in NumPy 1.20; for more details and guidance: https://numpy.org/devdocs/release/1.20.0-notes.html#deprecations\n",
            "/usr/local/lib/python3.7/dist-packages/skimage/transform/_warps.py:830: FutureWarning: Input image dtype is bool. Interpolation is not defined with bool data type. Please set order to 0 or explicitely cast input image to another data type. Starting from version 0.19 a ValueError will be raised instead of this warning.\n",
            "  order = _validate_interpolation_order(image.dtype, order)\n",
            "/usr/local/lib/python3.7/dist-packages/skimage/transform/_warps.py:830: FutureWarning: Input image dtype is bool. Interpolation is not defined with bool data type. Please set order to 0 or explicitely cast input image to another data type. Starting from version 0.19 a ValueError will be raised instead of this warning.\n",
            "  order = _validate_interpolation_order(image.dtype, order)\n"
          ]
        },
        {
          "output_type": "stream",
          "name": "stdout",
          "text": [
            "mask.shape, min(mask),max(mask): (323, 450, 1), 0,0\n",
            "rr.shape, min(rr),max(rr): (29971,), 8,201\n",
            "cc.shape, min(cc),max(cc): (29971,), 228,420\n",
            "After fixing the dirt mask, new values:\n",
            "rr.shape, min(rr),max(rr): (29971,), 8,201\n",
            "cc.shape, min(cc),max(cc): (29971,), 228,420\n"
          ]
        },
        {
          "output_type": "stream",
          "name": "stderr",
          "text": [
            "/usr/local/lib/python3.7/dist-packages/ipykernel_launcher.py:129: DeprecationWarning: `np.bool` is a deprecated alias for the builtin `bool`. To silence this warning, use `bool` by itself. Doing this will not modify any behavior and is safe. If you specifically wanted the numpy scalar type, use `np.bool_` here.\n",
            "Deprecated in NumPy 1.20; for more details and guidance: https://numpy.org/devdocs/release/1.20.0-notes.html#deprecations\n"
          ]
        },
        {
          "output_type": "stream",
          "name": "stdout",
          "text": [
            "mask.shape, min(mask),max(mask): (1024, 1024, 3), 0,0\n",
            "rr.shape, min(rr),max(rr): (136221,), 394,822\n",
            "cc.shape, min(cc),max(cc): (136221,), 586,1005\n",
            "After fixing the dirt mask, new values:\n",
            "rr.shape, min(rr),max(rr): (136221,), 394,822\n",
            "cc.shape, min(cc),max(cc): (136221,), 586,1005\n"
          ]
        },
        {
          "output_type": "stream",
          "name": "stderr",
          "text": [
            "/usr/local/lib/python3.7/dist-packages/skimage/transform/_warps.py:830: FutureWarning: Input image dtype is bool. Interpolation is not defined with bool data type. Please set order to 0 or explicitely cast input image to another data type. Starting from version 0.19 a ValueError will be raised instead of this warning.\n",
            "  order = _validate_interpolation_order(image.dtype, order)\n"
          ]
        },
        {
          "output_type": "stream",
          "name": "stdout",
          "text": [
            "mask.shape, min(mask),max(mask): (1024, 1024, 3), 0,1\n",
            "rr.shape, min(rr),max(rr): (194833,), 402,869\n",
            "cc.shape, min(cc),max(cc): (194833,), 10,594\n",
            "After fixing the dirt mask, new values:\n",
            "rr.shape, min(rr),max(rr): (194833,), 402,869\n",
            "cc.shape, min(cc),max(cc): (194833,), 10,594\n",
            "mask.shape, min(mask),max(mask): (375, 500, 1), 0,0\n",
            "rr.shape, min(rr),max(rr): (23294,), 138,320\n",
            "cc.shape, min(cc),max(cc): (23294,), 54,243\n",
            "After fixing the dirt mask, new values:\n",
            "rr.shape, min(rr),max(rr): (23294,), 138,320\n",
            "cc.shape, min(cc),max(cc): (23294,), 54,243\n"
          ]
        },
        {
          "output_type": "stream",
          "name": "stderr",
          "text": [
            "/usr/local/lib/python3.7/dist-packages/ipykernel_launcher.py:129: DeprecationWarning: `np.bool` is a deprecated alias for the builtin `bool`. To silence this warning, use `bool` by itself. Doing this will not modify any behavior and is safe. If you specifically wanted the numpy scalar type, use `np.bool_` here.\n",
            "Deprecated in NumPy 1.20; for more details and guidance: https://numpy.org/devdocs/release/1.20.0-notes.html#deprecations\n"
          ]
        },
        {
          "output_type": "stream",
          "name": "stdout",
          "text": [
            "mask.shape, min(mask),max(mask): (1024, 1024, 3), 0,1\n",
            "rr.shape, min(rr),max(rr): (81556,), 162,539\n",
            "cc.shape, min(cc),max(cc): (81556,), 281,704\n",
            "After fixing the dirt mask, new values:\n",
            "rr.shape, min(rr),max(rr): (81556,), 162,539\n",
            "cc.shape, min(cc),max(cc): (81556,), 281,704\n"
          ]
        },
        {
          "output_type": "stream",
          "name": "stderr",
          "text": [
            "/usr/local/lib/python3.7/dist-packages/ipykernel_launcher.py:129: DeprecationWarning: `np.bool` is a deprecated alias for the builtin `bool`. To silence this warning, use `bool` by itself. Doing this will not modify any behavior and is safe. If you specifically wanted the numpy scalar type, use `np.bool_` here.\n",
            "Deprecated in NumPy 1.20; for more details and guidance: https://numpy.org/devdocs/release/1.20.0-notes.html#deprecations\n",
            "/usr/local/lib/python3.7/dist-packages/skimage/transform/_warps.py:830: FutureWarning: Input image dtype is bool. Interpolation is not defined with bool data type. Please set order to 0 or explicitely cast input image to another data type. Starting from version 0.19 a ValueError will be raised instead of this warning.\n",
            "  order = _validate_interpolation_order(image.dtype, order)\n",
            "/usr/local/lib/python3.7/dist-packages/skimage/transform/_warps.py:830: FutureWarning: Input image dtype is bool. Interpolation is not defined with bool data type. Please set order to 0 or explicitely cast input image to another data type. Starting from version 0.19 a ValueError will be raised instead of this warning.\n",
            "  order = _validate_interpolation_order(image.dtype, order)\n"
          ]
        },
        {
          "output_type": "stream",
          "name": "stdout",
          "text": [
            "mask.shape, min(mask),max(mask): (738, 1024, 1), 0,0\n",
            "rr.shape, min(rr),max(rr): (110846,), 327,729\n",
            "cc.shape, min(cc),max(cc): (110846,), 195,574\n",
            "After fixing the dirt mask, new values:\n",
            "mask.shape, min(mask),max(mask): (554, 900, 1), 0,0\n",
            "rr.shape, min(rr),max(rr): (64330,), 99,453\n",
            "cc.shape, min(cc),max(cc): (64330,), 56,323\n",
            "rr.shape, min(rr),max(rr): (110846,), 327,729\n",
            "After fixing the dirt mask, new values:\n",
            "cc.shape, min(cc),max(cc): (110846,), 195,574\n",
            "rr.shape, min(rr),max(rr): (64330,), 99,453\n",
            "cc.shape, min(cc),max(cc): (64330,), 56,323\n"
          ]
        },
        {
          "output_type": "stream",
          "name": "stderr",
          "text": [
            "/usr/local/lib/python3.7/dist-packages/ipykernel_launcher.py:129: DeprecationWarning: `np.bool` is a deprecated alias for the builtin `bool`. To silence this warning, use `bool` by itself. Doing this will not modify any behavior and is safe. If you specifically wanted the numpy scalar type, use `np.bool_` here.\n",
            "Deprecated in NumPy 1.20; for more details and guidance: https://numpy.org/devdocs/release/1.20.0-notes.html#deprecations\n",
            "/usr/local/lib/python3.7/dist-packages/ipykernel_launcher.py:129: DeprecationWarning: `np.bool` is a deprecated alias for the builtin `bool`. To silence this warning, use `bool` by itself. Doing this will not modify any behavior and is safe. If you specifically wanted the numpy scalar type, use `np.bool_` here.\n",
            "Deprecated in NumPy 1.20; for more details and guidance: https://numpy.org/devdocs/release/1.20.0-notes.html#deprecations\n",
            "/usr/local/lib/python3.7/dist-packages/skimage/transform/_warps.py:830: FutureWarning: Input image dtype is bool. Interpolation is not defined with bool data type. Please set order to 0 or explicitely cast input image to another data type. Starting from version 0.19 a ValueError will be raised instead of this warning.\n",
            "  order = _validate_interpolation_order(image.dtype, order)\n",
            "/usr/local/lib/python3.7/dist-packages/skimage/transform/_warps.py:830: FutureWarning: Input image dtype is bool. Interpolation is not defined with bool data type. Please set order to 0 or explicitely cast input image to another data type. Starting from version 0.19 a ValueError will be raised instead of this warning.\n",
            "  order = _validate_interpolation_order(image.dtype, order)\n"
          ]
        },
        {
          "output_type": "stream",
          "name": "stdout",
          "text": [
            "mask.shape, min(mask),max(mask): (335, 670, 1), 0,0\n",
            "rr.shape, min(rr),max(rr): (27770,), 0,247\n",
            "cc.shape, min(cc),max(cc): (27770,), 428,614\n",
            "After fixing the dirt mask, new values:\n",
            "rr.shape, min(rr),max(rr): (27770,), 0,247\n",
            "cc.shape, min(cc),max(cc): (27770,), 428,614\n"
          ]
        },
        {
          "output_type": "stream",
          "name": "stderr",
          "text": [
            "/usr/local/lib/python3.7/dist-packages/ipykernel_launcher.py:129: DeprecationWarning: `np.bool` is a deprecated alias for the builtin `bool`. To silence this warning, use `bool` by itself. Doing this will not modify any behavior and is safe. If you specifically wanted the numpy scalar type, use `np.bool_` here.\n",
            "Deprecated in NumPy 1.20; for more details and guidance: https://numpy.org/devdocs/release/1.20.0-notes.html#deprecations\n",
            "/usr/local/lib/python3.7/dist-packages/skimage/transform/_warps.py:830: FutureWarning: Input image dtype is bool. Interpolation is not defined with bool data type. Please set order to 0 or explicitely cast input image to another data type. Starting from version 0.19 a ValueError will be raised instead of this warning.\n",
            "  order = _validate_interpolation_order(image.dtype, order)\n"
          ]
        },
        {
          "output_type": "stream",
          "name": "stdout",
          "text": [
            "mask.shape, min(mask),max(mask): (480, 852, 1), 0,0\n",
            "rr.shape, min(rr),max(rr): (167163,), 0,459\n",
            "cc.shape, min(cc),max(cc): (167163,), 4,539\n",
            "After fixing the dirt mask, new values:\n",
            "rr.shape, min(rr),max(rr): (167163,), 0,459\n",
            "cc.shape, min(cc),max(cc): (167163,), 4,539\n"
          ]
        },
        {
          "output_type": "stream",
          "name": "stderr",
          "text": [
            "/usr/local/lib/python3.7/dist-packages/ipykernel_launcher.py:129: DeprecationWarning: `np.bool` is a deprecated alias for the builtin `bool`. To silence this warning, use `bool` by itself. Doing this will not modify any behavior and is safe. If you specifically wanted the numpy scalar type, use `np.bool_` here.\n",
            "Deprecated in NumPy 1.20; for more details and guidance: https://numpy.org/devdocs/release/1.20.0-notes.html#deprecations\n",
            "/usr/local/lib/python3.7/dist-packages/skimage/transform/_warps.py:830: FutureWarning: Input image dtype is bool. Interpolation is not defined with bool data type. Please set order to 0 or explicitely cast input image to another data type. Starting from version 0.19 a ValueError will be raised instead of this warning.\n",
            "  order = _validate_interpolation_order(image.dtype, order)\n"
          ]
        },
        {
          "output_type": "stream",
          "name": "stdout",
          "text": [
            "mask.shape, min(mask),max(mask): (450, 600, 1), 0,0\n",
            "rr.shape, min(rr),max(rr): (4863,), 215,289\n",
            "cc.shape, min(cc),max(cc): (4863,), 336,433\n",
            "After fixing the dirt mask, new values:\n",
            "rr.shape, min(rr),max(rr): (4863,), 215,289\n",
            "cc.shape, min(cc),max(cc): (4863,), 336,433\n"
          ]
        },
        {
          "output_type": "stream",
          "name": "stderr",
          "text": [
            "/usr/local/lib/python3.7/dist-packages/ipykernel_launcher.py:129: DeprecationWarning: `np.bool` is a deprecated alias for the builtin `bool`. To silence this warning, use `bool` by itself. Doing this will not modify any behavior and is safe. If you specifically wanted the numpy scalar type, use `np.bool_` here.\n",
            "Deprecated in NumPy 1.20; for more details and guidance: https://numpy.org/devdocs/release/1.20.0-notes.html#deprecations\n"
          ]
        },
        {
          "output_type": "stream",
          "name": "stdout",
          "text": [
            "mask.shape, min(mask),max(mask): (1200, 800, 1), 0,0\n",
            "rr.shape, min(rr),max(rr): (215719,), 494,1045\n",
            "cc.shape, min(cc),max(cc): (215719,), 64,588\n",
            "After fixing the dirt mask, new values:\n",
            "rr.shape, min(rr),max(rr): (215719,), 494,1045\n",
            "cc.shape, min(cc),max(cc): (215719,), 64,588\n"
          ]
        },
        {
          "output_type": "stream",
          "name": "stderr",
          "text": [
            "/usr/local/lib/python3.7/dist-packages/ipykernel_launcher.py:129: DeprecationWarning: `np.bool` is a deprecated alias for the builtin `bool`. To silence this warning, use `bool` by itself. Doing this will not modify any behavior and is safe. If you specifically wanted the numpy scalar type, use `np.bool_` here.\n",
            "Deprecated in NumPy 1.20; for more details and guidance: https://numpy.org/devdocs/release/1.20.0-notes.html#deprecations\n",
            "/usr/local/lib/python3.7/dist-packages/skimage/transform/_warps.py:830: FutureWarning: Input image dtype is bool. Interpolation is not defined with bool data type. Please set order to 0 or explicitely cast input image to another data type. Starting from version 0.19 a ValueError will be raised instead of this warning.\n",
            "  order = _validate_interpolation_order(image.dtype, order)\n",
            "/usr/local/lib/python3.7/dist-packages/skimage/transform/_warps.py:830: FutureWarning: Input image dtype is bool. Interpolation is not defined with bool data type. Please set order to 0 or explicitely cast input image to another data type. Starting from version 0.19 a ValueError will be raised instead of this warning.\n",
            "  order = _validate_interpolation_order(image.dtype, order)\n"
          ]
        },
        {
          "output_type": "stream",
          "name": "stdout",
          "text": [
            "mask.shape, min(mask),max(mask): (1000, 1000, 1), 0,0\n",
            "rr.shape, min(rr),max(rr): (73133,), 391,703\n",
            "cc.shape, min(cc),max(cc): (73133,), 351,674\n",
            "After fixing the dirt mask, new values:\n",
            "rr.shape, min(rr),max(rr): (73133,), 391,703\n",
            "cc.shape, min(cc),max(cc): (73133,), 351,674\n"
          ]
        },
        {
          "output_type": "stream",
          "name": "stderr",
          "text": [
            "/usr/local/lib/python3.7/dist-packages/ipykernel_launcher.py:129: DeprecationWarning: `np.bool` is a deprecated alias for the builtin `bool`. To silence this warning, use `bool` by itself. Doing this will not modify any behavior and is safe. If you specifically wanted the numpy scalar type, use `np.bool_` here.\n",
            "Deprecated in NumPy 1.20; for more details and guidance: https://numpy.org/devdocs/release/1.20.0-notes.html#deprecations\n",
            "/usr/local/lib/python3.7/dist-packages/skimage/transform/_warps.py:830: FutureWarning: Input image dtype is bool. Interpolation is not defined with bool data type. Please set order to 0 or explicitely cast input image to another data type. Starting from version 0.19 a ValueError will be raised instead of this warning.\n",
            "  order = _validate_interpolation_order(image.dtype, order)\n"
          ]
        },
        {
          "output_type": "stream",
          "name": "stdout",
          "text": [
            "mask.shape, min(mask),max(mask): (540, 960, 1), 0,0\n",
            "rr.shape, min(rr),max(rr): (83168,), 115,454\n",
            "cc.shape, min(cc),max(cc): (83168,), 306,657\n",
            "After fixing the dirt mask, new values:\n",
            "rr.shape, min(rr),max(rr): (83168,), 115,454\n",
            "cc.shape, min(cc),max(cc): (83168,), 306,657\n"
          ]
        },
        {
          "output_type": "stream",
          "name": "stderr",
          "text": [
            "/usr/local/lib/python3.7/dist-packages/ipykernel_launcher.py:129: DeprecationWarning: `np.bool` is a deprecated alias for the builtin `bool`. To silence this warning, use `bool` by itself. Doing this will not modify any behavior and is safe. If you specifically wanted the numpy scalar type, use `np.bool_` here.\n",
            "Deprecated in NumPy 1.20; for more details and guidance: https://numpy.org/devdocs/release/1.20.0-notes.html#deprecations\n"
          ]
        },
        {
          "output_type": "stream",
          "name": "stdout",
          "text": [
            "mask.shape, min(mask),max(mask): (640, 640, 3), 0,0\n",
            "rr.shape, min(rr),max(rr): (34105,), 436,639\n",
            "cc.shape, min(cc),max(cc): (34105,), 299,508\n",
            "After fixing the dirt mask, new values:\n",
            "rr.shape, min(rr),max(rr): (34105,), 436,639\n",
            "cc.shape, min(cc),max(cc): (34105,), 299,508\n",
            "mask.shape, min(mask),max(mask): (640, 640, 3), 0,1\n",
            "rr.shape, min(rr),max(rr): (38334,), 332,611\n"
          ]
        },
        {
          "output_type": "stream",
          "name": "stderr",
          "text": [
            "/usr/local/lib/python3.7/dist-packages/skimage/transform/_warps.py:830: FutureWarning: Input image dtype is bool. Interpolation is not defined with bool data type. Please set order to 0 or explicitely cast input image to another data type. Starting from version 0.19 a ValueError will be raised instead of this warning.\n",
            "  order = _validate_interpolation_order(image.dtype, order)\n"
          ]
        },
        {
          "output_type": "stream",
          "name": "stdout",
          "text": [
            "cc.shape, min(cc),max(cc): (38334,), 139,356\n",
            "After fixing the dirt mask, new values:\n",
            "rr.shape, min(rr),max(rr): (38334,), 332,611\n",
            "cc.shape, min(cc),max(cc): (38334,), 139,356\n",
            "mask.shape, min(mask),max(mask): (640, 640, 3), 0,1\n",
            "rr.shape, min(rr),max(rr): (36504,), 126,346\n",
            "cc.shape, min(cc),max(cc): (36504,), 196,421\n",
            "After fixing the dirt mask, new values:\n",
            "rr.shape, min(rr),max(rr): (36504,), 126,346\n",
            "cc.shape, min(cc),max(cc): (36504,), 196,421\n"
          ]
        },
        {
          "output_type": "stream",
          "name": "stderr",
          "text": [
            "/usr/local/lib/python3.7/dist-packages/ipykernel_launcher.py:129: DeprecationWarning: `np.bool` is a deprecated alias for the builtin `bool`. To silence this warning, use `bool` by itself. Doing this will not modify any behavior and is safe. If you specifically wanted the numpy scalar type, use `np.bool_` here.\n",
            "Deprecated in NumPy 1.20; for more details and guidance: https://numpy.org/devdocs/release/1.20.0-notes.html#deprecations\n",
            "/usr/local/lib/python3.7/dist-packages/skimage/transform/_warps.py:830: FutureWarning: Input image dtype is bool. Interpolation is not defined with bool data type. Please set order to 0 or explicitely cast input image to another data type. Starting from version 0.19 a ValueError will be raised instead of this warning.\n",
            "  order = _validate_interpolation_order(image.dtype, order)\n"
          ]
        },
        {
          "output_type": "stream",
          "name": "stdout",
          "text": [
            "mask.shape, min(mask),max(mask): (840, 1400, 1), 0,0\n",
            "rr.shape, min(rr),max(rr): (232786,), 146,644\n",
            "cc.shape, min(cc),max(cc): (232786,), 74,689\n",
            "After fixing the dirt mask, new values:\n",
            "rr.shape, min(rr),max(rr): (232786,), 146,644\n",
            "cc.shape, min(cc),max(cc): (232786,), 74,689\n"
          ]
        },
        {
          "output_type": "stream",
          "name": "stderr",
          "text": [
            "/usr/local/lib/python3.7/dist-packages/ipykernel_launcher.py:129: DeprecationWarning: `np.bool` is a deprecated alias for the builtin `bool`. To silence this warning, use `bool` by itself. Doing this will not modify any behavior and is safe. If you specifically wanted the numpy scalar type, use `np.bool_` here.\n",
            "Deprecated in NumPy 1.20; for more details and guidance: https://numpy.org/devdocs/release/1.20.0-notes.html#deprecations\n",
            "/usr/local/lib/python3.7/dist-packages/skimage/transform/_warps.py:830: FutureWarning: Input image dtype is bool. Interpolation is not defined with bool data type. Please set order to 0 or explicitely cast input image to another data type. Starting from version 0.19 a ValueError will be raised instead of this warning.\n",
            "  order = _validate_interpolation_order(image.dtype, order)\n"
          ]
        },
        {
          "output_type": "stream",
          "name": "stdout",
          "text": [
            "mask.shape, min(mask),max(mask): (681, 1024, 1), 0,0\n",
            "rr.shape, min(rr),max(rr): (236138,), 65,648\n",
            "cc.shape, min(cc),max(cc): (236138,), 0,577\n",
            "After fixing the dirt mask, new values:\n",
            "rr.shape, min(rr),max(rr): (236138,), 65,648\n",
            "cc.shape, min(cc),max(cc): (236138,), 0,577\n"
          ]
        },
        {
          "output_type": "stream",
          "name": "stderr",
          "text": [
            "/usr/local/lib/python3.7/dist-packages/ipykernel_launcher.py:129: DeprecationWarning: `np.bool` is a deprecated alias for the builtin `bool`. To silence this warning, use `bool` by itself. Doing this will not modify any behavior and is safe. If you specifically wanted the numpy scalar type, use `np.bool_` here.\n",
            "Deprecated in NumPy 1.20; for more details and guidance: https://numpy.org/devdocs/release/1.20.0-notes.html#deprecations\n",
            "/usr/local/lib/python3.7/dist-packages/skimage/transform/_warps.py:830: FutureWarning: Input image dtype is bool. Interpolation is not defined with bool data type. Please set order to 0 or explicitely cast input image to another data type. Starting from version 0.19 a ValueError will be raised instead of this warning.\n",
            "  order = _validate_interpolation_order(image.dtype, order)\n"
          ]
        },
        {
          "output_type": "stream",
          "name": "stdout",
          "text": [
            "mask.shape, min(mask),max(mask): (400, 600, 2), 0,0\n",
            "rr.shape, min(rr),max(rr): (23604,), 141,325\n",
            "cc.shape, min(cc),max(cc): (23604,), 321,511\n",
            "After fixing the dirt mask, new values:\n",
            "rr.shape, min(rr),max(rr): (23604,), 141,325\n",
            "cc.shape, min(cc),max(cc): (23604,), 321,511\n",
            "mask.shape, min(mask),max(mask): (400, 600, 2), 0,1\n",
            "rr.shape, min(rr),max(rr): (19192,), 149,309\n",
            "cc.shape, min(cc),max(cc): (19192,), 53,210\n",
            "After fixing the dirt mask, new values:\n",
            "rr.shape, min(rr),max(rr): (19192,), 149,309\n",
            "cc.shape, min(cc),max(cc): (19192,), 53,210\n"
          ]
        },
        {
          "output_type": "stream",
          "name": "stderr",
          "text": [
            "/usr/local/lib/python3.7/dist-packages/ipykernel_launcher.py:129: DeprecationWarning: `np.bool` is a deprecated alias for the builtin `bool`. To silence this warning, use `bool` by itself. Doing this will not modify any behavior and is safe. If you specifically wanted the numpy scalar type, use `np.bool_` here.\n",
            "Deprecated in NumPy 1.20; for more details and guidance: https://numpy.org/devdocs/release/1.20.0-notes.html#deprecations\n"
          ]
        },
        {
          "output_type": "stream",
          "name": "stdout",
          "text": [
            "mask.shape, min(mask),max(mask): (1382, 2048, 3), 0,0\n",
            "rr.shape, min(rr),max(rr): (255266,), 199,735\n",
            "cc.shape, min(cc),max(cc): (255266,), 726,1306\n",
            "After fixing the dirt mask, new values:\n",
            "rr.shape, min(rr),max(rr): (255266,), 199,735\n",
            "cc.shape, min(cc),max(cc): (255266,), 726,1306\n"
          ]
        },
        {
          "output_type": "stream",
          "name": "stderr",
          "text": [
            "/usr/local/lib/python3.7/dist-packages/skimage/transform/_warps.py:830: FutureWarning: Input image dtype is bool. Interpolation is not defined with bool data type. Please set order to 0 or explicitely cast input image to another data type. Starting from version 0.19 a ValueError will be raised instead of this warning.\n",
            "  order = _validate_interpolation_order(image.dtype, order)\n"
          ]
        },
        {
          "output_type": "stream",
          "name": "stdout",
          "text": [
            "mask.shape, min(mask),max(mask): (1382, 2048, 3), 0,1\n",
            "rr.shape, min(rr),max(rr): (170340,), 729,1167\n",
            "cc.shape, min(cc),max(cc): (170340,), 822,1287\n",
            "After fixing the dirt mask, new values:\n",
            "rr.shape, min(rr),max(rr): (170340,), 729,1167\n",
            "cc.shape, min(cc),max(cc): (170340,), 822,1287\n",
            "mask.shape, min(mask),max(mask): (1382, 2048, 3), 0,1\n",
            "rr.shape, min(rr),max(rr): (122348,), 1111,1381\n",
            "cc.shape, min(cc),max(cc): (122348,), 755,1325\n",
            "After fixing the dirt mask, new values:\n",
            "rr.shape, min(rr),max(rr): (122348,), 1111,1381\n",
            "cc.shape, min(cc),max(cc): (122348,), 755,1325\n"
          ]
        },
        {
          "output_type": "stream",
          "name": "stderr",
          "text": [
            "/usr/local/lib/python3.7/dist-packages/ipykernel_launcher.py:129: DeprecationWarning: `np.bool` is a deprecated alias for the builtin `bool`. To silence this warning, use `bool` by itself. Doing this will not modify any behavior and is safe. If you specifically wanted the numpy scalar type, use `np.bool_` here.\n",
            "Deprecated in NumPy 1.20; for more details and guidance: https://numpy.org/devdocs/release/1.20.0-notes.html#deprecations\n",
            "/usr/local/lib/python3.7/dist-packages/skimage/transform/_warps.py:830: FutureWarning: Input image dtype is bool. Interpolation is not defined with bool data type. Please set order to 0 or explicitely cast input image to another data type. Starting from version 0.19 a ValueError will be raised instead of this warning.\n",
            "  order = _validate_interpolation_order(image.dtype, order)\n"
          ]
        },
        {
          "output_type": "stream",
          "name": "stdout",
          "text": [
            "mask.shape, min(mask),max(mask): (1382, 2048, 3), 0,0\n",
            "rr.shape, min(rr),max(rr): (255266,), 199,735\n",
            "cc.shape, min(cc),max(cc): (255266,), 726,1306\n",
            "After fixing the dirt mask, new values:\n",
            "rr.shape, min(rr),max(rr): (255266,), 199,735\n",
            "cc.shape, min(cc),max(cc): (255266,), 726,1306\n",
            "mask.shape, min(mask),max(mask): (640, 572, 1), 0,0\n",
            "mask.shape, min(mask),max(mask): (1382, 2048, 3), 0,1\n",
            "rr.shape, min(rr),max(rr): (170340,), 729,1167\n",
            "cc.shape, min(cc),max(cc): (170340,), 822,1287\n",
            "After fixing the dirt mask, new values:\n",
            "rr.shape, min(rr),max(rr): (170340,), 729,1167\n",
            "rr.shape, min(rr),max(rr): (223009,), 35,607\n",
            "cc.shape, min(cc),max(cc): (223009,), 35,537\n",
            "cc.shape, min(cc),max(cc): (170340,), 822,1287\n",
            "After fixing the dirt mask, new values:\n",
            "rr.shape, min(rr),max(rr): (223009,), 35,607\n",
            "cc.shape, min(cc),max(cc): (223009,), 35,537\n"
          ]
        },
        {
          "output_type": "stream",
          "name": "stderr",
          "text": [
            "/usr/local/lib/python3.7/dist-packages/ipykernel_launcher.py:129: DeprecationWarning: `np.bool` is a deprecated alias for the builtin `bool`. To silence this warning, use `bool` by itself. Doing this will not modify any behavior and is safe. If you specifically wanted the numpy scalar type, use `np.bool_` here.\n",
            "Deprecated in NumPy 1.20; for more details and guidance: https://numpy.org/devdocs/release/1.20.0-notes.html#deprecations\n"
          ]
        },
        {
          "output_type": "stream",
          "name": "stdout",
          "text": [
            "mask.shape, min(mask),max(mask): (1382, 2048, 3), 0,1\n",
            "rr.shape, min(rr),max(rr): (122348,), 1111,1381\n",
            "cc.shape, min(cc),max(cc): (122348,), 755,1325\n",
            "After fixing the dirt mask, new values:\n",
            "rr.shape, min(rr),max(rr): (122348,), 1111,1381\n",
            "cc.shape, min(cc),max(cc): (122348,), 755,1325\n"
          ]
        },
        {
          "output_type": "stream",
          "name": "stderr",
          "text": [
            "/usr/local/lib/python3.7/dist-packages/ipykernel_launcher.py:129: DeprecationWarning: `np.bool` is a deprecated alias for the builtin `bool`. To silence this warning, use `bool` by itself. Doing this will not modify any behavior and is safe. If you specifically wanted the numpy scalar type, use `np.bool_` here.\n",
            "Deprecated in NumPy 1.20; for more details and guidance: https://numpy.org/devdocs/release/1.20.0-notes.html#deprecations\n",
            "/usr/local/lib/python3.7/dist-packages/skimage/transform/_warps.py:830: FutureWarning: Input image dtype is bool. Interpolation is not defined with bool data type. Please set order to 0 or explicitely cast input image to another data type. Starting from version 0.19 a ValueError will be raised instead of this warning.\n",
            "  order = _validate_interpolation_order(image.dtype, order)\n",
            "/usr/local/lib/python3.7/dist-packages/skimage/transform/_warps.py:830: FutureWarning: Input image dtype is bool. Interpolation is not defined with bool data type. Please set order to 0 or explicitely cast input image to another data type. Starting from version 0.19 a ValueError will be raised instead of this warning.\n",
            "  order = _validate_interpolation_order(image.dtype, order)\n"
          ]
        },
        {
          "output_type": "stream",
          "name": "stdout",
          "text": [
            "mask.shape, min(mask),max(mask): (1067, 1600, 1), 0,0\n",
            "rr.shape, min(rr),max(rr): (226384,), 193,748\n",
            "cc.shape, min(cc),max(cc): (226384,), 244,750\n",
            "After fixing the dirt mask, new values:\n",
            "rr.shape, min(rr),max(rr): (226384,), 193,748\n",
            "cc.shape, min(cc),max(cc): (226384,), 244,750\n"
          ]
        },
        {
          "output_type": "stream",
          "name": "stderr",
          "text": [
            "/usr/local/lib/python3.7/dist-packages/ipykernel_launcher.py:129: DeprecationWarning: `np.bool` is a deprecated alias for the builtin `bool`. To silence this warning, use `bool` by itself. Doing this will not modify any behavior and is safe. If you specifically wanted the numpy scalar type, use `np.bool_` here.\n",
            "Deprecated in NumPy 1.20; for more details and guidance: https://numpy.org/devdocs/release/1.20.0-notes.html#deprecations\n",
            "/usr/local/lib/python3.7/dist-packages/skimage/transform/_warps.py:830: FutureWarning: Input image dtype is bool. Interpolation is not defined with bool data type. Please set order to 0 or explicitely cast input image to another data type. Starting from version 0.19 a ValueError will be raised instead of this warning.\n",
            "  order = _validate_interpolation_order(image.dtype, order)\n"
          ]
        },
        {
          "output_type": "stream",
          "name": "stdout",
          "text": [
            "mask.shape, min(mask),max(mask): (1440, 2560, 1), 0,0\n",
            "rr.shape, min(rr),max(rr): (206108,), 125,592\n",
            "cc.shape, min(cc),max(cc): (206108,), 965,1545\n",
            "After fixing the dirt mask, new values:\n",
            "rr.shape, min(rr),max(rr): (206108,), 125,592\n",
            "cc.shape, min(cc),max(cc): (206108,), 965,1545\n"
          ]
        },
        {
          "output_type": "stream",
          "name": "stderr",
          "text": [
            "/usr/local/lib/python3.7/dist-packages/ipykernel_launcher.py:129: DeprecationWarning: `np.bool` is a deprecated alias for the builtin `bool`. To silence this warning, use `bool` by itself. Doing this will not modify any behavior and is safe. If you specifically wanted the numpy scalar type, use `np.bool_` here.\n",
            "Deprecated in NumPy 1.20; for more details and guidance: https://numpy.org/devdocs/release/1.20.0-notes.html#deprecations\n",
            "/usr/local/lib/python3.7/dist-packages/skimage/transform/_warps.py:830: FutureWarning: Input image dtype is bool. Interpolation is not defined with bool data type. Please set order to 0 or explicitely cast input image to another data type. Starting from version 0.19 a ValueError will be raised instead of this warning.\n",
            "  order = _validate_interpolation_order(image.dtype, order)\n"
          ]
        },
        {
          "output_type": "stream",
          "name": "stdout",
          "text": [
            "mask.shape, min(mask),max(mask): (1356, 2047, 1), 0,0\n",
            "mask.shape, min(mask),max(mask): (540, 960, 1), 0,0\n",
            "rr.shape, min(rr),max(rr): (83168,), 115,454\n",
            "rr.shape, min(rr),max(rr): (597074,), 240,1146\n",
            "cc.shape, min(cc),max(cc): (83168,), 306,657\n",
            "After fixing the dirt mask, new values:\n",
            "cc.shape, min(cc),max(cc): (597074,), 1073,1970\n",
            "rr.shape, min(rr),max(rr): (83168,), 115,454\n",
            "After fixing the dirt mask, new values:\n",
            "cc.shape, min(cc),max(cc): (83168,), 306,657\n",
            "rr.shape, min(rr),max(rr): (597074,), 240,1146\n"
          ]
        },
        {
          "output_type": "stream",
          "name": "stderr",
          "text": [
            "/usr/local/lib/python3.7/dist-packages/ipykernel_launcher.py:129: DeprecationWarning: `np.bool` is a deprecated alias for the builtin `bool`. To silence this warning, use `bool` by itself. Doing this will not modify any behavior and is safe. If you specifically wanted the numpy scalar type, use `np.bool_` here.\n",
            "Deprecated in NumPy 1.20; for more details and guidance: https://numpy.org/devdocs/release/1.20.0-notes.html#deprecations\n"
          ]
        },
        {
          "output_type": "stream",
          "name": "stdout",
          "text": [
            "cc.shape, min(cc),max(cc): (597074,), 1073,1970\n"
          ]
        },
        {
          "output_type": "stream",
          "name": "stderr",
          "text": [
            "/usr/local/lib/python3.7/dist-packages/ipykernel_launcher.py:129: DeprecationWarning: `np.bool` is a deprecated alias for the builtin `bool`. To silence this warning, use `bool` by itself. Doing this will not modify any behavior and is safe. If you specifically wanted the numpy scalar type, use `np.bool_` here.\n",
            "Deprecated in NumPy 1.20; for more details and guidance: https://numpy.org/devdocs/release/1.20.0-notes.html#deprecations\n",
            "/usr/local/lib/python3.7/dist-packages/skimage/transform/_warps.py:830: FutureWarning: Input image dtype is bool. Interpolation is not defined with bool data type. Please set order to 0 or explicitely cast input image to another data type. Starting from version 0.19 a ValueError will be raised instead of this warning.\n",
            "  order = _validate_interpolation_order(image.dtype, order)\n",
            "/usr/local/lib/python3.7/dist-packages/skimage/transform/_warps.py:830: FutureWarning: Input image dtype is bool. Interpolation is not defined with bool data type. Please set order to 0 or explicitely cast input image to another data type. Starting from version 0.19 a ValueError will be raised instead of this warning.\n",
            "  order = _validate_interpolation_order(image.dtype, order)\n"
          ]
        },
        {
          "output_type": "stream",
          "name": "stdout",
          "text": [
            "mask.shape, min(mask),max(mask): (519, 519, 1), 0,0\n",
            "rr.shape, min(rr),max(rr): (45588,), 147,415\n",
            "cc.shape, min(cc),max(cc): (45588,), 247,472\n",
            "After fixing the dirt mask, new values:\n",
            "rr.shape, min(rr),max(rr): (45588,), 147,415\n",
            "cc.shape, min(cc),max(cc): (45588,), 247,472\n"
          ]
        },
        {
          "output_type": "stream",
          "name": "stderr",
          "text": [
            "/usr/local/lib/python3.7/dist-packages/ipykernel_launcher.py:129: DeprecationWarning: `np.bool` is a deprecated alias for the builtin `bool`. To silence this warning, use `bool` by itself. Doing this will not modify any behavior and is safe. If you specifically wanted the numpy scalar type, use `np.bool_` here.\n",
            "Deprecated in NumPy 1.20; for more details and guidance: https://numpy.org/devdocs/release/1.20.0-notes.html#deprecations\n"
          ]
        },
        {
          "output_type": "stream",
          "name": "stdout",
          "text": [
            "mask.shape, min(mask),max(mask): (1020, 1920, 2), 0,0\n",
            "rr.shape, min(rr),max(rr): (167722,), 520,995\n",
            "cc.shape, min(cc),max(cc): (167722,), 587,1030\n",
            "After fixing the dirt mask, new values:\n",
            "rr.shape, min(rr),max(rr): (167722,), 520,995\n",
            "cc.shape, min(cc),max(cc): (167722,), 587,1030\n"
          ]
        },
        {
          "output_type": "stream",
          "name": "stderr",
          "text": [
            "/usr/local/lib/python3.7/dist-packages/skimage/transform/_warps.py:830: FutureWarning: Input image dtype is bool. Interpolation is not defined with bool data type. Please set order to 0 or explicitely cast input image to another data type. Starting from version 0.19 a ValueError will be raised instead of this warning.\n",
            "  order = _validate_interpolation_order(image.dtype, order)\n"
          ]
        },
        {
          "output_type": "stream",
          "name": "stdout",
          "text": [
            "mask.shape, min(mask),max(mask): (1020, 1920, 2), 0,1\n",
            "rr.shape, min(rr),max(rr): (241000,), 291,866\n",
            "cc.shape, min(cc),max(cc): (241000,), 62,573\n",
            "mask.shape, min(mask),max(mask): (640, 960, 1), 0,0\n",
            "After fixing the dirt mask, new values:\n",
            "rr.shape, min(rr),max(rr): (241000,), 291,866\n",
            "rr.shape, min(rr),max(rr): (113998,), 136,541\n",
            "cc.shape, min(cc),max(cc): (241000,), 62,573\n",
            "cc.shape, min(cc),max(cc): (113998,), 299,665\n"
          ]
        },
        {
          "output_type": "stream",
          "name": "stderr",
          "text": [
            "/usr/local/lib/python3.7/dist-packages/ipykernel_launcher.py:129: DeprecationWarning: `np.bool` is a deprecated alias for the builtin `bool`. To silence this warning, use `bool` by itself. Doing this will not modify any behavior and is safe. If you specifically wanted the numpy scalar type, use `np.bool_` here.\n",
            "Deprecated in NumPy 1.20; for more details and guidance: https://numpy.org/devdocs/release/1.20.0-notes.html#deprecations\n"
          ]
        },
        {
          "output_type": "stream",
          "name": "stdout",
          "text": [
            "After fixing the dirt mask, new values:\n",
            "rr.shape, min(rr),max(rr): (113998,), 136,541\n",
            "cc.shape, min(cc),max(cc): (113998,), 299,665\n"
          ]
        },
        {
          "output_type": "stream",
          "name": "stderr",
          "text": [
            "/usr/local/lib/python3.7/dist-packages/ipykernel_launcher.py:129: DeprecationWarning: `np.bool` is a deprecated alias for the builtin `bool`. To silence this warning, use `bool` by itself. Doing this will not modify any behavior and is safe. If you specifically wanted the numpy scalar type, use `np.bool_` here.\n",
            "Deprecated in NumPy 1.20; for more details and guidance: https://numpy.org/devdocs/release/1.20.0-notes.html#deprecations\n",
            "/usr/local/lib/python3.7/dist-packages/skimage/transform/_warps.py:830: FutureWarning: Input image dtype is bool. Interpolation is not defined with bool data type. Please set order to 0 or explicitely cast input image to another data type. Starting from version 0.19 a ValueError will be raised instead of this warning.\n",
            "  order = _validate_interpolation_order(image.dtype, order)\n",
            "/usr/local/lib/python3.7/dist-packages/skimage/transform/_warps.py:830: FutureWarning: Input image dtype is bool. Interpolation is not defined with bool data type. Please set order to 0 or explicitely cast input image to another data type. Starting from version 0.19 a ValueError will be raised instead of this warning.\n",
            "  order = _validate_interpolation_order(image.dtype, order)\n"
          ]
        },
        {
          "output_type": "stream",
          "name": "stdout",
          "text": [
            "mask.shape, min(mask),max(mask): (800, 600, 2), 0,0\n",
            "rr.shape, min(rr),max(rr): (85779,), 145,520\n",
            "cc.shape, min(cc),max(cc): (85779,), 183,488\n",
            "After fixing the dirt mask, new values:\n",
            "rr.shape, min(rr),max(rr): (85779,), 145,520\n",
            "cc.shape, min(cc),max(cc): (85779,), 183,488\n",
            "mask.shape, min(mask),max(mask): (800, 600, 2), 0,1\n",
            "rr.shape, min(rr),max(rr): (21232,), 0,159\n",
            "cc.shape, min(cc),max(cc): (21232,), 266,428\n",
            "After fixing the dirt mask, new values:\n",
            "rr.shape, min(rr),max(rr): (21232,), 0,159\n",
            "cc.shape, min(cc),max(cc): (21232,), 266,428\n"
          ]
        },
        {
          "output_type": "stream",
          "name": "stderr",
          "text": [
            "/usr/local/lib/python3.7/dist-packages/ipykernel_launcher.py:129: DeprecationWarning: `np.bool` is a deprecated alias for the builtin `bool`. To silence this warning, use `bool` by itself. Doing this will not modify any behavior and is safe. If you specifically wanted the numpy scalar type, use `np.bool_` here.\n",
            "Deprecated in NumPy 1.20; for more details and guidance: https://numpy.org/devdocs/release/1.20.0-notes.html#deprecations\n"
          ]
        },
        {
          "output_type": "stream",
          "name": "stdout",
          "text": [
            "mask.shape, min(mask),max(mask): (540, 540, 3), 0,0\n",
            "rr.shape, min(rr),max(rr): (50860,), 13,364\n",
            "cc.shape, min(cc),max(cc): (50860,), 274,506\n",
            "After fixing the dirt mask, new values:\n",
            "rr.shape, min(rr),max(rr): (50860,), 13,364\n",
            "cc.shape, min(cc),max(cc): (50860,), 274,506\n",
            "mask.shape, min(mask),max(mask): (540, 540, 3), 0,1\n",
            "rr.shape, min(rr),max(rr): (66638,), 232,527\n",
            "cc.shape, min(cc),max(cc): (66638,), 124,446\n",
            "After fixing the dirt mask, new values:\n",
            "rr.shape, min(rr),max(rr): (66638,), 232,527\n",
            "cc.shape, min(cc),max(cc): (66638,), 124,446\n",
            "mask.shape, min(mask),max(mask): (540, 540, 3), 0,1\n",
            "rr.shape, min(rr),max(rr): (46383,), 61,340\n",
            "cc.shape, min(cc),max(cc): (46383,), 28,281\n",
            "After fixing the dirt mask, new values:\n",
            "rr.shape, min(rr),max(rr): (46383,), 61,340\n"
          ]
        },
        {
          "output_type": "stream",
          "name": "stderr",
          "text": [
            "/usr/local/lib/python3.7/dist-packages/skimage/transform/_warps.py:830: FutureWarning: Input image dtype is bool. Interpolation is not defined with bool data type. Please set order to 0 or explicitely cast input image to another data type. Starting from version 0.19 a ValueError will be raised instead of this warning.\n",
            "  order = _validate_interpolation_order(image.dtype, order)\n"
          ]
        },
        {
          "output_type": "stream",
          "name": "stdout",
          "text": [
            "cc.shape, min(cc),max(cc): (46383,), 28,281\n"
          ]
        },
        {
          "output_type": "stream",
          "name": "stderr",
          "text": [
            "/usr/local/lib/python3.7/dist-packages/ipykernel_launcher.py:129: DeprecationWarning: `np.bool` is a deprecated alias for the builtin `bool`. To silence this warning, use `bool` by itself. Doing this will not modify any behavior and is safe. If you specifically wanted the numpy scalar type, use `np.bool_` here.\n",
            "Deprecated in NumPy 1.20; for more details and guidance: https://numpy.org/devdocs/release/1.20.0-notes.html#deprecations\n"
          ]
        },
        {
          "output_type": "stream",
          "name": "stdout",
          "text": [
            "mask.shape, min(mask),max(mask): (1080, 810, 4), 0,0\n",
            "rr.shape, min(rr),max(rr): (64917,), 138,415\n",
            "cc.shape, min(cc),max(cc): (64917,), 184,479\n",
            "After fixing the dirt mask, new values:\n",
            "rr.shape, min(rr),max(rr): (64917,), 138,415\n",
            "cc.shape, min(cc),max(cc): (64917,), 184,479\n",
            "mask.shape, min(mask),max(mask): (1080, 810, 4), 0,1\n",
            "rr.shape, min(rr),max(rr): (52268,), 353,646\n"
          ]
        },
        {
          "output_type": "stream",
          "name": "stderr",
          "text": [
            "/usr/local/lib/python3.7/dist-packages/skimage/transform/_warps.py:830: FutureWarning: Input image dtype is bool. Interpolation is not defined with bool data type. Please set order to 0 or explicitely cast input image to another data type. Starting from version 0.19 a ValueError will be raised instead of this warning.\n",
            "  order = _validate_interpolation_order(image.dtype, order)\n"
          ]
        },
        {
          "output_type": "stream",
          "name": "stdout",
          "text": [
            "cc.shape, min(cc),max(cc): (52268,), 388,621\n",
            "After fixing the dirt mask, new values:\n",
            "rr.shape, min(rr),max(rr): (52268,), 353,646\n",
            "cc.shape, min(cc),max(cc): (52268,), 388,621\n",
            "mask.shape, min(mask),max(mask): (1080, 810, 4), 0,1\n",
            "rr.shape, min(rr),max(rr): (46497,), 652,901\n",
            "cc.shape, min(cc),max(cc): (46497,), 384,635\n",
            "After fixing the dirt mask, new values:\n",
            "rr.shape, min(rr),max(rr): (46497,), 652,901\n",
            "cc.shape, min(cc),max(cc): (46497,), 384,635\n",
            "mask.shape, min(mask),max(mask): (454, 633, 6), 0,0\n",
            "mask.shape, min(mask),max(mask): (1080, 810, 4), 0,1\n",
            "rr.shape, min(rr),max(rr): (12942,), 123,246\n",
            "rr.shape, min(rr),max(rr): (42167,), 395,645\n",
            "cc.shape, min(cc),max(cc): (12942,), 3,127\n",
            "After fixing the dirt mask, new values:\n",
            "rr.shape, min(rr),max(rr): (12942,), 123,246\n",
            "cc.shape, min(cc),max(cc): (42167,), 168,397\n",
            "cc.shape, min(cc),max(cc): (12942,), 3,127\n",
            "After fixing the dirt mask, new values:\n",
            "rr.shape, min(rr),max(rr): (42167,), 395,645\n",
            "cc.shape, min(cc),max(cc): (42167,), 168,397\n"
          ]
        },
        {
          "output_type": "stream",
          "name": "stderr",
          "text": [
            "/usr/local/lib/python3.7/dist-packages/ipykernel_launcher.py:129: DeprecationWarning: `np.bool` is a deprecated alias for the builtin `bool`. To silence this warning, use `bool` by itself. Doing this will not modify any behavior and is safe. If you specifically wanted the numpy scalar type, use `np.bool_` here.\n",
            "Deprecated in NumPy 1.20; for more details and guidance: https://numpy.org/devdocs/release/1.20.0-notes.html#deprecations\n"
          ]
        },
        {
          "output_type": "stream",
          "name": "stdout",
          "text": [
            "mask.shape, min(mask),max(mask): (454, 633, 6), 0,1\n",
            "rr.shape, min(rr),max(rr): (11892,), 294,447\n",
            "cc.shape, min(cc),max(cc): (11892,), 174,297\n",
            "After fixing the dirt mask, new values:\n",
            "rr.shape, min(rr),max(rr): (11892,), 294,447\n",
            "cc.shape, min(cc),max(cc): (11892,), 174,297\n",
            "mask.shape, min(mask),max(mask): (454, 633, 6), 0,1\n",
            "rr.shape, min(rr),max(rr): (11238,), 329,453\n",
            "cc.shape, min(cc),max(cc): (11238,), 382,490\n",
            "After fixing the dirt mask, new values:\n",
            "rr.shape, min(rr),max(rr): (11238,), 329,453\n",
            "cc.shape, min(cc),max(cc): (11238,), 382,490\n",
            "mask.shape, min(mask),max(mask): (454, 633, 6), 0,1\n",
            "rr.shape, min(rr),max(rr): (11314,), 210,345\n",
            "cc.shape, min(cc),max(cc): (11314,), 322,428\n",
            "After fixing the dirt mask, new values:\n",
            "rr.shape, min(rr),max(rr): (11314,), 210,345\n",
            "cc.shape, min(cc),max(cc): (11314,), 322,428\n",
            "mask.shape, min(mask),max(mask): (454, 633, 6), 0,1\n",
            "rr.shape, min(rr),max(rr): (12598,), 73,200\n",
            "cc.shape, min(cc),max(cc): (12598,), 382,501\n",
            "After fixing the dirt mask, new values:\n",
            "rr.shape, min(rr),max(rr): (12598,), 73,200\n",
            "cc.shape, min(cc),max(cc): (12598,), 382,501\n",
            "mask.shape, min(mask),max(mask): (454, 633, 6), 0,1\n",
            "rr.shape, min(rr),max(rr): (3942,), 328,430\n",
            "cc.shape, min(cc),max(cc): (3942,), 534,616\n",
            "After fixing the dirt mask, new values:\n",
            "rr.shape, min(rr),max(rr): (3942,), 328,430\n",
            "cc.shape, min(cc),max(cc): (3942,), 534,616\n"
          ]
        },
        {
          "output_type": "stream",
          "name": "stderr",
          "text": [
            "/usr/local/lib/python3.7/dist-packages/skimage/transform/_warps.py:830: FutureWarning: Input image dtype is bool. Interpolation is not defined with bool data type. Please set order to 0 or explicitely cast input image to another data type. Starting from version 0.19 a ValueError will be raised instead of this warning.\n",
            "  order = _validate_interpolation_order(image.dtype, order)\n",
            "/usr/local/lib/python3.7/dist-packages/ipykernel_launcher.py:129: DeprecationWarning: `np.bool` is a deprecated alias for the builtin `bool`. To silence this warning, use `bool` by itself. Doing this will not modify any behavior and is safe. If you specifically wanted the numpy scalar type, use `np.bool_` here.\n",
            "Deprecated in NumPy 1.20; for more details and guidance: https://numpy.org/devdocs/release/1.20.0-notes.html#deprecations\n"
          ]
        },
        {
          "output_type": "stream",
          "name": "stdout",
          "text": [
            "mask.shape, min(mask),max(mask): (1000, 1000, 1), 0,0\n",
            "rr.shape, min(rr),max(rr): (73133,), 391,703\n",
            "cc.shape, min(cc),max(cc): (73133,), 351,674\n",
            "After fixing the dirt mask, new values:\n",
            "rr.shape, min(rr),max(rr): (73133,), 391,703\n",
            "cc.shape, min(cc),max(cc): (73133,), 351,674\n"
          ]
        },
        {
          "output_type": "stream",
          "name": "stderr",
          "text": [
            "/usr/local/lib/python3.7/dist-packages/ipykernel_launcher.py:129: DeprecationWarning: `np.bool` is a deprecated alias for the builtin `bool`. To silence this warning, use `bool` by itself. Doing this will not modify any behavior and is safe. If you specifically wanted the numpy scalar type, use `np.bool_` here.\n",
            "Deprecated in NumPy 1.20; for more details and guidance: https://numpy.org/devdocs/release/1.20.0-notes.html#deprecations\n",
            "/usr/local/lib/python3.7/dist-packages/skimage/transform/_warps.py:830: FutureWarning: Input image dtype is bool. Interpolation is not defined with bool data type. Please set order to 0 or explicitely cast input image to another data type. Starting from version 0.19 a ValueError will be raised instead of this warning.\n",
            "  order = _validate_interpolation_order(image.dtype, order)\n",
            "/usr/local/lib/python3.7/dist-packages/skimage/transform/_warps.py:830: FutureWarning: Input image dtype is bool. Interpolation is not defined with bool data type. Please set order to 0 or explicitely cast input image to another data type. Starting from version 0.19 a ValueError will be raised instead of this warning.\n",
            "  order = _validate_interpolation_order(image.dtype, order)\n"
          ]
        },
        {
          "output_type": "stream",
          "name": "stdout",
          "text": [
            "mask.shape, min(mask),max(mask): (410, 600, 1), 0,0\n",
            "rr.shape, min(rr),max(rr): (44522,), 34,260\n",
            "cc.shape, min(cc),max(cc): (44522,), 79,396\n",
            "After fixing the dirt mask, new values:\n",
            "rr.shape, min(rr),max(rr): (44522,), 34,260\n",
            "cc.shape, min(cc),max(cc): (44522,), 79,396\n"
          ]
        },
        {
          "output_type": "stream",
          "name": "stderr",
          "text": [
            "/usr/local/lib/python3.7/dist-packages/ipykernel_launcher.py:129: DeprecationWarning: `np.bool` is a deprecated alias for the builtin `bool`. To silence this warning, use `bool` by itself. Doing this will not modify any behavior and is safe. If you specifically wanted the numpy scalar type, use `np.bool_` here.\n",
            "Deprecated in NumPy 1.20; for more details and guidance: https://numpy.org/devdocs/release/1.20.0-notes.html#deprecations\n"
          ]
        },
        {
          "output_type": "stream",
          "name": "stdout",
          "text": [
            "mask.shape, min(mask),max(mask): (1024, 683, 5), 0,0\n",
            "rr.shape, min(rr),max(rr): (23409,), 140,328\n",
            "cc.shape, min(cc),max(cc): (23409,), 142,340\n",
            "After fixing the dirt mask, new values:\n",
            "rr.shape, min(rr),max(rr): (23409,), 140,328\n",
            "cc.shape, min(cc),max(cc): (23409,), 142,340\n",
            "mask.shape, min(mask),max(mask): (1024, 683, 5), 0,1\n",
            "rr.shape, min(rr),max(rr): (47060,), 250,513\n",
            "cc.shape, min(cc),max(cc): (47060,), 80,304\n",
            "After fixing the dirt mask, new values:\n",
            "rr.shape, min(rr),max(rr): (47060,), 250,513\n",
            "cc.shape, min(cc),max(cc): (47060,), 80,304\n"
          ]
        },
        {
          "output_type": "stream",
          "name": "stderr",
          "text": [
            "/usr/local/lib/python3.7/dist-packages/skimage/transform/_warps.py:830: FutureWarning: Input image dtype is bool. Interpolation is not defined with bool data type. Please set order to 0 or explicitely cast input image to another data type. Starting from version 0.19 a ValueError will be raised instead of this warning.\n",
            "  order = _validate_interpolation_order(image.dtype, order)\n"
          ]
        },
        {
          "output_type": "stream",
          "name": "stdout",
          "text": [
            "mask.shape, min(mask),max(mask): (1024, 683, 5), 0,1\n",
            "rr.shape, min(rr),max(rr): (34250,), 204,419\n",
            "cc.shape, min(cc),max(cc): (34250,), 305,554\n",
            "After fixing the dirt mask, new values:\n",
            "rr.shape, min(rr),max(rr): (34250,), 204,419\n",
            "cc.shape, min(cc),max(cc): (34250,), 305,554\n",
            "mask.shape, min(mask),max(mask): (2048, 1365, 1), 0,0\n",
            "mask.shape, min(mask),max(mask): (1024, 683, 5), 0,1\n",
            "rr.shape, min(rr),max(rr): (56408,), 347,627\n",
            "rr.shape, min(rr),max(rr): (15588,), 987,1130\n",
            "cc.shape, min(cc),max(cc): (15588,), 342,485\n",
            "cc.shape, min(cc),max(cc): (56408,), 371,644\n",
            "After fixing the dirt mask, new values:\n",
            "rr.shape, min(rr),max(rr): (56408,), 347,627\n",
            "cc.shape, min(cc),max(cc): (56408,), 371,644\n",
            "After fixing the dirt mask, new values:\n",
            "rr.shape, min(rr),max(rr): (15588,), 987,1130\n",
            "cc.shape, min(cc),max(cc): (15588,), 342,485\n"
          ]
        },
        {
          "output_type": "stream",
          "name": "stderr",
          "text": [
            "/usr/local/lib/python3.7/dist-packages/ipykernel_launcher.py:129: DeprecationWarning: `np.bool` is a deprecated alias for the builtin `bool`. To silence this warning, use `bool` by itself. Doing this will not modify any behavior and is safe. If you specifically wanted the numpy scalar type, use `np.bool_` here.\n",
            "Deprecated in NumPy 1.20; for more details and guidance: https://numpy.org/devdocs/release/1.20.0-notes.html#deprecations\n"
          ]
        },
        {
          "output_type": "stream",
          "name": "stdout",
          "text": [
            "mask.shape, min(mask),max(mask): (1024, 683, 5), 0,1\n",
            "rr.shape, min(rr),max(rr): (55954,), 494,799\n",
            "cc.shape, min(cc),max(cc): (55954,), 180,416\n",
            "After fixing the dirt mask, new values:\n",
            "rr.shape, min(rr),max(rr): (55954,), 494,799\n",
            "cc.shape, min(cc),max(cc): (55954,), 180,416\n"
          ]
        },
        {
          "output_type": "stream",
          "name": "stderr",
          "text": [
            "/usr/local/lib/python3.7/dist-packages/ipykernel_launcher.py:129: DeprecationWarning: `np.bool` is a deprecated alias for the builtin `bool`. To silence this warning, use `bool` by itself. Doing this will not modify any behavior and is safe. If you specifically wanted the numpy scalar type, use `np.bool_` here.\n",
            "Deprecated in NumPy 1.20; for more details and guidance: https://numpy.org/devdocs/release/1.20.0-notes.html#deprecations\n",
            "/usr/local/lib/python3.7/dist-packages/skimage/transform/_warps.py:830: FutureWarning: Input image dtype is bool. Interpolation is not defined with bool data type. Please set order to 0 or explicitely cast input image to another data type. Starting from version 0.19 a ValueError will be raised instead of this warning.\n",
            "  order = _validate_interpolation_order(image.dtype, order)\n",
            "/usr/local/lib/python3.7/dist-packages/skimage/transform/_warps.py:830: FutureWarning: Input image dtype is bool. Interpolation is not defined with bool data type. Please set order to 0 or explicitely cast input image to another data type. Starting from version 0.19 a ValueError will be raised instead of this warning.\n",
            "  order = _validate_interpolation_order(image.dtype, order)\n"
          ]
        },
        {
          "output_type": "stream",
          "name": "stdout",
          "text": [
            "mask.shape, min(mask),max(mask): (682, 1024, 2), 0,0\n",
            "rr.shape, min(rr),max(rr): (79055,), 194,510\n",
            "cc.shape, min(cc),max(cc): (79055,), 663,978\n",
            "After fixing the dirt mask, new values:\n",
            "rr.shape, min(rr),max(rr): (79055,), 194,510\n",
            "cc.shape, min(cc),max(cc): (79055,), 663,978\n",
            "mask.shape, min(mask),max(mask): (682, 1024, 2), 0,1\n",
            "rr.shape, min(rr),max(rr): (27801,), 61,282\n",
            "cc.shape, min(cc),max(cc): (27801,), 627,895\n",
            "After fixing the dirt mask, new values:\n",
            "rr.shape, min(rr),max(rr): (27801,), 61,282\n",
            "cc.shape, min(cc),max(cc): (27801,), 627,895\n"
          ]
        },
        {
          "output_type": "stream",
          "name": "stderr",
          "text": [
            "/usr/local/lib/python3.7/dist-packages/ipykernel_launcher.py:129: DeprecationWarning: `np.bool` is a deprecated alias for the builtin `bool`. To silence this warning, use `bool` by itself. Doing this will not modify any behavior and is safe. If you specifically wanted the numpy scalar type, use `np.bool_` here.\n",
            "Deprecated in NumPy 1.20; for more details and guidance: https://numpy.org/devdocs/release/1.20.0-notes.html#deprecations\n",
            "/usr/local/lib/python3.7/dist-packages/skimage/transform/_warps.py:830: FutureWarning: Input image dtype is bool. Interpolation is not defined with bool data type. Please set order to 0 or explicitely cast input image to another data type. Starting from version 0.19 a ValueError will be raised instead of this warning.\n",
            "  order = _validate_interpolation_order(image.dtype, order)\n"
          ]
        },
        {
          "output_type": "stream",
          "name": "stdout",
          "text": [
            "mask.shape, min(mask),max(mask): (640, 960, 1), 0,0\n",
            "rr.shape, min(rr),max(rr): (113998,), 136,541\n",
            "cc.shape, min(cc),max(cc): (113998,), 299,665\n",
            "After fixing the dirt mask, new values:\n",
            "rr.shape, min(rr),max(rr): (113998,), 136,541\n",
            "cc.shape, min(cc),max(cc): (113998,), 299,665\n"
          ]
        },
        {
          "output_type": "stream",
          "name": "stderr",
          "text": [
            "/usr/local/lib/python3.7/dist-packages/ipykernel_launcher.py:129: DeprecationWarning: `np.bool` is a deprecated alias for the builtin `bool`. To silence this warning, use `bool` by itself. Doing this will not modify any behavior and is safe. If you specifically wanted the numpy scalar type, use `np.bool_` here.\n",
            "Deprecated in NumPy 1.20; for more details and guidance: https://numpy.org/devdocs/release/1.20.0-notes.html#deprecations\n",
            "/usr/local/lib/python3.7/dist-packages/skimage/transform/_warps.py:830: FutureWarning: Input image dtype is bool. Interpolation is not defined with bool data type. Please set order to 0 or explicitely cast input image to another data type. Starting from version 0.19 a ValueError will be raised instead of this warning.\n",
            "  order = _validate_interpolation_order(image.dtype, order)\n"
          ]
        },
        {
          "output_type": "stream",
          "name": "stdout",
          "text": [
            "mask.shape, min(mask),max(mask): (837, 600, 1), 0,0\n",
            "rr.shape, min(rr),max(rr): (7597,), 544,656\n",
            "cc.shape, min(cc),max(cc): (7597,), 189,291\n",
            "After fixing the dirt mask, new values:\n",
            "rr.shape, min(rr),max(rr): (7597,), 544,656\n",
            "cc.shape, min(cc),max(cc): (7597,), 189,291\n"
          ]
        },
        {
          "output_type": "stream",
          "name": "stderr",
          "text": [
            "/usr/local/lib/python3.7/dist-packages/ipykernel_launcher.py:129: DeprecationWarning: `np.bool` is a deprecated alias for the builtin `bool`. To silence this warning, use `bool` by itself. Doing this will not modify any behavior and is safe. If you specifically wanted the numpy scalar type, use `np.bool_` here.\n",
            "Deprecated in NumPy 1.20; for more details and guidance: https://numpy.org/devdocs/release/1.20.0-notes.html#deprecations\n",
            "/usr/local/lib/python3.7/dist-packages/skimage/transform/_warps.py:830: FutureWarning: Input image dtype is bool. Interpolation is not defined with bool data type. Please set order to 0 or explicitely cast input image to another data type. Starting from version 0.19 a ValueError will be raised instead of this warning.\n",
            "  order = _validate_interpolation_order(image.dtype, order)\n"
          ]
        },
        {
          "output_type": "stream",
          "name": "stdout",
          "text": [
            "mask.shape, min(mask),max(mask): (810, 720, 3), 0,0\n",
            "rr.shape, min(rr),max(rr): (144082,), 188,648\n",
            "cc.shape, min(cc),max(cc): (144082,), 0,429\n",
            "After fixing the dirt mask, new values:\n",
            "rr.shape, min(rr),max(rr): (144082,), 188,648\n",
            "cc.shape, min(cc),max(cc): (144082,), 0,429\n",
            "mask.shape, min(mask),max(mask): (1024, 1536, 1), 0,0\n",
            "rr.shape, min(rr),max(rr): (306741,), 189,823\n",
            "cc.shape, min(cc),max(cc): (306741,), 73,798\n",
            "After fixing the dirt mask, new values:\n",
            "rr.shape, min(rr),max(rr): (306741,), 189,823\n",
            "cc.shape, min(cc),max(cc): (306741,), 73,798\n"
          ]
        },
        {
          "output_type": "stream",
          "name": "stderr",
          "text": [
            "/usr/local/lib/python3.7/dist-packages/ipykernel_launcher.py:129: DeprecationWarning: `np.bool` is a deprecated alias for the builtin `bool`. To silence this warning, use `bool` by itself. Doing this will not modify any behavior and is safe. If you specifically wanted the numpy scalar type, use `np.bool_` here.\n",
            "Deprecated in NumPy 1.20; for more details and guidance: https://numpy.org/devdocs/release/1.20.0-notes.html#deprecations\n"
          ]
        },
        {
          "output_type": "stream",
          "name": "stdout",
          "text": [
            "mask.shape, min(mask),max(mask): (810, 720, 3), 0,1\n",
            "rr.shape, min(rr),max(rr): (75051,), 63,359\n",
            "cc.shape, min(cc),max(cc): (75051,), 333,719\n",
            "After fixing the dirt mask, new values:\n",
            "rr.shape, min(rr),max(rr): (75051,), 63,359\n",
            "cc.shape, min(cc),max(cc): (75051,), 333,719\n"
          ]
        },
        {
          "output_type": "stream",
          "name": "stderr",
          "text": [
            "/usr/local/lib/python3.7/dist-packages/skimage/transform/_warps.py:830: FutureWarning: Input image dtype is bool. Interpolation is not defined with bool data type. Please set order to 0 or explicitely cast input image to another data type. Starting from version 0.19 a ValueError will be raised instead of this warning.\n",
            "  order = _validate_interpolation_order(image.dtype, order)\n"
          ]
        },
        {
          "output_type": "stream",
          "name": "stdout",
          "text": [
            "mask.shape, min(mask),max(mask): (810, 720, 3), 0,1\n",
            "rr.shape, min(rr),max(rr): (119752,), 257,716\n",
            "cc.shape, min(cc),max(cc): (119752,), 367,719\n",
            "After fixing the dirt mask, new values:\n",
            "rr.shape, min(rr),max(rr): (119752,), 257,716\n",
            "cc.shape, min(cc),max(cc): (119752,), 367,719\n"
          ]
        },
        {
          "output_type": "stream",
          "name": "stderr",
          "text": [
            "/usr/local/lib/python3.7/dist-packages/ipykernel_launcher.py:129: DeprecationWarning: `np.bool` is a deprecated alias for the builtin `bool`. To silence this warning, use `bool` by itself. Doing this will not modify any behavior and is safe. If you specifically wanted the numpy scalar type, use `np.bool_` here.\n",
            "Deprecated in NumPy 1.20; for more details and guidance: https://numpy.org/devdocs/release/1.20.0-notes.html#deprecations\n"
          ]
        },
        {
          "output_type": "stream",
          "name": "stdout",
          "text": [
            "mask.shape, min(mask),max(mask): (1067, 1600, 1), 0,0\n",
            "rr.shape, min(rr),max(rr): (226384,), 193,748\n",
            "cc.shape, min(cc),max(cc): (226384,), 244,750\n",
            "After fixing the dirt mask, new values:\n",
            "rr.shape, min(rr),max(rr): (226384,), 193,748\n",
            "cc.shape, min(cc),max(cc): (226384,), 244,750\n"
          ]
        },
        {
          "output_type": "stream",
          "name": "stderr",
          "text": [
            "/usr/local/lib/python3.7/dist-packages/ipykernel_launcher.py:129: DeprecationWarning: `np.bool` is a deprecated alias for the builtin `bool`. To silence this warning, use `bool` by itself. Doing this will not modify any behavior and is safe. If you specifically wanted the numpy scalar type, use `np.bool_` here.\n",
            "Deprecated in NumPy 1.20; for more details and guidance: https://numpy.org/devdocs/release/1.20.0-notes.html#deprecations\n",
            "/usr/local/lib/python3.7/dist-packages/skimage/transform/_warps.py:830: FutureWarning: Input image dtype is bool. Interpolation is not defined with bool data type. Please set order to 0 or explicitely cast input image to another data type. Starting from version 0.19 a ValueError will be raised instead of this warning.\n",
            "  order = _validate_interpolation_order(image.dtype, order)\n",
            "/usr/local/lib/python3.7/dist-packages/skimage/transform/_warps.py:830: FutureWarning: Input image dtype is bool. Interpolation is not defined with bool data type. Please set order to 0 or explicitely cast input image to another data type. Starting from version 0.19 a ValueError will be raised instead of this warning.\n",
            "  order = _validate_interpolation_order(image.dtype, order)\n"
          ]
        },
        {
          "output_type": "stream",
          "name": "stdout",
          "text": [
            "mask.shape, min(mask),max(mask): (833, 1024, 2), 0,0\n",
            "rr.shape, min(rr),max(rr): (31513,), 114,322\n",
            "cc.shape, min(cc),max(cc): (31513,), 62,263\n",
            "After fixing the dirt mask, new values:\n",
            "rr.shape, min(rr),max(rr): (31513,), 114,322\n",
            "cc.shape, min(cc),max(cc): (31513,), 62,263\n",
            "mask.shape, min(mask),max(mask): (323, 450, 1), 0,0\n",
            "rr.shape, min(rr),max(rr): (29971,), 8,201\n",
            "cc.shape, min(cc),max(cc): (29971,), 228,420\n",
            "After fixing the dirt mask, new values:\n",
            "rr.shape, min(rr),max(rr): (29971,), 8,201\n",
            "cc.shape, min(cc),max(cc): (29971,), 228,420\n"
          ]
        },
        {
          "output_type": "stream",
          "name": "stderr",
          "text": [
            "/usr/local/lib/python3.7/dist-packages/ipykernel_launcher.py:129: DeprecationWarning: `np.bool` is a deprecated alias for the builtin `bool`. To silence this warning, use `bool` by itself. Doing this will not modify any behavior and is safe. If you specifically wanted the numpy scalar type, use `np.bool_` here.\n",
            "Deprecated in NumPy 1.20; for more details and guidance: https://numpy.org/devdocs/release/1.20.0-notes.html#deprecations\n"
          ]
        },
        {
          "output_type": "stream",
          "name": "stdout",
          "text": [
            "mask.shape, min(mask),max(mask): (833, 1024, 2), 0,1\n",
            "rr.shape, min(rr),max(rr): (29853,), 101,305\n",
            "cc.shape, min(cc),max(cc): (29853,), 756,959\n",
            "After fixing the dirt mask, new values:\n",
            "rr.shape, min(rr),max(rr): (29853,), 101,305\n",
            "cc.shape, min(cc),max(cc): (29853,), 756,959\n"
          ]
        },
        {
          "output_type": "stream",
          "name": "stderr",
          "text": [
            "/usr/local/lib/python3.7/dist-packages/ipykernel_launcher.py:129: DeprecationWarning: `np.bool` is a deprecated alias for the builtin `bool`. To silence this warning, use `bool` by itself. Doing this will not modify any behavior and is safe. If you specifically wanted the numpy scalar type, use `np.bool_` here.\n",
            "Deprecated in NumPy 1.20; for more details and guidance: https://numpy.org/devdocs/release/1.20.0-notes.html#deprecations\n",
            "/usr/local/lib/python3.7/dist-packages/skimage/transform/_warps.py:830: FutureWarning: Input image dtype is bool. Interpolation is not defined with bool data type. Please set order to 0 or explicitely cast input image to another data type. Starting from version 0.19 a ValueError will be raised instead of this warning.\n",
            "  order = _validate_interpolation_order(image.dtype, order)\n",
            "/usr/local/lib/python3.7/dist-packages/skimage/transform/_warps.py:830: FutureWarning: Input image dtype is bool. Interpolation is not defined with bool data type. Please set order to 0 or explicitely cast input image to another data type. Starting from version 0.19 a ValueError will be raised instead of this warning.\n",
            "  order = _validate_interpolation_order(image.dtype, order)\n"
          ]
        },
        {
          "output_type": "stream",
          "name": "stdout",
          "text": [
            "mask.shape, min(mask),max(mask): (1200, 800, 1), 0,0\n",
            "rr.shape, min(rr),max(rr): (215719,), 494,1045\n",
            "cc.shape, min(cc),max(cc): (215719,), 64,588\n",
            "After fixing the dirt mask, new values:\n",
            "rr.shape, min(rr),max(rr): (215719,), 494,1045\n",
            "cc.shape, min(cc),max(cc): (215719,), 64,588\n"
          ]
        },
        {
          "output_type": "stream",
          "name": "stderr",
          "text": [
            "/usr/local/lib/python3.7/dist-packages/ipykernel_launcher.py:129: DeprecationWarning: `np.bool` is a deprecated alias for the builtin `bool`. To silence this warning, use `bool` by itself. Doing this will not modify any behavior and is safe. If you specifically wanted the numpy scalar type, use `np.bool_` here.\n",
            "Deprecated in NumPy 1.20; for more details and guidance: https://numpy.org/devdocs/release/1.20.0-notes.html#deprecations\n"
          ]
        },
        {
          "output_type": "stream",
          "name": "stdout",
          "text": [
            "mask.shape, min(mask),max(mask): (1196, 858, 1), 0,0\n",
            "rr.shape, min(rr),max(rr): (319855,), 261,926\n",
            "cc.shape, min(cc),max(cc): (319855,), 140,855\n",
            "After fixing the dirt mask, new values:\n",
            "rr.shape, min(rr),max(rr): (319855,), 261,926\n",
            "cc.shape, min(cc),max(cc): (319855,), 140,855\n"
          ]
        },
        {
          "output_type": "stream",
          "name": "stderr",
          "text": [
            "/usr/local/lib/python3.7/dist-packages/ipykernel_launcher.py:129: DeprecationWarning: `np.bool` is a deprecated alias for the builtin `bool`. To silence this warning, use `bool` by itself. Doing this will not modify any behavior and is safe. If you specifically wanted the numpy scalar type, use `np.bool_` here.\n",
            "Deprecated in NumPy 1.20; for more details and guidance: https://numpy.org/devdocs/release/1.20.0-notes.html#deprecations\n",
            "/usr/local/lib/python3.7/dist-packages/skimage/transform/_warps.py:830: FutureWarning: Input image dtype is bool. Interpolation is not defined with bool data type. Please set order to 0 or explicitely cast input image to another data type. Starting from version 0.19 a ValueError will be raised instead of this warning.\n",
            "  order = _validate_interpolation_order(image.dtype, order)\n",
            "/usr/local/lib/python3.7/dist-packages/skimage/transform/_warps.py:830: FutureWarning: Input image dtype is bool. Interpolation is not defined with bool data type. Please set order to 0 or explicitely cast input image to another data type. Starting from version 0.19 a ValueError will be raised instead of this warning.\n",
            "  order = _validate_interpolation_order(image.dtype, order)\n"
          ]
        },
        {
          "output_type": "stream",
          "name": "stdout",
          "text": [
            "mask.shape, min(mask),max(mask): (399, 263, 1), 0,0\n",
            "rr.shape, min(rr),max(rr): (14486,), 19,159\n",
            "cc.shape, min(cc),max(cc): (14486,), 67,206\n",
            "After fixing the dirt mask, new values:\n",
            "rr.shape, min(rr),max(rr): (14486,), 19,159\n",
            "cc.shape, min(cc),max(cc): (14486,), 67,206\n"
          ]
        },
        {
          "output_type": "stream",
          "name": "stderr",
          "text": [
            "/usr/local/lib/python3.7/dist-packages/ipykernel_launcher.py:129: DeprecationWarning: `np.bool` is a deprecated alias for the builtin `bool`. To silence this warning, use `bool` by itself. Doing this will not modify any behavior and is safe. If you specifically wanted the numpy scalar type, use `np.bool_` here.\n",
            "Deprecated in NumPy 1.20; for more details and guidance: https://numpy.org/devdocs/release/1.20.0-notes.html#deprecations\n",
            "/usr/local/lib/python3.7/dist-packages/skimage/transform/_warps.py:830: FutureWarning: Input image dtype is bool. Interpolation is not defined with bool data type. Please set order to 0 or explicitely cast input image to another data type. Starting from version 0.19 a ValueError will be raised instead of this warning.\n",
            "  order = _validate_interpolation_order(image.dtype, order)\n"
          ]
        },
        {
          "output_type": "stream",
          "name": "stdout",
          "text": [
            "mask.shape, min(mask),max(mask): (1024, 1024, 1), 0,0\n",
            "rr.shape, min(rr),max(rr): (140090,), 517,984\n",
            "cc.shape, min(cc),max(cc): (140090,), 74,434\n",
            "After fixing the dirt mask, new values:\n",
            "rr.shape, min(rr),max(rr): (140090,), 517,984\n",
            "cc.shape, min(cc),max(cc): (140090,), 74,434\n"
          ]
        },
        {
          "output_type": "stream",
          "name": "stderr",
          "text": [
            "/usr/local/lib/python3.7/dist-packages/ipykernel_launcher.py:129: DeprecationWarning: `np.bool` is a deprecated alias for the builtin `bool`. To silence this warning, use `bool` by itself. Doing this will not modify any behavior and is safe. If you specifically wanted the numpy scalar type, use `np.bool_` here.\n",
            "Deprecated in NumPy 1.20; for more details and guidance: https://numpy.org/devdocs/release/1.20.0-notes.html#deprecations\n",
            "/usr/local/lib/python3.7/dist-packages/skimage/transform/_warps.py:830: FutureWarning: Input image dtype is bool. Interpolation is not defined with bool data type. Please set order to 0 or explicitely cast input image to another data type. Starting from version 0.19 a ValueError will be raised instead of this warning.\n",
            "  order = _validate_interpolation_order(image.dtype, order)\n"
          ]
        },
        {
          "output_type": "stream",
          "name": "stdout",
          "text": [
            "mask.shape, min(mask),max(mask): (810, 720, 3), 0,0\n",
            "rr.shape, min(rr),max(rr): (144082,), 188,648\n",
            "cc.shape, min(cc),max(cc): (144082,), 0,429\n",
            "After fixing the dirt mask, new values:\n",
            "rr.shape, min(rr),max(rr): (144082,), 188,648\n",
            "cc.shape, min(cc),max(cc): (144082,), 0,429\n",
            "mask.shape, min(mask),max(mask): (810, 720, 3), 0,1\n",
            "rr.shape, min(rr),max(rr): (75051,), 63,359\n",
            "cc.shape, min(cc),max(cc): (75051,), 333,719\n",
            "After fixing the dirt mask, new values:\n",
            "rr.shape, min(rr),max(rr): (75051,), 63,359\n",
            "cc.shape, min(cc),max(cc): (75051,), 333,719\n",
            "mask.shape, min(mask),max(mask): (1365, 2047, 14), 0,0\n",
            "rr.shape, min(rr),max(rr): (37975,), 0,225\n",
            "cc.shape, min(cc),max(cc): (37975,), 0,227\n",
            "After fixing the dirt mask, new values:\n",
            "rr.shape, min(rr),max(rr): (37975,), 0,225\n",
            "cc.shape, min(cc),max(cc): (37975,), 0,227\n",
            "mask.shape, min(mask),max(mask): (810, 720, 3), 0,1\n",
            "rr.shape, min(rr),max(rr): (119752,), 257,716\n",
            "cc.shape, min(cc),max(cc): (119752,), 367,719\n",
            "After fixing the dirt mask, new values:\n",
            "rr.shape, min(rr),max(rr): (119752,), 257,716\n",
            "cc.shape, min(cc),max(cc): (119752,), 367,719\n"
          ]
        },
        {
          "output_type": "stream",
          "name": "stderr",
          "text": [
            "/usr/local/lib/python3.7/dist-packages/ipykernel_launcher.py:129: DeprecationWarning: `np.bool` is a deprecated alias for the builtin `bool`. To silence this warning, use `bool` by itself. Doing this will not modify any behavior and is safe. If you specifically wanted the numpy scalar type, use `np.bool_` here.\n",
            "Deprecated in NumPy 1.20; for more details and guidance: https://numpy.org/devdocs/release/1.20.0-notes.html#deprecations\n"
          ]
        },
        {
          "output_type": "stream",
          "name": "stdout",
          "text": [
            "mask.shape, min(mask),max(mask): (1365, 2047, 14), 0,1\n",
            "rr.shape, min(rr),max(rr): (38265,), 186,398\n",
            "cc.shape, min(cc),max(cc): (38265,), 79,309\n",
            "After fixing the dirt mask, new values:\n",
            "rr.shape, min(rr),max(rr): (38265,), 186,398\n",
            "cc.shape, min(cc),max(cc): (38265,), 79,309\n",
            "mask.shape, min(mask),max(mask): (1365, 2047, 14), 0,1\n"
          ]
        },
        {
          "output_type": "stream",
          "name": "stderr",
          "text": [
            "/usr/local/lib/python3.7/dist-packages/skimage/transform/_warps.py:830: FutureWarning: Input image dtype is bool. Interpolation is not defined with bool data type. Please set order to 0 or explicitely cast input image to another data type. Starting from version 0.19 a ValueError will be raised instead of this warning.\n",
            "  order = _validate_interpolation_order(image.dtype, order)\n"
          ]
        },
        {
          "output_type": "stream",
          "name": "stdout",
          "text": [
            "rr.shape, min(rr),max(rr): (29337,), 371,535\n",
            "cc.shape, min(cc),max(cc): (29337,), 0,213\n",
            "After fixing the dirt mask, new values:\n",
            "rr.shape, min(rr),max(rr): (29337,), 371,535\n",
            "cc.shape, min(cc),max(cc): (29337,), 0,213\n",
            "mask.shape, min(mask),max(mask): (498, 500, 1), 0,0\n",
            "rr.shape, min(rr),max(rr): (32757,), 99,326\n",
            "cc.shape, min(cc),max(cc): (32757,), 33,247\n",
            "mask.shape, min(mask),max(mask): (1365, 2047, 14), 0,1\n",
            "rr.shape, min(rr),max(rr): (33603,), 33,249\n",
            "After fixing the dirt mask, new values:\n",
            "rr.shape, min(rr),max(rr): (32757,), 99,326\n",
            "cc.shape, min(cc),max(cc): (32757,), 33,247\n",
            "cc.shape, min(cc),max(cc): (33603,), 218,454\n",
            "After fixing the dirt mask, new values:\n"
          ]
        },
        {
          "output_type": "stream",
          "name": "stderr",
          "text": [
            "/usr/local/lib/python3.7/dist-packages/ipykernel_launcher.py:129: DeprecationWarning: `np.bool` is a deprecated alias for the builtin `bool`. To silence this warning, use `bool` by itself. Doing this will not modify any behavior and is safe. If you specifically wanted the numpy scalar type, use `np.bool_` here.\n",
            "Deprecated in NumPy 1.20; for more details and guidance: https://numpy.org/devdocs/release/1.20.0-notes.html#deprecations\n"
          ]
        },
        {
          "output_type": "stream",
          "name": "stdout",
          "text": [
            "rr.shape, min(rr),max(rr): (33603,), 33,249\n",
            "cc.shape, min(cc),max(cc): (33603,), 218,454\n"
          ]
        },
        {
          "output_type": "stream",
          "name": "stderr",
          "text": [
            "/usr/local/lib/python3.7/dist-packages/skimage/transform/_warps.py:830: FutureWarning: Input image dtype is bool. Interpolation is not defined with bool data type. Please set order to 0 or explicitely cast input image to another data type. Starting from version 0.19 a ValueError will be raised instead of this warning.\n",
            "  order = _validate_interpolation_order(image.dtype, order)\n"
          ]
        },
        {
          "output_type": "stream",
          "name": "stdout",
          "text": [
            "mask.shape, min(mask),max(mask): (1365, 2047, 14), 0,1\n",
            "rr.shape, min(rr),max(rr): (28751,), 377,542\n",
            "cc.shape, min(cc),max(cc): (28751,), 192,409\n",
            "After fixing the dirt mask, new values:\n",
            "rr.shape, min(rr),max(rr): (28751,), 377,542\n",
            "cc.shape, min(cc),max(cc): (28751,), 192,409\n",
            "mask.shape, min(mask),max(mask): (519, 519, 1), 0,0\n",
            "rr.shape, min(rr),max(rr): (45588,), 147,415\n",
            "cc.shape, min(cc),max(cc): (45588,), 247,472\n",
            "After fixing the dirt mask, new values:\n",
            "rr.shape, min(rr),max(rr): (45588,), 147,415\n",
            "cc.shape, min(cc),max(cc): (45588,), 247,472\n"
          ]
        },
        {
          "output_type": "stream",
          "name": "stderr",
          "text": [
            "/usr/local/lib/python3.7/dist-packages/ipykernel_launcher.py:129: DeprecationWarning: `np.bool` is a deprecated alias for the builtin `bool`. To silence this warning, use `bool` by itself. Doing this will not modify any behavior and is safe. If you specifically wanted the numpy scalar type, use `np.bool_` here.\n",
            "Deprecated in NumPy 1.20; for more details and guidance: https://numpy.org/devdocs/release/1.20.0-notes.html#deprecations\n"
          ]
        },
        {
          "output_type": "stream",
          "name": "stdout",
          "text": [
            "mask.shape, min(mask),max(mask): (1365, 2047, 14), 0,1\n",
            "rr.shape, min(rr),max(rr): (35438,), 177,403\n",
            "cc.shape, min(cc),max(cc): (35438,), 286,504\n",
            "After fixing the dirt mask, new values:\n",
            "rr.shape, min(rr),max(rr): (35438,), 177,403\n",
            "cc.shape, min(cc),max(cc): (35438,), 286,504\n"
          ]
        },
        {
          "output_type": "stream",
          "name": "stderr",
          "text": [
            "/usr/local/lib/python3.7/dist-packages/skimage/transform/_warps.py:830: FutureWarning: Input image dtype is bool. Interpolation is not defined with bool data type. Please set order to 0 or explicitely cast input image to another data type. Starting from version 0.19 a ValueError will be raised instead of this warning.\n",
            "  order = _validate_interpolation_order(image.dtype, order)\n"
          ]
        },
        {
          "output_type": "stream",
          "name": "stdout",
          "text": [
            "mask.shape, min(mask),max(mask): (1365, 2047, 14), 0,1\n",
            "rr.shape, min(rr),max(rr): (37200,), 0,219\n",
            "cc.shape, min(cc),max(cc): (37200,), 436,681\n",
            "After fixing the dirt mask, new values:\n",
            "rr.shape, min(rr),max(rr): (37200,), 0,219\n",
            "cc.shape, min(cc),max(cc): (37200,), 436,681\n",
            "mask.shape, min(mask),max(mask): (1365, 2047, 14), 0,1\n",
            "rr.shape, min(rr),max(rr): (42911,), 175,409\n",
            "cc.shape, min(cc),max(cc): (42911,), 499,745\n",
            "After fixing the dirt mask, new values:\n",
            "rr.shape, min(rr),max(rr): (42911,), 175,409\n",
            "cc.shape, min(cc),max(cc): (42911,), 499,745\n",
            "mask.shape, min(mask),max(mask): (1365, 2047, 14), 0,1\n",
            "rr.shape, min(rr),max(rr): (33085,), 379,547\n",
            "cc.shape, min(cc),max(cc): (33085,), 386,629\n",
            "After fixing the dirt mask, new values:\n",
            "rr.shape, min(rr),max(rr): (33085,), 379,547\n",
            "cc.shape, min(cc),max(cc): (33085,), 386,629\n",
            "mask.shape, min(mask),max(mask): (1365, 2047, 14), 0,1\n",
            "rr.shape, min(rr),max(rr): (28656,), 46,224\n",
            "cc.shape, min(cc),max(cc): (28656,), 662,867\n",
            "After fixing the dirt mask, new values:\n",
            "rr.shape, min(rr),max(rr): (28656,), 46,224\n",
            "cc.shape, min(cc),max(cc): (28656,), 662,867\n",
            "mask.shape, min(mask),max(mask): (1365, 2047, 14), 0,1\n",
            "rr.shape, min(rr),max(rr): (32817,), 1,226\n",
            "cc.shape, min(cc),max(cc): (32817,), 863,1074\n",
            "After fixing the dirt mask, new values:\n",
            "rr.shape, min(rr),max(rr): (32817,), 1,226\n",
            "cc.shape, min(cc),max(cc): (32817,), 863,1074\n",
            "mask.shape, min(mask),max(mask): (1365, 2047, 14), 0,1\n",
            "rr.shape, min(rr),max(rr): (43264,), 184,438\n",
            "cc.shape, min(cc),max(cc): (43264,), 741,972\n",
            "After fixing the dirt mask, new values:\n",
            "rr.shape, min(rr),max(rr): (43264,), 184,438\n",
            "cc.shape, min(cc),max(cc): (43264,), 741,972\n",
            "mask.shape, min(mask),max(mask): (1365, 2047, 14), 0,1\n",
            "rr.shape, min(rr),max(rr): (25755,), 395,552\n",
            "cc.shape, min(cc),max(cc): (25755,), 612,815\n",
            "After fixing the dirt mask, new values:\n",
            "rr.shape, min(rr),max(rr): (25755,), 395,552\n",
            "cc.shape, min(cc),max(cc): (25755,), 612,815\n",
            "mask.shape, min(mask),max(mask): (1365, 2047, 14), 0,1\n",
            "rr.shape, min(rr),max(rr): (25388,), 402,555\n",
            "cc.shape, min(cc),max(cc): (25388,), 806,1003\n",
            "After fixing the dirt mask, new values:\n",
            "rr.shape, min(rr),max(rr): (25388,), 402,555\n",
            "cc.shape, min(cc),max(cc): (25388,), 806,1003\n"
          ]
        },
        {
          "output_type": "stream",
          "name": "stderr",
          "text": [
            "/usr/local/lib/python3.7/dist-packages/ipykernel_launcher.py:129: DeprecationWarning: `np.bool` is a deprecated alias for the builtin `bool`. To silence this warning, use `bool` by itself. Doing this will not modify any behavior and is safe. If you specifically wanted the numpy scalar type, use `np.bool_` here.\n",
            "Deprecated in NumPy 1.20; for more details and guidance: https://numpy.org/devdocs/release/1.20.0-notes.html#deprecations\n"
          ]
        },
        {
          "output_type": "stream",
          "name": "stdout",
          "text": [
            "mask.shape, min(mask),max(mask): (2687, 3357, 1), 0,0\n",
            "rr.shape, min(rr),max(rr): (409857,), 411,1361\n",
            "cc.shape, min(cc),max(cc): (409857,), 1726,2720\n",
            "After fixing the dirt mask, new values:\n",
            "rr.shape, min(rr),max(rr): (409857,), 411,1361\n",
            "cc.shape, min(cc),max(cc): (409857,), 1726,2720\n"
          ]
        },
        {
          "output_type": "stream",
          "name": "stderr",
          "text": [
            "/usr/local/lib/python3.7/dist-packages/ipykernel_launcher.py:129: DeprecationWarning: `np.bool` is a deprecated alias for the builtin `bool`. To silence this warning, use `bool` by itself. Doing this will not modify any behavior and is safe. If you specifically wanted the numpy scalar type, use `np.bool_` here.\n",
            "Deprecated in NumPy 1.20; for more details and guidance: https://numpy.org/devdocs/release/1.20.0-notes.html#deprecations\n",
            "/usr/local/lib/python3.7/dist-packages/skimage/transform/_warps.py:830: FutureWarning: Input image dtype is bool. Interpolation is not defined with bool data type. Please set order to 0 or explicitely cast input image to another data type. Starting from version 0.19 a ValueError will be raised instead of this warning.\n",
            "  order = _validate_interpolation_order(image.dtype, order)\n",
            "/usr/local/lib/python3.7/dist-packages/skimage/transform/_warps.py:830: FutureWarning: Input image dtype is bool. Interpolation is not defined with bool data type. Please set order to 0 or explicitely cast input image to another data type. Starting from version 0.19 a ValueError will be raised instead of this warning.\n",
            "  order = _validate_interpolation_order(image.dtype, order)\n"
          ]
        },
        {
          "output_type": "stream",
          "name": "stdout",
          "text": [
            "mask.shape, min(mask),max(mask): (1024, 1024, 1), 0,0\n",
            "rr.shape, min(rr),max(rr): (140090,), 517,984\n",
            "cc.shape, min(cc),max(cc): (140090,), 74,434\n",
            "After fixing the dirt mask, new values:\n",
            "rr.shape, min(rr),max(rr): (140090,), 517,984\n",
            "cc.shape, min(cc),max(cc): (140090,), 74,434\n"
          ]
        },
        {
          "output_type": "stream",
          "name": "stderr",
          "text": [
            "/usr/local/lib/python3.7/dist-packages/ipykernel_launcher.py:129: DeprecationWarning: `np.bool` is a deprecated alias for the builtin `bool`. To silence this warning, use `bool` by itself. Doing this will not modify any behavior and is safe. If you specifically wanted the numpy scalar type, use `np.bool_` here.\n",
            "Deprecated in NumPy 1.20; for more details and guidance: https://numpy.org/devdocs/release/1.20.0-notes.html#deprecations\n",
            "/usr/local/lib/python3.7/dist-packages/skimage/transform/_warps.py:830: FutureWarning: Input image dtype is bool. Interpolation is not defined with bool data type. Please set order to 0 or explicitely cast input image to another data type. Starting from version 0.19 a ValueError will be raised instead of this warning.\n",
            "  order = _validate_interpolation_order(image.dtype, order)\n"
          ]
        },
        {
          "output_type": "stream",
          "name": "stdout",
          "text": [
            "mask.shape, min(mask),max(mask): (470, 470, 2), 0,0\n",
            "rr.shape, min(rr),max(rr): (21488,), 86,258\n",
            "cc.shape, min(cc),max(cc): (21488,), 146,304\n",
            "After fixing the dirt mask, new values:\n",
            "rr.shape, min(rr),max(rr): (21488,), 86,258\n",
            "cc.shape, min(cc),max(cc): (21488,), 146,304\n",
            "mask.shape, min(mask),max(mask): (470, 470, 2), 0,1\n",
            "rr.shape, min(rr),max(rr): (21438,), 248,420\n",
            "cc.shape, min(cc),max(cc): (21438,), 155,310\n",
            "After fixing the dirt mask, new values:\n",
            "rr.shape, min(rr),max(rr): (21438,), 248,420\n",
            "cc.shape, min(cc),max(cc): (21438,), 155,310\n"
          ]
        },
        {
          "output_type": "stream",
          "name": "stderr",
          "text": [
            "/usr/local/lib/python3.7/dist-packages/ipykernel_launcher.py:129: DeprecationWarning: `np.bool` is a deprecated alias for the builtin `bool`. To silence this warning, use `bool` by itself. Doing this will not modify any behavior and is safe. If you specifically wanted the numpy scalar type, use `np.bool_` here.\n",
            "Deprecated in NumPy 1.20; for more details and guidance: https://numpy.org/devdocs/release/1.20.0-notes.html#deprecations\n",
            "/usr/local/lib/python3.7/dist-packages/skimage/transform/_warps.py:830: FutureWarning: Input image dtype is bool. Interpolation is not defined with bool data type. Please set order to 0 or explicitely cast input image to another data type. Starting from version 0.19 a ValueError will be raised instead of this warning.\n",
            "  order = _validate_interpolation_order(image.dtype, order)\n"
          ]
        },
        {
          "output_type": "stream",
          "name": "stdout",
          "text": [
            "mask.shape, min(mask),max(mask): (1024, 1536, 1), 0,0\n",
            "rr.shape, min(rr),max(rr): (306741,), 189,823\n",
            "cc.shape, min(cc),max(cc): (306741,), 73,798\n",
            "After fixing the dirt mask, new values:\n",
            "rr.shape, min(rr),max(rr): (306741,), 189,823\n",
            "mask.shape, min(mask),max(mask): (837, 600, 1), 0,0\n",
            "cc.shape, min(cc),max(cc): (306741,), 73,798\n",
            "rr.shape, min(rr),max(rr): (7597,), 544,656\n",
            "cc.shape, min(cc),max(cc): (7597,), 189,291\n"
          ]
        },
        {
          "output_type": "stream",
          "name": "stderr",
          "text": [
            "/usr/local/lib/python3.7/dist-packages/ipykernel_launcher.py:129: DeprecationWarning: `np.bool` is a deprecated alias for the builtin `bool`. To silence this warning, use `bool` by itself. Doing this will not modify any behavior and is safe. If you specifically wanted the numpy scalar type, use `np.bool_` here.\n",
            "Deprecated in NumPy 1.20; for more details and guidance: https://numpy.org/devdocs/release/1.20.0-notes.html#deprecations\n"
          ]
        },
        {
          "output_type": "stream",
          "name": "stdout",
          "text": [
            "After fixing the dirt mask, new values:\n",
            "rr.shape, min(rr),max(rr): (7597,), 544,656\n",
            "cc.shape, min(cc),max(cc): (7597,), 189,291\n"
          ]
        },
        {
          "output_type": "stream",
          "name": "stderr",
          "text": [
            "/usr/local/lib/python3.7/dist-packages/ipykernel_launcher.py:129: DeprecationWarning: `np.bool` is a deprecated alias for the builtin `bool`. To silence this warning, use `bool` by itself. Doing this will not modify any behavior and is safe. If you specifically wanted the numpy scalar type, use `np.bool_` here.\n",
            "Deprecated in NumPy 1.20; for more details and guidance: https://numpy.org/devdocs/release/1.20.0-notes.html#deprecations\n",
            "/usr/local/lib/python3.7/dist-packages/skimage/transform/_warps.py:830: FutureWarning: Input image dtype is bool. Interpolation is not defined with bool data type. Please set order to 0 or explicitely cast input image to another data type. Starting from version 0.19 a ValueError will be raised instead of this warning.\n",
            "  order = _validate_interpolation_order(image.dtype, order)\n",
            "/usr/local/lib/python3.7/dist-packages/skimage/transform/_warps.py:830: FutureWarning: Input image dtype is bool. Interpolation is not defined with bool data type. Please set order to 0 or explicitely cast input image to another data type. Starting from version 0.19 a ValueError will be raised instead of this warning.\n",
            "  order = _validate_interpolation_order(image.dtype, order)\n"
          ]
        },
        {
          "output_type": "stream",
          "name": "stdout",
          "text": [
            "mask.shape, min(mask),max(mask): (375, 500, 1), 0,0\n",
            "rr.shape, min(rr),max(rr): (13318,), 69,215\n",
            "cc.shape, min(cc),max(cc): (13318,), 16,170\n",
            "After fixing the dirt mask, new values:\n",
            "cc.shape, min(cc),max(cc): (13318,), 16,170\n",
            "rr.shape, min(rr),max(rr): (13318,), 69,215\n"
          ]
        },
        {
          "output_type": "stream",
          "name": "stderr",
          "text": [
            "/usr/local/lib/python3.7/dist-packages/ipykernel_launcher.py:129: DeprecationWarning: `np.bool` is a deprecated alias for the builtin `bool`. To silence this warning, use `bool` by itself. Doing this will not modify any behavior and is safe. If you specifically wanted the numpy scalar type, use `np.bool_` here.\n",
            "Deprecated in NumPy 1.20; for more details and guidance: https://numpy.org/devdocs/release/1.20.0-notes.html#deprecations\n"
          ]
        },
        {
          "output_type": "stream",
          "name": "stdout",
          "text": [
            "mask.shape, min(mask),max(mask): (410, 600, 1), 0,0\n",
            "rr.shape, min(rr),max(rr): (44522,), 34,260\n",
            "cc.shape, min(cc),max(cc): (44522,), 79,396\n",
            "After fixing the dirt mask, new values:\n",
            "rr.shape, min(rr),max(rr): (44522,), 34,260\n",
            "cc.shape, min(cc),max(cc): (44522,), 79,396\n"
          ]
        },
        {
          "output_type": "stream",
          "name": "stderr",
          "text": [
            "/usr/local/lib/python3.7/dist-packages/ipykernel_launcher.py:129: DeprecationWarning: `np.bool` is a deprecated alias for the builtin `bool`. To silence this warning, use `bool` by itself. Doing this will not modify any behavior and is safe. If you specifically wanted the numpy scalar type, use `np.bool_` here.\n",
            "Deprecated in NumPy 1.20; for more details and guidance: https://numpy.org/devdocs/release/1.20.0-notes.html#deprecations\n",
            "/usr/local/lib/python3.7/dist-packages/skimage/transform/_warps.py:830: FutureWarning: Input image dtype is bool. Interpolation is not defined with bool data type. Please set order to 0 or explicitely cast input image to another data type. Starting from version 0.19 a ValueError will be raised instead of this warning.\n",
            "  order = _validate_interpolation_order(image.dtype, order)\n",
            "/usr/local/lib/python3.7/dist-packages/skimage/transform/_warps.py:830: FutureWarning: Input image dtype is bool. Interpolation is not defined with bool data type. Please set order to 0 or explicitely cast input image to another data type. Starting from version 0.19 a ValueError will be raised instead of this warning.\n",
            "  order = _validate_interpolation_order(image.dtype, order)\n"
          ]
        },
        {
          "output_type": "stream",
          "name": "stdout",
          "text": [
            "mask.shape, min(mask),max(mask): (337, 500, 2), 0,0\n",
            "rr.shape, min(rr),max(rr): (54620,), 59,328\n",
            "cc.shape, min(cc),max(cc): (54620,), 41,314\n",
            "After fixing the dirt mask, new values:\n",
            "rr.shape, min(rr),max(rr): (54620,), 59,328\n",
            "cc.shape, min(cc),max(cc): (54620,), 41,314\n",
            "mask.shape, min(mask),max(mask): (337, 500, 2), 0,1\n",
            "rr.shape, min(rr),max(rr): (21291,), 1,139\n",
            "cc.shape, min(cc),max(cc): (21291,), 272,461\n",
            "After fixing the dirt mask, new values:\n",
            "rr.shape, min(rr),max(rr): (21291,), 1,139\n",
            "cc.shape, min(cc),max(cc): (21291,), 272,461\n"
          ]
        },
        {
          "output_type": "stream",
          "name": "stderr",
          "text": [
            "/usr/local/lib/python3.7/dist-packages/ipykernel_launcher.py:129: DeprecationWarning: `np.bool` is a deprecated alias for the builtin `bool`. To silence this warning, use `bool` by itself. Doing this will not modify any behavior and is safe. If you specifically wanted the numpy scalar type, use `np.bool_` here.\n",
            "Deprecated in NumPy 1.20; for more details and guidance: https://numpy.org/devdocs/release/1.20.0-notes.html#deprecations\n"
          ]
        },
        {
          "output_type": "stream",
          "name": "stdout",
          "text": [
            "mask.shape, min(mask),max(mask): (450, 600, 1), 0,0\n",
            "rr.shape, min(rr),max(rr): (6745,), 160,264\n",
            "cc.shape, min(cc),max(cc): (6745,), 474,584\n",
            "After fixing the dirt mask, new values:\n",
            "rr.shape, min(rr),max(rr): (6745,), 160,264\n",
            "cc.shape, min(cc),max(cc): (6745,), 474,584\n"
          ]
        },
        {
          "output_type": "stream",
          "name": "stderr",
          "text": [
            "/usr/local/lib/python3.7/dist-packages/ipykernel_launcher.py:129: DeprecationWarning: `np.bool` is a deprecated alias for the builtin `bool`. To silence this warning, use `bool` by itself. Doing this will not modify any behavior and is safe. If you specifically wanted the numpy scalar type, use `np.bool_` here.\n",
            "Deprecated in NumPy 1.20; for more details and guidance: https://numpy.org/devdocs/release/1.20.0-notes.html#deprecations\n",
            "/usr/local/lib/python3.7/dist-packages/skimage/transform/_warps.py:830: FutureWarning: Input image dtype is bool. Interpolation is not defined with bool data type. Please set order to 0 or explicitely cast input image to another data type. Starting from version 0.19 a ValueError will be raised instead of this warning.\n",
            "  order = _validate_interpolation_order(image.dtype, order)\n",
            "/usr/local/lib/python3.7/dist-packages/skimage/transform/_warps.py:830: FutureWarning: Input image dtype is bool. Interpolation is not defined with bool data type. Please set order to 0 or explicitely cast input image to another data type. Starting from version 0.19 a ValueError will be raised instead of this warning.\n",
            "  order = _validate_interpolation_order(image.dtype, order)\n"
          ]
        },
        {
          "output_type": "stream",
          "name": "stdout",
          "text": [
            "mask.shape, min(mask),max(mask): (280, 280, 2), 0,0\n",
            "rr.shape, min(rr),max(rr): (11829,), 93,226\n",
            "cc.shape, min(cc),max(cc): (11829,), 159,279\n",
            "After fixing the dirt mask, new values:\n",
            "rr.shape, min(rr),max(rr): (11829,), 93,226\n",
            "cc.shape, min(cc),max(cc): (11829,), 159,279\n",
            "mask.shape, min(mask),max(mask): (280, 280, 2), 0,1\n",
            "rr.shape, min(rr),max(rr): (7642,), 88,216\n",
            "cc.shape, min(cc),max(cc): (7642,), 0,78\n",
            "After fixing the dirt mask, new values:\n",
            "rr.shape, min(rr),max(rr): (7642,), 88,216\n",
            "cc.shape, min(cc),max(cc): (7642,), 0,78\n"
          ]
        },
        {
          "output_type": "stream",
          "name": "stderr",
          "text": [
            "/usr/local/lib/python3.7/dist-packages/ipykernel_launcher.py:129: DeprecationWarning: `np.bool` is a deprecated alias for the builtin `bool`. To silence this warning, use `bool` by itself. Doing this will not modify any behavior and is safe. If you specifically wanted the numpy scalar type, use `np.bool_` here.\n",
            "Deprecated in NumPy 1.20; for more details and guidance: https://numpy.org/devdocs/release/1.20.0-notes.html#deprecations\n"
          ]
        },
        {
          "output_type": "stream",
          "name": "stdout",
          "text": [
            "mask.shape, min(mask),max(mask): (640, 960, 2), 0,0\n",
            "rr.shape, min(rr),max(rr): (36043,), 10,281\n",
            "cc.shape, min(cc),max(cc): (36043,), 221,435\n",
            "After fixing the dirt mask, new values:\n",
            "rr.shape, min(rr),max(rr): (36043,), 10,281\n",
            "cc.shape, min(cc),max(cc): (36043,), 221,435\n",
            "mask.shape, min(mask),max(mask): (640, 960, 2), 0,1\n",
            "rr.shape, min(rr),max(rr): (42332,), 46,301\n",
            "cc.shape, min(cc),max(cc): (42332,), 565,786\n",
            "After fixing the dirt mask, new values:\n",
            "rr.shape, min(rr),max(rr): (42332,), 46,301\n"
          ]
        },
        {
          "output_type": "stream",
          "name": "stderr",
          "text": [
            "/usr/local/lib/python3.7/dist-packages/skimage/transform/_warps.py:830: FutureWarning: Input image dtype is bool. Interpolation is not defined with bool data type. Please set order to 0 or explicitely cast input image to another data type. Starting from version 0.19 a ValueError will be raised instead of this warning.\n",
            "  order = _validate_interpolation_order(image.dtype, order)\n"
          ]
        },
        {
          "output_type": "stream",
          "name": "stdout",
          "text": [
            "cc.shape, min(cc),max(cc): (42332,), 565,786\n"
          ]
        },
        {
          "output_type": "stream",
          "name": "stderr",
          "text": [
            "/usr/local/lib/python3.7/dist-packages/ipykernel_launcher.py:129: DeprecationWarning: `np.bool` is a deprecated alias for the builtin `bool`. To silence this warning, use `bool` by itself. Doing this will not modify any behavior and is safe. If you specifically wanted the numpy scalar type, use `np.bool_` here.\n",
            "Deprecated in NumPy 1.20; for more details and guidance: https://numpy.org/devdocs/release/1.20.0-notes.html#deprecations\n"
          ]
        },
        {
          "output_type": "stream",
          "name": "stdout",
          "text": [
            "mask.shape, min(mask),max(mask): (335, 670, 1), 0,0\n",
            "rr.shape, min(rr),max(rr): (27770,), 0,247\n",
            "cc.shape, min(cc),max(cc): (27770,), 428,614\n",
            "After fixing the dirt mask, new values:\n",
            "rr.shape, min(rr),max(rr): (27770,), 0,247\n"
          ]
        },
        {
          "output_type": "stream",
          "name": "stderr",
          "text": [
            "/usr/local/lib/python3.7/dist-packages/skimage/transform/_warps.py:830: FutureWarning: Input image dtype is bool. Interpolation is not defined with bool data type. Please set order to 0 or explicitely cast input image to another data type. Starting from version 0.19 a ValueError will be raised instead of this warning.\n",
            "  order = _validate_interpolation_order(image.dtype, order)\n"
          ]
        },
        {
          "output_type": "stream",
          "name": "stdout",
          "text": [
            "cc.shape, min(cc),max(cc): (27770,), 428,614\n"
          ]
        },
        {
          "output_type": "stream",
          "name": "stderr",
          "text": [
            "/usr/local/lib/python3.7/dist-packages/ipykernel_launcher.py:129: DeprecationWarning: `np.bool` is a deprecated alias for the builtin `bool`. To silence this warning, use `bool` by itself. Doing this will not modify any behavior and is safe. If you specifically wanted the numpy scalar type, use `np.bool_` here.\n",
            "Deprecated in NumPy 1.20; for more details and guidance: https://numpy.org/devdocs/release/1.20.0-notes.html#deprecations\n",
            "/usr/local/lib/python3.7/dist-packages/skimage/transform/_warps.py:830: FutureWarning: Input image dtype is bool. Interpolation is not defined with bool data type. Please set order to 0 or explicitely cast input image to another data type. Starting from version 0.19 a ValueError will be raised instead of this warning.\n",
            "  order = _validate_interpolation_order(image.dtype, order)\n"
          ]
        },
        {
          "output_type": "stream",
          "name": "stdout",
          "text": [
            "mask.shape, min(mask),max(mask): (640, 640, 7), 0,0\n",
            "rr.shape, min(rr),max(rr): (38248,), 112,321\n",
            "cc.shape, min(cc),max(cc): (38248,), 13,232\n",
            "After fixing the dirt mask, new values:\n",
            "rr.shape, min(rr),max(rr): (38248,), 112,321\n",
            "cc.shape, min(cc),max(cc): (38248,), 13,232\n",
            "mask.shape, min(mask),max(mask): (640, 640, 7), 0,1\n",
            "rr.shape, min(rr),max(rr): (36357,), 89,312\n",
            "cc.shape, min(cc),max(cc): (36357,), 228,426\n",
            "After fixing the dirt mask, new values:\n",
            "rr.shape, min(rr),max(rr): (36357,), 89,312\n",
            "cc.shape, min(cc),max(cc): (36357,), 228,426\n",
            "mask.shape, min(mask),max(mask): (640, 640, 7), 0,1\n",
            "rr.shape, min(rr),max(rr): (30194,), 79,302\n",
            "cc.shape, min(cc),max(cc): (30194,), 416,588\n",
            "After fixing the dirt mask, new values:\n",
            "rr.shape, min(rr),max(rr): (30194,), 79,302\n",
            "cc.shape, min(cc),max(cc): (30194,), 416,588\n",
            "mask.shape, min(mask),max(mask): (640, 640, 7), 0,1\n",
            "rr.shape, min(rr),max(rr): (32843,), 311,519\n",
            "cc.shape, min(cc),max(cc): (32843,), 0,178\n",
            "After fixing the dirt mask, new values:\n",
            "rr.shape, min(rr),max(rr): (32843,), 311,519\n",
            "cc.shape, min(cc),max(cc): (32843,), 0,178\n",
            "mask.shape, min(mask),max(mask): (640, 640, 7), 0,1\n",
            "rr.shape, min(rr),max(rr): (36678,), 296,514\n",
            "cc.shape, min(cc),max(cc): (36678,), 168,370\n",
            "mask.shape, min(mask),max(mask): (1365, 2047, 14), 0,0\n",
            "rr.shape, min(rr),max(rr): (37975,), 0,225\n",
            "cc.shape, min(cc),max(cc): (37975,), 0,227\n",
            "After fixing the dirt mask, new values:\n",
            "rr.shape, min(rr),max(rr): (37975,), 0,225\n",
            "After fixing the dirt mask, new values:\n",
            "rr.shape, min(rr),max(rr): (36678,), 296,514\n",
            "cc.shape, min(cc),max(cc): (37975,), 0,227\n",
            "cc.shape, min(cc),max(cc): (36678,), 168,370\n",
            "mask.shape, min(mask),max(mask): (640, 640, 7), 0,1\n",
            "rr.shape, min(rr),max(rr): (31403,), 308,512\n",
            "cc.shape, min(cc),max(cc): (31403,), 365,557\n",
            "After fixing the dirt mask, new values:\n",
            "rr.shape, min(rr),max(rr): (31403,), 308,512\n",
            "cc.shape, min(cc),max(cc): (31403,), 365,557\n",
            "mask.shape, min(mask),max(mask): (640, 640, 7), 0,1\n",
            "rr.shape, min(rr),max(rr): (18125,), 264,472\n",
            "cc.shape, min(cc),max(cc): (18125,), 522,639\n",
            "After fixing the dirt mask, new values:\n",
            "mask.shape, min(mask),max(mask): (1365, 2047, 14), 0,1\n",
            "rr.shape, min(rr),max(rr): (18125,), 264,472\n",
            "rr.shape, min(rr),max(rr): (38265,), 186,398\n",
            "cc.shape, min(cc),max(cc): (18125,), 522,639\n"
          ]
        },
        {
          "output_type": "stream",
          "name": "stderr",
          "text": [
            "/usr/local/lib/python3.7/dist-packages/ipykernel_launcher.py:129: DeprecationWarning: `np.bool` is a deprecated alias for the builtin `bool`. To silence this warning, use `bool` by itself. Doing this will not modify any behavior and is safe. If you specifically wanted the numpy scalar type, use `np.bool_` here.\n",
            "Deprecated in NumPy 1.20; for more details and guidance: https://numpy.org/devdocs/release/1.20.0-notes.html#deprecations\n"
          ]
        },
        {
          "output_type": "stream",
          "name": "stdout",
          "text": [
            "cc.shape, min(cc),max(cc): (38265,), 79,309\n",
            "After fixing the dirt mask, new values:\n",
            "rr.shape, min(rr),max(rr): (38265,), 186,398\n",
            "cc.shape, min(cc),max(cc): (38265,), 79,309\n",
            "mask.shape, min(mask),max(mask): (1365, 2047, 14), 0,1\n",
            "rr.shape, min(rr),max(rr): (29337,), 371,535\n",
            "cc.shape, min(cc),max(cc): (29337,), 0,213\n",
            "After fixing the dirt mask, new values:\n",
            "rr.shape, min(rr),max(rr): (29337,), 371,535\n",
            "cc.shape, min(cc),max(cc): (29337,), 0,213\n"
          ]
        },
        {
          "output_type": "stream",
          "name": "stderr",
          "text": [
            "/usr/local/lib/python3.7/dist-packages/skimage/transform/_warps.py:830: FutureWarning: Input image dtype is bool. Interpolation is not defined with bool data type. Please set order to 0 or explicitely cast input image to another data type. Starting from version 0.19 a ValueError will be raised instead of this warning.\n",
            "  order = _validate_interpolation_order(image.dtype, order)\n"
          ]
        },
        {
          "output_type": "stream",
          "name": "stdout",
          "text": [
            "mask.shape, min(mask),max(mask): (1365, 2047, 14), 0,1\n",
            "rr.shape, min(rr),max(rr): (33603,), 33,249\n",
            "cc.shape, min(cc),max(cc): (33603,), 218,454\n",
            "After fixing the dirt mask, new values:\n",
            "rr.shape, min(rr),max(rr): (33603,), 33,249\n",
            "cc.shape, min(cc),max(cc): (33603,), 218,454\n",
            "mask.shape, min(mask),max(mask): (1365, 2047, 14), 0,1\n",
            "rr.shape, min(rr),max(rr): (28751,), 377,542\n",
            "cc.shape, min(cc),max(cc): (28751,), 192,409\n",
            "After fixing the dirt mask, new values:\n",
            "rr.shape, min(rr),max(rr): (28751,), 377,542\n",
            "cc.shape, min(cc),max(cc): (28751,), 192,409\n",
            "mask.shape, min(mask),max(mask): (1365, 2047, 14), 0,1\n",
            "rr.shape, min(rr),max(rr): (35438,), 177,403\n",
            "cc.shape, min(cc),max(cc): (35438,), 286,504\n",
            "After fixing the dirt mask, new values:\n",
            "rr.shape, min(rr),max(rr): (35438,), 177,403\n",
            "cc.shape, min(cc),max(cc): (35438,), 286,504\n",
            "mask.shape, min(mask),max(mask): (1365, 2047, 14), 0,1\n",
            "rr.shape, min(rr),max(rr): (37200,), 0,219\n",
            "cc.shape, min(cc),max(cc): (37200,), 436,681\n",
            "After fixing the dirt mask, new values:\n",
            "rr.shape, min(rr),max(rr): (37200,), 0,219\n",
            "cc.shape, min(cc),max(cc): (37200,), 436,681\n",
            "mask.shape, min(mask),max(mask): (1367, 2048, 2), 0,0\n",
            "rr.shape, min(rr),max(rr): (260912,), 239,1007\n",
            "cc.shape, min(cc),max(cc): (260912,), 750,1336\n",
            "After fixing the dirt mask, new values:\n",
            "rr.shape, min(rr),max(rr): (260912,), 239,1007\n",
            "cc.shape, min(cc),max(cc): (260912,), 750,1336\n",
            "mask.shape, min(mask),max(mask): (1365, 2047, 14), 0,1\n",
            "rr.shape, min(rr),max(rr): (42911,), 175,409\n",
            "cc.shape, min(cc),max(cc): (42911,), 499,745\n",
            "After fixing the dirt mask, new values:\n",
            "rr.shape, min(rr),max(rr): (42911,), 175,409\n",
            "cc.shape, min(cc),max(cc): (42911,), 499,745\n",
            "mask.shape, min(mask),max(mask): (1367, 2048, 2), 0,1\n",
            "rr.shape, min(rr),max(rr): (58070,), 426,803\n",
            "cc.shape, min(cc),max(cc): (58070,), 500,793\n",
            "After fixing the dirt mask, new values:\n",
            "rr.shape, min(rr),max(rr): (58070,), 426,803\n",
            "cc.shape, min(cc),max(cc): (58070,), 500,793\n"
          ]
        },
        {
          "output_type": "stream",
          "name": "stderr",
          "text": [
            "/usr/local/lib/python3.7/dist-packages/ipykernel_launcher.py:129: DeprecationWarning: `np.bool` is a deprecated alias for the builtin `bool`. To silence this warning, use `bool` by itself. Doing this will not modify any behavior and is safe. If you specifically wanted the numpy scalar type, use `np.bool_` here.\n",
            "Deprecated in NumPy 1.20; for more details and guidance: https://numpy.org/devdocs/release/1.20.0-notes.html#deprecations\n"
          ]
        },
        {
          "output_type": "stream",
          "name": "stdout",
          "text": [
            "mask.shape, min(mask),max(mask): (1365, 2047, 14), 0,1\n",
            "rr.shape, min(rr),max(rr): (33085,), 379,547\n",
            "cc.shape, min(cc),max(cc): (33085,), 386,629\n",
            "After fixing the dirt mask, new values:\n",
            "rr.shape, min(rr),max(rr): (33085,), 379,547\n",
            "cc.shape, min(cc),max(cc): (33085,), 386,629\n",
            "mask.shape, min(mask),max(mask): (1365, 2047, 14), 0,1\n",
            "rr.shape, min(rr),max(rr): (28656,), 46,224\n",
            "cc.shape, min(cc),max(cc): (28656,), 662,867\n",
            "After fixing the dirt mask, new values:\n",
            "rr.shape, min(rr),max(rr): (28656,), 46,224\n",
            "cc.shape, min(cc),max(cc): (28656,), 662,867\n"
          ]
        },
        {
          "output_type": "stream",
          "name": "stderr",
          "text": [
            "/usr/local/lib/python3.7/dist-packages/skimage/transform/_warps.py:830: FutureWarning: Input image dtype is bool. Interpolation is not defined with bool data type. Please set order to 0 or explicitely cast input image to another data type. Starting from version 0.19 a ValueError will be raised instead of this warning.\n",
            "  order = _validate_interpolation_order(image.dtype, order)\n"
          ]
        },
        {
          "output_type": "stream",
          "name": "stdout",
          "text": [
            "mask.shape, min(mask),max(mask): (1365, 2047, 14), 0,1\n",
            "rr.shape, min(rr),max(rr): (32817,), 1,226\n",
            "cc.shape, min(cc),max(cc): (32817,), 863,1074\n",
            "After fixing the dirt mask, new values:\n",
            "mask.shape, min(mask),max(mask): (400, 600, 2), 0,0\n",
            "rr.shape, min(rr),max(rr): (32817,), 1,226\n",
            "rr.shape, min(rr),max(rr): (23604,), 141,325\n",
            "cc.shape, min(cc),max(cc): (32817,), 863,1074\n",
            "cc.shape, min(cc),max(cc): (23604,), 321,511\n",
            "After fixing the dirt mask, new values:\n",
            "rr.shape, min(rr),max(rr): (23604,), 141,325\n",
            "cc.shape, min(cc),max(cc): (23604,), 321,511\n",
            "mask.shape, min(mask),max(mask): (400, 600, 2), 0,1\n",
            "rr.shape, min(rr),max(rr): (19192,), 149,309\n",
            "cc.shape, min(cc),max(cc): (19192,), 53,210\n",
            "After fixing the dirt mask, new values:\n",
            "rr.shape, min(rr),max(rr): (19192,), 149,309\n",
            "cc.shape, min(cc),max(cc): (19192,), 53,210\n"
          ]
        },
        {
          "output_type": "stream",
          "name": "stderr",
          "text": [
            "/usr/local/lib/python3.7/dist-packages/ipykernel_launcher.py:129: DeprecationWarning: `np.bool` is a deprecated alias for the builtin `bool`. To silence this warning, use `bool` by itself. Doing this will not modify any behavior and is safe. If you specifically wanted the numpy scalar type, use `np.bool_` here.\n",
            "Deprecated in NumPy 1.20; for more details and guidance: https://numpy.org/devdocs/release/1.20.0-notes.html#deprecations\n"
          ]
        },
        {
          "output_type": "stream",
          "name": "stdout",
          "text": [
            "mask.shape, min(mask),max(mask): (1365, 2047, 14), 0,1\n",
            "rr.shape, min(rr),max(rr): (43264,), 184,438\n",
            "cc.shape, min(cc),max(cc): (43264,), 741,972\n",
            "After fixing the dirt mask, new values:\n",
            "rr.shape, min(rr),max(rr): (43264,), 184,438\n",
            "cc.shape, min(cc),max(cc): (43264,), 741,972\n",
            "mask.shape, min(mask),max(mask): (1365, 2047, 14), 0,1\n",
            "rr.shape, min(rr),max(rr): (25755,), 395,552\n",
            "cc.shape, min(cc),max(cc): (25755,), 612,815\n",
            "After fixing the dirt mask, new values:\n"
          ]
        },
        {
          "output_type": "stream",
          "name": "stderr",
          "text": [
            "/usr/local/lib/python3.7/dist-packages/skimage/transform/_warps.py:830: FutureWarning: Input image dtype is bool. Interpolation is not defined with bool data type. Please set order to 0 or explicitely cast input image to another data type. Starting from version 0.19 a ValueError will be raised instead of this warning.\n",
            "  order = _validate_interpolation_order(image.dtype, order)\n"
          ]
        },
        {
          "output_type": "stream",
          "name": "stdout",
          "text": [
            "rr.shape, min(rr),max(rr): (25755,), 395,552\n",
            "cc.shape, min(cc),max(cc): (25755,), 612,815\n",
            "mask.shape, min(mask),max(mask): (1365, 2047, 14), 0,1\n",
            "rr.shape, min(rr),max(rr): (25388,), 402,555\n",
            "cc.shape, min(cc),max(cc): (25388,), 806,1003\n",
            "After fixing the dirt mask, new values:\n",
            "rr.shape, min(rr),max(rr): (25388,), 402,555\n",
            "cc.shape, min(cc),max(cc): (25388,), 806,1003\n"
          ]
        },
        {
          "output_type": "stream",
          "name": "stderr",
          "text": [
            "/usr/local/lib/python3.7/dist-packages/ipykernel_launcher.py:129: DeprecationWarning: `np.bool` is a deprecated alias for the builtin `bool`. To silence this warning, use `bool` by itself. Doing this will not modify any behavior and is safe. If you specifically wanted the numpy scalar type, use `np.bool_` here.\n",
            "Deprecated in NumPy 1.20; for more details and guidance: https://numpy.org/devdocs/release/1.20.0-notes.html#deprecations\n"
          ]
        },
        {
          "output_type": "stream",
          "name": "stdout",
          "text": [
            "mask.shape, min(mask),max(mask): (1117, 1900, 1), 0,0\n",
            "rr.shape, min(rr),max(rr): (124787,), 314,700\n",
            "cc.shape, min(cc),max(cc): (124787,), 689,1125\n",
            "After fixing the dirt mask, new values:\n",
            "rr.shape, min(rr),max(rr): (124787,), 314,700\n",
            "cc.shape, min(cc),max(cc): (124787,), 689,1125\n"
          ]
        },
        {
          "output_type": "stream",
          "name": "stderr",
          "text": [
            "/usr/local/lib/python3.7/dist-packages/ipykernel_launcher.py:129: DeprecationWarning: `np.bool` is a deprecated alias for the builtin `bool`. To silence this warning, use `bool` by itself. Doing this will not modify any behavior and is safe. If you specifically wanted the numpy scalar type, use `np.bool_` here.\n",
            "Deprecated in NumPy 1.20; for more details and guidance: https://numpy.org/devdocs/release/1.20.0-notes.html#deprecations\n",
            "/usr/local/lib/python3.7/dist-packages/skimage/transform/_warps.py:830: FutureWarning: Input image dtype is bool. Interpolation is not defined with bool data type. Please set order to 0 or explicitely cast input image to another data type. Starting from version 0.19 a ValueError will be raised instead of this warning.\n",
            "  order = _validate_interpolation_order(image.dtype, order)\n"
          ]
        },
        {
          "output_type": "stream",
          "name": "stdout",
          "text": [
            "mask.shape, min(mask),max(mask): (700, 700, 4), 0,0\n",
            "rr.shape, min(rr),max(rr): (58846,), 83,387\n",
            "cc.shape, min(cc),max(cc): (58846,), 226,528\n",
            "After fixing the dirt mask, new values:\n",
            "rr.shape, min(rr),max(rr): (58846,), 83,387\n"
          ]
        },
        {
          "output_type": "stream",
          "name": "stderr",
          "text": [
            "/usr/local/lib/python3.7/dist-packages/skimage/transform/_warps.py:830: FutureWarning: Input image dtype is bool. Interpolation is not defined with bool data type. Please set order to 0 or explicitely cast input image to another data type. Starting from version 0.19 a ValueError will be raised instead of this warning.\n",
            "  order = _validate_interpolation_order(image.dtype, order)\n"
          ]
        },
        {
          "output_type": "stream",
          "name": "stdout",
          "text": [
            "cc.shape, min(cc),max(cc): (58846,), 226,528\n",
            "mask.shape, min(mask),max(mask): (700, 700, 4), 0,1\n",
            "rr.shape, min(rr),max(rr): (23470,), 50,267\n",
            "cc.shape, min(cc),max(cc): (23470,), 485,640\n",
            "After fixing the dirt mask, new values:\n",
            "rr.shape, min(rr),max(rr): (23470,), 50,267\n",
            "cc.shape, min(cc),max(cc): (23470,), 485,640\n",
            "mask.shape, min(mask),max(mask): (700, 700, 4), 0,1\n",
            "rr.shape, min(rr),max(rr): (68531,), 336,650\n",
            "cc.shape, min(cc),max(cc): (68531,), 97,371\n",
            "After fixing the dirt mask, new values:\n",
            "rr.shape, min(rr),max(rr): (68531,), 336,650\n",
            "cc.shape, min(cc),max(cc): (68531,), 97,371\n",
            "mask.shape, min(mask),max(mask): (700, 700, 4), 0,1\n",
            "rr.shape, min(rr),max(rr): (44659,), 457,649\n",
            "cc.shape, min(cc),max(cc): (44659,), 354,615\n",
            "After fixing the dirt mask, new values:\n",
            "rr.shape, min(rr),max(rr): (44659,), 457,649\n",
            "cc.shape, min(cc),max(cc): (44659,), 354,615\n"
          ]
        },
        {
          "output_type": "stream",
          "name": "stderr",
          "text": [
            "/usr/local/lib/python3.7/dist-packages/ipykernel_launcher.py:129: DeprecationWarning: `np.bool` is a deprecated alias for the builtin `bool`. To silence this warning, use `bool` by itself. Doing this will not modify any behavior and is safe. If you specifically wanted the numpy scalar type, use `np.bool_` here.\n",
            "Deprecated in NumPy 1.20; for more details and guidance: https://numpy.org/devdocs/release/1.20.0-notes.html#deprecations\n",
            "/usr/local/lib/python3.7/dist-packages/skimage/transform/_warps.py:830: FutureWarning: Input image dtype is bool. Interpolation is not defined with bool data type. Please set order to 0 or explicitely cast input image to another data type. Starting from version 0.19 a ValueError will be raised instead of this warning.\n",
            "  order = _validate_interpolation_order(image.dtype, order)\n"
          ]
        },
        {
          "output_type": "stream",
          "name": "stdout",
          "text": [
            "mask.shape, min(mask),max(mask): (541, 812, 4), 0,0\n",
            "rr.shape, min(rr),max(rr): (82349,), 67,387\n",
            "cc.shape, min(cc),max(cc): (82349,), 283,641\n",
            "After fixing the dirt mask, new values:\n",
            "rr.shape, min(rr),max(rr): (82349,), 67,387\n",
            "cc.shape, min(cc),max(cc): (82349,), 283,641\n",
            "mask.shape, min(mask),max(mask): (541, 812, 4), 0,1\n",
            "rr.shape, min(rr),max(rr): (86074,), 4,326\n",
            "cc.shape, min(cc),max(cc): (86074,), 0,401\n",
            "After fixing the dirt mask, new values:\n",
            "rr.shape, min(rr),max(rr): (86074,), 4,326\n",
            "cc.shape, min(cc),max(cc): (86074,), 0,401\n",
            "mask.shape, min(mask),max(mask): (541, 812, 4), 0,1\n",
            "rr.shape, min(rr),max(rr): (19352,), 1,134\n",
            "cc.shape, min(cc),max(cc): (19352,), 398,664\n",
            "After fixing the dirt mask, new values:\n",
            "rr.shape, min(rr),max(rr): (19352,), 1,134\n",
            "cc.shape, min(cc),max(cc): (19352,), 398,664\n",
            "mask.shape, min(mask),max(mask): (541, 812, 4), 0,1\n",
            "rr.shape, min(rr),max(rr): (8580,), 0,72\n",
            "cc.shape, min(cc),max(cc): (8580,), 140,417\n",
            "After fixing the dirt mask, new values:\n",
            "rr.shape, min(rr),max(rr): (8580,), 0,72\n",
            "cc.shape, min(cc),max(cc): (8580,), 140,417\n"
          ]
        },
        {
          "output_type": "stream",
          "name": "stderr",
          "text": [
            "/usr/local/lib/python3.7/dist-packages/ipykernel_launcher.py:129: DeprecationWarning: `np.bool` is a deprecated alias for the builtin `bool`. To silence this warning, use `bool` by itself. Doing this will not modify any behavior and is safe. If you specifically wanted the numpy scalar type, use `np.bool_` here.\n",
            "Deprecated in NumPy 1.20; for more details and guidance: https://numpy.org/devdocs/release/1.20.0-notes.html#deprecations\n"
          ]
        },
        {
          "output_type": "stream",
          "name": "stdout",
          "text": [
            "mask.shape, min(mask),max(mask): (480, 960, 1), 0,0\n",
            "rr.shape, min(rr),max(rr): (20977,), 87,221\n",
            "cc.shape, min(cc),max(cc): (20977,), 512,744\n",
            "After fixing the dirt mask, new values:\n",
            "rr.shape, min(rr),max(rr): (20977,), 87,221\n",
            "cc.shape, min(cc),max(cc): (20977,), 512,744\n"
          ]
        },
        {
          "output_type": "stream",
          "name": "stderr",
          "text": [
            "/usr/local/lib/python3.7/dist-packages/ipykernel_launcher.py:129: DeprecationWarning: `np.bool` is a deprecated alias for the builtin `bool`. To silence this warning, use `bool` by itself. Doing this will not modify any behavior and is safe. If you specifically wanted the numpy scalar type, use `np.bool_` here.\n",
            "Deprecated in NumPy 1.20; for more details and guidance: https://numpy.org/devdocs/release/1.20.0-notes.html#deprecations\n",
            "/usr/local/lib/python3.7/dist-packages/skimage/transform/_warps.py:830: FutureWarning: Input image dtype is bool. Interpolation is not defined with bool data type. Please set order to 0 or explicitely cast input image to another data type. Starting from version 0.19 a ValueError will be raised instead of this warning.\n",
            "  order = _validate_interpolation_order(image.dtype, order)\n",
            "/usr/local/lib/python3.7/dist-packages/skimage/transform/_warps.py:830: FutureWarning: Input image dtype is bool. Interpolation is not defined with bool data type. Please set order to 0 or explicitely cast input image to another data type. Starting from version 0.19 a ValueError will be raised instead of this warning.\n",
            "  order = _validate_interpolation_order(image.dtype, order)\n"
          ]
        },
        {
          "output_type": "stream",
          "name": "stdout",
          "text": [
            "mask.shape, min(mask),max(mask): (500, 500, 1), 0,0\n",
            "rr.shape, min(rr),max(rr): (38525,), 165,385\n",
            "cc.shape, min(cc),max(cc): (38525,), 0,243\n",
            "After fixing the dirt mask, new values:\n",
            "rr.shape, min(rr),max(rr): (38525,), 165,385\n",
            "cc.shape, min(cc),max(cc): (38525,), 0,243\n"
          ]
        },
        {
          "output_type": "stream",
          "name": "stderr",
          "text": [
            "/usr/local/lib/python3.7/dist-packages/ipykernel_launcher.py:129: DeprecationWarning: `np.bool` is a deprecated alias for the builtin `bool`. To silence this warning, use `bool` by itself. Doing this will not modify any behavior and is safe. If you specifically wanted the numpy scalar type, use `np.bool_` here.\n",
            "Deprecated in NumPy 1.20; for more details and guidance: https://numpy.org/devdocs/release/1.20.0-notes.html#deprecations\n"
          ]
        },
        {
          "output_type": "stream",
          "name": "stdout",
          "text": [
            "mask.shape, min(mask),max(mask): (905, 1024, 1), 0,0\n",
            "rr.shape, min(rr),max(rr): (241814,), 35,587\n",
            "cc.shape, min(cc),max(cc): (241814,), 97,698\n",
            "After fixing the dirt mask, new values:\n",
            "rr.shape, min(rr),max(rr): (241814,), 35,587\n",
            "cc.shape, min(cc),max(cc): (241814,), 97,698\n"
          ]
        },
        {
          "output_type": "stream",
          "name": "stderr",
          "text": [
            "/usr/local/lib/python3.7/dist-packages/ipykernel_launcher.py:129: DeprecationWarning: `np.bool` is a deprecated alias for the builtin `bool`. To silence this warning, use `bool` by itself. Doing this will not modify any behavior and is safe. If you specifically wanted the numpy scalar type, use `np.bool_` here.\n",
            "Deprecated in NumPy 1.20; for more details and guidance: https://numpy.org/devdocs/release/1.20.0-notes.html#deprecations\n",
            "/usr/local/lib/python3.7/dist-packages/skimage/transform/_warps.py:830: FutureWarning: Input image dtype is bool. Interpolation is not defined with bool data type. Please set order to 0 or explicitely cast input image to another data type. Starting from version 0.19 a ValueError will be raised instead of this warning.\n",
            "  order = _validate_interpolation_order(image.dtype, order)\n",
            "/usr/local/lib/python3.7/dist-packages/skimage/transform/_warps.py:830: FutureWarning: Input image dtype is bool. Interpolation is not defined with bool data type. Please set order to 0 or explicitely cast input image to another data type. Starting from version 0.19 a ValueError will be raised instead of this warning.\n",
            "  order = _validate_interpolation_order(image.dtype, order)\n"
          ]
        },
        {
          "output_type": "stream",
          "name": "stdout",
          "text": [
            "mask.shape, min(mask),max(mask): (480, 852, 1), 0,0\n",
            "rr.shape, min(rr),max(rr): (36766,), 121,340\n",
            "cc.shape, min(cc),max(cc): (36766,), 340,565\n",
            "After fixing the dirt mask, new values:\n",
            "rr.shape, min(rr),max(rr): (36766,), 121,340\n",
            "cc.shape, min(cc),max(cc): (36766,), 340,565\n"
          ]
        },
        {
          "output_type": "stream",
          "name": "stderr",
          "text": [
            "/usr/local/lib/python3.7/dist-packages/ipykernel_launcher.py:129: DeprecationWarning: `np.bool` is a deprecated alias for the builtin `bool`. To silence this warning, use `bool` by itself. Doing this will not modify any behavior and is safe. If you specifically wanted the numpy scalar type, use `np.bool_` here.\n",
            "Deprecated in NumPy 1.20; for more details and guidance: https://numpy.org/devdocs/release/1.20.0-notes.html#deprecations\n",
            "/usr/local/lib/python3.7/dist-packages/skimage/transform/_warps.py:830: FutureWarning: Input image dtype is bool. Interpolation is not defined with bool data type. Please set order to 0 or explicitely cast input image to another data type. Starting from version 0.19 a ValueError will be raised instead of this warning.\n",
            "  order = _validate_interpolation_order(image.dtype, order)\n"
          ]
        },
        {
          "output_type": "stream",
          "name": "stdout",
          "text": [
            "mask.shape, min(mask),max(mask): (763, 1024, 2), 0,0\n",
            "rr.shape, min(rr),max(rr): (151648,), 89,694\n",
            "cc.shape, min(cc),max(cc): (151648,), 81,487\n",
            "After fixing the dirt mask, new values:\n",
            "rr.shape, min(rr),max(rr): (151648,), 89,694\n",
            "cc.shape, min(cc),max(cc): (151648,), 81,487\n",
            "mask.shape, min(mask),max(mask): (554, 900, 1), 0,0\n",
            "rr.shape, min(rr),max(rr): (64330,), 99,453\n",
            "cc.shape, min(cc),max(cc): (64330,), 56,323\n",
            "After fixing the dirt mask, new values:\n",
            "rr.shape, min(rr),max(rr): (64330,), 99,453\n",
            "cc.shape, min(cc),max(cc): (64330,), 56,323\n"
          ]
        },
        {
          "output_type": "stream",
          "name": "stderr",
          "text": [
            "/usr/local/lib/python3.7/dist-packages/ipykernel_launcher.py:129: DeprecationWarning: `np.bool` is a deprecated alias for the builtin `bool`. To silence this warning, use `bool` by itself. Doing this will not modify any behavior and is safe. If you specifically wanted the numpy scalar type, use `np.bool_` here.\n",
            "Deprecated in NumPy 1.20; for more details and guidance: https://numpy.org/devdocs/release/1.20.0-notes.html#deprecations\n"
          ]
        },
        {
          "output_type": "stream",
          "name": "stdout",
          "text": [
            "mask.shape, min(mask),max(mask): (763, 1024, 2), 0,1\n",
            "rr.shape, min(rr),max(rr): (140945,), 203,708\n",
            "cc.shape, min(cc),max(cc): (140945,), 500,917\n",
            "After fixing the dirt mask, new values:\n",
            "rr.shape, min(rr),max(rr): (140945,), 203,708\n",
            "cc.shape, min(cc),max(cc): (140945,), 500,917\n"
          ]
        },
        {
          "output_type": "stream",
          "name": "stderr",
          "text": [
            "/usr/local/lib/python3.7/dist-packages/ipykernel_launcher.py:129: DeprecationWarning: `np.bool` is a deprecated alias for the builtin `bool`. To silence this warning, use `bool` by itself. Doing this will not modify any behavior and is safe. If you specifically wanted the numpy scalar type, use `np.bool_` here.\n",
            "Deprecated in NumPy 1.20; for more details and guidance: https://numpy.org/devdocs/release/1.20.0-notes.html#deprecations\n",
            "/usr/local/lib/python3.7/dist-packages/skimage/transform/_warps.py:830: FutureWarning: Input image dtype is bool. Interpolation is not defined with bool data type. Please set order to 0 or explicitely cast input image to another data type. Starting from version 0.19 a ValueError will be raised instead of this warning.\n",
            "  order = _validate_interpolation_order(image.dtype, order)\n",
            "/usr/local/lib/python3.7/dist-packages/skimage/transform/_warps.py:830: FutureWarning: Input image dtype is bool. Interpolation is not defined with bool data type. Please set order to 0 or explicitely cast input image to another data type. Starting from version 0.19 a ValueError will be raised instead of this warning.\n",
            "  order = _validate_interpolation_order(image.dtype, order)\n"
          ]
        },
        {
          "output_type": "stream",
          "name": "stdout",
          "text": [
            "mask.shape, min(mask),max(mask): (500, 500, 1), 0,0\n",
            "mask.shape, min(mask),max(mask): (550, 550, 1), 0,0\n",
            "rr.shape, min(rr),max(rr): (38525,), 165,385\n",
            "cc.shape, min(cc),max(cc): (38525,), 0,243\n",
            "rr.shape, min(rr),max(rr): (41666,), 169,425\n",
            "After fixing the dirt mask, new values:\n",
            "cc.shape, min(cc),max(cc): (41666,), 315,524\n",
            "rr.shape, min(rr),max(rr): (38525,), 165,385\n",
            "After fixing the dirt mask, new values:\n",
            "rr.shape, min(rr),max(rr): (41666,), 169,425\n",
            "cc.shape, min(cc),max(cc): (38525,), 0,243\n"
          ]
        },
        {
          "output_type": "stream",
          "name": "stderr",
          "text": [
            "/usr/local/lib/python3.7/dist-packages/ipykernel_launcher.py:129: DeprecationWarning: `np.bool` is a deprecated alias for the builtin `bool`. To silence this warning, use `bool` by itself. Doing this will not modify any behavior and is safe. If you specifically wanted the numpy scalar type, use `np.bool_` here.\n",
            "Deprecated in NumPy 1.20; for more details and guidance: https://numpy.org/devdocs/release/1.20.0-notes.html#deprecations\n"
          ]
        },
        {
          "output_type": "stream",
          "name": "stdout",
          "text": [
            "cc.shape, min(cc),max(cc): (41666,), 315,524\n"
          ]
        },
        {
          "output_type": "stream",
          "name": "stderr",
          "text": [
            "/usr/local/lib/python3.7/dist-packages/ipykernel_launcher.py:129: DeprecationWarning: `np.bool` is a deprecated alias for the builtin `bool`. To silence this warning, use `bool` by itself. Doing this will not modify any behavior and is safe. If you specifically wanted the numpy scalar type, use `np.bool_` here.\n",
            "Deprecated in NumPy 1.20; for more details and guidance: https://numpy.org/devdocs/release/1.20.0-notes.html#deprecations\n",
            "/usr/local/lib/python3.7/dist-packages/skimage/transform/_warps.py:830: FutureWarning: Input image dtype is bool. Interpolation is not defined with bool data type. Please set order to 0 or explicitely cast input image to another data type. Starting from version 0.19 a ValueError will be raised instead of this warning.\n",
            "  order = _validate_interpolation_order(image.dtype, order)\n",
            "/usr/local/lib/python3.7/dist-packages/skimage/transform/_warps.py:830: FutureWarning: Input image dtype is bool. Interpolation is not defined with bool data type. Please set order to 0 or explicitely cast input image to another data type. Starting from version 0.19 a ValueError will be raised instead of this warning.\n",
            "  order = _validate_interpolation_order(image.dtype, order)\n"
          ]
        },
        {
          "output_type": "stream",
          "name": "stdout",
          "text": [
            "mask.shape, min(mask),max(mask): (683, 1024, 1), 0,0\n",
            "rr.shape, min(rr),max(rr): (46308,), 202,443\n",
            "mask.shape, min(mask),max(mask): (425, 500, 2), 0,0\n",
            "rr.shape, min(rr),max(rr): (62429,), 56,390\n",
            "cc.shape, min(cc),max(cc): (46308,), 325,592\n",
            "cc.shape, min(cc),max(cc): (62429,), 47,312\n",
            "After fixing the dirt mask, new values:\n",
            "rr.shape, min(rr),max(rr): (62429,), 56,390\n",
            "After fixing the dirt mask, new values:\n",
            "cc.shape, min(cc),max(cc): (62429,), 47,312\n",
            "rr.shape, min(rr),max(rr): (46308,), 202,443\n",
            "cc.shape, min(cc),max(cc): (46308,), 325,592\n"
          ]
        },
        {
          "output_type": "stream",
          "name": "stderr",
          "text": [
            "/usr/local/lib/python3.7/dist-packages/ipykernel_launcher.py:129: DeprecationWarning: `np.bool` is a deprecated alias for the builtin `bool`. To silence this warning, use `bool` by itself. Doing this will not modify any behavior and is safe. If you specifically wanted the numpy scalar type, use `np.bool_` here.\n",
            "Deprecated in NumPy 1.20; for more details and guidance: https://numpy.org/devdocs/release/1.20.0-notes.html#deprecations\n"
          ]
        },
        {
          "output_type": "stream",
          "name": "stdout",
          "text": [
            "mask.shape, min(mask),max(mask): (425, 500, 2), 0,1\n",
            "rr.shape, min(rr),max(rr): (28109,), 115,331\n",
            "cc.shape, min(cc),max(cc): (28109,), 277,455\n",
            "After fixing the dirt mask, new values:\n",
            "rr.shape, min(rr),max(rr): (28109,), 115,331\n"
          ]
        },
        {
          "output_type": "stream",
          "name": "stderr",
          "text": [
            "/usr/local/lib/python3.7/dist-packages/skimage/transform/_warps.py:830: FutureWarning: Input image dtype is bool. Interpolation is not defined with bool data type. Please set order to 0 or explicitely cast input image to another data type. Starting from version 0.19 a ValueError will be raised instead of this warning.\n",
            "  order = _validate_interpolation_order(image.dtype, order)\n"
          ]
        },
        {
          "output_type": "stream",
          "name": "stdout",
          "text": [
            "cc.shape, min(cc),max(cc): (28109,), 277,455\n"
          ]
        },
        {
          "output_type": "stream",
          "name": "stderr",
          "text": [
            "/usr/local/lib/python3.7/dist-packages/ipykernel_launcher.py:129: DeprecationWarning: `np.bool` is a deprecated alias for the builtin `bool`. To silence this warning, use `bool` by itself. Doing this will not modify any behavior and is safe. If you specifically wanted the numpy scalar type, use `np.bool_` here.\n",
            "Deprecated in NumPy 1.20; for more details and guidance: https://numpy.org/devdocs/release/1.20.0-notes.html#deprecations\n"
          ]
        },
        {
          "output_type": "stream",
          "name": "stdout",
          "text": [
            "mask.shape, min(mask),max(mask): (700, 700, 4), 0,0\n",
            "rr.shape, min(rr),max(rr): (58846,), 83,387\n",
            "cc.shape, min(cc),max(cc): (58846,), 226,528\n",
            "After fixing the dirt mask, new values:\n",
            "rr.shape, min(rr),max(rr): (58846,), 83,387\n"
          ]
        },
        {
          "output_type": "stream",
          "name": "stderr",
          "text": [
            "/usr/local/lib/python3.7/dist-packages/skimage/transform/_warps.py:830: FutureWarning: Input image dtype is bool. Interpolation is not defined with bool data type. Please set order to 0 or explicitely cast input image to another data type. Starting from version 0.19 a ValueError will be raised instead of this warning.\n",
            "  order = _validate_interpolation_order(image.dtype, order)\n"
          ]
        },
        {
          "output_type": "stream",
          "name": "stdout",
          "text": [
            "cc.shape, min(cc),max(cc): (58846,), 226,528\n",
            "mask.shape, min(mask),max(mask): (700, 700, 4), 0,1\n",
            "rr.shape, min(rr),max(rr): (23470,), 50,267\n",
            "cc.shape, min(cc),max(cc): (23470,), 485,640\n",
            "After fixing the dirt mask, new values:\n",
            "rr.shape, min(rr),max(rr): (23470,), 50,267\n",
            "cc.shape, min(cc),max(cc): (23470,), 485,640\n",
            "mask.shape, min(mask),max(mask): (700, 700, 4), 0,1\n",
            "rr.shape, min(rr),max(rr): (68531,), 336,650\n",
            "cc.shape, min(cc),max(cc): (68531,), 97,371\n",
            "After fixing the dirt mask, new values:\n",
            "rr.shape, min(rr),max(rr): (68531,), 336,650\n",
            "cc.shape, min(cc),max(cc): (68531,), 97,371\n",
            "mask.shape, min(mask),max(mask): (480, 600, 1), 0,0\n",
            "rr.shape, min(rr),max(rr): (93951,), 88,479\n",
            "cc.shape, min(cc),max(cc): (93951,), 0,281\n",
            "mask.shape, min(mask),max(mask): (700, 700, 4), 0,1\n",
            "After fixing the dirt mask, new values:\n",
            "rr.shape, min(rr),max(rr): (93951,), 88,479\n",
            "rr.shape, min(rr),max(rr): (44659,), 457,649\n",
            "cc.shape, min(cc),max(cc): (44659,), 354,615\n",
            "cc.shape, min(cc),max(cc): (93951,), 0,281\n"
          ]
        },
        {
          "output_type": "stream",
          "name": "stderr",
          "text": [
            "/usr/local/lib/python3.7/dist-packages/ipykernel_launcher.py:129: DeprecationWarning: `np.bool` is a deprecated alias for the builtin `bool`. To silence this warning, use `bool` by itself. Doing this will not modify any behavior and is safe. If you specifically wanted the numpy scalar type, use `np.bool_` here.\n",
            "Deprecated in NumPy 1.20; for more details and guidance: https://numpy.org/devdocs/release/1.20.0-notes.html#deprecations\n"
          ]
        },
        {
          "output_type": "stream",
          "name": "stdout",
          "text": [
            "After fixing the dirt mask, new values:\n",
            "rr.shape, min(rr),max(rr): (44659,), 457,649\n",
            "cc.shape, min(cc),max(cc): (44659,), 354,615\n"
          ]
        },
        {
          "output_type": "stream",
          "name": "stderr",
          "text": [
            "/usr/local/lib/python3.7/dist-packages/ipykernel_launcher.py:129: DeprecationWarning: `np.bool` is a deprecated alias for the builtin `bool`. To silence this warning, use `bool` by itself. Doing this will not modify any behavior and is safe. If you specifically wanted the numpy scalar type, use `np.bool_` here.\n",
            "Deprecated in NumPy 1.20; for more details and guidance: https://numpy.org/devdocs/release/1.20.0-notes.html#deprecations\n",
            "/usr/local/lib/python3.7/dist-packages/skimage/transform/_warps.py:830: FutureWarning: Input image dtype is bool. Interpolation is not defined with bool data type. Please set order to 0 or explicitely cast input image to another data type. Starting from version 0.19 a ValueError will be raised instead of this warning.\n",
            "  order = _validate_interpolation_order(image.dtype, order)\n",
            "/usr/local/lib/python3.7/dist-packages/skimage/transform/_warps.py:830: FutureWarning: Input image dtype is bool. Interpolation is not defined with bool data type. Please set order to 0 or explicitely cast input image to another data type. Starting from version 0.19 a ValueError will be raised instead of this warning.\n",
            "  order = _validate_interpolation_order(image.dtype, order)\n"
          ]
        },
        {
          "output_type": "stream",
          "name": "stdout",
          "text": [
            "mask.shape, min(mask),max(mask): (470, 470, 2), 0,0\n",
            "rr.shape, min(rr),max(rr): (21488,), 86,258\n",
            "cc.shape, min(cc),max(cc): (21488,), 146,304\n",
            "After fixing the dirt mask, new values:\n",
            "rr.shape, min(rr),max(rr): (21488,), 86,258\n",
            "cc.shape, min(cc),max(cc): (21488,), 146,304\n",
            "mask.shape, min(mask),max(mask): (470, 470, 2), 0,1\n",
            "rr.shape, min(rr),max(rr): (21438,), 248,420\n",
            "cc.shape, min(cc),max(cc): (21438,), 155,310\n",
            "After fixing the dirt mask, new values:\n",
            "rr.shape, min(rr),max(rr): (21438,), 248,420\n",
            "cc.shape, min(cc),max(cc): (21438,), 155,310\n"
          ]
        },
        {
          "output_type": "stream",
          "name": "stderr",
          "text": [
            "/usr/local/lib/python3.7/dist-packages/ipykernel_launcher.py:129: DeprecationWarning: `np.bool` is a deprecated alias for the builtin `bool`. To silence this warning, use `bool` by itself. Doing this will not modify any behavior and is safe. If you specifically wanted the numpy scalar type, use `np.bool_` here.\n",
            "Deprecated in NumPy 1.20; for more details and guidance: https://numpy.org/devdocs/release/1.20.0-notes.html#deprecations\n",
            "/usr/local/lib/python3.7/dist-packages/skimage/transform/_warps.py:830: FutureWarning: Input image dtype is bool. Interpolation is not defined with bool data type. Please set order to 0 or explicitely cast input image to another data type. Starting from version 0.19 a ValueError will be raised instead of this warning.\n",
            "  order = _validate_interpolation_order(image.dtype, order)\n"
          ]
        },
        {
          "output_type": "stream",
          "name": "stdout",
          "text": [
            "mask.shape, min(mask),max(mask): (905, 1024, 1), 0,0\n",
            "rr.shape, min(rr),max(rr): (241814,), 35,587\n",
            "cc.shape, min(cc),max(cc): (241814,), 97,698\n",
            "After fixing the dirt mask, new values:\n",
            "rr.shape, min(rr),max(rr): (241814,), 35,587\n",
            "cc.shape, min(cc),max(cc): (241814,), 97,698\n"
          ]
        },
        {
          "output_type": "stream",
          "name": "stderr",
          "text": [
            "/usr/local/lib/python3.7/dist-packages/ipykernel_launcher.py:129: DeprecationWarning: `np.bool` is a deprecated alias for the builtin `bool`. To silence this warning, use `bool` by itself. Doing this will not modify any behavior and is safe. If you specifically wanted the numpy scalar type, use `np.bool_` here.\n",
            "Deprecated in NumPy 1.20; for more details and guidance: https://numpy.org/devdocs/release/1.20.0-notes.html#deprecations\n",
            "/usr/local/lib/python3.7/dist-packages/skimage/transform/_warps.py:830: FutureWarning: Input image dtype is bool. Interpolation is not defined with bool data type. Please set order to 0 or explicitely cast input image to another data type. Starting from version 0.19 a ValueError will be raised instead of this warning.\n",
            "  order = _validate_interpolation_order(image.dtype, order)\n"
          ]
        },
        {
          "output_type": "stream",
          "name": "stdout",
          "text": [
            "mask.shape, min(mask),max(mask): (720, 960, 1), 0,0\n",
            "rr.shape, min(rr),max(rr): (42613,), 13,247\n",
            "cc.shape, min(cc),max(cc): (42613,), 136,406\n",
            "After fixing the dirt mask, new values:\n",
            "rr.shape, min(rr),max(rr): (42613,), 13,247\n",
            "cc.shape, min(cc),max(cc): (42613,), 136,406\n"
          ]
        },
        {
          "output_type": "stream",
          "name": "stderr",
          "text": [
            "/usr/local/lib/python3.7/dist-packages/ipykernel_launcher.py:129: DeprecationWarning: `np.bool` is a deprecated alias for the builtin `bool`. To silence this warning, use `bool` by itself. Doing this will not modify any behavior and is safe. If you specifically wanted the numpy scalar type, use `np.bool_` here.\n",
            "Deprecated in NumPy 1.20; for more details and guidance: https://numpy.org/devdocs/release/1.20.0-notes.html#deprecations\n"
          ]
        },
        {
          "output_type": "stream",
          "name": "stdout",
          "text": [
            "mask.shape, min(mask),max(mask): (1024, 683, 1), 0,0\n",
            "rr.shape, min(rr),max(rr): (190428,), 472,1024\n",
            "cc.shape, min(cc),max(cc): (190428,), 92,577\n",
            "After fixing the dirt mask, new values:\n",
            "rr.shape, min(rr),max(rr): (190428,), 472,1023\n",
            "cc.shape, min(cc),max(cc): (190428,), 92,577\n"
          ]
        },
        {
          "output_type": "stream",
          "name": "stderr",
          "text": [
            "/usr/local/lib/python3.7/dist-packages/ipykernel_launcher.py:129: DeprecationWarning: `np.bool` is a deprecated alias for the builtin `bool`. To silence this warning, use `bool` by itself. Doing this will not modify any behavior and is safe. If you specifically wanted the numpy scalar type, use `np.bool_` here.\n",
            "Deprecated in NumPy 1.20; for more details and guidance: https://numpy.org/devdocs/release/1.20.0-notes.html#deprecations\n",
            "/usr/local/lib/python3.7/dist-packages/skimage/transform/_warps.py:830: FutureWarning: Input image dtype is bool. Interpolation is not defined with bool data type. Please set order to 0 or explicitely cast input image to another data type. Starting from version 0.19 a ValueError will be raised instead of this warning.\n",
            "  order = _validate_interpolation_order(image.dtype, order)\n",
            "/usr/local/lib/python3.7/dist-packages/skimage/transform/_warps.py:830: FutureWarning: Input image dtype is bool. Interpolation is not defined with bool data type. Please set order to 0 or explicitely cast input image to another data type. Starting from version 0.19 a ValueError will be raised instead of this warning.\n",
            "  order = _validate_interpolation_order(image.dtype, order)\n"
          ]
        },
        {
          "output_type": "stream",
          "name": "stdout",
          "text": [
            "mask.shape, min(mask),max(mask): (750, 750, 5), 0,0\n",
            "rr.shape, min(rr),max(rr): (62548,), 158,421\n",
            "cc.shape, min(cc),max(cc): (62548,), 340,619\n",
            "After fixing the dirt mask, new values:\n",
            "rr.shape, min(rr),max(rr): (62548,), 158,421\n",
            "cc.shape, min(cc),max(cc): (62548,), 340,619\n",
            "mask.shape, min(mask),max(mask): (750, 750, 5), 0,1\n",
            "rr.shape, min(rr),max(rr): (56722,), 380,655\n",
            "cc.shape, min(cc),max(cc): (56722,), 441,702\n",
            "After fixing the dirt mask, new values:\n",
            "rr.shape, min(rr),max(rr): (56722,), 380,655\n",
            "cc.shape, min(cc),max(cc): (56722,), 441,702\n",
            "mask.shape, min(mask),max(mask): (750, 750, 5), 0,1\n",
            "rr.shape, min(rr),max(rr): (61219,), 202,471\n",
            "cc.shape, min(cc),max(cc): (61219,), 66,338\n",
            "After fixing the dirt mask, new values:\n",
            "rr.shape, min(rr),max(rr): (61219,), 202,471\n",
            "cc.shape, min(cc),max(cc): (61219,), 66,338\n",
            "mask.shape, min(mask),max(mask): (750, 750, 5), 0,1\n",
            "rr.shape, min(rr),max(rr): (59209,), 489,750\n",
            "cc.shape, min(cc),max(cc): (59209,), 83,361\n",
            "After fixing the dirt mask, new values:\n",
            "rr.shape, min(rr),max(rr): (59209,), 489,749\n",
            "cc.shape, min(cc),max(cc): (59209,), 83,361\n",
            "mask.shape, min(mask),max(mask): (2048, 1536, 1), 0,0\n",
            "rr.shape, min(rr),max(rr): (126162,), 1119,1586\n",
            "cc.shape, min(cc),max(cc): (126162,), 959,1350\n",
            "mask.shape, min(mask),max(mask): (750, 750, 5), 0,1\n",
            "rr.shape, min(rr),max(rr): (11042,), 158,332\n",
            "After fixing the dirt mask, new values:\n",
            "cc.shape, min(cc),max(cc): (11042,), 0,104\n",
            "rr.shape, min(rr),max(rr): (126162,), 1119,1586\n",
            "After fixing the dirt mask, new values:\n",
            "cc.shape, min(cc),max(cc): (126162,), 959,1350\n"
          ]
        },
        {
          "output_type": "stream",
          "name": "stderr",
          "text": [
            "/usr/local/lib/python3.7/dist-packages/ipykernel_launcher.py:129: DeprecationWarning: `np.bool` is a deprecated alias for the builtin `bool`. To silence this warning, use `bool` by itself. Doing this will not modify any behavior and is safe. If you specifically wanted the numpy scalar type, use `np.bool_` here.\n",
            "Deprecated in NumPy 1.20; for more details and guidance: https://numpy.org/devdocs/release/1.20.0-notes.html#deprecations\n"
          ]
        },
        {
          "output_type": "stream",
          "name": "stdout",
          "text": [
            "rr.shape, min(rr),max(rr): (11042,), 158,332\n",
            "cc.shape, min(cc),max(cc): (11042,), 0,104\n"
          ]
        },
        {
          "output_type": "stream",
          "name": "stderr",
          "text": [
            "/usr/local/lib/python3.7/dist-packages/ipykernel_launcher.py:129: DeprecationWarning: `np.bool` is a deprecated alias for the builtin `bool`. To silence this warning, use `bool` by itself. Doing this will not modify any behavior and is safe. If you specifically wanted the numpy scalar type, use `np.bool_` here.\n",
            "Deprecated in NumPy 1.20; for more details and guidance: https://numpy.org/devdocs/release/1.20.0-notes.html#deprecations\n",
            "/usr/local/lib/python3.7/dist-packages/skimage/transform/_warps.py:830: FutureWarning: Input image dtype is bool. Interpolation is not defined with bool data type. Please set order to 0 or explicitely cast input image to another data type. Starting from version 0.19 a ValueError will be raised instead of this warning.\n",
            "  order = _validate_interpolation_order(image.dtype, order)\n",
            "/usr/local/lib/python3.7/dist-packages/skimage/transform/_warps.py:830: FutureWarning: Input image dtype is bool. Interpolation is not defined with bool data type. Please set order to 0 or explicitely cast input image to another data type. Starting from version 0.19 a ValueError will be raised instead of this warning.\n",
            "  order = _validate_interpolation_order(image.dtype, order)\n"
          ]
        },
        {
          "output_type": "stream",
          "name": "stdout",
          "text": [
            "mask.shape, min(mask),max(mask): (480, 852, 1), 0,0\n",
            "rr.shape, min(rr),max(rr): (36766,), 121,340\n",
            "cc.shape, min(cc),max(cc): (36766,), 340,565\n",
            "After fixing the dirt mask, new values:\n",
            "rr.shape, min(rr),max(rr): (36766,), 121,340\n",
            "cc.shape, min(cc),max(cc): (36766,), 340,565\n"
          ]
        },
        {
          "output_type": "stream",
          "name": "stderr",
          "text": [
            "/usr/local/lib/python3.7/dist-packages/ipykernel_launcher.py:129: DeprecationWarning: `np.bool` is a deprecated alias for the builtin `bool`. To silence this warning, use `bool` by itself. Doing this will not modify any behavior and is safe. If you specifically wanted the numpy scalar type, use `np.bool_` here.\n",
            "Deprecated in NumPy 1.20; for more details and guidance: https://numpy.org/devdocs/release/1.20.0-notes.html#deprecations\n",
            "/usr/local/lib/python3.7/dist-packages/skimage/transform/_warps.py:830: FutureWarning: Input image dtype is bool. Interpolation is not defined with bool data type. Please set order to 0 or explicitely cast input image to another data type. Starting from version 0.19 a ValueError will be raised instead of this warning.\n",
            "  order = _validate_interpolation_order(image.dtype, order)\n"
          ]
        },
        {
          "output_type": "stream",
          "name": "stdout",
          "text": [
            "mask.shape, min(mask),max(mask): (480, 852, 1), 0,0\n",
            "rr.shape, min(rr),max(rr): (167163,), 0,459\n",
            "cc.shape, min(cc),max(cc): (167163,), 4,539\n",
            "After fixing the dirt mask, new values:\n",
            "rr.shape, min(rr),max(rr): (167163,), 0,459\n",
            "cc.shape, min(cc),max(cc): (167163,), 4,539\n"
          ]
        },
        {
          "output_type": "stream",
          "name": "stderr",
          "text": [
            "/usr/local/lib/python3.7/dist-packages/ipykernel_launcher.py:129: DeprecationWarning: `np.bool` is a deprecated alias for the builtin `bool`. To silence this warning, use `bool` by itself. Doing this will not modify any behavior and is safe. If you specifically wanted the numpy scalar type, use `np.bool_` here.\n",
            "Deprecated in NumPy 1.20; for more details and guidance: https://numpy.org/devdocs/release/1.20.0-notes.html#deprecations\n",
            "/usr/local/lib/python3.7/dist-packages/skimage/transform/_warps.py:830: FutureWarning: Input image dtype is bool. Interpolation is not defined with bool data type. Please set order to 0 or explicitely cast input image to another data type. Starting from version 0.19 a ValueError will be raised instead of this warning.\n",
            "  order = _validate_interpolation_order(image.dtype, order)\n"
          ]
        },
        {
          "output_type": "stream",
          "name": "stdout",
          "text": [
            "mask.shape, min(mask),max(mask): (1700, 2400, 1), 0,0\n",
            "rr.shape, min(rr),max(rr): (463059,), 608,1387\n",
            "cc.shape, min(cc),max(cc): (463059,), 242,992\n",
            "After fixing the dirt mask, new values:\n",
            "rr.shape, min(rr),max(rr): (463059,), 608,1387\n",
            "cc.shape, min(cc),max(cc): (463059,), 242,992\n"
          ]
        },
        {
          "output_type": "stream",
          "name": "stderr",
          "text": [
            "/usr/local/lib/python3.7/dist-packages/ipykernel_launcher.py:129: DeprecationWarning: `np.bool` is a deprecated alias for the builtin `bool`. To silence this warning, use `bool` by itself. Doing this will not modify any behavior and is safe. If you specifically wanted the numpy scalar type, use `np.bool_` here.\n",
            "Deprecated in NumPy 1.20; for more details and guidance: https://numpy.org/devdocs/release/1.20.0-notes.html#deprecations\n",
            "/usr/local/lib/python3.7/dist-packages/skimage/transform/_warps.py:830: FutureWarning: Input image dtype is bool. Interpolation is not defined with bool data type. Please set order to 0 or explicitely cast input image to another data type. Starting from version 0.19 a ValueError will be raised instead of this warning.\n",
            "  order = _validate_interpolation_order(image.dtype, order)\n"
          ]
        },
        {
          "output_type": "stream",
          "name": "stdout",
          "text": [
            "mask.shape, min(mask),max(mask): (682, 1024, 2), 0,0\n",
            "rr.shape, min(rr),max(rr): (79055,), 194,510\n",
            "cc.shape, min(cc),max(cc): (79055,), 663,978\n",
            "After fixing the dirt mask, new values:\n",
            "rr.shape, min(rr),max(rr): (79055,), 194,510\n",
            "cc.shape, min(cc),max(cc): (79055,), 663,978\n",
            "mask.shape, min(mask),max(mask): (682, 1024, 2), 0,1\n",
            "rr.shape, min(rr),max(rr): (27801,), 61,282\n",
            "cc.shape, min(cc),max(cc): (27801,), 627,895\n",
            "After fixing the dirt mask, new values:\n",
            "rr.shape, min(rr),max(rr): (27801,), 61,282\n",
            "cc.shape, min(cc),max(cc): (27801,), 627,895\n"
          ]
        },
        {
          "output_type": "stream",
          "name": "stderr",
          "text": [
            "/usr/local/lib/python3.7/dist-packages/ipykernel_launcher.py:129: DeprecationWarning: `np.bool` is a deprecated alias for the builtin `bool`. To silence this warning, use `bool` by itself. Doing this will not modify any behavior and is safe. If you specifically wanted the numpy scalar type, use `np.bool_` here.\n",
            "Deprecated in NumPy 1.20; for more details and guidance: https://numpy.org/devdocs/release/1.20.0-notes.html#deprecations\n",
            "/usr/local/lib/python3.7/dist-packages/skimage/transform/_warps.py:830: FutureWarning: Input image dtype is bool. Interpolation is not defined with bool data type. Please set order to 0 or explicitely cast input image to another data type. Starting from version 0.19 a ValueError will be raised instead of this warning.\n",
            "  order = _validate_interpolation_order(image.dtype, order)\n"
          ]
        },
        {
          "output_type": "stream",
          "name": "stdout",
          "text": [
            "mask.shape, min(mask),max(mask): (640, 640, 7), 0,0\n",
            "rr.shape, min(rr),max(rr): (38248,), 112,321\n",
            "cc.shape, min(cc),max(cc): (38248,), 13,232\n",
            "After fixing the dirt mask, new values:\n",
            "rr.shape, min(rr),max(rr): (38248,), 112,321\n",
            "cc.shape, min(cc),max(cc): (38248,), 13,232\n",
            "mask.shape, min(mask),max(mask): (2687, 3357, 1), 0,0\n",
            "rr.shape, min(rr),max(rr): (409857,), 411,1361\n",
            "cc.shape, min(cc),max(cc): (409857,), 1726,2720\n",
            "After fixing the dirt mask, new values:\n",
            "mask.shape, min(mask),max(mask): (640, 640, 7), 0,1\n",
            "rr.shape, min(rr),max(rr): (409857,), 411,1361\n",
            "rr.shape, min(rr),max(rr): (36357,), 89,312\n",
            "cc.shape, min(cc),max(cc): (409857,), 1726,2720\n",
            "cc.shape, min(cc),max(cc): (36357,), 228,426\n"
          ]
        },
        {
          "output_type": "stream",
          "name": "stderr",
          "text": [
            "/usr/local/lib/python3.7/dist-packages/ipykernel_launcher.py:129: DeprecationWarning: `np.bool` is a deprecated alias for the builtin `bool`. To silence this warning, use `bool` by itself. Doing this will not modify any behavior and is safe. If you specifically wanted the numpy scalar type, use `np.bool_` here.\n",
            "Deprecated in NumPy 1.20; for more details and guidance: https://numpy.org/devdocs/release/1.20.0-notes.html#deprecations\n"
          ]
        },
        {
          "output_type": "stream",
          "name": "stdout",
          "text": [
            "After fixing the dirt mask, new values:\n",
            "rr.shape, min(rr),max(rr): (36357,), 89,312\n",
            "cc.shape, min(cc),max(cc): (36357,), 228,426\n",
            "mask.shape, min(mask),max(mask): (640, 640, 7), 0,1\n",
            "rr.shape, min(rr),max(rr): (30194,), 79,302\n",
            "cc.shape, min(cc),max(cc): (30194,), 416,588\n",
            "After fixing the dirt mask, new values:\n",
            "rr.shape, min(rr),max(rr): (30194,), 79,302\n",
            "cc.shape, min(cc),max(cc): (30194,), 416,588\n",
            "mask.shape, min(mask),max(mask): (640, 640, 7), 0,1\n",
            "rr.shape, min(rr),max(rr): (32843,), 311,519\n",
            "cc.shape, min(cc),max(cc): (32843,), 0,178\n",
            "After fixing the dirt mask, new values:\n",
            "rr.shape, min(rr),max(rr): (32843,), 311,519\n",
            "cc.shape, min(cc),max(cc): (32843,), 0,178\n",
            "mask.shape, min(mask),max(mask): (640, 640, 7), 0,1\n",
            "rr.shape, min(rr),max(rr): (36678,), 296,514\n",
            "cc.shape, min(cc),max(cc): (36678,), 168,370\n",
            "After fixing the dirt mask, new values:\n",
            "rr.shape, min(rr),max(rr): (36678,), 296,514\n",
            "cc.shape, min(cc),max(cc): (36678,), 168,370\n",
            "mask.shape, min(mask),max(mask): (640, 640, 7), 0,1\n",
            "rr.shape, min(rr),max(rr): (31403,), 308,512\n",
            "cc.shape, min(cc),max(cc): (31403,), 365,557\n",
            "After fixing the dirt mask, new values:\n",
            "rr.shape, min(rr),max(rr): (31403,), 308,512\n",
            "cc.shape, min(cc),max(cc): (31403,), 365,557\n",
            "mask.shape, min(mask),max(mask): (640, 640, 7), 0,1\n",
            "rr.shape, min(rr),max(rr): (18125,), 264,472\n",
            "cc.shape, min(cc),max(cc): (18125,), 522,639\n",
            "After fixing the dirt mask, new values:\n",
            "rr.shape, min(rr),max(rr): (18125,), 264,472\n",
            "cc.shape, min(cc),max(cc): (18125,), 522,639\n"
          ]
        },
        {
          "output_type": "stream",
          "name": "stderr",
          "text": [
            "/usr/local/lib/python3.7/dist-packages/ipykernel_launcher.py:129: DeprecationWarning: `np.bool` is a deprecated alias for the builtin `bool`. To silence this warning, use `bool` by itself. Doing this will not modify any behavior and is safe. If you specifically wanted the numpy scalar type, use `np.bool_` here.\n",
            "Deprecated in NumPy 1.20; for more details and guidance: https://numpy.org/devdocs/release/1.20.0-notes.html#deprecations\n",
            "/usr/local/lib/python3.7/dist-packages/skimage/transform/_warps.py:830: FutureWarning: Input image dtype is bool. Interpolation is not defined with bool data type. Please set order to 0 or explicitely cast input image to another data type. Starting from version 0.19 a ValueError will be raised instead of this warning.\n",
            "  order = _validate_interpolation_order(image.dtype, order)\n",
            "/usr/local/lib/python3.7/dist-packages/skimage/transform/_warps.py:830: FutureWarning: Input image dtype is bool. Interpolation is not defined with bool data type. Please set order to 0 or explicitely cast input image to another data type. Starting from version 0.19 a ValueError will be raised instead of this warning.\n",
            "  order = _validate_interpolation_order(image.dtype, order)\n"
          ]
        },
        {
          "output_type": "stream",
          "name": "stdout",
          "text": [
            "mask.shape, min(mask),max(mask): (1365, 2048, 1), 0,0\n",
            "rr.shape, min(rr),max(rr): (268754,), 212,819\n",
            "cc.shape, min(cc),max(cc): (268754,), 375,1001\n",
            "After fixing the dirt mask, new values:\n",
            "rr.shape, min(rr),max(rr): (268754,), 212,819\n",
            "cc.shape, min(cc),max(cc): (268754,), 375,1001\n"
          ]
        },
        {
          "output_type": "stream",
          "name": "stderr",
          "text": [
            "/usr/local/lib/python3.7/dist-packages/ipykernel_launcher.py:129: DeprecationWarning: `np.bool` is a deprecated alias for the builtin `bool`. To silence this warning, use `bool` by itself. Doing this will not modify any behavior and is safe. If you specifically wanted the numpy scalar type, use `np.bool_` here.\n",
            "Deprecated in NumPy 1.20; for more details and guidance: https://numpy.org/devdocs/release/1.20.0-notes.html#deprecations\n"
          ]
        },
        {
          "output_type": "stream",
          "name": "stdout",
          "text": [
            "mask.shape, min(mask),max(mask): (2048, 1365, 1), 0,0\n",
            "rr.shape, min(rr),max(rr): (15588,), 987,1130\n",
            "cc.shape, min(cc),max(cc): (15588,), 342,485\n",
            "After fixing the dirt mask, new values:\n",
            "rr.shape, min(rr),max(rr): (15588,), 987,1130\n",
            "cc.shape, min(cc),max(cc): (15588,), 342,485\n"
          ]
        },
        {
          "output_type": "stream",
          "name": "stderr",
          "text": [
            "/usr/local/lib/python3.7/dist-packages/ipykernel_launcher.py:129: DeprecationWarning: `np.bool` is a deprecated alias for the builtin `bool`. To silence this warning, use `bool` by itself. Doing this will not modify any behavior and is safe. If you specifically wanted the numpy scalar type, use `np.bool_` here.\n",
            "Deprecated in NumPy 1.20; for more details and guidance: https://numpy.org/devdocs/release/1.20.0-notes.html#deprecations\n",
            "/usr/local/lib/python3.7/dist-packages/skimage/transform/_warps.py:830: FutureWarning: Input image dtype is bool. Interpolation is not defined with bool data type. Please set order to 0 or explicitely cast input image to another data type. Starting from version 0.19 a ValueError will be raised instead of this warning.\n",
            "  order = _validate_interpolation_order(image.dtype, order)\n",
            "/usr/local/lib/python3.7/dist-packages/skimage/transform/_warps.py:830: FutureWarning: Input image dtype is bool. Interpolation is not defined with bool data type. Please set order to 0 or explicitely cast input image to another data type. Starting from version 0.19 a ValueError will be raised instead of this warning.\n",
            "  order = _validate_interpolation_order(image.dtype, order)\n"
          ]
        },
        {
          "output_type": "stream",
          "name": "stdout",
          "text": [
            "mask.shape, min(mask),max(mask): (640, 960, 2), 0,0\n",
            "rr.shape, min(rr),max(rr): (36043,), 10,281\n",
            "cc.shape, min(cc),max(cc): (36043,), 221,435\n",
            "After fixing the dirt mask, new values:\n",
            "rr.shape, min(rr),max(rr): (36043,), 10,281\n",
            "cc.shape, min(cc),max(cc): (36043,), 221,435\n",
            "mask.shape, min(mask),max(mask): (640, 960, 2), 0,1\n",
            "rr.shape, min(rr),max(rr): (42332,), 46,301\n",
            "cc.shape, min(cc),max(cc): (42332,), 565,786\n",
            "After fixing the dirt mask, new values:\n",
            "rr.shape, min(rr),max(rr): (42332,), 46,301\n",
            "cc.shape, min(cc),max(cc): (42332,), 565,786\n"
          ]
        },
        {
          "output_type": "stream",
          "name": "stderr",
          "text": [
            "/usr/local/lib/python3.7/dist-packages/ipykernel_launcher.py:129: DeprecationWarning: `np.bool` is a deprecated alias for the builtin `bool`. To silence this warning, use `bool` by itself. Doing this will not modify any behavior and is safe. If you specifically wanted the numpy scalar type, use `np.bool_` here.\n",
            "Deprecated in NumPy 1.20; for more details and guidance: https://numpy.org/devdocs/release/1.20.0-notes.html#deprecations\n"
          ]
        },
        {
          "output_type": "stream",
          "name": "stdout",
          "text": [
            "mask.shape, min(mask),max(mask): (2048, 1536, 1), 0,0\n",
            "rr.shape, min(rr),max(rr): (126162,), 1119,1586\n",
            "cc.shape, min(cc),max(cc): (126162,), 959,1350\n",
            "After fixing the dirt mask, new values:\n",
            "rr.shape, min(rr),max(rr): (126162,), 1119,1586\n",
            "cc.shape, min(cc),max(cc): (126162,), 959,1350\n"
          ]
        },
        {
          "output_type": "stream",
          "name": "stderr",
          "text": [
            "/usr/local/lib/python3.7/dist-packages/ipykernel_launcher.py:129: DeprecationWarning: `np.bool` is a deprecated alias for the builtin `bool`. To silence this warning, use `bool` by itself. Doing this will not modify any behavior and is safe. If you specifically wanted the numpy scalar type, use `np.bool_` here.\n",
            "Deprecated in NumPy 1.20; for more details and guidance: https://numpy.org/devdocs/release/1.20.0-notes.html#deprecations\n",
            "/usr/local/lib/python3.7/dist-packages/skimage/transform/_warps.py:830: FutureWarning: Input image dtype is bool. Interpolation is not defined with bool data type. Please set order to 0 or explicitely cast input image to another data type. Starting from version 0.19 a ValueError will be raised instead of this warning.\n",
            "  order = _validate_interpolation_order(image.dtype, order)\n",
            "/usr/local/lib/python3.7/dist-packages/skimage/transform/_warps.py:830: FutureWarning: Input image dtype is bool. Interpolation is not defined with bool data type. Please set order to 0 or explicitely cast input image to another data type. Starting from version 0.19 a ValueError will be raised instead of this warning.\n",
            "  order = _validate_interpolation_order(image.dtype, order)\n"
          ]
        },
        {
          "output_type": "stream",
          "name": "stdout",
          "text": [
            "mask.shape, min(mask),max(mask): (480, 960, 1), 0,0\n",
            "rr.shape, min(rr),max(rr): (20977,), 87,221\n",
            "cc.shape, min(cc),max(cc): (20977,), 512,744\n",
            "After fixing the dirt mask, new values:\n",
            "rr.shape, min(rr),max(rr): (20977,), 87,221\n",
            "cc.shape, min(cc),max(cc): (20977,), 512,744\n"
          ]
        },
        {
          "output_type": "stream",
          "name": "stderr",
          "text": [
            "/usr/local/lib/python3.7/dist-packages/ipykernel_launcher.py:129: DeprecationWarning: `np.bool` is a deprecated alias for the builtin `bool`. To silence this warning, use `bool` by itself. Doing this will not modify any behavior and is safe. If you specifically wanted the numpy scalar type, use `np.bool_` here.\n",
            "Deprecated in NumPy 1.20; for more details and guidance: https://numpy.org/devdocs/release/1.20.0-notes.html#deprecations\n",
            "/usr/local/lib/python3.7/dist-packages/skimage/transform/_warps.py:830: FutureWarning: Input image dtype is bool. Interpolation is not defined with bool data type. Please set order to 0 or explicitely cast input image to another data type. Starting from version 0.19 a ValueError will be raised instead of this warning.\n",
            "  order = _validate_interpolation_order(image.dtype, order)\n"
          ]
        },
        {
          "output_type": "stream",
          "name": "stdout",
          "text": [
            "mask.shape, min(mask),max(mask): (1067, 1600, 1), 0,0\n",
            "rr.shape, min(rr),max(rr): (77179,), 7,344\n",
            "mask.shape, min(mask),max(mask): (1000, 1500, 1), 0,0\n",
            "cc.shape, min(cc),max(cc): (77179,), 906,1260\n",
            "rr.shape, min(rr),max(rr): (261242,), 439,1000\n",
            "After fixing the dirt mask, new values:\n",
            "rr.shape, min(rr),max(rr): (77179,), 7,344\n",
            "cc.shape, min(cc),max(cc): (261242,), 564,1294\n",
            "After fixing the dirt mask, new values:\n",
            "cc.shape, min(cc),max(cc): (77179,), 906,1260\n"
          ]
        },
        {
          "output_type": "stream",
          "name": "stderr",
          "text": [
            "/usr/local/lib/python3.7/dist-packages/ipykernel_launcher.py:129: DeprecationWarning: `np.bool` is a deprecated alias for the builtin `bool`. To silence this warning, use `bool` by itself. Doing this will not modify any behavior and is safe. If you specifically wanted the numpy scalar type, use `np.bool_` here.\n",
            "Deprecated in NumPy 1.20; for more details and guidance: https://numpy.org/devdocs/release/1.20.0-notes.html#deprecations\n"
          ]
        },
        {
          "output_type": "stream",
          "name": "stdout",
          "text": [
            "rr.shape, min(rr),max(rr): (261242,), 439,999\n",
            "cc.shape, min(cc),max(cc): (261242,), 564,1294\n"
          ]
        },
        {
          "output_type": "stream",
          "name": "stderr",
          "text": [
            "/usr/local/lib/python3.7/dist-packages/ipykernel_launcher.py:129: DeprecationWarning: `np.bool` is a deprecated alias for the builtin `bool`. To silence this warning, use `bool` by itself. Doing this will not modify any behavior and is safe. If you specifically wanted the numpy scalar type, use `np.bool_` here.\n",
            "Deprecated in NumPy 1.20; for more details and guidance: https://numpy.org/devdocs/release/1.20.0-notes.html#deprecations\n",
            "/usr/local/lib/python3.7/dist-packages/skimage/transform/_warps.py:830: FutureWarning: Input image dtype is bool. Interpolation is not defined with bool data type. Please set order to 0 or explicitely cast input image to another data type. Starting from version 0.19 a ValueError will be raised instead of this warning.\n",
            "  order = _validate_interpolation_order(image.dtype, order)\n",
            "/usr/local/lib/python3.7/dist-packages/skimage/transform/_warps.py:830: FutureWarning: Input image dtype is bool. Interpolation is not defined with bool data type. Please set order to 0 or explicitely cast input image to another data type. Starting from version 0.19 a ValueError will be raised instead of this warning.\n",
            "  order = _validate_interpolation_order(image.dtype, order)\n"
          ]
        },
        {
          "output_type": "stream",
          "name": "stdout",
          "text": [
            "mask.shape, min(mask),max(mask): (1024, 683, 5), 0,0\n",
            "rr.shape, min(rr),max(rr): (23409,), 140,328\n",
            "cc.shape, min(cc),max(cc): (23409,), 142,340\n",
            "After fixing the dirt mask, new values:\n",
            "rr.shape, min(rr),max(rr): (23409,), 140,328\n",
            "cc.shape, min(cc),max(cc): (23409,), 142,340\n",
            "mask.shape, min(mask),max(mask): (1024, 683, 5), 0,1\n",
            "rr.shape, min(rr),max(rr): (47060,), 250,513\n",
            "cc.shape, min(cc),max(cc): (47060,), 80,304\n",
            "After fixing the dirt mask, new values:\n",
            "rr.shape, min(rr),max(rr): (47060,), 250,513\n",
            "cc.shape, min(cc),max(cc): (47060,), 80,304\n",
            "mask.shape, min(mask),max(mask): (1024, 683, 5), 0,1\n",
            "rr.shape, min(rr),max(rr): (34250,), 204,419\n",
            "cc.shape, min(cc),max(cc): (34250,), 305,554\n",
            "After fixing the dirt mask, new values:\n",
            "rr.shape, min(rr),max(rr): (34250,), 204,419\n",
            "cc.shape, min(cc),max(cc): (34250,), 305,554\n",
            "mask.shape, min(mask),max(mask): (1024, 683, 5), 0,1\n",
            "rr.shape, min(rr),max(rr): (56408,), 347,627\n",
            "cc.shape, min(cc),max(cc): (56408,), 371,644\n",
            "After fixing the dirt mask, new values:\n",
            "rr.shape, min(rr),max(rr): (56408,), 347,627\n",
            "cc.shape, min(cc),max(cc): (56408,), 371,644\n",
            "mask.shape, min(mask),max(mask): (1024, 683, 5), 0,1\n",
            "rr.shape, min(rr),max(rr): (55954,), 494,799\n",
            "cc.shape, min(cc),max(cc): (55954,), 180,416\n",
            "After fixing the dirt mask, new values:\n",
            "rr.shape, min(rr),max(rr): (55954,), 494,799\n",
            "cc.shape, min(cc),max(cc): (55954,), 180,416\n"
          ]
        },
        {
          "output_type": "stream",
          "name": "stderr",
          "text": [
            "/usr/local/lib/python3.7/dist-packages/ipykernel_launcher.py:129: DeprecationWarning: `np.bool` is a deprecated alias for the builtin `bool`. To silence this warning, use `bool` by itself. Doing this will not modify any behavior and is safe. If you specifically wanted the numpy scalar type, use `np.bool_` here.\n",
            "Deprecated in NumPy 1.20; for more details and guidance: https://numpy.org/devdocs/release/1.20.0-notes.html#deprecations\n",
            "/usr/local/lib/python3.7/dist-packages/skimage/transform/_warps.py:830: FutureWarning: Input image dtype is bool. Interpolation is not defined with bool data type. Please set order to 0 or explicitely cast input image to another data type. Starting from version 0.19 a ValueError will be raised instead of this warning.\n",
            "  order = _validate_interpolation_order(image.dtype, order)\n"
          ]
        },
        {
          "output_type": "stream",
          "name": "stdout",
          "text": [
            "mask.shape, min(mask),max(mask): (1357, 1900, 2), 0,0\n",
            "rr.shape, min(rr),max(rr): (365294,), 4,971\n",
            "cc.shape, min(cc),max(cc): (365294,), 877,1578\n",
            "After fixing the dirt mask, new values:\n",
            "rr.shape, min(rr),max(rr): (365294,), 4,971\n",
            "cc.shape, min(cc),max(cc): (365294,), 877,1578\n",
            "mask.shape, min(mask),max(mask): (1357, 1900, 2), 0,1\n",
            "rr.shape, min(rr),max(rr): (318279,), 328,1107\n",
            "cc.shape, min(cc),max(cc): (318279,), 145,824\n",
            "After fixing the dirt mask, new values:\n",
            "rr.shape, min(rr),max(rr): (318279,), 328,1107\n",
            "cc.shape, min(cc),max(cc): (318279,), 145,824\n"
          ]
        },
        {
          "output_type": "stream",
          "name": "stderr",
          "text": [
            "/usr/local/lib/python3.7/dist-packages/ipykernel_launcher.py:129: DeprecationWarning: `np.bool` is a deprecated alias for the builtin `bool`. To silence this warning, use `bool` by itself. Doing this will not modify any behavior and is safe. If you specifically wanted the numpy scalar type, use `np.bool_` here.\n",
            "Deprecated in NumPy 1.20; for more details and guidance: https://numpy.org/devdocs/release/1.20.0-notes.html#deprecations\n",
            "/usr/local/lib/python3.7/dist-packages/skimage/transform/_warps.py:830: FutureWarning: Input image dtype is bool. Interpolation is not defined with bool data type. Please set order to 0 or explicitely cast input image to another data type. Starting from version 0.19 a ValueError will be raised instead of this warning.\n",
            "  order = _validate_interpolation_order(image.dtype, order)\n"
          ]
        },
        {
          "output_type": "stream",
          "name": "stdout",
          "text": [
            "mask.shape, min(mask),max(mask): (1357, 1900, 2), 0,0\n",
            "rr.shape, min(rr),max(rr): (365294,), 4,971\n",
            "cc.shape, min(cc),max(cc): (365294,), 877,1578\n",
            "After fixing the dirt mask, new values:\n",
            "rr.shape, min(rr),max(rr): (365294,), 4,971\n",
            "cc.shape, min(cc),max(cc): (365294,), 877,1578\n",
            "mask.shape, min(mask),max(mask): (480, 600, 1), 0,0\n",
            "rr.shape, min(rr),max(rr): (93951,), 88,479\n",
            "cc.shape, min(cc),max(cc): (93951,), 0,281\n",
            "After fixing the dirt mask, new values:\n",
            "rr.shape, min(rr),max(rr): (93951,), 88,479\n",
            "cc.shape, min(cc),max(cc): (93951,), 0,281\n"
          ]
        },
        {
          "output_type": "stream",
          "name": "stderr",
          "text": [
            "/usr/local/lib/python3.7/dist-packages/ipykernel_launcher.py:129: DeprecationWarning: `np.bool` is a deprecated alias for the builtin `bool`. To silence this warning, use `bool` by itself. Doing this will not modify any behavior and is safe. If you specifically wanted the numpy scalar type, use `np.bool_` here.\n",
            "Deprecated in NumPy 1.20; for more details and guidance: https://numpy.org/devdocs/release/1.20.0-notes.html#deprecations\n",
            "/usr/local/lib/python3.7/dist-packages/skimage/transform/_warps.py:830: FutureWarning: Input image dtype is bool. Interpolation is not defined with bool data type. Please set order to 0 or explicitely cast input image to another data type. Starting from version 0.19 a ValueError will be raised instead of this warning.\n",
            "  order = _validate_interpolation_order(image.dtype, order)\n"
          ]
        },
        {
          "output_type": "stream",
          "name": "stdout",
          "text": [
            "mask.shape, min(mask),max(mask): (1357, 1900, 2), 0,1\n",
            "rr.shape, min(rr),max(rr): (318279,), 328,1107\n",
            "cc.shape, min(cc),max(cc): (318279,), 145,824\n",
            "After fixing the dirt mask, new values:\n",
            "rr.shape, min(rr),max(rr): (318279,), 328,1107\n",
            "cc.shape, min(cc),max(cc): (318279,), 145,824\n"
          ]
        },
        {
          "output_type": "stream",
          "name": "stderr",
          "text": [
            "/usr/local/lib/python3.7/dist-packages/ipykernel_launcher.py:129: DeprecationWarning: `np.bool` is a deprecated alias for the builtin `bool`. To silence this warning, use `bool` by itself. Doing this will not modify any behavior and is safe. If you specifically wanted the numpy scalar type, use `np.bool_` here.\n",
            "Deprecated in NumPy 1.20; for more details and guidance: https://numpy.org/devdocs/release/1.20.0-notes.html#deprecations\n",
            "/usr/local/lib/python3.7/dist-packages/skimage/transform/_warps.py:830: FutureWarning: Input image dtype is bool. Interpolation is not defined with bool data type. Please set order to 0 or explicitely cast input image to another data type. Starting from version 0.19 a ValueError will be raised instead of this warning.\n",
            "  order = _validate_interpolation_order(image.dtype, order)\n"
          ]
        },
        {
          "output_type": "stream",
          "name": "stdout",
          "text": [
            "mask.shape, min(mask),max(mask): (454, 633, 6), 0,0\n",
            "rr.shape, min(rr),max(rr): (12942,), 123,246\n",
            "cc.shape, min(cc),max(cc): (12942,), 3,127\n",
            "After fixing the dirt mask, new values:\n",
            "rr.shape, min(rr),max(rr): (12942,), 123,246\n",
            "cc.shape, min(cc),max(cc): (12942,), 3,127\n",
            "mask.shape, min(mask),max(mask): (454, 633, 6), 0,1\n",
            "rr.shape, min(rr),max(rr): (11892,), 294,447\n",
            "cc.shape, min(cc),max(cc): (11892,), 174,297\n",
            "After fixing the dirt mask, new values:\n",
            "rr.shape, min(rr),max(rr): (11892,), 294,447\n",
            "cc.shape, min(cc),max(cc): (11892,), 174,297\n",
            "mask.shape, min(mask),max(mask): (454, 633, 6), 0,1\n",
            "rr.shape, min(rr),max(rr): (11238,), 329,453\n",
            "cc.shape, min(cc),max(cc): (11238,), 382,490\n",
            "After fixing the dirt mask, new values:\n",
            "rr.shape, min(rr),max(rr): (11238,), 329,453\n",
            "cc.shape, min(cc),max(cc): (11238,), 382,490\n",
            "mask.shape, min(mask),max(mask): (454, 633, 6), 0,1\n",
            "rr.shape, min(rr),max(rr): (11314,), 210,345\n",
            "cc.shape, min(cc),max(cc): (11314,), 322,428\n",
            "After fixing the dirt mask, new values:\n",
            "rr.shape, min(rr),max(rr): (11314,), 210,345\n",
            "cc.shape, min(cc),max(cc): (11314,), 322,428\n",
            "mask.shape, min(mask),max(mask): (454, 633, 6), 0,1\n",
            "rr.shape, min(rr),max(rr): (12598,), 73,200\n",
            "cc.shape, min(cc),max(cc): (12598,), 382,501\n",
            "After fixing the dirt mask, new values:\n",
            "rr.shape, min(rr),max(rr): (12598,), 73,200\n",
            "cc.shape, min(cc),max(cc): (12598,), 382,501\n",
            "mask.shape, min(mask),max(mask): (454, 633, 6), 0,1\n",
            "rr.shape, min(rr),max(rr): (3942,), 328,430\n",
            "cc.shape, min(cc),max(cc): (3942,), 534,616\n",
            "After fixing the dirt mask, new values:\n",
            "rr.shape, min(rr),max(rr): (3942,), 328,430\n",
            "cc.shape, min(cc),max(cc): (3942,), 534,616\n"
          ]
        },
        {
          "output_type": "stream",
          "name": "stderr",
          "text": [
            "/usr/local/lib/python3.7/dist-packages/ipykernel_launcher.py:129: DeprecationWarning: `np.bool` is a deprecated alias for the builtin `bool`. To silence this warning, use `bool` by itself. Doing this will not modify any behavior and is safe. If you specifically wanted the numpy scalar type, use `np.bool_` here.\n",
            "Deprecated in NumPy 1.20; for more details and guidance: https://numpy.org/devdocs/release/1.20.0-notes.html#deprecations\n"
          ]
        },
        {
          "output_type": "stream",
          "name": "stdout",
          "text": [
            "mask.shape, min(mask),max(mask): (1356, 2047, 1), 0,0\n",
            "rr.shape, min(rr),max(rr): (597074,), 240,1146\n",
            "cc.shape, min(cc),max(cc): (597074,), 1073,1970\n",
            "After fixing the dirt mask, new values:\n",
            "rr.shape, min(rr),max(rr): (597074,), 240,1146\n",
            "cc.shape, min(cc),max(cc): (597074,), 1073,1970\n"
          ]
        },
        {
          "output_type": "stream",
          "name": "stderr",
          "text": [
            "/usr/local/lib/python3.7/dist-packages/ipykernel_launcher.py:129: DeprecationWarning: `np.bool` is a deprecated alias for the builtin `bool`. To silence this warning, use `bool` by itself. Doing this will not modify any behavior and is safe. If you specifically wanted the numpy scalar type, use `np.bool_` here.\n",
            "Deprecated in NumPy 1.20; for more details and guidance: https://numpy.org/devdocs/release/1.20.0-notes.html#deprecations\n",
            "/usr/local/lib/python3.7/dist-packages/skimage/transform/_warps.py:830: FutureWarning: Input image dtype is bool. Interpolation is not defined with bool data type. Please set order to 0 or explicitely cast input image to another data type. Starting from version 0.19 a ValueError will be raised instead of this warning.\n",
            "  order = _validate_interpolation_order(image.dtype, order)\n",
            "/usr/local/lib/python3.7/dist-packages/skimage/transform/_warps.py:830: FutureWarning: Input image dtype is bool. Interpolation is not defined with bool data type. Please set order to 0 or explicitely cast input image to another data type. Starting from version 0.19 a ValueError will be raised instead of this warning.\n",
            "  order = _validate_interpolation_order(image.dtype, order)\n"
          ]
        },
        {
          "output_type": "stream",
          "name": "stdout",
          "text": [
            "mask.shape, min(mask),max(mask): (337, 500, 2), 0,0\n",
            "rr.shape, min(rr),max(rr): (54620,), 59,328\n",
            "cc.shape, min(cc),max(cc): (54620,), 41,314\n",
            "After fixing the dirt mask, new values:\n",
            "rr.shape, min(rr),max(rr): (54620,), 59,328\n",
            "cc.shape, min(cc),max(cc): (54620,), 41,314\n",
            "mask.shape, min(mask),max(mask): (337, 500, 2), 0,1\n",
            "rr.shape, min(rr),max(rr): (21291,), 1,139\n",
            "cc.shape, min(cc),max(cc): (21291,), 272,461\n",
            "After fixing the dirt mask, new values:\n",
            "rr.shape, min(rr),max(rr): (21291,), 1,139\n",
            "cc.shape, min(cc),max(cc): (21291,), 272,461\n"
          ]
        },
        {
          "output_type": "stream",
          "name": "stderr",
          "text": [
            "/usr/local/lib/python3.7/dist-packages/ipykernel_launcher.py:129: DeprecationWarning: `np.bool` is a deprecated alias for the builtin `bool`. To silence this warning, use `bool` by itself. Doing this will not modify any behavior and is safe. If you specifically wanted the numpy scalar type, use `np.bool_` here.\n",
            "Deprecated in NumPy 1.20; for more details and guidance: https://numpy.org/devdocs/release/1.20.0-notes.html#deprecations\n"
          ]
        },
        {
          "output_type": "stream",
          "name": "stdout",
          "text": [
            "mask.shape, min(mask),max(mask): (1020, 1920, 2), 0,0\n",
            "rr.shape, min(rr),max(rr): (167722,), 520,995\n",
            "cc.shape, min(cc),max(cc): (167722,), 587,1030\n",
            "After fixing the dirt mask, new values:\n",
            "rr.shape, min(rr),max(rr): (167722,), 520,995\n",
            "cc.shape, min(cc),max(cc): (167722,), 587,1030\n"
          ]
        },
        {
          "output_type": "stream",
          "name": "stderr",
          "text": [
            "/usr/local/lib/python3.7/dist-packages/skimage/transform/_warps.py:830: FutureWarning: Input image dtype is bool. Interpolation is not defined with bool data type. Please set order to 0 or explicitely cast input image to another data type. Starting from version 0.19 a ValueError will be raised instead of this warning.\n",
            "  order = _validate_interpolation_order(image.dtype, order)\n"
          ]
        },
        {
          "output_type": "stream",
          "name": "stdout",
          "text": [
            "mask.shape, min(mask),max(mask): (1020, 1920, 2), 0,1\n",
            "rr.shape, min(rr),max(rr): (241000,), 291,866\n",
            "cc.shape, min(cc),max(cc): (241000,), 62,573\n",
            "After fixing the dirt mask, new values:\n",
            "rr.shape, min(rr),max(rr): (241000,), 291,866\n",
            "cc.shape, min(cc),max(cc): (241000,), 62,573\n"
          ]
        },
        {
          "output_type": "stream",
          "name": "stderr",
          "text": [
            "/usr/local/lib/python3.7/dist-packages/ipykernel_launcher.py:129: DeprecationWarning: `np.bool` is a deprecated alias for the builtin `bool`. To silence this warning, use `bool` by itself. Doing this will not modify any behavior and is safe. If you specifically wanted the numpy scalar type, use `np.bool_` here.\n",
            "Deprecated in NumPy 1.20; for more details and guidance: https://numpy.org/devdocs/release/1.20.0-notes.html#deprecations\n",
            "/usr/local/lib/python3.7/dist-packages/skimage/transform/_warps.py:830: FutureWarning: Input image dtype is bool. Interpolation is not defined with bool data type. Please set order to 0 or explicitely cast input image to another data type. Starting from version 0.19 a ValueError will be raised instead of this warning.\n",
            "  order = _validate_interpolation_order(image.dtype, order)\n"
          ]
        },
        {
          "output_type": "stream",
          "name": "stdout",
          "text": [
            "mask.shape, min(mask),max(mask): (683, 1024, 1), 0,0\n",
            "rr.shape, min(rr),max(rr): (46308,), 202,443\n",
            "cc.shape, min(cc),max(cc): (46308,), 325,592\n",
            "After fixing the dirt mask, new values:\n",
            "rr.shape, min(rr),max(rr): (46308,), 202,443\n",
            "cc.shape, min(cc),max(cc): (46308,), 325,592\n"
          ]
        },
        {
          "output_type": "stream",
          "name": "stderr",
          "text": [
            "/usr/local/lib/python3.7/dist-packages/ipykernel_launcher.py:129: DeprecationWarning: `np.bool` is a deprecated alias for the builtin `bool`. To silence this warning, use `bool` by itself. Doing this will not modify any behavior and is safe. If you specifically wanted the numpy scalar type, use `np.bool_` here.\n",
            "Deprecated in NumPy 1.20; for more details and guidance: https://numpy.org/devdocs/release/1.20.0-notes.html#deprecations\n",
            "/usr/local/lib/python3.7/dist-packages/skimage/transform/_warps.py:830: FutureWarning: Input image dtype is bool. Interpolation is not defined with bool data type. Please set order to 0 or explicitely cast input image to another data type. Starting from version 0.19 a ValueError will be raised instead of this warning.\n",
            "  order = _validate_interpolation_order(image.dtype, order)\n"
          ]
        },
        {
          "output_type": "stream",
          "name": "stdout",
          "text": [
            "mask.shape, min(mask),max(mask): (1367, 2048, 2), 0,0\n",
            "rr.shape, min(rr),max(rr): (260912,), 239,1007\n",
            "cc.shape, min(cc),max(cc): (260912,), 750,1336\n",
            "After fixing the dirt mask, new values:\n",
            "rr.shape, min(rr),max(rr): (260912,), 239,1007\n",
            "cc.shape, min(cc),max(cc): (260912,), 750,1336\n",
            "mask.shape, min(mask),max(mask): (1367, 2048, 2), 0,1\n",
            "rr.shape, min(rr),max(rr): (58070,), 426,803\n",
            "cc.shape, min(cc),max(cc): (58070,), 500,793\n",
            "After fixing the dirt mask, new values:\n",
            "rr.shape, min(rr),max(rr): (58070,), 426,803\n",
            "cc.shape, min(cc),max(cc): (58070,), 500,793\n"
          ]
        },
        {
          "output_type": "stream",
          "name": "stderr",
          "text": [
            "/usr/local/lib/python3.7/dist-packages/ipykernel_launcher.py:129: DeprecationWarning: `np.bool` is a deprecated alias for the builtin `bool`. To silence this warning, use `bool` by itself. Doing this will not modify any behavior and is safe. If you specifically wanted the numpy scalar type, use `np.bool_` here.\n",
            "Deprecated in NumPy 1.20; for more details and guidance: https://numpy.org/devdocs/release/1.20.0-notes.html#deprecations\n"
          ]
        },
        {
          "output_type": "stream",
          "name": "stdout",
          "text": [
            "mask.shape, min(mask),max(mask): (700, 700, 2), 0,0\n",
            "rr.shape, min(rr),max(rr): (43241,), 1,257\n",
            "cc.shape, min(cc),max(cc): (43241,), 234,494\n",
            "After fixing the dirt mask, new values:\n",
            "rr.shape, min(rr),max(rr): (43241,), 1,257\n",
            "cc.shape, min(cc),max(cc): (43241,), 234,494\n",
            "mask.shape, min(mask),max(mask): (700, 700, 2), 0,1\n",
            "rr.shape, min(rr),max(rr): (46237,), 460,699\n",
            "cc.shape, min(cc),max(cc): (46237,), 410,657\n",
            "After fixing the dirt mask, new values:\n",
            "rr.shape, min(rr),max(rr): (46237,), 460,699\n",
            "cc.shape, min(cc),max(cc): (46237,), 410,657\n"
          ]
        },
        {
          "output_type": "stream",
          "name": "stderr",
          "text": [
            "/usr/local/lib/python3.7/dist-packages/ipykernel_launcher.py:129: DeprecationWarning: `np.bool` is a deprecated alias for the builtin `bool`. To silence this warning, use `bool` by itself. Doing this will not modify any behavior and is safe. If you specifically wanted the numpy scalar type, use `np.bool_` here.\n",
            "Deprecated in NumPy 1.20; for more details and guidance: https://numpy.org/devdocs/release/1.20.0-notes.html#deprecations\n",
            "/usr/local/lib/python3.7/dist-packages/skimage/transform/_warps.py:830: FutureWarning: Input image dtype is bool. Interpolation is not defined with bool data type. Please set order to 0 or explicitely cast input image to another data type. Starting from version 0.19 a ValueError will be raised instead of this warning.\n",
            "  order = _validate_interpolation_order(image.dtype, order)\n",
            "/usr/local/lib/python3.7/dist-packages/skimage/transform/_warps.py:830: FutureWarning: Input image dtype is bool. Interpolation is not defined with bool data type. Please set order to 0 or explicitely cast input image to another data type. Starting from version 0.19 a ValueError will be raised instead of this warning.\n",
            "  order = _validate_interpolation_order(image.dtype, order)\n"
          ]
        },
        {
          "output_type": "stream",
          "name": "stdout",
          "text": [
            "mask.shape, min(mask),max(mask): (540, 540, 3), 0,0\n",
            "rr.shape, min(rr),max(rr): (50860,), 13,364\n",
            "cc.shape, min(cc),max(cc): (50860,), 274,506\n",
            "After fixing the dirt mask, new values:\n",
            "rr.shape, min(rr),max(rr): (50860,), 13,364\n",
            "cc.shape, min(cc),max(cc): (50860,), 274,506\n",
            "mask.shape, min(mask),max(mask): (540, 540, 3), 0,1\n",
            "rr.shape, min(rr),max(rr): (66638,), 232,527\n",
            "cc.shape, min(cc),max(cc): (66638,), 124,446\n",
            "After fixing the dirt mask, new values:\n",
            "rr.shape, min(rr),max(rr): (66638,), 232,527\n",
            "cc.shape, min(cc),max(cc): (66638,), 124,446\n",
            "mask.shape, min(mask),max(mask): (540, 540, 3), 0,1\n",
            "rr.shape, min(rr),max(rr): (46383,), 61,340\n",
            "cc.shape, min(cc),max(cc): (46383,), 28,281\n",
            "After fixing the dirt mask, new values:\n",
            "rr.shape, min(rr),max(rr): (46383,), 61,340\n",
            "cc.shape, min(cc),max(cc): (46383,), 28,281\n"
          ]
        },
        {
          "output_type": "stream",
          "name": "stderr",
          "text": [
            "/usr/local/lib/python3.7/dist-packages/ipykernel_launcher.py:129: DeprecationWarning: `np.bool` is a deprecated alias for the builtin `bool`. To silence this warning, use `bool` by itself. Doing this will not modify any behavior and is safe. If you specifically wanted the numpy scalar type, use `np.bool_` here.\n",
            "Deprecated in NumPy 1.20; for more details and guidance: https://numpy.org/devdocs/release/1.20.0-notes.html#deprecations\n"
          ]
        },
        {
          "output_type": "stream",
          "name": "stdout",
          "text": [
            "mask.shape, min(mask),max(mask): (1365, 2048, 1), 0,0\n",
            "rr.shape, min(rr),max(rr): (268754,), 212,819\n",
            "cc.shape, min(cc),max(cc): (268754,), 375,1001\n",
            "After fixing the dirt mask, new values:\n",
            "rr.shape, min(rr),max(rr): (268754,), 212,819\n",
            "cc.shape, min(cc),max(cc): (268754,), 375,1001\n"
          ]
        },
        {
          "output_type": "stream",
          "name": "stderr",
          "text": [
            "/usr/local/lib/python3.7/dist-packages/ipykernel_launcher.py:129: DeprecationWarning: `np.bool` is a deprecated alias for the builtin `bool`. To silence this warning, use `bool` by itself. Doing this will not modify any behavior and is safe. If you specifically wanted the numpy scalar type, use `np.bool_` here.\n",
            "Deprecated in NumPy 1.20; for more details and guidance: https://numpy.org/devdocs/release/1.20.0-notes.html#deprecations\n",
            "/usr/local/lib/python3.7/dist-packages/skimage/transform/_warps.py:830: FutureWarning: Input image dtype is bool. Interpolation is not defined with bool data type. Please set order to 0 or explicitely cast input image to another data type. Starting from version 0.19 a ValueError will be raised instead of this warning.\n",
            "  order = _validate_interpolation_order(image.dtype, order)\n",
            "/usr/local/lib/python3.7/dist-packages/skimage/transform/_warps.py:830: FutureWarning: Input image dtype is bool. Interpolation is not defined with bool data type. Please set order to 0 or explicitely cast input image to another data type. Starting from version 0.19 a ValueError will be raised instead of this warning.\n",
            "  order = _validate_interpolation_order(image.dtype, order)\n"
          ]
        },
        {
          "output_type": "stream",
          "name": "stdout",
          "text": [
            "mask.shape, min(mask),max(mask): (640, 640, 3), 0,0\n",
            "rr.shape, min(rr),max(rr): (34105,), 436,639\n",
            "cc.shape, min(cc),max(cc): (34105,), 299,508\n",
            "After fixing the dirt mask, new values:\n",
            "rr.shape, min(rr),max(rr): (34105,), 436,639\n",
            "cc.shape, min(cc),max(cc): (34105,), 299,508\n",
            "mask.shape, min(mask),max(mask): (640, 640, 5), 0,0\n",
            "rr.shape, min(rr),max(rr): (25835,), 312,539\n",
            "cc.shape, min(cc),max(cc): (25835,), 273,443\n",
            "mask.shape, min(mask),max(mask): (640, 640, 3), 0,1\n",
            "After fixing the dirt mask, new values:\n",
            "rr.shape, min(rr),max(rr): (38334,), 332,611\n",
            "rr.shape, min(rr),max(rr): (25835,), 312,539\n",
            "cc.shape, min(cc),max(cc): (25835,), 273,443\n",
            "cc.shape, min(cc),max(cc): (38334,), 139,356\n",
            "After fixing the dirt mask, new values:\n",
            "rr.shape, min(rr),max(rr): (38334,), 332,611\n",
            "cc.shape, min(cc),max(cc): (38334,), 139,356\n",
            "mask.shape, min(mask),max(mask): (640, 640, 5), 0,1\n",
            "rr.shape, min(rr),max(rr): (10419,), 252,364\n",
            "cc.shape, min(cc),max(cc): (10419,), 284,436\n",
            "After fixing the dirt mask, new values:\n",
            "rr.shape, min(rr),max(rr): (10419,), 252,364\n",
            "cc.shape, min(cc),max(cc): (10419,), 284,436\n",
            "mask.shape, min(mask),max(mask): (640, 640, 3), 0,1\n",
            "rr.shape, min(rr),max(rr): (36504,), 126,346\n",
            "mask.shape, min(mask),max(mask): (640, 640, 5), 0,1\n",
            "rr.shape, min(rr),max(rr): (6535,), 239,340\n",
            "cc.shape, min(cc),max(cc): (36504,), 196,421\n",
            "After fixing the dirt mask, new values:\n",
            "cc.shape, min(cc),max(cc): (6535,), 390,515\n",
            "After fixing the dirt mask, new values:\n",
            "rr.shape, min(rr),max(rr): (36504,), 126,346\n",
            "rr.shape, min(rr),max(rr): (6535,), 239,340\n",
            "cc.shape, min(cc),max(cc): (36504,), 196,421\n",
            "cc.shape, min(cc),max(cc): (6535,), 390,515\n"
          ]
        },
        {
          "output_type": "stream",
          "name": "stderr",
          "text": [
            "/usr/local/lib/python3.7/dist-packages/ipykernel_launcher.py:129: DeprecationWarning: `np.bool` is a deprecated alias for the builtin `bool`. To silence this warning, use `bool` by itself. Doing this will not modify any behavior and is safe. If you specifically wanted the numpy scalar type, use `np.bool_` here.\n",
            "Deprecated in NumPy 1.20; for more details and guidance: https://numpy.org/devdocs/release/1.20.0-notes.html#deprecations\n"
          ]
        },
        {
          "output_type": "stream",
          "name": "stdout",
          "text": [
            "mask.shape, min(mask),max(mask): (640, 640, 5), 0,1\n",
            "rr.shape, min(rr),max(rr): (19996,), 101,335\n",
            "cc.shape, min(cc),max(cc): (19996,), 163,318\n",
            "After fixing the dirt mask, new values:\n",
            "rr.shape, min(rr),max(rr): (19996,), 101,335\n",
            "cc.shape, min(cc),max(cc): (19996,), 163,318\n",
            "mask.shape, min(mask),max(mask): (640, 640, 5), 0,1\n",
            "rr.shape, min(rr),max(rr): (11194,), 271,429\n",
            "cc.shape, min(cc),max(cc): (11194,), 8,176\n",
            "After fixing the dirt mask, new values:\n",
            "rr.shape, min(rr),max(rr): (11194,), 271,429\n",
            "cc.shape, min(cc),max(cc): (11194,), 8,176\n"
          ]
        },
        {
          "output_type": "stream",
          "name": "stderr",
          "text": [
            "/usr/local/lib/python3.7/dist-packages/ipykernel_launcher.py:129: DeprecationWarning: `np.bool` is a deprecated alias for the builtin `bool`. To silence this warning, use `bool` by itself. Doing this will not modify any behavior and is safe. If you specifically wanted the numpy scalar type, use `np.bool_` here.\n",
            "Deprecated in NumPy 1.20; for more details and guidance: https://numpy.org/devdocs/release/1.20.0-notes.html#deprecations\n",
            "/usr/local/lib/python3.7/dist-packages/skimage/transform/_warps.py:830: FutureWarning: Input image dtype is bool. Interpolation is not defined with bool data type. Please set order to 0 or explicitely cast input image to another data type. Starting from version 0.19 a ValueError will be raised instead of this warning.\n",
            "  order = _validate_interpolation_order(image.dtype, order)\n",
            "/usr/local/lib/python3.7/dist-packages/skimage/transform/_warps.py:830: FutureWarning: Input image dtype is bool. Interpolation is not defined with bool data type. Please set order to 0 or explicitely cast input image to another data type. Starting from version 0.19 a ValueError will be raised instead of this warning.\n",
            "  order = _validate_interpolation_order(image.dtype, order)\n"
          ]
        },
        {
          "output_type": "stream",
          "name": "stdout",
          "text": [
            "mask.shape, min(mask),max(mask): (1024, 1024, 3), 0,0\n",
            "rr.shape, min(rr),max(rr): (136221,), 394,822\n",
            "cc.shape, min(cc),max(cc): (136221,), 586,1005\n",
            "After fixing the dirt mask, new values:\n",
            "rr.shape, min(rr),max(rr): (136221,), 394,822\n",
            "cc.shape, min(cc),max(cc): (136221,), 586,1005\n",
            "mask.shape, min(mask),max(mask): (425, 500, 2), 0,0\n",
            "rr.shape, min(rr),max(rr): (62429,), 56,390\n",
            "cc.shape, min(cc),max(cc): (62429,), 47,312\n",
            "After fixing the dirt mask, new values:\n",
            "rr.shape, min(rr),max(rr): (62429,), 56,390\n",
            "cc.shape, min(cc),max(cc): (62429,), 47,312\n",
            "mask.shape, min(mask),max(mask): (425, 500, 2), 0,1\n",
            "rr.shape, min(rr),max(rr): (28109,), 115,331\n",
            "cc.shape, min(cc),max(cc): (28109,), 277,455\n",
            "After fixing the dirt mask, new values:\n",
            "rr.shape, min(rr),max(rr): (28109,), 115,331\n",
            "cc.shape, min(cc),max(cc): (28109,), 277,455\n"
          ]
        },
        {
          "output_type": "stream",
          "name": "stderr",
          "text": [
            "/usr/local/lib/python3.7/dist-packages/ipykernel_launcher.py:129: DeprecationWarning: `np.bool` is a deprecated alias for the builtin `bool`. To silence this warning, use `bool` by itself. Doing this will not modify any behavior and is safe. If you specifically wanted the numpy scalar type, use `np.bool_` here.\n",
            "Deprecated in NumPy 1.20; for more details and guidance: https://numpy.org/devdocs/release/1.20.0-notes.html#deprecations\n"
          ]
        },
        {
          "output_type": "stream",
          "name": "stdout",
          "text": [
            "mask.shape, min(mask),max(mask): (1024, 1024, 3), 0,1\n",
            "rr.shape, min(rr),max(rr): (194833,), 402,869\n",
            "cc.shape, min(cc),max(cc): (194833,), 10,594\n",
            "After fixing the dirt mask, new values:\n",
            "rr.shape, min(rr),max(rr): (194833,), 402,869\n",
            "cc.shape, min(cc),max(cc): (194833,), 10,594\n",
            "mask.shape, min(mask),max(mask): (1024, 1024, 3), 0,1\n",
            "rr.shape, min(rr),max(rr): (81556,), 162,539\n",
            "cc.shape, min(cc),max(cc): (81556,), 281,704\n",
            "After fixing the dirt mask, new values:\n",
            "rr.shape, min(rr),max(rr): (81556,), 162,539\n",
            "cc.shape, min(cc),max(cc): (81556,), 281,704\n"
          ]
        },
        {
          "output_type": "stream",
          "name": "stderr",
          "text": [
            "/usr/local/lib/python3.7/dist-packages/ipykernel_launcher.py:129: DeprecationWarning: `np.bool` is a deprecated alias for the builtin `bool`. To silence this warning, use `bool` by itself. Doing this will not modify any behavior and is safe. If you specifically wanted the numpy scalar type, use `np.bool_` here.\n",
            "Deprecated in NumPy 1.20; for more details and guidance: https://numpy.org/devdocs/release/1.20.0-notes.html#deprecations\n",
            "/usr/local/lib/python3.7/dist-packages/skimage/transform/_warps.py:830: FutureWarning: Input image dtype is bool. Interpolation is not defined with bool data type. Please set order to 0 or explicitely cast input image to another data type. Starting from version 0.19 a ValueError will be raised instead of this warning.\n",
            "  order = _validate_interpolation_order(image.dtype, order)\n",
            "/usr/local/lib/python3.7/dist-packages/skimage/transform/_warps.py:830: FutureWarning: Input image dtype is bool. Interpolation is not defined with bool data type. Please set order to 0 or explicitely cast input image to another data type. Starting from version 0.19 a ValueError will be raised instead of this warning.\n",
            "  order = _validate_interpolation_order(image.dtype, order)\n"
          ]
        },
        {
          "output_type": "stream",
          "name": "stdout",
          "text": [
            "mask.shape, min(mask),max(mask): (800, 600, 2), 0,0\n",
            "rr.shape, min(rr),max(rr): (85779,), 145,520\n",
            "cc.shape, min(cc),max(cc): (85779,), 183,488\n",
            "After fixing the dirt mask, new values:\n",
            "rr.shape, min(rr),max(rr): (85779,), 145,520\n",
            "cc.shape, min(cc),max(cc): (85779,), 183,488\n",
            "mask.shape, min(mask),max(mask): (800, 600, 2), 0,1\n",
            "rr.shape, min(rr),max(rr): (21232,), 0,159\n",
            "cc.shape, min(cc),max(cc): (21232,), 266,428\n",
            "After fixing the dirt mask, new values:\n",
            "rr.shape, min(rr),max(rr): (21232,), 0,159\n",
            "mask.shape, min(mask),max(mask): (640, 640, 5), 0,0\n",
            "cc.shape, min(cc),max(cc): (21232,), 266,428\n",
            "rr.shape, min(rr),max(rr): (25835,), 312,539\n"
          ]
        },
        {
          "output_type": "stream",
          "name": "stderr",
          "text": [
            "/usr/local/lib/python3.7/dist-packages/ipykernel_launcher.py:129: DeprecationWarning: `np.bool` is a deprecated alias for the builtin `bool`. To silence this warning, use `bool` by itself. Doing this will not modify any behavior and is safe. If you specifically wanted the numpy scalar type, use `np.bool_` here.\n",
            "Deprecated in NumPy 1.20; for more details and guidance: https://numpy.org/devdocs/release/1.20.0-notes.html#deprecations\n"
          ]
        },
        {
          "output_type": "stream",
          "name": "stdout",
          "text": [
            "cc.shape, min(cc),max(cc): (25835,), 273,443\n",
            "After fixing the dirt mask, new values:\n",
            "rr.shape, min(rr),max(rr): (25835,), 312,539\n",
            "cc.shape, min(cc),max(cc): (25835,), 273,443\n",
            "mask.shape, min(mask),max(mask): (640, 640, 5), 0,1\n",
            "rr.shape, min(rr),max(rr): (10419,), 252,364\n",
            "cc.shape, min(cc),max(cc): (10419,), 284,436\n",
            "After fixing the dirt mask, new values:\n",
            "rr.shape, min(rr),max(rr): (10419,), 252,364\n",
            "cc.shape, min(cc),max(cc): (10419,), 284,436\n",
            "mask.shape, min(mask),max(mask): (640, 640, 5), 0,1\n",
            "rr.shape, min(rr),max(rr): (6535,), 239,340\n",
            "cc.shape, min(cc),max(cc): (6535,), 390,515\n",
            "After fixing the dirt mask, new values:\n",
            "rr.shape, min(rr),max(rr): (6535,), 239,340\n",
            "cc.shape, min(cc),max(cc): (6535,), 390,515\n",
            "mask.shape, min(mask),max(mask): (640, 640, 5), 0,1\n",
            "rr.shape, min(rr),max(rr): (19996,), 101,335\n",
            "cc.shape, min(cc),max(cc): (19996,), 163,318\n",
            "After fixing the dirt mask, new values:\n",
            "rr.shape, min(rr),max(rr): (19996,), 101,335\n",
            "cc.shape, min(cc),max(cc): (19996,), 163,318\n",
            "mask.shape, min(mask),max(mask): (640, 640, 5), 0,1\n",
            "rr.shape, min(rr),max(rr): (11194,), 271,429\n",
            "cc.shape, min(cc),max(cc): (11194,), 8,176\n",
            "After fixing the dirt mask, new values:\n",
            "rr.shape, min(rr),max(rr): (11194,), 271,429\n",
            "cc.shape, min(cc),max(cc): (11194,), 8,176\n"
          ]
        },
        {
          "output_type": "stream",
          "name": "stderr",
          "text": [
            "/usr/local/lib/python3.7/dist-packages/ipykernel_launcher.py:129: DeprecationWarning: `np.bool` is a deprecated alias for the builtin `bool`. To silence this warning, use `bool` by itself. Doing this will not modify any behavior and is safe. If you specifically wanted the numpy scalar type, use `np.bool_` here.\n",
            "Deprecated in NumPy 1.20; for more details and guidance: https://numpy.org/devdocs/release/1.20.0-notes.html#deprecations\n",
            "/usr/local/lib/python3.7/dist-packages/skimage/transform/_warps.py:830: FutureWarning: Input image dtype is bool. Interpolation is not defined with bool data type. Please set order to 0 or explicitely cast input image to another data type. Starting from version 0.19 a ValueError will be raised instead of this warning.\n",
            "  order = _validate_interpolation_order(image.dtype, order)\n",
            "/usr/local/lib/python3.7/dist-packages/skimage/transform/_warps.py:830: FutureWarning: Input image dtype is bool. Interpolation is not defined with bool data type. Please set order to 0 or explicitely cast input image to another data type. Starting from version 0.19 a ValueError will be raised instead of this warning.\n",
            "  order = _validate_interpolation_order(image.dtype, order)\n"
          ]
        },
        {
          "output_type": "stream",
          "name": "stdout",
          "text": [
            "mask.shape, min(mask),max(mask): (640, 572, 1), 0,0\n",
            "rr.shape, min(rr),max(rr): (223009,), 35,607\n",
            "cc.shape, min(cc),max(cc): (223009,), 35,537\n",
            "After fixing the dirt mask, new values:\n",
            "rr.shape, min(rr),max(rr): (223009,), 35,607\n",
            "cc.shape, min(cc),max(cc): (223009,), 35,537\n"
          ]
        },
        {
          "output_type": "stream",
          "name": "stderr",
          "text": [
            "/usr/local/lib/python3.7/dist-packages/ipykernel_launcher.py:129: DeprecationWarning: `np.bool` is a deprecated alias for the builtin `bool`. To silence this warning, use `bool` by itself. Doing this will not modify any behavior and is safe. If you specifically wanted the numpy scalar type, use `np.bool_` here.\n",
            "Deprecated in NumPy 1.20; for more details and guidance: https://numpy.org/devdocs/release/1.20.0-notes.html#deprecations\n"
          ]
        },
        {
          "output_type": "stream",
          "name": "stdout",
          "text": [
            "mask.shape, min(mask),max(mask): (742, 1200, 1), 0,0\n",
            "rr.shape, min(rr),max(rr): (30802,), 93,279\n",
            "cc.shape, min(cc),max(cc): (30802,), 730,970\n",
            "After fixing the dirt mask, new values:\n",
            "rr.shape, min(rr),max(rr): (30802,), 93,279\n",
            "cc.shape, min(cc),max(cc): (30802,), 730,970\n"
          ]
        },
        {
          "output_type": "stream",
          "name": "stderr",
          "text": [
            "/usr/local/lib/python3.7/dist-packages/ipykernel_launcher.py:129: DeprecationWarning: `np.bool` is a deprecated alias for the builtin `bool`. To silence this warning, use `bool` by itself. Doing this will not modify any behavior and is safe. If you specifically wanted the numpy scalar type, use `np.bool_` here.\n",
            "Deprecated in NumPy 1.20; for more details and guidance: https://numpy.org/devdocs/release/1.20.0-notes.html#deprecations\n",
            "/usr/local/lib/python3.7/dist-packages/skimage/transform/_warps.py:830: FutureWarning: Input image dtype is bool. Interpolation is not defined with bool data type. Please set order to 0 or explicitely cast input image to another data type. Starting from version 0.19 a ValueError will be raised instead of this warning.\n",
            "  order = _validate_interpolation_order(image.dtype, order)\n",
            "/usr/local/lib/python3.7/dist-packages/skimage/transform/_warps.py:830: FutureWarning: Input image dtype is bool. Interpolation is not defined with bool data type. Please set order to 0 or explicitely cast input image to another data type. Starting from version 0.19 a ValueError will be raised instead of this warning.\n",
            "  order = _validate_interpolation_order(image.dtype, order)\n"
          ]
        },
        {
          "output_type": "stream",
          "name": "stdout",
          "text": [
            "mask.shape, min(mask),max(mask): (738, 1024, 1), 0,0\n",
            "rr.shape, min(rr),max(rr): (110846,), 327,729\n",
            "cc.shape, min(cc),max(cc): (110846,), 195,574\n",
            "After fixing the dirt mask, new values:\n",
            "rr.shape, min(rr),max(rr): (110846,), 327,729\n",
            "cc.shape, min(cc),max(cc): (110846,), 195,574\n"
          ]
        },
        {
          "output_type": "stream",
          "name": "stderr",
          "text": [
            "/usr/local/lib/python3.7/dist-packages/ipykernel_launcher.py:129: DeprecationWarning: `np.bool` is a deprecated alias for the builtin `bool`. To silence this warning, use `bool` by itself. Doing this will not modify any behavior and is safe. If you specifically wanted the numpy scalar type, use `np.bool_` here.\n",
            "Deprecated in NumPy 1.20; for more details and guidance: https://numpy.org/devdocs/release/1.20.0-notes.html#deprecations\n",
            "/usr/local/lib/python3.7/dist-packages/skimage/transform/_warps.py:830: FutureWarning: Input image dtype is bool. Interpolation is not defined with bool data type. Please set order to 0 or explicitely cast input image to another data type. Starting from version 0.19 a ValueError will be raised instead of this warning.\n",
            "  order = _validate_interpolation_order(image.dtype, order)\n"
          ]
        },
        {
          "output_type": "stream",
          "name": "stdout",
          "text": [
            "mask.shape, min(mask),max(mask): (763, 1024, 2), 0,0\n",
            "rr.shape, min(rr),max(rr): (151648,), 89,694\n",
            "cc.shape, min(cc),max(cc): (151648,), 81,487\n",
            "After fixing the dirt mask, new values:\n",
            "rr.shape, min(rr),max(rr): (151648,), 89,694\n",
            "cc.shape, min(cc),max(cc): (151648,), 81,487\n",
            "mask.shape, min(mask),max(mask): (1117, 1900, 1), 0,0\n",
            "rr.shape, min(rr),max(rr): (124787,), 314,700\n",
            "cc.shape, min(cc),max(cc): (124787,), 689,1125\n",
            "After fixing the dirt mask, new values:\n",
            "rr.shape, min(rr),max(rr): (124787,), 314,700\n",
            "mask.shape, min(mask),max(mask): (763, 1024, 2), 0,1\n",
            "cc.shape, min(cc),max(cc): (124787,), 689,1125\n",
            "rr.shape, min(rr),max(rr): (140945,), 203,708\n"
          ]
        },
        {
          "output_type": "stream",
          "name": "stderr",
          "text": [
            "/usr/local/lib/python3.7/dist-packages/ipykernel_launcher.py:129: DeprecationWarning: `np.bool` is a deprecated alias for the builtin `bool`. To silence this warning, use `bool` by itself. Doing this will not modify any behavior and is safe. If you specifically wanted the numpy scalar type, use `np.bool_` here.\n",
            "Deprecated in NumPy 1.20; for more details and guidance: https://numpy.org/devdocs/release/1.20.0-notes.html#deprecations\n"
          ]
        },
        {
          "output_type": "stream",
          "name": "stdout",
          "text": [
            "cc.shape, min(cc),max(cc): (140945,), 500,917\n",
            "After fixing the dirt mask, new values:\n",
            "rr.shape, min(rr),max(rr): (140945,), 203,708\n",
            "cc.shape, min(cc),max(cc): (140945,), 500,917\n"
          ]
        },
        {
          "output_type": "stream",
          "name": "stderr",
          "text": [
            "/usr/local/lib/python3.7/dist-packages/ipykernel_launcher.py:129: DeprecationWarning: `np.bool` is a deprecated alias for the builtin `bool`. To silence this warning, use `bool` by itself. Doing this will not modify any behavior and is safe. If you specifically wanted the numpy scalar type, use `np.bool_` here.\n",
            "Deprecated in NumPy 1.20; for more details and guidance: https://numpy.org/devdocs/release/1.20.0-notes.html#deprecations\n",
            "/usr/local/lib/python3.7/dist-packages/skimage/transform/_warps.py:830: FutureWarning: Input image dtype is bool. Interpolation is not defined with bool data type. Please set order to 0 or explicitely cast input image to another data type. Starting from version 0.19 a ValueError will be raised instead of this warning.\n",
            "  order = _validate_interpolation_order(image.dtype, order)\n",
            "/usr/local/lib/python3.7/dist-packages/skimage/transform/_warps.py:830: FutureWarning: Input image dtype is bool. Interpolation is not defined with bool data type. Please set order to 0 or explicitely cast input image to another data type. Starting from version 0.19 a ValueError will be raised instead of this warning.\n",
            "  order = _validate_interpolation_order(image.dtype, order)\n"
          ]
        },
        {
          "output_type": "stream",
          "name": "stdout",
          "text": [
            "mask.shape, min(mask),max(mask): (375, 500, 1), 0,0\n",
            "rr.shape, min(rr),max(rr): (23294,), 138,320\n",
            "cc.shape, min(cc),max(cc): (23294,), 54,243\n",
            "After fixing the dirt mask, new values:\n",
            "rr.shape, min(rr),max(rr): (23294,), 138,320\n",
            "cc.shape, min(cc),max(cc): (23294,), 54,243\n"
          ]
        },
        {
          "output_type": "stream",
          "name": "stderr",
          "text": [
            "/usr/local/lib/python3.7/dist-packages/ipykernel_launcher.py:129: DeprecationWarning: `np.bool` is a deprecated alias for the builtin `bool`. To silence this warning, use `bool` by itself. Doing this will not modify any behavior and is safe. If you specifically wanted the numpy scalar type, use `np.bool_` here.\n",
            "Deprecated in NumPy 1.20; for more details and guidance: https://numpy.org/devdocs/release/1.20.0-notes.html#deprecations\n",
            "/usr/local/lib/python3.7/dist-packages/skimage/transform/_warps.py:830: FutureWarning: Input image dtype is bool. Interpolation is not defined with bool data type. Please set order to 0 or explicitely cast input image to another data type. Starting from version 0.19 a ValueError will be raised instead of this warning.\n",
            "  order = _validate_interpolation_order(image.dtype, order)\n"
          ]
        },
        {
          "output_type": "stream",
          "name": "stdout",
          "text": [
            "mask.shape, min(mask),max(mask): (375, 500, 1), 0,0\n",
            "rr.shape, min(rr),max(rr): (13318,), 69,215\n",
            "cc.shape, min(cc),max(cc): (13318,), 16,170\n",
            "After fixing the dirt mask, new values:\n",
            "rr.shape, min(rr),max(rr): (13318,), 69,215\n",
            "cc.shape, min(cc),max(cc): (13318,), 16,170\n"
          ]
        },
        {
          "output_type": "stream",
          "name": "stderr",
          "text": [
            "/usr/local/lib/python3.7/dist-packages/ipykernel_launcher.py:129: DeprecationWarning: `np.bool` is a deprecated alias for the builtin `bool`. To silence this warning, use `bool` by itself. Doing this will not modify any behavior and is safe. If you specifically wanted the numpy scalar type, use `np.bool_` here.\n",
            "Deprecated in NumPy 1.20; for more details and guidance: https://numpy.org/devdocs/release/1.20.0-notes.html#deprecations\n"
          ]
        },
        {
          "output_type": "stream",
          "name": "stdout",
          "text": [
            "mask.shape, min(mask),max(mask): (1440, 2560, 1), 0,0\n",
            "rr.shape, min(rr),max(rr): (206108,), 125,592\n",
            "cc.shape, min(cc),max(cc): (206108,), 965,1545\n",
            "After fixing the dirt mask, new values:\n",
            "rr.shape, min(rr),max(rr): (206108,), 125,592\n",
            "cc.shape, min(cc),max(cc): (206108,), 965,1545\n"
          ]
        },
        {
          "output_type": "stream",
          "name": "stderr",
          "text": [
            "/usr/local/lib/python3.7/dist-packages/ipykernel_launcher.py:129: DeprecationWarning: `np.bool` is a deprecated alias for the builtin `bool`. To silence this warning, use `bool` by itself. Doing this will not modify any behavior and is safe. If you specifically wanted the numpy scalar type, use `np.bool_` here.\n",
            "Deprecated in NumPy 1.20; for more details and guidance: https://numpy.org/devdocs/release/1.20.0-notes.html#deprecations\n",
            "/usr/local/lib/python3.7/dist-packages/skimage/transform/_warps.py:830: FutureWarning: Input image dtype is bool. Interpolation is not defined with bool data type. Please set order to 0 or explicitely cast input image to another data type. Starting from version 0.19 a ValueError will be raised instead of this warning.\n",
            "  order = _validate_interpolation_order(image.dtype, order)\n",
            "/usr/local/lib/python3.7/dist-packages/skimage/transform/_warps.py:830: FutureWarning: Input image dtype is bool. Interpolation is not defined with bool data type. Please set order to 0 or explicitely cast input image to another data type. Starting from version 0.19 a ValueError will be raised instead of this warning.\n",
            "  order = _validate_interpolation_order(image.dtype, order)\n"
          ]
        },
        {
          "output_type": "stream",
          "name": "stdout",
          "text": [
            "mask.shape, min(mask),max(mask): (1000, 1500, 1), 0,0\n",
            "rr.shape, min(rr),max(rr): (261242,), 439,1000\n",
            "cc.shape, min(cc),max(cc): (261242,), 564,1294\n",
            "After fixing the dirt mask, new values:\n",
            "rr.shape, min(rr),max(rr): (261242,), 439,999\n",
            "cc.shape, min(cc),max(cc): (261242,), 564,1294\n"
          ]
        },
        {
          "output_type": "stream",
          "name": "stderr",
          "text": [
            "/usr/local/lib/python3.7/dist-packages/ipykernel_launcher.py:129: DeprecationWarning: `np.bool` is a deprecated alias for the builtin `bool`. To silence this warning, use `bool` by itself. Doing this will not modify any behavior and is safe. If you specifically wanted the numpy scalar type, use `np.bool_` here.\n",
            "Deprecated in NumPy 1.20; for more details and guidance: https://numpy.org/devdocs/release/1.20.0-notes.html#deprecations\n"
          ]
        },
        {
          "output_type": "stream",
          "name": "stdout",
          "text": [
            "mask.shape, min(mask),max(mask): (681, 1024, 1), 0,0\n",
            "rr.shape, min(rr),max(rr): (236138,), 65,648\n",
            "cc.shape, min(cc),max(cc): (236138,), 0,577\n",
            "After fixing the dirt mask, new values:\n",
            "rr.shape, min(rr),max(rr): (236138,), 65,648\n",
            "cc.shape, min(cc),max(cc): (236138,), 0,577\n"
          ]
        },
        {
          "output_type": "stream",
          "name": "stderr",
          "text": [
            "/usr/local/lib/python3.7/dist-packages/ipykernel_launcher.py:129: DeprecationWarning: `np.bool` is a deprecated alias for the builtin `bool`. To silence this warning, use `bool` by itself. Doing this will not modify any behavior and is safe. If you specifically wanted the numpy scalar type, use `np.bool_` here.\n",
            "Deprecated in NumPy 1.20; for more details and guidance: https://numpy.org/devdocs/release/1.20.0-notes.html#deprecations\n",
            "/usr/local/lib/python3.7/dist-packages/skimage/transform/_warps.py:830: FutureWarning: Input image dtype is bool. Interpolation is not defined with bool data type. Please set order to 0 or explicitely cast input image to another data type. Starting from version 0.19 a ValueError will be raised instead of this warning.\n",
            "  order = _validate_interpolation_order(image.dtype, order)\n",
            "/usr/local/lib/python3.7/dist-packages/skimage/transform/_warps.py:830: FutureWarning: Input image dtype is bool. Interpolation is not defined with bool data type. Please set order to 0 or explicitely cast input image to another data type. Starting from version 0.19 a ValueError will be raised instead of this warning.\n",
            "  order = _validate_interpolation_order(image.dtype, order)\n"
          ]
        },
        {
          "output_type": "stream",
          "name": "stdout",
          "text": [
            "mask.shape, min(mask),max(mask): (1196, 858, 1), 0,0\n",
            "rr.shape, min(rr),max(rr): (319855,), 261,926\n",
            "cc.shape, min(cc),max(cc): (319855,), 140,855\n",
            "After fixing the dirt mask, new values:\n",
            "rr.shape, min(rr),max(rr): (319855,), 261,926\n",
            "cc.shape, min(cc),max(cc): (319855,), 140,855\n"
          ]
        },
        {
          "output_type": "stream",
          "name": "stderr",
          "text": [
            "/usr/local/lib/python3.7/dist-packages/ipykernel_launcher.py:129: DeprecationWarning: `np.bool` is a deprecated alias for the builtin `bool`. To silence this warning, use `bool` by itself. Doing this will not modify any behavior and is safe. If you specifically wanted the numpy scalar type, use `np.bool_` here.\n",
            "Deprecated in NumPy 1.20; for more details and guidance: https://numpy.org/devdocs/release/1.20.0-notes.html#deprecations\n",
            "/usr/local/lib/python3.7/dist-packages/skimage/transform/_warps.py:830: FutureWarning: Input image dtype is bool. Interpolation is not defined with bool data type. Please set order to 0 or explicitely cast input image to another data type. Starting from version 0.19 a ValueError will be raised instead of this warning.\n",
            "  order = _validate_interpolation_order(image.dtype, order)\n"
          ]
        },
        {
          "output_type": "stream",
          "name": "stdout",
          "text": [
            "mask.shape, min(mask),max(mask): (1700, 2400, 1), 0,0\n",
            "rr.shape, min(rr),max(rr): (463059,), 608,1387\n",
            "cc.shape, min(cc),max(cc): (463059,), 242,992\n",
            "After fixing the dirt mask, new values:\n",
            "rr.shape, min(rr),max(rr): (463059,), 608,1387\n",
            "cc.shape, min(cc),max(cc): (463059,), 242,992\n"
          ]
        },
        {
          "output_type": "stream",
          "name": "stderr",
          "text": [
            "/usr/local/lib/python3.7/dist-packages/ipykernel_launcher.py:129: DeprecationWarning: `np.bool` is a deprecated alias for the builtin `bool`. To silence this warning, use `bool` by itself. Doing this will not modify any behavior and is safe. If you specifically wanted the numpy scalar type, use `np.bool_` here.\n",
            "Deprecated in NumPy 1.20; for more details and guidance: https://numpy.org/devdocs/release/1.20.0-notes.html#deprecations\n"
          ]
        },
        {
          "output_type": "stream",
          "name": "stdout",
          "text": [
            "mask.shape, min(mask),max(mask): (750, 750, 5), 0,0\n",
            "rr.shape, min(rr),max(rr): (62548,), 158,421\n",
            "cc.shape, min(cc),max(cc): (62548,), 340,619\n",
            "After fixing the dirt mask, new values:\n",
            "rr.shape, min(rr),max(rr): (62548,), 158,421\n",
            "cc.shape, min(cc),max(cc): (62548,), 340,619\n",
            "mask.shape, min(mask),max(mask): (750, 750, 5), 0,1\n",
            "rr.shape, min(rr),max(rr): (56722,), 380,655\n",
            "cc.shape, min(cc),max(cc): (56722,), 441,702\n",
            "After fixing the dirt mask, new values:\n",
            "rr.shape, min(rr),max(rr): (56722,), 380,655\n",
            "cc.shape, min(cc),max(cc): (56722,), 441,702\n",
            "mask.shape, min(mask),max(mask): (750, 750, 5), 0,1\n",
            "rr.shape, min(rr),max(rr): (61219,), 202,471\n"
          ]
        },
        {
          "output_type": "stream",
          "name": "stderr",
          "text": [
            "/usr/local/lib/python3.7/dist-packages/skimage/transform/_warps.py:830: FutureWarning: Input image dtype is bool. Interpolation is not defined with bool data type. Please set order to 0 or explicitely cast input image to another data type. Starting from version 0.19 a ValueError will be raised instead of this warning.\n",
            "  order = _validate_interpolation_order(image.dtype, order)\n"
          ]
        },
        {
          "output_type": "stream",
          "name": "stdout",
          "text": [
            "cc.shape, min(cc),max(cc): (61219,), 66,338\n",
            "After fixing the dirt mask, new values:\n",
            "rr.shape, min(rr),max(rr): (61219,), 202,471\n",
            "cc.shape, min(cc),max(cc): (61219,), 66,338\n",
            "mask.shape, min(mask),max(mask): (750, 750, 5), 0,1\n",
            "rr.shape, min(rr),max(rr): (59209,), 489,750\n",
            "mask.shape, min(mask),max(mask): (280, 280, 2), 0,0\n",
            "rr.shape, min(rr),max(rr): (11829,), 93,226\n",
            "cc.shape, min(cc),max(cc): (11829,), 159,279\n",
            "cc.shape, min(cc),max(cc): (59209,), 83,361\n",
            "After fixing the dirt mask, new values:\n",
            "rr.shape, min(rr),max(rr): (11829,), 93,226\n",
            "After fixing the dirt mask, new values:\n",
            "rr.shape, min(rr),max(rr): (59209,), 489,749\n",
            "cc.shape, min(cc),max(cc): (11829,), 159,279\n",
            "cc.shape, min(cc),max(cc): (59209,), 83,361\n",
            "mask.shape, min(mask),max(mask): (280, 280, 2), 0,1\n",
            "rr.shape, min(rr),max(rr): (7642,), 88,216\n",
            "cc.shape, min(cc),max(cc): (7642,), 0,78\n",
            "After fixing the dirt mask, new values:\n",
            "mask.shape, min(mask),max(mask): (750, 750, 5), 0,1\n",
            "rr.shape, min(rr),max(rr): (7642,), 88,216\n",
            "rr.shape, min(rr),max(rr): (11042,), 158,332\n",
            "cc.shape, min(cc),max(cc): (11042,), 0,104\n",
            "cc.shape, min(cc),max(cc): (7642,), 0,78\n",
            "After fixing the dirt mask, new values:\n"
          ]
        },
        {
          "output_type": "stream",
          "name": "stderr",
          "text": [
            "/usr/local/lib/python3.7/dist-packages/ipykernel_launcher.py:129: DeprecationWarning: `np.bool` is a deprecated alias for the builtin `bool`. To silence this warning, use `bool` by itself. Doing this will not modify any behavior and is safe. If you specifically wanted the numpy scalar type, use `np.bool_` here.\n",
            "Deprecated in NumPy 1.20; for more details and guidance: https://numpy.org/devdocs/release/1.20.0-notes.html#deprecations\n"
          ]
        },
        {
          "output_type": "stream",
          "name": "stdout",
          "text": [
            "rr.shape, min(rr),max(rr): (11042,), 158,332\n",
            "cc.shape, min(cc),max(cc): (11042,), 0,104\n"
          ]
        },
        {
          "output_type": "stream",
          "name": "stderr",
          "text": [
            "/usr/local/lib/python3.7/dist-packages/ipykernel_launcher.py:129: DeprecationWarning: `np.bool` is a deprecated alias for the builtin `bool`. To silence this warning, use `bool` by itself. Doing this will not modify any behavior and is safe. If you specifically wanted the numpy scalar type, use `np.bool_` here.\n",
            "Deprecated in NumPy 1.20; for more details and guidance: https://numpy.org/devdocs/release/1.20.0-notes.html#deprecations\n",
            "/usr/local/lib/python3.7/dist-packages/skimage/transform/_warps.py:830: FutureWarning: Input image dtype is bool. Interpolation is not defined with bool data type. Please set order to 0 or explicitely cast input image to another data type. Starting from version 0.19 a ValueError will be raised instead of this warning.\n",
            "  order = _validate_interpolation_order(image.dtype, order)\n",
            "/usr/local/lib/python3.7/dist-packages/skimage/transform/_warps.py:830: FutureWarning: Input image dtype is bool. Interpolation is not defined with bool data type. Please set order to 0 or explicitely cast input image to another data type. Starting from version 0.19 a ValueError will be raised instead of this warning.\n",
            "  order = _validate_interpolation_order(image.dtype, order)\n"
          ]
        },
        {
          "output_type": "stream",
          "name": "stdout",
          "text": [
            "mask.shape, min(mask),max(mask): (399, 263, 1), 0,0\n",
            "rr.shape, min(rr),max(rr): (14486,), 19,159\n",
            "cc.shape, min(cc),max(cc): (14486,), 67,206\n",
            "After fixing the dirt mask, new values:\n",
            "rr.shape, min(rr),max(rr): (14486,), 19,159\n",
            "cc.shape, min(cc),max(cc): (14486,), 67,206\n"
          ]
        },
        {
          "output_type": "stream",
          "name": "stderr",
          "text": [
            "/usr/local/lib/python3.7/dist-packages/ipykernel_launcher.py:129: DeprecationWarning: `np.bool` is a deprecated alias for the builtin `bool`. To silence this warning, use `bool` by itself. Doing this will not modify any behavior and is safe. If you specifically wanted the numpy scalar type, use `np.bool_` here.\n",
            "Deprecated in NumPy 1.20; for more details and guidance: https://numpy.org/devdocs/release/1.20.0-notes.html#deprecations\n",
            "/usr/local/lib/python3.7/dist-packages/skimage/transform/_warps.py:830: FutureWarning: Input image dtype is bool. Interpolation is not defined with bool data type. Please set order to 0 or explicitely cast input image to another data type. Starting from version 0.19 a ValueError will be raised instead of this warning.\n",
            "  order = _validate_interpolation_order(image.dtype, order)\n"
          ]
        },
        {
          "output_type": "stream",
          "name": "stdout",
          "text": [
            "mask.shape, min(mask),max(mask): (1080, 810, 4), 0,0\n",
            "rr.shape, min(rr),max(rr): (64917,), 138,415\n",
            "cc.shape, min(cc),max(cc): (64917,), 184,479\n",
            "After fixing the dirt mask, new values:\n",
            "rr.shape, min(rr),max(rr): (64917,), 138,415\n",
            "cc.shape, min(cc),max(cc): (64917,), 184,479\n",
            "mask.shape, min(mask),max(mask): (1080, 810, 4), 0,1\n",
            "rr.shape, min(rr),max(rr): (52268,), 353,646\n",
            "cc.shape, min(cc),max(cc): (52268,), 388,621\n",
            "After fixing the dirt mask, new values:\n",
            "rr.shape, min(rr),max(rr): (52268,), 353,646\n",
            "cc.shape, min(cc),max(cc): (52268,), 388,621\n",
            "mask.shape, min(mask),max(mask): (606, 606, 2), 0,0\n",
            "rr.shape, min(rr),max(rr): (78497,), 34,425\n",
            "cc.shape, min(cc),max(cc): (78497,), 114,474\n",
            "After fixing the dirt mask, new values:\n",
            "rr.shape, min(rr),max(rr): (78497,), 34,425\n",
            "cc.shape, min(cc),max(cc): (78497,), 114,474\n",
            "mask.shape, min(mask),max(mask): (606, 606, 2), 0,1\n",
            "rr.shape, min(rr),max(rr): (22891,), 178,441\n",
            "cc.shape, min(cc),max(cc): (22891,), 1,147\n",
            "After fixing the dirt mask, new values:\n",
            "rr.shape, min(rr),max(rr): (22891,), 178,441\n",
            "mask.shape, min(mask),max(mask): (1080, 810, 4), 0,1\n",
            "cc.shape, min(cc),max(cc): (22891,), 1,147\n"
          ]
        },
        {
          "output_type": "stream",
          "name": "stderr",
          "text": [
            "/usr/local/lib/python3.7/dist-packages/ipykernel_launcher.py:129: DeprecationWarning: `np.bool` is a deprecated alias for the builtin `bool`. To silence this warning, use `bool` by itself. Doing this will not modify any behavior and is safe. If you specifically wanted the numpy scalar type, use `np.bool_` here.\n",
            "Deprecated in NumPy 1.20; for more details and guidance: https://numpy.org/devdocs/release/1.20.0-notes.html#deprecations\n"
          ]
        },
        {
          "output_type": "stream",
          "name": "stdout",
          "text": [
            "rr.shape, min(rr),max(rr): (46497,), 652,901\n",
            "cc.shape, min(cc),max(cc): (46497,), 384,635\n",
            "After fixing the dirt mask, new values:\n",
            "rr.shape, min(rr),max(rr): (46497,), 652,901\n",
            "cc.shape, min(cc),max(cc): (46497,), 384,635\n",
            "mask.shape, min(mask),max(mask): (1080, 810, 4), 0,1\n",
            "rr.shape, min(rr),max(rr): (42167,), 395,645\n",
            "cc.shape, min(cc),max(cc): (42167,), 168,397\n",
            "After fixing the dirt mask, new values:\n",
            "rr.shape, min(rr),max(rr): (42167,), 395,645\n",
            "cc.shape, min(cc),max(cc): (42167,), 168,397\n"
          ]
        },
        {
          "output_type": "stream",
          "name": "stderr",
          "text": [
            "/usr/local/lib/python3.7/dist-packages/ipykernel_launcher.py:129: DeprecationWarning: `np.bool` is a deprecated alias for the builtin `bool`. To silence this warning, use `bool` by itself. Doing this will not modify any behavior and is safe. If you specifically wanted the numpy scalar type, use `np.bool_` here.\n",
            "Deprecated in NumPy 1.20; for more details and guidance: https://numpy.org/devdocs/release/1.20.0-notes.html#deprecations\n",
            "/usr/local/lib/python3.7/dist-packages/skimage/transform/_warps.py:830: FutureWarning: Input image dtype is bool. Interpolation is not defined with bool data type. Please set order to 0 or explicitely cast input image to another data type. Starting from version 0.19 a ValueError will be raised instead of this warning.\n",
            "  order = _validate_interpolation_order(image.dtype, order)\n"
          ]
        },
        {
          "output_type": "stream",
          "name": "stdout",
          "text": [
            "mask.shape, min(mask),max(mask): (720, 960, 1), 0,0\n",
            "rr.shape, min(rr),max(rr): (42613,), 13,247\n",
            "cc.shape, min(cc),max(cc): (42613,), 136,406\n",
            "After fixing the dirt mask, new values:\n"
          ]
        },
        {
          "output_type": "stream",
          "name": "stderr",
          "text": [
            "/usr/local/lib/python3.7/dist-packages/skimage/transform/_warps.py:830: FutureWarning: Input image dtype is bool. Interpolation is not defined with bool data type. Please set order to 0 or explicitely cast input image to another data type. Starting from version 0.19 a ValueError will be raised instead of this warning.\n",
            "  order = _validate_interpolation_order(image.dtype, order)\n"
          ]
        },
        {
          "output_type": "stream",
          "name": "stdout",
          "text": [
            "rr.shape, min(rr),max(rr): (42613,), 13,247\n",
            "cc.shape, min(cc),max(cc): (42613,), 136,406\n"
          ]
        },
        {
          "output_type": "stream",
          "name": "stderr",
          "text": [
            "/usr/local/lib/python3.7/dist-packages/ipykernel_launcher.py:129: DeprecationWarning: `np.bool` is a deprecated alias for the builtin `bool`. To silence this warning, use `bool` by itself. Doing this will not modify any behavior and is safe. If you specifically wanted the numpy scalar type, use `np.bool_` here.\n",
            "Deprecated in NumPy 1.20; for more details and guidance: https://numpy.org/devdocs/release/1.20.0-notes.html#deprecations\n",
            "/usr/local/lib/python3.7/dist-packages/skimage/transform/_warps.py:830: FutureWarning: Input image dtype is bool. Interpolation is not defined with bool data type. Please set order to 0 or explicitely cast input image to another data type. Starting from version 0.19 a ValueError will be raised instead of this warning.\n",
            "  order = _validate_interpolation_order(image.dtype, order)\n"
          ]
        },
        {
          "output_type": "stream",
          "name": "stdout",
          "text": [
            "mask.shape, min(mask),max(mask): (450, 600, 1), 0,0\n",
            "rr.shape, min(rr),max(rr): (6745,), 160,264\n",
            "cc.shape, min(cc),max(cc): (6745,), 474,584\n",
            "After fixing the dirt mask, new values:\n",
            "rr.shape, min(rr),max(rr): (6745,), 160,264\n",
            "cc.shape, min(cc),max(cc): (6745,), 474,584\n"
          ]
        },
        {
          "output_type": "stream",
          "name": "stderr",
          "text": [
            "/usr/local/lib/python3.7/dist-packages/ipykernel_launcher.py:129: DeprecationWarning: `np.bool` is a deprecated alias for the builtin `bool`. To silence this warning, use `bool` by itself. Doing this will not modify any behavior and is safe. If you specifically wanted the numpy scalar type, use `np.bool_` here.\n",
            "Deprecated in NumPy 1.20; for more details and guidance: https://numpy.org/devdocs/release/1.20.0-notes.html#deprecations\n",
            "/usr/local/lib/python3.7/dist-packages/skimage/transform/_warps.py:830: FutureWarning: Input image dtype is bool. Interpolation is not defined with bool data type. Please set order to 0 or explicitely cast input image to another data type. Starting from version 0.19 a ValueError will be raised instead of this warning.\n",
            "  order = _validate_interpolation_order(image.dtype, order)\n"
          ]
        },
        {
          "output_type": "stream",
          "name": "stdout",
          "text": [
            "mask.shape, min(mask),max(mask): (1365, 2048, 1), 0,0\n",
            "rr.shape, min(rr),max(rr): (283761,), 469,1125\n",
            "cc.shape, min(cc),max(cc): (283761,), 777,1322\n",
            "After fixing the dirt mask, new values:\n",
            "rr.shape, min(rr),max(rr): (283761,), 469,1125\n",
            "cc.shape, min(cc),max(cc): (283761,), 777,1322\n"
          ]
        },
        {
          "output_type": "stream",
          "name": "stderr",
          "text": [
            "/usr/local/lib/python3.7/dist-packages/ipykernel_launcher.py:129: DeprecationWarning: `np.bool` is a deprecated alias for the builtin `bool`. To silence this warning, use `bool` by itself. Doing this will not modify any behavior and is safe. If you specifically wanted the numpy scalar type, use `np.bool_` here.\n",
            "Deprecated in NumPy 1.20; for more details and guidance: https://numpy.org/devdocs/release/1.20.0-notes.html#deprecations\n"
          ]
        },
        {
          "output_type": "stream",
          "name": "stdout",
          "text": [
            "mask.shape, min(mask),max(mask): (550, 550, 1), 0,0\n",
            "rr.shape, min(rr),max(rr): (41666,), 169,425\n",
            "cc.shape, min(cc),max(cc): (41666,), 315,524\n",
            "After fixing the dirt mask, new values:\n",
            "rr.shape, min(rr),max(rr): (41666,), 169,425\n",
            "cc.shape, min(cc),max(cc): (41666,), 315,524\n"
          ]
        },
        {
          "output_type": "stream",
          "name": "stderr",
          "text": [
            "/usr/local/lib/python3.7/dist-packages/ipykernel_launcher.py:129: DeprecationWarning: `np.bool` is a deprecated alias for the builtin `bool`. To silence this warning, use `bool` by itself. Doing this will not modify any behavior and is safe. If you specifically wanted the numpy scalar type, use `np.bool_` here.\n",
            "Deprecated in NumPy 1.20; for more details and guidance: https://numpy.org/devdocs/release/1.20.0-notes.html#deprecations\n",
            "/usr/local/lib/python3.7/dist-packages/skimage/transform/_warps.py:830: FutureWarning: Input image dtype is bool. Interpolation is not defined with bool data type. Please set order to 0 or explicitely cast input image to another data type. Starting from version 0.19 a ValueError will be raised instead of this warning.\n",
            "  order = _validate_interpolation_order(image.dtype, order)\n",
            "/usr/local/lib/python3.7/dist-packages/skimage/transform/_warps.py:830: FutureWarning: Input image dtype is bool. Interpolation is not defined with bool data type. Please set order to 0 or explicitely cast input image to another data type. Starting from version 0.19 a ValueError will be raised instead of this warning.\n",
            "  order = _validate_interpolation_order(image.dtype, order)\n"
          ]
        },
        {
          "output_type": "stream",
          "name": "stdout",
          "text": [
            "mask.shape, min(mask),max(mask): (498, 500, 1), 0,0\n",
            "mask.shape, min(mask),max(mask): (700, 700, 2), 0,0\n",
            "rr.shape, min(rr),max(rr): (32757,), 99,326\n",
            "rr.shape, min(rr),max(rr): (43241,), 1,257\n",
            "cc.shape, min(cc),max(cc): (32757,), 33,247\n",
            "cc.shape, min(cc),max(cc): (43241,), 234,494\n",
            "After fixing the dirt mask, new values:\n",
            "rr.shape, min(rr),max(rr): (32757,), 99,326\n",
            "After fixing the dirt mask, new values:\n",
            "rr.shape, min(rr),max(rr): (43241,), 1,257\n",
            "cc.shape, min(cc),max(cc): (32757,), 33,247\n",
            "cc.shape, min(cc),max(cc): (43241,), 234,494\n"
          ]
        },
        {
          "output_type": "stream",
          "name": "stderr",
          "text": [
            "/usr/local/lib/python3.7/dist-packages/ipykernel_launcher.py:129: DeprecationWarning: `np.bool` is a deprecated alias for the builtin `bool`. To silence this warning, use `bool` by itself. Doing this will not modify any behavior and is safe. If you specifically wanted the numpy scalar type, use `np.bool_` here.\n",
            "Deprecated in NumPy 1.20; for more details and guidance: https://numpy.org/devdocs/release/1.20.0-notes.html#deprecations\n"
          ]
        },
        {
          "output_type": "stream",
          "name": "stdout",
          "text": [
            "mask.shape, min(mask),max(mask): (700, 700, 2), 0,1\n",
            "rr.shape, min(rr),max(rr): (46237,), 460,699\n",
            "cc.shape, min(cc),max(cc): (46237,), 410,657\n",
            "After fixing the dirt mask, new values:\n",
            "rr.shape, min(rr),max(rr): (46237,), 460,699\n",
            "cc.shape, min(cc),max(cc): (46237,), 410,657\n"
          ]
        },
        {
          "output_type": "stream",
          "name": "stderr",
          "text": [
            "/usr/local/lib/python3.7/dist-packages/ipykernel_launcher.py:129: DeprecationWarning: `np.bool` is a deprecated alias for the builtin `bool`. To silence this warning, use `bool` by itself. Doing this will not modify any behavior and is safe. If you specifically wanted the numpy scalar type, use `np.bool_` here.\n",
            "Deprecated in NumPy 1.20; for more details and guidance: https://numpy.org/devdocs/release/1.20.0-notes.html#deprecations\n",
            "/usr/local/lib/python3.7/dist-packages/skimage/transform/_warps.py:830: FutureWarning: Input image dtype is bool. Interpolation is not defined with bool data type. Please set order to 0 or explicitely cast input image to another data type. Starting from version 0.19 a ValueError will be raised instead of this warning.\n",
            "  order = _validate_interpolation_order(image.dtype, order)\n",
            "/usr/local/lib/python3.7/dist-packages/skimage/transform/_warps.py:830: FutureWarning: Input image dtype is bool. Interpolation is not defined with bool data type. Please set order to 0 or explicitely cast input image to another data type. Starting from version 0.19 a ValueError will be raised instead of this warning.\n",
            "  order = _validate_interpolation_order(image.dtype, order)\n"
          ]
        },
        {
          "output_type": "stream",
          "name": "stdout",
          "text": [
            "mask.shape, min(mask),max(mask): (1117, 1900, 1), 0,0\n",
            "rr.shape, min(rr),max(rr): (124787,), 314,700\n",
            "cc.shape, min(cc),max(cc): (124787,), 689,1125\n",
            "After fixing the dirt mask, new values:\n",
            "rr.shape, min(rr),max(rr): (124787,), 314,700\n",
            "cc.shape, min(cc),max(cc): (124787,), 689,1125\n"
          ]
        },
        {
          "output_type": "stream",
          "name": "stderr",
          "text": [
            "/usr/local/lib/python3.7/dist-packages/ipykernel_launcher.py:129: DeprecationWarning: `np.bool` is a deprecated alias for the builtin `bool`. To silence this warning, use `bool` by itself. Doing this will not modify any behavior and is safe. If you specifically wanted the numpy scalar type, use `np.bool_` here.\n",
            "Deprecated in NumPy 1.20; for more details and guidance: https://numpy.org/devdocs/release/1.20.0-notes.html#deprecations\n",
            "/usr/local/lib/python3.7/dist-packages/skimage/transform/_warps.py:830: FutureWarning: Input image dtype is bool. Interpolation is not defined with bool data type. Please set order to 0 or explicitely cast input image to another data type. Starting from version 0.19 a ValueError will be raised instead of this warning.\n",
            "  order = _validate_interpolation_order(image.dtype, order)\n"
          ]
        },
        {
          "output_type": "stream",
          "name": "stdout",
          "text": [
            "mask.shape, min(mask),max(mask): (1000, 1500, 1), 0,0\n",
            "rr.shape, min(rr),max(rr): (261242,), 439,1000\n",
            "cc.shape, min(cc),max(cc): (261242,), 564,1294\n",
            "After fixing the dirt mask, new values:\n",
            "rr.shape, min(rr),max(rr): (261242,), 439,999\n",
            "cc.shape, min(cc),max(cc): (261242,), 564,1294\n"
          ]
        },
        {
          "output_type": "stream",
          "name": "stderr",
          "text": [
            "/usr/local/lib/python3.7/dist-packages/ipykernel_launcher.py:129: DeprecationWarning: `np.bool` is a deprecated alias for the builtin `bool`. To silence this warning, use `bool` by itself. Doing this will not modify any behavior and is safe. If you specifically wanted the numpy scalar type, use `np.bool_` here.\n",
            "Deprecated in NumPy 1.20; for more details and guidance: https://numpy.org/devdocs/release/1.20.0-notes.html#deprecations\n",
            "/usr/local/lib/python3.7/dist-packages/skimage/transform/_warps.py:830: FutureWarning: Input image dtype is bool. Interpolation is not defined with bool data type. Please set order to 0 or explicitely cast input image to another data type. Starting from version 0.19 a ValueError will be raised instead of this warning.\n",
            "  order = _validate_interpolation_order(image.dtype, order)\n"
          ]
        },
        {
          "output_type": "stream",
          "name": "stdout",
          "text": [
            "mask.shape, min(mask),max(mask): (640, 640, 7), 0,0\n",
            "rr.shape, min(rr),max(rr): (38248,), 112,321\n",
            "cc.shape, min(cc),max(cc): (38248,), 13,232\n",
            "After fixing the dirt mask, new values:\n",
            "rr.shape, min(rr),max(rr): (38248,), 112,321\n",
            "cc.shape, min(cc),max(cc): (38248,), 13,232\n",
            "mask.shape, min(mask),max(mask): (1196, 858, 1), 0,0\n",
            "mask.shape, min(mask),max(mask): (640, 640, 7), 0,1\n",
            "rr.shape, min(rr),max(rr): (319855,), 261,926\n",
            "cc.shape, min(cc),max(cc): (319855,), 140,855\n",
            "rr.shape, min(rr),max(rr): (36357,), 89,312\n",
            "After fixing the dirt mask, new values:\n",
            "cc.shape, min(cc),max(cc): (36357,), 228,426\n",
            "rr.shape, min(rr),max(rr): (319855,), 261,926\n",
            "cc.shape, min(cc),max(cc): (319855,), 140,855\n",
            "After fixing the dirt mask, new values:\n"
          ]
        },
        {
          "output_type": "stream",
          "name": "stderr",
          "text": [
            "/usr/local/lib/python3.7/dist-packages/ipykernel_launcher.py:129: DeprecationWarning: `np.bool` is a deprecated alias for the builtin `bool`. To silence this warning, use `bool` by itself. Doing this will not modify any behavior and is safe. If you specifically wanted the numpy scalar type, use `np.bool_` here.\n",
            "Deprecated in NumPy 1.20; for more details and guidance: https://numpy.org/devdocs/release/1.20.0-notes.html#deprecations\n"
          ]
        },
        {
          "output_type": "stream",
          "name": "stdout",
          "text": [
            "rr.shape, min(rr),max(rr): (36357,), 89,312\n",
            "cc.shape, min(cc),max(cc): (36357,), 228,426\n",
            "mask.shape, min(mask),max(mask): (640, 640, 7), 0,1\n",
            "rr.shape, min(rr),max(rr): (30194,), 79,302\n",
            "cc.shape, min(cc),max(cc): (30194,), 416,588\n",
            "After fixing the dirt mask, new values:\n",
            "rr.shape, min(rr),max(rr): (30194,), 79,302\n",
            "cc.shape, min(cc),max(cc): (30194,), 416,588\n",
            "mask.shape, min(mask),max(mask): (640, 640, 7), 0,1\n",
            "rr.shape, min(rr),max(rr): (32843,), 311,519\n",
            "cc.shape, min(cc),max(cc): (32843,), 0,178\n",
            "After fixing the dirt mask, new values:\n",
            "rr.shape, min(rr),max(rr): (32843,), 311,519\n",
            "cc.shape, min(cc),max(cc): (32843,), 0,178\n"
          ]
        },
        {
          "output_type": "stream",
          "name": "stderr",
          "text": [
            "/usr/local/lib/python3.7/dist-packages/skimage/transform/_warps.py:830: FutureWarning: Input image dtype is bool. Interpolation is not defined with bool data type. Please set order to 0 or explicitely cast input image to another data type. Starting from version 0.19 a ValueError will be raised instead of this warning.\n",
            "  order = _validate_interpolation_order(image.dtype, order)\n"
          ]
        },
        {
          "output_type": "stream",
          "name": "stdout",
          "text": [
            "mask.shape, min(mask),max(mask): (640, 640, 7), 0,1\n",
            "rr.shape, min(rr),max(rr): (36678,), 296,514\n",
            "cc.shape, min(cc),max(cc): (36678,), 168,370\n",
            "After fixing the dirt mask, new values:\n",
            "rr.shape, min(rr),max(rr): (36678,), 296,514\n",
            "cc.shape, min(cc),max(cc): (36678,), 168,370\n",
            "mask.shape, min(mask),max(mask): (498, 500, 1), 0,0\n",
            "rr.shape, min(rr),max(rr): (32757,), 99,326\n",
            "cc.shape, min(cc),max(cc): (32757,), 33,247\n",
            "After fixing the dirt mask, new values:\n",
            "rr.shape, min(rr),max(rr): (32757,), 99,326\n",
            "cc.shape, min(cc),max(cc): (32757,), 33,247\n"
          ]
        },
        {
          "output_type": "stream",
          "name": "stderr",
          "text": [
            "/usr/local/lib/python3.7/dist-packages/ipykernel_launcher.py:129: DeprecationWarning: `np.bool` is a deprecated alias for the builtin `bool`. To silence this warning, use `bool` by itself. Doing this will not modify any behavior and is safe. If you specifically wanted the numpy scalar type, use `np.bool_` here.\n",
            "Deprecated in NumPy 1.20; for more details and guidance: https://numpy.org/devdocs/release/1.20.0-notes.html#deprecations\n"
          ]
        },
        {
          "output_type": "stream",
          "name": "stdout",
          "text": [
            "mask.shape, min(mask),max(mask): (640, 640, 7), 0,1\n",
            "rr.shape, min(rr),max(rr): (31403,), 308,512\n",
            "cc.shape, min(cc),max(cc): (31403,), 365,557\n",
            "After fixing the dirt mask, new values:\n",
            "rr.shape, min(rr),max(rr): (31403,), 308,512\n",
            "cc.shape, min(cc),max(cc): (31403,), 365,557\n",
            "mask.shape, min(mask),max(mask): (640, 640, 7), 0,1\n",
            "rr.shape, min(rr),max(rr): (18125,), 264,472\n",
            "cc.shape, min(cc),max(cc): (18125,), 522,639\n",
            "After fixing the dirt mask, new values:\n",
            "rr.shape, min(rr),max(rr): (18125,), 264,472\n",
            "cc.shape, min(cc),max(cc): (18125,), 522,639\n"
          ]
        },
        {
          "output_type": "stream",
          "name": "stderr",
          "text": [
            "/usr/local/lib/python3.7/dist-packages/ipykernel_launcher.py:129: DeprecationWarning: `np.bool` is a deprecated alias for the builtin `bool`. To silence this warning, use `bool` by itself. Doing this will not modify any behavior and is safe. If you specifically wanted the numpy scalar type, use `np.bool_` here.\n",
            "Deprecated in NumPy 1.20; for more details and guidance: https://numpy.org/devdocs/release/1.20.0-notes.html#deprecations\n",
            "/usr/local/lib/python3.7/dist-packages/skimage/transform/_warps.py:830: FutureWarning: Input image dtype is bool. Interpolation is not defined with bool data type. Please set order to 0 or explicitely cast input image to another data type. Starting from version 0.19 a ValueError will be raised instead of this warning.\n",
            "  order = _validate_interpolation_order(image.dtype, order)\n"
          ]
        },
        {
          "output_type": "stream",
          "name": "stdout",
          "text": [
            "mask.shape, min(mask),max(mask): (500, 500, 1), 0,0\n",
            "rr.shape, min(rr),max(rr): (38525,), 165,385\n",
            "cc.shape, min(cc),max(cc): (38525,), 0,243\n",
            "After fixing the dirt mask, new values:\n",
            "rr.shape, min(rr),max(rr): (38525,), 165,385\n",
            "cc.shape, min(cc),max(cc): (38525,), 0,243\n"
          ]
        },
        {
          "output_type": "stream",
          "name": "stderr",
          "text": [
            "/usr/local/lib/python3.7/dist-packages/ipykernel_launcher.py:129: DeprecationWarning: `np.bool` is a deprecated alias for the builtin `bool`. To silence this warning, use `bool` by itself. Doing this will not modify any behavior and is safe. If you specifically wanted the numpy scalar type, use `np.bool_` here.\n",
            "Deprecated in NumPy 1.20; for more details and guidance: https://numpy.org/devdocs/release/1.20.0-notes.html#deprecations\n",
            "/usr/local/lib/python3.7/dist-packages/skimage/transform/_warps.py:830: FutureWarning: Input image dtype is bool. Interpolation is not defined with bool data type. Please set order to 0 or explicitely cast input image to another data type. Starting from version 0.19 a ValueError will be raised instead of this warning.\n",
            "  order = _validate_interpolation_order(image.dtype, order)\n",
            "/usr/local/lib/python3.7/dist-packages/skimage/transform/_warps.py:830: FutureWarning: Input image dtype is bool. Interpolation is not defined with bool data type. Please set order to 0 or explicitely cast input image to another data type. Starting from version 0.19 a ValueError will be raised instead of this warning.\n",
            "  order = _validate_interpolation_order(image.dtype, order)\n"
          ]
        },
        {
          "output_type": "stream",
          "name": "stdout",
          "text": [
            "mask.shape, min(mask),max(mask): (519, 519, 1), 0,0\n",
            "rr.shape, min(rr),max(rr): (45588,), 147,415\n",
            "cc.shape, min(cc),max(cc): (45588,), 247,472\n",
            "After fixing the dirt mask, new values:\n",
            "rr.shape, min(rr),max(rr): (45588,), 147,415\n",
            "cc.shape, min(cc),max(cc): (45588,), 247,472\n"
          ]
        },
        {
          "output_type": "stream",
          "name": "stderr",
          "text": [
            "/usr/local/lib/python3.7/dist-packages/ipykernel_launcher.py:129: DeprecationWarning: `np.bool` is a deprecated alias for the builtin `bool`. To silence this warning, use `bool` by itself. Doing this will not modify any behavior and is safe. If you specifically wanted the numpy scalar type, use `np.bool_` here.\n",
            "Deprecated in NumPy 1.20; for more details and guidance: https://numpy.org/devdocs/release/1.20.0-notes.html#deprecations\n",
            "/usr/local/lib/python3.7/dist-packages/skimage/transform/_warps.py:830: FutureWarning: Input image dtype is bool. Interpolation is not defined with bool data type. Please set order to 0 or explicitely cast input image to another data type. Starting from version 0.19 a ValueError will be raised instead of this warning.\n",
            "  order = _validate_interpolation_order(image.dtype, order)\n"
          ]
        },
        {
          "output_type": "stream",
          "name": "stdout",
          "text": [
            "mask.shape, min(mask),max(mask): (1382, 2048, 3), 0,0\n",
            "rr.shape, min(rr),max(rr): (255266,), 199,735\n",
            "cc.shape, min(cc),max(cc): (255266,), 726,1306\n",
            "After fixing the dirt mask, new values:\n",
            "rr.shape, min(rr),max(rr): (255266,), 199,735\n",
            "cc.shape, min(cc),max(cc): (255266,), 726,1306\n",
            "mask.shape, min(mask),max(mask): (1382, 2048, 3), 0,0\n",
            "mask.shape, min(mask),max(mask): (1382, 2048, 3), 0,1\n",
            "rr.shape, min(rr),max(rr): (255266,), 199,735\n",
            "rr.shape, min(rr),max(rr): (170340,), 729,1167\n",
            "cc.shape, min(cc),max(cc): (170340,), 822,1287\n",
            "cc.shape, min(cc),max(cc): (255266,), 726,1306\n",
            "After fixing the dirt mask, new values:\n",
            "rr.shape, min(rr),max(rr): (170340,), 729,1167\n",
            "cc.shape, min(cc),max(cc): (170340,), 822,1287\n",
            "After fixing the dirt mask, new values:\n",
            "rr.shape, min(rr),max(rr): (255266,), 199,735\n",
            "cc.shape, min(cc),max(cc): (255266,), 726,1306\n",
            "mask.shape, min(mask),max(mask): (1382, 2048, 3), 0,1\n",
            "rr.shape, min(rr),max(rr): (122348,), 1111,1381\n",
            "cc.shape, min(cc),max(cc): (122348,), 755,1325\n",
            "After fixing the dirt mask, new values:\n",
            "rr.shape, min(rr),max(rr): (122348,), 1111,1381\n",
            "cc.shape, min(cc),max(cc): (122348,), 755,1325\n"
          ]
        },
        {
          "output_type": "stream",
          "name": "stderr",
          "text": [
            "/usr/local/lib/python3.7/dist-packages/ipykernel_launcher.py:129: DeprecationWarning: `np.bool` is a deprecated alias for the builtin `bool`. To silence this warning, use `bool` by itself. Doing this will not modify any behavior and is safe. If you specifically wanted the numpy scalar type, use `np.bool_` here.\n",
            "Deprecated in NumPy 1.20; for more details and guidance: https://numpy.org/devdocs/release/1.20.0-notes.html#deprecations\n"
          ]
        },
        {
          "output_type": "stream",
          "name": "stdout",
          "text": [
            "mask.shape, min(mask),max(mask): (1382, 2048, 3), 0,1\n",
            "rr.shape, min(rr),max(rr): (170340,), 729,1167\n",
            "cc.shape, min(cc),max(cc): (170340,), 822,1287\n",
            "After fixing the dirt mask, new values:\n",
            "rr.shape, min(rr),max(rr): (170340,), 729,1167\n",
            "cc.shape, min(cc),max(cc): (170340,), 822,1287\n",
            "mask.shape, min(mask),max(mask): (1382, 2048, 3), 0,1\n"
          ]
        },
        {
          "output_type": "stream",
          "name": "stderr",
          "text": [
            "/usr/local/lib/python3.7/dist-packages/skimage/transform/_warps.py:830: FutureWarning: Input image dtype is bool. Interpolation is not defined with bool data type. Please set order to 0 or explicitely cast input image to another data type. Starting from version 0.19 a ValueError will be raised instead of this warning.\n",
            "  order = _validate_interpolation_order(image.dtype, order)\n"
          ]
        },
        {
          "output_type": "stream",
          "name": "stdout",
          "text": [
            "rr.shape, min(rr),max(rr): (122348,), 1111,1381\n",
            "cc.shape, min(cc),max(cc): (122348,), 755,1325\n",
            "After fixing the dirt mask, new values:\n",
            "rr.shape, min(rr),max(rr): (122348,), 1111,1381\n",
            "cc.shape, min(cc),max(cc): (122348,), 755,1325\n"
          ]
        },
        {
          "output_type": "stream",
          "name": "stderr",
          "text": [
            "/usr/local/lib/python3.7/dist-packages/ipykernel_launcher.py:129: DeprecationWarning: `np.bool` is a deprecated alias for the builtin `bool`. To silence this warning, use `bool` by itself. Doing this will not modify any behavior and is safe. If you specifically wanted the numpy scalar type, use `np.bool_` here.\n",
            "Deprecated in NumPy 1.20; for more details and guidance: https://numpy.org/devdocs/release/1.20.0-notes.html#deprecations\n",
            "/usr/local/lib/python3.7/dist-packages/skimage/transform/_warps.py:830: FutureWarning: Input image dtype is bool. Interpolation is not defined with bool data type. Please set order to 0 or explicitely cast input image to another data type. Starting from version 0.19 a ValueError will be raised instead of this warning.\n",
            "  order = _validate_interpolation_order(image.dtype, order)\n"
          ]
        },
        {
          "output_type": "stream",
          "name": "stdout",
          "text": [
            "mask.shape, min(mask),max(mask): (1200, 800, 1), 0,0\n",
            "rr.shape, min(rr),max(rr): (215719,), 494,1045\n",
            "cc.shape, min(cc),max(cc): (215719,), 64,588\n",
            "After fixing the dirt mask, new values:\n",
            "rr.shape, min(rr),max(rr): (215719,), 494,1045\n",
            "cc.shape, min(cc),max(cc): (215719,), 64,588\n"
          ]
        },
        {
          "output_type": "stream",
          "name": "stderr",
          "text": [
            "/usr/local/lib/python3.7/dist-packages/ipykernel_launcher.py:129: DeprecationWarning: `np.bool` is a deprecated alias for the builtin `bool`. To silence this warning, use `bool` by itself. Doing this will not modify any behavior and is safe. If you specifically wanted the numpy scalar type, use `np.bool_` here.\n",
            "Deprecated in NumPy 1.20; for more details and guidance: https://numpy.org/devdocs/release/1.20.0-notes.html#deprecations\n",
            "/usr/local/lib/python3.7/dist-packages/skimage/transform/_warps.py:830: FutureWarning: Input image dtype is bool. Interpolation is not defined with bool data type. Please set order to 0 or explicitely cast input image to another data type. Starting from version 0.19 a ValueError will be raised instead of this warning.\n",
            "  order = _validate_interpolation_order(image.dtype, order)\n"
          ]
        },
        {
          "output_type": "stream",
          "name": "stdout",
          "text": [
            "mask.shape, min(mask),max(mask): (681, 1024, 1), 0,0\n",
            "rr.shape, min(rr),max(rr): (236138,), 65,648\n",
            "cc.shape, min(cc),max(cc): (236138,), 0,577\n",
            "After fixing the dirt mask, new values:\n",
            "rr.shape, min(rr),max(rr): (236138,), 65,648\n",
            "cc.shape, min(cc),max(cc): (236138,), 0,577\n"
          ]
        },
        {
          "output_type": "stream",
          "name": "stderr",
          "text": [
            "/usr/local/lib/python3.7/dist-packages/ipykernel_launcher.py:129: DeprecationWarning: `np.bool` is a deprecated alias for the builtin `bool`. To silence this warning, use `bool` by itself. Doing this will not modify any behavior and is safe. If you specifically wanted the numpy scalar type, use `np.bool_` here.\n",
            "Deprecated in NumPy 1.20; for more details and guidance: https://numpy.org/devdocs/release/1.20.0-notes.html#deprecations\n",
            "/usr/local/lib/python3.7/dist-packages/skimage/transform/_warps.py:830: FutureWarning: Input image dtype is bool. Interpolation is not defined with bool data type. Please set order to 0 or explicitely cast input image to another data type. Starting from version 0.19 a ValueError will be raised instead of this warning.\n",
            "  order = _validate_interpolation_order(image.dtype, order)\n"
          ]
        },
        {
          "output_type": "stream",
          "name": "stdout",
          "text": [
            "mask.shape, min(mask),max(mask): (1365, 2048, 1), 0,0\n",
            "rr.shape, min(rr),max(rr): (268754,), 212,819\n",
            "cc.shape, min(cc),max(cc): (268754,), 375,1001\n",
            "After fixing the dirt mask, new values:\n",
            "rr.shape, min(rr),max(rr): (268754,), 212,819\n",
            "cc.shape, min(cc),max(cc): (268754,), 375,1001\n"
          ]
        },
        {
          "output_type": "stream",
          "name": "stderr",
          "text": [
            "/usr/local/lib/python3.7/dist-packages/ipykernel_launcher.py:129: DeprecationWarning: `np.bool` is a deprecated alias for the builtin `bool`. To silence this warning, use `bool` by itself. Doing this will not modify any behavior and is safe. If you specifically wanted the numpy scalar type, use `np.bool_` here.\n",
            "Deprecated in NumPy 1.20; for more details and guidance: https://numpy.org/devdocs/release/1.20.0-notes.html#deprecations\n"
          ]
        },
        {
          "output_type": "stream",
          "name": "stdout",
          "text": [
            "mask.shape, min(mask),max(mask): (1365, 2047, 14), 0,0\n",
            "rr.shape, min(rr),max(rr): (37975,), 0,225\n",
            "cc.shape, min(cc),max(cc): (37975,), 0,227\n",
            "After fixing the dirt mask, new values:\n",
            "rr.shape, min(rr),max(rr): (37975,), 0,225\n",
            "cc.shape, min(cc),max(cc): (37975,), 0,227\n"
          ]
        },
        {
          "output_type": "stream",
          "name": "stderr",
          "text": [
            "/usr/local/lib/python3.7/dist-packages/skimage/transform/_warps.py:830: FutureWarning: Input image dtype is bool. Interpolation is not defined with bool data type. Please set order to 0 or explicitely cast input image to another data type. Starting from version 0.19 a ValueError will be raised instead of this warning.\n",
            "  order = _validate_interpolation_order(image.dtype, order)\n"
          ]
        },
        {
          "output_type": "stream",
          "name": "stdout",
          "text": [
            "mask.shape, min(mask),max(mask): (1365, 2047, 14), 0,1\n",
            "rr.shape, min(rr),max(rr): (38265,), 186,398\n",
            "cc.shape, min(cc),max(cc): (38265,), 79,309\n",
            "After fixing the dirt mask, new values:\n",
            "rr.shape, min(rr),max(rr): (38265,), 186,398\n",
            "cc.shape, min(cc),max(cc): (38265,), 79,309\n",
            "mask.shape, min(mask),max(mask): (1365, 2047, 14), 0,1\n",
            "rr.shape, min(rr),max(rr): (29337,), 371,535\n",
            "cc.shape, min(cc),max(cc): (29337,), 0,213\n",
            "mask.shape, min(mask),max(mask): (738, 1024, 1), 0,0\n",
            "rr.shape, min(rr),max(rr): (110846,), 327,729\n",
            "cc.shape, min(cc),max(cc): (110846,), 195,574\n",
            "After fixing the dirt mask, new values:\n",
            "After fixing the dirt mask, new values:\n",
            "rr.shape, min(rr),max(rr): (29337,), 371,535\n",
            "rr.shape, min(rr),max(rr): (110846,), 327,729\n",
            "cc.shape, min(cc),max(cc): (110846,), 195,574\n",
            "cc.shape, min(cc),max(cc): (29337,), 0,213\n"
          ]
        },
        {
          "output_type": "stream",
          "name": "stderr",
          "text": [
            "/usr/local/lib/python3.7/dist-packages/ipykernel_launcher.py:129: DeprecationWarning: `np.bool` is a deprecated alias for the builtin `bool`. To silence this warning, use `bool` by itself. Doing this will not modify any behavior and is safe. If you specifically wanted the numpy scalar type, use `np.bool_` here.\n",
            "Deprecated in NumPy 1.20; for more details and guidance: https://numpy.org/devdocs/release/1.20.0-notes.html#deprecations\n",
            "/usr/local/lib/python3.7/dist-packages/skimage/transform/_warps.py:830: FutureWarning: Input image dtype is bool. Interpolation is not defined with bool data type. Please set order to 0 or explicitely cast input image to another data type. Starting from version 0.19 a ValueError will be raised instead of this warning.\n",
            "  order = _validate_interpolation_order(image.dtype, order)\n"
          ]
        },
        {
          "output_type": "stream",
          "name": "stdout",
          "text": [
            "mask.shape, min(mask),max(mask): (450, 600, 1), 0,0\n",
            "rr.shape, min(rr),max(rr): (4863,), 215,289\n",
            "cc.shape, min(cc),max(cc): (4863,), 336,433\n",
            "After fixing the dirt mask, new values:\n",
            "rr.shape, min(rr),max(rr): (4863,), 215,289\n",
            "cc.shape, min(cc),max(cc): (4863,), 336,433\n",
            "mask.shape, min(mask),max(mask): (1365, 2047, 14), 0,1\n",
            "rr.shape, min(rr),max(rr): (33603,), 33,249\n",
            "cc.shape, min(cc),max(cc): (33603,), 218,454\n"
          ]
        },
        {
          "output_type": "stream",
          "name": "stderr",
          "text": [
            "/usr/local/lib/python3.7/dist-packages/ipykernel_launcher.py:129: DeprecationWarning: `np.bool` is a deprecated alias for the builtin `bool`. To silence this warning, use `bool` by itself. Doing this will not modify any behavior and is safe. If you specifically wanted the numpy scalar type, use `np.bool_` here.\n",
            "Deprecated in NumPy 1.20; for more details and guidance: https://numpy.org/devdocs/release/1.20.0-notes.html#deprecations\n"
          ]
        },
        {
          "output_type": "stream",
          "name": "stdout",
          "text": [
            "After fixing the dirt mask, new values:\n",
            "rr.shape, min(rr),max(rr): (33603,), 33,249\n",
            "cc.shape, min(cc),max(cc): (33603,), 218,454\n",
            "mask.shape, min(mask),max(mask): (1365, 2047, 14), 0,1\n",
            "rr.shape, min(rr),max(rr): (28751,), 377,542\n"
          ]
        },
        {
          "output_type": "stream",
          "name": "stderr",
          "text": [
            "/usr/local/lib/python3.7/dist-packages/skimage/transform/_warps.py:830: FutureWarning: Input image dtype is bool. Interpolation is not defined with bool data type. Please set order to 0 or explicitely cast input image to another data type. Starting from version 0.19 a ValueError will be raised instead of this warning.\n",
            "  order = _validate_interpolation_order(image.dtype, order)\n"
          ]
        },
        {
          "output_type": "stream",
          "name": "stdout",
          "text": [
            "cc.shape, min(cc),max(cc): (28751,), 192,409\n",
            "After fixing the dirt mask, new values:\n",
            "rr.shape, min(rr),max(rr): (28751,), 377,542\n",
            "cc.shape, min(cc),max(cc): (28751,), 192,409\n",
            "mask.shape, min(mask),max(mask): (323, 450, 1), 0,0\n",
            "rr.shape, min(rr),max(rr): (29971,), 8,201\n",
            "cc.shape, min(cc),max(cc): (29971,), 228,420\n",
            "After fixing the dirt mask, new values:\n",
            "rr.shape, min(rr),max(rr): (29971,), 8,201\n",
            "cc.shape, min(cc),max(cc): (29971,), 228,420\n"
          ]
        },
        {
          "output_type": "stream",
          "name": "stderr",
          "text": [
            "/usr/local/lib/python3.7/dist-packages/ipykernel_launcher.py:129: DeprecationWarning: `np.bool` is a deprecated alias for the builtin `bool`. To silence this warning, use `bool` by itself. Doing this will not modify any behavior and is safe. If you specifically wanted the numpy scalar type, use `np.bool_` here.\n",
            "Deprecated in NumPy 1.20; for more details and guidance: https://numpy.org/devdocs/release/1.20.0-notes.html#deprecations\n"
          ]
        },
        {
          "output_type": "stream",
          "name": "stdout",
          "text": [
            "mask.shape, min(mask),max(mask): (1365, 2047, 14), 0,1\n",
            "rr.shape, min(rr),max(rr): (35438,), 177,403\n",
            "cc.shape, min(cc),max(cc): (35438,), 286,504\n",
            "After fixing the dirt mask, new values:\n",
            "rr.shape, min(rr),max(rr): (35438,), 177,403\n",
            "cc.shape, min(cc),max(cc): (35438,), 286,504\n"
          ]
        },
        {
          "output_type": "stream",
          "name": "stderr",
          "text": [
            "/usr/local/lib/python3.7/dist-packages/skimage/transform/_warps.py:830: FutureWarning: Input image dtype is bool. Interpolation is not defined with bool data type. Please set order to 0 or explicitely cast input image to another data type. Starting from version 0.19 a ValueError will be raised instead of this warning.\n",
            "  order = _validate_interpolation_order(image.dtype, order)\n"
          ]
        },
        {
          "output_type": "stream",
          "name": "stdout",
          "text": [
            "mask.shape, min(mask),max(mask): (1365, 2047, 14), 0,1\n",
            "rr.shape, min(rr),max(rr): (37200,), 0,219\n",
            "cc.shape, min(cc),max(cc): (37200,), 436,681\n",
            "After fixing the dirt mask, new values:\n",
            "rr.shape, min(rr),max(rr): (37200,), 0,219\n",
            "cc.shape, min(cc),max(cc): (37200,), 436,681\n",
            "mask.shape, min(mask),max(mask): (1365, 2047, 14), 0,1\n",
            "rr.shape, min(rr),max(rr): (42911,), 175,409\n",
            "cc.shape, min(cc),max(cc): (42911,), 499,745\n",
            "After fixing the dirt mask, new values:\n",
            "rr.shape, min(rr),max(rr): (42911,), 175,409\n",
            "cc.shape, min(cc),max(cc): (42911,), 499,745\n",
            "mask.shape, min(mask),max(mask): (640, 572, 1), 0,0\n",
            "rr.shape, min(rr),max(rr): (223009,), 35,607\n",
            "cc.shape, min(cc),max(cc): (223009,), 35,537\n",
            "After fixing the dirt mask, new values:\n",
            "mask.shape, min(mask),max(mask): (1365, 2047, 14), 0,1\n",
            "rr.shape, min(rr),max(rr): (223009,), 35,607\n",
            "rr.shape, min(rr),max(rr): (33085,), 379,547\n",
            "cc.shape, min(cc),max(cc): (33085,), 386,629\n",
            "After fixing the dirt mask, new values:\n",
            "cc.shape, min(cc),max(cc): (223009,), 35,537\n"
          ]
        },
        {
          "output_type": "stream",
          "name": "stderr",
          "text": [
            "/usr/local/lib/python3.7/dist-packages/ipykernel_launcher.py:129: DeprecationWarning: `np.bool` is a deprecated alias for the builtin `bool`. To silence this warning, use `bool` by itself. Doing this will not modify any behavior and is safe. If you specifically wanted the numpy scalar type, use `np.bool_` here.\n",
            "Deprecated in NumPy 1.20; for more details and guidance: https://numpy.org/devdocs/release/1.20.0-notes.html#deprecations\n"
          ]
        },
        {
          "output_type": "stream",
          "name": "stdout",
          "text": [
            "rr.shape, min(rr),max(rr): (33085,), 379,547\n",
            "cc.shape, min(cc),max(cc): (33085,), 386,629\n"
          ]
        },
        {
          "output_type": "stream",
          "name": "stderr",
          "text": [
            "/usr/local/lib/python3.7/dist-packages/skimage/transform/_warps.py:830: FutureWarning: Input image dtype is bool. Interpolation is not defined with bool data type. Please set order to 0 or explicitely cast input image to another data type. Starting from version 0.19 a ValueError will be raised instead of this warning.\n",
            "  order = _validate_interpolation_order(image.dtype, order)\n"
          ]
        },
        {
          "output_type": "stream",
          "name": "stdout",
          "text": [
            "mask.shape, min(mask),max(mask): (1365, 2047, 14), 0,1\n",
            "rr.shape, min(rr),max(rr): (28656,), 46,224\n",
            "cc.shape, min(cc),max(cc): (28656,), 662,867\n",
            "After fixing the dirt mask, new values:\n",
            "rr.shape, min(rr),max(rr): (28656,), 46,224\n",
            "cc.shape, min(cc),max(cc): (28656,), 662,867\n",
            "mask.shape, min(mask),max(mask): (1365, 2047, 14), 0,1\n",
            "rr.shape, min(rr),max(rr): (32817,), 1,226\n",
            "cc.shape, min(cc),max(cc): (32817,), 863,1074\n",
            "After fixing the dirt mask, new values:\n",
            "rr.shape, min(rr),max(rr): (32817,), 1,226\n",
            "cc.shape, min(cc),max(cc): (32817,), 863,1074\n",
            "mask.shape, min(mask),max(mask): (742, 1200, 1), 0,0\n",
            "rr.shape, min(rr),max(rr): (30802,), 93,279\n",
            "cc.shape, min(cc),max(cc): (30802,), 730,970\n",
            "After fixing the dirt mask, new values:\n",
            "rr.shape, min(rr),max(rr): (30802,), 93,279\n",
            "cc.shape, min(cc),max(cc): (30802,), 730,970\n"
          ]
        },
        {
          "output_type": "stream",
          "name": "stderr",
          "text": [
            "/usr/local/lib/python3.7/dist-packages/ipykernel_launcher.py:129: DeprecationWarning: `np.bool` is a deprecated alias for the builtin `bool`. To silence this warning, use `bool` by itself. Doing this will not modify any behavior and is safe. If you specifically wanted the numpy scalar type, use `np.bool_` here.\n",
            "Deprecated in NumPy 1.20; for more details and guidance: https://numpy.org/devdocs/release/1.20.0-notes.html#deprecations\n"
          ]
        },
        {
          "output_type": "stream",
          "name": "stdout",
          "text": [
            "mask.shape, min(mask),max(mask): (1365, 2047, 14), 0,1\n",
            "rr.shape, min(rr),max(rr): (43264,), 184,438\n",
            "cc.shape, min(cc),max(cc): (43264,), 741,972\n"
          ]
        },
        {
          "output_type": "stream",
          "name": "stderr",
          "text": [
            "/usr/local/lib/python3.7/dist-packages/skimage/transform/_warps.py:830: FutureWarning: Input image dtype is bool. Interpolation is not defined with bool data type. Please set order to 0 or explicitely cast input image to another data type. Starting from version 0.19 a ValueError will be raised instead of this warning.\n",
            "  order = _validate_interpolation_order(image.dtype, order)\n"
          ]
        },
        {
          "output_type": "stream",
          "name": "stdout",
          "text": [
            "After fixing the dirt mask, new values:\n",
            "rr.shape, min(rr),max(rr): (43264,), 184,438\n",
            "cc.shape, min(cc),max(cc): (43264,), 741,972\n",
            "mask.shape, min(mask),max(mask): (1365, 2047, 14), 0,1\n",
            "rr.shape, min(rr),max(rr): (25755,), 395,552\n",
            "cc.shape, min(cc),max(cc): (25755,), 612,815\n",
            "After fixing the dirt mask, new values:\n",
            "rr.shape, min(rr),max(rr): (25755,), 395,552\n",
            "cc.shape, min(cc),max(cc): (25755,), 612,815\n",
            "mask.shape, min(mask),max(mask): (540, 960, 1), 0,0\n",
            "rr.shape, min(rr),max(rr): (83168,), 115,454\n",
            "cc.shape, min(cc),max(cc): (83168,), 306,657\n",
            "After fixing the dirt mask, new values:\n",
            "rr.shape, min(rr),max(rr): (83168,), 115,454\n",
            "cc.shape, min(cc),max(cc): (83168,), 306,657\n"
          ]
        },
        {
          "output_type": "stream",
          "name": "stderr",
          "text": [
            "/usr/local/lib/python3.7/dist-packages/ipykernel_launcher.py:129: DeprecationWarning: `np.bool` is a deprecated alias for the builtin `bool`. To silence this warning, use `bool` by itself. Doing this will not modify any behavior and is safe. If you specifically wanted the numpy scalar type, use `np.bool_` here.\n",
            "Deprecated in NumPy 1.20; for more details and guidance: https://numpy.org/devdocs/release/1.20.0-notes.html#deprecations\n"
          ]
        },
        {
          "output_type": "stream",
          "name": "stdout",
          "text": [
            "mask.shape, min(mask),max(mask): (1365, 2047, 14), 0,1\n",
            "rr.shape, min(rr),max(rr): (25388,), 402,555\n",
            "cc.shape, min(cc),max(cc): (25388,), 806,1003\n",
            "After fixing the dirt mask, new values:\n",
            "rr.shape, min(rr),max(rr): (25388,), 402,555\n",
            "cc.shape, min(cc),max(cc): (25388,), 806,1003\n"
          ]
        },
        {
          "output_type": "stream",
          "name": "stderr",
          "text": [
            "/usr/local/lib/python3.7/dist-packages/ipykernel_launcher.py:129: DeprecationWarning: `np.bool` is a deprecated alias for the builtin `bool`. To silence this warning, use `bool` by itself. Doing this will not modify any behavior and is safe. If you specifically wanted the numpy scalar type, use `np.bool_` here.\n",
            "Deprecated in NumPy 1.20; for more details and guidance: https://numpy.org/devdocs/release/1.20.0-notes.html#deprecations\n",
            "/usr/local/lib/python3.7/dist-packages/skimage/transform/_warps.py:830: FutureWarning: Input image dtype is bool. Interpolation is not defined with bool data type. Please set order to 0 or explicitely cast input image to another data type. Starting from version 0.19 a ValueError will be raised instead of this warning.\n",
            "  order = _validate_interpolation_order(image.dtype, order)\n"
          ]
        },
        {
          "output_type": "stream",
          "name": "stdout",
          "text": [
            "mask.shape, min(mask),max(mask): (280, 280, 2), 0,0\n",
            "rr.shape, min(rr),max(rr): (11829,), 93,226\n",
            "cc.shape, min(cc),max(cc): (11829,), 159,279\n",
            "After fixing the dirt mask, new values:\n",
            "rr.shape, min(rr),max(rr): (11829,), 93,226\n",
            "cc.shape, min(cc),max(cc): (11829,), 159,279\n",
            "mask.shape, min(mask),max(mask): (280, 280, 2), 0,1\n",
            "rr.shape, min(rr),max(rr): (7642,), 88,216\n",
            "cc.shape, min(cc),max(cc): (7642,), 0,78\n",
            "After fixing the dirt mask, new values:\n",
            "rr.shape, min(rr),max(rr): (7642,), 88,216\n",
            "cc.shape, min(cc),max(cc): (7642,), 0,78\n"
          ]
        },
        {
          "output_type": "stream",
          "name": "stderr",
          "text": [
            "/usr/local/lib/python3.7/dist-packages/ipykernel_launcher.py:129: DeprecationWarning: `np.bool` is a deprecated alias for the builtin `bool`. To silence this warning, use `bool` by itself. Doing this will not modify any behavior and is safe. If you specifically wanted the numpy scalar type, use `np.bool_` here.\n",
            "Deprecated in NumPy 1.20; for more details and guidance: https://numpy.org/devdocs/release/1.20.0-notes.html#deprecations\n",
            "/usr/local/lib/python3.7/dist-packages/skimage/transform/_warps.py:830: FutureWarning: Input image dtype is bool. Interpolation is not defined with bool data type. Please set order to 0 or explicitely cast input image to another data type. Starting from version 0.19 a ValueError will be raised instead of this warning.\n",
            "  order = _validate_interpolation_order(image.dtype, order)\n",
            "/usr/local/lib/python3.7/dist-packages/skimage/transform/_warps.py:830: FutureWarning: Input image dtype is bool. Interpolation is not defined with bool data type. Please set order to 0 or explicitely cast input image to another data type. Starting from version 0.19 a ValueError will be raised instead of this warning.\n",
            "  order = _validate_interpolation_order(image.dtype, order)\n"
          ]
        },
        {
          "output_type": "stream",
          "name": "stdout",
          "text": [
            "mask.shape, min(mask),max(mask): (335, 670, 1), 0,0\n",
            "rr.shape, min(rr),max(rr): (27770,), 0,247\n",
            "cc.shape, min(cc),max(cc): (27770,), 428,614\n",
            "After fixing the dirt mask, new values:\n",
            "rr.shape, min(rr),max(rr): (27770,), 0,247\n",
            "cc.shape, min(cc),max(cc): (27770,), 428,614\n"
          ]
        },
        {
          "output_type": "stream",
          "name": "stderr",
          "text": [
            "/usr/local/lib/python3.7/dist-packages/ipykernel_launcher.py:129: DeprecationWarning: `np.bool` is a deprecated alias for the builtin `bool`. To silence this warning, use `bool` by itself. Doing this will not modify any behavior and is safe. If you specifically wanted the numpy scalar type, use `np.bool_` here.\n",
            "Deprecated in NumPy 1.20; for more details and guidance: https://numpy.org/devdocs/release/1.20.0-notes.html#deprecations\n",
            "/usr/local/lib/python3.7/dist-packages/skimage/transform/_warps.py:830: FutureWarning: Input image dtype is bool. Interpolation is not defined with bool data type. Please set order to 0 or explicitely cast input image to another data type. Starting from version 0.19 a ValueError will be raised instead of this warning.\n",
            "  order = _validate_interpolation_order(image.dtype, order)\n"
          ]
        },
        {
          "output_type": "stream",
          "name": "stdout",
          "text": [
            "mask.shape, min(mask),max(mask): (554, 900, 1), 0,0\n",
            "rr.shape, min(rr),max(rr): (64330,), 99,453\n",
            "cc.shape, min(cc),max(cc): (64330,), 56,323\n",
            "After fixing the dirt mask, new values:\n",
            "rr.shape, min(rr),max(rr): (64330,), 99,453\n",
            "cc.shape, min(cc),max(cc): (64330,), 56,323\n"
          ]
        },
        {
          "output_type": "stream",
          "name": "stderr",
          "text": [
            "/usr/local/lib/python3.7/dist-packages/ipykernel_launcher.py:129: DeprecationWarning: `np.bool` is a deprecated alias for the builtin `bool`. To silence this warning, use `bool` by itself. Doing this will not modify any behavior and is safe. If you specifically wanted the numpy scalar type, use `np.bool_` here.\n",
            "Deprecated in NumPy 1.20; for more details and guidance: https://numpy.org/devdocs/release/1.20.0-notes.html#deprecations\n",
            "/usr/local/lib/python3.7/dist-packages/skimage/transform/_warps.py:830: FutureWarning: Input image dtype is bool. Interpolation is not defined with bool data type. Please set order to 0 or explicitely cast input image to another data type. Starting from version 0.19 a ValueError will be raised instead of this warning.\n",
            "  order = _validate_interpolation_order(image.dtype, order)\n"
          ]
        },
        {
          "output_type": "stream",
          "name": "stdout",
          "text": [
            "mask.shape, min(mask),max(mask): (541, 812, 4), 0,0\n",
            "rr.shape, min(rr),max(rr): (82349,), 67,387\n",
            "cc.shape, min(cc),max(cc): (82349,), 283,641\n",
            "After fixing the dirt mask, new values:\n",
            "rr.shape, min(rr),max(rr): (82349,), 67,387\n",
            "cc.shape, min(cc),max(cc): (82349,), 283,641\n",
            "mask.shape, min(mask),max(mask): (541, 812, 4), 0,1\n",
            "rr.shape, min(rr),max(rr): (86074,), 4,326\n",
            "cc.shape, min(cc),max(cc): (86074,), 0,401\n",
            "After fixing the dirt mask, new values:\n",
            "rr.shape, min(rr),max(rr): (86074,), 4,326\n",
            "cc.shape, min(cc),max(cc): (86074,), 0,401\n",
            "mask.shape, min(mask),max(mask): (541, 812, 4), 0,1\n",
            "rr.shape, min(rr),max(rr): (19352,), 1,134\n",
            "cc.shape, min(cc),max(cc): (19352,), 398,664\n",
            "After fixing the dirt mask, new values:\n",
            "rr.shape, min(rr),max(rr): (19352,), 1,134\n",
            "cc.shape, min(cc),max(cc): (19352,), 398,664\n",
            "mask.shape, min(mask),max(mask): (541, 812, 4), 0,1\n",
            "rr.shape, min(rr),max(rr): (8580,), 0,72\n",
            "cc.shape, min(cc),max(cc): (8580,), 140,417\n",
            "After fixing the dirt mask, new values:\n",
            "rr.shape, min(rr),max(rr): (8580,), 0,72\n",
            "cc.shape, min(cc),max(cc): (8580,), 140,417\n"
          ]
        },
        {
          "output_type": "stream",
          "name": "stderr",
          "text": [
            "/usr/local/lib/python3.7/dist-packages/ipykernel_launcher.py:129: DeprecationWarning: `np.bool` is a deprecated alias for the builtin `bool`. To silence this warning, use `bool` by itself. Doing this will not modify any behavior and is safe. If you specifically wanted the numpy scalar type, use `np.bool_` here.\n",
            "Deprecated in NumPy 1.20; for more details and guidance: https://numpy.org/devdocs/release/1.20.0-notes.html#deprecations\n"
          ]
        },
        {
          "output_type": "stream",
          "name": "stdout",
          "text": [
            "mask.shape, min(mask),max(mask): (606, 606, 2), 0,0\n",
            "rr.shape, min(rr),max(rr): (78497,), 34,425\n",
            "cc.shape, min(cc),max(cc): (78497,), 114,474\n",
            "After fixing the dirt mask, new values:\n",
            "rr.shape, min(rr),max(rr): (78497,), 34,425\n",
            "cc.shape, min(cc),max(cc): (78497,), 114,474\n",
            "mask.shape, min(mask),max(mask): (606, 606, 2), 0,1\n",
            "rr.shape, min(rr),max(rr): (22891,), 178,441\n",
            "cc.shape, min(cc),max(cc): (22891,), 1,147\n",
            "After fixing the dirt mask, new values:\n",
            "rr.shape, min(rr),max(rr): (22891,), 178,441\n",
            "cc.shape, min(cc),max(cc): (22891,), 1,147\n"
          ]
        },
        {
          "output_type": "stream",
          "name": "stderr",
          "text": [
            "/usr/local/lib/python3.7/dist-packages/ipykernel_launcher.py:129: DeprecationWarning: `np.bool` is a deprecated alias for the builtin `bool`. To silence this warning, use `bool` by itself. Doing this will not modify any behavior and is safe. If you specifically wanted the numpy scalar type, use `np.bool_` here.\n",
            "Deprecated in NumPy 1.20; for more details and guidance: https://numpy.org/devdocs/release/1.20.0-notes.html#deprecations\n",
            "/usr/local/lib/python3.7/dist-packages/skimage/transform/_warps.py:830: FutureWarning: Input image dtype is bool. Interpolation is not defined with bool data type. Please set order to 0 or explicitely cast input image to another data type. Starting from version 0.19 a ValueError will be raised instead of this warning.\n",
            "  order = _validate_interpolation_order(image.dtype, order)\n",
            "/usr/local/lib/python3.7/dist-packages/skimage/transform/_warps.py:830: FutureWarning: Input image dtype is bool. Interpolation is not defined with bool data type. Please set order to 0 or explicitely cast input image to another data type. Starting from version 0.19 a ValueError will be raised instead of this warning.\n",
            "  order = _validate_interpolation_order(image.dtype, order)\n"
          ]
        },
        {
          "output_type": "stream",
          "name": "stdout",
          "text": [
            "mask.shape, min(mask),max(mask): (720, 960, 1), 0,0\n",
            "rr.shape, min(rr),max(rr): (42613,), 13,247\n",
            "cc.shape, min(cc),max(cc): (42613,), 136,406\n",
            "After fixing the dirt mask, new values:\n",
            "rr.shape, min(rr),max(rr): (42613,), 13,247\n",
            "cc.shape, min(cc),max(cc): (42613,), 136,406\n"
          ]
        },
        {
          "output_type": "stream",
          "name": "stderr",
          "text": [
            "/usr/local/lib/python3.7/dist-packages/ipykernel_launcher.py:129: DeprecationWarning: `np.bool` is a deprecated alias for the builtin `bool`. To silence this warning, use `bool` by itself. Doing this will not modify any behavior and is safe. If you specifically wanted the numpy scalar type, use `np.bool_` here.\n",
            "Deprecated in NumPy 1.20; for more details and guidance: https://numpy.org/devdocs/release/1.20.0-notes.html#deprecations\n",
            "/usr/local/lib/python3.7/dist-packages/skimage/transform/_warps.py:830: FutureWarning: Input image dtype is bool. Interpolation is not defined with bool data type. Please set order to 0 or explicitely cast input image to another data type. Starting from version 0.19 a ValueError will be raised instead of this warning.\n",
            "  order = _validate_interpolation_order(image.dtype, order)\n"
          ]
        },
        {
          "output_type": "stream",
          "name": "stdout",
          "text": [
            "mask.shape, min(mask),max(mask): (323, 450, 1), 0,0\n",
            "rr.shape, min(rr),max(rr): (29971,), 8,201\n",
            "cc.shape, min(cc),max(cc): (29971,), 228,420\n",
            "After fixing the dirt mask, new values:\n",
            "rr.shape, min(rr),max(rr): (29971,), 8,201\n",
            "cc.shape, min(cc),max(cc): (29971,), 228,420\n"
          ]
        },
        {
          "output_type": "stream",
          "name": "stderr",
          "text": [
            "/usr/local/lib/python3.7/dist-packages/ipykernel_launcher.py:129: DeprecationWarning: `np.bool` is a deprecated alias for the builtin `bool`. To silence this warning, use `bool` by itself. Doing this will not modify any behavior and is safe. If you specifically wanted the numpy scalar type, use `np.bool_` here.\n",
            "Deprecated in NumPy 1.20; for more details and guidance: https://numpy.org/devdocs/release/1.20.0-notes.html#deprecations\n",
            "/usr/local/lib/python3.7/dist-packages/skimage/transform/_warps.py:830: FutureWarning: Input image dtype is bool. Interpolation is not defined with bool data type. Please set order to 0 or explicitely cast input image to another data type. Starting from version 0.19 a ValueError will be raised instead of this warning.\n",
            "  order = _validate_interpolation_order(image.dtype, order)\n"
          ]
        },
        {
          "output_type": "stream",
          "name": "stdout",
          "text": [
            "mask.shape, min(mask),max(mask): (1000, 1000, 1), 0,0\n",
            "rr.shape, min(rr),max(rr): (73133,), 391,703\n",
            "cc.shape, min(cc),max(cc): (73133,), 351,674\n",
            "After fixing the dirt mask, new values:\n",
            "rr.shape, min(rr),max(rr): (73133,), 391,703\n",
            "cc.shape, min(cc),max(cc): (73133,), 351,674\n"
          ]
        },
        {
          "output_type": "stream",
          "name": "stderr",
          "text": [
            "/usr/local/lib/python3.7/dist-packages/ipykernel_launcher.py:129: DeprecationWarning: `np.bool` is a deprecated alias for the builtin `bool`. To silence this warning, use `bool` by itself. Doing this will not modify any behavior and is safe. If you specifically wanted the numpy scalar type, use `np.bool_` here.\n",
            "Deprecated in NumPy 1.20; for more details and guidance: https://numpy.org/devdocs/release/1.20.0-notes.html#deprecations\n",
            "/usr/local/lib/python3.7/dist-packages/skimage/transform/_warps.py:830: FutureWarning: Input image dtype is bool. Interpolation is not defined with bool data type. Please set order to 0 or explicitely cast input image to another data type. Starting from version 0.19 a ValueError will be raised instead of this warning.\n",
            "  order = _validate_interpolation_order(image.dtype, order)\n"
          ]
        },
        {
          "output_type": "stream",
          "name": "stdout",
          "text": [
            "mask.shape, min(mask),max(mask): (1356, 2047, 1), 0,0\n",
            "rr.shape, min(rr),max(rr): (597074,), 240,1146\n",
            "cc.shape, min(cc),max(cc): (597074,), 1073,1970\n",
            "After fixing the dirt mask, new values:\n",
            "rr.shape, min(rr),max(rr): (597074,), 240,1146\n",
            "cc.shape, min(cc),max(cc): (597074,), 1073,1970\n"
          ]
        },
        {
          "output_type": "stream",
          "name": "stderr",
          "text": [
            "/usr/local/lib/python3.7/dist-packages/ipykernel_launcher.py:129: DeprecationWarning: `np.bool` is a deprecated alias for the builtin `bool`. To silence this warning, use `bool` by itself. Doing this will not modify any behavior and is safe. If you specifically wanted the numpy scalar type, use `np.bool_` here.\n",
            "Deprecated in NumPy 1.20; for more details and guidance: https://numpy.org/devdocs/release/1.20.0-notes.html#deprecations\n"
          ]
        },
        {
          "output_type": "stream",
          "name": "stdout",
          "text": [
            "mask.shape, min(mask),max(mask): (1080, 810, 4), 0,0\n",
            "rr.shape, min(rr),max(rr): (64917,), 138,415\n",
            "cc.shape, min(cc),max(cc): (64917,), 184,479\n",
            "After fixing the dirt mask, new values:\n",
            "rr.shape, min(rr),max(rr): (64917,), 138,415\n",
            "cc.shape, min(cc),max(cc): (64917,), 184,479\n",
            "mask.shape, min(mask),max(mask): (1080, 810, 4), 0,1\n",
            "rr.shape, min(rr),max(rr): (52268,), 353,646\n",
            "cc.shape, min(cc),max(cc): (52268,), 388,621\n",
            "After fixing the dirt mask, new values:\n",
            "rr.shape, min(rr),max(rr): (52268,), 353,646\n"
          ]
        },
        {
          "output_type": "stream",
          "name": "stderr",
          "text": [
            "/usr/local/lib/python3.7/dist-packages/skimage/transform/_warps.py:830: FutureWarning: Input image dtype is bool. Interpolation is not defined with bool data type. Please set order to 0 or explicitely cast input image to another data type. Starting from version 0.19 a ValueError will be raised instead of this warning.\n",
            "  order = _validate_interpolation_order(image.dtype, order)\n"
          ]
        },
        {
          "output_type": "stream",
          "name": "stdout",
          "text": [
            "cc.shape, min(cc),max(cc): (52268,), 388,621\n",
            "mask.shape, min(mask),max(mask): (1080, 810, 4), 0,1\n",
            "rr.shape, min(rr),max(rr): (46497,), 652,901\n",
            "cc.shape, min(cc),max(cc): (46497,), 384,635\n",
            "After fixing the dirt mask, new values:\n",
            "rr.shape, min(rr),max(rr): (46497,), 652,901\n",
            "cc.shape, min(cc),max(cc): (46497,), 384,635\n",
            "mask.shape, min(mask),max(mask): (480, 960, 1), 0,0\n",
            "rr.shape, min(rr),max(rr): (20977,), 87,221\n",
            "cc.shape, min(cc),max(cc): (20977,), 512,744\n",
            "After fixing the dirt mask, new values:\n",
            "rr.shape, min(rr),max(rr): (20977,), 87,221\n",
            "cc.shape, min(cc),max(cc): (20977,), 512,744\n"
          ]
        },
        {
          "output_type": "stream",
          "name": "stderr",
          "text": [
            "/usr/local/lib/python3.7/dist-packages/ipykernel_launcher.py:129: DeprecationWarning: `np.bool` is a deprecated alias for the builtin `bool`. To silence this warning, use `bool` by itself. Doing this will not modify any behavior and is safe. If you specifically wanted the numpy scalar type, use `np.bool_` here.\n",
            "Deprecated in NumPy 1.20; for more details and guidance: https://numpy.org/devdocs/release/1.20.0-notes.html#deprecations\n"
          ]
        },
        {
          "output_type": "stream",
          "name": "stdout",
          "text": [
            "mask.shape, min(mask),max(mask): (1080, 810, 4), 0,1\n",
            "rr.shape, min(rr),max(rr): (42167,), 395,645\n",
            "cc.shape, min(cc),max(cc): (42167,), 168,397\n",
            "After fixing the dirt mask, new values:\n",
            "rr.shape, min(rr),max(rr): (42167,), 395,645\n",
            "cc.shape, min(cc),max(cc): (42167,), 168,397\n"
          ]
        },
        {
          "output_type": "stream",
          "name": "stderr",
          "text": [
            "/usr/local/lib/python3.7/dist-packages/ipykernel_launcher.py:129: DeprecationWarning: `np.bool` is a deprecated alias for the builtin `bool`. To silence this warning, use `bool` by itself. Doing this will not modify any behavior and is safe. If you specifically wanted the numpy scalar type, use `np.bool_` here.\n",
            "Deprecated in NumPy 1.20; for more details and guidance: https://numpy.org/devdocs/release/1.20.0-notes.html#deprecations\n",
            "/usr/local/lib/python3.7/dist-packages/skimage/transform/_warps.py:830: FutureWarning: Input image dtype is bool. Interpolation is not defined with bool data type. Please set order to 0 or explicitely cast input image to another data type. Starting from version 0.19 a ValueError will be raised instead of this warning.\n",
            "  order = _validate_interpolation_order(image.dtype, order)\n"
          ]
        },
        {
          "output_type": "stream",
          "name": "stdout",
          "text": [
            "mask.shape, min(mask),max(mask): (454, 633, 6), 0,0\n",
            "rr.shape, min(rr),max(rr): (12942,), 123,246\n",
            "cc.shape, min(cc),max(cc): (12942,), 3,127\n",
            "After fixing the dirt mask, new values:\n",
            "rr.shape, min(rr),max(rr): (12942,), 123,246\n",
            "cc.shape, min(cc),max(cc): (12942,), 3,127\n",
            "mask.shape, min(mask),max(mask): (454, 633, 6), 0,1\n",
            "rr.shape, min(rr),max(rr): (11892,), 294,447\n",
            "cc.shape, min(cc),max(cc): (11892,), 174,297\n",
            "After fixing the dirt mask, new values:\n",
            "rr.shape, min(rr),max(rr): (11892,), 294,447\n",
            "cc.shape, min(cc),max(cc): (11892,), 174,297\n",
            "mask.shape, min(mask),max(mask): (454, 633, 6), 0,1\n",
            "rr.shape, min(rr),max(rr): (11238,), 329,453\n",
            "cc.shape, min(cc),max(cc): (11238,), 382,490\n",
            "After fixing the dirt mask, new values:\n"
          ]
        },
        {
          "output_type": "stream",
          "name": "stderr",
          "text": [
            "/usr/local/lib/python3.7/dist-packages/skimage/transform/_warps.py:830: FutureWarning: Input image dtype is bool. Interpolation is not defined with bool data type. Please set order to 0 or explicitely cast input image to another data type. Starting from version 0.19 a ValueError will be raised instead of this warning.\n",
            "  order = _validate_interpolation_order(image.dtype, order)\n"
          ]
        },
        {
          "output_type": "stream",
          "name": "stdout",
          "text": [
            "rr.shape, min(rr),max(rr): (11238,), 329,453\n",
            "cc.shape, min(cc),max(cc): (11238,), 382,490\n",
            "mask.shape, min(mask),max(mask): (454, 633, 6), 0,1\n",
            "rr.shape, min(rr),max(rr): (11314,), 210,345\n",
            "cc.shape, min(cc),max(cc): (11314,), 322,428\n",
            "After fixing the dirt mask, new values:\n",
            "rr.shape, min(rr),max(rr): (11314,), 210,345\n",
            "cc.shape, min(cc),max(cc): (11314,), 322,428\n",
            "mask.shape, min(mask),max(mask): (454, 633, 6), 0,1\n",
            "rr.shape, min(rr),max(rr): (12598,), 73,200\n",
            "cc.shape, min(cc),max(cc): (12598,), 382,501\n",
            "After fixing the dirt mask, new values:\n",
            "rr.shape, min(rr),max(rr): (12598,), 73,200\n",
            "cc.shape, min(cc),max(cc): (12598,), 382,501\n",
            "mask.shape, min(mask),max(mask): (454, 633, 6), 0,1\n",
            "rr.shape, min(rr),max(rr): (3942,), 328,430\n",
            "cc.shape, min(cc),max(cc): (3942,), 534,616\n",
            "After fixing the dirt mask, new values:\n",
            "rr.shape, min(rr),max(rr): (3942,), 328,430\n",
            "cc.shape, min(cc),max(cc): (3942,), 534,616\n"
          ]
        },
        {
          "output_type": "stream",
          "name": "stderr",
          "text": [
            "/usr/local/lib/python3.7/dist-packages/ipykernel_launcher.py:129: DeprecationWarning: `np.bool` is a deprecated alias for the builtin `bool`. To silence this warning, use `bool` by itself. Doing this will not modify any behavior and is safe. If you specifically wanted the numpy scalar type, use `np.bool_` here.\n",
            "Deprecated in NumPy 1.20; for more details and guidance: https://numpy.org/devdocs/release/1.20.0-notes.html#deprecations\n"
          ]
        },
        {
          "output_type": "stream",
          "name": "stdout",
          "text": [
            "mask.shape, min(mask),max(mask): (700, 700, 2), 0,0\n",
            "rr.shape, min(rr),max(rr): (43241,), 1,257\n",
            "cc.shape, min(cc),max(cc): (43241,), 234,494\n",
            "After fixing the dirt mask, new values:\n",
            "rr.shape, min(rr),max(rr): (43241,), 1,257\n",
            "cc.shape, min(cc),max(cc): (43241,), 234,494\n",
            "mask.shape, min(mask),max(mask): (700, 700, 2), 0,1\n",
            "rr.shape, min(rr),max(rr): (46237,), 460,699\n",
            "cc.shape, min(cc),max(cc): (46237,), 410,657\n",
            "After fixing the dirt mask, new values:\n",
            "rr.shape, min(rr),max(rr): (46237,), 460,699\n",
            "cc.shape, min(cc),max(cc): (46237,), 410,657\n"
          ]
        },
        {
          "output_type": "stream",
          "name": "stderr",
          "text": [
            "/usr/local/lib/python3.7/dist-packages/ipykernel_launcher.py:129: DeprecationWarning: `np.bool` is a deprecated alias for the builtin `bool`. To silence this warning, use `bool` by itself. Doing this will not modify any behavior and is safe. If you specifically wanted the numpy scalar type, use `np.bool_` here.\n",
            "Deprecated in NumPy 1.20; for more details and guidance: https://numpy.org/devdocs/release/1.20.0-notes.html#deprecations\n",
            "/usr/local/lib/python3.7/dist-packages/skimage/transform/_warps.py:830: FutureWarning: Input image dtype is bool. Interpolation is not defined with bool data type. Please set order to 0 or explicitely cast input image to another data type. Starting from version 0.19 a ValueError will be raised instead of this warning.\n",
            "  order = _validate_interpolation_order(image.dtype, order)\n",
            "/usr/local/lib/python3.7/dist-packages/skimage/transform/_warps.py:830: FutureWarning: Input image dtype is bool. Interpolation is not defined with bool data type. Please set order to 0 or explicitely cast input image to another data type. Starting from version 0.19 a ValueError will be raised instead of this warning.\n",
            "  order = _validate_interpolation_order(image.dtype, order)\n"
          ]
        },
        {
          "output_type": "stream",
          "name": "stdout",
          "text": [
            "mask.shape, min(mask),max(mask): (800, 600, 2), 0,0\n",
            "rr.shape, min(rr),max(rr): (85779,), 145,520\n",
            "cc.shape, min(cc),max(cc): (85779,), 183,488\n",
            "After fixing the dirt mask, new values:\n",
            "rr.shape, min(rr),max(rr): (85779,), 145,520\n",
            "cc.shape, min(cc),max(cc): (85779,), 183,488\n",
            "mask.shape, min(mask),max(mask): (800, 600, 2), 0,1\n",
            "rr.shape, min(rr),max(rr): (21232,), 0,159\n",
            "cc.shape, min(cc),max(cc): (21232,), 266,428\n",
            "After fixing the dirt mask, new values:\n",
            "rr.shape, min(rr),max(rr): (21232,), 0,159\n",
            "cc.shape, min(cc),max(cc): (21232,), 266,428\n"
          ]
        },
        {
          "output_type": "stream",
          "name": "stderr",
          "text": [
            "/usr/local/lib/python3.7/dist-packages/ipykernel_launcher.py:129: DeprecationWarning: `np.bool` is a deprecated alias for the builtin `bool`. To silence this warning, use `bool` by itself. Doing this will not modify any behavior and is safe. If you specifically wanted the numpy scalar type, use `np.bool_` here.\n",
            "Deprecated in NumPy 1.20; for more details and guidance: https://numpy.org/devdocs/release/1.20.0-notes.html#deprecations\n",
            "/usr/local/lib/python3.7/dist-packages/skimage/transform/_warps.py:830: FutureWarning: Input image dtype is bool. Interpolation is not defined with bool data type. Please set order to 0 or explicitely cast input image to another data type. Starting from version 0.19 a ValueError will be raised instead of this warning.\n",
            "  order = _validate_interpolation_order(image.dtype, order)\n"
          ]
        },
        {
          "output_type": "stream",
          "name": "stdout",
          "text": [
            "mask.shape, min(mask),max(mask): (1024, 1536, 1), 0,0\n",
            "rr.shape, min(rr),max(rr): (306741,), 189,823\n",
            "cc.shape, min(cc),max(cc): (306741,), 73,798\n",
            "After fixing the dirt mask, new values:\n",
            "rr.shape, min(rr),max(rr): (306741,), 189,823\n",
            "cc.shape, min(cc),max(cc): (306741,), 73,798\n"
          ]
        },
        {
          "output_type": "stream",
          "name": "stderr",
          "text": [
            "/usr/local/lib/python3.7/dist-packages/ipykernel_launcher.py:129: DeprecationWarning: `np.bool` is a deprecated alias for the builtin `bool`. To silence this warning, use `bool` by itself. Doing this will not modify any behavior and is safe. If you specifically wanted the numpy scalar type, use `np.bool_` here.\n",
            "Deprecated in NumPy 1.20; for more details and guidance: https://numpy.org/devdocs/release/1.20.0-notes.html#deprecations\n",
            "/usr/local/lib/python3.7/dist-packages/skimage/transform/_warps.py:830: FutureWarning: Input image dtype is bool. Interpolation is not defined with bool data type. Please set order to 0 or explicitely cast input image to another data type. Starting from version 0.19 a ValueError will be raised instead of this warning.\n",
            "  order = _validate_interpolation_order(image.dtype, order)\n"
          ]
        },
        {
          "output_type": "stream",
          "name": "stdout",
          "text": [
            "mask.shape, min(mask),max(mask): (763, 1024, 2), 0,0\n",
            "mask.shape, min(mask),max(mask): (375, 500, 1), 0,0\n",
            "rr.shape, min(rr),max(rr): (23294,), 138,320\n",
            "rr.shape, min(rr),max(rr): (151648,), 89,694\n",
            "cc.shape, min(cc),max(cc): (151648,), 81,487\n",
            "cc.shape, min(cc),max(cc): (23294,), 54,243\n",
            "After fixing the dirt mask, new values:\n",
            "After fixing the dirt mask, new values:\n",
            "rr.shape, min(rr),max(rr): (151648,), 89,694\n",
            "rr.shape, min(rr),max(rr): (23294,), 138,320\n",
            "cc.shape, min(cc),max(cc): (23294,), 54,243\n",
            "cc.shape, min(cc),max(cc): (151648,), 81,487\n"
          ]
        },
        {
          "output_type": "stream",
          "name": "stderr",
          "text": [
            "/usr/local/lib/python3.7/dist-packages/ipykernel_launcher.py:129: DeprecationWarning: `np.bool` is a deprecated alias for the builtin `bool`. To silence this warning, use `bool` by itself. Doing this will not modify any behavior and is safe. If you specifically wanted the numpy scalar type, use `np.bool_` here.\n",
            "Deprecated in NumPy 1.20; for more details and guidance: https://numpy.org/devdocs/release/1.20.0-notes.html#deprecations\n",
            "/usr/local/lib/python3.7/dist-packages/skimage/transform/_warps.py:830: FutureWarning: Input image dtype is bool. Interpolation is not defined with bool data type. Please set order to 0 or explicitely cast input image to another data type. Starting from version 0.19 a ValueError will be raised instead of this warning.\n",
            "  order = _validate_interpolation_order(image.dtype, order)\n"
          ]
        },
        {
          "output_type": "stream",
          "name": "stdout",
          "text": [
            "mask.shape, min(mask),max(mask): (763, 1024, 2), 0,1\n",
            "rr.shape, min(rr),max(rr): (140945,), 203,708\n",
            "cc.shape, min(cc),max(cc): (140945,), 500,917\n",
            "After fixing the dirt mask, new values:\n",
            "rr.shape, min(rr),max(rr): (140945,), 203,708\n",
            "cc.shape, min(cc),max(cc): (140945,), 500,917\n"
          ]
        },
        {
          "output_type": "stream",
          "name": "stderr",
          "text": [
            "/usr/local/lib/python3.7/dist-packages/ipykernel_launcher.py:129: DeprecationWarning: `np.bool` is a deprecated alias for the builtin `bool`. To silence this warning, use `bool` by itself. Doing this will not modify any behavior and is safe. If you specifically wanted the numpy scalar type, use `np.bool_` here.\n",
            "Deprecated in NumPy 1.20; for more details and guidance: https://numpy.org/devdocs/release/1.20.0-notes.html#deprecations\n",
            "/usr/local/lib/python3.7/dist-packages/skimage/transform/_warps.py:830: FutureWarning: Input image dtype is bool. Interpolation is not defined with bool data type. Please set order to 0 or explicitely cast input image to another data type. Starting from version 0.19 a ValueError will be raised instead of this warning.\n",
            "  order = _validate_interpolation_order(image.dtype, order)\n"
          ]
        },
        {
          "output_type": "stream",
          "name": "stdout",
          "text": [
            "mask.shape, min(mask),max(mask): (425, 500, 2), 0,0\n",
            "rr.shape, min(rr),max(rr): (62429,), 56,390\n",
            "cc.shape, min(cc),max(cc): (62429,), 47,312\n",
            "After fixing the dirt mask, new values:\n",
            "rr.shape, min(rr),max(rr): (62429,), 56,390\n",
            "cc.shape, min(cc),max(cc): (62429,), 47,312\n",
            "mask.shape, min(mask),max(mask): (425, 500, 2), 0,1\n",
            "rr.shape, min(rr),max(rr): (28109,), 115,331\n",
            "cc.shape, min(cc),max(cc): (28109,), 277,455\n",
            "After fixing the dirt mask, new values:\n",
            "rr.shape, min(rr),max(rr): (28109,), 115,331\n",
            "cc.shape, min(cc),max(cc): (28109,), 277,455\n"
          ]
        },
        {
          "output_type": "stream",
          "name": "stderr",
          "text": [
            "/usr/local/lib/python3.7/dist-packages/ipykernel_launcher.py:129: DeprecationWarning: `np.bool` is a deprecated alias for the builtin `bool`. To silence this warning, use `bool` by itself. Doing this will not modify any behavior and is safe. If you specifically wanted the numpy scalar type, use `np.bool_` here.\n",
            "Deprecated in NumPy 1.20; for more details and guidance: https://numpy.org/devdocs/release/1.20.0-notes.html#deprecations\n",
            "/usr/local/lib/python3.7/dist-packages/skimage/transform/_warps.py:830: FutureWarning: Input image dtype is bool. Interpolation is not defined with bool data type. Please set order to 0 or explicitely cast input image to another data type. Starting from version 0.19 a ValueError will be raised instead of this warning.\n",
            "  order = _validate_interpolation_order(image.dtype, order)\n"
          ]
        },
        {
          "output_type": "stream",
          "name": "stdout",
          "text": [
            "mask.shape, min(mask),max(mask): (1700, 2400, 1), 0,0\n",
            "rr.shape, min(rr),max(rr): (463059,), 608,1387\n",
            "cc.shape, min(cc),max(cc): (463059,), 242,992\n",
            "After fixing the dirt mask, new values:\n",
            "rr.shape, min(rr),max(rr): (463059,), 608,1387\n",
            "cc.shape, min(cc),max(cc): (463059,), 242,992\n"
          ]
        },
        {
          "output_type": "stream",
          "name": "stderr",
          "text": [
            "/usr/local/lib/python3.7/dist-packages/ipykernel_launcher.py:129: DeprecationWarning: `np.bool` is a deprecated alias for the builtin `bool`. To silence this warning, use `bool` by itself. Doing this will not modify any behavior and is safe. If you specifically wanted the numpy scalar type, use `np.bool_` here.\n",
            "Deprecated in NumPy 1.20; for more details and guidance: https://numpy.org/devdocs/release/1.20.0-notes.html#deprecations\n"
          ]
        },
        {
          "output_type": "stream",
          "name": "stdout",
          "text": [
            "mask.shape, min(mask),max(mask): (640, 960, 1), 0,0\n",
            "rr.shape, min(rr),max(rr): (113998,), 136,541\n",
            "cc.shape, min(cc),max(cc): (113998,), 299,665\n",
            "After fixing the dirt mask, new values:\n",
            "rr.shape, min(rr),max(rr): (113998,), 136,541\n",
            "cc.shape, min(cc),max(cc): (113998,), 299,665\n"
          ]
        },
        {
          "output_type": "stream",
          "name": "stderr",
          "text": [
            "/usr/local/lib/python3.7/dist-packages/ipykernel_launcher.py:129: DeprecationWarning: `np.bool` is a deprecated alias for the builtin `bool`. To silence this warning, use `bool` by itself. Doing this will not modify any behavior and is safe. If you specifically wanted the numpy scalar type, use `np.bool_` here.\n",
            "Deprecated in NumPy 1.20; for more details and guidance: https://numpy.org/devdocs/release/1.20.0-notes.html#deprecations\n",
            "/usr/local/lib/python3.7/dist-packages/skimage/transform/_warps.py:830: FutureWarning: Input image dtype is bool. Interpolation is not defined with bool data type. Please set order to 0 or explicitely cast input image to another data type. Starting from version 0.19 a ValueError will be raised instead of this warning.\n",
            "  order = _validate_interpolation_order(image.dtype, order)\n",
            "/usr/local/lib/python3.7/dist-packages/skimage/transform/_warps.py:830: FutureWarning: Input image dtype is bool. Interpolation is not defined with bool data type. Please set order to 0 or explicitely cast input image to another data type. Starting from version 0.19 a ValueError will be raised instead of this warning.\n",
            "  order = _validate_interpolation_order(image.dtype, order)\n"
          ]
        },
        {
          "output_type": "stream",
          "name": "stdout",
          "text": [
            "mask.shape, min(mask),max(mask): (640, 960, 1), 0,0\n",
            "rr.shape, min(rr),max(rr): (113998,), 136,541\n",
            "cc.shape, min(cc),max(cc): (113998,), 299,665\n",
            "After fixing the dirt mask, new values:\n",
            "rr.shape, min(rr),max(rr): (113998,), 136,541\n",
            "cc.shape, min(cc),max(cc): (113998,), 299,665\n"
          ]
        },
        {
          "output_type": "stream",
          "name": "stderr",
          "text": [
            "/usr/local/lib/python3.7/dist-packages/ipykernel_launcher.py:129: DeprecationWarning: `np.bool` is a deprecated alias for the builtin `bool`. To silence this warning, use `bool` by itself. Doing this will not modify any behavior and is safe. If you specifically wanted the numpy scalar type, use `np.bool_` here.\n",
            "Deprecated in NumPy 1.20; for more details and guidance: https://numpy.org/devdocs/release/1.20.0-notes.html#deprecations\n"
          ]
        },
        {
          "output_type": "stream",
          "name": "stdout",
          "text": [
            "mask.shape, min(mask),max(mask): (2048, 1536, 1), 0,0\n",
            "rr.shape, min(rr),max(rr): (126162,), 1119,1586\n",
            "cc.shape, min(cc),max(cc): (126162,), 959,1350\n",
            "After fixing the dirt mask, new values:\n",
            "rr.shape, min(rr),max(rr): (126162,), 1119,1586\n",
            "cc.shape, min(cc),max(cc): (126162,), 959,1350\n"
          ]
        },
        {
          "output_type": "stream",
          "name": "stderr",
          "text": [
            "/usr/local/lib/python3.7/dist-packages/ipykernel_launcher.py:129: DeprecationWarning: `np.bool` is a deprecated alias for the builtin `bool`. To silence this warning, use `bool` by itself. Doing this will not modify any behavior and is safe. If you specifically wanted the numpy scalar type, use `np.bool_` here.\n",
            "Deprecated in NumPy 1.20; for more details and guidance: https://numpy.org/devdocs/release/1.20.0-notes.html#deprecations\n",
            "/usr/local/lib/python3.7/dist-packages/skimage/transform/_warps.py:830: FutureWarning: Input image dtype is bool. Interpolation is not defined with bool data type. Please set order to 0 or explicitely cast input image to another data type. Starting from version 0.19 a ValueError will be raised instead of this warning.\n",
            "  order = _validate_interpolation_order(image.dtype, order)\n",
            "/usr/local/lib/python3.7/dist-packages/skimage/transform/_warps.py:830: FutureWarning: Input image dtype is bool. Interpolation is not defined with bool data type. Please set order to 0 or explicitely cast input image to another data type. Starting from version 0.19 a ValueError will be raised instead of this warning.\n",
            "  order = _validate_interpolation_order(image.dtype, order)\n"
          ]
        },
        {
          "output_type": "stream",
          "name": "stdout",
          "text": [
            "mask.shape, min(mask),max(mask): (1067, 1600, 1), 0,0\n",
            "rr.shape, min(rr),max(rr): (226384,), 193,748\n",
            "cc.shape, min(cc),max(cc): (226384,), 244,750\n",
            "After fixing the dirt mask, new values:\n",
            "rr.shape, min(rr),max(rr): (226384,), 193,748\n",
            "cc.shape, min(cc),max(cc): (226384,), 244,750\n"
          ]
        },
        {
          "output_type": "stream",
          "name": "stderr",
          "text": [
            "/usr/local/lib/python3.7/dist-packages/ipykernel_launcher.py:129: DeprecationWarning: `np.bool` is a deprecated alias for the builtin `bool`. To silence this warning, use `bool` by itself. Doing this will not modify any behavior and is safe. If you specifically wanted the numpy scalar type, use `np.bool_` here.\n",
            "Deprecated in NumPy 1.20; for more details and guidance: https://numpy.org/devdocs/release/1.20.0-notes.html#deprecations\n"
          ]
        },
        {
          "output_type": "stream",
          "name": "stdout",
          "text": [
            "mask.shape, min(mask),max(mask): (480, 852, 1), 0,0\n",
            "rr.shape, min(rr),max(rr): (167163,), 0,459\n",
            "cc.shape, min(cc),max(cc): (167163,), 4,539\n",
            "After fixing the dirt mask, new values:\n",
            "rr.shape, min(rr),max(rr): (167163,), 0,459\n",
            "cc.shape, min(cc),max(cc): (167163,), 4,539\n"
          ]
        },
        {
          "output_type": "stream",
          "name": "stderr",
          "text": [
            "/usr/local/lib/python3.7/dist-packages/skimage/transform/_warps.py:830: FutureWarning: Input image dtype is bool. Interpolation is not defined with bool data type. Please set order to 0 or explicitely cast input image to another data type. Starting from version 0.19 a ValueError will be raised instead of this warning.\n",
            "  order = _validate_interpolation_order(image.dtype, order)\n",
            "/usr/local/lib/python3.7/dist-packages/ipykernel_launcher.py:129: DeprecationWarning: `np.bool` is a deprecated alias for the builtin `bool`. To silence this warning, use `bool` by itself. Doing this will not modify any behavior and is safe. If you specifically wanted the numpy scalar type, use `np.bool_` here.\n",
            "Deprecated in NumPy 1.20; for more details and guidance: https://numpy.org/devdocs/release/1.20.0-notes.html#deprecations\n",
            "/usr/local/lib/python3.7/dist-packages/skimage/transform/_warps.py:830: FutureWarning: Input image dtype is bool. Interpolation is not defined with bool data type. Please set order to 0 or explicitely cast input image to another data type. Starting from version 0.19 a ValueError will be raised instead of this warning.\n",
            "  order = _validate_interpolation_order(image.dtype, order)\n"
          ]
        },
        {
          "output_type": "stream",
          "name": "stdout",
          "text": [
            "mask.shape, min(mask),max(mask): (337, 500, 2), 0,0\n",
            "rr.shape, min(rr),max(rr): (54620,), 59,328\n",
            "cc.shape, min(cc),max(cc): (54620,), 41,314\n",
            "After fixing the dirt mask, new values:\n",
            "rr.shape, min(rr),max(rr): (54620,), 59,328\n",
            "cc.shape, min(cc),max(cc): (54620,), 41,314\n",
            "mask.shape, min(mask),max(mask): (337, 500, 2), 0,1\n",
            "rr.shape, min(rr),max(rr): (21291,), 1,139\n",
            "cc.shape, min(cc),max(cc): (21291,), 272,461\n",
            "After fixing the dirt mask, new values:\n",
            "rr.shape, min(rr),max(rr): (21291,), 1,139\n",
            "cc.shape, min(cc),max(cc): (21291,), 272,461\n"
          ]
        },
        {
          "output_type": "stream",
          "name": "stderr",
          "text": [
            "/usr/local/lib/python3.7/dist-packages/ipykernel_launcher.py:129: DeprecationWarning: `np.bool` is a deprecated alias for the builtin `bool`. To silence this warning, use `bool` by itself. Doing this will not modify any behavior and is safe. If you specifically wanted the numpy scalar type, use `np.bool_` here.\n",
            "Deprecated in NumPy 1.20; for more details and guidance: https://numpy.org/devdocs/release/1.20.0-notes.html#deprecations\n"
          ]
        },
        {
          "output_type": "stream",
          "name": "stdout",
          "text": [
            "mask.shape, min(mask),max(mask): (1024, 683, 5), 0,0\n",
            "rr.shape, min(rr),max(rr): (23409,), 140,328\n",
            "cc.shape, min(cc),max(cc): (23409,), 142,340\n",
            "After fixing the dirt mask, new values:\n",
            "rr.shape, min(rr),max(rr): (23409,), 140,328\n",
            "cc.shape, min(cc),max(cc): (23409,), 142,340\n"
          ]
        },
        {
          "output_type": "stream",
          "name": "stderr",
          "text": [
            "/usr/local/lib/python3.7/dist-packages/skimage/transform/_warps.py:830: FutureWarning: Input image dtype is bool. Interpolation is not defined with bool data type. Please set order to 0 or explicitely cast input image to another data type. Starting from version 0.19 a ValueError will be raised instead of this warning.\n",
            "  order = _validate_interpolation_order(image.dtype, order)\n"
          ]
        },
        {
          "output_type": "stream",
          "name": "stdout",
          "text": [
            "mask.shape, min(mask),max(mask): (1024, 683, 5), 0,1\n",
            "rr.shape, min(rr),max(rr): (47060,), 250,513\n",
            "cc.shape, min(cc),max(cc): (47060,), 80,304\n",
            "After fixing the dirt mask, new values:\n",
            "rr.shape, min(rr),max(rr): (47060,), 250,513\n",
            "cc.shape, min(cc),max(cc): (47060,), 80,304\n",
            "mask.shape, min(mask),max(mask): (1024, 683, 5), 0,1\n",
            "rr.shape, min(rr),max(rr): (34250,), 204,419\n",
            "cc.shape, min(cc),max(cc): (34250,), 305,554\n",
            "After fixing the dirt mask, new values:\n",
            "rr.shape, min(rr),max(rr): (34250,), 204,419\n",
            "cc.shape, min(cc),max(cc): (34250,), 305,554\n",
            "mask.shape, min(mask),max(mask): (1024, 683, 5), 0,1\n",
            "rr.shape, min(rr),max(rr): (56408,), 347,627\n",
            "cc.shape, min(cc),max(cc): (56408,), 371,644\n",
            "After fixing the dirt mask, new values:\n",
            "rr.shape, min(rr),max(rr): (56408,), 347,627\n",
            "cc.shape, min(cc),max(cc): (56408,), 371,644\n",
            "mask.shape, min(mask),max(mask): (1024, 683, 5), 0,1\n",
            "rr.shape, min(rr),max(rr): (55954,), 494,799\n",
            "cc.shape, min(cc),max(cc): (55954,), 180,416\n",
            "After fixing the dirt mask, new values:\n",
            "rr.shape, min(rr),max(rr): (55954,), 494,799\n",
            "cc.shape, min(cc),max(cc): (55954,), 180,416\n"
          ]
        },
        {
          "output_type": "stream",
          "name": "stderr",
          "text": [
            "/usr/local/lib/python3.7/dist-packages/ipykernel_launcher.py:129: DeprecationWarning: `np.bool` is a deprecated alias for the builtin `bool`. To silence this warning, use `bool` by itself. Doing this will not modify any behavior and is safe. If you specifically wanted the numpy scalar type, use `np.bool_` here.\n",
            "Deprecated in NumPy 1.20; for more details and guidance: https://numpy.org/devdocs/release/1.20.0-notes.html#deprecations\n"
          ]
        },
        {
          "output_type": "stream",
          "name": "stdout",
          "text": [
            "mask.shape, min(mask),max(mask): (1020, 1920, 2), 0,0\n",
            "rr.shape, min(rr),max(rr): (167722,), 520,995\n",
            "cc.shape, min(cc),max(cc): (167722,), 587,1030\n",
            "After fixing the dirt mask, new values:\n",
            "rr.shape, min(rr),max(rr): (167722,), 520,995\n",
            "cc.shape, min(cc),max(cc): (167722,), 587,1030\n"
          ]
        },
        {
          "output_type": "stream",
          "name": "stderr",
          "text": [
            "/usr/local/lib/python3.7/dist-packages/skimage/transform/_warps.py:830: FutureWarning: Input image dtype is bool. Interpolation is not defined with bool data type. Please set order to 0 or explicitely cast input image to another data type. Starting from version 0.19 a ValueError will be raised instead of this warning.\n",
            "  order = _validate_interpolation_order(image.dtype, order)\n"
          ]
        },
        {
          "output_type": "stream",
          "name": "stdout",
          "text": [
            "mask.shape, min(mask),max(mask): (1020, 1920, 2), 0,1\n",
            "rr.shape, min(rr),max(rr): (241000,), 291,866\n",
            "cc.shape, min(cc),max(cc): (241000,), 62,573\n",
            "After fixing the dirt mask, new values:\n",
            "rr.shape, min(rr),max(rr): (241000,), 291,866\n",
            "cc.shape, min(cc),max(cc): (241000,), 62,573\n"
          ]
        },
        {
          "output_type": "stream",
          "name": "stderr",
          "text": [
            "/usr/local/lib/python3.7/dist-packages/ipykernel_launcher.py:129: DeprecationWarning: `np.bool` is a deprecated alias for the builtin `bool`. To silence this warning, use `bool` by itself. Doing this will not modify any behavior and is safe. If you specifically wanted the numpy scalar type, use `np.bool_` here.\n",
            "Deprecated in NumPy 1.20; for more details and guidance: https://numpy.org/devdocs/release/1.20.0-notes.html#deprecations\n",
            "/usr/local/lib/python3.7/dist-packages/skimage/transform/_warps.py:830: FutureWarning: Input image dtype is bool. Interpolation is not defined with bool data type. Please set order to 0 or explicitely cast input image to another data type. Starting from version 0.19 a ValueError will be raised instead of this warning.\n",
            "  order = _validate_interpolation_order(image.dtype, order)\n"
          ]
        },
        {
          "output_type": "stream",
          "name": "stdout",
          "text": [
            "mask.shape, min(mask),max(mask): (1024, 1024, 1), 0,0\n",
            "rr.shape, min(rr),max(rr): (140090,), 517,984\n",
            "cc.shape, min(cc),max(cc): (140090,), 74,434\n",
            "After fixing the dirt mask, new values:\n",
            "rr.shape, min(rr),max(rr): (140090,), 517,984\n",
            "cc.shape, min(cc),max(cc): (140090,), 74,434\n"
          ]
        },
        {
          "output_type": "stream",
          "name": "stderr",
          "text": [
            "/usr/local/lib/python3.7/dist-packages/ipykernel_launcher.py:129: DeprecationWarning: `np.bool` is a deprecated alias for the builtin `bool`. To silence this warning, use `bool` by itself. Doing this will not modify any behavior and is safe. If you specifically wanted the numpy scalar type, use `np.bool_` here.\n",
            "Deprecated in NumPy 1.20; for more details and guidance: https://numpy.org/devdocs/release/1.20.0-notes.html#deprecations\n",
            "/usr/local/lib/python3.7/dist-packages/skimage/transform/_warps.py:830: FutureWarning: Input image dtype is bool. Interpolation is not defined with bool data type. Please set order to 0 or explicitely cast input image to another data type. Starting from version 0.19 a ValueError will be raised instead of this warning.\n",
            "  order = _validate_interpolation_order(image.dtype, order)\n"
          ]
        },
        {
          "output_type": "stream",
          "name": "stdout",
          "text": [
            "mask.shape, min(mask),max(mask): (700, 700, 4), 0,0\n",
            "rr.shape, min(rr),max(rr): (58846,), 83,387\n",
            "cc.shape, min(cc),max(cc): (58846,), 226,528\n",
            "After fixing the dirt mask, new values:\n",
            "rr.shape, min(rr),max(rr): (58846,), 83,387\n",
            "cc.shape, min(cc),max(cc): (58846,), 226,528\n",
            "mask.shape, min(mask),max(mask): (700, 700, 4), 0,1\n",
            "rr.shape, min(rr),max(rr): (23470,), 50,267\n",
            "cc.shape, min(cc),max(cc): (23470,), 485,640\n",
            "After fixing the dirt mask, new values:\n",
            "rr.shape, min(rr),max(rr): (23470,), 50,267\n",
            "cc.shape, min(cc),max(cc): (23470,), 485,640\n",
            "mask.shape, min(mask),max(mask): (540, 540, 3), 0,0\n",
            "rr.shape, min(rr),max(rr): (50860,), 13,364\n",
            "cc.shape, min(cc),max(cc): (50860,), 274,506\n",
            "After fixing the dirt mask, new values:\n",
            "rr.shape, min(rr),max(rr): (50860,), 13,364\n",
            "mask.shape, min(mask),max(mask): (700, 700, 4), 0,1\n",
            "rr.shape, min(rr),max(rr): (68531,), 336,650\n",
            "cc.shape, min(cc),max(cc): (68531,), 97,371\n",
            "cc.shape, min(cc),max(cc): (50860,), 274,506\n",
            "After fixing the dirt mask, new values:\n",
            "rr.shape, min(rr),max(rr): (68531,), 336,650\n",
            "cc.shape, min(cc),max(cc): (68531,), 97,371\n",
            "mask.shape, min(mask),max(mask): (700, 700, 4), 0,1\n",
            "rr.shape, min(rr),max(rr): (44659,), 457,649\n",
            "cc.shape, min(cc),max(cc): (44659,), 354,615\n",
            "After fixing the dirt mask, new values:\n",
            "rr.shape, min(rr),max(rr): (44659,), 457,649\n",
            "cc.shape, min(cc),max(cc): (44659,), 354,615\n"
          ]
        },
        {
          "output_type": "stream",
          "name": "stderr",
          "text": [
            "/usr/local/lib/python3.7/dist-packages/ipykernel_launcher.py:129: DeprecationWarning: `np.bool` is a deprecated alias for the builtin `bool`. To silence this warning, use `bool` by itself. Doing this will not modify any behavior and is safe. If you specifically wanted the numpy scalar type, use `np.bool_` here.\n",
            "Deprecated in NumPy 1.20; for more details and guidance: https://numpy.org/devdocs/release/1.20.0-notes.html#deprecations\n"
          ]
        },
        {
          "output_type": "stream",
          "name": "stdout",
          "text": [
            "mask.shape, min(mask),max(mask): (540, 540, 3), 0,1\n",
            "rr.shape, min(rr),max(rr): (66638,), 232,527\n",
            "cc.shape, min(cc),max(cc): (66638,), 124,446\n",
            "After fixing the dirt mask, new values:\n",
            "rr.shape, min(rr),max(rr): (66638,), 232,527\n",
            "cc.shape, min(cc),max(cc): (66638,), 124,446\n",
            "mask.shape, min(mask),max(mask): (540, 540, 3), 0,1\n",
            "rr.shape, min(rr),max(rr): (46383,), 61,340\n",
            "cc.shape, min(cc),max(cc): (46383,), 28,281\n",
            "After fixing the dirt mask, new values:\n",
            "rr.shape, min(rr),max(rr): (46383,), 61,340\n",
            "cc.shape, min(cc),max(cc): (46383,), 28,281\n"
          ]
        },
        {
          "output_type": "stream",
          "name": "stderr",
          "text": [
            "/usr/local/lib/python3.7/dist-packages/ipykernel_launcher.py:129: DeprecationWarning: `np.bool` is a deprecated alias for the builtin `bool`. To silence this warning, use `bool` by itself. Doing this will not modify any behavior and is safe. If you specifically wanted the numpy scalar type, use `np.bool_` here.\n",
            "Deprecated in NumPy 1.20; for more details and guidance: https://numpy.org/devdocs/release/1.20.0-notes.html#deprecations\n",
            "/usr/local/lib/python3.7/dist-packages/skimage/transform/_warps.py:830: FutureWarning: Input image dtype is bool. Interpolation is not defined with bool data type. Please set order to 0 or explicitely cast input image to another data type. Starting from version 0.19 a ValueError will be raised instead of this warning.\n",
            "  order = _validate_interpolation_order(image.dtype, order)\n",
            "/usr/local/lib/python3.7/dist-packages/skimage/transform/_warps.py:830: FutureWarning: Input image dtype is bool. Interpolation is not defined with bool data type. Please set order to 0 or explicitely cast input image to another data type. Starting from version 0.19 a ValueError will be raised instead of this warning.\n",
            "  order = _validate_interpolation_order(image.dtype, order)\n"
          ]
        },
        {
          "output_type": "stream",
          "name": "stdout",
          "text": [
            "mask.shape, min(mask),max(mask): (742, 1200, 1), 0,0\n",
            "rr.shape, min(rr),max(rr): (30802,), 93,279\n",
            "cc.shape, min(cc),max(cc): (30802,), 730,970\n",
            "After fixing the dirt mask, new values:\n",
            "rr.shape, min(rr),max(rr): (30802,), 93,279\n",
            "cc.shape, min(cc),max(cc): (30802,), 730,970\n"
          ]
        },
        {
          "output_type": "stream",
          "name": "stderr",
          "text": [
            "/usr/local/lib/python3.7/dist-packages/ipykernel_launcher.py:129: DeprecationWarning: `np.bool` is a deprecated alias for the builtin `bool`. To silence this warning, use `bool` by itself. Doing this will not modify any behavior and is safe. If you specifically wanted the numpy scalar type, use `np.bool_` here.\n",
            "Deprecated in NumPy 1.20; for more details and guidance: https://numpy.org/devdocs/release/1.20.0-notes.html#deprecations\n"
          ]
        },
        {
          "output_type": "stream",
          "name": "stdout",
          "text": [
            "mask.shape, min(mask),max(mask): (541, 812, 4), 0,0\n",
            "rr.shape, min(rr),max(rr): (82349,), 67,387\n",
            "cc.shape, min(cc),max(cc): (82349,), 283,641\n",
            "After fixing the dirt mask, new values:\n",
            "rr.shape, min(rr),max(rr): (82349,), 67,387\n",
            "cc.shape, min(cc),max(cc): (82349,), 283,641\n"
          ]
        },
        {
          "output_type": "stream",
          "name": "stderr",
          "text": [
            "/usr/local/lib/python3.7/dist-packages/skimage/transform/_warps.py:830: FutureWarning: Input image dtype is bool. Interpolation is not defined with bool data type. Please set order to 0 or explicitely cast input image to another data type. Starting from version 0.19 a ValueError will be raised instead of this warning.\n",
            "  order = _validate_interpolation_order(image.dtype, order)\n"
          ]
        },
        {
          "output_type": "stream",
          "name": "stdout",
          "text": [
            "mask.shape, min(mask),max(mask): (541, 812, 4), 0,1\n",
            "rr.shape, min(rr),max(rr): (86074,), 4,326\n",
            "cc.shape, min(cc),max(cc): (86074,), 0,401\n",
            "After fixing the dirt mask, new values:\n",
            "rr.shape, min(rr),max(rr): (86074,), 4,326\n",
            "cc.shape, min(cc),max(cc): (86074,), 0,401\n",
            "mask.shape, min(mask),max(mask): (541, 812, 4), 0,1\n",
            "rr.shape, min(rr),max(rr): (19352,), 1,134\n",
            "cc.shape, min(cc),max(cc): (19352,), 398,664\n",
            "After fixing the dirt mask, new values:\n",
            "rr.shape, min(rr),max(rr): (19352,), 1,134\n",
            "cc.shape, min(cc),max(cc): (19352,), 398,664\n",
            "mask.shape, min(mask),max(mask): (541, 812, 4), 0,1\n",
            "rr.shape, min(rr),max(rr): (8580,), 0,72\n",
            "cc.shape, min(cc),max(cc): (8580,), 140,417\n",
            "After fixing the dirt mask, new values:\n",
            "rr.shape, min(rr),max(rr): (8580,), 0,72\n",
            "cc.shape, min(cc),max(cc): (8580,), 140,417\n"
          ]
        },
        {
          "output_type": "stream",
          "name": "stderr",
          "text": [
            "/usr/local/lib/python3.7/dist-packages/ipykernel_launcher.py:129: DeprecationWarning: `np.bool` is a deprecated alias for the builtin `bool`. To silence this warning, use `bool` by itself. Doing this will not modify any behavior and is safe. If you specifically wanted the numpy scalar type, use `np.bool_` here.\n",
            "Deprecated in NumPy 1.20; for more details and guidance: https://numpy.org/devdocs/release/1.20.0-notes.html#deprecations\n"
          ]
        },
        {
          "output_type": "stream",
          "name": "stdout",
          "text": [
            "mask.shape, min(mask),max(mask): (540, 540, 3), 0,0\n",
            "rr.shape, min(rr),max(rr): (50860,), 13,364\n",
            "cc.shape, min(cc),max(cc): (50860,), 274,506\n",
            "After fixing the dirt mask, new values:\n",
            "rr.shape, min(rr),max(rr): (50860,), 13,364\n",
            "cc.shape, min(cc),max(cc): (50860,), 274,506\n",
            "mask.shape, min(mask),max(mask): (540, 540, 3), 0,1\n",
            "rr.shape, min(rr),max(rr): (66638,), 232,527\n",
            "cc.shape, min(cc),max(cc): (66638,), 124,446\n",
            "After fixing the dirt mask, new values:\n",
            "rr.shape, min(rr),max(rr): (66638,), 232,527\n",
            "cc.shape, min(cc),max(cc): (66638,), 124,446\n",
            "mask.shape, min(mask),max(mask): (540, 540, 3), 0,1\n",
            "rr.shape, min(rr),max(rr): (46383,), 61,340\n",
            "cc.shape, min(cc),max(cc): (46383,), 28,281\n",
            "After fixing the dirt mask, new values:\n",
            "rr.shape, min(rr),max(rr): (46383,), 61,340\n",
            "cc.shape, min(cc),max(cc): (46383,), 28,281\n"
          ]
        },
        {
          "output_type": "stream",
          "name": "stderr",
          "text": [
            "/usr/local/lib/python3.7/dist-packages/ipykernel_launcher.py:129: DeprecationWarning: `np.bool` is a deprecated alias for the builtin `bool`. To silence this warning, use `bool` by itself. Doing this will not modify any behavior and is safe. If you specifically wanted the numpy scalar type, use `np.bool_` here.\n",
            "Deprecated in NumPy 1.20; for more details and guidance: https://numpy.org/devdocs/release/1.20.0-notes.html#deprecations\n",
            "/usr/local/lib/python3.7/dist-packages/skimage/transform/_warps.py:830: FutureWarning: Input image dtype is bool. Interpolation is not defined with bool data type. Please set order to 0 or explicitely cast input image to another data type. Starting from version 0.19 a ValueError will be raised instead of this warning.\n",
            "  order = _validate_interpolation_order(image.dtype, order)\n",
            "/usr/local/lib/python3.7/dist-packages/skimage/transform/_warps.py:830: FutureWarning: Input image dtype is bool. Interpolation is not defined with bool data type. Please set order to 0 or explicitely cast input image to another data type. Starting from version 0.19 a ValueError will be raised instead of this warning.\n",
            "  order = _validate_interpolation_order(image.dtype, order)\n"
          ]
        },
        {
          "output_type": "stream",
          "name": "stdout",
          "text": [
            "mask.shape, min(mask),max(mask): (1000, 1000, 1), 0,0\n",
            "rr.shape, min(rr),max(rr): (73133,), 391,703\n",
            "cc.shape, min(cc),max(cc): (73133,), 351,674\n",
            "After fixing the dirt mask, new values:\n",
            "rr.shape, min(rr),max(rr): (73133,), 391,703\n",
            "cc.shape, min(cc),max(cc): (73133,), 351,674\n"
          ]
        },
        {
          "output_type": "stream",
          "name": "stderr",
          "text": [
            "/usr/local/lib/python3.7/dist-packages/ipykernel_launcher.py:129: DeprecationWarning: `np.bool` is a deprecated alias for the builtin `bool`. To silence this warning, use `bool` by itself. Doing this will not modify any behavior and is safe. If you specifically wanted the numpy scalar type, use `np.bool_` here.\n",
            "Deprecated in NumPy 1.20; for more details and guidance: https://numpy.org/devdocs/release/1.20.0-notes.html#deprecations\n",
            "/usr/local/lib/python3.7/dist-packages/skimage/transform/_warps.py:830: FutureWarning: Input image dtype is bool. Interpolation is not defined with bool data type. Please set order to 0 or explicitely cast input image to another data type. Starting from version 0.19 a ValueError will be raised instead of this warning.\n",
            "  order = _validate_interpolation_order(image.dtype, order)\n"
          ]
        },
        {
          "output_type": "stream",
          "name": "stdout",
          "text": [
            "mask.shape, min(mask),max(mask): (280, 280, 2), 0,0\n",
            "rr.shape, min(rr),max(rr): (11829,), 93,226\n",
            "cc.shape, min(cc),max(cc): (11829,), 159,279\n",
            "After fixing the dirt mask, new values:\n",
            "rr.shape, min(rr),max(rr): (11829,), 93,226\n",
            "cc.shape, min(cc),max(cc): (11829,), 159,279\n",
            "mask.shape, min(mask),max(mask): (280, 280, 2), 0,1\n",
            "rr.shape, min(rr),max(rr): (7642,), 88,216\n",
            "cc.shape, min(cc),max(cc): (7642,), 0,78\n",
            "After fixing the dirt mask, new values:\n",
            "rr.shape, min(rr),max(rr): (7642,), 88,216\n",
            "cc.shape, min(cc),max(cc): (7642,), 0,78\n"
          ]
        },
        {
          "output_type": "stream",
          "name": "stderr",
          "text": [
            "/usr/local/lib/python3.7/dist-packages/ipykernel_launcher.py:129: DeprecationWarning: `np.bool` is a deprecated alias for the builtin `bool`. To silence this warning, use `bool` by itself. Doing this will not modify any behavior and is safe. If you specifically wanted the numpy scalar type, use `np.bool_` here.\n",
            "Deprecated in NumPy 1.20; for more details and guidance: https://numpy.org/devdocs/release/1.20.0-notes.html#deprecations\n"
          ]
        },
        {
          "output_type": "stream",
          "name": "stdout",
          "text": [
            "mask.shape, min(mask),max(mask): (480, 852, 1), 0,0\n",
            "rr.shape, min(rr),max(rr): (36766,), 121,340\n",
            "cc.shape, min(cc),max(cc): (36766,), 340,565\n",
            "After fixing the dirt mask, new values:\n",
            "rr.shape, min(rr),max(rr): (36766,), 121,340\n",
            "cc.shape, min(cc),max(cc): (36766,), 340,565\n"
          ]
        },
        {
          "output_type": "stream",
          "name": "stderr",
          "text": [
            "/usr/local/lib/python3.7/dist-packages/ipykernel_launcher.py:129: DeprecationWarning: `np.bool` is a deprecated alias for the builtin `bool`. To silence this warning, use `bool` by itself. Doing this will not modify any behavior and is safe. If you specifically wanted the numpy scalar type, use `np.bool_` here.\n",
            "Deprecated in NumPy 1.20; for more details and guidance: https://numpy.org/devdocs/release/1.20.0-notes.html#deprecations\n",
            "/usr/local/lib/python3.7/dist-packages/skimage/transform/_warps.py:830: FutureWarning: Input image dtype is bool. Interpolation is not defined with bool data type. Please set order to 0 or explicitely cast input image to another data type. Starting from version 0.19 a ValueError will be raised instead of this warning.\n",
            "  order = _validate_interpolation_order(image.dtype, order)\n",
            "/usr/local/lib/python3.7/dist-packages/skimage/transform/_warps.py:830: FutureWarning: Input image dtype is bool. Interpolation is not defined with bool data type. Please set order to 0 or explicitely cast input image to another data type. Starting from version 0.19 a ValueError will be raised instead of this warning.\n",
            "  order = _validate_interpolation_order(image.dtype, order)\n"
          ]
        },
        {
          "output_type": "stream",
          "name": "stdout",
          "text": [
            "mask.shape, min(mask),max(mask): (498, 500, 1), 0,0\n",
            "rr.shape, min(rr),max(rr): (32757,), 99,326\n",
            "cc.shape, min(cc),max(cc): (32757,), 33,247\n",
            "After fixing the dirt mask, new values:\n",
            "rr.shape, min(rr),max(rr): (32757,), 99,326\n",
            "cc.shape, min(cc),max(cc): (32757,), 33,247\n"
          ]
        },
        {
          "output_type": "stream",
          "name": "stderr",
          "text": [
            "/usr/local/lib/python3.7/dist-packages/ipykernel_launcher.py:129: DeprecationWarning: `np.bool` is a deprecated alias for the builtin `bool`. To silence this warning, use `bool` by itself. Doing this will not modify any behavior and is safe. If you specifically wanted the numpy scalar type, use `np.bool_` here.\n",
            "Deprecated in NumPy 1.20; for more details and guidance: https://numpy.org/devdocs/release/1.20.0-notes.html#deprecations\n",
            "/usr/local/lib/python3.7/dist-packages/skimage/transform/_warps.py:830: FutureWarning: Input image dtype is bool. Interpolation is not defined with bool data type. Please set order to 0 or explicitely cast input image to another data type. Starting from version 0.19 a ValueError will be raised instead of this warning.\n",
            "  order = _validate_interpolation_order(image.dtype, order)\n"
          ]
        },
        {
          "output_type": "stream",
          "name": "stdout",
          "text": [
            "\r 1/10 [==>...........................] - ETA: 1931s - loss: 2.1778 - rpn_class_loss: 0.0016 - rpn_bbox_loss: 0.0367 - mrcnn_class_loss: 0.1575 - mrcnn_bbox_loss: 0.8134 - mrcnn_mask_loss: 1.1686mask.shape, min(mask),max(mask): (750, 750, 5), 0,0\n",
            "rr.shape, min(rr),max(rr): (62548,), 158,421\n",
            "cc.shape, min(cc),max(cc): (62548,), 340,619\n",
            "After fixing the dirt mask, new values:\n",
            "rr.shape, min(rr),max(rr): (62548,), 158,421\n",
            "cc.shape, min(cc),max(cc): (62548,), 340,619\n",
            "mask.shape, min(mask),max(mask): (750, 750, 5), 0,1\n",
            "rr.shape, min(rr),max(rr): (56722,), 380,655\n",
            "cc.shape, min(cc),max(cc): (56722,), 441,702\n",
            "After fixing the dirt mask, new values:\n",
            "rr.shape, min(rr),max(rr): (56722,), 380,655\n",
            "cc.shape, min(cc),max(cc): (56722,), 441,702\n",
            "mask.shape, min(mask),max(mask): (750, 750, 5), 0,1\n",
            "rr.shape, min(rr),max(rr): (61219,), 202,471\n",
            "cc.shape, min(cc),max(cc): (61219,), 66,338\n",
            "After fixing the dirt mask, new values:\n",
            "rr.shape, min(rr),max(rr): (61219,), 202,471\n",
            "cc.shape, min(cc),max(cc): (61219,), 66,338\n",
            "mask.shape, min(mask),max(mask): (750, 750, 5), 0,1\n",
            "rr.shape, min(rr),max(rr): (59209,), 489,750\n",
            "cc.shape, min(cc),max(cc): (59209,), 83,361\n",
            "After fixing the dirt mask, new values:\n",
            "rr.shape, min(rr),max(rr): (59209,), 489,749\n",
            "cc.shape, min(cc),max(cc): (59209,), 83,361\n",
            "mask.shape, min(mask),max(mask): (750, 750, 5), 0,1\n",
            "rr.shape, min(rr),max(rr): (11042,), 158,332\n",
            "cc.shape, min(cc),max(cc): (11042,), 0,104\n",
            "After fixing the dirt mask, new values:\n",
            "rr.shape, min(rr),max(rr): (11042,), 158,332\n",
            "cc.shape, min(cc),max(cc): (11042,), 0,104\n"
          ]
        },
        {
          "output_type": "stream",
          "name": "stderr",
          "text": [
            "/usr/local/lib/python3.7/dist-packages/ipykernel_launcher.py:129: DeprecationWarning: `np.bool` is a deprecated alias for the builtin `bool`. To silence this warning, use `bool` by itself. Doing this will not modify any behavior and is safe. If you specifically wanted the numpy scalar type, use `np.bool_` here.\n",
            "Deprecated in NumPy 1.20; for more details and guidance: https://numpy.org/devdocs/release/1.20.0-notes.html#deprecations\n",
            "/usr/local/lib/python3.7/dist-packages/skimage/transform/_warps.py:830: FutureWarning: Input image dtype is bool. Interpolation is not defined with bool data type. Please set order to 0 or explicitely cast input image to another data type. Starting from version 0.19 a ValueError will be raised instead of this warning.\n",
            "  order = _validate_interpolation_order(image.dtype, order)\n"
          ]
        },
        {
          "output_type": "stream",
          "name": "stdout",
          "text": [
            "mask.shape, min(mask),max(mask): (1000, 1500, 1), 0,0\n",
            "rr.shape, min(rr),max(rr): (261242,), 439,1000\n",
            "cc.shape, min(cc),max(cc): (261242,), 564,1294\n",
            "After fixing the dirt mask, new values:\n",
            "rr.shape, min(rr),max(rr): (261242,), 439,999\n",
            "cc.shape, min(cc),max(cc): (261242,), 564,1294\n"
          ]
        },
        {
          "output_type": "stream",
          "name": "stderr",
          "text": [
            "/usr/local/lib/python3.7/dist-packages/ipykernel_launcher.py:129: DeprecationWarning: `np.bool` is a deprecated alias for the builtin `bool`. To silence this warning, use `bool` by itself. Doing this will not modify any behavior and is safe. If you specifically wanted the numpy scalar type, use `np.bool_` here.\n",
            "Deprecated in NumPy 1.20; for more details and guidance: https://numpy.org/devdocs/release/1.20.0-notes.html#deprecations\n",
            "/usr/local/lib/python3.7/dist-packages/skimage/transform/_warps.py:830: FutureWarning: Input image dtype is bool. Interpolation is not defined with bool data type. Please set order to 0 or explicitely cast input image to another data type. Starting from version 0.19 a ValueError will be raised instead of this warning.\n",
            "  order = _validate_interpolation_order(image.dtype, order)\n"
          ]
        },
        {
          "output_type": "stream",
          "name": "stdout",
          "text": [
            "\b\b\b\b\b\b\b\b\b\b\b\b\b\b\b\b\b\b\b\b\b\b\b\b\b\b\b\b\b\b\b\b\b\b\b\b\b\b\b\b\b\b\b\b\b\b\b\b\b\b\b\b\b\b\b\b\b\b\b\b\b\b\b\b\b\b\b\b\b\b\b\b\b\b\b\b\b\b\b\b\b\b\b\b\b\b\b\b\b\b\b\b\b\b\b\b\b\b\b\b\b\b\b\b\b\b\b\b\b\b\b\b\b\b\b\b\b\b\b\b\b\b\b\b\b\b\b\b\b\b\b\b\b\b\b\b\b\b\b\b\b\b\b\b\b\b\b\b\b\b\b\b\b\b\b\b\b\b\b\b\b\b\b\b\b\b\b\b\b\b\b\b\b\b\b\b\b\b\b\b\b\b\b\b\b\b\b\b\b\b\b\b\b\b\r 2/10 [=====>........................] - ETA: 1387s - loss: 2.6802 - rpn_class_loss: 0.0107 - rpn_bbox_loss: 0.3368 - mrcnn_class_loss: 0.3380 - mrcnn_bbox_loss: 0.8478 - mrcnn_mask_loss: 1.1469mask.shape, min(mask),max(mask): (1024, 1536, 1), 0,0\n",
            "rr.shape, min(rr),max(rr): (306741,), 189,823\n",
            "cc.shape, min(cc),max(cc): (306741,), 73,798\n",
            "After fixing the dirt mask, new values:\n",
            "rr.shape, min(rr),max(rr): (306741,), 189,823\n",
            "cc.shape, min(cc),max(cc): (306741,), 73,798\n"
          ]
        },
        {
          "output_type": "stream",
          "name": "stderr",
          "text": [
            "/usr/local/lib/python3.7/dist-packages/ipykernel_launcher.py:129: DeprecationWarning: `np.bool` is a deprecated alias for the builtin `bool`. To silence this warning, use `bool` by itself. Doing this will not modify any behavior and is safe. If you specifically wanted the numpy scalar type, use `np.bool_` here.\n",
            "Deprecated in NumPy 1.20; for more details and guidance: https://numpy.org/devdocs/release/1.20.0-notes.html#deprecations\n",
            "/usr/local/lib/python3.7/dist-packages/skimage/transform/_warps.py:830: FutureWarning: Input image dtype is bool. Interpolation is not defined with bool data type. Please set order to 0 or explicitely cast input image to another data type. Starting from version 0.19 a ValueError will be raised instead of this warning.\n",
            "  order = _validate_interpolation_order(image.dtype, order)\n"
          ]
        },
        {
          "output_type": "stream",
          "name": "stdout",
          "text": [
            "mask.shape, min(mask),max(mask): (400, 600, 2), 0,0\n",
            "rr.shape, min(rr),max(rr): (23604,), 141,325\n",
            "cc.shape, min(cc),max(cc): (23604,), 321,511\n",
            "After fixing the dirt mask, new values:\n",
            "rr.shape, min(rr),max(rr): (23604,), 141,325\n",
            "cc.shape, min(cc),max(cc): (23604,), 321,511\n",
            "mask.shape, min(mask),max(mask): (400, 600, 2), 0,1\n",
            "rr.shape, min(rr),max(rr): (19192,), 149,309\n",
            "cc.shape, min(cc),max(cc): (19192,), 53,210\n",
            "After fixing the dirt mask, new values:\n",
            "rr.shape, min(rr),max(rr): (19192,), 149,309\n",
            "cc.shape, min(cc),max(cc): (19192,), 53,210\n"
          ]
        },
        {
          "output_type": "stream",
          "name": "stderr",
          "text": [
            "/usr/local/lib/python3.7/dist-packages/ipykernel_launcher.py:129: DeprecationWarning: `np.bool` is a deprecated alias for the builtin `bool`. To silence this warning, use `bool` by itself. Doing this will not modify any behavior and is safe. If you specifically wanted the numpy scalar type, use `np.bool_` here.\n",
            "Deprecated in NumPy 1.20; for more details and guidance: https://numpy.org/devdocs/release/1.20.0-notes.html#deprecations\n",
            "/usr/local/lib/python3.7/dist-packages/skimage/transform/_warps.py:830: FutureWarning: Input image dtype is bool. Interpolation is not defined with bool data type. Please set order to 0 or explicitely cast input image to another data type. Starting from version 0.19 a ValueError will be raised instead of this warning.\n",
            "  order = _validate_interpolation_order(image.dtype, order)\n"
          ]
        },
        {
          "output_type": "stream",
          "name": "stdout",
          "text": [
            "\b\b\b\b\b\b\b\b\b\b\b\b\b\b\b\b\b\b\b\b\b\b\b\b\b\b\b\b\b\b\b\b\b\b\b\b\b\b\b\b\b\b\b\b\b\b\b\b\b\b\b\b\b\b\b\b\b\b\b\b\b\b\b\b\b\b\b\b\b\b\b\b\b\b\b\b\b\b\b\b\b\b\b\b\b\b\b\b\b\b\b\b\b\b\b\b\b\b\b\b\b\b\b\b\b\b\b\b\b\b\b\b\b\b\b\b\b\b\b\b\b\b\b\b\b\b\b\b\b\b\b\b\b\b\b\b\b\b\b\b\b\b\b\b\b\b\b\b\b\b\b\b\b\b\b\b\b\b\b\b\b\b\b\b\b\b\b\b\b\b\b\b\b\b\b\b\b\b\b\b\b\b\b\b\b\b\b\b\b\b\b\b\b\b\r 3/10 [========>.....................] - ETA: 1119s - loss: 2.8333 - rpn_class_loss: 0.0155 - rpn_bbox_loss: 0.4496 - mrcnn_class_loss: 0.3024 - mrcnn_bbox_loss: 0.8733 - mrcnn_mask_loss: 1.1924mask.shape, min(mask),max(mask): (833, 1024, 2), 0,0\n",
            "rr.shape, min(rr),max(rr): (31513,), 114,322\n",
            "cc.shape, min(cc),max(cc): (31513,), 62,263\n",
            "After fixing the dirt mask, new values:\n",
            "rr.shape, min(rr),max(rr): (31513,), 114,322\n",
            "cc.shape, min(cc),max(cc): (31513,), 62,263\n",
            "mask.shape, min(mask),max(mask): (833, 1024, 2), 0,1\n",
            "rr.shape, min(rr),max(rr): (29853,), 101,305\n",
            "cc.shape, min(cc),max(cc): (29853,), 756,959\n",
            "After fixing the dirt mask, new values:\n",
            "rr.shape, min(rr),max(rr): (29853,), 101,305\n",
            "cc.shape, min(cc),max(cc): (29853,), 756,959\n"
          ]
        },
        {
          "output_type": "stream",
          "name": "stderr",
          "text": [
            "/usr/local/lib/python3.7/dist-packages/ipykernel_launcher.py:129: DeprecationWarning: `np.bool` is a deprecated alias for the builtin `bool`. To silence this warning, use `bool` by itself. Doing this will not modify any behavior and is safe. If you specifically wanted the numpy scalar type, use `np.bool_` here.\n",
            "Deprecated in NumPy 1.20; for more details and guidance: https://numpy.org/devdocs/release/1.20.0-notes.html#deprecations\n",
            "/usr/local/lib/python3.7/dist-packages/skimage/transform/_warps.py:830: FutureWarning: Input image dtype is bool. Interpolation is not defined with bool data type. Please set order to 0 or explicitely cast input image to another data type. Starting from version 0.19 a ValueError will be raised instead of this warning.\n",
            "  order = _validate_interpolation_order(image.dtype, order)\n"
          ]
        },
        {
          "output_type": "stream",
          "name": "stdout",
          "text": [
            "mask.shape, min(mask),max(mask): (454, 633, 6), 0,0\n",
            "rr.shape, min(rr),max(rr): (12942,), 123,246\n",
            "cc.shape, min(cc),max(cc): (12942,), 3,127\n",
            "After fixing the dirt mask, new values:\n",
            "rr.shape, min(rr),max(rr): (12942,), 123,246\n",
            "cc.shape, min(cc),max(cc): (12942,), 3,127\n",
            "mask.shape, min(mask),max(mask): (454, 633, 6), 0,1\n",
            "rr.shape, min(rr),max(rr): (11892,), 294,447\n",
            "cc.shape, min(cc),max(cc): (11892,), 174,297\n",
            "After fixing the dirt mask, new values:\n",
            "rr.shape, min(rr),max(rr): (11892,), 294,447\n",
            "cc.shape, min(cc),max(cc): (11892,), 174,297\n",
            "mask.shape, min(mask),max(mask): (454, 633, 6), 0,1\n",
            "rr.shape, min(rr),max(rr): (11238,), 329,453\n",
            "cc.shape, min(cc),max(cc): (11238,), 382,490\n",
            "After fixing the dirt mask, new values:\n",
            "rr.shape, min(rr),max(rr): (11238,), 329,453\n",
            "cc.shape, min(cc),max(cc): (11238,), 382,490\n",
            "mask.shape, min(mask),max(mask): (454, 633, 6), 0,1\n",
            "rr.shape, min(rr),max(rr): (11314,), 210,345\n",
            "cc.shape, min(cc),max(cc): (11314,), 322,428\n",
            "After fixing the dirt mask, new values:\n",
            "rr.shape, min(rr),max(rr): (11314,), 210,345\n",
            "cc.shape, min(cc),max(cc): (11314,), 322,428\n",
            "mask.shape, min(mask),max(mask): (454, 633, 6), 0,1\n",
            "rr.shape, min(rr),max(rr): (12598,), 73,200\n",
            "cc.shape, min(cc),max(cc): (12598,), 382,501\n",
            "After fixing the dirt mask, new values:\n",
            "rr.shape, min(rr),max(rr): (12598,), 73,200\n",
            "cc.shape, min(cc),max(cc): (12598,), 382,501\n",
            "mask.shape, min(mask),max(mask): (454, 633, 6), 0,1\n",
            "rr.shape, min(rr),max(rr): (3942,), 328,430\n",
            "cc.shape, min(cc),max(cc): (3942,), 534,616\n",
            "After fixing the dirt mask, new values:\n",
            "rr.shape, min(rr),max(rr): (3942,), 328,430\n",
            "cc.shape, min(cc),max(cc): (3942,), 534,616\n"
          ]
        },
        {
          "output_type": "stream",
          "name": "stderr",
          "text": [
            "/usr/local/lib/python3.7/dist-packages/ipykernel_launcher.py:129: DeprecationWarning: `np.bool` is a deprecated alias for the builtin `bool`. To silence this warning, use `bool` by itself. Doing this will not modify any behavior and is safe. If you specifically wanted the numpy scalar type, use `np.bool_` here.\n",
            "Deprecated in NumPy 1.20; for more details and guidance: https://numpy.org/devdocs/release/1.20.0-notes.html#deprecations\n",
            "/usr/local/lib/python3.7/dist-packages/skimage/transform/_warps.py:830: FutureWarning: Input image dtype is bool. Interpolation is not defined with bool data type. Please set order to 0 or explicitely cast input image to another data type. Starting from version 0.19 a ValueError will be raised instead of this warning.\n",
            "  order = _validate_interpolation_order(image.dtype, order)\n"
          ]
        },
        {
          "output_type": "stream",
          "name": "stdout",
          "text": [
            "\b\b\b\b\b\b\b\b\b\b\b\b\b\b\b\b\b\b\b\b\b\b\b\b\b\b\b\b\b\b\b\b\b\b\b\b\b\b\b\b\b\b\b\b\b\b\b\b\b\b\b\b\b\b\b\b\b\b\b\b\b\b\b\b\b\b\b\b\b\b\b\b\b\b\b\b\b\b\b\b\b\b\b\b\b\b\b\b\b\b\b\b\b\b\b\b\b\b\b\b\b\b\b\b\b\b\b\b\b\b\b\b\b\b\b\b\b\b\b\b\b\b\b\b\b\b\b\b\b\b\b\b\b\b\b\b\b\b\b\b\b\b\b\b\b\b\b\b\b\b\b\b\b\b\b\b\b\b\b\b\b\b\b\b\b\b\b\b\b\b\b\b\b\b\b\b\b\b\b\b\b\b\b\b\b\b\b\b\b\b\b\b\b\b\r 4/10 [===========>..................] - ETA: 915s - loss: 2.6780 - rpn_class_loss: 0.0142 - rpn_bbox_loss: 0.3610 - mrcnn_class_loss: 0.2633 - mrcnn_bbox_loss: 0.8764 - mrcnn_mask_loss: 1.1632 mask.shape, min(mask),max(mask): (1700, 2400, 1), 0,0\n",
            "rr.shape, min(rr),max(rr): (463059,), 608,1387\n",
            "cc.shape, min(cc),max(cc): (463059,), 242,992\n",
            "After fixing the dirt mask, new values:\n",
            "rr.shape, min(rr),max(rr): (463059,), 608,1387\n",
            "cc.shape, min(cc),max(cc): (463059,), 242,992\n"
          ]
        },
        {
          "output_type": "stream",
          "name": "stderr",
          "text": [
            "/usr/local/lib/python3.7/dist-packages/ipykernel_launcher.py:129: DeprecationWarning: `np.bool` is a deprecated alias for the builtin `bool`. To silence this warning, use `bool` by itself. Doing this will not modify any behavior and is safe. If you specifically wanted the numpy scalar type, use `np.bool_` here.\n",
            "Deprecated in NumPy 1.20; for more details and guidance: https://numpy.org/devdocs/release/1.20.0-notes.html#deprecations\n",
            "/usr/local/lib/python3.7/dist-packages/skimage/transform/_warps.py:830: FutureWarning: Input image dtype is bool. Interpolation is not defined with bool data type. Please set order to 0 or explicitely cast input image to another data type. Starting from version 0.19 a ValueError will be raised instead of this warning.\n",
            "  order = _validate_interpolation_order(image.dtype, order)\n"
          ]
        },
        {
          "output_type": "stream",
          "name": "stdout",
          "text": [
            "mask.shape, min(mask),max(mask): (1067, 1600, 1), 0,0\n",
            "rr.shape, min(rr),max(rr): (77179,), 7,344\n",
            "cc.shape, min(cc),max(cc): (77179,), 906,1260\n",
            "After fixing the dirt mask, new values:\n",
            "rr.shape, min(rr),max(rr): (77179,), 7,344\n",
            "cc.shape, min(cc),max(cc): (77179,), 906,1260\n"
          ]
        },
        {
          "output_type": "stream",
          "name": "stderr",
          "text": [
            "/usr/local/lib/python3.7/dist-packages/ipykernel_launcher.py:129: DeprecationWarning: `np.bool` is a deprecated alias for the builtin `bool`. To silence this warning, use `bool` by itself. Doing this will not modify any behavior and is safe. If you specifically wanted the numpy scalar type, use `np.bool_` here.\n",
            "Deprecated in NumPy 1.20; for more details and guidance: https://numpy.org/devdocs/release/1.20.0-notes.html#deprecations\n",
            "/usr/local/lib/python3.7/dist-packages/skimage/transform/_warps.py:830: FutureWarning: Input image dtype is bool. Interpolation is not defined with bool data type. Please set order to 0 or explicitely cast input image to another data type. Starting from version 0.19 a ValueError will be raised instead of this warning.\n",
            "  order = _validate_interpolation_order(image.dtype, order)\n"
          ]
        },
        {
          "output_type": "stream",
          "name": "stdout",
          "text": [
            "\b\b\b\b\b\b\b\b\b\b\b\b\b\b\b\b\b\b\b\b\b\b\b\b\b\b\b\b\b\b\b\b\b\b\b\b\b\b\b\b\b\b\b\b\b\b\b\b\b\b\b\b\b\b\b\b\b\b\b\b\b\b\b\b\b\b\b\b\b\b\b\b\b\b\b\b\b\b\b\b\b\b\b\b\b\b\b\b\b\b\b\b\b\b\b\b\b\b\b\b\b\b\b\b\b\b\b\b\b\b\b\b\b\b\b\b\b\b\b\b\b\b\b\b\b\b\b\b\b\b\b\b\b\b\b\b\b\b\b\b\b\b\b\b\b\b\b\b\b\b\b\b\b\b\b\b\b\b\b\b\b\b\b\b\b\b\b\b\b\b\b\b\b\b\b\b\b\b\b\b\b\b\b\b\b\b\b\b\b\b\b\b\b\r 5/10 [==============>...............] - ETA: 742s - loss: 2.5660 - rpn_class_loss: 0.0114 - rpn_bbox_loss: 0.3306 - mrcnn_class_loss: 0.2368 - mrcnn_bbox_loss: 0.8620 - mrcnn_mask_loss: 1.1251mask.shape, min(mask),max(mask): (1440, 2560, 1), 0,0\n",
            "rr.shape, min(rr),max(rr): (206108,), 125,592\n",
            "cc.shape, min(cc),max(cc): (206108,), 965,1545\n",
            "After fixing the dirt mask, new values:\n",
            "rr.shape, min(rr),max(rr): (206108,), 125,592\n",
            "cc.shape, min(cc),max(cc): (206108,), 965,1545\n"
          ]
        },
        {
          "output_type": "stream",
          "name": "stderr",
          "text": [
            "/usr/local/lib/python3.7/dist-packages/ipykernel_launcher.py:129: DeprecationWarning: `np.bool` is a deprecated alias for the builtin `bool`. To silence this warning, use `bool` by itself. Doing this will not modify any behavior and is safe. If you specifically wanted the numpy scalar type, use `np.bool_` here.\n",
            "Deprecated in NumPy 1.20; for more details and guidance: https://numpy.org/devdocs/release/1.20.0-notes.html#deprecations\n",
            "/usr/local/lib/python3.7/dist-packages/skimage/transform/_warps.py:830: FutureWarning: Input image dtype is bool. Interpolation is not defined with bool data type. Please set order to 0 or explicitely cast input image to another data type. Starting from version 0.19 a ValueError will be raised instead of this warning.\n",
            "  order = _validate_interpolation_order(image.dtype, order)\n"
          ]
        },
        {
          "output_type": "stream",
          "name": "stdout",
          "text": [
            "mask.shape, min(mask),max(mask): (2048, 1365, 1), 0,0\n",
            "rr.shape, min(rr),max(rr): (15588,), 987,1130\n",
            "cc.shape, min(cc),max(cc): (15588,), 342,485\n",
            "After fixing the dirt mask, new values:\n",
            "rr.shape, min(rr),max(rr): (15588,), 987,1130\n",
            "cc.shape, min(cc),max(cc): (15588,), 342,485\n"
          ]
        },
        {
          "output_type": "stream",
          "name": "stderr",
          "text": [
            "/usr/local/lib/python3.7/dist-packages/ipykernel_launcher.py:129: DeprecationWarning: `np.bool` is a deprecated alias for the builtin `bool`. To silence this warning, use `bool` by itself. Doing this will not modify any behavior and is safe. If you specifically wanted the numpy scalar type, use `np.bool_` here.\n",
            "Deprecated in NumPy 1.20; for more details and guidance: https://numpy.org/devdocs/release/1.20.0-notes.html#deprecations\n",
            "/usr/local/lib/python3.7/dist-packages/skimage/transform/_warps.py:830: FutureWarning: Input image dtype is bool. Interpolation is not defined with bool data type. Please set order to 0 or explicitely cast input image to another data type. Starting from version 0.19 a ValueError will be raised instead of this warning.\n",
            "  order = _validate_interpolation_order(image.dtype, order)\n"
          ]
        },
        {
          "output_type": "stream",
          "name": "stdout",
          "text": [
            "\b\b\b\b\b\b\b\b\b\b\b\b\b\b\b\b\b\b\b\b\b\b\b\b\b\b\b\b\b\b\b\b\b\b\b\b\b\b\b\b\b\b\b\b\b\b\b\b\b\b\b\b\b\b\b\b\b\b\b\b\b\b\b\b\b\b\b\b\b\b\b\b\b\b\b\b\b\b\b\b\b\b\b\b\b\b\b\b\b\b\b\b\b\b\b\b\b\b\b\b\b\b\b\b\b\b\b\b\b\b\b\b\b\b\b\b\b\b\b\b\b\b\b\b\b\b\b\b\b\b\b\b\b\b\b\b\b\b\b\b\b\b\b\b\b\b\b\b\b\b\b\b\b\b\b\b\b\b\b\b\b\b\b\b\b\b\b\b\b\b\b\b\b\b\b\b\b\b\b\b\b\b\b\b\b\b\b\b\b\b\b\b\b\r 6/10 [=================>............] - ETA: 582s - loss: 2.4967 - rpn_class_loss: 0.0109 - rpn_bbox_loss: 0.3093 - mrcnn_class_loss: 0.2125 - mrcnn_bbox_loss: 0.8957 - mrcnn_mask_loss: 1.0684mask.shape, min(mask),max(mask): (1080, 810, 4), 0,0\n",
            "rr.shape, min(rr),max(rr): (64917,), 138,415\n",
            "cc.shape, min(cc),max(cc): (64917,), 184,479\n",
            "After fixing the dirt mask, new values:\n",
            "rr.shape, min(rr),max(rr): (64917,), 138,415\n",
            "cc.shape, min(cc),max(cc): (64917,), 184,479\n",
            "mask.shape, min(mask),max(mask): (1080, 810, 4), 0,1\n",
            "rr.shape, min(rr),max(rr): (52268,), 353,646\n",
            "cc.shape, min(cc),max(cc): (52268,), 388,621\n",
            "After fixing the dirt mask, new values:\n",
            "rr.shape, min(rr),max(rr): (52268,), 353,646\n",
            "cc.shape, min(cc),max(cc): (52268,), 388,621\n",
            "mask.shape, min(mask),max(mask): (1080, 810, 4), 0,1\n",
            "rr.shape, min(rr),max(rr): (46497,), 652,901\n",
            "cc.shape, min(cc),max(cc): (46497,), 384,635\n",
            "After fixing the dirt mask, new values:\n",
            "rr.shape, min(rr),max(rr): (46497,), 652,901\n",
            "cc.shape, min(cc),max(cc): (46497,), 384,635\n",
            "mask.shape, min(mask),max(mask): (1080, 810, 4), 0,1\n",
            "rr.shape, min(rr),max(rr): (42167,), 395,645\n",
            "cc.shape, min(cc),max(cc): (42167,), 168,397\n",
            "After fixing the dirt mask, new values:\n",
            "rr.shape, min(rr),max(rr): (42167,), 395,645\n",
            "cc.shape, min(cc),max(cc): (42167,), 168,397\n"
          ]
        },
        {
          "output_type": "stream",
          "name": "stderr",
          "text": [
            "/usr/local/lib/python3.7/dist-packages/ipykernel_launcher.py:129: DeprecationWarning: `np.bool` is a deprecated alias for the builtin `bool`. To silence this warning, use `bool` by itself. Doing this will not modify any behavior and is safe. If you specifically wanted the numpy scalar type, use `np.bool_` here.\n",
            "Deprecated in NumPy 1.20; for more details and guidance: https://numpy.org/devdocs/release/1.20.0-notes.html#deprecations\n",
            "/usr/local/lib/python3.7/dist-packages/skimage/transform/_warps.py:830: FutureWarning: Input image dtype is bool. Interpolation is not defined with bool data type. Please set order to 0 or explicitely cast input image to another data type. Starting from version 0.19 a ValueError will be raised instead of this warning.\n",
            "  order = _validate_interpolation_order(image.dtype, order)\n"
          ]
        },
        {
          "output_type": "stream",
          "name": "stdout",
          "text": [
            "mask.shape, min(mask),max(mask): (1196, 858, 1), 0,0\n",
            "rr.shape, min(rr),max(rr): (319855,), 261,926\n",
            "cc.shape, min(cc),max(cc): (319855,), 140,855\n",
            "After fixing the dirt mask, new values:\n",
            "rr.shape, min(rr),max(rr): (319855,), 261,926\n",
            "cc.shape, min(cc),max(cc): (319855,), 140,855\n"
          ]
        },
        {
          "output_type": "stream",
          "name": "stderr",
          "text": [
            "/usr/local/lib/python3.7/dist-packages/ipykernel_launcher.py:129: DeprecationWarning: `np.bool` is a deprecated alias for the builtin `bool`. To silence this warning, use `bool` by itself. Doing this will not modify any behavior and is safe. If you specifically wanted the numpy scalar type, use `np.bool_` here.\n",
            "Deprecated in NumPy 1.20; for more details and guidance: https://numpy.org/devdocs/release/1.20.0-notes.html#deprecations\n",
            "/usr/local/lib/python3.7/dist-packages/skimage/transform/_warps.py:830: FutureWarning: Input image dtype is bool. Interpolation is not defined with bool data type. Please set order to 0 or explicitely cast input image to another data type. Starting from version 0.19 a ValueError will be raised instead of this warning.\n",
            "  order = _validate_interpolation_order(image.dtype, order)\n"
          ]
        },
        {
          "output_type": "stream",
          "name": "stdout",
          "text": [
            "\b\b\b\b\b\b\b\b\b\b\b\b\b\b\b\b\b\b\b\b\b\b\b\b\b\b\b\b\b\b\b\b\b\b\b\b\b\b\b\b\b\b\b\b\b\b\b\b\b\b\b\b\b\b\b\b\b\b\b\b\b\b\b\b\b\b\b\b\b\b\b\b\b\b\b\b\b\b\b\b\b\b\b\b\b\b\b\b\b\b\b\b\b\b\b\b\b\b\b\b\b\b\b\b\b\b\b\b\b\b\b\b\b\b\b\b\b\b\b\b\b\b\b\b\b\b\b\b\b\b\b\b\b\b\b\b\b\b\b\b\b\b\b\b\b\b\b\b\b\b\b\b\b\b\b\b\b\b\b\b\b\b\b\b\b\b\b\b\b\b\b\b\b\b\b\b\b\b\b\b\b\b\b\b\b\b\b\b\b\b\b\b\b\r 7/10 [====================>.........] - ETA: 430s - loss: 2.4767 - rpn_class_loss: 0.0109 - rpn_bbox_loss: 0.3269 - mrcnn_class_loss: 0.1894 - mrcnn_bbox_loss: 0.9176 - mrcnn_mask_loss: 1.0320mask.shape, min(mask),max(mask): (1024, 1024, 1), 0,0\n",
            "rr.shape, min(rr),max(rr): (140090,), 517,984\n",
            "cc.shape, min(cc),max(cc): (140090,), 74,434\n",
            "After fixing the dirt mask, new values:\n",
            "rr.shape, min(rr),max(rr): (140090,), 517,984\n",
            "cc.shape, min(cc),max(cc): (140090,), 74,434\n"
          ]
        },
        {
          "output_type": "stream",
          "name": "stderr",
          "text": [
            "/usr/local/lib/python3.7/dist-packages/ipykernel_launcher.py:129: DeprecationWarning: `np.bool` is a deprecated alias for the builtin `bool`. To silence this warning, use `bool` by itself. Doing this will not modify any behavior and is safe. If you specifically wanted the numpy scalar type, use `np.bool_` here.\n",
            "Deprecated in NumPy 1.20; for more details and guidance: https://numpy.org/devdocs/release/1.20.0-notes.html#deprecations\n",
            "/usr/local/lib/python3.7/dist-packages/skimage/transform/_warps.py:830: FutureWarning: Input image dtype is bool. Interpolation is not defined with bool data type. Please set order to 0 or explicitely cast input image to another data type. Starting from version 0.19 a ValueError will be raised instead of this warning.\n",
            "  order = _validate_interpolation_order(image.dtype, order)\n"
          ]
        },
        {
          "output_type": "stream",
          "name": "stdout",
          "text": [
            "mask.shape, min(mask),max(mask): (550, 550, 1), 0,0\n",
            "rr.shape, min(rr),max(rr): (41666,), 169,425\n",
            "cc.shape, min(cc),max(cc): (41666,), 315,524\n",
            "After fixing the dirt mask, new values:\n",
            "rr.shape, min(rr),max(rr): (41666,), 169,425\n",
            "cc.shape, min(cc),max(cc): (41666,), 315,524\n"
          ]
        },
        {
          "output_type": "stream",
          "name": "stderr",
          "text": [
            "/usr/local/lib/python3.7/dist-packages/ipykernel_launcher.py:129: DeprecationWarning: `np.bool` is a deprecated alias for the builtin `bool`. To silence this warning, use `bool` by itself. Doing this will not modify any behavior and is safe. If you specifically wanted the numpy scalar type, use `np.bool_` here.\n",
            "Deprecated in NumPy 1.20; for more details and guidance: https://numpy.org/devdocs/release/1.20.0-notes.html#deprecations\n",
            "/usr/local/lib/python3.7/dist-packages/skimage/transform/_warps.py:830: FutureWarning: Input image dtype is bool. Interpolation is not defined with bool data type. Please set order to 0 or explicitely cast input image to another data type. Starting from version 0.19 a ValueError will be raised instead of this warning.\n",
            "  order = _validate_interpolation_order(image.dtype, order)\n"
          ]
        },
        {
          "output_type": "stream",
          "name": "stdout",
          "text": [
            "\b\b\b\b\b\b\b\b\b\b\b\b\b\b\b\b\b\b\b\b\b\b\b\b\b\b\b\b\b\b\b\b\b\b\b\b\b\b\b\b\b\b\b\b\b\b\b\b\b\b\b\b\b\b\b\b\b\b\b\b\b\b\b\b\b\b\b\b\b\b\b\b\b\b\b\b\b\b\b\b\b\b\b\b\b\b\b\b\b\b\b\b\b\b\b\b\b\b\b\b\b\b\b\b\b\b\b\b\b\b\b\b\b\b\b\b\b\b\b\b\b\b\b\b\b\b\b\b\b\b\b\b\b\b\b\b\b\b\b\b\b\b\b\b\b\b\b\b\b\b\b\b\b\b\b\b\b\b\b\b\b\b\b\b\b\b\b\b\b\b\b\b\b\b\b\b\b\b\b\b\b\b\b\b\b\b\b\b\b\b\b\b\b\r 8/10 [=======================>......] - ETA: 284s - loss: 2.3845 - rpn_class_loss: 0.0101 - rpn_bbox_loss: 0.3193 - mrcnn_class_loss: 0.1683 - mrcnn_bbox_loss: 0.8954 - mrcnn_mask_loss: 0.9914mask.shape, min(mask),max(mask): (375, 500, 1), 0,0\n",
            "rr.shape, min(rr),max(rr): (13318,), 69,215\n",
            "cc.shape, min(cc),max(cc): (13318,), 16,170\n",
            "After fixing the dirt mask, new values:\n",
            "rr.shape, min(rr),max(rr): (13318,), 69,215\n",
            "cc.shape, min(cc),max(cc): (13318,), 16,170\n"
          ]
        },
        {
          "output_type": "stream",
          "name": "stderr",
          "text": [
            "/usr/local/lib/python3.7/dist-packages/ipykernel_launcher.py:129: DeprecationWarning: `np.bool` is a deprecated alias for the builtin `bool`. To silence this warning, use `bool` by itself. Doing this will not modify any behavior and is safe. If you specifically wanted the numpy scalar type, use `np.bool_` here.\n",
            "Deprecated in NumPy 1.20; for more details and guidance: https://numpy.org/devdocs/release/1.20.0-notes.html#deprecations\n",
            "/usr/local/lib/python3.7/dist-packages/skimage/transform/_warps.py:830: FutureWarning: Input image dtype is bool. Interpolation is not defined with bool data type. Please set order to 0 or explicitely cast input image to another data type. Starting from version 0.19 a ValueError will be raised instead of this warning.\n",
            "  order = _validate_interpolation_order(image.dtype, order)\n"
          ]
        },
        {
          "output_type": "stream",
          "name": "stdout",
          "text": [
            "mask.shape, min(mask),max(mask): (640, 640, 3), 0,0\n",
            "rr.shape, min(rr),max(rr): (34105,), 436,639\n",
            "cc.shape, min(cc),max(cc): (34105,), 299,508\n",
            "After fixing the dirt mask, new values:\n",
            "rr.shape, min(rr),max(rr): (34105,), 436,639\n",
            "cc.shape, min(cc),max(cc): (34105,), 299,508\n",
            "mask.shape, min(mask),max(mask): (640, 640, 3), 0,1\n",
            "rr.shape, min(rr),max(rr): (38334,), 332,611\n",
            "cc.shape, min(cc),max(cc): (38334,), 139,356\n",
            "After fixing the dirt mask, new values:\n",
            "rr.shape, min(rr),max(rr): (38334,), 332,611\n",
            "cc.shape, min(cc),max(cc): (38334,), 139,356\n",
            "mask.shape, min(mask),max(mask): (640, 640, 3), 0,1\n",
            "rr.shape, min(rr),max(rr): (36504,), 126,346\n",
            "cc.shape, min(cc),max(cc): (36504,), 196,421\n",
            "After fixing the dirt mask, new values:\n",
            "rr.shape, min(rr),max(rr): (36504,), 126,346\n",
            "cc.shape, min(cc),max(cc): (36504,), 196,421\n"
          ]
        },
        {
          "output_type": "stream",
          "name": "stderr",
          "text": [
            "/usr/local/lib/python3.7/dist-packages/ipykernel_launcher.py:129: DeprecationWarning: `np.bool` is a deprecated alias for the builtin `bool`. To silence this warning, use `bool` by itself. Doing this will not modify any behavior and is safe. If you specifically wanted the numpy scalar type, use `np.bool_` here.\n",
            "Deprecated in NumPy 1.20; for more details and guidance: https://numpy.org/devdocs/release/1.20.0-notes.html#deprecations\n",
            "/usr/local/lib/python3.7/dist-packages/skimage/transform/_warps.py:830: FutureWarning: Input image dtype is bool. Interpolation is not defined with bool data type. Please set order to 0 or explicitely cast input image to another data type. Starting from version 0.19 a ValueError will be raised instead of this warning.\n",
            "  order = _validate_interpolation_order(image.dtype, order)\n"
          ]
        },
        {
          "output_type": "stream",
          "name": "stdout",
          "text": [
            "\b\b\b\b\b\b\b\b\b\b\b\b\b\b\b\b\b\b\b\b\b\b\b\b\b\b\b\b\b\b\b\b\b\b\b\b\b\b\b\b\b\b\b\b\b\b\b\b\b\b\b\b\b\b\b\b\b\b\b\b\b\b\b\b\b\b\b\b\b\b\b\b\b\b\b\b\b\b\b\b\b\b\b\b\b\b\b\b\b\b\b\b\b\b\b\b\b\b\b\b\b\b\b\b\b\b\b\b\b\b\b\b\b\b\b\b\b\b\b\b\b\b\b\b\b\b\b\b\b\b\b\b\b\b\b\b\b\b\b\b\b\b\b\b\b\b\b\b\b\b\b\b\b\b\b\b\b\b\b\b\b\b\b\b\b\b\b\b\b\b\b\b\b\b\b\b\b\b\b\b\b\b\b\b\b\b\b\b\b\b\b\b\b\r 9/10 [==========================>...] - ETA: 141s - loss: 2.2637 - rpn_class_loss: 0.0101 - rpn_bbox_loss: 0.2951 - mrcnn_class_loss: 0.1601 - mrcnn_bbox_loss: 0.8455 - mrcnn_mask_loss: 0.9529mask.shape, min(mask),max(mask): (640, 572, 1), 0,0\n",
            "rr.shape, min(rr),max(rr): (223009,), 35,607\n",
            "cc.shape, min(cc),max(cc): (223009,), 35,537\n",
            "After fixing the dirt mask, new values:\n",
            "rr.shape, min(rr),max(rr): (223009,), 35,607\n",
            "cc.shape, min(cc),max(cc): (223009,), 35,537\n"
          ]
        },
        {
          "output_type": "stream",
          "name": "stderr",
          "text": [
            "/usr/local/lib/python3.7/dist-packages/ipykernel_launcher.py:129: DeprecationWarning: `np.bool` is a deprecated alias for the builtin `bool`. To silence this warning, use `bool` by itself. Doing this will not modify any behavior and is safe. If you specifically wanted the numpy scalar type, use `np.bool_` here.\n",
            "Deprecated in NumPy 1.20; for more details and guidance: https://numpy.org/devdocs/release/1.20.0-notes.html#deprecations\n",
            "/usr/local/lib/python3.7/dist-packages/skimage/transform/_warps.py:830: FutureWarning: Input image dtype is bool. Interpolation is not defined with bool data type. Please set order to 0 or explicitely cast input image to another data type. Starting from version 0.19 a ValueError will be raised instead of this warning.\n",
            "  order = _validate_interpolation_order(image.dtype, order)\n"
          ]
        },
        {
          "output_type": "stream",
          "name": "stdout",
          "text": [
            "mask.shape, min(mask),max(mask): (1357, 1900, 2), 0,0\n",
            "rr.shape, min(rr),max(rr): (365294,), 4,971\n",
            "cc.shape, min(cc),max(cc): (365294,), 877,1578\n",
            "After fixing the dirt mask, new values:\n",
            "rr.shape, min(rr),max(rr): (365294,), 4,971\n",
            "cc.shape, min(cc),max(cc): (365294,), 877,1578\n",
            "mask.shape, min(mask),max(mask): (1357, 1900, 2), 0,1\n",
            "rr.shape, min(rr),max(rr): (318279,), 328,1107\n",
            "cc.shape, min(cc),max(cc): (318279,), 145,824\n",
            "After fixing the dirt mask, new values:\n",
            "rr.shape, min(rr),max(rr): (318279,), 328,1107\n",
            "cc.shape, min(cc),max(cc): (318279,), 145,824\n"
          ]
        },
        {
          "output_type": "stream",
          "name": "stderr",
          "text": [
            "/usr/local/lib/python3.7/dist-packages/ipykernel_launcher.py:129: DeprecationWarning: `np.bool` is a deprecated alias for the builtin `bool`. To silence this warning, use `bool` by itself. Doing this will not modify any behavior and is safe. If you specifically wanted the numpy scalar type, use `np.bool_` here.\n",
            "Deprecated in NumPy 1.20; for more details and guidance: https://numpy.org/devdocs/release/1.20.0-notes.html#deprecations\n",
            "/usr/local/lib/python3.7/dist-packages/skimage/transform/_warps.py:830: FutureWarning: Input image dtype is bool. Interpolation is not defined with bool data type. Please set order to 0 or explicitely cast input image to another data type. Starting from version 0.19 a ValueError will be raised instead of this warning.\n",
            "  order = _validate_interpolation_order(image.dtype, order)\n",
            "/usr/local/lib/python3.7/dist-packages/keras/engine/training.py:2142: UserWarning: Using a generator with `use_multiprocessing=True` and multiple workers may duplicate your data. Please consider using the`keras.utils.Sequence class.\n",
            "  UserWarning('Using a generator with `use_multiprocessing=True`'\n"
          ]
        },
        {
          "output_type": "stream",
          "name": "stdout",
          "text": [
            "mask.shape, min(mask),max(mask): (1024, 1024, 1), 0,0\n",
            "rr.shape, min(rr),max(rr): (140090,), 517,984\n",
            "cc.shape, min(cc),max(cc): (140090,), 74,434\n",
            "After fixing the dirt mask, new values:\n",
            "rr.shape, min(rr),max(rr): (140090,), 517,984\n",
            "cc.shape, min(cc),max(cc): (140090,), 74,434\n"
          ]
        },
        {
          "output_type": "stream",
          "name": "stderr",
          "text": [
            "/usr/local/lib/python3.7/dist-packages/ipykernel_launcher.py:129: DeprecationWarning: `np.bool` is a deprecated alias for the builtin `bool`. To silence this warning, use `bool` by itself. Doing this will not modify any behavior and is safe. If you specifically wanted the numpy scalar type, use `np.bool_` here.\n",
            "Deprecated in NumPy 1.20; for more details and guidance: https://numpy.org/devdocs/release/1.20.0-notes.html#deprecations\n"
          ]
        },
        {
          "output_type": "stream",
          "name": "stdout",
          "text": [
            "mask.shape, min(mask),max(mask): (800, 600, 2), 0,0\n"
          ]
        },
        {
          "output_type": "stream",
          "name": "stderr",
          "text": [
            "/usr/local/lib/python3.7/dist-packages/skimage/transform/_warps.py:830: FutureWarning: Input image dtype is bool. Interpolation is not defined with bool data type. Please set order to 0 or explicitely cast input image to another data type. Starting from version 0.19 a ValueError will be raised instead of this warning.\n",
            "  order = _validate_interpolation_order(image.dtype, order)\n"
          ]
        },
        {
          "output_type": "stream",
          "name": "stdout",
          "text": [
            "rr.shape, min(rr),max(rr): (85779,), 145,520\n",
            "cc.shape, min(cc),max(cc): (85779,), 183,488\n",
            "After fixing the dirt mask, new values:\n",
            "rr.shape, min(rr),max(rr): (85779,), 145,520\n",
            "cc.shape, min(cc),max(cc): (85779,), 183,488\n",
            "mask.shape, min(mask),max(mask): (800, 600, 2), 0,1\n",
            "rr.shape, min(rr),max(rr): (21232,), 0,159\n",
            "cc.shape, min(cc),max(cc): (21232,), 266,428\n",
            "After fixing the dirt mask, new values:\n",
            "rr.shape, min(rr),max(rr): (21232,), 0,159\n",
            "cc.shape, min(cc),max(cc): (21232,), 266,428\n"
          ]
        },
        {
          "output_type": "stream",
          "name": "stderr",
          "text": [
            "/usr/local/lib/python3.7/dist-packages/ipykernel_launcher.py:129: DeprecationWarning: `np.bool` is a deprecated alias for the builtin `bool`. To silence this warning, use `bool` by itself. Doing this will not modify any behavior and is safe. If you specifically wanted the numpy scalar type, use `np.bool_` here.\n",
            "Deprecated in NumPy 1.20; for more details and guidance: https://numpy.org/devdocs/release/1.20.0-notes.html#deprecations\n"
          ]
        },
        {
          "output_type": "stream",
          "name": "stdout",
          "text": [
            "mask.shape, min(mask),max(mask): (700, 700, 4), 0,0\n",
            "rr.shape, min(rr),max(rr): (58846,), 83,387\n",
            "cc.shape, min(cc),max(cc): (58846,), 226,528\n",
            "After fixing the dirt mask, new values:\n",
            "rr.shape, min(rr),max(rr): (58846,), 83,387\n",
            "cc.shape, min(cc),max(cc): (58846,), 226,528\n",
            "mask.shape, min(mask),max(mask): (700, 700, 4), 0,1\n",
            "rr.shape, min(rr),max(rr): (23470,), 50,267\n",
            "cc.shape, min(cc),max(cc): (23470,), 485,640\n",
            "After fixing the dirt mask, new values:\n",
            "rr.shape, min(rr),max(rr): (23470,), 50,267\n",
            "cc.shape, min(cc),max(cc): (23470,), 485,640\n",
            "mask.shape, min(mask),max(mask): (700, 700, 4), 0,1\n"
          ]
        },
        {
          "output_type": "stream",
          "name": "stderr",
          "text": [
            "/usr/local/lib/python3.7/dist-packages/skimage/transform/_warps.py:830: FutureWarning: Input image dtype is bool. Interpolation is not defined with bool data type. Please set order to 0 or explicitely cast input image to another data type. Starting from version 0.19 a ValueError will be raised instead of this warning.\n",
            "  order = _validate_interpolation_order(image.dtype, order)\n"
          ]
        },
        {
          "output_type": "stream",
          "name": "stdout",
          "text": [
            "rr.shape, min(rr),max(rr): (68531,), 336,650\n",
            "cc.shape, min(cc),max(cc): (68531,), 97,371\n",
            "After fixing the dirt mask, new values:\n",
            "rr.shape, min(rr),max(rr): (68531,), 336,650\n",
            "cc.shape, min(cc),max(cc): (68531,), 97,371\n",
            "mask.shape, min(mask),max(mask): (700, 700, 4), 0,1\n",
            "rr.shape, min(rr),max(rr): (44659,), 457,649\n",
            "cc.shape, min(cc),max(cc): (44659,), 354,615\n",
            "After fixing the dirt mask, new values:\n",
            "rr.shape, min(rr),max(rr): (44659,), 457,649\n",
            "cc.shape, min(cc),max(cc): (44659,), 354,615\n"
          ]
        },
        {
          "output_type": "stream",
          "name": "stderr",
          "text": [
            "/usr/local/lib/python3.7/dist-packages/ipykernel_launcher.py:129: DeprecationWarning: `np.bool` is a deprecated alias for the builtin `bool`. To silence this warning, use `bool` by itself. Doing this will not modify any behavior and is safe. If you specifically wanted the numpy scalar type, use `np.bool_` here.\n",
            "Deprecated in NumPy 1.20; for more details and guidance: https://numpy.org/devdocs/release/1.20.0-notes.html#deprecations\n"
          ]
        },
        {
          "output_type": "stream",
          "name": "stdout",
          "text": [
            "mask.shape, min(mask),max(mask): (540, 960, 1), 0,0\n",
            "rr.shape, min(rr),max(rr): (83168,), 115,454\n",
            "cc.shape, min(cc),max(cc): (83168,), 306,657\n",
            "After fixing the dirt mask, new values:\n",
            "rr.shape, min(rr),max(rr): (83168,), 115,454\n",
            "cc.shape, min(cc),max(cc): (83168,), 306,657\n"
          ]
        },
        {
          "output_type": "stream",
          "name": "stderr",
          "text": [
            "/usr/local/lib/python3.7/dist-packages/ipykernel_launcher.py:129: DeprecationWarning: `np.bool` is a deprecated alias for the builtin `bool`. To silence this warning, use `bool` by itself. Doing this will not modify any behavior and is safe. If you specifically wanted the numpy scalar type, use `np.bool_` here.\n",
            "Deprecated in NumPy 1.20; for more details and guidance: https://numpy.org/devdocs/release/1.20.0-notes.html#deprecations\n",
            "/usr/local/lib/python3.7/dist-packages/skimage/transform/_warps.py:830: FutureWarning: Input image dtype is bool. Interpolation is not defined with bool data type. Please set order to 0 or explicitely cast input image to another data type. Starting from version 0.19 a ValueError will be raised instead of this warning.\n",
            "  order = _validate_interpolation_order(image.dtype, order)\n",
            "/usr/local/lib/python3.7/dist-packages/skimage/transform/_warps.py:830: FutureWarning: Input image dtype is bool. Interpolation is not defined with bool data type. Please set order to 0 or explicitely cast input image to another data type. Starting from version 0.19 a ValueError will be raised instead of this warning.\n",
            "  order = _validate_interpolation_order(image.dtype, order)\n"
          ]
        },
        {
          "output_type": "stream",
          "name": "stdout",
          "text": [
            "mask.shape, min(mask),max(mask): (519, 519, 1), 0,0\n",
            "rr.shape, min(rr),max(rr): (45588,), 147,415\n",
            "cc.shape, min(cc),max(cc): (45588,), 247,472\n",
            "After fixing the dirt mask, new values:\n",
            "rr.shape, min(rr),max(rr): (45588,), 147,415\n",
            "cc.shape, min(cc),max(cc): (45588,), 247,472\n"
          ]
        },
        {
          "output_type": "stream",
          "name": "stderr",
          "text": [
            "/usr/local/lib/python3.7/dist-packages/ipykernel_launcher.py:129: DeprecationWarning: `np.bool` is a deprecated alias for the builtin `bool`. To silence this warning, use `bool` by itself. Doing this will not modify any behavior and is safe. If you specifically wanted the numpy scalar type, use `np.bool_` here.\n",
            "Deprecated in NumPy 1.20; for more details and guidance: https://numpy.org/devdocs/release/1.20.0-notes.html#deprecations\n",
            "/usr/local/lib/python3.7/dist-packages/skimage/transform/_warps.py:830: FutureWarning: Input image dtype is bool. Interpolation is not defined with bool data type. Please set order to 0 or explicitely cast input image to another data type. Starting from version 0.19 a ValueError will be raised instead of this warning.\n",
            "  order = _validate_interpolation_order(image.dtype, order)\n"
          ]
        },
        {
          "output_type": "stream",
          "name": "stdout",
          "text": [
            "mask.shape, min(mask),max(mask): (1200, 800, 1), 0,0\n",
            "rr.shape, min(rr),max(rr): (215719,), 494,1045\n",
            "cc.shape, min(cc),max(cc): (215719,), 64,588\n",
            "After fixing the dirt mask, new values:\n",
            "rr.shape, min(rr),max(rr): (215719,), 494,1045\n",
            "cc.shape, min(cc),max(cc): (215719,), 64,588\n"
          ]
        },
        {
          "output_type": "stream",
          "name": "stderr",
          "text": [
            "/usr/local/lib/python3.7/dist-packages/ipykernel_launcher.py:129: DeprecationWarning: `np.bool` is a deprecated alias for the builtin `bool`. To silence this warning, use `bool` by itself. Doing this will not modify any behavior and is safe. If you specifically wanted the numpy scalar type, use `np.bool_` here.\n",
            "Deprecated in NumPy 1.20; for more details and guidance: https://numpy.org/devdocs/release/1.20.0-notes.html#deprecations\n"
          ]
        },
        {
          "output_type": "stream",
          "name": "stdout",
          "text": [
            "mask.shape, min(mask),max(mask): (480, 852, 1), 0,0\n",
            "rr.shape, min(rr),max(rr): (36766,), 121,340\n",
            "cc.shape, min(cc),max(cc): (36766,), 340,565\n",
            "After fixing the dirt mask, new values:\n",
            "rr.shape, min(rr),max(rr): (36766,), 121,340\n",
            "cc.shape, min(cc),max(cc): (36766,), 340,565\n"
          ]
        },
        {
          "output_type": "stream",
          "name": "stderr",
          "text": [
            "/usr/local/lib/python3.7/dist-packages/ipykernel_launcher.py:129: DeprecationWarning: `np.bool` is a deprecated alias for the builtin `bool`. To silence this warning, use `bool` by itself. Doing this will not modify any behavior and is safe. If you specifically wanted the numpy scalar type, use `np.bool_` here.\n",
            "Deprecated in NumPy 1.20; for more details and guidance: https://numpy.org/devdocs/release/1.20.0-notes.html#deprecations\n",
            "/usr/local/lib/python3.7/dist-packages/skimage/transform/_warps.py:830: FutureWarning: Input image dtype is bool. Interpolation is not defined with bool data type. Please set order to 0 or explicitely cast input image to another data type. Starting from version 0.19 a ValueError will be raised instead of this warning.\n",
            "  order = _validate_interpolation_order(image.dtype, order)\n",
            "/usr/local/lib/python3.7/dist-packages/skimage/transform/_warps.py:830: FutureWarning: Input image dtype is bool. Interpolation is not defined with bool data type. Please set order to 0 or explicitely cast input image to another data type. Starting from version 0.19 a ValueError will be raised instead of this warning.\n",
            "  order = _validate_interpolation_order(image.dtype, order)\n"
          ]
        },
        {
          "output_type": "stream",
          "name": "stdout",
          "text": [
            "mask.shape, min(mask),max(mask): (640, 640, 5), 0,0\n",
            "rr.shape, min(rr),max(rr): (25835,), 312,539\n",
            "cc.shape, min(cc),max(cc): (25835,), 273,443\n",
            "After fixing the dirt mask, new values:\n",
            "rr.shape, min(rr),max(rr): (25835,), 312,539\n",
            "cc.shape, min(cc),max(cc): (25835,), 273,443\n",
            "mask.shape, min(mask),max(mask): (640, 640, 5), 0,1\n",
            "rr.shape, min(rr),max(rr): (10419,), 252,364\n",
            "cc.shape, min(cc),max(cc): (10419,), 284,436\n",
            "After fixing the dirt mask, new values:\n",
            "rr.shape, min(rr),max(rr): (10419,), 252,364\n",
            "cc.shape, min(cc),max(cc): (10419,), 284,436\n",
            "mask.shape, min(mask),max(mask): (640, 640, 5), 0,1\n",
            "rr.shape, min(rr),max(rr): (6535,), 239,340\n",
            "cc.shape, min(cc),max(cc): (6535,), 390,515\n",
            "After fixing the dirt mask, new values:\n",
            "rr.shape, min(rr),max(rr): (6535,), 239,340\n",
            "cc.shape, min(cc),max(cc): (6535,), 390,515\n",
            "mask.shape, min(mask),max(mask): (640, 640, 5), 0,1\n",
            "rr.shape, min(rr),max(rr): (19996,), 101,335\n",
            "cc.shape, min(cc),max(cc): (19996,), 163,318\n",
            "After fixing the dirt mask, new values:\n",
            "rr.shape, min(rr),max(rr): (19996,), 101,335\n",
            "cc.shape, min(cc),max(cc): (19996,), 163,318\n",
            "mask.shape, min(mask),max(mask): (640, 640, 5), 0,1\n",
            "rr.shape, min(rr),max(rr): (11194,), 271,429\n",
            "cc.shape, min(cc),max(cc): (11194,), 8,176\n",
            "After fixing the dirt mask, new values:\n",
            "rr.shape, min(rr),max(rr): (11194,), 271,429\n",
            "cc.shape, min(cc),max(cc): (11194,), 8,176\n"
          ]
        },
        {
          "output_type": "stream",
          "name": "stderr",
          "text": [
            "/usr/local/lib/python3.7/dist-packages/ipykernel_launcher.py:129: DeprecationWarning: `np.bool` is a deprecated alias for the builtin `bool`. To silence this warning, use `bool` by itself. Doing this will not modify any behavior and is safe. If you specifically wanted the numpy scalar type, use `np.bool_` here.\n",
            "Deprecated in NumPy 1.20; for more details and guidance: https://numpy.org/devdocs/release/1.20.0-notes.html#deprecations\n"
          ]
        },
        {
          "output_type": "stream",
          "name": "stdout",
          "text": [
            "mask.shape, min(mask),max(mask): (1024, 683, 1), 0,0\n",
            "rr.shape, min(rr),max(rr): (190428,), 472,1024\n",
            "cc.shape, min(cc),max(cc): (190428,), 92,577\n",
            "After fixing the dirt mask, new values:\n",
            "rr.shape, min(rr),max(rr): (190428,), 472,1023\n",
            "cc.shape, min(cc),max(cc): (190428,), 92,577\n"
          ]
        },
        {
          "output_type": "stream",
          "name": "stderr",
          "text": [
            "/usr/local/lib/python3.7/dist-packages/ipykernel_launcher.py:129: DeprecationWarning: `np.bool` is a deprecated alias for the builtin `bool`. To silence this warning, use `bool` by itself. Doing this will not modify any behavior and is safe. If you specifically wanted the numpy scalar type, use `np.bool_` here.\n",
            "Deprecated in NumPy 1.20; for more details and guidance: https://numpy.org/devdocs/release/1.20.0-notes.html#deprecations\n",
            "/usr/local/lib/python3.7/dist-packages/skimage/transform/_warps.py:830: FutureWarning: Input image dtype is bool. Interpolation is not defined with bool data type. Please set order to 0 or explicitely cast input image to another data type. Starting from version 0.19 a ValueError will be raised instead of this warning.\n",
            "  order = _validate_interpolation_order(image.dtype, order)\n",
            "/usr/local/lib/python3.7/dist-packages/skimage/transform/_warps.py:830: FutureWarning: Input image dtype is bool. Interpolation is not defined with bool data type. Please set order to 0 or explicitely cast input image to another data type. Starting from version 0.19 a ValueError will be raised instead of this warning.\n",
            "  order = _validate_interpolation_order(image.dtype, order)\n"
          ]
        },
        {
          "output_type": "stream",
          "name": "stdout",
          "text": [
            "mask.shape, min(mask),max(mask): (763, 1024, 2), 0,0\n",
            "rr.shape, min(rr),max(rr): (151648,), 89,694\n",
            "cc.shape, min(cc),max(cc): (151648,), 81,487\n",
            "After fixing the dirt mask, new values:\n",
            "rr.shape, min(rr),max(rr): (151648,), 89,694\n",
            "cc.shape, min(cc),max(cc): (151648,), 81,487\n",
            "mask.shape, min(mask),max(mask): (554, 900, 1), 0,0\n",
            "rr.shape, min(rr),max(rr): (64330,), 99,453\n",
            "cc.shape, min(cc),max(cc): (64330,), 56,323\n",
            "After fixing the dirt mask, new values:\n",
            "rr.shape, min(rr),max(rr): (64330,), 99,453\n",
            "cc.shape, min(cc),max(cc): (64330,), 56,323\n"
          ]
        },
        {
          "output_type": "stream",
          "name": "stderr",
          "text": [
            "/usr/local/lib/python3.7/dist-packages/ipykernel_launcher.py:129: DeprecationWarning: `np.bool` is a deprecated alias for the builtin `bool`. To silence this warning, use `bool` by itself. Doing this will not modify any behavior and is safe. If you specifically wanted the numpy scalar type, use `np.bool_` here.\n",
            "Deprecated in NumPy 1.20; for more details and guidance: https://numpy.org/devdocs/release/1.20.0-notes.html#deprecations\n"
          ]
        },
        {
          "output_type": "stream",
          "name": "stdout",
          "text": [
            "mask.shape, min(mask),max(mask): (763, 1024, 2), 0,1\n",
            "rr.shape, min(rr),max(rr): (140945,), 203,708\n",
            "cc.shape, min(cc),max(cc): (140945,), 500,917\n",
            "After fixing the dirt mask, new values:\n",
            "rr.shape, min(rr),max(rr): (140945,), 203,708\n"
          ]
        },
        {
          "output_type": "stream",
          "name": "stderr",
          "text": [
            "/usr/local/lib/python3.7/dist-packages/ipykernel_launcher.py:129: DeprecationWarning: `np.bool` is a deprecated alias for the builtin `bool`. To silence this warning, use `bool` by itself. Doing this will not modify any behavior and is safe. If you specifically wanted the numpy scalar type, use `np.bool_` here.\n",
            "Deprecated in NumPy 1.20; for more details and guidance: https://numpy.org/devdocs/release/1.20.0-notes.html#deprecations\n"
          ]
        },
        {
          "output_type": "stream",
          "name": "stdout",
          "text": [
            "cc.shape, min(cc),max(cc): (140945,), 500,917\n"
          ]
        },
        {
          "output_type": "stream",
          "name": "stderr",
          "text": [
            "/usr/local/lib/python3.7/dist-packages/skimage/transform/_warps.py:830: FutureWarning: Input image dtype is bool. Interpolation is not defined with bool data type. Please set order to 0 or explicitely cast input image to another data type. Starting from version 0.19 a ValueError will be raised instead of this warning.\n",
            "  order = _validate_interpolation_order(image.dtype, order)\n",
            "/usr/local/lib/python3.7/dist-packages/skimage/transform/_warps.py:830: FutureWarning: Input image dtype is bool. Interpolation is not defined with bool data type. Please set order to 0 or explicitely cast input image to another data type. Starting from version 0.19 a ValueError will be raised instead of this warning.\n",
            "  order = _validate_interpolation_order(image.dtype, order)\n"
          ]
        },
        {
          "output_type": "stream",
          "name": "stdout",
          "text": [
            "mask.shape, min(mask),max(mask): (2048, 1365, 1), 0,0\n",
            "rr.shape, min(rr),max(rr): (15588,), 987,1130\n",
            "cc.shape, min(cc),max(cc): (15588,), 342,485\n",
            "After fixing the dirt mask, new values:\n",
            "rr.shape, min(rr),max(rr): (15588,), 987,1130\n",
            "cc.shape, min(cc),max(cc): (15588,), 342,485\n"
          ]
        },
        {
          "output_type": "stream",
          "name": "stderr",
          "text": [
            "/usr/local/lib/python3.7/dist-packages/ipykernel_launcher.py:129: DeprecationWarning: `np.bool` is a deprecated alias for the builtin `bool`. To silence this warning, use `bool` by itself. Doing this will not modify any behavior and is safe. If you specifically wanted the numpy scalar type, use `np.bool_` here.\n",
            "Deprecated in NumPy 1.20; for more details and guidance: https://numpy.org/devdocs/release/1.20.0-notes.html#deprecations\n"
          ]
        },
        {
          "output_type": "stream",
          "name": "stdout",
          "text": [
            "mask.shape, min(mask),max(mask): (450, 600, 1), 0,0\n",
            "rr.shape, min(rr),max(rr): (6745,), 160,264\n",
            "cc.shape, min(cc),max(cc): (6745,), 474,584\n",
            "After fixing the dirt mask, new values:\n",
            "rr.shape, min(rr),max(rr): (6745,), 160,264\n",
            "cc.shape, min(cc),max(cc): (6745,), 474,584\n"
          ]
        },
        {
          "output_type": "stream",
          "name": "stderr",
          "text": [
            "/usr/local/lib/python3.7/dist-packages/ipykernel_launcher.py:129: DeprecationWarning: `np.bool` is a deprecated alias for the builtin `bool`. To silence this warning, use `bool` by itself. Doing this will not modify any behavior and is safe. If you specifically wanted the numpy scalar type, use `np.bool_` here.\n",
            "Deprecated in NumPy 1.20; for more details and guidance: https://numpy.org/devdocs/release/1.20.0-notes.html#deprecations\n",
            "/usr/local/lib/python3.7/dist-packages/skimage/transform/_warps.py:830: FutureWarning: Input image dtype is bool. Interpolation is not defined with bool data type. Please set order to 0 or explicitely cast input image to another data type. Starting from version 0.19 a ValueError will be raised instead of this warning.\n",
            "  order = _validate_interpolation_order(image.dtype, order)\n",
            "/usr/local/lib/python3.7/dist-packages/skimage/transform/_warps.py:830: FutureWarning: Input image dtype is bool. Interpolation is not defined with bool data type. Please set order to 0 or explicitely cast input image to another data type. Starting from version 0.19 a ValueError will be raised instead of this warning.\n",
            "  order = _validate_interpolation_order(image.dtype, order)\n"
          ]
        },
        {
          "output_type": "stream",
          "name": "stdout",
          "text": [
            "mask.shape, min(mask),max(mask): (454, 633, 6), 0,0\n",
            "rr.shape, min(rr),max(rr): (12942,), 123,246\n",
            "cc.shape, min(cc),max(cc): (12942,), 3,127\n",
            "After fixing the dirt mask, new values:\n",
            "rr.shape, min(rr),max(rr): (12942,), 123,246\n",
            "cc.shape, min(cc),max(cc): (12942,), 3,127\n",
            "mask.shape, min(mask),max(mask): (700, 700, 4), 0,0\n",
            "rr.shape, min(rr),max(rr): (58846,), 83,387\n",
            "mask.shape, min(mask),max(mask): (454, 633, 6), 0,1\n",
            "cc.shape, min(cc),max(cc): (58846,), 226,528\n",
            "rr.shape, min(rr),max(rr): (11892,), 294,447\n",
            "cc.shape, min(cc),max(cc): (11892,), 174,297\n",
            "After fixing the dirt mask, new values:\n",
            "cc.shape, min(cc),max(cc): (11892,), 174,297\n",
            "rr.shape, min(rr),max(rr): (11892,), 294,447\n",
            "After fixing the dirt mask, new values:\n",
            "mask.shape, min(mask),max(mask): (454, 633, 6), 0,1\n",
            "rr.shape, min(rr),max(rr): (58846,), 83,387\n",
            "rr.shape, min(rr),max(rr): (11238,), 329,453\n",
            "cc.shape, min(cc),max(cc): (11238,), 382,490\n",
            "cc.shape, min(cc),max(cc): (58846,), 226,528\n",
            "After fixing the dirt mask, new values:\n",
            "rr.shape, min(rr),max(rr): (11238,), 329,453\n",
            "cc.shape, min(cc),max(cc): (11238,), 382,490\n",
            "mask.shape, min(mask),max(mask): (700, 700, 4), 0,1\n",
            "mask.shape, min(mask),max(mask): (454, 633, 6), 0,1\n",
            "rr.shape, min(rr),max(rr): (23470,), 50,267\n",
            "cc.shape, min(cc),max(cc): (23470,), 485,640\n",
            "rr.shape, min(rr),max(rr): (11314,), 210,345\n",
            "After fixing the dirt mask, new values:\n",
            "cc.shape, min(cc),max(cc): (11314,), 322,428\n",
            "rr.shape, min(rr),max(rr): (23470,), 50,267\n",
            "After fixing the dirt mask, new values:\n",
            "rr.shape, min(rr),max(rr): (11314,), 210,345\n",
            "cc.shape, min(cc),max(cc): (11314,), 322,428\n",
            "cc.shape, min(cc),max(cc): (23470,), 485,640\n",
            "mask.shape, min(mask),max(mask): (454, 633, 6), 0,1\n",
            "rr.shape, min(rr),max(rr): (12598,), 73,200\n",
            "cc.shape, min(cc),max(cc): (12598,), 382,501\n",
            "After fixing the dirt mask, new values:\n",
            "rr.shape, min(rr),max(rr): (12598,), 73,200\n",
            "cc.shape, min(cc),max(cc): (12598,), 382,501\n",
            "mask.shape, min(mask),max(mask): (454, 633, 6), 0,1\n",
            "rr.shape, min(rr),max(rr): (3942,), 328,430\n",
            "cc.shape, min(cc),max(cc): (3942,), 534,616\n",
            "After fixing the dirt mask, new values:\n",
            "rr.shape, min(rr),max(rr): (3942,), 328,430\n",
            "cc.shape, min(cc),max(cc): (3942,), 534,616\n"
          ]
        },
        {
          "output_type": "stream",
          "name": "stderr",
          "text": [
            "/usr/local/lib/python3.7/dist-packages/ipykernel_launcher.py:129: DeprecationWarning: `np.bool` is a deprecated alias for the builtin `bool`. To silence this warning, use `bool` by itself. Doing this will not modify any behavior and is safe. If you specifically wanted the numpy scalar type, use `np.bool_` here.\n",
            "Deprecated in NumPy 1.20; for more details and guidance: https://numpy.org/devdocs/release/1.20.0-notes.html#deprecations\n"
          ]
        },
        {
          "output_type": "stream",
          "name": "stdout",
          "text": [
            "mask.shape, min(mask),max(mask): (700, 700, 4), 0,1\n",
            "rr.shape, min(rr),max(rr): (68531,), 336,650\n",
            "cc.shape, min(cc),max(cc): (68531,), 97,371\n",
            "After fixing the dirt mask, new values:\n",
            "rr.shape, min(rr),max(rr): (68531,), 336,650\n",
            "cc.shape, min(cc),max(cc): (68531,), 97,371\n",
            "mask.shape, min(mask),max(mask): (700, 700, 4), 0,1\n",
            "rr.shape, min(rr),max(rr): (44659,), 457,649\n",
            "cc.shape, min(cc),max(cc): (44659,), 354,615\n",
            "After fixing the dirt mask, new values:\n",
            "rr.shape, min(rr),max(rr): (44659,), 457,649\n",
            "cc.shape, min(cc),max(cc): (44659,), 354,615\n"
          ]
        },
        {
          "output_type": "stream",
          "name": "stderr",
          "text": [
            "/usr/local/lib/python3.7/dist-packages/ipykernel_launcher.py:129: DeprecationWarning: `np.bool` is a deprecated alias for the builtin `bool`. To silence this warning, use `bool` by itself. Doing this will not modify any behavior and is safe. If you specifically wanted the numpy scalar type, use `np.bool_` here.\n",
            "Deprecated in NumPy 1.20; for more details and guidance: https://numpy.org/devdocs/release/1.20.0-notes.html#deprecations\n",
            "/usr/local/lib/python3.7/dist-packages/skimage/transform/_warps.py:830: FutureWarning: Input image dtype is bool. Interpolation is not defined with bool data type. Please set order to 0 or explicitely cast input image to another data type. Starting from version 0.19 a ValueError will be raised instead of this warning.\n",
            "  order = _validate_interpolation_order(image.dtype, order)\n",
            "/usr/local/lib/python3.7/dist-packages/skimage/transform/_warps.py:830: FutureWarning: Input image dtype is bool. Interpolation is not defined with bool data type. Please set order to 0 or explicitely cast input image to another data type. Starting from version 0.19 a ValueError will be raised instead of this warning.\n",
            "  order = _validate_interpolation_order(image.dtype, order)\n"
          ]
        },
        {
          "output_type": "stream",
          "name": "stdout",
          "text": [
            "mask.shape, min(mask),max(mask): (640, 640, 5), 0,0\n",
            "rr.shape, min(rr),max(rr): (25835,), 312,539\n",
            "cc.shape, min(cc),max(cc): (25835,), 273,443\n",
            "After fixing the dirt mask, new values:\n",
            "rr.shape, min(rr),max(rr): (25835,), 312,539\n",
            "cc.shape, min(cc),max(cc): (25835,), 273,443\n",
            "mask.shape, min(mask),max(mask): (640, 640, 5), 0,1\n",
            "rr.shape, min(rr),max(rr): (10419,), 252,364\n",
            "cc.shape, min(cc),max(cc): (10419,), 284,436\n",
            "After fixing the dirt mask, new values:\n",
            "rr.shape, min(rr),max(rr): (10419,), 252,364\n",
            "cc.shape, min(cc),max(cc): (10419,), 284,436\n",
            "mask.shape, min(mask),max(mask): (640, 640, 5), 0,1\n",
            "rr.shape, min(rr),max(rr): (6535,), 239,340\n",
            "cc.shape, min(cc),max(cc): (6535,), 390,515\n",
            "After fixing the dirt mask, new values:\n",
            "rr.shape, min(rr),max(rr): (6535,), 239,340\n",
            "cc.shape, min(cc),max(cc): (6535,), 390,515\n",
            "mask.shape, min(mask),max(mask): (640, 640, 5), 0,1\n",
            "rr.shape, min(rr),max(rr): (19996,), 101,335\n",
            "cc.shape, min(cc),max(cc): (19996,), 163,318\n",
            "After fixing the dirt mask, new values:\n",
            "rr.shape, min(rr),max(rr): (19996,), 101,335\n",
            "cc.shape, min(cc),max(cc): (19996,), 163,318\n",
            "mask.shape, min(mask),max(mask): (640, 640, 5), 0,1\n",
            "rr.shape, min(rr),max(rr): (11194,), 271,429\n",
            "cc.shape, min(cc),max(cc): (11194,), 8,176\n",
            "After fixing the dirt mask, new values:\n",
            "rr.shape, min(rr),max(rr): (11194,), 271,429\n",
            "cc.shape, min(cc),max(cc): (11194,), 8,176\n"
          ]
        },
        {
          "output_type": "stream",
          "name": "stderr",
          "text": [
            "/usr/local/lib/python3.7/dist-packages/ipykernel_launcher.py:129: DeprecationWarning: `np.bool` is a deprecated alias for the builtin `bool`. To silence this warning, use `bool` by itself. Doing this will not modify any behavior and is safe. If you specifically wanted the numpy scalar type, use `np.bool_` here.\n",
            "Deprecated in NumPy 1.20; for more details and guidance: https://numpy.org/devdocs/release/1.20.0-notes.html#deprecations\n",
            "/usr/local/lib/python3.7/dist-packages/skimage/transform/_warps.py:830: FutureWarning: Input image dtype is bool. Interpolation is not defined with bool data type. Please set order to 0 or explicitely cast input image to another data type. Starting from version 0.19 a ValueError will be raised instead of this warning.\n",
            "  order = _validate_interpolation_order(image.dtype, order)\n"
          ]
        },
        {
          "output_type": "stream",
          "name": "stdout",
          "text": [
            "mask.shape, min(mask),max(mask): (1367, 2048, 2), 0,0\n",
            "rr.shape, min(rr),max(rr): (260912,), 239,1007\n",
            "cc.shape, min(cc),max(cc): (260912,), 750,1336\n",
            "After fixing the dirt mask, new values:\n",
            "rr.shape, min(rr),max(rr): (260912,), 239,1007\n",
            "cc.shape, min(cc),max(cc): (260912,), 750,1336\n",
            "mask.shape, min(mask),max(mask): (2687, 3357, 1), 0,0\n",
            "rr.shape, min(rr),max(rr): (409857,), 411,1361\n",
            "cc.shape, min(cc),max(cc): (409857,), 1726,2720\n",
            "After fixing the dirt mask, new values:\n",
            "rr.shape, min(rr),max(rr): (409857,), 411,1361\n",
            "cc.shape, min(cc),max(cc): (409857,), 1726,2720\n"
          ]
        },
        {
          "output_type": "stream",
          "name": "stderr",
          "text": [
            "/usr/local/lib/python3.7/dist-packages/ipykernel_launcher.py:129: DeprecationWarning: `np.bool` is a deprecated alias for the builtin `bool`. To silence this warning, use `bool` by itself. Doing this will not modify any behavior and is safe. If you specifically wanted the numpy scalar type, use `np.bool_` here.\n",
            "Deprecated in NumPy 1.20; for more details and guidance: https://numpy.org/devdocs/release/1.20.0-notes.html#deprecations\n"
          ]
        },
        {
          "output_type": "stream",
          "name": "stdout",
          "text": [
            "mask.shape, min(mask),max(mask): (1367, 2048, 2), 0,1\n",
            "rr.shape, min(rr),max(rr): (58070,), 426,803\n",
            "cc.shape, min(cc),max(cc): (58070,), 500,793\n",
            "After fixing the dirt mask, new values:\n",
            "rr.shape, min(rr),max(rr): (58070,), 426,803\n",
            "cc.shape, min(cc),max(cc): (58070,), 500,793\n"
          ]
        },
        {
          "output_type": "stream",
          "name": "stderr",
          "text": [
            "/usr/local/lib/python3.7/dist-packages/ipykernel_launcher.py:129: DeprecationWarning: `np.bool` is a deprecated alias for the builtin `bool`. To silence this warning, use `bool` by itself. Doing this will not modify any behavior and is safe. If you specifically wanted the numpy scalar type, use `np.bool_` here.\n",
            "Deprecated in NumPy 1.20; for more details and guidance: https://numpy.org/devdocs/release/1.20.0-notes.html#deprecations\n",
            "/usr/local/lib/python3.7/dist-packages/skimage/transform/_warps.py:830: FutureWarning: Input image dtype is bool. Interpolation is not defined with bool data type. Please set order to 0 or explicitely cast input image to another data type. Starting from version 0.19 a ValueError will be raised instead of this warning.\n",
            "  order = _validate_interpolation_order(image.dtype, order)\n"
          ]
        },
        {
          "output_type": "stream",
          "name": "stdout",
          "text": [
            "mask.shape, min(mask),max(mask): (1067, 1600, 1), 0,0\n",
            "rr.shape, min(rr),max(rr): (77179,), 7,344\n",
            "cc.shape, min(cc),max(cc): (77179,), 906,1260\n",
            "After fixing the dirt mask, new values:\n",
            "rr.shape, min(rr),max(rr): (77179,), 7,344\n",
            "cc.shape, min(cc),max(cc): (77179,), 906,1260\n"
          ]
        },
        {
          "output_type": "stream",
          "name": "stderr",
          "text": [
            "/usr/local/lib/python3.7/dist-packages/ipykernel_launcher.py:129: DeprecationWarning: `np.bool` is a deprecated alias for the builtin `bool`. To silence this warning, use `bool` by itself. Doing this will not modify any behavior and is safe. If you specifically wanted the numpy scalar type, use `np.bool_` here.\n",
            "Deprecated in NumPy 1.20; for more details and guidance: https://numpy.org/devdocs/release/1.20.0-notes.html#deprecations\n",
            "/usr/local/lib/python3.7/dist-packages/skimage/transform/_warps.py:830: FutureWarning: Input image dtype is bool. Interpolation is not defined with bool data type. Please set order to 0 or explicitely cast input image to another data type. Starting from version 0.19 a ValueError will be raised instead of this warning.\n",
            "  order = _validate_interpolation_order(image.dtype, order)\n",
            "/usr/local/lib/python3.7/dist-packages/skimage/transform/_warps.py:830: FutureWarning: Input image dtype is bool. Interpolation is not defined with bool data type. Please set order to 0 or explicitely cast input image to another data type. Starting from version 0.19 a ValueError will be raised instead of this warning.\n",
            "  order = _validate_interpolation_order(image.dtype, order)\n"
          ]
        },
        {
          "output_type": "stream",
          "name": "stdout",
          "text": [
            "mask.shape, min(mask),max(mask): (1117, 1900, 1), 0,0\n",
            "rr.shape, min(rr),max(rr): (124787,), 314,700\n",
            "cc.shape, min(cc),max(cc): (124787,), 689,1125\n",
            "After fixing the dirt mask, new values:\n",
            "rr.shape, min(rr),max(rr): (124787,), 314,700\n",
            "cc.shape, min(cc),max(cc): (124787,), 689,1125\n"
          ]
        },
        {
          "output_type": "stream",
          "name": "stderr",
          "text": [
            "/usr/local/lib/python3.7/dist-packages/ipykernel_launcher.py:129: DeprecationWarning: `np.bool` is a deprecated alias for the builtin `bool`. To silence this warning, use `bool` by itself. Doing this will not modify any behavior and is safe. If you specifically wanted the numpy scalar type, use `np.bool_` here.\n",
            "Deprecated in NumPy 1.20; for more details and guidance: https://numpy.org/devdocs/release/1.20.0-notes.html#deprecations\n"
          ]
        },
        {
          "output_type": "stream",
          "name": "stdout",
          "text": [
            "mask.shape, min(mask),max(mask): (800, 600, 2), 0,0\n",
            "rr.shape, min(rr),max(rr): (85779,), 145,520\n",
            "cc.shape, min(cc),max(cc): (85779,), 183,488\n",
            "After fixing the dirt mask, new values:\n",
            "rr.shape, min(rr),max(rr): (85779,), 145,520\n",
            "cc.shape, min(cc),max(cc): (85779,), 183,488\n",
            "mask.shape, min(mask),max(mask): (800, 600, 2), 0,1\n",
            "rr.shape, min(rr),max(rr): (21232,), 0,159\n",
            "cc.shape, min(cc),max(cc): (21232,), 266,428\n",
            "After fixing the dirt mask, new values:\n",
            "rr.shape, min(rr),max(rr): (21232,), 0,159\n",
            "cc.shape, min(cc),max(cc): (21232,), 266,428\n"
          ]
        },
        {
          "output_type": "stream",
          "name": "stderr",
          "text": [
            "/usr/local/lib/python3.7/dist-packages/ipykernel_launcher.py:129: DeprecationWarning: `np.bool` is a deprecated alias for the builtin `bool`. To silence this warning, use `bool` by itself. Doing this will not modify any behavior and is safe. If you specifically wanted the numpy scalar type, use `np.bool_` here.\n",
            "Deprecated in NumPy 1.20; for more details and guidance: https://numpy.org/devdocs/release/1.20.0-notes.html#deprecations\n",
            "/usr/local/lib/python3.7/dist-packages/skimage/transform/_warps.py:830: FutureWarning: Input image dtype is bool. Interpolation is not defined with bool data type. Please set order to 0 or explicitely cast input image to another data type. Starting from version 0.19 a ValueError will be raised instead of this warning.\n",
            "  order = _validate_interpolation_order(image.dtype, order)\n"
          ]
        },
        {
          "output_type": "stream",
          "name": "stdout",
          "text": [
            "mask.shape, min(mask),max(mask): (833, 1024, 2), 0,0\n",
            "rr.shape, min(rr),max(rr): (31513,), 114,322\n",
            "cc.shape, min(cc),max(cc): (31513,), 62,263\n",
            "After fixing the dirt mask, new values:\n",
            "rr.shape, min(rr),max(rr): (31513,), 114,322\n",
            "cc.shape, min(cc),max(cc): (31513,), 62,263\n"
          ]
        },
        {
          "output_type": "stream",
          "name": "stderr",
          "text": [
            "/usr/local/lib/python3.7/dist-packages/skimage/transform/_warps.py:830: FutureWarning: Input image dtype is bool. Interpolation is not defined with bool data type. Please set order to 0 or explicitely cast input image to another data type. Starting from version 0.19 a ValueError will be raised instead of this warning.\n",
            "  order = _validate_interpolation_order(image.dtype, order)\n"
          ]
        },
        {
          "output_type": "stream",
          "name": "stdout",
          "text": [
            "mask.shape, min(mask),max(mask): (833, 1024, 2), 0,1\n",
            "rr.shape, min(rr),max(rr): (29853,), 101,305\n",
            "cc.shape, min(cc),max(cc): (29853,), 756,959\n",
            "After fixing the dirt mask, new values:\n",
            "rr.shape, min(rr),max(rr): (29853,), 101,305\n",
            "cc.shape, min(cc),max(cc): (29853,), 756,959\n"
          ]
        },
        {
          "output_type": "stream",
          "name": "stderr",
          "text": [
            "/usr/local/lib/python3.7/dist-packages/ipykernel_launcher.py:129: DeprecationWarning: `np.bool` is a deprecated alias for the builtin `bool`. To silence this warning, use `bool` by itself. Doing this will not modify any behavior and is safe. If you specifically wanted the numpy scalar type, use `np.bool_` here.\n",
            "Deprecated in NumPy 1.20; for more details and guidance: https://numpy.org/devdocs/release/1.20.0-notes.html#deprecations\n",
            "/usr/local/lib/python3.7/dist-packages/skimage/transform/_warps.py:830: FutureWarning: Input image dtype is bool. Interpolation is not defined with bool data type. Please set order to 0 or explicitely cast input image to another data type. Starting from version 0.19 a ValueError will be raised instead of this warning.\n",
            "  order = _validate_interpolation_order(image.dtype, order)\n"
          ]
        },
        {
          "output_type": "stream",
          "name": "stdout",
          "text": [
            "mask.shape, min(mask),max(mask): (519, 519, 1), 0,0\n",
            "rr.shape, min(rr),max(rr): (45588,), 147,415\n",
            "cc.shape, min(cc),max(cc): (45588,), 247,472\n",
            "After fixing the dirt mask, new values:\n",
            "rr.shape, min(rr),max(rr): (45588,), 147,415\n",
            "cc.shape, min(cc),max(cc): (45588,), 247,472\n"
          ]
        },
        {
          "output_type": "stream",
          "name": "stderr",
          "text": [
            "/usr/local/lib/python3.7/dist-packages/ipykernel_launcher.py:129: DeprecationWarning: `np.bool` is a deprecated alias for the builtin `bool`. To silence this warning, use `bool` by itself. Doing this will not modify any behavior and is safe. If you specifically wanted the numpy scalar type, use `np.bool_` here.\n",
            "Deprecated in NumPy 1.20; for more details and guidance: https://numpy.org/devdocs/release/1.20.0-notes.html#deprecations\n"
          ]
        },
        {
          "output_type": "stream",
          "name": "stdout",
          "text": [
            "mask.shape, min(mask),max(mask): (541, 812, 4), 0,0\n",
            "rr.shape, min(rr),max(rr): (82349,), 67,387\n",
            "cc.shape, min(cc),max(cc): (82349,), 283,641\n",
            "After fixing the dirt mask, new values:\n",
            "rr.shape, min(rr),max(rr): (82349,), 67,387\n",
            "cc.shape, min(cc),max(cc): (82349,), 283,641\n"
          ]
        },
        {
          "output_type": "stream",
          "name": "stderr",
          "text": [
            "/usr/local/lib/python3.7/dist-packages/skimage/transform/_warps.py:830: FutureWarning: Input image dtype is bool. Interpolation is not defined with bool data type. Please set order to 0 or explicitely cast input image to another data type. Starting from version 0.19 a ValueError will be raised instead of this warning.\n",
            "  order = _validate_interpolation_order(image.dtype, order)\n"
          ]
        },
        {
          "output_type": "stream",
          "name": "stdout",
          "text": [
            "mask.shape, min(mask),max(mask): (541, 812, 4), 0,1\n",
            "rr.shape, min(rr),max(rr): (86074,), 4,326\n",
            "cc.shape, min(cc),max(cc): (86074,), 0,401\n",
            "After fixing the dirt mask, new values:\n",
            "rr.shape, min(rr),max(rr): (86074,), 4,326\n",
            "cc.shape, min(cc),max(cc): (86074,), 0,401\n",
            "mask.shape, min(mask),max(mask): (541, 812, 4), 0,1\n",
            "rr.shape, min(rr),max(rr): (19352,), 1,134\n",
            "cc.shape, min(cc),max(cc): (19352,), 398,664\n",
            "After fixing the dirt mask, new values:\n",
            "rr.shape, min(rr),max(rr): (19352,), 1,134\n",
            "cc.shape, min(cc),max(cc): (19352,), 398,664\n",
            "mask.shape, min(mask),max(mask): (541, 812, 4), 0,1\n",
            "rr.shape, min(rr),max(rr): (8580,), 0,72\n",
            "cc.shape, min(cc),max(cc): (8580,), 140,417\n",
            "After fixing the dirt mask, new values:\n",
            "rr.shape, min(rr),max(rr): (8580,), 0,72\n",
            "cc.shape, min(cc),max(cc): (8580,), 140,417\n"
          ]
        },
        {
          "output_type": "stream",
          "name": "stderr",
          "text": [
            "/usr/local/lib/python3.7/dist-packages/ipykernel_launcher.py:129: DeprecationWarning: `np.bool` is a deprecated alias for the builtin `bool`. To silence this warning, use `bool` by itself. Doing this will not modify any behavior and is safe. If you specifically wanted the numpy scalar type, use `np.bool_` here.\n",
            "Deprecated in NumPy 1.20; for more details and guidance: https://numpy.org/devdocs/release/1.20.0-notes.html#deprecations\n"
          ]
        },
        {
          "output_type": "stream",
          "name": "stdout",
          "text": [
            "mask.shape, min(mask),max(mask): (541, 812, 4), 0,0\n",
            "rr.shape, min(rr),max(rr): (82349,), 67,387\n",
            "cc.shape, min(cc),max(cc): (82349,), 283,641\n",
            "After fixing the dirt mask, new values:\n",
            "rr.shape, min(rr),max(rr): (82349,), 67,387\n",
            "cc.shape, min(cc),max(cc): (82349,), 283,641\n",
            "mask.shape, min(mask),max(mask): (541, 812, 4), 0,1\n",
            "rr.shape, min(rr),max(rr): (86074,), 4,326\n",
            "cc.shape, min(cc),max(cc): (86074,), 0,401\n",
            "After fixing the dirt mask, new values:\n",
            "rr.shape, min(rr),max(rr): (86074,), 4,326\n",
            "cc.shape, min(cc),max(cc): (86074,), 0,401\n",
            "mask.shape, min(mask),max(mask): (541, 812, 4), 0,1\n",
            "rr.shape, min(rr),max(rr): (19352,), 1,134\n",
            "cc.shape, min(cc),max(cc): (19352,), 398,664\n",
            "After fixing the dirt mask, new values:\n",
            "rr.shape, min(rr),max(rr): (19352,), 1,134\n",
            "cc.shape, min(cc),max(cc): (19352,), 398,664\n",
            "mask.shape, min(mask),max(mask): (541, 812, 4), 0,1\n",
            "rr.shape, min(rr),max(rr): (8580,), 0,72\n",
            "cc.shape, min(cc),max(cc): (8580,), 140,417\n",
            "After fixing the dirt mask, new values:\n",
            "rr.shape, min(rr),max(rr): (8580,), 0,72\n",
            "cc.shape, min(cc),max(cc): (8580,), 140,417\n"
          ]
        },
        {
          "output_type": "stream",
          "name": "stderr",
          "text": [
            "/usr/local/lib/python3.7/dist-packages/ipykernel_launcher.py:129: DeprecationWarning: `np.bool` is a deprecated alias for the builtin `bool`. To silence this warning, use `bool` by itself. Doing this will not modify any behavior and is safe. If you specifically wanted the numpy scalar type, use `np.bool_` here.\n",
            "Deprecated in NumPy 1.20; for more details and guidance: https://numpy.org/devdocs/release/1.20.0-notes.html#deprecations\n",
            "/usr/local/lib/python3.7/dist-packages/skimage/transform/_warps.py:830: FutureWarning: Input image dtype is bool. Interpolation is not defined with bool data type. Please set order to 0 or explicitely cast input image to another data type. Starting from version 0.19 a ValueError will be raised instead of this warning.\n",
            "  order = _validate_interpolation_order(image.dtype, order)\n",
            "/usr/local/lib/python3.7/dist-packages/skimage/transform/_warps.py:830: FutureWarning: Input image dtype is bool. Interpolation is not defined with bool data type. Please set order to 0 or explicitely cast input image to another data type. Starting from version 0.19 a ValueError will be raised instead of this warning.\n",
            "  order = _validate_interpolation_order(image.dtype, order)\n"
          ]
        },
        {
          "output_type": "stream",
          "name": "stdout",
          "text": [
            "mask.shape, min(mask),max(mask): (1024, 1024, 1), 0,0\n",
            "rr.shape, min(rr),max(rr): (140090,), 517,984\n",
            "cc.shape, min(cc),max(cc): (140090,), 74,434\n",
            "After fixing the dirt mask, new values:\n",
            "rr.shape, min(rr),max(rr): (140090,), 517,984\n",
            "cc.shape, min(cc),max(cc): (140090,), 74,434\n"
          ]
        },
        {
          "output_type": "stream",
          "name": "stderr",
          "text": [
            "/usr/local/lib/python3.7/dist-packages/ipykernel_launcher.py:129: DeprecationWarning: `np.bool` is a deprecated alias for the builtin `bool`. To silence this warning, use `bool` by itself. Doing this will not modify any behavior and is safe. If you specifically wanted the numpy scalar type, use `np.bool_` here.\n",
            "Deprecated in NumPy 1.20; for more details and guidance: https://numpy.org/devdocs/release/1.20.0-notes.html#deprecations\n",
            "/usr/local/lib/python3.7/dist-packages/skimage/transform/_warps.py:830: FutureWarning: Input image dtype is bool. Interpolation is not defined with bool data type. Please set order to 0 or explicitely cast input image to another data type. Starting from version 0.19 a ValueError will be raised instead of this warning.\n",
            "  order = _validate_interpolation_order(image.dtype, order)\n"
          ]
        },
        {
          "output_type": "stream",
          "name": "stdout",
          "text": [
            "mask.shape, min(mask),max(mask): (375, 500, 1), 0,0\n",
            "rr.shape, min(rr),max(rr): (23294,), 138,320\n",
            "cc.shape, min(cc),max(cc): (23294,), 54,243\n",
            "After fixing the dirt mask, new values:\n",
            "rr.shape, min(rr),max(rr): (23294,), 138,320\n",
            "cc.shape, min(cc),max(cc): (23294,), 54,243\n"
          ]
        },
        {
          "output_type": "stream",
          "name": "stderr",
          "text": [
            "/usr/local/lib/python3.7/dist-packages/ipykernel_launcher.py:129: DeprecationWarning: `np.bool` is a deprecated alias for the builtin `bool`. To silence this warning, use `bool` by itself. Doing this will not modify any behavior and is safe. If you specifically wanted the numpy scalar type, use `np.bool_` here.\n",
            "Deprecated in NumPy 1.20; for more details and guidance: https://numpy.org/devdocs/release/1.20.0-notes.html#deprecations\n",
            "/usr/local/lib/python3.7/dist-packages/skimage/transform/_warps.py:830: FutureWarning: Input image dtype is bool. Interpolation is not defined with bool data type. Please set order to 0 or explicitely cast input image to another data type. Starting from version 0.19 a ValueError will be raised instead of this warning.\n",
            "  order = _validate_interpolation_order(image.dtype, order)\n"
          ]
        },
        {
          "output_type": "stream",
          "name": "stdout",
          "text": [
            "mask.shape, min(mask),max(mask): (640, 960, 2), 0,0\n",
            "rr.shape, min(rr),max(rr): (36043,), 10,281\n",
            "mask.shape, min(mask),max(mask): (1200, 800, 1), 0,0\n",
            "cc.shape, min(cc),max(cc): (36043,), 221,435\n",
            "After fixing the dirt mask, new values:\n",
            "rr.shape, min(rr),max(rr): (36043,), 10,281\n",
            "cc.shape, min(cc),max(cc): (36043,), 221,435\n",
            "rr.shape, min(rr),max(rr): (215719,), 494,1045\n",
            "cc.shape, min(cc),max(cc): (215719,), 64,588\n",
            "After fixing the dirt mask, new values:\n",
            "rr.shape, min(rr),max(rr): (215719,), 494,1045\n",
            "cc.shape, min(cc),max(cc): (215719,), 64,588\n"
          ]
        },
        {
          "output_type": "stream",
          "name": "stderr",
          "text": [
            "/usr/local/lib/python3.7/dist-packages/ipykernel_launcher.py:129: DeprecationWarning: `np.bool` is a deprecated alias for the builtin `bool`. To silence this warning, use `bool` by itself. Doing this will not modify any behavior and is safe. If you specifically wanted the numpy scalar type, use `np.bool_` here.\n",
            "Deprecated in NumPy 1.20; for more details and guidance: https://numpy.org/devdocs/release/1.20.0-notes.html#deprecations\n"
          ]
        },
        {
          "output_type": "stream",
          "name": "stdout",
          "text": [
            "mask.shape, min(mask),max(mask): (640, 960, 2), 0,1\n",
            "rr.shape, min(rr),max(rr): (42332,), 46,301\n",
            "cc.shape, min(cc),max(cc): (42332,), 565,786\n",
            "After fixing the dirt mask, new values:\n",
            "rr.shape, min(rr),max(rr): (42332,), 46,301\n",
            "cc.shape, min(cc),max(cc): (42332,), 565,786\n"
          ]
        },
        {
          "output_type": "stream",
          "name": "stderr",
          "text": [
            "/usr/local/lib/python3.7/dist-packages/ipykernel_launcher.py:129: DeprecationWarning: `np.bool` is a deprecated alias for the builtin `bool`. To silence this warning, use `bool` by itself. Doing this will not modify any behavior and is safe. If you specifically wanted the numpy scalar type, use `np.bool_` here.\n",
            "Deprecated in NumPy 1.20; for more details and guidance: https://numpy.org/devdocs/release/1.20.0-notes.html#deprecations\n",
            "/usr/local/lib/python3.7/dist-packages/skimage/transform/_warps.py:830: FutureWarning: Input image dtype is bool. Interpolation is not defined with bool data type. Please set order to 0 or explicitely cast input image to another data type. Starting from version 0.19 a ValueError will be raised instead of this warning.\n",
            "  order = _validate_interpolation_order(image.dtype, order)\n",
            "/usr/local/lib/python3.7/dist-packages/skimage/transform/_warps.py:830: FutureWarning: Input image dtype is bool. Interpolation is not defined with bool data type. Please set order to 0 or explicitely cast input image to another data type. Starting from version 0.19 a ValueError will be raised instead of this warning.\n",
            "  order = _validate_interpolation_order(image.dtype, order)\n"
          ]
        },
        {
          "output_type": "stream",
          "name": "stdout",
          "text": [
            "mask.shape, min(mask),max(mask): (837, 600, 1), 0,0\n",
            "rr.shape, min(rr),max(rr): (7597,), 544,656\n",
            "mask.shape, min(mask),max(mask): (1024, 1024, 3), 0,0\n",
            "rr.shape, min(rr),max(rr): (136221,), 394,822\n",
            "cc.shape, min(cc),max(cc): (136221,), 586,1005\n",
            "cc.shape, min(cc),max(cc): (7597,), 189,291\n",
            "After fixing the dirt mask, new values:\n",
            "After fixing the dirt mask, new values:\n",
            "rr.shape, min(rr),max(rr): (136221,), 394,822\n",
            "cc.shape, min(cc),max(cc): (136221,), 586,1005\n",
            "rr.shape, min(rr),max(rr): (7597,), 544,656\n",
            "cc.shape, min(cc),max(cc): (7597,), 189,291\n"
          ]
        },
        {
          "output_type": "stream",
          "name": "stderr",
          "text": [
            "/usr/local/lib/python3.7/dist-packages/ipykernel_launcher.py:129: DeprecationWarning: `np.bool` is a deprecated alias for the builtin `bool`. To silence this warning, use `bool` by itself. Doing this will not modify any behavior and is safe. If you specifically wanted the numpy scalar type, use `np.bool_` here.\n",
            "Deprecated in NumPy 1.20; for more details and guidance: https://numpy.org/devdocs/release/1.20.0-notes.html#deprecations\n",
            "/usr/local/lib/python3.7/dist-packages/skimage/transform/_warps.py:830: FutureWarning: Input image dtype is bool. Interpolation is not defined with bool data type. Please set order to 0 or explicitely cast input image to another data type. Starting from version 0.19 a ValueError will be raised instead of this warning.\n",
            "  order = _validate_interpolation_order(image.dtype, order)\n"
          ]
        },
        {
          "output_type": "stream",
          "name": "stdout",
          "text": [
            "mask.shape, min(mask),max(mask): (1024, 1024, 3), 0,1\n",
            "rr.shape, min(rr),max(rr): (194833,), 402,869\n",
            "cc.shape, min(cc),max(cc): (194833,), 10,594\n",
            "After fixing the dirt mask, new values:\n",
            "rr.shape, min(rr),max(rr): (194833,), 402,869\n",
            "cc.shape, min(cc),max(cc): (194833,), 10,594\n",
            "mask.shape, min(mask),max(mask): (1024, 1024, 3), 0,1\n",
            "rr.shape, min(rr),max(rr): (81556,), 162,539\n",
            "cc.shape, min(cc),max(cc): (81556,), 281,704\n",
            "After fixing the dirt mask, new values:\n",
            "rr.shape, min(rr),max(rr): (81556,), 162,539\n",
            "cc.shape, min(cc),max(cc): (81556,), 281,704\n"
          ]
        },
        {
          "output_type": "stream",
          "name": "stderr",
          "text": [
            "/usr/local/lib/python3.7/dist-packages/ipykernel_launcher.py:129: DeprecationWarning: `np.bool` is a deprecated alias for the builtin `bool`. To silence this warning, use `bool` by itself. Doing this will not modify any behavior and is safe. If you specifically wanted the numpy scalar type, use `np.bool_` here.\n",
            "Deprecated in NumPy 1.20; for more details and guidance: https://numpy.org/devdocs/release/1.20.0-notes.html#deprecations\n"
          ]
        },
        {
          "output_type": "stream",
          "name": "stdout",
          "text": [
            "mask.shape, min(mask),max(mask): (606, 606, 2), 0,0\n",
            "rr.shape, min(rr),max(rr): (78497,), 34,425\n",
            "cc.shape, min(cc),max(cc): (78497,), 114,474\n",
            "After fixing the dirt mask, new values:\n",
            "rr.shape, min(rr),max(rr): (78497,), 34,425\n",
            "cc.shape, min(cc),max(cc): (78497,), 114,474\n",
            "mask.shape, min(mask),max(mask): (606, 606, 2), 0,1\n",
            "rr.shape, min(rr),max(rr): (22891,), 178,441\n",
            "cc.shape, min(cc),max(cc): (22891,), 1,147\n"
          ]
        },
        {
          "output_type": "stream",
          "name": "stderr",
          "text": [
            "/usr/local/lib/python3.7/dist-packages/skimage/transform/_warps.py:830: FutureWarning: Input image dtype is bool. Interpolation is not defined with bool data type. Please set order to 0 or explicitely cast input image to another data type. Starting from version 0.19 a ValueError will be raised instead of this warning.\n",
            "  order = _validate_interpolation_order(image.dtype, order)\n"
          ]
        },
        {
          "output_type": "stream",
          "name": "stdout",
          "text": [
            "After fixing the dirt mask, new values:\n",
            "rr.shape, min(rr),max(rr): (22891,), 178,441\n",
            "cc.shape, min(cc),max(cc): (22891,), 1,147\n"
          ]
        },
        {
          "output_type": "stream",
          "name": "stderr",
          "text": [
            "/usr/local/lib/python3.7/dist-packages/ipykernel_launcher.py:129: DeprecationWarning: `np.bool` is a deprecated alias for the builtin `bool`. To silence this warning, use `bool` by itself. Doing this will not modify any behavior and is safe. If you specifically wanted the numpy scalar type, use `np.bool_` here.\n",
            "Deprecated in NumPy 1.20; for more details and guidance: https://numpy.org/devdocs/release/1.20.0-notes.html#deprecations\n",
            "/usr/local/lib/python3.7/dist-packages/skimage/transform/_warps.py:830: FutureWarning: Input image dtype is bool. Interpolation is not defined with bool data type. Please set order to 0 or explicitely cast input image to another data type. Starting from version 0.19 a ValueError will be raised instead of this warning.\n",
            "  order = _validate_interpolation_order(image.dtype, order)\n"
          ]
        },
        {
          "output_type": "stream",
          "name": "stdout",
          "text": [
            "mask.shape, min(mask),max(mask): (640, 640, 7), 0,0\n",
            "rr.shape, min(rr),max(rr): (38248,), 112,321\n",
            "cc.shape, min(cc),max(cc): (38248,), 13,232\n",
            "After fixing the dirt mask, new values:\n",
            "rr.shape, min(rr),max(rr): (38248,), 112,321\n",
            "cc.shape, min(cc),max(cc): (38248,), 13,232\n",
            "mask.shape, min(mask),max(mask): (640, 640, 7), 0,1\n",
            "rr.shape, min(rr),max(rr): (36357,), 89,312\n",
            "cc.shape, min(cc),max(cc): (36357,), 228,426\n",
            "After fixing the dirt mask, new values:\n",
            "rr.shape, min(rr),max(rr): (36357,), 89,312\n",
            "cc.shape, min(cc),max(cc): (36357,), 228,426\n",
            "mask.shape, min(mask),max(mask): (640, 640, 7), 0,1\n",
            "rr.shape, min(rr),max(rr): (30194,), 79,302\n",
            "cc.shape, min(cc),max(cc): (30194,), 416,588\n",
            "After fixing the dirt mask, new values:\n",
            "rr.shape, min(rr),max(rr): (30194,), 79,302\n",
            "cc.shape, min(cc),max(cc): (30194,), 416,588\n",
            "mask.shape, min(mask),max(mask): (640, 640, 7), 0,1\n",
            "rr.shape, min(rr),max(rr): (32843,), 311,519\n",
            "cc.shape, min(cc),max(cc): (32843,), 0,178\n",
            "After fixing the dirt mask, new values:\n",
            "rr.shape, min(rr),max(rr): (32843,), 311,519\n",
            "cc.shape, min(cc),max(cc): (32843,), 0,178\n",
            "mask.shape, min(mask),max(mask): (640, 640, 7), 0,1\n",
            "rr.shape, min(rr),max(rr): (36678,), 296,514\n",
            "cc.shape, min(cc),max(cc): (36678,), 168,370\n",
            "After fixing the dirt mask, new values:\n",
            "rr.shape, min(rr),max(rr): (36678,), 296,514\n",
            "cc.shape, min(cc),max(cc): (36678,), 168,370\n",
            "mask.shape, min(mask),max(mask): (640, 640, 7), 0,1\n",
            "rr.shape, min(rr),max(rr): (31403,), 308,512\n",
            "cc.shape, min(cc),max(cc): (31403,), 365,557\n",
            "After fixing the dirt mask, new values:\n",
            "rr.shape, min(rr),max(rr): (31403,), 308,512\n",
            "cc.shape, min(cc),max(cc): (31403,), 365,557\n",
            "mask.shape, min(mask),max(mask): (640, 640, 7), 0,1\n",
            "rr.shape, min(rr),max(rr): (18125,), 264,472\n",
            "cc.shape, min(cc),max(cc): (18125,), 522,639\n",
            "After fixing the dirt mask, new values:\n",
            "rr.shape, min(rr),max(rr): (18125,), 264,472\n",
            "cc.shape, min(cc),max(cc): (18125,), 522,639\n"
          ]
        },
        {
          "output_type": "stream",
          "name": "stderr",
          "text": [
            "/usr/local/lib/python3.7/dist-packages/ipykernel_launcher.py:129: DeprecationWarning: `np.bool` is a deprecated alias for the builtin `bool`. To silence this warning, use `bool` by itself. Doing this will not modify any behavior and is safe. If you specifically wanted the numpy scalar type, use `np.bool_` here.\n",
            "Deprecated in NumPy 1.20; for more details and guidance: https://numpy.org/devdocs/release/1.20.0-notes.html#deprecations\n"
          ]
        },
        {
          "output_type": "stream",
          "name": "stdout",
          "text": [
            "mask.shape, min(mask),max(mask): (1357, 1900, 2), 0,0\n",
            "rr.shape, min(rr),max(rr): (365294,), 4,971\n",
            "cc.shape, min(cc),max(cc): (365294,), 877,1578\n",
            "After fixing the dirt mask, new values:\n",
            "rr.shape, min(rr),max(rr): (365294,), 4,971\n",
            "cc.shape, min(cc),max(cc): (365294,), 877,1578\n"
          ]
        },
        {
          "output_type": "stream",
          "name": "stderr",
          "text": [
            "/usr/local/lib/python3.7/dist-packages/skimage/transform/_warps.py:830: FutureWarning: Input image dtype is bool. Interpolation is not defined with bool data type. Please set order to 0 or explicitely cast input image to another data type. Starting from version 0.19 a ValueError will be raised instead of this warning.\n",
            "  order = _validate_interpolation_order(image.dtype, order)\n"
          ]
        },
        {
          "output_type": "stream",
          "name": "stdout",
          "text": [
            "mask.shape, min(mask),max(mask): (1357, 1900, 2), 0,1\n",
            "rr.shape, min(rr),max(rr): (318279,), 328,1107\n",
            "cc.shape, min(cc),max(cc): (318279,), 145,824\n",
            "After fixing the dirt mask, new values:\n",
            "rr.shape, min(rr),max(rr): (318279,), 328,1107\n",
            "cc.shape, min(cc),max(cc): (318279,), 145,824\n"
          ]
        },
        {
          "output_type": "stream",
          "name": "stderr",
          "text": [
            "/usr/local/lib/python3.7/dist-packages/ipykernel_launcher.py:129: DeprecationWarning: `np.bool` is a deprecated alias for the builtin `bool`. To silence this warning, use `bool` by itself. Doing this will not modify any behavior and is safe. If you specifically wanted the numpy scalar type, use `np.bool_` here.\n",
            "Deprecated in NumPy 1.20; for more details and guidance: https://numpy.org/devdocs/release/1.20.0-notes.html#deprecations\n",
            "/usr/local/lib/python3.7/dist-packages/skimage/transform/_warps.py:830: FutureWarning: Input image dtype is bool. Interpolation is not defined with bool data type. Please set order to 0 or explicitely cast input image to another data type. Starting from version 0.19 a ValueError will be raised instead of this warning.\n",
            "  order = _validate_interpolation_order(image.dtype, order)\n"
          ]
        },
        {
          "output_type": "stream",
          "name": "stdout",
          "text": [
            "mask.shape, min(mask),max(mask): (1117, 1900, 1), 0,0\n",
            "rr.shape, min(rr),max(rr): (124787,), 314,700\n",
            "cc.shape, min(cc),max(cc): (124787,), 689,1125\n",
            "After fixing the dirt mask, new values:\n",
            "rr.shape, min(rr),max(rr): (124787,), 314,700\n",
            "cc.shape, min(cc),max(cc): (124787,), 689,1125\n"
          ]
        },
        {
          "output_type": "stream",
          "name": "stderr",
          "text": [
            "/usr/local/lib/python3.7/dist-packages/ipykernel_launcher.py:129: DeprecationWarning: `np.bool` is a deprecated alias for the builtin `bool`. To silence this warning, use `bool` by itself. Doing this will not modify any behavior and is safe. If you specifically wanted the numpy scalar type, use `np.bool_` here.\n",
            "Deprecated in NumPy 1.20; for more details and guidance: https://numpy.org/devdocs/release/1.20.0-notes.html#deprecations\n",
            "/usr/local/lib/python3.7/dist-packages/skimage/transform/_warps.py:830: FutureWarning: Input image dtype is bool. Interpolation is not defined with bool data type. Please set order to 0 or explicitely cast input image to another data type. Starting from version 0.19 a ValueError will be raised instead of this warning.\n",
            "  order = _validate_interpolation_order(image.dtype, order)\n"
          ]
        },
        {
          "output_type": "stream",
          "name": "stdout",
          "text": [
            "mask.shape, min(mask),max(mask): (810, 720, 3), 0,0\n",
            "rr.shape, min(rr),max(rr): (144082,), 188,648\n",
            "cc.shape, min(cc),max(cc): (144082,), 0,429\n",
            "After fixing the dirt mask, new values:\n",
            "rr.shape, min(rr),max(rr): (144082,), 188,648\n",
            "cc.shape, min(cc),max(cc): (144082,), 0,429\n",
            "mask.shape, min(mask),max(mask): (810, 720, 3), 0,1\n",
            "rr.shape, min(rr),max(rr): (75051,), 63,359\n",
            "cc.shape, min(cc),max(cc): (75051,), 333,719\n",
            "rr.shape, min(rr),max(rr): (75051,), 63,359\n",
            "After fixing the dirt mask, new values:\n",
            "mask.shape, min(mask),max(mask): (810, 720, 3), 0,0\n",
            "cc.shape, min(cc),max(cc): (75051,), 333,719\n",
            "rr.shape, min(rr),max(rr): (144082,), 188,648\n",
            "cc.shape, min(cc),max(cc): (144082,), 0,429\n",
            "After fixing the dirt mask, new values:\n",
            "rr.shape, min(rr),max(rr): (144082,), 188,648\n",
            "cc.shape, min(cc),max(cc): (144082,), 0,429\n",
            "mask.shape, min(mask),max(mask): (810, 720, 3), 0,1\n",
            "mask.shape, min(mask),max(mask): (810, 720, 3), 0,1\n",
            "rr.shape, min(rr),max(rr): (119752,), 257,716\n",
            "rr.shape, min(rr),max(rr): (75051,), 63,359\n",
            "cc.shape, min(cc),max(cc): (119752,), 367,719\n",
            "cc.shape, min(cc),max(cc): (75051,), 333,719\n",
            "After fixing the dirt mask, new values:\n",
            "After fixing the dirt mask, new values:\n",
            "rr.shape, min(rr),max(rr): (75051,), 63,359\n",
            "rr.shape, min(rr),max(rr): (119752,), 257,716\n",
            "cc.shape, min(cc),max(cc): (75051,), 333,719\n",
            "cc.shape, min(cc),max(cc): (119752,), 367,719\n"
          ]
        },
        {
          "output_type": "stream",
          "name": "stderr",
          "text": [
            "/usr/local/lib/python3.7/dist-packages/ipykernel_launcher.py:129: DeprecationWarning: `np.bool` is a deprecated alias for the builtin `bool`. To silence this warning, use `bool` by itself. Doing this will not modify any behavior and is safe. If you specifically wanted the numpy scalar type, use `np.bool_` here.\n",
            "Deprecated in NumPy 1.20; for more details and guidance: https://numpy.org/devdocs/release/1.20.0-notes.html#deprecations\n"
          ]
        },
        {
          "output_type": "stream",
          "name": "stdout",
          "text": [
            "mask.shape, min(mask),max(mask): (810, 720, 3), 0,1\n",
            "rr.shape, min(rr),max(rr): (119752,), 257,716\n",
            "cc.shape, min(cc),max(cc): (119752,), 367,719\n",
            "After fixing the dirt mask, new values:\n",
            "rr.shape, min(rr),max(rr): (119752,), 257,716\n",
            "cc.shape, min(cc),max(cc): (119752,), 367,719\n"
          ]
        },
        {
          "output_type": "stream",
          "name": "stderr",
          "text": [
            "/usr/local/lib/python3.7/dist-packages/ipykernel_launcher.py:129: DeprecationWarning: `np.bool` is a deprecated alias for the builtin `bool`. To silence this warning, use `bool` by itself. Doing this will not modify any behavior and is safe. If you specifically wanted the numpy scalar type, use `np.bool_` here.\n",
            "Deprecated in NumPy 1.20; for more details and guidance: https://numpy.org/devdocs/release/1.20.0-notes.html#deprecations\n",
            "/usr/local/lib/python3.7/dist-packages/skimage/transform/_warps.py:830: FutureWarning: Input image dtype is bool. Interpolation is not defined with bool data type. Please set order to 0 or explicitely cast input image to another data type. Starting from version 0.19 a ValueError will be raised instead of this warning.\n",
            "  order = _validate_interpolation_order(image.dtype, order)\n"
          ]
        },
        {
          "output_type": "stream",
          "name": "stdout",
          "text": [
            "mask.shape, min(mask),max(mask): (470, 470, 2), 0,0\n"
          ]
        },
        {
          "output_type": "stream",
          "name": "stderr",
          "text": [
            "/usr/local/lib/python3.7/dist-packages/skimage/transform/_warps.py:830: FutureWarning: Input image dtype is bool. Interpolation is not defined with bool data type. Please set order to 0 or explicitely cast input image to another data type. Starting from version 0.19 a ValueError will be raised instead of this warning.\n",
            "  order = _validate_interpolation_order(image.dtype, order)\n"
          ]
        },
        {
          "output_type": "stream",
          "name": "stdout",
          "text": [
            "rr.shape, min(rr),max(rr): (21488,), 86,258\n",
            "cc.shape, min(cc),max(cc): (21488,), 146,304\n",
            "After fixing the dirt mask, new values:\n",
            "rr.shape, min(rr),max(rr): (21488,), 86,258\n",
            "cc.shape, min(cc),max(cc): (21488,), 146,304\n",
            "mask.shape, min(mask),max(mask): (470, 470, 2), 0,1\n",
            "rr.shape, min(rr),max(rr): (21438,), 248,420\n",
            "cc.shape, min(cc),max(cc): (21438,), 155,310\n",
            "After fixing the dirt mask, new values:\n",
            "rr.shape, min(rr),max(rr): (21438,), 248,420\n",
            "cc.shape, min(cc),max(cc): (21438,), 155,310\n"
          ]
        },
        {
          "output_type": "stream",
          "name": "stderr",
          "text": [
            "/usr/local/lib/python3.7/dist-packages/ipykernel_launcher.py:129: DeprecationWarning: `np.bool` is a deprecated alias for the builtin `bool`. To silence this warning, use `bool` by itself. Doing this will not modify any behavior and is safe. If you specifically wanted the numpy scalar type, use `np.bool_` here.\n",
            "Deprecated in NumPy 1.20; for more details and guidance: https://numpy.org/devdocs/release/1.20.0-notes.html#deprecations\n"
          ]
        },
        {
          "output_type": "stream",
          "name": "stdout",
          "text": [
            "mask.shape, min(mask),max(mask): (700, 700, 2), 0,0\n"
          ]
        },
        {
          "output_type": "stream",
          "name": "stderr",
          "text": [
            "/usr/local/lib/python3.7/dist-packages/skimage/transform/_warps.py:830: FutureWarning: Input image dtype is bool. Interpolation is not defined with bool data type. Please set order to 0 or explicitely cast input image to another data type. Starting from version 0.19 a ValueError will be raised instead of this warning.\n",
            "  order = _validate_interpolation_order(image.dtype, order)\n"
          ]
        },
        {
          "output_type": "stream",
          "name": "stdout",
          "text": [
            "rr.shape, min(rr),max(rr): (43241,), 1,257\n",
            "cc.shape, min(cc),max(cc): (43241,), 234,494\n",
            "After fixing the dirt mask, new values:\n",
            "rr.shape, min(rr),max(rr): (43241,), 1,257\n",
            "cc.shape, min(cc),max(cc): (43241,), 234,494\n",
            "mask.shape, min(mask),max(mask): (700, 700, 2), 0,1\n",
            "rr.shape, min(rr),max(rr): (46237,), 460,699\n",
            "cc.shape, min(cc),max(cc): (46237,), 410,657\n",
            "After fixing the dirt mask, new values:\n",
            "rr.shape, min(rr),max(rr): (46237,), 460,699\n",
            "cc.shape, min(cc),max(cc): (46237,), 410,657\n"
          ]
        },
        {
          "output_type": "stream",
          "name": "stderr",
          "text": [
            "/usr/local/lib/python3.7/dist-packages/ipykernel_launcher.py:129: DeprecationWarning: `np.bool` is a deprecated alias for the builtin `bool`. To silence this warning, use `bool` by itself. Doing this will not modify any behavior and is safe. If you specifically wanted the numpy scalar type, use `np.bool_` here.\n",
            "Deprecated in NumPy 1.20; for more details and guidance: https://numpy.org/devdocs/release/1.20.0-notes.html#deprecations\n"
          ]
        },
        {
          "output_type": "stream",
          "name": "stdout",
          "text": [
            "mask.shape, min(mask),max(mask): (640, 640, 7), 0,0\n",
            "rr.shape, min(rr),max(rr): (38248,), 112,321\n",
            "cc.shape, min(cc),max(cc): (38248,), 13,232\n",
            "After fixing the dirt mask, new values:\n",
            "rr.shape, min(rr),max(rr): (38248,), 112,321\n",
            "cc.shape, min(cc),max(cc): (38248,), 13,232\n",
            "mask.shape, min(mask),max(mask): (640, 640, 7), 0,1\n",
            "rr.shape, min(rr),max(rr): (36357,), 89,312\n",
            "cc.shape, min(cc),max(cc): (36357,), 228,426\n",
            "After fixing the dirt mask, new values:\n",
            "rr.shape, min(rr),max(rr): (36357,), 89,312\n",
            "cc.shape, min(cc),max(cc): (36357,), 228,426\n",
            "mask.shape, min(mask),max(mask): (640, 640, 7), 0,1\n",
            "rr.shape, min(rr),max(rr): (30194,), 79,302\n"
          ]
        },
        {
          "output_type": "stream",
          "name": "stderr",
          "text": [
            "/usr/local/lib/python3.7/dist-packages/skimage/transform/_warps.py:830: FutureWarning: Input image dtype is bool. Interpolation is not defined with bool data type. Please set order to 0 or explicitely cast input image to another data type. Starting from version 0.19 a ValueError will be raised instead of this warning.\n",
            "  order = _validate_interpolation_order(image.dtype, order)\n"
          ]
        },
        {
          "output_type": "stream",
          "name": "stdout",
          "text": [
            "cc.shape, min(cc),max(cc): (30194,), 416,588\n",
            "After fixing the dirt mask, new values:\n",
            "rr.shape, min(rr),max(rr): (30194,), 79,302\n",
            "cc.shape, min(cc),max(cc): (30194,), 416,588\n",
            "mask.shape, min(mask),max(mask): (640, 640, 7), 0,1\n",
            "rr.shape, min(rr),max(rr): (32843,), 311,519\n",
            "cc.shape, min(cc),max(cc): (32843,), 0,178\n",
            "After fixing the dirt mask, new values:\n",
            "rr.shape, min(rr),max(rr): (32843,), 311,519\n",
            "cc.shape, min(cc),max(cc): (32843,), 0,178\n",
            "mask.shape, min(mask),max(mask): (640, 640, 7), 0,1\n",
            "rr.shape, min(rr),max(rr): (36678,), 296,514\n",
            "cc.shape, min(cc),max(cc): (36678,), 168,370\n",
            "After fixing the dirt mask, new values:\n",
            "rr.shape, min(rr),max(rr): (36678,), 296,514\n",
            "cc.shape, min(cc),max(cc): (36678,), 168,370\n",
            "mask.shape, min(mask),max(mask): (640, 640, 7), 0,1\n",
            "rr.shape, min(rr),max(rr): (31403,), 308,512\n",
            "cc.shape, min(cc),max(cc): (31403,), 365,557\n",
            "After fixing the dirt mask, new values:\n",
            "rr.shape, min(rr),max(rr): (31403,), 308,512\n",
            "mask.shape, min(mask),max(mask): (337, 500, 2), 0,0\n",
            "cc.shape, min(cc),max(cc): (31403,), 365,557\n",
            "rr.shape, min(rr),max(rr): (54620,), 59,328\n",
            "cc.shape, min(cc),max(cc): (54620,), 41,314\n",
            "After fixing the dirt mask, new values:\n",
            "rr.shape, min(rr),max(rr): (54620,), 59,328\n",
            "cc.shape, min(cc),max(cc): (54620,), 41,314\n",
            "mask.shape, min(mask),max(mask): (640, 640, 7), 0,1\n",
            "rr.shape, min(rr),max(rr): (18125,), 264,472\n",
            "cc.shape, min(cc),max(cc): (18125,), 522,639\n",
            "After fixing the dirt mask, new values:\n",
            "mask.shape, min(mask),max(mask): (337, 500, 2), 0,1\n",
            "rr.shape, min(rr),max(rr): (21291,), 1,139\n",
            "rr.shape, min(rr),max(rr): (18125,), 264,472\n",
            "cc.shape, min(cc),max(cc): (21291,), 272,461\n",
            "After fixing the dirt mask, new values:\n",
            "cc.shape, min(cc),max(cc): (18125,), 522,639\n"
          ]
        },
        {
          "output_type": "stream",
          "name": "stderr",
          "text": [
            "/usr/local/lib/python3.7/dist-packages/ipykernel_launcher.py:129: DeprecationWarning: `np.bool` is a deprecated alias for the builtin `bool`. To silence this warning, use `bool` by itself. Doing this will not modify any behavior and is safe. If you specifically wanted the numpy scalar type, use `np.bool_` here.\n",
            "Deprecated in NumPy 1.20; for more details and guidance: https://numpy.org/devdocs/release/1.20.0-notes.html#deprecations\n"
          ]
        },
        {
          "output_type": "stream",
          "name": "stdout",
          "text": [
            "rr.shape, min(rr),max(rr): (21291,), 1,139\n",
            "cc.shape, min(cc),max(cc): (21291,), 272,461\n"
          ]
        },
        {
          "output_type": "stream",
          "name": "stderr",
          "text": [
            "/usr/local/lib/python3.7/dist-packages/ipykernel_launcher.py:129: DeprecationWarning: `np.bool` is a deprecated alias for the builtin `bool`. To silence this warning, use `bool` by itself. Doing this will not modify any behavior and is safe. If you specifically wanted the numpy scalar type, use `np.bool_` here.\n",
            "Deprecated in NumPy 1.20; for more details and guidance: https://numpy.org/devdocs/release/1.20.0-notes.html#deprecations\n",
            "/usr/local/lib/python3.7/dist-packages/skimage/transform/_warps.py:830: FutureWarning: Input image dtype is bool. Interpolation is not defined with bool data type. Please set order to 0 or explicitely cast input image to another data type. Starting from version 0.19 a ValueError will be raised instead of this warning.\n",
            "  order = _validate_interpolation_order(image.dtype, order)\n",
            "/usr/local/lib/python3.7/dist-packages/skimage/transform/_warps.py:830: FutureWarning: Input image dtype is bool. Interpolation is not defined with bool data type. Please set order to 0 or explicitely cast input image to another data type. Starting from version 0.19 a ValueError will be raised instead of this warning.\n",
            "  order = _validate_interpolation_order(image.dtype, order)\n"
          ]
        },
        {
          "output_type": "stream",
          "name": "stdout",
          "text": [
            "mask.shape, min(mask),max(mask): (683, 1024, 1), 0,0\n",
            "rr.shape, min(rr),max(rr): (46308,), 202,443\n",
            "cc.shape, min(cc),max(cc): (46308,), 325,592\n",
            "After fixing the dirt mask, new values:\n",
            "rr.shape, min(rr),max(rr): (46308,), 202,443\n",
            "cc.shape, min(cc),max(cc): (46308,), 325,592\n"
          ]
        },
        {
          "output_type": "stream",
          "name": "stderr",
          "text": [
            "/usr/local/lib/python3.7/dist-packages/ipykernel_launcher.py:129: DeprecationWarning: `np.bool` is a deprecated alias for the builtin `bool`. To silence this warning, use `bool` by itself. Doing this will not modify any behavior and is safe. If you specifically wanted the numpy scalar type, use `np.bool_` here.\n",
            "Deprecated in NumPy 1.20; for more details and guidance: https://numpy.org/devdocs/release/1.20.0-notes.html#deprecations\n",
            "/usr/local/lib/python3.7/dist-packages/skimage/transform/_warps.py:830: FutureWarning: Input image dtype is bool. Interpolation is not defined with bool data type. Please set order to 0 or explicitely cast input image to another data type. Starting from version 0.19 a ValueError will be raised instead of this warning.\n",
            "  order = _validate_interpolation_order(image.dtype, order)\n"
          ]
        },
        {
          "output_type": "stream",
          "name": "stdout",
          "text": [
            "mask.shape, min(mask),max(mask): (2048, 1536, 1), 0,0\n",
            "rr.shape, min(rr),max(rr): (126162,), 1119,1586\n",
            "cc.shape, min(cc),max(cc): (126162,), 959,1350\n",
            "After fixing the dirt mask, new values:\n",
            "rr.shape, min(rr),max(rr): (126162,), 1119,1586\n",
            "cc.shape, min(cc),max(cc): (126162,), 959,1350\n"
          ]
        },
        {
          "output_type": "stream",
          "name": "stderr",
          "text": [
            "/usr/local/lib/python3.7/dist-packages/ipykernel_launcher.py:129: DeprecationWarning: `np.bool` is a deprecated alias for the builtin `bool`. To silence this warning, use `bool` by itself. Doing this will not modify any behavior and is safe. If you specifically wanted the numpy scalar type, use `np.bool_` here.\n",
            "Deprecated in NumPy 1.20; for more details and guidance: https://numpy.org/devdocs/release/1.20.0-notes.html#deprecations\n"
          ]
        },
        {
          "output_type": "stream",
          "name": "stdout",
          "text": [
            "mask.shape, min(mask),max(mask): (1067, 1600, 1), 0,0\n",
            "rr.shape, min(rr),max(rr): (226384,), 193,748\n",
            "cc.shape, min(cc),max(cc): (226384,), 244,750\n",
            "After fixing the dirt mask, new values:\n",
            "rr.shape, min(rr),max(rr): (226384,), 193,748\n",
            "cc.shape, min(cc),max(cc): (226384,), 244,750\n"
          ]
        },
        {
          "output_type": "stream",
          "name": "stderr",
          "text": [
            "/usr/local/lib/python3.7/dist-packages/ipykernel_launcher.py:129: DeprecationWarning: `np.bool` is a deprecated alias for the builtin `bool`. To silence this warning, use `bool` by itself. Doing this will not modify any behavior and is safe. If you specifically wanted the numpy scalar type, use `np.bool_` here.\n",
            "Deprecated in NumPy 1.20; for more details and guidance: https://numpy.org/devdocs/release/1.20.0-notes.html#deprecations\n",
            "/usr/local/lib/python3.7/dist-packages/skimage/transform/_warps.py:830: FutureWarning: Input image dtype is bool. Interpolation is not defined with bool data type. Please set order to 0 or explicitely cast input image to another data type. Starting from version 0.19 a ValueError will be raised instead of this warning.\n",
            "  order = _validate_interpolation_order(image.dtype, order)\n",
            "/usr/local/lib/python3.7/dist-packages/skimage/transform/_warps.py:830: FutureWarning: Input image dtype is bool. Interpolation is not defined with bool data type. Please set order to 0 or explicitely cast input image to another data type. Starting from version 0.19 a ValueError will be raised instead of this warning.\n",
            "  order = _validate_interpolation_order(image.dtype, order)\n"
          ]
        },
        {
          "output_type": "stream",
          "name": "stdout",
          "text": [
            "mask.shape, min(mask),max(mask): (500, 500, 1), 0,0\n",
            "rr.shape, min(rr),max(rr): (38525,), 165,385\n",
            "cc.shape, min(cc),max(cc): (38525,), 0,243\n",
            "After fixing the dirt mask, new values:\n",
            "rr.shape, min(rr),max(rr): (38525,), 165,385\n",
            "cc.shape, min(cc),max(cc): (38525,), 0,243\n"
          ]
        },
        {
          "output_type": "stream",
          "name": "stderr",
          "text": [
            "/usr/local/lib/python3.7/dist-packages/ipykernel_launcher.py:129: DeprecationWarning: `np.bool` is a deprecated alias for the builtin `bool`. To silence this warning, use `bool` by itself. Doing this will not modify any behavior and is safe. If you specifically wanted the numpy scalar type, use `np.bool_` here.\n",
            "Deprecated in NumPy 1.20; for more details and guidance: https://numpy.org/devdocs/release/1.20.0-notes.html#deprecations\n",
            "/usr/local/lib/python3.7/dist-packages/skimage/transform/_warps.py:830: FutureWarning: Input image dtype is bool. Interpolation is not defined with bool data type. Please set order to 0 or explicitely cast input image to another data type. Starting from version 0.19 a ValueError will be raised instead of this warning.\n",
            "  order = _validate_interpolation_order(image.dtype, order)\n"
          ]
        },
        {
          "output_type": "stream",
          "name": "stdout",
          "text": [
            "mask.shape, min(mask),max(mask): (375, 500, 1), 0,0\n",
            "rr.shape, min(rr),max(rr): (13318,), 69,215\n",
            "cc.shape, min(cc),max(cc): (13318,), 16,170\n",
            "After fixing the dirt mask, new values:\n",
            "rr.shape, min(rr),max(rr): (13318,), 69,215\n",
            "cc.shape, min(cc),max(cc): (13318,), 16,170\n"
          ]
        },
        {
          "output_type": "stream",
          "name": "stderr",
          "text": [
            "/usr/local/lib/python3.7/dist-packages/ipykernel_launcher.py:129: DeprecationWarning: `np.bool` is a deprecated alias for the builtin `bool`. To silence this warning, use `bool` by itself. Doing this will not modify any behavior and is safe. If you specifically wanted the numpy scalar type, use `np.bool_` here.\n",
            "Deprecated in NumPy 1.20; for more details and guidance: https://numpy.org/devdocs/release/1.20.0-notes.html#deprecations\n"
          ]
        },
        {
          "output_type": "stream",
          "name": "stdout",
          "text": [
            "mask.shape, min(mask),max(mask): (1365, 2048, 1), 0,0\n",
            "rr.shape, min(rr),max(rr): (268754,), 212,819\n",
            "cc.shape, min(cc),max(cc): (268754,), 375,1001\n",
            "After fixing the dirt mask, new values:\n",
            "rr.shape, min(rr),max(rr): (268754,), 212,819\n",
            "cc.shape, min(cc),max(cc): (268754,), 375,1001\n"
          ]
        },
        {
          "output_type": "stream",
          "name": "stderr",
          "text": [
            "/usr/local/lib/python3.7/dist-packages/ipykernel_launcher.py:129: DeprecationWarning: `np.bool` is a deprecated alias for the builtin `bool`. To silence this warning, use `bool` by itself. Doing this will not modify any behavior and is safe. If you specifically wanted the numpy scalar type, use `np.bool_` here.\n",
            "Deprecated in NumPy 1.20; for more details and guidance: https://numpy.org/devdocs/release/1.20.0-notes.html#deprecations\n",
            "/usr/local/lib/python3.7/dist-packages/skimage/transform/_warps.py:830: FutureWarning: Input image dtype is bool. Interpolation is not defined with bool data type. Please set order to 0 or explicitely cast input image to another data type. Starting from version 0.19 a ValueError will be raised instead of this warning.\n",
            "  order = _validate_interpolation_order(image.dtype, order)\n",
            "/usr/local/lib/python3.7/dist-packages/skimage/transform/_warps.py:830: FutureWarning: Input image dtype is bool. Interpolation is not defined with bool data type. Please set order to 0 or explicitely cast input image to another data type. Starting from version 0.19 a ValueError will be raised instead of this warning.\n",
            "  order = _validate_interpolation_order(image.dtype, order)\n"
          ]
        },
        {
          "output_type": "stream",
          "name": "stdout",
          "text": [
            "mask.shape, min(mask),max(mask): (1365, 2047, 14), 0,0\n",
            "rr.shape, min(rr),max(rr): (37975,), 0,225\n",
            "cc.shape, min(cc),max(cc): (37975,), 0,227\n",
            "After fixing the dirt mask, new values:\n",
            "rr.shape, min(rr),max(rr): (37975,), 0,225\n",
            "cc.shape, min(cc),max(cc): (37975,), 0,227\n",
            "mask.shape, min(mask),max(mask): (1365, 2047, 14), 0,1\n",
            "rr.shape, min(rr),max(rr): (38265,), 186,398\n",
            "cc.shape, min(cc),max(cc): (38265,), 79,309\n",
            "After fixing the dirt mask, new values:\n",
            "rr.shape, min(rr),max(rr): (38265,), 186,398\n",
            "cc.shape, min(cc),max(cc): (38265,), 79,309\n",
            "mask.shape, min(mask),max(mask): (1024, 1536, 1), 0,0\n",
            "rr.shape, min(rr),max(rr): (306741,), 189,823\n",
            "cc.shape, min(cc),max(cc): (306741,), 73,798\n",
            "After fixing the dirt mask, new values:\n",
            "rr.shape, min(rr),max(rr): (306741,), 189,823\n",
            "cc.shape, min(cc),max(cc): (306741,), 73,798\n"
          ]
        },
        {
          "output_type": "stream",
          "name": "stderr",
          "text": [
            "/usr/local/lib/python3.7/dist-packages/ipykernel_launcher.py:129: DeprecationWarning: `np.bool` is a deprecated alias for the builtin `bool`. To silence this warning, use `bool` by itself. Doing this will not modify any behavior and is safe. If you specifically wanted the numpy scalar type, use `np.bool_` here.\n",
            "Deprecated in NumPy 1.20; for more details and guidance: https://numpy.org/devdocs/release/1.20.0-notes.html#deprecations\n"
          ]
        },
        {
          "output_type": "stream",
          "name": "stdout",
          "text": [
            "mask.shape, min(mask),max(mask): (1365, 2047, 14), 0,1\n",
            "rr.shape, min(rr),max(rr): (29337,), 371,535\n",
            "cc.shape, min(cc),max(cc): (29337,), 0,213\n",
            "After fixing the dirt mask, new values:\n",
            "rr.shape, min(rr),max(rr): (29337,), 371,535\n",
            "cc.shape, min(cc),max(cc): (29337,), 0,213\n"
          ]
        },
        {
          "output_type": "stream",
          "name": "stderr",
          "text": [
            "/usr/local/lib/python3.7/dist-packages/skimage/transform/_warps.py:830: FutureWarning: Input image dtype is bool. Interpolation is not defined with bool data type. Please set order to 0 or explicitely cast input image to another data type. Starting from version 0.19 a ValueError will be raised instead of this warning.\n",
            "  order = _validate_interpolation_order(image.dtype, order)\n"
          ]
        },
        {
          "output_type": "stream",
          "name": "stdout",
          "text": [
            "mask.shape, min(mask),max(mask): (1365, 2047, 14), 0,1\n",
            "rr.shape, min(rr),max(rr): (33603,), 33,249\n",
            "cc.shape, min(cc),max(cc): (33603,), 218,454\n",
            "After fixing the dirt mask, new values:\n",
            "rr.shape, min(rr),max(rr): (33603,), 33,249\n",
            "cc.shape, min(cc),max(cc): (33603,), 218,454\n",
            "mask.shape, min(mask),max(mask): (1365, 2047, 14), 0,1\n",
            "rr.shape, min(rr),max(rr): (28751,), 377,542\n",
            "cc.shape, min(cc),max(cc): (28751,), 192,409\n",
            "After fixing the dirt mask, new values:\n",
            "rr.shape, min(rr),max(rr): (28751,), 377,542\n",
            "cc.shape, min(cc),max(cc): (28751,), 192,409\n",
            "mask.shape, min(mask),max(mask): (840, 1400, 1), 0,0\n",
            "rr.shape, min(rr),max(rr): (232786,), 146,644\n",
            "cc.shape, min(cc),max(cc): (232786,), 74,689\n",
            "After fixing the dirt mask, new values:\n",
            "rr.shape, min(rr),max(rr): (232786,), 146,644\n",
            "cc.shape, min(cc),max(cc): (232786,), 74,689\n"
          ]
        },
        {
          "output_type": "stream",
          "name": "stderr",
          "text": [
            "/usr/local/lib/python3.7/dist-packages/ipykernel_launcher.py:129: DeprecationWarning: `np.bool` is a deprecated alias for the builtin `bool`. To silence this warning, use `bool` by itself. Doing this will not modify any behavior and is safe. If you specifically wanted the numpy scalar type, use `np.bool_` here.\n",
            "Deprecated in NumPy 1.20; for more details and guidance: https://numpy.org/devdocs/release/1.20.0-notes.html#deprecations\n"
          ]
        },
        {
          "output_type": "stream",
          "name": "stdout",
          "text": [
            "mask.shape, min(mask),max(mask): (1365, 2047, 14), 0,1\n",
            "rr.shape, min(rr),max(rr): (35438,), 177,403\n",
            "cc.shape, min(cc),max(cc): (35438,), 286,504\n",
            "After fixing the dirt mask, new values:\n",
            "rr.shape, min(rr),max(rr): (35438,), 177,403\n",
            "cc.shape, min(cc),max(cc): (35438,), 286,504\n"
          ]
        },
        {
          "output_type": "stream",
          "name": "stderr",
          "text": [
            "/usr/local/lib/python3.7/dist-packages/skimage/transform/_warps.py:830: FutureWarning: Input image dtype is bool. Interpolation is not defined with bool data type. Please set order to 0 or explicitely cast input image to another data type. Starting from version 0.19 a ValueError will be raised instead of this warning.\n",
            "  order = _validate_interpolation_order(image.dtype, order)\n"
          ]
        },
        {
          "output_type": "stream",
          "name": "stdout",
          "text": [
            "mask.shape, min(mask),max(mask): (1365, 2047, 14), 0,1\n",
            "rr.shape, min(rr),max(rr): (37200,), 0,219\n",
            "cc.shape, min(cc),max(cc): (37200,), 436,681\n",
            "After fixing the dirt mask, new values:\n",
            "rr.shape, min(rr),max(rr): (37200,), 0,219\n",
            "cc.shape, min(cc),max(cc): (37200,), 436,681\n",
            "mask.shape, min(mask),max(mask): (1365, 2047, 14), 0,1\n",
            "rr.shape, min(rr),max(rr): (42911,), 175,409\n",
            "cc.shape, min(cc),max(cc): (42911,), 499,745\n",
            "After fixing the dirt mask, new values:\n",
            "rr.shape, min(rr),max(rr): (42911,), 175,409\n",
            "cc.shape, min(cc),max(cc): (42911,), 499,745\n",
            "mask.shape, min(mask),max(mask): (1365, 2047, 14), 0,1\n",
            "rr.shape, min(rr),max(rr): (33085,), 379,547\n",
            "cc.shape, min(cc),max(cc): (33085,), 386,629\n",
            "After fixing the dirt mask, new values:\n",
            "rr.shape, min(rr),max(rr): (33085,), 379,547\n",
            "cc.shape, min(cc),max(cc): (33085,), 386,629\n",
            "mask.shape, min(mask),max(mask): (1365, 2047, 14), 0,1\n",
            "rr.shape, min(rr),max(rr): (28656,), 46,224\n",
            "cc.shape, min(cc),max(cc): (28656,), 662,867\n",
            "After fixing the dirt mask, new values:\n",
            "rr.shape, min(rr),max(rr): (28656,), 46,224\n",
            "cc.shape, min(cc),max(cc): (28656,), 662,867\n",
            "mask.shape, min(mask),max(mask): (1365, 2047, 14), 0,1\n",
            "rr.shape, min(rr),max(rr): (32817,), 1,226\n",
            "cc.shape, min(cc),max(cc): (32817,), 863,1074\n",
            "After fixing the dirt mask, new values:\n",
            "rr.shape, min(rr),max(rr): (32817,), 1,226\n",
            "cc.shape, min(cc),max(cc): (32817,), 863,1074\n",
            "mask.shape, min(mask),max(mask): (1356, 2047, 1), 0,0\n",
            "rr.shape, min(rr),max(rr): (597074,), 240,1146\n",
            "cc.shape, min(cc),max(cc): (597074,), 1073,1970\n",
            "After fixing the dirt mask, new values:\n",
            "rr.shape, min(rr),max(rr): (597074,), 240,1146\n",
            "cc.shape, min(cc),max(cc): (597074,), 1073,1970\n"
          ]
        },
        {
          "output_type": "stream",
          "name": "stderr",
          "text": [
            "/usr/local/lib/python3.7/dist-packages/ipykernel_launcher.py:129: DeprecationWarning: `np.bool` is a deprecated alias for the builtin `bool`. To silence this warning, use `bool` by itself. Doing this will not modify any behavior and is safe. If you specifically wanted the numpy scalar type, use `np.bool_` here.\n",
            "Deprecated in NumPy 1.20; for more details and guidance: https://numpy.org/devdocs/release/1.20.0-notes.html#deprecations\n"
          ]
        },
        {
          "output_type": "stream",
          "name": "stdout",
          "text": [
            "mask.shape, min(mask),max(mask): (1365, 2047, 14), 0,1\n",
            "rr.shape, min(rr),max(rr): (43264,), 184,438\n",
            "cc.shape, min(cc),max(cc): (43264,), 741,972\n",
            "After fixing the dirt mask, new values:\n",
            "rr.shape, min(rr),max(rr): (43264,), 184,438\n",
            "cc.shape, min(cc),max(cc): (43264,), 741,972\n",
            "mask.shape, min(mask),max(mask): (1365, 2047, 14), 0,1\n",
            "rr.shape, min(rr),max(rr): (25755,), 395,552\n",
            "cc.shape, min(cc),max(cc): (25755,), 612,815\n",
            "After fixing the dirt mask, new values:\n",
            "rr.shape, min(rr),max(rr): (25755,), 395,552\n",
            "cc.shape, min(cc),max(cc): (25755,), 612,815\n"
          ]
        },
        {
          "output_type": "stream",
          "name": "stderr",
          "text": [
            "/usr/local/lib/python3.7/dist-packages/skimage/transform/_warps.py:830: FutureWarning: Input image dtype is bool. Interpolation is not defined with bool data type. Please set order to 0 or explicitely cast input image to another data type. Starting from version 0.19 a ValueError will be raised instead of this warning.\n",
            "  order = _validate_interpolation_order(image.dtype, order)\n"
          ]
        },
        {
          "output_type": "stream",
          "name": "stdout",
          "text": [
            "mask.shape, min(mask),max(mask): (1365, 2047, 14), 0,1\n",
            "rr.shape, min(rr),max(rr): (25388,), 402,555\n",
            "cc.shape, min(cc),max(cc): (25388,), 806,1003\n",
            "After fixing the dirt mask, new values:\n",
            "rr.shape, min(rr),max(rr): (25388,), 402,555\n",
            "cc.shape, min(cc),max(cc): (25388,), 806,1003\n"
          ]
        },
        {
          "output_type": "stream",
          "name": "stderr",
          "text": [
            "/usr/local/lib/python3.7/dist-packages/ipykernel_launcher.py:129: DeprecationWarning: `np.bool` is a deprecated alias for the builtin `bool`. To silence this warning, use `bool` by itself. Doing this will not modify any behavior and is safe. If you specifically wanted the numpy scalar type, use `np.bool_` here.\n",
            "Deprecated in NumPy 1.20; for more details and guidance: https://numpy.org/devdocs/release/1.20.0-notes.html#deprecations\n"
          ]
        },
        {
          "output_type": "stream",
          "name": "stdout",
          "text": [
            "mask.shape, min(mask),max(mask): (606, 606, 2), 0,0\n",
            "rr.shape, min(rr),max(rr): (78497,), 34,425\n",
            "cc.shape, min(cc),max(cc): (78497,), 114,474\n",
            "After fixing the dirt mask, new values:\n",
            "rr.shape, min(rr),max(rr): (78497,), 34,425\n",
            "cc.shape, min(cc),max(cc): (78497,), 114,474\n",
            "mask.shape, min(mask),max(mask): (606, 606, 2), 0,1\n",
            "rr.shape, min(rr),max(rr): (22891,), 178,441\n",
            "cc.shape, min(cc),max(cc): (22891,), 1,147\n",
            "After fixing the dirt mask, new values:\n",
            "rr.shape, min(rr),max(rr): (22891,), 178,441\n",
            "cc.shape, min(cc),max(cc): (22891,), 1,147\n"
          ]
        },
        {
          "output_type": "stream",
          "name": "stderr",
          "text": [
            "/usr/local/lib/python3.7/dist-packages/ipykernel_launcher.py:129: DeprecationWarning: `np.bool` is a deprecated alias for the builtin `bool`. To silence this warning, use `bool` by itself. Doing this will not modify any behavior and is safe. If you specifically wanted the numpy scalar type, use `np.bool_` here.\n",
            "Deprecated in NumPy 1.20; for more details and guidance: https://numpy.org/devdocs/release/1.20.0-notes.html#deprecations\n",
            "/usr/local/lib/python3.7/dist-packages/skimage/transform/_warps.py:830: FutureWarning: Input image dtype is bool. Interpolation is not defined with bool data type. Please set order to 0 or explicitely cast input image to another data type. Starting from version 0.19 a ValueError will be raised instead of this warning.\n",
            "  order = _validate_interpolation_order(image.dtype, order)\n"
          ]
        },
        {
          "output_type": "stream",
          "name": "stdout",
          "text": [
            "mask.shape, min(mask),max(mask): (337, 500, 2), 0,0\n",
            "rr.shape, min(rr),max(rr): (54620,), 59,328\n",
            "cc.shape, min(cc),max(cc): (54620,), 41,314\n",
            "After fixing the dirt mask, new values:\n"
          ]
        },
        {
          "output_type": "stream",
          "name": "stderr",
          "text": [
            "/usr/local/lib/python3.7/dist-packages/skimage/transform/_warps.py:830: FutureWarning: Input image dtype is bool. Interpolation is not defined with bool data type. Please set order to 0 or explicitely cast input image to another data type. Starting from version 0.19 a ValueError will be raised instead of this warning.\n",
            "  order = _validate_interpolation_order(image.dtype, order)\n"
          ]
        },
        {
          "output_type": "stream",
          "name": "stdout",
          "text": [
            "rr.shape, min(rr),max(rr): (54620,), 59,328\n",
            "cc.shape, min(cc),max(cc): (54620,), 41,314\n",
            "mask.shape, min(mask),max(mask): (337, 500, 2), 0,1\n",
            "rr.shape, min(rr),max(rr): (21291,), 1,139\n",
            "cc.shape, min(cc),max(cc): (21291,), 272,461\n",
            "After fixing the dirt mask, new values:\n",
            "rr.shape, min(rr),max(rr): (21291,), 1,139\n",
            "cc.shape, min(cc),max(cc): (21291,), 272,461\n"
          ]
        },
        {
          "output_type": "stream",
          "name": "stderr",
          "text": [
            "/usr/local/lib/python3.7/dist-packages/ipykernel_launcher.py:129: DeprecationWarning: `np.bool` is a deprecated alias for the builtin `bool`. To silence this warning, use `bool` by itself. Doing this will not modify any behavior and is safe. If you specifically wanted the numpy scalar type, use `np.bool_` here.\n",
            "Deprecated in NumPy 1.20; for more details and guidance: https://numpy.org/devdocs/release/1.20.0-notes.html#deprecations\n",
            "/usr/local/lib/python3.7/dist-packages/skimage/transform/_warps.py:830: FutureWarning: Input image dtype is bool. Interpolation is not defined with bool data type. Please set order to 0 or explicitely cast input image to another data type. Starting from version 0.19 a ValueError will be raised instead of this warning.\n",
            "  order = _validate_interpolation_order(image.dtype, order)\n"
          ]
        },
        {
          "output_type": "stream",
          "name": "stdout",
          "text": [
            "mask.shape, min(mask),max(mask): (399, 263, 1), 0,0\n",
            "rr.shape, min(rr),max(rr): (14486,), 19,159\n",
            "cc.shape, min(cc),max(cc): (14486,), 67,206\n",
            "After fixing the dirt mask, new values:\n",
            "rr.shape, min(rr),max(rr): (14486,), 19,159\n",
            "cc.shape, min(cc),max(cc): (14486,), 67,206\n"
          ]
        },
        {
          "output_type": "stream",
          "name": "stderr",
          "text": [
            "/usr/local/lib/python3.7/dist-packages/ipykernel_launcher.py:129: DeprecationWarning: `np.bool` is a deprecated alias for the builtin `bool`. To silence this warning, use `bool` by itself. Doing this will not modify any behavior and is safe. If you specifically wanted the numpy scalar type, use `np.bool_` here.\n",
            "Deprecated in NumPy 1.20; for more details and guidance: https://numpy.org/devdocs/release/1.20.0-notes.html#deprecations\n"
          ]
        },
        {
          "output_type": "stream",
          "name": "stdout",
          "text": [
            "mask.shape, min(mask),max(mask): (2048, 1365, 1), 0,0\n",
            "rr.shape, min(rr),max(rr): (15588,), 987,1130\n",
            "cc.shape, min(cc),max(cc): (15588,), 342,485\n",
            "After fixing the dirt mask, new values:\n",
            "rr.shape, min(rr),max(rr): (15588,), 987,1130\n",
            "cc.shape, min(cc),max(cc): (15588,), 342,485\n"
          ]
        },
        {
          "output_type": "stream",
          "name": "stderr",
          "text": [
            "/usr/local/lib/python3.7/dist-packages/ipykernel_launcher.py:129: DeprecationWarning: `np.bool` is a deprecated alias for the builtin `bool`. To silence this warning, use `bool` by itself. Doing this will not modify any behavior and is safe. If you specifically wanted the numpy scalar type, use `np.bool_` here.\n",
            "Deprecated in NumPy 1.20; for more details and guidance: https://numpy.org/devdocs/release/1.20.0-notes.html#deprecations\n",
            "/usr/local/lib/python3.7/dist-packages/skimage/transform/_warps.py:830: FutureWarning: Input image dtype is bool. Interpolation is not defined with bool data type. Please set order to 0 or explicitely cast input image to another data type. Starting from version 0.19 a ValueError will be raised instead of this warning.\n",
            "  order = _validate_interpolation_order(image.dtype, order)\n"
          ]
        },
        {
          "output_type": "stream",
          "name": "stdout",
          "text": [
            "mask.shape, min(mask),max(mask): (280, 280, 2), 0,0\n",
            "rr.shape, min(rr),max(rr): (11829,), 93,226\n",
            "cc.shape, min(cc),max(cc): (11829,), 159,279\n",
            "After fixing the dirt mask, new values:\n",
            "rr.shape, min(rr),max(rr): (11829,), 93,226\n",
            "cc.shape, min(cc),max(cc): (11829,), 159,279\n",
            "mask.shape, min(mask),max(mask): (280, 280, 2), 0,1\n",
            "rr.shape, min(rr),max(rr): (7642,), 88,216\n",
            "cc.shape, min(cc),max(cc): (7642,), 0,78\n",
            "After fixing the dirt mask, new values:\n",
            "rr.shape, min(rr),max(rr): (7642,), 88,216\n"
          ]
        },
        {
          "output_type": "stream",
          "name": "stderr",
          "text": [
            "/usr/local/lib/python3.7/dist-packages/skimage/transform/_warps.py:830: FutureWarning: Input image dtype is bool. Interpolation is not defined with bool data type. Please set order to 0 or explicitely cast input image to another data type. Starting from version 0.19 a ValueError will be raised instead of this warning.\n",
            "  order = _validate_interpolation_order(image.dtype, order)\n"
          ]
        },
        {
          "output_type": "stream",
          "name": "stdout",
          "text": [
            "cc.shape, min(cc),max(cc): (7642,), 0,78\n"
          ]
        },
        {
          "output_type": "stream",
          "name": "stderr",
          "text": [
            "/usr/local/lib/python3.7/dist-packages/ipykernel_launcher.py:129: DeprecationWarning: `np.bool` is a deprecated alias for the builtin `bool`. To silence this warning, use `bool` by itself. Doing this will not modify any behavior and is safe. If you specifically wanted the numpy scalar type, use `np.bool_` here.\n",
            "Deprecated in NumPy 1.20; for more details and guidance: https://numpy.org/devdocs/release/1.20.0-notes.html#deprecations\n",
            "/usr/local/lib/python3.7/dist-packages/skimage/transform/_warps.py:830: FutureWarning: Input image dtype is bool. Interpolation is not defined with bool data type. Please set order to 0 or explicitely cast input image to another data type. Starting from version 0.19 a ValueError will be raised instead of this warning.\n",
            "  order = _validate_interpolation_order(image.dtype, order)\n"
          ]
        },
        {
          "output_type": "stream",
          "name": "stdout",
          "text": [
            "mask.shape, min(mask),max(mask): (1024, 683, 1), 0,0\n",
            "rr.shape, min(rr),max(rr): (190428,), 472,1024\n",
            "cc.shape, min(cc),max(cc): (190428,), 92,577\n",
            "After fixing the dirt mask, new values:\n",
            "rr.shape, min(rr),max(rr): (190428,), 472,1023\n",
            "cc.shape, min(cc),max(cc): (190428,), 92,577\n"
          ]
        },
        {
          "output_type": "stream",
          "name": "stderr",
          "text": [
            "/usr/local/lib/python3.7/dist-packages/ipykernel_launcher.py:129: DeprecationWarning: `np.bool` is a deprecated alias for the builtin `bool`. To silence this warning, use `bool` by itself. Doing this will not modify any behavior and is safe. If you specifically wanted the numpy scalar type, use `np.bool_` here.\n",
            "Deprecated in NumPy 1.20; for more details and guidance: https://numpy.org/devdocs/release/1.20.0-notes.html#deprecations\n",
            "/usr/local/lib/python3.7/dist-packages/skimage/transform/_warps.py:830: FutureWarning: Input image dtype is bool. Interpolation is not defined with bool data type. Please set order to 0 or explicitely cast input image to another data type. Starting from version 0.19 a ValueError will be raised instead of this warning.\n",
            "  order = _validate_interpolation_order(image.dtype, order)\n"
          ]
        },
        {
          "output_type": "stream",
          "name": "stdout",
          "text": [
            "mask.shape, min(mask),max(mask): (1700, 2400, 1), 0,0\n",
            "rr.shape, min(rr),max(rr): (463059,), 608,1387\n",
            "cc.shape, min(cc),max(cc): (463059,), 242,992\n",
            "After fixing the dirt mask, new values:\n",
            "rr.shape, min(rr),max(rr): (463059,), 608,1387\n",
            "cc.shape, min(cc),max(cc): (463059,), 242,992\n"
          ]
        },
        {
          "output_type": "stream",
          "name": "stderr",
          "text": [
            "/usr/local/lib/python3.7/dist-packages/ipykernel_launcher.py:129: DeprecationWarning: `np.bool` is a deprecated alias for the builtin `bool`. To silence this warning, use `bool` by itself. Doing this will not modify any behavior and is safe. If you specifically wanted the numpy scalar type, use `np.bool_` here.\n",
            "Deprecated in NumPy 1.20; for more details and guidance: https://numpy.org/devdocs/release/1.20.0-notes.html#deprecations\n"
          ]
        },
        {
          "output_type": "stream",
          "name": "stdout",
          "text": [
            "mask.shape, min(mask),max(mask): (640, 572, 1), 0,0\n",
            "rr.shape, min(rr),max(rr): (223009,), 35,607\n",
            "cc.shape, min(cc),max(cc): (223009,), 35,537\n",
            "After fixing the dirt mask, new values:\n",
            "rr.shape, min(rr),max(rr): (223009,), 35,607\n",
            "cc.shape, min(cc),max(cc): (223009,), 35,537\n"
          ]
        },
        {
          "output_type": "stream",
          "name": "stderr",
          "text": [
            "/usr/local/lib/python3.7/dist-packages/ipykernel_launcher.py:129: DeprecationWarning: `np.bool` is a deprecated alias for the builtin `bool`. To silence this warning, use `bool` by itself. Doing this will not modify any behavior and is safe. If you specifically wanted the numpy scalar type, use `np.bool_` here.\n",
            "Deprecated in NumPy 1.20; for more details and guidance: https://numpy.org/devdocs/release/1.20.0-notes.html#deprecations\n",
            "/usr/local/lib/python3.7/dist-packages/skimage/transform/_warps.py:830: FutureWarning: Input image dtype is bool. Interpolation is not defined with bool data type. Please set order to 0 or explicitely cast input image to another data type. Starting from version 0.19 a ValueError will be raised instead of this warning.\n",
            "  order = _validate_interpolation_order(image.dtype, order)\n",
            "/usr/local/lib/python3.7/dist-packages/skimage/transform/_warps.py:830: FutureWarning: Input image dtype is bool. Interpolation is not defined with bool data type. Please set order to 0 or explicitely cast input image to another data type. Starting from version 0.19 a ValueError will be raised instead of this warning.\n",
            "  order = _validate_interpolation_order(image.dtype, order)\n"
          ]
        },
        {
          "output_type": "stream",
          "name": "stdout",
          "text": [
            "mask.shape, min(mask),max(mask): (480, 852, 1), 0,0\n",
            "rr.shape, min(rr),max(rr): (36766,), 121,340\n",
            "cc.shape, min(cc),max(cc): (36766,), 340,565\n",
            "After fixing the dirt mask, new values:\n",
            "rr.shape, min(rr),max(rr): (36766,), 121,340\n",
            "cc.shape, min(cc),max(cc): (36766,), 340,565\n"
          ]
        },
        {
          "output_type": "stream",
          "name": "stderr",
          "text": [
            "/usr/local/lib/python3.7/dist-packages/ipykernel_launcher.py:129: DeprecationWarning: `np.bool` is a deprecated alias for the builtin `bool`. To silence this warning, use `bool` by itself. Doing this will not modify any behavior and is safe. If you specifically wanted the numpy scalar type, use `np.bool_` here.\n",
            "Deprecated in NumPy 1.20; for more details and guidance: https://numpy.org/devdocs/release/1.20.0-notes.html#deprecations\n",
            "/usr/local/lib/python3.7/dist-packages/skimage/transform/_warps.py:830: FutureWarning: Input image dtype is bool. Interpolation is not defined with bool data type. Please set order to 0 or explicitely cast input image to another data type. Starting from version 0.19 a ValueError will be raised instead of this warning.\n",
            "  order = _validate_interpolation_order(image.dtype, order)\n"
          ]
        },
        {
          "output_type": "stream",
          "name": "stdout",
          "text": [
            "mask.shape, min(mask),max(mask): (1067, 1600, 1), 0,0\n",
            "rr.shape, min(rr),max(rr): (77179,), 7,344\n",
            "cc.shape, min(cc),max(cc): (77179,), 906,1260\n",
            "After fixing the dirt mask, new values:\n",
            "rr.shape, min(rr),max(rr): (77179,), 7,344\n",
            "cc.shape, min(cc),max(cc): (77179,), 906,1260\n"
          ]
        },
        {
          "output_type": "stream",
          "name": "stderr",
          "text": [
            "/usr/local/lib/python3.7/dist-packages/ipykernel_launcher.py:129: DeprecationWarning: `np.bool` is a deprecated alias for the builtin `bool`. To silence this warning, use `bool` by itself. Doing this will not modify any behavior and is safe. If you specifically wanted the numpy scalar type, use `np.bool_` here.\n",
            "Deprecated in NumPy 1.20; for more details and guidance: https://numpy.org/devdocs/release/1.20.0-notes.html#deprecations\n",
            "/usr/local/lib/python3.7/dist-packages/skimage/transform/_warps.py:830: FutureWarning: Input image dtype is bool. Interpolation is not defined with bool data type. Please set order to 0 or explicitely cast input image to another data type. Starting from version 0.19 a ValueError will be raised instead of this warning.\n",
            "  order = _validate_interpolation_order(image.dtype, order)\n"
          ]
        },
        {
          "output_type": "stream",
          "name": "stdout",
          "text": [
            "mask.shape, min(mask),max(mask): (640, 572, 1), 0,0\n",
            "rr.shape, min(rr),max(rr): (223009,), 35,607\n",
            "cc.shape, min(cc),max(cc): (223009,), 35,537\n",
            "After fixing the dirt mask, new values:\n",
            "rr.shape, min(rr),max(rr): (223009,), 35,607\n",
            "cc.shape, min(cc),max(cc): (223009,), 35,537\n"
          ]
        },
        {
          "output_type": "stream",
          "name": "stderr",
          "text": [
            "/usr/local/lib/python3.7/dist-packages/ipykernel_launcher.py:129: DeprecationWarning: `np.bool` is a deprecated alias for the builtin `bool`. To silence this warning, use `bool` by itself. Doing this will not modify any behavior and is safe. If you specifically wanted the numpy scalar type, use `np.bool_` here.\n",
            "Deprecated in NumPy 1.20; for more details and guidance: https://numpy.org/devdocs/release/1.20.0-notes.html#deprecations\n",
            "/usr/local/lib/python3.7/dist-packages/skimage/transform/_warps.py:830: FutureWarning: Input image dtype is bool. Interpolation is not defined with bool data type. Please set order to 0 or explicitely cast input image to another data type. Starting from version 0.19 a ValueError will be raised instead of this warning.\n",
            "  order = _validate_interpolation_order(image.dtype, order)\n"
          ]
        },
        {
          "output_type": "stream",
          "name": "stdout",
          "text": [
            "mask.shape, min(mask),max(mask): (681, 1024, 1), 0,0\n",
            "rr.shape, min(rr),max(rr): (236138,), 65,648\n",
            "cc.shape, min(cc),max(cc): (236138,), 0,577\n",
            "After fixing the dirt mask, new values:\n",
            "rr.shape, min(rr),max(rr): (236138,), 65,648\n",
            "cc.shape, min(cc),max(cc): (236138,), 0,577\n"
          ]
        },
        {
          "output_type": "stream",
          "name": "stderr",
          "text": [
            "/usr/local/lib/python3.7/dist-packages/ipykernel_launcher.py:129: DeprecationWarning: `np.bool` is a deprecated alias for the builtin `bool`. To silence this warning, use `bool` by itself. Doing this will not modify any behavior and is safe. If you specifically wanted the numpy scalar type, use `np.bool_` here.\n",
            "Deprecated in NumPy 1.20; for more details and guidance: https://numpy.org/devdocs/release/1.20.0-notes.html#deprecations\n",
            "/usr/local/lib/python3.7/dist-packages/skimage/transform/_warps.py:830: FutureWarning: Input image dtype is bool. Interpolation is not defined with bool data type. Please set order to 0 or explicitely cast input image to another data type. Starting from version 0.19 a ValueError will be raised instead of this warning.\n",
            "  order = _validate_interpolation_order(image.dtype, order)\n"
          ]
        },
        {
          "output_type": "stream",
          "name": "stdout",
          "text": [
            "mask.shape, min(mask),max(mask): (540, 960, 1), 0,0\n",
            "rr.shape, min(rr),max(rr): (83168,), 115,454\n",
            "cc.shape, min(cc),max(cc): (83168,), 306,657\n",
            "After fixing the dirt mask, new values:\n",
            "rr.shape, min(rr),max(rr): (83168,), 115,454\n",
            "cc.shape, min(cc),max(cc): (83168,), 306,657\n"
          ]
        },
        {
          "output_type": "stream",
          "name": "stderr",
          "text": [
            "/usr/local/lib/python3.7/dist-packages/ipykernel_launcher.py:129: DeprecationWarning: `np.bool` is a deprecated alias for the builtin `bool`. To silence this warning, use `bool` by itself. Doing this will not modify any behavior and is safe. If you specifically wanted the numpy scalar type, use `np.bool_` here.\n",
            "Deprecated in NumPy 1.20; for more details and guidance: https://numpy.org/devdocs/release/1.20.0-notes.html#deprecations\n",
            "/usr/local/lib/python3.7/dist-packages/skimage/transform/_warps.py:830: FutureWarning: Input image dtype is bool. Interpolation is not defined with bool data type. Please set order to 0 or explicitely cast input image to another data type. Starting from version 0.19 a ValueError will be raised instead of this warning.\n",
            "  order = _validate_interpolation_order(image.dtype, order)\n"
          ]
        },
        {
          "output_type": "stream",
          "name": "stdout",
          "text": [
            "mask.shape, min(mask),max(mask): (480, 852, 1), 0,0\n",
            "rr.shape, min(rr),max(rr): (167163,), 0,459\n",
            "cc.shape, min(cc),max(cc): (167163,), 4,539\n",
            "After fixing the dirt mask, new values:\n",
            "rr.shape, min(rr),max(rr): (167163,), 0,459\n",
            "cc.shape, min(cc),max(cc): (167163,), 4,539\n"
          ]
        },
        {
          "output_type": "stream",
          "name": "stderr",
          "text": [
            "/usr/local/lib/python3.7/dist-packages/ipykernel_launcher.py:129: DeprecationWarning: `np.bool` is a deprecated alias for the builtin `bool`. To silence this warning, use `bool` by itself. Doing this will not modify any behavior and is safe. If you specifically wanted the numpy scalar type, use `np.bool_` here.\n",
            "Deprecated in NumPy 1.20; for more details and guidance: https://numpy.org/devdocs/release/1.20.0-notes.html#deprecations\n",
            "/usr/local/lib/python3.7/dist-packages/skimage/transform/_warps.py:830: FutureWarning: Input image dtype is bool. Interpolation is not defined with bool data type. Please set order to 0 or explicitely cast input image to another data type. Starting from version 0.19 a ValueError will be raised instead of this warning.\n",
            "  order = _validate_interpolation_order(image.dtype, order)\n"
          ]
        },
        {
          "output_type": "stream",
          "name": "stdout",
          "text": [
            "mask.shape, min(mask),max(mask): (640, 960, 2), 0,0\n",
            "rr.shape, min(rr),max(rr): (36043,), 10,281\n",
            "cc.shape, min(cc),max(cc): (36043,), 221,435\n",
            "After fixing the dirt mask, new values:\n",
            "rr.shape, min(rr),max(rr): (36043,), 10,281\n",
            "cc.shape, min(cc),max(cc): (36043,), 221,435\n",
            "mask.shape, min(mask),max(mask): (640, 960, 2), 0,1\n",
            "rr.shape, min(rr),max(rr): (42332,), 46,301\n",
            "cc.shape, min(cc),max(cc): (42332,), 565,786\n",
            "After fixing the dirt mask, new values:\n",
            "rr.shape, min(rr),max(rr): (42332,), 46,301\n",
            "cc.shape, min(cc),max(cc): (42332,), 565,786\n"
          ]
        },
        {
          "output_type": "stream",
          "name": "stderr",
          "text": [
            "/usr/local/lib/python3.7/dist-packages/ipykernel_launcher.py:129: DeprecationWarning: `np.bool` is a deprecated alias for the builtin `bool`. To silence this warning, use `bool` by itself. Doing this will not modify any behavior and is safe. If you specifically wanted the numpy scalar type, use `np.bool_` here.\n",
            "Deprecated in NumPy 1.20; for more details and guidance: https://numpy.org/devdocs/release/1.20.0-notes.html#deprecations\n",
            "/usr/local/lib/python3.7/dist-packages/skimage/transform/_warps.py:830: FutureWarning: Input image dtype is bool. Interpolation is not defined with bool data type. Please set order to 0 or explicitely cast input image to another data type. Starting from version 0.19 a ValueError will be raised instead of this warning.\n",
            "  order = _validate_interpolation_order(image.dtype, order)\n"
          ]
        },
        {
          "output_type": "stream",
          "name": "stdout",
          "text": [
            "mask.shape, min(mask),max(mask): (1356, 2047, 1), 0,0\n",
            "rr.shape, min(rr),max(rr): (597074,), 240,1146\n",
            "cc.shape, min(cc),max(cc): (597074,), 1073,1970\n",
            "After fixing the dirt mask, new values:\n",
            "rr.shape, min(rr),max(rr): (597074,), 240,1146\n",
            "cc.shape, min(cc),max(cc): (597074,), 1073,1970\n"
          ]
        },
        {
          "output_type": "stream",
          "name": "stderr",
          "text": [
            "/usr/local/lib/python3.7/dist-packages/ipykernel_launcher.py:129: DeprecationWarning: `np.bool` is a deprecated alias for the builtin `bool`. To silence this warning, use `bool` by itself. Doing this will not modify any behavior and is safe. If you specifically wanted the numpy scalar type, use `np.bool_` here.\n",
            "Deprecated in NumPy 1.20; for more details and guidance: https://numpy.org/devdocs/release/1.20.0-notes.html#deprecations\n"
          ]
        },
        {
          "output_type": "stream",
          "name": "stdout",
          "text": [
            "mask.shape, min(mask),max(mask): (682, 1024, 2), 0,0\n",
            "rr.shape, min(rr),max(rr): (79055,), 194,510\n",
            "cc.shape, min(cc),max(cc): (79055,), 663,978\n",
            "After fixing the dirt mask, new values:\n",
            "rr.shape, min(rr),max(rr): (79055,), 194,510\n",
            "cc.shape, min(cc),max(cc): (79055,), 663,978\n",
            "mask.shape, min(mask),max(mask): (682, 1024, 2), 0,1\n",
            "rr.shape, min(rr),max(rr): (27801,), 61,282\n",
            "cc.shape, min(cc),max(cc): (27801,), 627,895\n",
            "After fixing the dirt mask, new values:\n",
            "rr.shape, min(rr),max(rr): (27801,), 61,282\n",
            "cc.shape, min(cc),max(cc): (27801,), 627,895\n"
          ]
        },
        {
          "output_type": "stream",
          "name": "stderr",
          "text": [
            "/usr/local/lib/python3.7/dist-packages/ipykernel_launcher.py:129: DeprecationWarning: `np.bool` is a deprecated alias for the builtin `bool`. To silence this warning, use `bool` by itself. Doing this will not modify any behavior and is safe. If you specifically wanted the numpy scalar type, use `np.bool_` here.\n",
            "Deprecated in NumPy 1.20; for more details and guidance: https://numpy.org/devdocs/release/1.20.0-notes.html#deprecations\n",
            "/usr/local/lib/python3.7/dist-packages/skimage/transform/_warps.py:830: FutureWarning: Input image dtype is bool. Interpolation is not defined with bool data type. Please set order to 0 or explicitely cast input image to another data type. Starting from version 0.19 a ValueError will be raised instead of this warning.\n",
            "  order = _validate_interpolation_order(image.dtype, order)\n",
            "/usr/local/lib/python3.7/dist-packages/skimage/transform/_warps.py:830: FutureWarning: Input image dtype is bool. Interpolation is not defined with bool data type. Please set order to 0 or explicitely cast input image to another data type. Starting from version 0.19 a ValueError will be raised instead of this warning.\n",
            "  order = _validate_interpolation_order(image.dtype, order)\n"
          ]
        },
        {
          "output_type": "stream",
          "name": "stdout",
          "text": [
            "mask.shape, min(mask),max(mask): (1196, 858, 1), 0,0\n",
            "rr.shape, min(rr),max(rr): (319855,), 261,926\n",
            "cc.shape, min(cc),max(cc): (319855,), 140,855\n",
            "After fixing the dirt mask, new values:\n",
            "rr.shape, min(rr),max(rr): (319855,), 261,926\n",
            "cc.shape, min(cc),max(cc): (319855,), 140,855\n"
          ]
        },
        {
          "output_type": "stream",
          "name": "stderr",
          "text": [
            "/usr/local/lib/python3.7/dist-packages/ipykernel_launcher.py:129: DeprecationWarning: `np.bool` is a deprecated alias for the builtin `bool`. To silence this warning, use `bool` by itself. Doing this will not modify any behavior and is safe. If you specifically wanted the numpy scalar type, use `np.bool_` here.\n",
            "Deprecated in NumPy 1.20; for more details and guidance: https://numpy.org/devdocs/release/1.20.0-notes.html#deprecations\n"
          ]
        },
        {
          "output_type": "stream",
          "name": "stdout",
          "text": [
            "mask.shape, min(mask),max(mask): (1440, 2560, 1), 0,0\n",
            "rr.shape, min(rr),max(rr): (206108,), 125,592\n",
            "cc.shape, min(cc),max(cc): (206108,), 965,1545\n",
            "After fixing the dirt mask, new values:\n",
            "rr.shape, min(rr),max(rr): (206108,), 125,592\n",
            "cc.shape, min(cc),max(cc): (206108,), 965,1545\n"
          ]
        },
        {
          "output_type": "stream",
          "name": "stderr",
          "text": [
            "/usr/local/lib/python3.7/dist-packages/ipykernel_launcher.py:129: DeprecationWarning: `np.bool` is a deprecated alias for the builtin `bool`. To silence this warning, use `bool` by itself. Doing this will not modify any behavior and is safe. If you specifically wanted the numpy scalar type, use `np.bool_` here.\n",
            "Deprecated in NumPy 1.20; for more details and guidance: https://numpy.org/devdocs/release/1.20.0-notes.html#deprecations\n",
            "/usr/local/lib/python3.7/dist-packages/skimage/transform/_warps.py:830: FutureWarning: Input image dtype is bool. Interpolation is not defined with bool data type. Please set order to 0 or explicitely cast input image to another data type. Starting from version 0.19 a ValueError will be raised instead of this warning.\n",
            "  order = _validate_interpolation_order(image.dtype, order)\n"
          ]
        },
        {
          "output_type": "stream",
          "name": "stdout",
          "text": [
            "mask.shape, min(mask),max(mask): (498, 500, 1), 0,0\n",
            "rr.shape, min(rr),max(rr): (32757,), 99,326\n",
            "cc.shape, min(cc),max(cc): (32757,), 33,247\n",
            "After fixing the dirt mask, new values:\n",
            "rr.shape, min(rr),max(rr): (32757,), 99,326\n",
            "cc.shape, min(cc),max(cc): (32757,), 33,247\n"
          ]
        },
        {
          "output_type": "stream",
          "name": "stderr",
          "text": [
            "/usr/local/lib/python3.7/dist-packages/ipykernel_launcher.py:129: DeprecationWarning: `np.bool` is a deprecated alias for the builtin `bool`. To silence this warning, use `bool` by itself. Doing this will not modify any behavior and is safe. If you specifically wanted the numpy scalar type, use `np.bool_` here.\n",
            "Deprecated in NumPy 1.20; for more details and guidance: https://numpy.org/devdocs/release/1.20.0-notes.html#deprecations\n",
            "/usr/local/lib/python3.7/dist-packages/skimage/transform/_warps.py:830: FutureWarning: Input image dtype is bool. Interpolation is not defined with bool data type. Please set order to 0 or explicitely cast input image to another data type. Starting from version 0.19 a ValueError will be raised instead of this warning.\n",
            "  order = _validate_interpolation_order(image.dtype, order)\n",
            "/usr/local/lib/python3.7/dist-packages/skimage/transform/_warps.py:830: FutureWarning: Input image dtype is bool. Interpolation is not defined with bool data type. Please set order to 0 or explicitely cast input image to another data type. Starting from version 0.19 a ValueError will be raised instead of this warning.\n",
            "  order = _validate_interpolation_order(image.dtype, order)\n"
          ]
        },
        {
          "output_type": "stream",
          "name": "stdout",
          "text": [
            "mask.shape, min(mask),max(mask): (450, 600, 1), 0,0\n",
            "rr.shape, min(rr),max(rr): (6745,), 160,264\n",
            "cc.shape, min(cc),max(cc): (6745,), 474,584\n",
            "After fixing the dirt mask, new values:\n",
            "rr.shape, min(rr),max(rr): (6745,), 160,264\n",
            "cc.shape, min(cc),max(cc): (6745,), 474,584\n"
          ]
        },
        {
          "output_type": "stream",
          "name": "stderr",
          "text": [
            "/usr/local/lib/python3.7/dist-packages/ipykernel_launcher.py:129: DeprecationWarning: `np.bool` is a deprecated alias for the builtin `bool`. To silence this warning, use `bool` by itself. Doing this will not modify any behavior and is safe. If you specifically wanted the numpy scalar type, use `np.bool_` here.\n",
            "Deprecated in NumPy 1.20; for more details and guidance: https://numpy.org/devdocs/release/1.20.0-notes.html#deprecations\n",
            "/usr/local/lib/python3.7/dist-packages/skimage/transform/_warps.py:830: FutureWarning: Input image dtype is bool. Interpolation is not defined with bool data type. Please set order to 0 or explicitely cast input image to another data type. Starting from version 0.19 a ValueError will be raised instead of this warning.\n",
            "  order = _validate_interpolation_order(image.dtype, order)\n"
          ]
        },
        {
          "output_type": "stream",
          "name": "stdout",
          "text": [
            "mask.shape, min(mask),max(mask): (738, 1024, 1), 0,0\n",
            "rr.shape, min(rr),max(rr): (110846,), 327,729\n",
            "cc.shape, min(cc),max(cc): (110846,), 195,574\n",
            "After fixing the dirt mask, new values:\n",
            "rr.shape, min(rr),max(rr): (110846,), 327,729\n",
            "cc.shape, min(cc),max(cc): (110846,), 195,574\n"
          ]
        },
        {
          "output_type": "stream",
          "name": "stderr",
          "text": [
            "/usr/local/lib/python3.7/dist-packages/ipykernel_launcher.py:129: DeprecationWarning: `np.bool` is a deprecated alias for the builtin `bool`. To silence this warning, use `bool` by itself. Doing this will not modify any behavior and is safe. If you specifically wanted the numpy scalar type, use `np.bool_` here.\n",
            "Deprecated in NumPy 1.20; for more details and guidance: https://numpy.org/devdocs/release/1.20.0-notes.html#deprecations\n",
            "/usr/local/lib/python3.7/dist-packages/skimage/transform/_warps.py:830: FutureWarning: Input image dtype is bool. Interpolation is not defined with bool data type. Please set order to 0 or explicitely cast input image to another data type. Starting from version 0.19 a ValueError will be raised instead of this warning.\n",
            "  order = _validate_interpolation_order(image.dtype, order)\n"
          ]
        },
        {
          "output_type": "stream",
          "name": "stdout",
          "text": [
            "mask.shape, min(mask),max(mask): (335, 670, 1), 0,0\n",
            "rr.shape, min(rr),max(rr): (27770,), 0,247\n",
            "cc.shape, min(cc),max(cc): (27770,), 428,614\n",
            "After fixing the dirt mask, new values:\n",
            "rr.shape, min(rr),max(rr): (27770,), 0,247\n",
            "cc.shape, min(cc),max(cc): (27770,), 428,614\n"
          ]
        },
        {
          "output_type": "stream",
          "name": "stderr",
          "text": [
            "/usr/local/lib/python3.7/dist-packages/ipykernel_launcher.py:129: DeprecationWarning: `np.bool` is a deprecated alias for the builtin `bool`. To silence this warning, use `bool` by itself. Doing this will not modify any behavior and is safe. If you specifically wanted the numpy scalar type, use `np.bool_` here.\n",
            "Deprecated in NumPy 1.20; for more details and guidance: https://numpy.org/devdocs/release/1.20.0-notes.html#deprecations\n",
            "/usr/local/lib/python3.7/dist-packages/skimage/transform/_warps.py:830: FutureWarning: Input image dtype is bool. Interpolation is not defined with bool data type. Please set order to 0 or explicitely cast input image to another data type. Starting from version 0.19 a ValueError will be raised instead of this warning.\n",
            "  order = _validate_interpolation_order(image.dtype, order)\n"
          ]
        },
        {
          "output_type": "stream",
          "name": "stdout",
          "text": [
            "mask.shape, min(mask),max(mask): (1000, 1000, 1), 0,0\n",
            "rr.shape, min(rr),max(rr): (73133,), 391,703\n",
            "cc.shape, min(cc),max(cc): (73133,), 351,674\n",
            "After fixing the dirt mask, new values:\n",
            "rr.shape, min(rr),max(rr): (73133,), 391,703\n",
            "cc.shape, min(cc),max(cc): (73133,), 351,674\n"
          ]
        },
        {
          "output_type": "stream",
          "name": "stderr",
          "text": [
            "/usr/local/lib/python3.7/dist-packages/ipykernel_launcher.py:129: DeprecationWarning: `np.bool` is a deprecated alias for the builtin `bool`. To silence this warning, use `bool` by itself. Doing this will not modify any behavior and is safe. If you specifically wanted the numpy scalar type, use `np.bool_` here.\n",
            "Deprecated in NumPy 1.20; for more details and guidance: https://numpy.org/devdocs/release/1.20.0-notes.html#deprecations\n",
            "/usr/local/lib/python3.7/dist-packages/skimage/transform/_warps.py:830: FutureWarning: Input image dtype is bool. Interpolation is not defined with bool data type. Please set order to 0 or explicitely cast input image to another data type. Starting from version 0.19 a ValueError will be raised instead of this warning.\n",
            "  order = _validate_interpolation_order(image.dtype, order)\n"
          ]
        },
        {
          "output_type": "stream",
          "name": "stdout",
          "text": [
            "mask.shape, min(mask),max(mask): (550, 550, 1), 0,0\n",
            "rr.shape, min(rr),max(rr): (41666,), 169,425\n",
            "cc.shape, min(cc),max(cc): (41666,), 315,524\n",
            "After fixing the dirt mask, new values:\n",
            "rr.shape, min(rr),max(rr): (41666,), 169,425\n",
            "cc.shape, min(cc),max(cc): (41666,), 315,524\n"
          ]
        },
        {
          "output_type": "stream",
          "name": "stderr",
          "text": [
            "/usr/local/lib/python3.7/dist-packages/ipykernel_launcher.py:129: DeprecationWarning: `np.bool` is a deprecated alias for the builtin `bool`. To silence this warning, use `bool` by itself. Doing this will not modify any behavior and is safe. If you specifically wanted the numpy scalar type, use `np.bool_` here.\n",
            "Deprecated in NumPy 1.20; for more details and guidance: https://numpy.org/devdocs/release/1.20.0-notes.html#deprecations\n",
            "/usr/local/lib/python3.7/dist-packages/skimage/transform/_warps.py:830: FutureWarning: Input image dtype is bool. Interpolation is not defined with bool data type. Please set order to 0 or explicitely cast input image to another data type. Starting from version 0.19 a ValueError will be raised instead of this warning.\n",
            "  order = _validate_interpolation_order(image.dtype, order)\n"
          ]
        },
        {
          "output_type": "stream",
          "name": "stdout",
          "text": [
            "mask.shape, min(mask),max(mask): (905, 1024, 1), 0,0\n",
            "rr.shape, min(rr),max(rr): (241814,), 35,587\n",
            "cc.shape, min(cc),max(cc): (241814,), 97,698\n",
            "After fixing the dirt mask, new values:\n",
            "rr.shape, min(rr),max(rr): (241814,), 35,587\n",
            "cc.shape, min(cc),max(cc): (241814,), 97,698\n"
          ]
        },
        {
          "output_type": "stream",
          "name": "stderr",
          "text": [
            "/usr/local/lib/python3.7/dist-packages/ipykernel_launcher.py:129: DeprecationWarning: `np.bool` is a deprecated alias for the builtin `bool`. To silence this warning, use `bool` by itself. Doing this will not modify any behavior and is safe. If you specifically wanted the numpy scalar type, use `np.bool_` here.\n",
            "Deprecated in NumPy 1.20; for more details and guidance: https://numpy.org/devdocs/release/1.20.0-notes.html#deprecations\n",
            "/usr/local/lib/python3.7/dist-packages/skimage/transform/_warps.py:830: FutureWarning: Input image dtype is bool. Interpolation is not defined with bool data type. Please set order to 0 or explicitely cast input image to another data type. Starting from version 0.19 a ValueError will be raised instead of this warning.\n",
            "  order = _validate_interpolation_order(image.dtype, order)\n"
          ]
        },
        {
          "output_type": "stream",
          "name": "stdout",
          "text": [
            "mask.shape, min(mask),max(mask): (425, 500, 2), 0,0\n",
            "rr.shape, min(rr),max(rr): (62429,), 56,390\n",
            "cc.shape, min(cc),max(cc): (62429,), 47,312\n",
            "After fixing the dirt mask, new values:\n",
            "rr.shape, min(rr),max(rr): (62429,), 56,390\n",
            "cc.shape, min(cc),max(cc): (62429,), 47,312\n",
            "mask.shape, min(mask),max(mask): (425, 500, 2), 0,1\n",
            "rr.shape, min(rr),max(rr): (28109,), 115,331\n",
            "cc.shape, min(cc),max(cc): (28109,), 277,455\n",
            "After fixing the dirt mask, new values:\n",
            "rr.shape, min(rr),max(rr): (28109,), 115,331\n",
            "cc.shape, min(cc),max(cc): (28109,), 277,455\n"
          ]
        },
        {
          "output_type": "stream",
          "name": "stderr",
          "text": [
            "/usr/local/lib/python3.7/dist-packages/ipykernel_launcher.py:129: DeprecationWarning: `np.bool` is a deprecated alias for the builtin `bool`. To silence this warning, use `bool` by itself. Doing this will not modify any behavior and is safe. If you specifically wanted the numpy scalar type, use `np.bool_` here.\n",
            "Deprecated in NumPy 1.20; for more details and guidance: https://numpy.org/devdocs/release/1.20.0-notes.html#deprecations\n"
          ]
        },
        {
          "output_type": "stream",
          "name": "stdout",
          "text": [
            "mask.shape, min(mask),max(mask): (2687, 3357, 1), 0,0\n",
            "rr.shape, min(rr),max(rr): (409857,), 411,1361\n",
            "cc.shape, min(cc),max(cc): (409857,), 1726,2720\n",
            "After fixing the dirt mask, new values:\n",
            "rr.shape, min(rr),max(rr): (409857,), 411,1361\n",
            "cc.shape, min(cc),max(cc): (409857,), 1726,2720\n"
          ]
        },
        {
          "output_type": "stream",
          "name": "stderr",
          "text": [
            "/usr/local/lib/python3.7/dist-packages/ipykernel_launcher.py:129: DeprecationWarning: `np.bool` is a deprecated alias for the builtin `bool`. To silence this warning, use `bool` by itself. Doing this will not modify any behavior and is safe. If you specifically wanted the numpy scalar type, use `np.bool_` here.\n",
            "Deprecated in NumPy 1.20; for more details and guidance: https://numpy.org/devdocs/release/1.20.0-notes.html#deprecations\n",
            "/usr/local/lib/python3.7/dist-packages/skimage/transform/_warps.py:830: FutureWarning: Input image dtype is bool. Interpolation is not defined with bool data type. Please set order to 0 or explicitely cast input image to another data type. Starting from version 0.19 a ValueError will be raised instead of this warning.\n",
            "  order = _validate_interpolation_order(image.dtype, order)\n"
          ]
        },
        {
          "output_type": "stream",
          "name": "stdout",
          "text": [
            "mask.shape, min(mask),max(mask): (1080, 810, 4), 0,0\n",
            "rr.shape, min(rr),max(rr): (64917,), 138,415\n",
            "cc.shape, min(cc),max(cc): (64917,), 184,479\n",
            "After fixing the dirt mask, new values:\n",
            "rr.shape, min(rr),max(rr): (64917,), 138,415\n",
            "cc.shape, min(cc),max(cc): (64917,), 184,479\n",
            "mask.shape, min(mask),max(mask): (1080, 810, 4), 0,1\n",
            "rr.shape, min(rr),max(rr): (52268,), 353,646\n",
            "cc.shape, min(cc),max(cc): (52268,), 388,621\n",
            "After fixing the dirt mask, new values:\n",
            "rr.shape, min(rr),max(rr): (52268,), 353,646\n",
            "cc.shape, min(cc),max(cc): (52268,), 388,621\n",
            "mask.shape, min(mask),max(mask): (1080, 810, 4), 0,1\n",
            "rr.shape, min(rr),max(rr): (46497,), 652,901\n",
            "cc.shape, min(cc),max(cc): (46497,), 384,635\n",
            "After fixing the dirt mask, new values:\n",
            "rr.shape, min(rr),max(rr): (46497,), 652,901\n",
            "cc.shape, min(cc),max(cc): (46497,), 384,635\n"
          ]
        },
        {
          "output_type": "stream",
          "name": "stderr",
          "text": [
            "/usr/local/lib/python3.7/dist-packages/skimage/transform/_warps.py:830: FutureWarning: Input image dtype is bool. Interpolation is not defined with bool data type. Please set order to 0 or explicitely cast input image to another data type. Starting from version 0.19 a ValueError will be raised instead of this warning.\n",
            "  order = _validate_interpolation_order(image.dtype, order)\n"
          ]
        },
        {
          "output_type": "stream",
          "name": "stdout",
          "text": [
            "mask.shape, min(mask),max(mask): (1080, 810, 4), 0,1\n",
            "rr.shape, min(rr),max(rr): (42167,), 395,645\n",
            "cc.shape, min(cc),max(cc): (42167,), 168,397\n",
            "After fixing the dirt mask, new values:\n",
            "rr.shape, min(rr),max(rr): (42167,), 395,645\n",
            "cc.shape, min(cc),max(cc): (42167,), 168,397\n"
          ]
        },
        {
          "output_type": "stream",
          "name": "stderr",
          "text": [
            "/usr/local/lib/python3.7/dist-packages/ipykernel_launcher.py:129: DeprecationWarning: `np.bool` is a deprecated alias for the builtin `bool`. To silence this warning, use `bool` by itself. Doing this will not modify any behavior and is safe. If you specifically wanted the numpy scalar type, use `np.bool_` here.\n",
            "Deprecated in NumPy 1.20; for more details and guidance: https://numpy.org/devdocs/release/1.20.0-notes.html#deprecations\n"
          ]
        },
        {
          "output_type": "stream",
          "name": "stdout",
          "text": [
            "mask.shape, min(mask),max(mask): (833, 1024, 2), 0,0\n",
            "rr.shape, min(rr),max(rr): (31513,), 114,322\n",
            "cc.shape, min(cc),max(cc): (31513,), 62,263\n",
            "After fixing the dirt mask, new values:\n",
            "rr.shape, min(rr),max(rr): (31513,), 114,322\n",
            "cc.shape, min(cc),max(cc): (31513,), 62,263\n",
            "mask.shape, min(mask),max(mask): (833, 1024, 2), 0,1\n",
            "rr.shape, min(rr),max(rr): (29853,), 101,305\n",
            "cc.shape, min(cc),max(cc): (29853,), 756,959\n",
            "After fixing the dirt mask, new values:\n",
            "rr.shape, min(rr),max(rr): (29853,), 101,305\n",
            "cc.shape, min(cc),max(cc): (29853,), 756,959\n"
          ]
        },
        {
          "output_type": "stream",
          "name": "stderr",
          "text": [
            "/usr/local/lib/python3.7/dist-packages/ipykernel_launcher.py:129: DeprecationWarning: `np.bool` is a deprecated alias for the builtin `bool`. To silence this warning, use `bool` by itself. Doing this will not modify any behavior and is safe. If you specifically wanted the numpy scalar type, use `np.bool_` here.\n",
            "Deprecated in NumPy 1.20; for more details and guidance: https://numpy.org/devdocs/release/1.20.0-notes.html#deprecations\n",
            "/usr/local/lib/python3.7/dist-packages/skimage/transform/_warps.py:830: FutureWarning: Input image dtype is bool. Interpolation is not defined with bool data type. Please set order to 0 or explicitely cast input image to another data type. Starting from version 0.19 a ValueError will be raised instead of this warning.\n",
            "  order = _validate_interpolation_order(image.dtype, order)\n",
            "/usr/local/lib/python3.7/dist-packages/skimage/transform/_warps.py:830: FutureWarning: Input image dtype is bool. Interpolation is not defined with bool data type. Please set order to 0 or explicitely cast input image to another data type. Starting from version 0.19 a ValueError will be raised instead of this warning.\n",
            "  order = _validate_interpolation_order(image.dtype, order)\n"
          ]
        },
        {
          "output_type": "stream",
          "name": "stdout",
          "text": [
            "mask.shape, min(mask),max(mask): (375, 500, 1), 0,0\n",
            "rr.shape, min(rr),max(rr): (23294,), 138,320\n",
            "cc.shape, min(cc),max(cc): (23294,), 54,243\n",
            "After fixing the dirt mask, new values:\n",
            "rr.shape, min(rr),max(rr): (23294,), 138,320\n",
            "cc.shape, min(cc),max(cc): (23294,), 54,243\n"
          ]
        },
        {
          "output_type": "stream",
          "name": "stderr",
          "text": [
            "/usr/local/lib/python3.7/dist-packages/ipykernel_launcher.py:129: DeprecationWarning: `np.bool` is a deprecated alias for the builtin `bool`. To silence this warning, use `bool` by itself. Doing this will not modify any behavior and is safe. If you specifically wanted the numpy scalar type, use `np.bool_` here.\n",
            "Deprecated in NumPy 1.20; for more details and guidance: https://numpy.org/devdocs/release/1.20.0-notes.html#deprecations\n"
          ]
        },
        {
          "output_type": "stream",
          "name": "stdout",
          "text": [
            "mask.shape, min(mask),max(mask): (750, 750, 5), 0,0\n",
            "rr.shape, min(rr),max(rr): (62548,), 158,421\n",
            "cc.shape, min(cc),max(cc): (62548,), 340,619\n",
            "After fixing the dirt mask, new values:\n",
            "rr.shape, min(rr),max(rr): (62548,), 158,421\n",
            "cc.shape, min(cc),max(cc): (62548,), 340,619\n",
            "mask.shape, min(mask),max(mask): (750, 750, 5), 0,1\n",
            "rr.shape, min(rr),max(rr): (56722,), 380,655\n",
            "cc.shape, min(cc),max(cc): (56722,), 441,702\n",
            "rr.shape, min(rr),max(rr): (56722,), 380,655\n",
            "After fixing the dirt mask, new values:\n",
            "cc.shape, min(cc),max(cc): (56722,), 441,702\n"
          ]
        },
        {
          "output_type": "stream",
          "name": "stderr",
          "text": [
            "/usr/local/lib/python3.7/dist-packages/skimage/transform/_warps.py:830: FutureWarning: Input image dtype is bool. Interpolation is not defined with bool data type. Please set order to 0 or explicitely cast input image to another data type. Starting from version 0.19 a ValueError will be raised instead of this warning.\n",
            "  order = _validate_interpolation_order(image.dtype, order)\n"
          ]
        },
        {
          "output_type": "stream",
          "name": "stdout",
          "text": [
            "mask.shape, min(mask),max(mask): (750, 750, 5), 0,1\n",
            "rr.shape, min(rr),max(rr): (61219,), 202,471\n",
            "cc.shape, min(cc),max(cc): (61219,), 66,338\n",
            "After fixing the dirt mask, new values:\n",
            "rr.shape, min(rr),max(rr): (61219,), 202,471\n",
            "cc.shape, min(cc),max(cc): (61219,), 66,338\n",
            "mask.shape, min(mask),max(mask): (454, 633, 6), 0,0\n",
            "rr.shape, min(rr),max(rr): (12942,), 123,246\n",
            "cc.shape, min(cc),max(cc): (12942,), 3,127\n",
            "mask.shape, min(mask),max(mask): (750, 750, 5), 0,1\n",
            "rr.shape, min(rr),max(rr): (59209,), 489,750\n",
            "cc.shape, min(cc),max(cc): (59209,), 83,361\n",
            "After fixing the dirt mask, new values:\n",
            "After fixing the dirt mask, new values:\n",
            "rr.shape, min(rr),max(rr): (59209,), 489,749\n",
            "rr.shape, min(rr),max(rr): (12942,), 123,246\n",
            "cc.shape, min(cc),max(cc): (59209,), 83,361\n",
            "cc.shape, min(cc),max(cc): (12942,), 3,127\n",
            "mask.shape, min(mask),max(mask): (454, 633, 6), 0,1\n",
            "rr.shape, min(rr),max(rr): (11892,), 294,447\n",
            "cc.shape, min(cc),max(cc): (11892,), 174,297\n",
            "After fixing the dirt mask, new values:\n",
            "rr.shape, min(rr),max(rr): (11892,), 294,447\n",
            "mask.shape, min(mask),max(mask): (750, 750, 5), 0,1\n",
            "rr.shape, min(rr),max(rr): (11042,), 158,332\n",
            "cc.shape, min(cc),max(cc): (11892,), 174,297\n",
            "cc.shape, min(cc),max(cc): (11042,), 0,104\n",
            "After fixing the dirt mask, new values:\n",
            "mask.shape, min(mask),max(mask): (454, 633, 6), 0,1\n",
            "rr.shape, min(rr),max(rr): (11042,), 158,332\n",
            "rr.shape, min(rr),max(rr): (11238,), 329,453\n",
            "cc.shape, min(cc),max(cc): (11042,), 0,104\n",
            "cc.shape, min(cc),max(cc): (11238,), 382,490\n",
            "After fixing the dirt mask, new values:\n"
          ]
        },
        {
          "output_type": "stream",
          "name": "stderr",
          "text": [
            "/usr/local/lib/python3.7/dist-packages/ipykernel_launcher.py:129: DeprecationWarning: `np.bool` is a deprecated alias for the builtin `bool`. To silence this warning, use `bool` by itself. Doing this will not modify any behavior and is safe. If you specifically wanted the numpy scalar type, use `np.bool_` here.\n",
            "Deprecated in NumPy 1.20; for more details and guidance: https://numpy.org/devdocs/release/1.20.0-notes.html#deprecations\n"
          ]
        },
        {
          "output_type": "stream",
          "name": "stdout",
          "text": [
            "rr.shape, min(rr),max(rr): (11238,), 329,453\n",
            "cc.shape, min(cc),max(cc): (11238,), 382,490\n",
            "mask.shape, min(mask),max(mask): (454, 633, 6), 0,1\n",
            "rr.shape, min(rr),max(rr): (11314,), 210,345\n",
            "cc.shape, min(cc),max(cc): (11314,), 322,428\n",
            "After fixing the dirt mask, new values:\n",
            "rr.shape, min(rr),max(rr): (11314,), 210,345\n",
            "cc.shape, min(cc),max(cc): (11314,), 322,428\n",
            "mask.shape, min(mask),max(mask): (454, 633, 6), 0,1\n",
            "rr.shape, min(rr),max(rr): (12598,), 73,200\n",
            "cc.shape, min(cc),max(cc): (12598,), 382,501\n",
            "After fixing the dirt mask, new values:\n",
            "rr.shape, min(rr),max(rr): (12598,), 73,200\n",
            "cc.shape, min(cc),max(cc): (12598,), 382,501\n",
            "mask.shape, min(mask),max(mask): (454, 633, 6), 0,1\n",
            "rr.shape, min(rr),max(rr): (3942,), 328,430\n",
            "cc.shape, min(cc),max(cc): (3942,), 534,616\n",
            "After fixing the dirt mask, new values:\n",
            "rr.shape, min(rr),max(rr): (3942,), 328,430\n",
            "cc.shape, min(cc),max(cc): (3942,), 534,616\n"
          ]
        },
        {
          "output_type": "stream",
          "name": "stderr",
          "text": [
            "/usr/local/lib/python3.7/dist-packages/ipykernel_launcher.py:129: DeprecationWarning: `np.bool` is a deprecated alias for the builtin `bool`. To silence this warning, use `bool` by itself. Doing this will not modify any behavior and is safe. If you specifically wanted the numpy scalar type, use `np.bool_` here.\n",
            "Deprecated in NumPy 1.20; for more details and guidance: https://numpy.org/devdocs/release/1.20.0-notes.html#deprecations\n",
            "/usr/local/lib/python3.7/dist-packages/skimage/transform/_warps.py:830: FutureWarning: Input image dtype is bool. Interpolation is not defined with bool data type. Please set order to 0 or explicitely cast input image to another data type. Starting from version 0.19 a ValueError will be raised instead of this warning.\n",
            "  order = _validate_interpolation_order(image.dtype, order)\n",
            "/usr/local/lib/python3.7/dist-packages/skimage/transform/_warps.py:830: FutureWarning: Input image dtype is bool. Interpolation is not defined with bool data type. Please set order to 0 or explicitely cast input image to another data type. Starting from version 0.19 a ValueError will be raised instead of this warning.\n",
            "  order = _validate_interpolation_order(image.dtype, order)\n"
          ]
        },
        {
          "output_type": "stream",
          "name": "stdout",
          "text": [
            "mask.shape, min(mask),max(mask): (1024, 1536, 1), 0,0\n",
            "rr.shape, min(rr),max(rr): (306741,), 189,823\n",
            "mask.shape, min(mask),max(mask): (1000, 1500, 1), 0,0\n",
            "cc.shape, min(cc),max(cc): (306741,), 73,798\n",
            "After fixing the dirt mask, new values:\n",
            "rr.shape, min(rr),max(rr): (261242,), 439,1000\n",
            "rr.shape, min(rr),max(rr): (306741,), 189,823\n",
            "cc.shape, min(cc),max(cc): (261242,), 564,1294\n",
            "After fixing the dirt mask, new values:\n",
            "rr.shape, min(rr),max(rr): (261242,), 439,999\n",
            "cc.shape, min(cc),max(cc): (261242,), 564,1294\n"
          ]
        },
        {
          "output_type": "stream",
          "name": "stderr",
          "text": [
            "/usr/local/lib/python3.7/dist-packages/ipykernel_launcher.py:129: DeprecationWarning: `np.bool` is a deprecated alias for the builtin `bool`. To silence this warning, use `bool` by itself. Doing this will not modify any behavior and is safe. If you specifically wanted the numpy scalar type, use `np.bool_` here.\n",
            "Deprecated in NumPy 1.20; for more details and guidance: https://numpy.org/devdocs/release/1.20.0-notes.html#deprecations\n"
          ]
        },
        {
          "output_type": "stream",
          "name": "stdout",
          "text": [
            "cc.shape, min(cc),max(cc): (306741,), 73,798\n"
          ]
        },
        {
          "output_type": "stream",
          "name": "stderr",
          "text": [
            "/usr/local/lib/python3.7/dist-packages/ipykernel_launcher.py:129: DeprecationWarning: `np.bool` is a deprecated alias for the builtin `bool`. To silence this warning, use `bool` by itself. Doing this will not modify any behavior and is safe. If you specifically wanted the numpy scalar type, use `np.bool_` here.\n",
            "Deprecated in NumPy 1.20; for more details and guidance: https://numpy.org/devdocs/release/1.20.0-notes.html#deprecations\n",
            "/usr/local/lib/python3.7/dist-packages/skimage/transform/_warps.py:830: FutureWarning: Input image dtype is bool. Interpolation is not defined with bool data type. Please set order to 0 or explicitely cast input image to another data type. Starting from version 0.19 a ValueError will be raised instead of this warning.\n",
            "  order = _validate_interpolation_order(image.dtype, order)\n",
            "/usr/local/lib/python3.7/dist-packages/skimage/transform/_warps.py:830: FutureWarning: Input image dtype is bool. Interpolation is not defined with bool data type. Please set order to 0 or explicitely cast input image to another data type. Starting from version 0.19 a ValueError will be raised instead of this warning.\n",
            "  order = _validate_interpolation_order(image.dtype, order)\n"
          ]
        },
        {
          "output_type": "stream",
          "name": "stdout",
          "text": [
            "mask.shape, min(mask),max(mask): (742, 1200, 1), 0,0\n",
            "rr.shape, min(rr),max(rr): (30802,), 93,279\n",
            "cc.shape, min(cc),max(cc): (30802,), 730,970\n",
            "After fixing the dirt mask, new values:\n",
            "rr.shape, min(rr),max(rr): (30802,), 93,279\n",
            "cc.shape, min(cc),max(cc): (30802,), 730,970\n"
          ]
        },
        {
          "output_type": "stream",
          "name": "stderr",
          "text": [
            "/usr/local/lib/python3.7/dist-packages/ipykernel_launcher.py:129: DeprecationWarning: `np.bool` is a deprecated alias for the builtin `bool`. To silence this warning, use `bool` by itself. Doing this will not modify any behavior and is safe. If you specifically wanted the numpy scalar type, use `np.bool_` here.\n",
            "Deprecated in NumPy 1.20; for more details and guidance: https://numpy.org/devdocs/release/1.20.0-notes.html#deprecations\n",
            "/usr/local/lib/python3.7/dist-packages/skimage/transform/_warps.py:830: FutureWarning: Input image dtype is bool. Interpolation is not defined with bool data type. Please set order to 0 or explicitely cast input image to another data type. Starting from version 0.19 a ValueError will be raised instead of this warning.\n",
            "  order = _validate_interpolation_order(image.dtype, order)\n"
          ]
        },
        {
          "output_type": "stream",
          "name": "stdout",
          "text": [
            "mask.shape, min(mask),max(mask): (1367, 2048, 2), 0,0\n",
            "rr.shape, min(rr),max(rr): (260912,), 239,1007\n",
            "mask.shape, min(mask),max(mask): (400, 600, 2), 0,0\n",
            "rr.shape, min(rr),max(rr): (23604,), 141,325\n",
            "cc.shape, min(cc),max(cc): (260912,), 750,1336\n",
            "cc.shape, min(cc),max(cc): (23604,), 321,511\n",
            "After fixing the dirt mask, new values:\n",
            "rr.shape, min(rr),max(rr): (260912,), 239,1007\n",
            "After fixing the dirt mask, new values:\n",
            "rr.shape, min(rr),max(rr): (23604,), 141,325\n",
            "cc.shape, min(cc),max(cc): (260912,), 750,1336\n",
            "cc.shape, min(cc),max(cc): (23604,), 321,511\n",
            "mask.shape, min(mask),max(mask): (400, 600, 2), 0,1\n",
            "rr.shape, min(rr),max(rr): (19192,), 149,309\n",
            "cc.shape, min(cc),max(cc): (19192,), 53,210\n",
            "After fixing the dirt mask, new values:\n",
            "rr.shape, min(rr),max(rr): (19192,), 149,309\n",
            "cc.shape, min(cc),max(cc): (19192,), 53,210\n"
          ]
        },
        {
          "output_type": "stream",
          "name": "stderr",
          "text": [
            "/usr/local/lib/python3.7/dist-packages/ipykernel_launcher.py:129: DeprecationWarning: `np.bool` is a deprecated alias for the builtin `bool`. To silence this warning, use `bool` by itself. Doing this will not modify any behavior and is safe. If you specifically wanted the numpy scalar type, use `np.bool_` here.\n",
            "Deprecated in NumPy 1.20; for more details and guidance: https://numpy.org/devdocs/release/1.20.0-notes.html#deprecations\n"
          ]
        },
        {
          "output_type": "stream",
          "name": "stdout",
          "text": [
            "mask.shape, min(mask),max(mask): (1367, 2048, 2), 0,1\n",
            "rr.shape, min(rr),max(rr): (58070,), 426,803\n",
            "cc.shape, min(cc),max(cc): (58070,), 500,793\n",
            "After fixing the dirt mask, new values:\n",
            "rr.shape, min(rr),max(rr): (58070,), 426,803\n",
            "cc.shape, min(cc),max(cc): (58070,), 500,793\n"
          ]
        },
        {
          "output_type": "stream",
          "name": "stderr",
          "text": [
            "/usr/local/lib/python3.7/dist-packages/ipykernel_launcher.py:129: DeprecationWarning: `np.bool` is a deprecated alias for the builtin `bool`. To silence this warning, use `bool` by itself. Doing this will not modify any behavior and is safe. If you specifically wanted the numpy scalar type, use `np.bool_` here.\n",
            "Deprecated in NumPy 1.20; for more details and guidance: https://numpy.org/devdocs/release/1.20.0-notes.html#deprecations\n",
            "/usr/local/lib/python3.7/dist-packages/skimage/transform/_warps.py:830: FutureWarning: Input image dtype is bool. Interpolation is not defined with bool data type. Please set order to 0 or explicitely cast input image to another data type. Starting from version 0.19 a ValueError will be raised instead of this warning.\n",
            "  order = _validate_interpolation_order(image.dtype, order)\n",
            "/usr/local/lib/python3.7/dist-packages/skimage/transform/_warps.py:830: FutureWarning: Input image dtype is bool. Interpolation is not defined with bool data type. Please set order to 0 or explicitely cast input image to another data type. Starting from version 0.19 a ValueError will be raised instead of this warning.\n",
            "  order = _validate_interpolation_order(image.dtype, order)\n"
          ]
        },
        {
          "output_type": "stream",
          "name": "stdout",
          "text": [
            "mask.shape, min(mask),max(mask): (1365, 2048, 1), 0,0\n",
            "rr.shape, min(rr),max(rr): (268754,), 212,819\n",
            "cc.shape, min(cc),max(cc): (268754,), 375,1001\n",
            "After fixing the dirt mask, new values:\n",
            "rr.shape, min(rr),max(rr): (268754,), 212,819\n",
            "cc.shape, min(cc),max(cc): (268754,), 375,1001\n"
          ]
        },
        {
          "output_type": "stream",
          "name": "stderr",
          "text": [
            "/usr/local/lib/python3.7/dist-packages/ipykernel_launcher.py:129: DeprecationWarning: `np.bool` is a deprecated alias for the builtin `bool`. To silence this warning, use `bool` by itself. Doing this will not modify any behavior and is safe. If you specifically wanted the numpy scalar type, use `np.bool_` here.\n",
            "Deprecated in NumPy 1.20; for more details and guidance: https://numpy.org/devdocs/release/1.20.0-notes.html#deprecations\n"
          ]
        },
        {
          "output_type": "stream",
          "name": "stdout",
          "text": [
            "mask.shape, min(mask),max(mask): (1382, 2048, 3), 0,0\n",
            "rr.shape, min(rr),max(rr): (255266,), 199,735\n",
            "cc.shape, min(cc),max(cc): (255266,), 726,1306\n",
            "After fixing the dirt mask, new values:\n",
            "rr.shape, min(rr),max(rr): (255266,), 199,735\n",
            "cc.shape, min(cc),max(cc): (255266,), 726,1306\n"
          ]
        },
        {
          "output_type": "stream",
          "name": "stderr",
          "text": [
            "/usr/local/lib/python3.7/dist-packages/skimage/transform/_warps.py:830: FutureWarning: Input image dtype is bool. Interpolation is not defined with bool data type. Please set order to 0 or explicitely cast input image to another data type. Starting from version 0.19 a ValueError will be raised instead of this warning.\n",
            "  order = _validate_interpolation_order(image.dtype, order)\n"
          ]
        },
        {
          "output_type": "stream",
          "name": "stdout",
          "text": [
            "mask.shape, min(mask),max(mask): (1382, 2048, 3), 0,1\n",
            "rr.shape, min(rr),max(rr): (170340,), 729,1167\n",
            "cc.shape, min(cc),max(cc): (170340,), 822,1287\n",
            "mask.shape, min(mask),max(mask): (550, 550, 1), 0,0\n",
            "After fixing the dirt mask, new values:\n",
            "rr.shape, min(rr),max(rr): (41666,), 169,425\n",
            "rr.shape, min(rr),max(rr): (170340,), 729,1167\n",
            "cc.shape, min(cc),max(cc): (41666,), 315,524\n",
            "After fixing the dirt mask, new values:\n",
            "cc.shape, min(cc),max(cc): (170340,), 822,1287\n",
            "rr.shape, min(rr),max(rr): (41666,), 169,425\n",
            "cc.shape, min(cc),max(cc): (41666,), 315,524\n"
          ]
        },
        {
          "output_type": "stream",
          "name": "stderr",
          "text": [
            "/usr/local/lib/python3.7/dist-packages/ipykernel_launcher.py:129: DeprecationWarning: `np.bool` is a deprecated alias for the builtin `bool`. To silence this warning, use `bool` by itself. Doing this will not modify any behavior and is safe. If you specifically wanted the numpy scalar type, use `np.bool_` here.\n",
            "Deprecated in NumPy 1.20; for more details and guidance: https://numpy.org/devdocs/release/1.20.0-notes.html#deprecations\n",
            "/usr/local/lib/python3.7/dist-packages/skimage/transform/_warps.py:830: FutureWarning: Input image dtype is bool. Interpolation is not defined with bool data type. Please set order to 0 or explicitely cast input image to another data type. Starting from version 0.19 a ValueError will be raised instead of this warning.\n",
            "  order = _validate_interpolation_order(image.dtype, order)\n"
          ]
        },
        {
          "output_type": "stream",
          "name": "stdout",
          "text": [
            "mask.shape, min(mask),max(mask): (1382, 2048, 3), 0,1\n",
            "rr.shape, min(rr),max(rr): (122348,), 1111,1381\n",
            "cc.shape, min(cc),max(cc): (122348,), 755,1325\n",
            "After fixing the dirt mask, new values:\n",
            "rr.shape, min(rr),max(rr): (122348,), 1111,1381\n",
            "cc.shape, min(cc),max(cc): (122348,), 755,1325\n"
          ]
        },
        {
          "output_type": "stream",
          "name": "stderr",
          "text": [
            "/usr/local/lib/python3.7/dist-packages/ipykernel_launcher.py:129: DeprecationWarning: `np.bool` is a deprecated alias for the builtin `bool`. To silence this warning, use `bool` by itself. Doing this will not modify any behavior and is safe. If you specifically wanted the numpy scalar type, use `np.bool_` here.\n",
            "Deprecated in NumPy 1.20; for more details and guidance: https://numpy.org/devdocs/release/1.20.0-notes.html#deprecations\n",
            "/usr/local/lib/python3.7/dist-packages/skimage/transform/_warps.py:830: FutureWarning: Input image dtype is bool. Interpolation is not defined with bool data type. Please set order to 0 or explicitely cast input image to another data type. Starting from version 0.19 a ValueError will be raised instead of this warning.\n",
            "  order = _validate_interpolation_order(image.dtype, order)\n"
          ]
        },
        {
          "output_type": "stream",
          "name": "stdout",
          "text": [
            "mask.shape, min(mask),max(mask): (681, 1024, 1), 0,0\n",
            "rr.shape, min(rr),max(rr): (236138,), 65,648\n",
            "cc.shape, min(cc),max(cc): (236138,), 0,577\n",
            "After fixing the dirt mask, new values:\n",
            "rr.shape, min(rr),max(rr): (236138,), 65,648\n",
            "cc.shape, min(cc),max(cc): (236138,), 0,577\n"
          ]
        },
        {
          "output_type": "stream",
          "name": "stderr",
          "text": [
            "/usr/local/lib/python3.7/dist-packages/ipykernel_launcher.py:129: DeprecationWarning: `np.bool` is a deprecated alias for the builtin `bool`. To silence this warning, use `bool` by itself. Doing this will not modify any behavior and is safe. If you specifically wanted the numpy scalar type, use `np.bool_` here.\n",
            "Deprecated in NumPy 1.20; for more details and guidance: https://numpy.org/devdocs/release/1.20.0-notes.html#deprecations\n"
          ]
        },
        {
          "output_type": "stream",
          "name": "stdout",
          "text": [
            "mask.shape, min(mask),max(mask): (450, 600, 1), 0,0\n",
            "rr.shape, min(rr),max(rr): (4863,), 215,289\n",
            "cc.shape, min(cc),max(cc): (4863,), 336,433\n",
            "After fixing the dirt mask, new values:\n",
            "rr.shape, min(rr),max(rr): (4863,), 215,289\n",
            "cc.shape, min(cc),max(cc): (4863,), 336,433\n"
          ]
        },
        {
          "output_type": "stream",
          "name": "stderr",
          "text": [
            "/usr/local/lib/python3.7/dist-packages/ipykernel_launcher.py:129: DeprecationWarning: `np.bool` is a deprecated alias for the builtin `bool`. To silence this warning, use `bool` by itself. Doing this will not modify any behavior and is safe. If you specifically wanted the numpy scalar type, use `np.bool_` here.\n",
            "Deprecated in NumPy 1.20; for more details and guidance: https://numpy.org/devdocs/release/1.20.0-notes.html#deprecations\n",
            "/usr/local/lib/python3.7/dist-packages/skimage/transform/_warps.py:830: FutureWarning: Input image dtype is bool. Interpolation is not defined with bool data type. Please set order to 0 or explicitely cast input image to another data type. Starting from version 0.19 a ValueError will be raised instead of this warning.\n",
            "  order = _validate_interpolation_order(image.dtype, order)\n"
          ]
        },
        {
          "output_type": "stream",
          "name": "stdout",
          "text": [
            "mask.shape, min(mask),max(mask): (323, 450, 1), 0,0\n",
            "rr.shape, min(rr),max(rr): (29971,), 8,201\n",
            "cc.shape, min(cc),max(cc): (29971,), 228,420\n",
            "After fixing the dirt mask, new values:\n",
            "rr.shape, min(rr),max(rr): (29971,), 8,201\n",
            "cc.shape, min(cc),max(cc): (29971,), 228,420\n"
          ]
        },
        {
          "output_type": "stream",
          "name": "stderr",
          "text": [
            "/usr/local/lib/python3.7/dist-packages/ipykernel_launcher.py:129: DeprecationWarning: `np.bool` is a deprecated alias for the builtin `bool`. To silence this warning, use `bool` by itself. Doing this will not modify any behavior and is safe. If you specifically wanted the numpy scalar type, use `np.bool_` here.\n",
            "Deprecated in NumPy 1.20; for more details and guidance: https://numpy.org/devdocs/release/1.20.0-notes.html#deprecations\n",
            "/usr/local/lib/python3.7/dist-packages/skimage/transform/_warps.py:830: FutureWarning: Input image dtype is bool. Interpolation is not defined with bool data type. Please set order to 0 or explicitely cast input image to another data type. Starting from version 0.19 a ValueError will be raised instead of this warning.\n",
            "  order = _validate_interpolation_order(image.dtype, order)\n",
            "/usr/local/lib/python3.7/dist-packages/skimage/transform/_warps.py:830: FutureWarning: Input image dtype is bool. Interpolation is not defined with bool data type. Please set order to 0 or explicitely cast input image to another data type. Starting from version 0.19 a ValueError will be raised instead of this warning.\n",
            "  order = _validate_interpolation_order(image.dtype, order)\n"
          ]
        },
        {
          "output_type": "stream",
          "name": "stdout",
          "text": [
            "mask.shape, min(mask),max(mask): (1365, 2047, 14), 0,0\n",
            "rr.shape, min(rr),max(rr): (37975,), 0,225\n",
            "cc.shape, min(cc),max(cc): (37975,), 0,227\n",
            "After fixing the dirt mask, new values:\n",
            "rr.shape, min(rr),max(rr): (37975,), 0,225\n",
            "cc.shape, min(cc),max(cc): (37975,), 0,227\n",
            "mask.shape, min(mask),max(mask): (1365, 2047, 14), 0,1\n",
            "rr.shape, min(rr),max(rr): (38265,), 186,398\n",
            "cc.shape, min(cc),max(cc): (38265,), 79,309\n",
            "After fixing the dirt mask, new values:\n",
            "rr.shape, min(rr),max(rr): (38265,), 186,398\n",
            "cc.shape, min(cc),max(cc): (38265,), 79,309\n",
            "mask.shape, min(mask),max(mask): (1365, 2048, 1), 0,0\n",
            "rr.shape, min(rr),max(rr): (283761,), 469,1125\n",
            "cc.shape, min(cc),max(cc): (283761,), 777,1322\n",
            "After fixing the dirt mask, new values:\n",
            "rr.shape, min(rr),max(rr): (283761,), 469,1125\n",
            "cc.shape, min(cc),max(cc): (283761,), 777,1322\n"
          ]
        },
        {
          "output_type": "stream",
          "name": "stderr",
          "text": [
            "/usr/local/lib/python3.7/dist-packages/ipykernel_launcher.py:129: DeprecationWarning: `np.bool` is a deprecated alias for the builtin `bool`. To silence this warning, use `bool` by itself. Doing this will not modify any behavior and is safe. If you specifically wanted the numpy scalar type, use `np.bool_` here.\n",
            "Deprecated in NumPy 1.20; for more details and guidance: https://numpy.org/devdocs/release/1.20.0-notes.html#deprecations\n"
          ]
        },
        {
          "output_type": "stream",
          "name": "stdout",
          "text": [
            "mask.shape, min(mask),max(mask): (1365, 2047, 14), 0,1\n",
            "rr.shape, min(rr),max(rr): (29337,), 371,535\n",
            "cc.shape, min(cc),max(cc): (29337,), 0,213\n",
            "After fixing the dirt mask, new values:\n",
            "rr.shape, min(rr),max(rr): (29337,), 371,535\n",
            "cc.shape, min(cc),max(cc): (29337,), 0,213\n"
          ]
        },
        {
          "output_type": "stream",
          "name": "stderr",
          "text": [
            "/usr/local/lib/python3.7/dist-packages/skimage/transform/_warps.py:830: FutureWarning: Input image dtype is bool. Interpolation is not defined with bool data type. Please set order to 0 or explicitely cast input image to another data type. Starting from version 0.19 a ValueError will be raised instead of this warning.\n",
            "  order = _validate_interpolation_order(image.dtype, order)\n"
          ]
        },
        {
          "output_type": "stream",
          "name": "stdout",
          "text": [
            "mask.shape, min(mask),max(mask): (1365, 2047, 14), 0,1\n",
            "rr.shape, min(rr),max(rr): (33603,), 33,249\n",
            "cc.shape, min(cc),max(cc): (33603,), 218,454\n",
            "After fixing the dirt mask, new values:\n",
            "rr.shape, min(rr),max(rr): (33603,), 33,249\n",
            "cc.shape, min(cc),max(cc): (33603,), 218,454\n",
            "mask.shape, min(mask),max(mask): (1365, 2047, 14), 0,1\n",
            "rr.shape, min(rr),max(rr): (28751,), 377,542\n",
            "cc.shape, min(cc),max(cc): (28751,), 192,409\n",
            "After fixing the dirt mask, new values:\n",
            "rr.shape, min(rr),max(rr): (28751,), 377,542\n",
            "cc.shape, min(cc),max(cc): (28751,), 192,409\n",
            "mask.shape, min(mask),max(mask): (1020, 1920, 2), 0,0\n",
            "rr.shape, min(rr),max(rr): (167722,), 520,995\n",
            "cc.shape, min(cc),max(cc): (167722,), 587,1030\n",
            "After fixing the dirt mask, new values:\n",
            "rr.shape, min(rr),max(rr): (167722,), 520,995\n",
            "cc.shape, min(cc),max(cc): (167722,), 587,1030\n",
            "mask.shape, min(mask),max(mask): (1365, 2047, 14), 0,1\n",
            "rr.shape, min(rr),max(rr): (35438,), 177,403\n",
            "cc.shape, min(cc),max(cc): (35438,), 286,504\n",
            "After fixing the dirt mask, new values:\n",
            "rr.shape, min(rr),max(rr): (35438,), 177,403\n",
            "cc.shape, min(cc),max(cc): (35438,), 286,504\n",
            "mask.shape, min(mask),max(mask): (1365, 2047, 14), 0,1\n",
            "rr.shape, min(rr),max(rr): (37200,), 0,219\n",
            "cc.shape, min(cc),max(cc): (37200,), 436,681\n",
            "After fixing the dirt mask, new values:\n",
            "mask.shape, min(mask),max(mask): (1020, 1920, 2), 0,1\n",
            "rr.shape, min(rr),max(rr): (241000,), 291,866\n",
            "cc.shape, min(cc),max(cc): (241000,), 62,573\n",
            "After fixing the dirt mask, new values:\n",
            "rr.shape, min(rr),max(rr): (37200,), 0,219\n",
            "rr.shape, min(rr),max(rr): (241000,), 291,866\n",
            "cc.shape, min(cc),max(cc): (241000,), 62,573\n"
          ]
        },
        {
          "output_type": "stream",
          "name": "stderr",
          "text": [
            "/usr/local/lib/python3.7/dist-packages/ipykernel_launcher.py:129: DeprecationWarning: `np.bool` is a deprecated alias for the builtin `bool`. To silence this warning, use `bool` by itself. Doing this will not modify any behavior and is safe. If you specifically wanted the numpy scalar type, use `np.bool_` here.\n",
            "Deprecated in NumPy 1.20; for more details and guidance: https://numpy.org/devdocs/release/1.20.0-notes.html#deprecations\n"
          ]
        },
        {
          "output_type": "stream",
          "name": "stdout",
          "text": [
            "cc.shape, min(cc),max(cc): (37200,), 436,681\n",
            "mask.shape, min(mask),max(mask): (1365, 2047, 14), 0,1\n",
            "rr.shape, min(rr),max(rr): (42911,), 175,409\n",
            "cc.shape, min(cc),max(cc): (42911,), 499,745\n",
            "After fixing the dirt mask, new values:\n",
            "rr.shape, min(rr),max(rr): (42911,), 175,409\n",
            "cc.shape, min(cc),max(cc): (42911,), 499,745\n"
          ]
        },
        {
          "output_type": "stream",
          "name": "stderr",
          "text": [
            "/usr/local/lib/python3.7/dist-packages/skimage/transform/_warps.py:830: FutureWarning: Input image dtype is bool. Interpolation is not defined with bool data type. Please set order to 0 or explicitely cast input image to another data type. Starting from version 0.19 a ValueError will be raised instead of this warning.\n",
            "  order = _validate_interpolation_order(image.dtype, order)\n"
          ]
        },
        {
          "output_type": "stream",
          "name": "stdout",
          "text": [
            "mask.shape, min(mask),max(mask): (1365, 2047, 14), 0,1\n",
            "rr.shape, min(rr),max(rr): (33085,), 379,547\n",
            "cc.shape, min(cc),max(cc): (33085,), 386,629\n",
            "After fixing the dirt mask, new values:\n",
            "rr.shape, min(rr),max(rr): (33085,), 379,547\n",
            "cc.shape, min(cc),max(cc): (33085,), 386,629\n",
            "mask.shape, min(mask),max(mask): (1365, 2047, 14), 0,1\n",
            "rr.shape, min(rr),max(rr): (28656,), 46,224\n",
            "cc.shape, min(cc),max(cc): (28656,), 662,867\n",
            "After fixing the dirt mask, new values:\n",
            "rr.shape, min(rr),max(rr): (28656,), 46,224\n",
            "cc.shape, min(cc),max(cc): (28656,), 662,867\n",
            "mask.shape, min(mask),max(mask): (2048, 1536, 1), 0,0\n",
            "rr.shape, min(rr),max(rr): (126162,), 1119,1586\n",
            "cc.shape, min(cc),max(cc): (126162,), 959,1350\n",
            "After fixing the dirt mask, new values:\n",
            "rr.shape, min(rr),max(rr): (126162,), 1119,1586\n",
            "cc.shape, min(cc),max(cc): (126162,), 959,1350\n"
          ]
        },
        {
          "output_type": "stream",
          "name": "stderr",
          "text": [
            "/usr/local/lib/python3.7/dist-packages/ipykernel_launcher.py:129: DeprecationWarning: `np.bool` is a deprecated alias for the builtin `bool`. To silence this warning, use `bool` by itself. Doing this will not modify any behavior and is safe. If you specifically wanted the numpy scalar type, use `np.bool_` here.\n",
            "Deprecated in NumPy 1.20; for more details and guidance: https://numpy.org/devdocs/release/1.20.0-notes.html#deprecations\n"
          ]
        },
        {
          "output_type": "stream",
          "name": "stdout",
          "text": [
            "mask.shape, min(mask),max(mask): (1365, 2047, 14), 0,1\n",
            "rr.shape, min(rr),max(rr): (32817,), 1,226\n",
            "cc.shape, min(cc),max(cc): (32817,), 863,1074\n",
            "After fixing the dirt mask, new values:\n",
            "rr.shape, min(rr),max(rr): (32817,), 1,226\n",
            "cc.shape, min(cc),max(cc): (32817,), 863,1074\n",
            "mask.shape, min(mask),max(mask): (1365, 2047, 14), 0,1\n",
            "rr.shape, min(rr),max(rr): (43264,), 184,438\n",
            "cc.shape, min(cc),max(cc): (43264,), 741,972\n",
            "After fixing the dirt mask, new values:\n",
            "rr.shape, min(rr),max(rr): (43264,), 184,438\n",
            "cc.shape, min(cc),max(cc): (43264,), 741,972\n"
          ]
        },
        {
          "output_type": "stream",
          "name": "stderr",
          "text": [
            "/usr/local/lib/python3.7/dist-packages/skimage/transform/_warps.py:830: FutureWarning: Input image dtype is bool. Interpolation is not defined with bool data type. Please set order to 0 or explicitely cast input image to another data type. Starting from version 0.19 a ValueError will be raised instead of this warning.\n",
            "  order = _validate_interpolation_order(image.dtype, order)\n"
          ]
        },
        {
          "output_type": "stream",
          "name": "stdout",
          "text": [
            "mask.shape, min(mask),max(mask): (410, 600, 1), 0,0\n",
            "rr.shape, min(rr),max(rr): (44522,), 34,260\n",
            "mask.shape, min(mask),max(mask): (1365, 2047, 14), 0,1\n",
            "cc.shape, min(cc),max(cc): (44522,), 79,396\n",
            "rr.shape, min(rr),max(rr): (25755,), 395,552\n",
            "cc.shape, min(cc),max(cc): (25755,), 612,815\n",
            "After fixing the dirt mask, new values:\n",
            "After fixing the dirt mask, new values:\n",
            "rr.shape, min(rr),max(rr): (25755,), 395,552\n",
            "rr.shape, min(rr),max(rr): (44522,), 34,260\n",
            "cc.shape, min(cc),max(cc): (44522,), 79,396\n",
            "cc.shape, min(cc),max(cc): (25755,), 612,815\n"
          ]
        },
        {
          "output_type": "stream",
          "name": "stderr",
          "text": [
            "/usr/local/lib/python3.7/dist-packages/ipykernel_launcher.py:129: DeprecationWarning: `np.bool` is a deprecated alias for the builtin `bool`. To silence this warning, use `bool` by itself. Doing this will not modify any behavior and is safe. If you specifically wanted the numpy scalar type, use `np.bool_` here.\n",
            "Deprecated in NumPy 1.20; for more details and guidance: https://numpy.org/devdocs/release/1.20.0-notes.html#deprecations\n",
            "/usr/local/lib/python3.7/dist-packages/skimage/transform/_warps.py:830: FutureWarning: Input image dtype is bool. Interpolation is not defined with bool data type. Please set order to 0 or explicitely cast input image to another data type. Starting from version 0.19 a ValueError will be raised instead of this warning.\n",
            "  order = _validate_interpolation_order(image.dtype, order)\n"
          ]
        },
        {
          "output_type": "stream",
          "name": "stdout",
          "text": [
            "mask.shape, min(mask),max(mask): (1365, 2047, 14), 0,1\n",
            "rr.shape, min(rr),max(rr): (25388,), 402,555\n",
            "cc.shape, min(cc),max(cc): (25388,), 806,1003\n",
            "After fixing the dirt mask, new values:\n",
            "rr.shape, min(rr),max(rr): (25388,), 402,555\n",
            "cc.shape, min(cc),max(cc): (25388,), 806,1003\n"
          ]
        },
        {
          "output_type": "stream",
          "name": "stderr",
          "text": [
            "/usr/local/lib/python3.7/dist-packages/ipykernel_launcher.py:129: DeprecationWarning: `np.bool` is a deprecated alias for the builtin `bool`. To silence this warning, use `bool` by itself. Doing this will not modify any behavior and is safe. If you specifically wanted the numpy scalar type, use `np.bool_` here.\n",
            "Deprecated in NumPy 1.20; for more details and guidance: https://numpy.org/devdocs/release/1.20.0-notes.html#deprecations\n"
          ]
        },
        {
          "output_type": "stream",
          "name": "stdout",
          "text": [
            "mask.shape, min(mask),max(mask): (905, 1024, 1), 0,0\n",
            "rr.shape, min(rr),max(rr): (241814,), 35,587\n",
            "cc.shape, min(cc),max(cc): (241814,), 97,698\n",
            "After fixing the dirt mask, new values:\n",
            "rr.shape, min(rr),max(rr): (241814,), 35,587\n",
            "cc.shape, min(cc),max(cc): (241814,), 97,698\n"
          ]
        },
        {
          "output_type": "stream",
          "name": "stderr",
          "text": [
            "/usr/local/lib/python3.7/dist-packages/ipykernel_launcher.py:129: DeprecationWarning: `np.bool` is a deprecated alias for the builtin `bool`. To silence this warning, use `bool` by itself. Doing this will not modify any behavior and is safe. If you specifically wanted the numpy scalar type, use `np.bool_` here.\n",
            "Deprecated in NumPy 1.20; for more details and guidance: https://numpy.org/devdocs/release/1.20.0-notes.html#deprecations\n",
            "/usr/local/lib/python3.7/dist-packages/skimage/transform/_warps.py:830: FutureWarning: Input image dtype is bool. Interpolation is not defined with bool data type. Please set order to 0 or explicitely cast input image to another data type. Starting from version 0.19 a ValueError will be raised instead of this warning.\n",
            "  order = _validate_interpolation_order(image.dtype, order)\n",
            "/usr/local/lib/python3.7/dist-packages/skimage/transform/_warps.py:830: FutureWarning: Input image dtype is bool. Interpolation is not defined with bool data type. Please set order to 0 or explicitely cast input image to another data type. Starting from version 0.19 a ValueError will be raised instead of this warning.\n",
            "  order = _validate_interpolation_order(image.dtype, order)\n"
          ]
        },
        {
          "output_type": "stream",
          "name": "stdout",
          "text": [
            "mask.shape, min(mask),max(mask): (640, 960, 1), 0,0\n",
            "rr.shape, min(rr),max(rr): (113998,), 136,541\n",
            "cc.shape, min(cc),max(cc): (113998,), 299,665\n",
            "After fixing the dirt mask, new values:\n",
            "rr.shape, min(rr),max(rr): (113998,), 136,541\n",
            "cc.shape, min(cc),max(cc): (113998,), 299,665\n"
          ]
        },
        {
          "output_type": "stream",
          "name": "stderr",
          "text": [
            "/usr/local/lib/python3.7/dist-packages/ipykernel_launcher.py:129: DeprecationWarning: `np.bool` is a deprecated alias for the builtin `bool`. To silence this warning, use `bool` by itself. Doing this will not modify any behavior and is safe. If you specifically wanted the numpy scalar type, use `np.bool_` here.\n",
            "Deprecated in NumPy 1.20; for more details and guidance: https://numpy.org/devdocs/release/1.20.0-notes.html#deprecations\n",
            "/usr/local/lib/python3.7/dist-packages/skimage/transform/_warps.py:830: FutureWarning: Input image dtype is bool. Interpolation is not defined with bool data type. Please set order to 0 or explicitely cast input image to another data type. Starting from version 0.19 a ValueError will be raised instead of this warning.\n",
            "  order = _validate_interpolation_order(image.dtype, order)\n"
          ]
        },
        {
          "output_type": "stream",
          "name": "stdout",
          "text": [
            "mask.shape, min(mask),max(mask): (425, 500, 2), 0,0\n",
            "rr.shape, min(rr),max(rr): (62429,), 56,390\n",
            "cc.shape, min(cc),max(cc): (62429,), 47,312\n",
            "After fixing the dirt mask, new values:\n",
            "rr.shape, min(rr),max(rr): (62429,), 56,390\n",
            "cc.shape, min(cc),max(cc): (62429,), 47,312\n",
            "mask.shape, min(mask),max(mask): (425, 500, 2), 0,1\n",
            "rr.shape, min(rr),max(rr): (28109,), 115,331\n",
            "cc.shape, min(cc),max(cc): (28109,), 277,455\n",
            "After fixing the dirt mask, new values:\n",
            "rr.shape, min(rr),max(rr): (28109,), 115,331\n",
            "cc.shape, min(cc),max(cc): (28109,), 277,455\n"
          ]
        },
        {
          "output_type": "stream",
          "name": "stderr",
          "text": [
            "/usr/local/lib/python3.7/dist-packages/ipykernel_launcher.py:129: DeprecationWarning: `np.bool` is a deprecated alias for the builtin `bool`. To silence this warning, use `bool` by itself. Doing this will not modify any behavior and is safe. If you specifically wanted the numpy scalar type, use `np.bool_` here.\n",
            "Deprecated in NumPy 1.20; for more details and guidance: https://numpy.org/devdocs/release/1.20.0-notes.html#deprecations\n"
          ]
        },
        {
          "output_type": "stream",
          "name": "stdout",
          "text": [
            "mask.shape, min(mask),max(mask): (763, 1024, 2), 0,0\n",
            "rr.shape, min(rr),max(rr): (151648,), 89,694\n",
            "cc.shape, min(cc),max(cc): (151648,), 81,487\n",
            "After fixing the dirt mask, new values:\n",
            "rr.shape, min(rr),max(rr): (151648,), 89,694\n",
            "cc.shape, min(cc),max(cc): (151648,), 81,487\n"
          ]
        },
        {
          "output_type": "stream",
          "name": "stderr",
          "text": [
            "/usr/local/lib/python3.7/dist-packages/skimage/transform/_warps.py:830: FutureWarning: Input image dtype is bool. Interpolation is not defined with bool data type. Please set order to 0 or explicitely cast input image to another data type. Starting from version 0.19 a ValueError will be raised instead of this warning.\n",
            "  order = _validate_interpolation_order(image.dtype, order)\n"
          ]
        },
        {
          "output_type": "stream",
          "name": "stdout",
          "text": [
            "mask.shape, min(mask),max(mask): (763, 1024, 2), 0,1\n",
            "rr.shape, min(rr),max(rr): (140945,), 203,708\n",
            "cc.shape, min(cc),max(cc): (140945,), 500,917\n",
            "After fixing the dirt mask, new values:\n",
            "rr.shape, min(rr),max(rr): (140945,), 203,708\n",
            "cc.shape, min(cc),max(cc): (140945,), 500,917\n"
          ]
        },
        {
          "output_type": "stream",
          "name": "stderr",
          "text": [
            "/usr/local/lib/python3.7/dist-packages/ipykernel_launcher.py:129: DeprecationWarning: `np.bool` is a deprecated alias for the builtin `bool`. To silence this warning, use `bool` by itself. Doing this will not modify any behavior and is safe. If you specifically wanted the numpy scalar type, use `np.bool_` here.\n",
            "Deprecated in NumPy 1.20; for more details and guidance: https://numpy.org/devdocs/release/1.20.0-notes.html#deprecations\n"
          ]
        },
        {
          "output_type": "stream",
          "name": "stdout",
          "text": [
            "mask.shape, min(mask),max(mask): (540, 540, 3), 0,0\n",
            "rr.shape, min(rr),max(rr): (50860,), 13,364\n",
            "cc.shape, min(cc),max(cc): (50860,), 274,506\n",
            "After fixing the dirt mask, new values:\n",
            "rr.shape, min(rr),max(rr): (50860,), 13,364\n",
            "cc.shape, min(cc),max(cc): (50860,), 274,506\n"
          ]
        },
        {
          "output_type": "stream",
          "name": "stderr",
          "text": [
            "/usr/local/lib/python3.7/dist-packages/skimage/transform/_warps.py:830: FutureWarning: Input image dtype is bool. Interpolation is not defined with bool data type. Please set order to 0 or explicitely cast input image to another data type. Starting from version 0.19 a ValueError will be raised instead of this warning.\n",
            "  order = _validate_interpolation_order(image.dtype, order)\n"
          ]
        },
        {
          "output_type": "stream",
          "name": "stdout",
          "text": [
            "mask.shape, min(mask),max(mask): (540, 540, 3), 0,1\n",
            "rr.shape, min(rr),max(rr): (66638,), 232,527\n",
            "cc.shape, min(cc),max(cc): (66638,), 124,446\n",
            "After fixing the dirt mask, new values:\n",
            "rr.shape, min(rr),max(rr): (66638,), 232,527\n",
            "cc.shape, min(cc),max(cc): (66638,), 124,446\n",
            "mask.shape, min(mask),max(mask): (540, 540, 3), 0,1\n",
            "rr.shape, min(rr),max(rr): (46383,), 61,340\n",
            "cc.shape, min(cc),max(cc): (46383,), 28,281\n",
            "After fixing the dirt mask, new values:\n",
            "rr.shape, min(rr),max(rr): (46383,), 61,340\n",
            "cc.shape, min(cc),max(cc): (46383,), 28,281\n"
          ]
        },
        {
          "output_type": "stream",
          "name": "stderr",
          "text": [
            "/usr/local/lib/python3.7/dist-packages/ipykernel_launcher.py:129: DeprecationWarning: `np.bool` is a deprecated alias for the builtin `bool`. To silence this warning, use `bool` by itself. Doing this will not modify any behavior and is safe. If you specifically wanted the numpy scalar type, use `np.bool_` here.\n",
            "Deprecated in NumPy 1.20; for more details and guidance: https://numpy.org/devdocs/release/1.20.0-notes.html#deprecations\n"
          ]
        },
        {
          "output_type": "stream",
          "name": "stdout",
          "text": [
            "mask.shape, min(mask),max(mask): (640, 960, 1), 0,0\n",
            "rr.shape, min(rr),max(rr): (113998,), 136,541\n",
            "cc.shape, min(cc),max(cc): (113998,), 299,665\n",
            "After fixing the dirt mask, new values:\n",
            "rr.shape, min(rr),max(rr): (113998,), 136,541\n",
            "cc.shape, min(cc),max(cc): (113998,), 299,665\n"
          ]
        },
        {
          "output_type": "stream",
          "name": "stderr",
          "text": [
            "/usr/local/lib/python3.7/dist-packages/ipykernel_launcher.py:129: DeprecationWarning: `np.bool` is a deprecated alias for the builtin `bool`. To silence this warning, use `bool` by itself. Doing this will not modify any behavior and is safe. If you specifically wanted the numpy scalar type, use `np.bool_` here.\n",
            "Deprecated in NumPy 1.20; for more details and guidance: https://numpy.org/devdocs/release/1.20.0-notes.html#deprecations\n",
            "/usr/local/lib/python3.7/dist-packages/skimage/transform/_warps.py:830: FutureWarning: Input image dtype is bool. Interpolation is not defined with bool data type. Please set order to 0 or explicitely cast input image to another data type. Starting from version 0.19 a ValueError will be raised instead of this warning.\n",
            "  order = _validate_interpolation_order(image.dtype, order)\n",
            "/usr/local/lib/python3.7/dist-packages/skimage/transform/_warps.py:830: FutureWarning: Input image dtype is bool. Interpolation is not defined with bool data type. Please set order to 0 or explicitely cast input image to another data type. Starting from version 0.19 a ValueError will be raised instead of this warning.\n",
            "  order = _validate_interpolation_order(image.dtype, order)\n"
          ]
        },
        {
          "output_type": "stream",
          "name": "stdout",
          "text": [
            "mask.shape, min(mask),max(mask): (682, 1024, 2), 0,0\n",
            "rr.shape, min(rr),max(rr): (79055,), 194,510\n",
            "cc.shape, min(cc),max(cc): (79055,), 663,978\n",
            "After fixing the dirt mask, new values:\n",
            "rr.shape, min(rr),max(rr): (79055,), 194,510\n",
            "cc.shape, min(cc),max(cc): (79055,), 663,978\n",
            "mask.shape, min(mask),max(mask): (682, 1024, 2), 0,1\n",
            "rr.shape, min(rr),max(rr): (27801,), 61,282\n",
            "cc.shape, min(cc),max(cc): (27801,), 627,895\n",
            "After fixing the dirt mask, new values:\n",
            "rr.shape, min(rr),max(rr): (27801,), 61,282\n",
            "cc.shape, min(cc),max(cc): (27801,), 627,895\n"
          ]
        },
        {
          "output_type": "stream",
          "name": "stderr",
          "text": [
            "/usr/local/lib/python3.7/dist-packages/ipykernel_launcher.py:129: DeprecationWarning: `np.bool` is a deprecated alias for the builtin `bool`. To silence this warning, use `bool` by itself. Doing this will not modify any behavior and is safe. If you specifically wanted the numpy scalar type, use `np.bool_` here.\n",
            "Deprecated in NumPy 1.20; for more details and guidance: https://numpy.org/devdocs/release/1.20.0-notes.html#deprecations\n"
          ]
        },
        {
          "output_type": "stream",
          "name": "stdout",
          "text": [
            "mask.shape, min(mask),max(mask): (738, 1024, 1), 0,0\n",
            "rr.shape, min(rr),max(rr): (110846,), 327,729\n",
            "cc.shape, min(cc),max(cc): (110846,), 195,574\n",
            "After fixing the dirt mask, new values:\n",
            "rr.shape, min(rr),max(rr): (110846,), 327,729\n",
            "cc.shape, min(cc),max(cc): (110846,), 195,574\n"
          ]
        },
        {
          "output_type": "stream",
          "name": "stderr",
          "text": [
            "/usr/local/lib/python3.7/dist-packages/ipykernel_launcher.py:129: DeprecationWarning: `np.bool` is a deprecated alias for the builtin `bool`. To silence this warning, use `bool` by itself. Doing this will not modify any behavior and is safe. If you specifically wanted the numpy scalar type, use `np.bool_` here.\n",
            "Deprecated in NumPy 1.20; for more details and guidance: https://numpy.org/devdocs/release/1.20.0-notes.html#deprecations\n",
            "/usr/local/lib/python3.7/dist-packages/skimage/transform/_warps.py:830: FutureWarning: Input image dtype is bool. Interpolation is not defined with bool data type. Please set order to 0 or explicitely cast input image to another data type. Starting from version 0.19 a ValueError will be raised instead of this warning.\n",
            "  order = _validate_interpolation_order(image.dtype, order)\n",
            "/usr/local/lib/python3.7/dist-packages/skimage/transform/_warps.py:830: FutureWarning: Input image dtype is bool. Interpolation is not defined with bool data type. Please set order to 0 or explicitely cast input image to another data type. Starting from version 0.19 a ValueError will be raised instead of this warning.\n",
            "  order = _validate_interpolation_order(image.dtype, order)\n"
          ]
        },
        {
          "output_type": "stream",
          "name": "stdout",
          "text": [
            "mask.shape, min(mask),max(mask): (480, 600, 1), 0,0\n",
            "rr.shape, min(rr),max(rr): (93951,), 88,479\n",
            "cc.shape, min(cc),max(cc): (93951,), 0,281\n",
            "After fixing the dirt mask, new values:\n",
            "rr.shape, min(rr),max(rr): (93951,), 88,479\n",
            "cc.shape, min(cc),max(cc): (93951,), 0,281\n"
          ]
        },
        {
          "output_type": "stream",
          "name": "stderr",
          "text": [
            "/usr/local/lib/python3.7/dist-packages/ipykernel_launcher.py:129: DeprecationWarning: `np.bool` is a deprecated alias for the builtin `bool`. To silence this warning, use `bool` by itself. Doing this will not modify any behavior and is safe. If you specifically wanted the numpy scalar type, use `np.bool_` here.\n",
            "Deprecated in NumPy 1.20; for more details and guidance: https://numpy.org/devdocs/release/1.20.0-notes.html#deprecations\n",
            "/usr/local/lib/python3.7/dist-packages/skimage/transform/_warps.py:830: FutureWarning: Input image dtype is bool. Interpolation is not defined with bool data type. Please set order to 0 or explicitely cast input image to another data type. Starting from version 0.19 a ValueError will be raised instead of this warning.\n",
            "  order = _validate_interpolation_order(image.dtype, order)\n"
          ]
        },
        {
          "output_type": "stream",
          "name": "stdout",
          "text": [
            "mask.shape, min(mask),max(mask): (1365, 2048, 1), 0,0\n",
            "rr.shape, min(rr),max(rr): (283761,), 469,1125\n",
            "cc.shape, min(cc),max(cc): (283761,), 777,1322\n",
            "After fixing the dirt mask, new values:\n",
            "rr.shape, min(rr),max(rr): (283761,), 469,1125\n",
            "cc.shape, min(cc),max(cc): (283761,), 777,1322\n"
          ]
        },
        {
          "output_type": "stream",
          "name": "stderr",
          "text": [
            "/usr/local/lib/python3.7/dist-packages/ipykernel_launcher.py:129: DeprecationWarning: `np.bool` is a deprecated alias for the builtin `bool`. To silence this warning, use `bool` by itself. Doing this will not modify any behavior and is safe. If you specifically wanted the numpy scalar type, use `np.bool_` here.\n",
            "Deprecated in NumPy 1.20; for more details and guidance: https://numpy.org/devdocs/release/1.20.0-notes.html#deprecations\n"
          ]
        },
        {
          "output_type": "stream",
          "name": "stdout",
          "text": [
            "mask.shape, min(mask),max(mask): (335, 670, 1), 0,0\n",
            "rr.shape, min(rr),max(rr): (27770,), 0,247\n",
            "cc.shape, min(cc),max(cc): (27770,), 428,614\n",
            "After fixing the dirt mask, new values:\n",
            "rr.shape, min(rr),max(rr): (27770,), 0,247\n",
            "cc.shape, min(cc),max(cc): (27770,), 428,614\n"
          ]
        },
        {
          "output_type": "stream",
          "name": "stderr",
          "text": [
            "/usr/local/lib/python3.7/dist-packages/ipykernel_launcher.py:129: DeprecationWarning: `np.bool` is a deprecated alias for the builtin `bool`. To silence this warning, use `bool` by itself. Doing this will not modify any behavior and is safe. If you specifically wanted the numpy scalar type, use `np.bool_` here.\n",
            "Deprecated in NumPy 1.20; for more details and guidance: https://numpy.org/devdocs/release/1.20.0-notes.html#deprecations\n",
            "/usr/local/lib/python3.7/dist-packages/skimage/transform/_warps.py:830: FutureWarning: Input image dtype is bool. Interpolation is not defined with bool data type. Please set order to 0 or explicitely cast input image to another data type. Starting from version 0.19 a ValueError will be raised instead of this warning.\n",
            "  order = _validate_interpolation_order(image.dtype, order)\n",
            "/usr/local/lib/python3.7/dist-packages/skimage/transform/_warps.py:830: FutureWarning: Input image dtype is bool. Interpolation is not defined with bool data type. Please set order to 0 or explicitely cast input image to another data type. Starting from version 0.19 a ValueError will be raised instead of this warning.\n",
            "  order = _validate_interpolation_order(image.dtype, order)\n"
          ]
        },
        {
          "output_type": "stream",
          "name": "stdout",
          "text": [
            "mask.shape, min(mask),max(mask): (1080, 810, 4), 0,0\n",
            "rr.shape, min(rr),max(rr): (64917,), 138,415\n",
            "cc.shape, min(cc),max(cc): (64917,), 184,479\n",
            "After fixing the dirt mask, new values:\n",
            "rr.shape, min(rr),max(rr): (64917,), 138,415\n",
            "cc.shape, min(cc),max(cc): (64917,), 184,479\n",
            "mask.shape, min(mask),max(mask): (480, 600, 1), 0,0\n",
            "rr.shape, min(rr),max(rr): (93951,), 88,479\n",
            "cc.shape, min(cc),max(cc): (93951,), 0,281\n",
            "After fixing the dirt mask, new values:\n",
            "rr.shape, min(rr),max(rr): (93951,), 88,479\n",
            "cc.shape, min(cc),max(cc): (93951,), 0,281\n"
          ]
        },
        {
          "output_type": "stream",
          "name": "stderr",
          "text": [
            "/usr/local/lib/python3.7/dist-packages/ipykernel_launcher.py:129: DeprecationWarning: `np.bool` is a deprecated alias for the builtin `bool`. To silence this warning, use `bool` by itself. Doing this will not modify any behavior and is safe. If you specifically wanted the numpy scalar type, use `np.bool_` here.\n",
            "Deprecated in NumPy 1.20; for more details and guidance: https://numpy.org/devdocs/release/1.20.0-notes.html#deprecations\n"
          ]
        },
        {
          "output_type": "stream",
          "name": "stdout",
          "text": [
            "mask.shape, min(mask),max(mask): (1080, 810, 4), 0,1\n",
            "rr.shape, min(rr),max(rr): (52268,), 353,646\n",
            "cc.shape, min(cc),max(cc): (52268,), 388,621\n",
            "After fixing the dirt mask, new values:\n",
            "rr.shape, min(rr),max(rr): (52268,), 353,646\n",
            "cc.shape, min(cc),max(cc): (52268,), 388,621\n",
            "mask.shape, min(mask),max(mask): (1080, 810, 4), 0,1\n",
            "rr.shape, min(rr),max(rr): (46497,), 652,901\n",
            "cc.shape, min(cc),max(cc): (46497,), 384,635\n",
            "After fixing the dirt mask, new values:\n",
            "rr.shape, min(rr),max(rr): (46497,), 652,901\n",
            "cc.shape, min(cc),max(cc): (46497,), 384,635\n"
          ]
        },
        {
          "output_type": "stream",
          "name": "stderr",
          "text": [
            "/usr/local/lib/python3.7/dist-packages/skimage/transform/_warps.py:830: FutureWarning: Input image dtype is bool. Interpolation is not defined with bool data type. Please set order to 0 or explicitely cast input image to another data type. Starting from version 0.19 a ValueError will be raised instead of this warning.\n",
            "  order = _validate_interpolation_order(image.dtype, order)\n"
          ]
        },
        {
          "output_type": "stream",
          "name": "stdout",
          "text": [
            "mask.shape, min(mask),max(mask): (1080, 810, 4), 0,1\n",
            "rr.shape, min(rr),max(rr): (42167,), 395,645\n",
            "cc.shape, min(cc),max(cc): (42167,), 168,397\n",
            "After fixing the dirt mask, new values:\n",
            "rr.shape, min(rr),max(rr): (42167,), 395,645\n",
            "cc.shape, min(cc),max(cc): (42167,), 168,397\n"
          ]
        },
        {
          "output_type": "stream",
          "name": "stderr",
          "text": [
            "/usr/local/lib/python3.7/dist-packages/ipykernel_launcher.py:129: DeprecationWarning: `np.bool` is a deprecated alias for the builtin `bool`. To silence this warning, use `bool` by itself. Doing this will not modify any behavior and is safe. If you specifically wanted the numpy scalar type, use `np.bool_` here.\n",
            "Deprecated in NumPy 1.20; for more details and guidance: https://numpy.org/devdocs/release/1.20.0-notes.html#deprecations\n",
            "/usr/local/lib/python3.7/dist-packages/skimage/transform/_warps.py:830: FutureWarning: Input image dtype is bool. Interpolation is not defined with bool data type. Please set order to 0 or explicitely cast input image to another data type. Starting from version 0.19 a ValueError will be raised instead of this warning.\n",
            "  order = _validate_interpolation_order(image.dtype, order)\n"
          ]
        },
        {
          "output_type": "stream",
          "name": "stdout",
          "text": [
            "mask.shape, min(mask),max(mask): (1700, 2400, 1), 0,0\n",
            "rr.shape, min(rr),max(rr): (463059,), 608,1387\n",
            "cc.shape, min(cc),max(cc): (463059,), 242,992\n",
            "After fixing the dirt mask, new values:\n",
            "rr.shape, min(rr),max(rr): (463059,), 608,1387\n",
            "cc.shape, min(cc),max(cc): (463059,), 242,992\n"
          ]
        },
        {
          "output_type": "stream",
          "name": "stderr",
          "text": [
            "/usr/local/lib/python3.7/dist-packages/ipykernel_launcher.py:129: DeprecationWarning: `np.bool` is a deprecated alias for the builtin `bool`. To silence this warning, use `bool` by itself. Doing this will not modify any behavior and is safe. If you specifically wanted the numpy scalar type, use `np.bool_` here.\n",
            "Deprecated in NumPy 1.20; for more details and guidance: https://numpy.org/devdocs/release/1.20.0-notes.html#deprecations\n"
          ]
        },
        {
          "output_type": "stream",
          "name": "stdout",
          "text": [
            "mask.shape, min(mask),max(mask): (1357, 1900, 2), 0,0\n",
            "rr.shape, min(rr),max(rr): (365294,), 4,971\n",
            "cc.shape, min(cc),max(cc): (365294,), 877,1578\n",
            "After fixing the dirt mask, new values:\n",
            "rr.shape, min(rr),max(rr): (365294,), 4,971\n",
            "cc.shape, min(cc),max(cc): (365294,), 877,1578\n"
          ]
        },
        {
          "output_type": "stream",
          "name": "stderr",
          "text": [
            "/usr/local/lib/python3.7/dist-packages/skimage/transform/_warps.py:830: FutureWarning: Input image dtype is bool. Interpolation is not defined with bool data type. Please set order to 0 or explicitely cast input image to another data type. Starting from version 0.19 a ValueError will be raised instead of this warning.\n",
            "  order = _validate_interpolation_order(image.dtype, order)\n"
          ]
        },
        {
          "output_type": "stream",
          "name": "stdout",
          "text": [
            "mask.shape, min(mask),max(mask): (480, 960, 1), 0,0\n",
            "rr.shape, min(rr),max(rr): (20977,), 87,221\n",
            "cc.shape, min(cc),max(cc): (20977,), 512,744\n",
            "After fixing the dirt mask, new values:\n",
            "rr.shape, min(rr),max(rr): (20977,), 87,221\n",
            "cc.shape, min(cc),max(cc): (20977,), 512,744\n"
          ]
        },
        {
          "output_type": "stream",
          "name": "stderr",
          "text": [
            "/usr/local/lib/python3.7/dist-packages/ipykernel_launcher.py:129: DeprecationWarning: `np.bool` is a deprecated alias for the builtin `bool`. To silence this warning, use `bool` by itself. Doing this will not modify any behavior and is safe. If you specifically wanted the numpy scalar type, use `np.bool_` here.\n",
            "Deprecated in NumPy 1.20; for more details and guidance: https://numpy.org/devdocs/release/1.20.0-notes.html#deprecations\n",
            "/usr/local/lib/python3.7/dist-packages/skimage/transform/_warps.py:830: FutureWarning: Input image dtype is bool. Interpolation is not defined with bool data type. Please set order to 0 or explicitely cast input image to another data type. Starting from version 0.19 a ValueError will be raised instead of this warning.\n",
            "  order = _validate_interpolation_order(image.dtype, order)\n"
          ]
        },
        {
          "output_type": "stream",
          "name": "stdout",
          "text": [
            "mask.shape, min(mask),max(mask): (1357, 1900, 2), 0,1\n",
            "rr.shape, min(rr),max(rr): (318279,), 328,1107\n",
            "cc.shape, min(cc),max(cc): (318279,), 145,824\n",
            "After fixing the dirt mask, new values:\n",
            "rr.shape, min(rr),max(rr): (318279,), 328,1107\n",
            "cc.shape, min(cc),max(cc): (318279,), 145,824\n"
          ]
        },
        {
          "output_type": "stream",
          "name": "stderr",
          "text": [
            "/usr/local/lib/python3.7/dist-packages/ipykernel_launcher.py:129: DeprecationWarning: `np.bool` is a deprecated alias for the builtin `bool`. To silence this warning, use `bool` by itself. Doing this will not modify any behavior and is safe. If you specifically wanted the numpy scalar type, use `np.bool_` here.\n",
            "Deprecated in NumPy 1.20; for more details and guidance: https://numpy.org/devdocs/release/1.20.0-notes.html#deprecations\n"
          ]
        },
        {
          "output_type": "stream",
          "name": "stdout",
          "text": [
            "mask.shape, min(mask),max(mask): (500, 500, 1), 0,0\n",
            "rr.shape, min(rr),max(rr): (38525,), 165,385\n",
            "cc.shape, min(cc),max(cc): (38525,), 0,243\n",
            "After fixing the dirt mask, new values:\n",
            "rr.shape, min(rr),max(rr): (38525,), 165,385\n",
            "cc.shape, min(cc),max(cc): (38525,), 0,243\n"
          ]
        },
        {
          "output_type": "stream",
          "name": "stderr",
          "text": [
            "/usr/local/lib/python3.7/dist-packages/ipykernel_launcher.py:129: DeprecationWarning: `np.bool` is a deprecated alias for the builtin `bool`. To silence this warning, use `bool` by itself. Doing this will not modify any behavior and is safe. If you specifically wanted the numpy scalar type, use `np.bool_` here.\n",
            "Deprecated in NumPy 1.20; for more details and guidance: https://numpy.org/devdocs/release/1.20.0-notes.html#deprecations\n",
            "/usr/local/lib/python3.7/dist-packages/skimage/transform/_warps.py:830: FutureWarning: Input image dtype is bool. Interpolation is not defined with bool data type. Please set order to 0 or explicitely cast input image to another data type. Starting from version 0.19 a ValueError will be raised instead of this warning.\n",
            "  order = _validate_interpolation_order(image.dtype, order)\n",
            "/usr/local/lib/python3.7/dist-packages/skimage/transform/_warps.py:830: FutureWarning: Input image dtype is bool. Interpolation is not defined with bool data type. Please set order to 0 or explicitely cast input image to another data type. Starting from version 0.19 a ValueError will be raised instead of this warning.\n",
            "  order = _validate_interpolation_order(image.dtype, order)\n"
          ]
        },
        {
          "output_type": "stream",
          "name": "stdout",
          "text": [
            "mask.shape, min(mask),max(mask): (375, 500, 1), 0,0\n",
            "rr.shape, min(rr),max(rr): (13318,), 69,215\n",
            "cc.shape, min(cc),max(cc): (13318,), 16,170\n",
            "After fixing the dirt mask, new values:\n",
            "rr.shape, min(rr),max(rr): (13318,), 69,215\n",
            "cc.shape, min(cc),max(cc): (13318,), 16,170\n"
          ]
        },
        {
          "output_type": "stream",
          "name": "stderr",
          "text": [
            "/usr/local/lib/python3.7/dist-packages/ipykernel_launcher.py:129: DeprecationWarning: `np.bool` is a deprecated alias for the builtin `bool`. To silence this warning, use `bool` by itself. Doing this will not modify any behavior and is safe. If you specifically wanted the numpy scalar type, use `np.bool_` here.\n",
            "Deprecated in NumPy 1.20; for more details and guidance: https://numpy.org/devdocs/release/1.20.0-notes.html#deprecations\n"
          ]
        },
        {
          "output_type": "stream",
          "name": "stdout",
          "text": [
            "mask.shape, min(mask),max(mask): (1024, 683, 5), 0,0\n",
            "rr.shape, min(rr),max(rr): (23409,), 140,328\n",
            "cc.shape, min(cc),max(cc): (23409,), 142,340\n",
            "After fixing the dirt mask, new values:\n",
            "rr.shape, min(rr),max(rr): (23409,), 140,328\n",
            "cc.shape, min(cc),max(cc): (23409,), 142,340\n"
          ]
        },
        {
          "output_type": "stream",
          "name": "stderr",
          "text": [
            "/usr/local/lib/python3.7/dist-packages/skimage/transform/_warps.py:830: FutureWarning: Input image dtype is bool. Interpolation is not defined with bool data type. Please set order to 0 or explicitely cast input image to another data type. Starting from version 0.19 a ValueError will be raised instead of this warning.\n",
            "  order = _validate_interpolation_order(image.dtype, order)\n"
          ]
        },
        {
          "output_type": "stream",
          "name": "stdout",
          "text": [
            "mask.shape, min(mask),max(mask): (1024, 683, 5), 0,1\n",
            "rr.shape, min(rr),max(rr): (47060,), 250,513\n",
            "cc.shape, min(cc),max(cc): (47060,), 80,304\n",
            "After fixing the dirt mask, new values:\n",
            "rr.shape, min(rr),max(rr): (47060,), 250,513\n",
            "cc.shape, min(cc),max(cc): (47060,), 80,304\n",
            "mask.shape, min(mask),max(mask): (1024, 683, 5), 0,1\n",
            "rr.shape, min(rr),max(rr): (34250,), 204,419\n",
            "cc.shape, min(cc),max(cc): (34250,), 305,554\n",
            "After fixing the dirt mask, new values:\n",
            "rr.shape, min(rr),max(rr): (34250,), 204,419\n",
            "cc.shape, min(cc),max(cc): (34250,), 305,554\n",
            "mask.shape, min(mask),max(mask): (1024, 683, 5), 0,1\n",
            "rr.shape, min(rr),max(rr): (56408,), 347,627\n",
            "cc.shape, min(cc),max(cc): (56408,), 371,644\n",
            "After fixing the dirt mask, new values:\n",
            "rr.shape, min(rr),max(rr): (56408,), 347,627\n",
            "cc.shape, min(cc),max(cc): (56408,), 371,644\n",
            "mask.shape, min(mask),max(mask): (640, 640, 3), 0,0\n",
            "rr.shape, min(rr),max(rr): (34105,), 436,639\n",
            "cc.shape, min(cc),max(cc): (34105,), 299,508\n",
            "After fixing the dirt mask, new values:\n",
            "rr.shape, min(rr),max(rr): (34105,), 436,639\n",
            "cc.shape, min(cc),max(cc): (34105,), 299,508\n",
            "mask.shape, min(mask),max(mask): (1024, 683, 5), 0,1\n",
            "rr.shape, min(rr),max(rr): (55954,), 494,799\n",
            "cc.shape, min(cc),max(cc): (55954,), 180,416\n",
            "After fixing the dirt mask, new values:\n",
            "rr.shape, min(rr),max(rr): (55954,), 494,799\n",
            "cc.shape, min(cc),max(cc): (55954,), 180,416\n"
          ]
        },
        {
          "output_type": "stream",
          "name": "stderr",
          "text": [
            "/usr/local/lib/python3.7/dist-packages/ipykernel_launcher.py:129: DeprecationWarning: `np.bool` is a deprecated alias for the builtin `bool`. To silence this warning, use `bool` by itself. Doing this will not modify any behavior and is safe. If you specifically wanted the numpy scalar type, use `np.bool_` here.\n",
            "Deprecated in NumPy 1.20; for more details and guidance: https://numpy.org/devdocs/release/1.20.0-notes.html#deprecations\n"
          ]
        },
        {
          "output_type": "stream",
          "name": "stdout",
          "text": [
            "mask.shape, min(mask),max(mask): (640, 640, 3), 0,1\n",
            "rr.shape, min(rr),max(rr): (38334,), 332,611\n",
            "cc.shape, min(cc),max(cc): (38334,), 139,356\n",
            "After fixing the dirt mask, new values:\n",
            "rr.shape, min(rr),max(rr): (38334,), 332,611\n",
            "cc.shape, min(cc),max(cc): (38334,), 139,356\n",
            "mask.shape, min(mask),max(mask): (640, 640, 3), 0,1\n",
            "rr.shape, min(rr),max(rr): (36504,), 126,346\n",
            "cc.shape, min(cc),max(cc): (36504,), 196,421\n",
            "After fixing the dirt mask, new values:\n",
            "rr.shape, min(rr),max(rr): (36504,), 126,346\n",
            "cc.shape, min(cc),max(cc): (36504,), 196,421\n"
          ]
        },
        {
          "output_type": "stream",
          "name": "stderr",
          "text": [
            "/usr/local/lib/python3.7/dist-packages/ipykernel_launcher.py:129: DeprecationWarning: `np.bool` is a deprecated alias for the builtin `bool`. To silence this warning, use `bool` by itself. Doing this will not modify any behavior and is safe. If you specifically wanted the numpy scalar type, use `np.bool_` here.\n",
            "Deprecated in NumPy 1.20; for more details and guidance: https://numpy.org/devdocs/release/1.20.0-notes.html#deprecations\n",
            "/usr/local/lib/python3.7/dist-packages/skimage/transform/_warps.py:830: FutureWarning: Input image dtype is bool. Interpolation is not defined with bool data type. Please set order to 0 or explicitely cast input image to another data type. Starting from version 0.19 a ValueError will be raised instead of this warning.\n",
            "  order = _validate_interpolation_order(image.dtype, order)\n",
            "/usr/local/lib/python3.7/dist-packages/skimage/transform/_warps.py:830: FutureWarning: Input image dtype is bool. Interpolation is not defined with bool data type. Please set order to 0 or explicitely cast input image to another data type. Starting from version 0.19 a ValueError will be raised instead of this warning.\n",
            "  order = _validate_interpolation_order(image.dtype, order)\n"
          ]
        },
        {
          "output_type": "stream",
          "name": "stdout",
          "text": [
            "mask.shape, min(mask),max(mask): (498, 500, 1), 0,0\n",
            "rr.shape, min(rr),max(rr): (32757,), 99,326\n",
            "cc.shape, min(cc),max(cc): (32757,), 33,247\n",
            "After fixing the dirt mask, new values:\n",
            "rr.shape, min(rr),max(rr): (32757,), 99,326\n",
            "cc.shape, min(cc),max(cc): (32757,), 33,247\n"
          ]
        },
        {
          "output_type": "stream",
          "name": "stderr",
          "text": [
            "/usr/local/lib/python3.7/dist-packages/ipykernel_launcher.py:129: DeprecationWarning: `np.bool` is a deprecated alias for the builtin `bool`. To silence this warning, use `bool` by itself. Doing this will not modify any behavior and is safe. If you specifically wanted the numpy scalar type, use `np.bool_` here.\n",
            "Deprecated in NumPy 1.20; for more details and guidance: https://numpy.org/devdocs/release/1.20.0-notes.html#deprecations\n",
            "/usr/local/lib/python3.7/dist-packages/skimage/transform/_warps.py:830: FutureWarning: Input image dtype is bool. Interpolation is not defined with bool data type. Please set order to 0 or explicitely cast input image to another data type. Starting from version 0.19 a ValueError will be raised instead of this warning.\n",
            "  order = _validate_interpolation_order(image.dtype, order)\n"
          ]
        },
        {
          "output_type": "stream",
          "name": "stdout",
          "text": [
            "mask.shape, min(mask),max(mask): (1440, 2560, 1), 0,0\n",
            "rr.shape, min(rr),max(rr): (206108,), 125,592\n",
            "cc.shape, min(cc),max(cc): (206108,), 965,1545\n",
            "After fixing the dirt mask, new values:\n",
            "rr.shape, min(rr),max(rr): (206108,), 125,592\n",
            "cc.shape, min(cc),max(cc): (206108,), 965,1545\n"
          ]
        },
        {
          "output_type": "stream",
          "name": "stderr",
          "text": [
            "/usr/local/lib/python3.7/dist-packages/ipykernel_launcher.py:129: DeprecationWarning: `np.bool` is a deprecated alias for the builtin `bool`. To silence this warning, use `bool` by itself. Doing this will not modify any behavior and is safe. If you specifically wanted the numpy scalar type, use `np.bool_` here.\n",
            "Deprecated in NumPy 1.20; for more details and guidance: https://numpy.org/devdocs/release/1.20.0-notes.html#deprecations\n"
          ]
        },
        {
          "output_type": "stream",
          "name": "stdout",
          "text": [
            "mask.shape, min(mask),max(mask): (742, 1200, 1), 0,0\n",
            "rr.shape, min(rr),max(rr): (30802,), 93,279\n",
            "cc.shape, min(cc),max(cc): (30802,), 730,970\n",
            "After fixing the dirt mask, new values:\n",
            "rr.shape, min(rr),max(rr): (30802,), 93,279\n",
            "cc.shape, min(cc),max(cc): (30802,), 730,970\n"
          ]
        },
        {
          "output_type": "stream",
          "name": "stderr",
          "text": [
            "/usr/local/lib/python3.7/dist-packages/ipykernel_launcher.py:129: DeprecationWarning: `np.bool` is a deprecated alias for the builtin `bool`. To silence this warning, use `bool` by itself. Doing this will not modify any behavior and is safe. If you specifically wanted the numpy scalar type, use `np.bool_` here.\n",
            "Deprecated in NumPy 1.20; for more details and guidance: https://numpy.org/devdocs/release/1.20.0-notes.html#deprecations\n",
            "/usr/local/lib/python3.7/dist-packages/skimage/transform/_warps.py:830: FutureWarning: Input image dtype is bool. Interpolation is not defined with bool data type. Please set order to 0 or explicitely cast input image to another data type. Starting from version 0.19 a ValueError will be raised instead of this warning.\n",
            "  order = _validate_interpolation_order(image.dtype, order)\n",
            "/usr/local/lib/python3.7/dist-packages/skimage/transform/_warps.py:830: FutureWarning: Input image dtype is bool. Interpolation is not defined with bool data type. Please set order to 0 or explicitely cast input image to another data type. Starting from version 0.19 a ValueError will be raised instead of this warning.\n",
            "  order = _validate_interpolation_order(image.dtype, order)\n"
          ]
        },
        {
          "output_type": "stream",
          "name": "stdout",
          "text": [
            "mask.shape, min(mask),max(mask): (640, 640, 3), 0,0\n",
            "rr.shape, min(rr),max(rr): (34105,), 436,639\n",
            "cc.shape, min(cc),max(cc): (34105,), 299,508\n",
            "After fixing the dirt mask, new values:\n",
            "rr.shape, min(rr),max(rr): (34105,), 436,639\n",
            "cc.shape, min(cc),max(cc): (34105,), 299,508\n",
            "mask.shape, min(mask),max(mask): (640, 640, 3), 0,1\n",
            "rr.shape, min(rr),max(rr): (38334,), 332,611\n",
            "cc.shape, min(cc),max(cc): (38334,), 139,356\n",
            "After fixing the dirt mask, new values:\n",
            "rr.shape, min(rr),max(rr): (38334,), 332,611\n",
            "cc.shape, min(cc),max(cc): (38334,), 139,356\n",
            "mask.shape, min(mask),max(mask): (1024, 683, 5), 0,0\n",
            "rr.shape, min(rr),max(rr): (23409,), 140,328\n",
            "cc.shape, min(cc),max(cc): (23409,), 142,340\n",
            "After fixing the dirt mask, new values:\n",
            "rr.shape, min(rr),max(rr): (23409,), 140,328\n",
            "cc.shape, min(cc),max(cc): (23409,), 142,340\n",
            "mask.shape, min(mask),max(mask): (640, 640, 3), 0,1\n",
            "rr.shape, min(rr),max(rr): (36504,), 126,346\n",
            "mask.shape, min(mask),max(mask): (1024, 683, 5), 0,1\n",
            "rr.shape, min(rr),max(rr): (47060,), 250,513\n",
            "cc.shape, min(cc),max(cc): (36504,), 196,421\n",
            "After fixing the dirt mask, new values:\n",
            "rr.shape, min(rr),max(rr): (36504,), 126,346\n",
            "cc.shape, min(cc),max(cc): (47060,), 80,304\n",
            "cc.shape, min(cc),max(cc): (36504,), 196,421\n"
          ]
        },
        {
          "output_type": "stream",
          "name": "stderr",
          "text": [
            "/usr/local/lib/python3.7/dist-packages/ipykernel_launcher.py:129: DeprecationWarning: `np.bool` is a deprecated alias for the builtin `bool`. To silence this warning, use `bool` by itself. Doing this will not modify any behavior and is safe. If you specifically wanted the numpy scalar type, use `np.bool_` here.\n",
            "Deprecated in NumPy 1.20; for more details and guidance: https://numpy.org/devdocs/release/1.20.0-notes.html#deprecations\n"
          ]
        },
        {
          "output_type": "stream",
          "name": "stdout",
          "text": [
            "After fixing the dirt mask, new values:\n",
            "rr.shape, min(rr),max(rr): (47060,), 250,513\n",
            "cc.shape, min(cc),max(cc): (47060,), 80,304\n",
            "mask.shape, min(mask),max(mask): (1024, 683, 5), 0,1\n",
            "rr.shape, min(rr),max(rr): (34250,), 204,419\n",
            "cc.shape, min(cc),max(cc): (34250,), 305,554\n",
            "After fixing the dirt mask, new values:\n",
            "rr.shape, min(rr),max(rr): (34250,), 204,419\n",
            "cc.shape, min(cc),max(cc): (34250,), 305,554\n",
            "mask.shape, min(mask),max(mask): (1024, 683, 5), 0,1\n",
            "rr.shape, min(rr),max(rr): (56408,), 347,627\n",
            "cc.shape, min(cc),max(cc): (56408,), 371,644\n",
            "After fixing the dirt mask, new values:\n",
            "rr.shape, min(rr),max(rr): (56408,), 347,627\n",
            "cc.shape, min(cc),max(cc): (56408,), 371,644\n"
          ]
        },
        {
          "output_type": "stream",
          "name": "stderr",
          "text": [
            "/usr/local/lib/python3.7/dist-packages/skimage/transform/_warps.py:830: FutureWarning: Input image dtype is bool. Interpolation is not defined with bool data type. Please set order to 0 or explicitely cast input image to another data type. Starting from version 0.19 a ValueError will be raised instead of this warning.\n",
            "  order = _validate_interpolation_order(image.dtype, order)\n"
          ]
        },
        {
          "output_type": "stream",
          "name": "stdout",
          "text": [
            "mask.shape, min(mask),max(mask): (1024, 683, 5), 0,1\n",
            "rr.shape, min(rr),max(rr): (55954,), 494,799\n",
            "cc.shape, min(cc),max(cc): (55954,), 180,416\n",
            "After fixing the dirt mask, new values:\n",
            "rr.shape, min(rr),max(rr): (55954,), 494,799\n",
            "cc.shape, min(cc),max(cc): (55954,), 180,416\n"
          ]
        },
        {
          "output_type": "stream",
          "name": "stderr",
          "text": [
            "/usr/local/lib/python3.7/dist-packages/ipykernel_launcher.py:129: DeprecationWarning: `np.bool` is a deprecated alias for the builtin `bool`. To silence this warning, use `bool` by itself. Doing this will not modify any behavior and is safe. If you specifically wanted the numpy scalar type, use `np.bool_` here.\n",
            "Deprecated in NumPy 1.20; for more details and guidance: https://numpy.org/devdocs/release/1.20.0-notes.html#deprecations\n",
            "/usr/local/lib/python3.7/dist-packages/skimage/transform/_warps.py:830: FutureWarning: Input image dtype is bool. Interpolation is not defined with bool data type. Please set order to 0 or explicitely cast input image to another data type. Starting from version 0.19 a ValueError will be raised instead of this warning.\n",
            "  order = _validate_interpolation_order(image.dtype, order)\n"
          ]
        },
        {
          "output_type": "stream",
          "name": "stdout",
          "text": [
            "mask.shape, min(mask),max(mask): (840, 1400, 1), 0,0\n",
            "mask.shape, min(mask),max(mask): (323, 450, 1), 0,0\n",
            "rr.shape, min(rr),max(rr): (29971,), 8,201\n",
            "rr.shape, min(rr),max(rr): (232786,), 146,644\n",
            "cc.shape, min(cc),max(cc): (29971,), 228,420\n",
            "cc.shape, min(cc),max(cc): (232786,), 74,689\n",
            "After fixing the dirt mask, new values:\n",
            "After fixing the dirt mask, new values:\n",
            "rr.shape, min(rr),max(rr): (29971,), 8,201\n",
            "rr.shape, min(rr),max(rr): (232786,), 146,644\n",
            "cc.shape, min(cc),max(cc): (29971,), 228,420\n"
          ]
        },
        {
          "output_type": "stream",
          "name": "stderr",
          "text": [
            "/usr/local/lib/python3.7/dist-packages/ipykernel_launcher.py:129: DeprecationWarning: `np.bool` is a deprecated alias for the builtin `bool`. To silence this warning, use `bool` by itself. Doing this will not modify any behavior and is safe. If you specifically wanted the numpy scalar type, use `np.bool_` here.\n",
            "Deprecated in NumPy 1.20; for more details and guidance: https://numpy.org/devdocs/release/1.20.0-notes.html#deprecations\n"
          ]
        },
        {
          "output_type": "stream",
          "name": "stdout",
          "text": [
            "cc.shape, min(cc),max(cc): (232786,), 74,689\n"
          ]
        },
        {
          "output_type": "stream",
          "name": "stderr",
          "text": [
            "/usr/local/lib/python3.7/dist-packages/ipykernel_launcher.py:129: DeprecationWarning: `np.bool` is a deprecated alias for the builtin `bool`. To silence this warning, use `bool` by itself. Doing this will not modify any behavior and is safe. If you specifically wanted the numpy scalar type, use `np.bool_` here.\n",
            "Deprecated in NumPy 1.20; for more details and guidance: https://numpy.org/devdocs/release/1.20.0-notes.html#deprecations\n",
            "/usr/local/lib/python3.7/dist-packages/skimage/transform/_warps.py:830: FutureWarning: Input image dtype is bool. Interpolation is not defined with bool data type. Please set order to 0 or explicitely cast input image to another data type. Starting from version 0.19 a ValueError will be raised instead of this warning.\n",
            "  order = _validate_interpolation_order(image.dtype, order)\n",
            "/usr/local/lib/python3.7/dist-packages/skimage/transform/_warps.py:830: FutureWarning: Input image dtype is bool. Interpolation is not defined with bool data type. Please set order to 0 or explicitely cast input image to another data type. Starting from version 0.19 a ValueError will be raised instead of this warning.\n",
            "  order = _validate_interpolation_order(image.dtype, order)\n"
          ]
        },
        {
          "output_type": "stream",
          "name": "stdout",
          "text": [
            "mask.shape, min(mask),max(mask): (280, 280, 2), 0,0\n",
            "rr.shape, min(rr),max(rr): (11829,), 93,226\n",
            "cc.shape, min(cc),max(cc): (11829,), 159,279\n",
            "After fixing the dirt mask, new values:\n",
            "rr.shape, min(rr),max(rr): (11829,), 93,226\n",
            "cc.shape, min(cc),max(cc): (11829,), 159,279\n",
            "mask.shape, min(mask),max(mask): (280, 280, 2), 0,1\n",
            "rr.shape, min(rr),max(rr): (7642,), 88,216\n",
            "cc.shape, min(cc),max(cc): (7642,), 0,78\n",
            "After fixing the dirt mask, new values:\n",
            "rr.shape, min(rr),max(rr): (7642,), 88,216\n",
            "cc.shape, min(cc),max(cc): (7642,), 0,78\n"
          ]
        },
        {
          "output_type": "stream",
          "name": "stderr",
          "text": [
            "/usr/local/lib/python3.7/dist-packages/ipykernel_launcher.py:129: DeprecationWarning: `np.bool` is a deprecated alias for the builtin `bool`. To silence this warning, use `bool` by itself. Doing this will not modify any behavior and is safe. If you specifically wanted the numpy scalar type, use `np.bool_` here.\n",
            "Deprecated in NumPy 1.20; for more details and guidance: https://numpy.org/devdocs/release/1.20.0-notes.html#deprecations\n"
          ]
        },
        {
          "output_type": "stream",
          "name": "stdout",
          "text": [
            "mask.shape, min(mask),max(mask): (720, 960, 1), 0,0\n",
            "rr.shape, min(rr),max(rr): (42613,), 13,247\n",
            "cc.shape, min(cc),max(cc): (42613,), 136,406\n",
            "After fixing the dirt mask, new values:\n",
            "rr.shape, min(rr),max(rr): (42613,), 13,247\n",
            "cc.shape, min(cc),max(cc): (42613,), 136,406\n"
          ]
        },
        {
          "output_type": "stream",
          "name": "stderr",
          "text": [
            "/usr/local/lib/python3.7/dist-packages/ipykernel_launcher.py:129: DeprecationWarning: `np.bool` is a deprecated alias for the builtin `bool`. To silence this warning, use `bool` by itself. Doing this will not modify any behavior and is safe. If you specifically wanted the numpy scalar type, use `np.bool_` here.\n",
            "Deprecated in NumPy 1.20; for more details and guidance: https://numpy.org/devdocs/release/1.20.0-notes.html#deprecations\n",
            "/usr/local/lib/python3.7/dist-packages/skimage/transform/_warps.py:830: FutureWarning: Input image dtype is bool. Interpolation is not defined with bool data type. Please set order to 0 or explicitely cast input image to another data type. Starting from version 0.19 a ValueError will be raised instead of this warning.\n",
            "  order = _validate_interpolation_order(image.dtype, order)\n",
            "/usr/local/lib/python3.7/dist-packages/skimage/transform/_warps.py:830: FutureWarning: Input image dtype is bool. Interpolation is not defined with bool data type. Please set order to 0 or explicitely cast input image to another data type. Starting from version 0.19 a ValueError will be raised instead of this warning.\n",
            "  order = _validate_interpolation_order(image.dtype, order)\n"
          ]
        },
        {
          "output_type": "stream",
          "name": "stdout",
          "text": [
            "mask.shape, min(mask),max(mask): (410, 600, 1), 0,0\n",
            "mask.shape, min(mask),max(mask): (720, 960, 1), 0,0\n",
            "rr.shape, min(rr),max(rr): (44522,), 34,260\n",
            "cc.shape, min(cc),max(cc): (44522,), 79,396\n",
            "rr.shape, min(rr),max(rr): (42613,), 13,247\n",
            "After fixing the dirt mask, new values:\n",
            "cc.shape, min(cc),max(cc): (42613,), 136,406\n",
            "rr.shape, min(rr),max(rr): (44522,), 34,260\n",
            "After fixing the dirt mask, new values:\n",
            "rr.shape, min(rr),max(rr): (42613,), 13,247\n",
            "cc.shape, min(cc),max(cc): (42613,), 136,406\n"
          ]
        },
        {
          "output_type": "stream",
          "name": "stderr",
          "text": [
            "/usr/local/lib/python3.7/dist-packages/ipykernel_launcher.py:129: DeprecationWarning: `np.bool` is a deprecated alias for the builtin `bool`. To silence this warning, use `bool` by itself. Doing this will not modify any behavior and is safe. If you specifically wanted the numpy scalar type, use `np.bool_` here.\n",
            "Deprecated in NumPy 1.20; for more details and guidance: https://numpy.org/devdocs/release/1.20.0-notes.html#deprecations\n"
          ]
        },
        {
          "output_type": "stream",
          "name": "stdout",
          "text": [
            "cc.shape, min(cc),max(cc): (44522,), 79,396\n"
          ]
        },
        {
          "output_type": "stream",
          "name": "stderr",
          "text": [
            "/usr/local/lib/python3.7/dist-packages/ipykernel_launcher.py:129: DeprecationWarning: `np.bool` is a deprecated alias for the builtin `bool`. To silence this warning, use `bool` by itself. Doing this will not modify any behavior and is safe. If you specifically wanted the numpy scalar type, use `np.bool_` here.\n",
            "Deprecated in NumPy 1.20; for more details and guidance: https://numpy.org/devdocs/release/1.20.0-notes.html#deprecations\n",
            "/usr/local/lib/python3.7/dist-packages/skimage/transform/_warps.py:830: FutureWarning: Input image dtype is bool. Interpolation is not defined with bool data type. Please set order to 0 or explicitely cast input image to another data type. Starting from version 0.19 a ValueError will be raised instead of this warning.\n",
            "  order = _validate_interpolation_order(image.dtype, order)\n",
            "/usr/local/lib/python3.7/dist-packages/skimage/transform/_warps.py:830: FutureWarning: Input image dtype is bool. Interpolation is not defined with bool data type. Please set order to 0 or explicitely cast input image to another data type. Starting from version 0.19 a ValueError will be raised instead of this warning.\n",
            "  order = _validate_interpolation_order(image.dtype, order)\n"
          ]
        },
        {
          "output_type": "stream",
          "name": "stdout",
          "text": [
            "mask.shape, min(mask),max(mask): (399, 263, 1), 0,0\n",
            "mask.shape, min(mask),max(mask): (750, 750, 5), 0,0\n",
            "rr.shape, min(rr),max(rr): (14486,), 19,159\n",
            "rr.shape, min(rr),max(rr): (62548,), 158,421\n",
            "cc.shape, min(cc),max(cc): (62548,), 340,619\n",
            "cc.shape, min(cc),max(cc): (14486,), 67,206\n",
            "After fixing the dirt mask, new values:\n",
            "rr.shape, min(rr),max(rr): (14486,), 19,159\n",
            "After fixing the dirt mask, new values:\n",
            "cc.shape, min(cc),max(cc): (14486,), 67,206\n",
            "rr.shape, min(rr),max(rr): (62548,), 158,421\n"
          ]
        },
        {
          "output_type": "stream",
          "name": "stderr",
          "text": [
            "/usr/local/lib/python3.7/dist-packages/ipykernel_launcher.py:129: DeprecationWarning: `np.bool` is a deprecated alias for the builtin `bool`. To silence this warning, use `bool` by itself. Doing this will not modify any behavior and is safe. If you specifically wanted the numpy scalar type, use `np.bool_` here.\n",
            "Deprecated in NumPy 1.20; for more details and guidance: https://numpy.org/devdocs/release/1.20.0-notes.html#deprecations\n"
          ]
        },
        {
          "output_type": "stream",
          "name": "stdout",
          "text": [
            "cc.shape, min(cc),max(cc): (62548,), 340,619\n",
            "mask.shape, min(mask),max(mask): (750, 750, 5), 0,1\n",
            "rr.shape, min(rr),max(rr): (56722,), 380,655\n",
            "cc.shape, min(cc),max(cc): (56722,), 441,702\n",
            "After fixing the dirt mask, new values:\n",
            "rr.shape, min(rr),max(rr): (56722,), 380,655\n",
            "cc.shape, min(cc),max(cc): (56722,), 441,702\n"
          ]
        },
        {
          "output_type": "stream",
          "name": "stderr",
          "text": [
            "/usr/local/lib/python3.7/dist-packages/skimage/transform/_warps.py:830: FutureWarning: Input image dtype is bool. Interpolation is not defined with bool data type. Please set order to 0 or explicitely cast input image to another data type. Starting from version 0.19 a ValueError will be raised instead of this warning.\n",
            "  order = _validate_interpolation_order(image.dtype, order)\n"
          ]
        },
        {
          "output_type": "stream",
          "name": "stdout",
          "text": [
            "mask.shape, min(mask),max(mask): (750, 750, 5), 0,1\n",
            "rr.shape, min(rr),max(rr): (61219,), 202,471\n",
            "cc.shape, min(cc),max(cc): (61219,), 66,338\n",
            "After fixing the dirt mask, new values:\n",
            "rr.shape, min(rr),max(rr): (61219,), 202,471\n",
            "cc.shape, min(cc),max(cc): (61219,), 66,338\n",
            "mask.shape, min(mask),max(mask): (750, 750, 5), 0,1\n",
            "rr.shape, min(rr),max(rr): (59209,), 489,750\n",
            "cc.shape, min(cc),max(cc): (59209,), 83,361\n",
            "After fixing the dirt mask, new values:\n",
            "rr.shape, min(rr),max(rr): (59209,), 489,749\n",
            "cc.shape, min(cc),max(cc): (59209,), 83,361\n",
            "mask.shape, min(mask),max(mask): (750, 750, 5), 0,1\n",
            "rr.shape, min(rr),max(rr): (11042,), 158,332\n",
            "cc.shape, min(cc),max(cc): (11042,), 0,104\n",
            "After fixing the dirt mask, new values:\n",
            "rr.shape, min(rr),max(rr): (11042,), 158,332\n",
            "cc.shape, min(cc),max(cc): (11042,), 0,104\n"
          ]
        },
        {
          "output_type": "stream",
          "name": "stderr",
          "text": [
            "/usr/local/lib/python3.7/dist-packages/ipykernel_launcher.py:129: DeprecationWarning: `np.bool` is a deprecated alias for the builtin `bool`. To silence this warning, use `bool` by itself. Doing this will not modify any behavior and is safe. If you specifically wanted the numpy scalar type, use `np.bool_` here.\n",
            "Deprecated in NumPy 1.20; for more details and guidance: https://numpy.org/devdocs/release/1.20.0-notes.html#deprecations\n"
          ]
        },
        {
          "output_type": "stream",
          "name": "stdout",
          "text": [
            "mask.shape, min(mask),max(mask): (554, 900, 1), 0,0\n",
            "rr.shape, min(rr),max(rr): (64330,), 99,453\n",
            "cc.shape, min(cc),max(cc): (64330,), 56,323\n",
            "After fixing the dirt mask, new values:\n",
            "rr.shape, min(rr),max(rr): (64330,), 99,453\n",
            "cc.shape, min(cc),max(cc): (64330,), 56,323\n"
          ]
        },
        {
          "output_type": "stream",
          "name": "stderr",
          "text": [
            "/usr/local/lib/python3.7/dist-packages/ipykernel_launcher.py:129: DeprecationWarning: `np.bool` is a deprecated alias for the builtin `bool`. To silence this warning, use `bool` by itself. Doing this will not modify any behavior and is safe. If you specifically wanted the numpy scalar type, use `np.bool_` here.\n",
            "Deprecated in NumPy 1.20; for more details and guidance: https://numpy.org/devdocs/release/1.20.0-notes.html#deprecations\n",
            "/usr/local/lib/python3.7/dist-packages/skimage/transform/_warps.py:830: FutureWarning: Input image dtype is bool. Interpolation is not defined with bool data type. Please set order to 0 or explicitely cast input image to another data type. Starting from version 0.19 a ValueError will be raised instead of this warning.\n",
            "  order = _validate_interpolation_order(image.dtype, order)\n",
            "/usr/local/lib/python3.7/dist-packages/skimage/transform/_warps.py:830: FutureWarning: Input image dtype is bool. Interpolation is not defined with bool data type. Please set order to 0 or explicitely cast input image to another data type. Starting from version 0.19 a ValueError will be raised instead of this warning.\n",
            "  order = _validate_interpolation_order(image.dtype, order)\n"
          ]
        },
        {
          "output_type": "stream",
          "name": "stdout",
          "text": [
            "mask.shape, min(mask),max(mask): (1024, 1024, 3), 0,0\n",
            "rr.shape, min(rr),max(rr): (136221,), 394,822\n",
            "cc.shape, min(cc),max(cc): (136221,), 586,1005\n",
            "After fixing the dirt mask, new values:\n",
            "rr.shape, min(rr),max(rr): (136221,), 394,822\n",
            "cc.shape, min(cc),max(cc): (136221,), 586,1005\n",
            "mask.shape, min(mask),max(mask): (700, 700, 2), 0,0\n",
            "rr.shape, min(rr),max(rr): (43241,), 1,257\n",
            "cc.shape, min(cc),max(cc): (43241,), 234,494\n",
            "After fixing the dirt mask, new values:\n",
            "rr.shape, min(rr),max(rr): (43241,), 1,257\n",
            "cc.shape, min(cc),max(cc): (43241,), 234,494\n",
            "mask.shape, min(mask),max(mask): (700, 700, 2), 0,1\n",
            "rr.shape, min(rr),max(rr): (46237,), 460,699\n",
            "cc.shape, min(cc),max(cc): (46237,), 410,657\n",
            "After fixing the dirt mask, new values:\n",
            "rr.shape, min(rr),max(rr): (46237,), 460,699\n",
            "cc.shape, min(cc),max(cc): (46237,), 410,657\n"
          ]
        },
        {
          "output_type": "stream",
          "name": "stderr",
          "text": [
            "/usr/local/lib/python3.7/dist-packages/ipykernel_launcher.py:129: DeprecationWarning: `np.bool` is a deprecated alias for the builtin `bool`. To silence this warning, use `bool` by itself. Doing this will not modify any behavior and is safe. If you specifically wanted the numpy scalar type, use `np.bool_` here.\n",
            "Deprecated in NumPy 1.20; for more details and guidance: https://numpy.org/devdocs/release/1.20.0-notes.html#deprecations\n"
          ]
        },
        {
          "output_type": "stream",
          "name": "stdout",
          "text": [
            "mask.shape, min(mask),max(mask): (1024, 1024, 3), 0,1\n",
            "rr.shape, min(rr),max(rr): (194833,), 402,869\n",
            "cc.shape, min(cc),max(cc): (194833,), 10,594\n",
            "After fixing the dirt mask, new values:\n",
            "rr.shape, min(rr),max(rr): (194833,), 402,869\n",
            "cc.shape, min(cc),max(cc): (194833,), 10,594\n"
          ]
        },
        {
          "output_type": "stream",
          "name": "stderr",
          "text": [
            "/usr/local/lib/python3.7/dist-packages/skimage/transform/_warps.py:830: FutureWarning: Input image dtype is bool. Interpolation is not defined with bool data type. Please set order to 0 or explicitely cast input image to another data type. Starting from version 0.19 a ValueError will be raised instead of this warning.\n",
            "  order = _validate_interpolation_order(image.dtype, order)\n"
          ]
        },
        {
          "output_type": "stream",
          "name": "stdout",
          "text": [
            "mask.shape, min(mask),max(mask): (1024, 1024, 3), 0,1\n",
            "rr.shape, min(rr),max(rr): (81556,), 162,539\n",
            "cc.shape, min(cc),max(cc): (81556,), 281,704\n",
            "After fixing the dirt mask, new values:\n",
            "rr.shape, min(rr),max(rr): (81556,), 162,539\n",
            "cc.shape, min(cc),max(cc): (81556,), 281,704\n"
          ]
        },
        {
          "output_type": "stream",
          "name": "stderr",
          "text": [
            "/usr/local/lib/python3.7/dist-packages/ipykernel_launcher.py:129: DeprecationWarning: `np.bool` is a deprecated alias for the builtin `bool`. To silence this warning, use `bool` by itself. Doing this will not modify any behavior and is safe. If you specifically wanted the numpy scalar type, use `np.bool_` here.\n",
            "Deprecated in NumPy 1.20; for more details and guidance: https://numpy.org/devdocs/release/1.20.0-notes.html#deprecations\n",
            "/usr/local/lib/python3.7/dist-packages/skimage/transform/_warps.py:830: FutureWarning: Input image dtype is bool. Interpolation is not defined with bool data type. Please set order to 0 or explicitely cast input image to another data type. Starting from version 0.19 a ValueError will be raised instead of this warning.\n",
            "  order = _validate_interpolation_order(image.dtype, order)\n"
          ]
        },
        {
          "output_type": "stream",
          "name": "stdout",
          "text": [
            "mask.shape, min(mask),max(mask): (837, 600, 1), 0,0\n",
            "rr.shape, min(rr),max(rr): (7597,), 544,656\n",
            "cc.shape, min(cc),max(cc): (7597,), 189,291\n",
            "After fixing the dirt mask, new values:\n",
            "rr.shape, min(rr),max(rr): (7597,), 544,656\n",
            "cc.shape, min(cc),max(cc): (7597,), 189,291\n"
          ]
        },
        {
          "output_type": "stream",
          "name": "stderr",
          "text": [
            "/usr/local/lib/python3.7/dist-packages/ipykernel_launcher.py:129: DeprecationWarning: `np.bool` is a deprecated alias for the builtin `bool`. To silence this warning, use `bool` by itself. Doing this will not modify any behavior and is safe. If you specifically wanted the numpy scalar type, use `np.bool_` here.\n",
            "Deprecated in NumPy 1.20; for more details and guidance: https://numpy.org/devdocs/release/1.20.0-notes.html#deprecations\n"
          ]
        },
        {
          "output_type": "stream",
          "name": "stdout",
          "text": [
            "mask.shape, min(mask),max(mask): (470, 470, 2), 0,0\n",
            "rr.shape, min(rr),max(rr): (21488,), 86,258\n",
            "cc.shape, min(cc),max(cc): (21488,), 146,304\n",
            "After fixing the dirt mask, new values:\n",
            "rr.shape, min(rr),max(rr): (21488,), 86,258\n",
            "cc.shape, min(cc),max(cc): (21488,), 146,304\n"
          ]
        },
        {
          "output_type": "stream",
          "name": "stderr",
          "text": [
            "/usr/local/lib/python3.7/dist-packages/skimage/transform/_warps.py:830: FutureWarning: Input image dtype is bool. Interpolation is not defined with bool data type. Please set order to 0 or explicitely cast input image to another data type. Starting from version 0.19 a ValueError will be raised instead of this warning.\n",
            "  order = _validate_interpolation_order(image.dtype, order)\n"
          ]
        },
        {
          "output_type": "stream",
          "name": "stdout",
          "text": [
            "mask.shape, min(mask),max(mask): (470, 470, 2), 0,1\n",
            "rr.shape, min(rr),max(rr): (21438,), 248,420\n",
            "cc.shape, min(cc),max(cc): (21438,), 155,310\n",
            "After fixing the dirt mask, new values:\n",
            "rr.shape, min(rr),max(rr): (21438,), 248,420\n",
            "cc.shape, min(cc),max(cc): (21438,), 155,310\n"
          ]
        },
        {
          "output_type": "stream",
          "name": "stderr",
          "text": [
            "/usr/local/lib/python3.7/dist-packages/ipykernel_launcher.py:129: DeprecationWarning: `np.bool` is a deprecated alias for the builtin `bool`. To silence this warning, use `bool` by itself. Doing this will not modify any behavior and is safe. If you specifically wanted the numpy scalar type, use `np.bool_` here.\n",
            "Deprecated in NumPy 1.20; for more details and guidance: https://numpy.org/devdocs/release/1.20.0-notes.html#deprecations\n"
          ]
        },
        {
          "output_type": "stream",
          "name": "stdout",
          "text": [
            "mask.shape, min(mask),max(mask): (1000, 1000, 1), 0,0\n",
            "rr.shape, min(rr),max(rr): (73133,), 391,703\n",
            "cc.shape, min(cc),max(cc): (73133,), 351,674\n",
            "After fixing the dirt mask, new values:\n",
            "rr.shape, min(rr),max(rr): (73133,), 391,703\n",
            "cc.shape, min(cc),max(cc): (73133,), 351,674\n"
          ]
        },
        {
          "output_type": "stream",
          "name": "stderr",
          "text": [
            "/usr/local/lib/python3.7/dist-packages/ipykernel_launcher.py:129: DeprecationWarning: `np.bool` is a deprecated alias for the builtin `bool`. To silence this warning, use `bool` by itself. Doing this will not modify any behavior and is safe. If you specifically wanted the numpy scalar type, use `np.bool_` here.\n",
            "Deprecated in NumPy 1.20; for more details and guidance: https://numpy.org/devdocs/release/1.20.0-notes.html#deprecations\n",
            "/usr/local/lib/python3.7/dist-packages/skimage/transform/_warps.py:830: FutureWarning: Input image dtype is bool. Interpolation is not defined with bool data type. Please set order to 0 or explicitely cast input image to another data type. Starting from version 0.19 a ValueError will be raised instead of this warning.\n",
            "  order = _validate_interpolation_order(image.dtype, order)\n",
            "/usr/local/lib/python3.7/dist-packages/skimage/transform/_warps.py:830: FutureWarning: Input image dtype is bool. Interpolation is not defined with bool data type. Please set order to 0 or explicitely cast input image to another data type. Starting from version 0.19 a ValueError will be raised instead of this warning.\n",
            "  order = _validate_interpolation_order(image.dtype, order)\n"
          ]
        },
        {
          "output_type": "stream",
          "name": "stdout",
          "text": [
            "mask.shape, min(mask),max(mask): (480, 852, 1), 0,0\n",
            "rr.shape, min(rr),max(rr): (167163,), 0,459\n",
            "cc.shape, min(cc),max(cc): (167163,), 4,539\n",
            "After fixing the dirt mask, new values:\n",
            "rr.shape, min(rr),max(rr): (167163,), 0,459\n",
            "cc.shape, min(cc),max(cc): (167163,), 4,539\n"
          ]
        },
        {
          "output_type": "stream",
          "name": "stderr",
          "text": [
            "/usr/local/lib/python3.7/dist-packages/ipykernel_launcher.py:129: DeprecationWarning: `np.bool` is a deprecated alias for the builtin `bool`. To silence this warning, use `bool` by itself. Doing this will not modify any behavior and is safe. If you specifically wanted the numpy scalar type, use `np.bool_` here.\n",
            "Deprecated in NumPy 1.20; for more details and guidance: https://numpy.org/devdocs/release/1.20.0-notes.html#deprecations\n"
          ]
        },
        {
          "output_type": "stream",
          "name": "stdout",
          "text": [
            "mask.shape, min(mask),max(mask): (1196, 858, 1), 0,0\n",
            "rr.shape, min(rr),max(rr): (319855,), 261,926\n",
            "cc.shape, min(cc),max(cc): (319855,), 140,855\n",
            "After fixing the dirt mask, new values:\n",
            "rr.shape, min(rr),max(rr): (319855,), 261,926\n",
            "cc.shape, min(cc),max(cc): (319855,), 140,855\n"
          ]
        },
        {
          "output_type": "stream",
          "name": "stderr",
          "text": [
            "/usr/local/lib/python3.7/dist-packages/ipykernel_launcher.py:129: DeprecationWarning: `np.bool` is a deprecated alias for the builtin `bool`. To silence this warning, use `bool` by itself. Doing this will not modify any behavior and is safe. If you specifically wanted the numpy scalar type, use `np.bool_` here.\n",
            "Deprecated in NumPy 1.20; for more details and guidance: https://numpy.org/devdocs/release/1.20.0-notes.html#deprecations\n",
            "/usr/local/lib/python3.7/dist-packages/skimage/transform/_warps.py:830: FutureWarning: Input image dtype is bool. Interpolation is not defined with bool data type. Please set order to 0 or explicitely cast input image to another data type. Starting from version 0.19 a ValueError will be raised instead of this warning.\n",
            "  order = _validate_interpolation_order(image.dtype, order)\n"
          ]
        },
        {
          "output_type": "stream",
          "name": "stdout",
          "text": [
            "mask.shape, min(mask),max(mask): (450, 600, 1), 0,0\n",
            "rr.shape, min(rr),max(rr): (4863,), 215,289\n",
            "cc.shape, min(cc),max(cc): (4863,), 336,433\n",
            "After fixing the dirt mask, new values:\n",
            "rr.shape, min(rr),max(rr): (4863,), 215,289\n",
            "cc.shape, min(cc),max(cc): (4863,), 336,433\n"
          ]
        },
        {
          "output_type": "stream",
          "name": "stderr",
          "text": [
            "/usr/local/lib/python3.7/dist-packages/ipykernel_launcher.py:129: DeprecationWarning: `np.bool` is a deprecated alias for the builtin `bool`. To silence this warning, use `bool` by itself. Doing this will not modify any behavior and is safe. If you specifically wanted the numpy scalar type, use `np.bool_` here.\n",
            "Deprecated in NumPy 1.20; for more details and guidance: https://numpy.org/devdocs/release/1.20.0-notes.html#deprecations\n",
            "/usr/local/lib/python3.7/dist-packages/skimage/transform/_warps.py:830: FutureWarning: Input image dtype is bool. Interpolation is not defined with bool data type. Please set order to 0 or explicitely cast input image to another data type. Starting from version 0.19 a ValueError will be raised instead of this warning.\n",
            "  order = _validate_interpolation_order(image.dtype, order)\n"
          ]
        },
        {
          "output_type": "stream",
          "name": "stdout",
          "text": [
            "mask.shape, min(mask),max(mask): (400, 600, 2), 0,0\n"
          ]
        },
        {
          "output_type": "stream",
          "name": "stderr",
          "text": [
            "/usr/local/lib/python3.7/dist-packages/skimage/transform/_warps.py:830: FutureWarning: Input image dtype is bool. Interpolation is not defined with bool data type. Please set order to 0 or explicitely cast input image to another data type. Starting from version 0.19 a ValueError will be raised instead of this warning.\n",
            "  order = _validate_interpolation_order(image.dtype, order)\n"
          ]
        },
        {
          "output_type": "stream",
          "name": "stdout",
          "text": [
            "rr.shape, min(rr),max(rr): (23604,), 141,325\n",
            "cc.shape, min(cc),max(cc): (23604,), 321,511\n",
            "After fixing the dirt mask, new values:\n",
            "rr.shape, min(rr),max(rr): (23604,), 141,325\n",
            "cc.shape, min(cc),max(cc): (23604,), 321,511\n",
            "mask.shape, min(mask),max(mask): (400, 600, 2), 0,1\n",
            "rr.shape, min(rr),max(rr): (19192,), 149,309\n",
            "cc.shape, min(cc),max(cc): (19192,), 53,210\n",
            "After fixing the dirt mask, new values:\n",
            "rr.shape, min(rr),max(rr): (19192,), 149,309\n",
            "cc.shape, min(cc),max(cc): (19192,), 53,210\n"
          ]
        },
        {
          "output_type": "stream",
          "name": "stderr",
          "text": [
            "/usr/local/lib/python3.7/dist-packages/ipykernel_launcher.py:129: DeprecationWarning: `np.bool` is a deprecated alias for the builtin `bool`. To silence this warning, use `bool` by itself. Doing this will not modify any behavior and is safe. If you specifically wanted the numpy scalar type, use `np.bool_` here.\n",
            "Deprecated in NumPy 1.20; for more details and guidance: https://numpy.org/devdocs/release/1.20.0-notes.html#deprecations\n",
            "/usr/local/lib/python3.7/dist-packages/skimage/transform/_warps.py:830: FutureWarning: Input image dtype is bool. Interpolation is not defined with bool data type. Please set order to 0 or explicitely cast input image to another data type. Starting from version 0.19 a ValueError will be raised instead of this warning.\n",
            "  order = _validate_interpolation_order(image.dtype, order)\n"
          ]
        },
        {
          "output_type": "stream",
          "name": "stdout",
          "text": [
            "mask.shape, min(mask),max(mask): (1000, 1500, 1), 0,0\n",
            "rr.shape, min(rr),max(rr): (261242,), 439,1000\n",
            "cc.shape, min(cc),max(cc): (261242,), 564,1294\n",
            "After fixing the dirt mask, new values:\n",
            "rr.shape, min(rr),max(rr): (261242,), 439,999\n",
            "cc.shape, min(cc),max(cc): (261242,), 564,1294\n"
          ]
        },
        {
          "output_type": "stream",
          "name": "stderr",
          "text": [
            "/usr/local/lib/python3.7/dist-packages/ipykernel_launcher.py:129: DeprecationWarning: `np.bool` is a deprecated alias for the builtin `bool`. To silence this warning, use `bool` by itself. Doing this will not modify any behavior and is safe. If you specifically wanted the numpy scalar type, use `np.bool_` here.\n",
            "Deprecated in NumPy 1.20; for more details and guidance: https://numpy.org/devdocs/release/1.20.0-notes.html#deprecations\n",
            "/usr/local/lib/python3.7/dist-packages/skimage/transform/_warps.py:830: FutureWarning: Input image dtype is bool. Interpolation is not defined with bool data type. Please set order to 0 or explicitely cast input image to another data type. Starting from version 0.19 a ValueError will be raised instead of this warning.\n",
            "  order = _validate_interpolation_order(image.dtype, order)\n"
          ]
        },
        {
          "output_type": "stream",
          "name": "stdout",
          "text": [
            "mask.shape, min(mask),max(mask): (1067, 1600, 1), 0,0\n",
            "rr.shape, min(rr),max(rr): (226384,), 193,748\n",
            "cc.shape, min(cc),max(cc): (226384,), 244,750\n",
            "After fixing the dirt mask, new values:\n",
            "rr.shape, min(rr),max(rr): (226384,), 193,748\n",
            "cc.shape, min(cc),max(cc): (226384,), 244,750\n"
          ]
        },
        {
          "output_type": "stream",
          "name": "stderr",
          "text": [
            "/usr/local/lib/python3.7/dist-packages/ipykernel_launcher.py:129: DeprecationWarning: `np.bool` is a deprecated alias for the builtin `bool`. To silence this warning, use `bool` by itself. Doing this will not modify any behavior and is safe. If you specifically wanted the numpy scalar type, use `np.bool_` here.\n",
            "Deprecated in NumPy 1.20; for more details and guidance: https://numpy.org/devdocs/release/1.20.0-notes.html#deprecations\n"
          ]
        },
        {
          "output_type": "stream",
          "name": "stdout",
          "text": [
            "mask.shape, min(mask),max(mask): (480, 960, 1), 0,0\n",
            "rr.shape, min(rr),max(rr): (20977,), 87,221\n",
            "cc.shape, min(cc),max(cc): (20977,), 512,744\n",
            "After fixing the dirt mask, new values:\n",
            "rr.shape, min(rr),max(rr): (20977,), 87,221\n",
            "cc.shape, min(cc),max(cc): (20977,), 512,744\n"
          ]
        },
        {
          "output_type": "stream",
          "name": "stderr",
          "text": [
            "/usr/local/lib/python3.7/dist-packages/ipykernel_launcher.py:129: DeprecationWarning: `np.bool` is a deprecated alias for the builtin `bool`. To silence this warning, use `bool` by itself. Doing this will not modify any behavior and is safe. If you specifically wanted the numpy scalar type, use `np.bool_` here.\n",
            "Deprecated in NumPy 1.20; for more details and guidance: https://numpy.org/devdocs/release/1.20.0-notes.html#deprecations\n",
            "/usr/local/lib/python3.7/dist-packages/skimage/transform/_warps.py:830: FutureWarning: Input image dtype is bool. Interpolation is not defined with bool data type. Please set order to 0 or explicitely cast input image to another data type. Starting from version 0.19 a ValueError will be raised instead of this warning.\n",
            "  order = _validate_interpolation_order(image.dtype, order)\n",
            "/usr/local/lib/python3.7/dist-packages/skimage/transform/_warps.py:830: FutureWarning: Input image dtype is bool. Interpolation is not defined with bool data type. Please set order to 0 or explicitely cast input image to another data type. Starting from version 0.19 a ValueError will be raised instead of this warning.\n",
            "  order = _validate_interpolation_order(image.dtype, order)\n"
          ]
        },
        {
          "output_type": "stream",
          "name": "stdout",
          "text": [
            "mask.shape, min(mask),max(mask): (683, 1024, 1), 0,0\n",
            "rr.shape, min(rr),max(rr): (46308,), 202,443\n",
            "cc.shape, min(cc),max(cc): (46308,), 325,592\n",
            "After fixing the dirt mask, new values:\n",
            "rr.shape, min(rr),max(rr): (46308,), 202,443\n",
            "cc.shape, min(cc),max(cc): (46308,), 325,592\n"
          ]
        },
        {
          "output_type": "stream",
          "name": "stderr",
          "text": [
            "/usr/local/lib/python3.7/dist-packages/ipykernel_launcher.py:129: DeprecationWarning: `np.bool` is a deprecated alias for the builtin `bool`. To silence this warning, use `bool` by itself. Doing this will not modify any behavior and is safe. If you specifically wanted the numpy scalar type, use `np.bool_` here.\n",
            "Deprecated in NumPy 1.20; for more details and guidance: https://numpy.org/devdocs/release/1.20.0-notes.html#deprecations\n",
            "/usr/local/lib/python3.7/dist-packages/skimage/transform/_warps.py:830: FutureWarning: Input image dtype is bool. Interpolation is not defined with bool data type. Please set order to 0 or explicitely cast input image to another data type. Starting from version 0.19 a ValueError will be raised instead of this warning.\n",
            "  order = _validate_interpolation_order(image.dtype, order)\n"
          ]
        },
        {
          "output_type": "stream",
          "name": "stdout",
          "text": [
            "mask.shape, min(mask),max(mask): (540, 540, 3), 0,0\n",
            "rr.shape, min(rr),max(rr): (50860,), 13,364\n",
            "cc.shape, min(cc),max(cc): (50860,), 274,506\n",
            "After fixing the dirt mask, new values:\n",
            "rr.shape, min(rr),max(rr): (50860,), 13,364\n",
            "cc.shape, min(cc),max(cc): (50860,), 274,506\n",
            "mask.shape, min(mask),max(mask): (540, 540, 3), 0,1\n",
            "rr.shape, min(rr),max(rr): (66638,), 232,527\n",
            "cc.shape, min(cc),max(cc): (66638,), 124,446\n",
            "After fixing the dirt mask, new values:\n",
            "mask.shape, min(mask),max(mask): (1382, 2048, 3), 0,0\n",
            "rr.shape, min(rr),max(rr): (255266,), 199,735\n",
            "rr.shape, min(rr),max(rr): (66638,), 232,527\n",
            "cc.shape, min(cc),max(cc): (255266,), 726,1306\n",
            "cc.shape, min(cc),max(cc): (66638,), 124,446\n",
            "After fixing the dirt mask, new values:\n",
            "rr.shape, min(rr),max(rr): (255266,), 199,735\n",
            "cc.shape, min(cc),max(cc): (255266,), 726,1306\n",
            "mask.shape, min(mask),max(mask): (540, 540, 3), 0,1\n",
            "rr.shape, min(rr),max(rr): (46383,), 61,340\n",
            "cc.shape, min(cc),max(cc): (46383,), 28,281\n",
            "After fixing the dirt mask, new values:\n",
            "rr.shape, min(rr),max(rr): (46383,), 61,340\n",
            "cc.shape, min(cc),max(cc): (46383,), 28,281\n"
          ]
        },
        {
          "output_type": "stream",
          "name": "stderr",
          "text": [
            "/usr/local/lib/python3.7/dist-packages/ipykernel_launcher.py:129: DeprecationWarning: `np.bool` is a deprecated alias for the builtin `bool`. To silence this warning, use `bool` by itself. Doing this will not modify any behavior and is safe. If you specifically wanted the numpy scalar type, use `np.bool_` here.\n",
            "Deprecated in NumPy 1.20; for more details and guidance: https://numpy.org/devdocs/release/1.20.0-notes.html#deprecations\n"
          ]
        },
        {
          "output_type": "stream",
          "name": "stdout",
          "text": [
            "mask.shape, min(mask),max(mask): (1382, 2048, 3), 0,1\n",
            "rr.shape, min(rr),max(rr): (170340,), 729,1167\n",
            "cc.shape, min(cc),max(cc): (170340,), 822,1287\n",
            "After fixing the dirt mask, new values:\n",
            "rr.shape, min(rr),max(rr): (170340,), 729,1167\n",
            "cc.shape, min(cc),max(cc): (170340,), 822,1287\n"
          ]
        },
        {
          "output_type": "stream",
          "name": "stderr",
          "text": [
            "/usr/local/lib/python3.7/dist-packages/skimage/transform/_warps.py:830: FutureWarning: Input image dtype is bool. Interpolation is not defined with bool data type. Please set order to 0 or explicitely cast input image to another data type. Starting from version 0.19 a ValueError will be raised instead of this warning.\n",
            "  order = _validate_interpolation_order(image.dtype, order)\n"
          ]
        },
        {
          "output_type": "stream",
          "name": "stdout",
          "text": [
            "mask.shape, min(mask),max(mask): (1382, 2048, 3), 0,1\n",
            "rr.shape, min(rr),max(rr): (122348,), 1111,1381\n",
            "cc.shape, min(cc),max(cc): (122348,), 755,1325\n",
            "After fixing the dirt mask, new values:\n",
            "rr.shape, min(rr),max(rr): (122348,), 1111,1381\n",
            "cc.shape, min(cc),max(cc): (122348,), 755,1325\n"
          ]
        },
        {
          "output_type": "stream",
          "name": "stderr",
          "text": [
            "/usr/local/lib/python3.7/dist-packages/ipykernel_launcher.py:129: DeprecationWarning: `np.bool` is a deprecated alias for the builtin `bool`. To silence this warning, use `bool` by itself. Doing this will not modify any behavior and is safe. If you specifically wanted the numpy scalar type, use `np.bool_` here.\n",
            "Deprecated in NumPy 1.20; for more details and guidance: https://numpy.org/devdocs/release/1.20.0-notes.html#deprecations\n"
          ]
        },
        {
          "output_type": "stream",
          "name": "stdout",
          "text": [
            "mask.shape, min(mask),max(mask): (1020, 1920, 2), 0,0\n",
            "rr.shape, min(rr),max(rr): (167722,), 520,995\n",
            "cc.shape, min(cc),max(cc): (167722,), 587,1030\n"
          ]
        },
        {
          "output_type": "stream",
          "name": "stderr",
          "text": [
            "/usr/local/lib/python3.7/dist-packages/skimage/transform/_warps.py:830: FutureWarning: Input image dtype is bool. Interpolation is not defined with bool data type. Please set order to 0 or explicitely cast input image to another data type. Starting from version 0.19 a ValueError will be raised instead of this warning.\n",
            "  order = _validate_interpolation_order(image.dtype, order)\n"
          ]
        },
        {
          "output_type": "stream",
          "name": "stdout",
          "text": [
            "After fixing the dirt mask, new values:\n",
            "rr.shape, min(rr),max(rr): (167722,), 520,995\n",
            "cc.shape, min(cc),max(cc): (167722,), 587,1030\n",
            "mask.shape, min(mask),max(mask): (1020, 1920, 2), 0,1\n",
            "mask.shape, min(mask),max(mask): (750, 750, 5), 0,0\n",
            "rr.shape, min(rr),max(rr): (241000,), 291,866\n",
            "rr.shape, min(rr),max(rr): (62548,), 158,421\n",
            "cc.shape, min(cc),max(cc): (241000,), 62,573\n",
            "cc.shape, min(cc),max(cc): (62548,), 340,619\n",
            "After fixing the dirt mask, new values:\n",
            "After fixing the dirt mask, new values:\n",
            "rr.shape, min(rr),max(rr): (241000,), 291,866\n",
            "rr.shape, min(rr),max(rr): (62548,), 158,421\n",
            "cc.shape, min(cc),max(cc): (241000,), 62,573\n",
            "cc.shape, min(cc),max(cc): (62548,), 340,619\n"
          ]
        },
        {
          "output_type": "stream",
          "name": "stderr",
          "text": [
            "/usr/local/lib/python3.7/dist-packages/ipykernel_launcher.py:129: DeprecationWarning: `np.bool` is a deprecated alias for the builtin `bool`. To silence this warning, use `bool` by itself. Doing this will not modify any behavior and is safe. If you specifically wanted the numpy scalar type, use `np.bool_` here.\n",
            "Deprecated in NumPy 1.20; for more details and guidance: https://numpy.org/devdocs/release/1.20.0-notes.html#deprecations\n"
          ]
        },
        {
          "output_type": "stream",
          "name": "stdout",
          "text": [
            "mask.shape, min(mask),max(mask): (750, 750, 5), 0,1\n",
            "rr.shape, min(rr),max(rr): (56722,), 380,655\n",
            "cc.shape, min(cc),max(cc): (56722,), 441,702\n",
            "After fixing the dirt mask, new values:\n",
            "rr.shape, min(rr),max(rr): (56722,), 380,655\n",
            "cc.shape, min(cc),max(cc): (56722,), 441,702\n",
            "mask.shape, min(mask),max(mask): (750, 750, 5), 0,1\n",
            "rr.shape, min(rr),max(rr): (61219,), 202,471\n",
            "cc.shape, min(cc),max(cc): (61219,), 66,338\n",
            "After fixing the dirt mask, new values:\n",
            "rr.shape, min(rr),max(rr): (61219,), 202,471\n",
            "cc.shape, min(cc),max(cc): (61219,), 66,338\n",
            "mask.shape, min(mask),max(mask): (750, 750, 5), 0,1\n",
            "rr.shape, min(rr),max(rr): (59209,), 489,750\n",
            "cc.shape, min(cc),max(cc): (59209,), 83,361\n",
            "After fixing the dirt mask, new values:\n",
            "rr.shape, min(rr),max(rr): (59209,), 489,749\n",
            "cc.shape, min(cc),max(cc): (59209,), 83,361\n"
          ]
        },
        {
          "output_type": "stream",
          "name": "stderr",
          "text": [
            "/usr/local/lib/python3.7/dist-packages/skimage/transform/_warps.py:830: FutureWarning: Input image dtype is bool. Interpolation is not defined with bool data type. Please set order to 0 or explicitely cast input image to another data type. Starting from version 0.19 a ValueError will be raised instead of this warning.\n",
            "  order = _validate_interpolation_order(image.dtype, order)\n"
          ]
        },
        {
          "output_type": "stream",
          "name": "stdout",
          "text": [
            "mask.shape, min(mask),max(mask): (750, 750, 5), 0,1\n",
            "rr.shape, min(rr),max(rr): (11042,), 158,332\n",
            "cc.shape, min(cc),max(cc): (11042,), 0,104\n",
            "After fixing the dirt mask, new values:\n",
            "rr.shape, min(rr),max(rr): (11042,), 158,332\n",
            "cc.shape, min(cc),max(cc): (11042,), 0,104\n"
          ]
        },
        {
          "output_type": "stream",
          "name": "stderr",
          "text": [
            "/usr/local/lib/python3.7/dist-packages/ipykernel_launcher.py:129: DeprecationWarning: `np.bool` is a deprecated alias for the builtin `bool`. To silence this warning, use `bool` by itself. Doing this will not modify any behavior and is safe. If you specifically wanted the numpy scalar type, use `np.bool_` here.\n",
            "Deprecated in NumPy 1.20; for more details and guidance: https://numpy.org/devdocs/release/1.20.0-notes.html#deprecations\n"
          ]
        },
        {
          "output_type": "stream",
          "name": "stdout",
          "text": [
            "mask.shape, min(mask),max(mask): (335, 670, 1), 0,0\n",
            "rr.shape, min(rr),max(rr): (27770,), 0,247\n",
            "cc.shape, min(cc),max(cc): (27770,), 428,614\n",
            "After fixing the dirt mask, new values:\n",
            "rr.shape, min(rr),max(rr): (27770,), 0,247\n",
            "cc.shape, min(cc),max(cc): (27770,), 428,614\n"
          ]
        },
        {
          "output_type": "stream",
          "name": "stderr",
          "text": [
            "/usr/local/lib/python3.7/dist-packages/ipykernel_launcher.py:129: DeprecationWarning: `np.bool` is a deprecated alias for the builtin `bool`. To silence this warning, use `bool` by itself. Doing this will not modify any behavior and is safe. If you specifically wanted the numpy scalar type, use `np.bool_` here.\n",
            "Deprecated in NumPy 1.20; for more details and guidance: https://numpy.org/devdocs/release/1.20.0-notes.html#deprecations\n",
            "/usr/local/lib/python3.7/dist-packages/skimage/transform/_warps.py:830: FutureWarning: Input image dtype is bool. Interpolation is not defined with bool data type. Please set order to 0 or explicitely cast input image to another data type. Starting from version 0.19 a ValueError will be raised instead of this warning.\n",
            "  order = _validate_interpolation_order(image.dtype, order)\n",
            "/usr/local/lib/python3.7/dist-packages/skimage/transform/_warps.py:830: FutureWarning: Input image dtype is bool. Interpolation is not defined with bool data type. Please set order to 0 or explicitely cast input image to another data type. Starting from version 0.19 a ValueError will be raised instead of this warning.\n",
            "  order = _validate_interpolation_order(image.dtype, order)\n"
          ]
        },
        {
          "output_type": "stream",
          "name": "stdout",
          "text": [
            "mask.shape, min(mask),max(mask): (738, 1024, 1), 0,0\n",
            "rr.shape, min(rr),max(rr): (110846,), 327,729\n",
            "cc.shape, min(cc),max(cc): (110846,), 195,574\n",
            "After fixing the dirt mask, new values:\n",
            "rr.shape, min(rr),max(rr): (110846,), 327,729\n",
            "cc.shape, min(cc),max(cc): (110846,), 195,574\n"
          ]
        },
        {
          "output_type": "stream",
          "name": "stderr",
          "text": [
            "/usr/local/lib/python3.7/dist-packages/ipykernel_launcher.py:129: DeprecationWarning: `np.bool` is a deprecated alias for the builtin `bool`. To silence this warning, use `bool` by itself. Doing this will not modify any behavior and is safe. If you specifically wanted the numpy scalar type, use `np.bool_` here.\n",
            "Deprecated in NumPy 1.20; for more details and guidance: https://numpy.org/devdocs/release/1.20.0-notes.html#deprecations\n",
            "/usr/local/lib/python3.7/dist-packages/skimage/transform/_warps.py:830: FutureWarning: Input image dtype is bool. Interpolation is not defined with bool data type. Please set order to 0 or explicitely cast input image to another data type. Starting from version 0.19 a ValueError will be raised instead of this warning.\n",
            "  order = _validate_interpolation_order(image.dtype, order)\n"
          ]
        },
        {
          "output_type": "stream",
          "name": "stdout",
          "text": [
            "mask.shape, min(mask),max(mask): (1365, 2048, 1), 0,0\n",
            "rr.shape, min(rr),max(rr): (268754,), 212,819\n",
            "cc.shape, min(cc),max(cc): (268754,), 375,1001\n",
            "mask.shape, min(mask),max(mask): (454, 633, 6), 0,0\n",
            "rr.shape, min(rr),max(rr): (12942,), 123,246\n",
            "cc.shape, min(cc),max(cc): (12942,), 3,127\n",
            "After fixing the dirt mask, new values:\n",
            "rr.shape, min(rr),max(rr): (268754,), 212,819\n",
            "After fixing the dirt mask, new values:\n",
            "cc.shape, min(cc),max(cc): (268754,), 375,1001\n",
            "rr.shape, min(rr),max(rr): (12942,), 123,246\n"
          ]
        },
        {
          "output_type": "stream",
          "name": "stderr",
          "text": [
            "/usr/local/lib/python3.7/dist-packages/ipykernel_launcher.py:129: DeprecationWarning: `np.bool` is a deprecated alias for the builtin `bool`. To silence this warning, use `bool` by itself. Doing this will not modify any behavior and is safe. If you specifically wanted the numpy scalar type, use `np.bool_` here.\n",
            "Deprecated in NumPy 1.20; for more details and guidance: https://numpy.org/devdocs/release/1.20.0-notes.html#deprecations\n"
          ]
        },
        {
          "output_type": "stream",
          "name": "stdout",
          "text": [
            "cc.shape, min(cc),max(cc): (12942,), 3,127\n",
            "mask.shape, min(mask),max(mask): (454, 633, 6), 0,1\n",
            "rr.shape, min(rr),max(rr): (11892,), 294,447\n",
            "cc.shape, min(cc),max(cc): (11892,), 174,297\n",
            "After fixing the dirt mask, new values:\n",
            "rr.shape, min(rr),max(rr): (11892,), 294,447\n",
            "cc.shape, min(cc),max(cc): (11892,), 174,297\n",
            "mask.shape, min(mask),max(mask): (454, 633, 6), 0,1\n",
            "rr.shape, min(rr),max(rr): (11238,), 329,453\n",
            "cc.shape, min(cc),max(cc): (11238,), 382,490\n",
            "After fixing the dirt mask, new values:\n",
            "rr.shape, min(rr),max(rr): (11238,), 329,453\n",
            "cc.shape, min(cc),max(cc): (11238,), 382,490\n",
            "mask.shape, min(mask),max(mask): (454, 633, 6), 0,1\n",
            "rr.shape, min(rr),max(rr): (11314,), 210,345\n",
            "cc.shape, min(cc),max(cc): (11314,), 322,428\n",
            "After fixing the dirt mask, new values:\n",
            "rr.shape, min(rr),max(rr): (11314,), 210,345\n",
            "cc.shape, min(cc),max(cc): (11314,), 322,428\n",
            "mask.shape, min(mask),max(mask): (454, 633, 6), 0,1\n",
            "rr.shape, min(rr),max(rr): (12598,), 73,200\n",
            "cc.shape, min(cc),max(cc): (12598,), 382,501\n",
            "After fixing the dirt mask, new values:\n",
            "rr.shape, min(rr),max(rr): (12598,), 73,200\n",
            "cc.shape, min(cc),max(cc): (12598,), 382,501\n",
            "mask.shape, min(mask),max(mask): (454, 633, 6), 0,1\n",
            "rr.shape, min(rr),max(rr): (3942,), 328,430\n",
            "cc.shape, min(cc),max(cc): (3942,), 534,616\n",
            "After fixing the dirt mask, new values:\n",
            "rr.shape, min(rr),max(rr): (3942,), 328,430\n",
            "cc.shape, min(cc),max(cc): (3942,), 534,616\n"
          ]
        },
        {
          "output_type": "stream",
          "name": "stderr",
          "text": [
            "/usr/local/lib/python3.7/dist-packages/ipykernel_launcher.py:129: DeprecationWarning: `np.bool` is a deprecated alias for the builtin `bool`. To silence this warning, use `bool` by itself. Doing this will not modify any behavior and is safe. If you specifically wanted the numpy scalar type, use `np.bool_` here.\n",
            "Deprecated in NumPy 1.20; for more details and guidance: https://numpy.org/devdocs/release/1.20.0-notes.html#deprecations\n",
            "/usr/local/lib/python3.7/dist-packages/skimage/transform/_warps.py:830: FutureWarning: Input image dtype is bool. Interpolation is not defined with bool data type. Please set order to 0 or explicitely cast input image to another data type. Starting from version 0.19 a ValueError will be raised instead of this warning.\n",
            "  order = _validate_interpolation_order(image.dtype, order)\n",
            "/usr/local/lib/python3.7/dist-packages/skimage/transform/_warps.py:830: FutureWarning: Input image dtype is bool. Interpolation is not defined with bool data type. Please set order to 0 or explicitely cast input image to another data type. Starting from version 0.19 a ValueError will be raised instead of this warning.\n",
            "  order = _validate_interpolation_order(image.dtype, order)\n"
          ]
        },
        {
          "output_type": "stream",
          "name": "stdout",
          "text": [
            "mask.shape, min(mask),max(mask): (541, 812, 4), 0,0\n",
            "rr.shape, min(rr),max(rr): (82349,), 67,387\n",
            "cc.shape, min(cc),max(cc): (82349,), 283,641\n",
            "After fixing the dirt mask, new values:\n",
            "rr.shape, min(rr),max(rr): (82349,), 67,387\n",
            "cc.shape, min(cc),max(cc): (82349,), 283,641\n",
            "mask.shape, min(mask),max(mask): (541, 812, 4), 0,1\n",
            "mask.shape, min(mask),max(mask): (425, 500, 2), 0,0\n",
            "rr.shape, min(rr),max(rr): (62429,), 56,390\n",
            "cc.shape, min(cc),max(cc): (62429,), 47,312\n",
            "After fixing the dirt mask, new values:\n",
            "rr.shape, min(rr),max(rr): (86074,), 4,326\n",
            "rr.shape, min(rr),max(rr): (62429,), 56,390\n",
            "cc.shape, min(cc),max(cc): (62429,), 47,312\n",
            "cc.shape, min(cc),max(cc): (86074,), 0,401\n",
            "After fixing the dirt mask, new values:\n",
            "rr.shape, min(rr),max(rr): (86074,), 4,326\n",
            "mask.shape, min(mask),max(mask): (425, 500, 2), 0,1\n",
            "cc.shape, min(cc),max(cc): (86074,), 0,401\n",
            "rr.shape, min(rr),max(rr): (28109,), 115,331\n",
            "cc.shape, min(cc),max(cc): (28109,), 277,455\n",
            "After fixing the dirt mask, new values:\n",
            "rr.shape, min(rr),max(rr): (28109,), 115,331\n",
            "mask.shape, min(mask),max(mask): (541, 812, 4), 0,1\n",
            "cc.shape, min(cc),max(cc): (28109,), 277,455\n"
          ]
        },
        {
          "output_type": "stream",
          "name": "stderr",
          "text": [
            "/usr/local/lib/python3.7/dist-packages/ipykernel_launcher.py:129: DeprecationWarning: `np.bool` is a deprecated alias for the builtin `bool`. To silence this warning, use `bool` by itself. Doing this will not modify any behavior and is safe. If you specifically wanted the numpy scalar type, use `np.bool_` here.\n",
            "Deprecated in NumPy 1.20; for more details and guidance: https://numpy.org/devdocs/release/1.20.0-notes.html#deprecations\n"
          ]
        },
        {
          "output_type": "stream",
          "name": "stdout",
          "text": [
            "rr.shape, min(rr),max(rr): (19352,), 1,134\n",
            "cc.shape, min(cc),max(cc): (19352,), 398,664\n",
            "After fixing the dirt mask, new values:\n",
            "rr.shape, min(rr),max(rr): (19352,), 1,134\n",
            "cc.shape, min(cc),max(cc): (19352,), 398,664\n",
            "mask.shape, min(mask),max(mask): (541, 812, 4), 0,1\n",
            "rr.shape, min(rr),max(rr): (8580,), 0,72\n",
            "cc.shape, min(cc),max(cc): (8580,), 140,417\n",
            "After fixing the dirt mask, new values:\n",
            "rr.shape, min(rr),max(rr): (8580,), 0,72\n",
            "cc.shape, min(cc),max(cc): (8580,), 140,417\n"
          ]
        },
        {
          "output_type": "stream",
          "name": "stderr",
          "text": [
            "/usr/local/lib/python3.7/dist-packages/ipykernel_launcher.py:129: DeprecationWarning: `np.bool` is a deprecated alias for the builtin `bool`. To silence this warning, use `bool` by itself. Doing this will not modify any behavior and is safe. If you specifically wanted the numpy scalar type, use `np.bool_` here.\n",
            "Deprecated in NumPy 1.20; for more details and guidance: https://numpy.org/devdocs/release/1.20.0-notes.html#deprecations\n",
            "/usr/local/lib/python3.7/dist-packages/skimage/transform/_warps.py:830: FutureWarning: Input image dtype is bool. Interpolation is not defined with bool data type. Please set order to 0 or explicitely cast input image to another data type. Starting from version 0.19 a ValueError will be raised instead of this warning.\n",
            "  order = _validate_interpolation_order(image.dtype, order)\n",
            "/usr/local/lib/python3.7/dist-packages/skimage/transform/_warps.py:830: FutureWarning: Input image dtype is bool. Interpolation is not defined with bool data type. Please set order to 0 or explicitely cast input image to another data type. Starting from version 0.19 a ValueError will be raised instead of this warning.\n",
            "  order = _validate_interpolation_order(image.dtype, order)\n"
          ]
        },
        {
          "output_type": "stream",
          "name": "stdout",
          "text": [
            "mask.shape, min(mask),max(mask): (640, 640, 7), 0,0\n",
            "rr.shape, min(rr),max(rr): (38248,), 112,321\n",
            "cc.shape, min(cc),max(cc): (38248,), 13,232\n",
            "After fixing the dirt mask, new values:\n",
            "rr.shape, min(rr),max(rr): (38248,), 112,321\n",
            "cc.shape, min(cc),max(cc): (38248,), 13,232\n",
            "mask.shape, min(mask),max(mask): (640, 640, 7), 0,1\n",
            "rr.shape, min(rr),max(rr): (36357,), 89,312\n",
            "cc.shape, min(cc),max(cc): (36357,), 228,426\n",
            "After fixing the dirt mask, new values:\n",
            "rr.shape, min(rr),max(rr): (36357,), 89,312\n",
            "cc.shape, min(cc),max(cc): (36357,), 228,426\n",
            "mask.shape, min(mask),max(mask): (640, 640, 7), 0,1\n",
            "rr.shape, min(rr),max(rr): (30194,), 79,302\n",
            "cc.shape, min(cc),max(cc): (30194,), 416,588\n",
            "After fixing the dirt mask, new values:\n",
            "rr.shape, min(rr),max(rr): (30194,), 79,302\n",
            "cc.shape, min(cc),max(cc): (30194,), 416,588\n",
            "mask.shape, min(mask),max(mask): (640, 640, 7), 0,1\n",
            "rr.shape, min(rr),max(rr): (32843,), 311,519\n",
            "cc.shape, min(cc),max(cc): (32843,), 0,178\n",
            "After fixing the dirt mask, new values:\n",
            "rr.shape, min(rr),max(rr): (32843,), 311,519\n",
            "cc.shape, min(cc),max(cc): (32843,), 0,178\n",
            "mask.shape, min(mask),max(mask): (640, 640, 7), 0,1\n",
            "rr.shape, min(rr),max(rr): (36678,), 296,514\n",
            "cc.shape, min(cc),max(cc): (36678,), 168,370\n",
            "After fixing the dirt mask, new values:\n",
            "rr.shape, min(rr),max(rr): (36678,), 296,514\n",
            "cc.shape, min(cc),max(cc): (36678,), 168,370\n",
            "mask.shape, min(mask),max(mask): (640, 640, 7), 0,1\n",
            "rr.shape, min(rr),max(rr): (31403,), 308,512\n",
            "cc.shape, min(cc),max(cc): (31403,), 365,557\n",
            "After fixing the dirt mask, new values:\n",
            "rr.shape, min(rr),max(rr): (31403,), 308,512\n",
            "cc.shape, min(cc),max(cc): (31403,), 365,557\n",
            "mask.shape, min(mask),max(mask): (1024, 1536, 1), 0,0\n",
            "mask.shape, min(mask),max(mask): (640, 640, 7), 0,1\n",
            "rr.shape, min(rr),max(rr): (18125,), 264,472\n",
            "rr.shape, min(rr),max(rr): (306741,), 189,823\n",
            "cc.shape, min(cc),max(cc): (306741,), 73,798\n",
            "cc.shape, min(cc),max(cc): (18125,), 522,639\n",
            "After fixing the dirt mask, new values:\n",
            "rr.shape, min(rr),max(rr): (306741,), 189,823\n",
            "After fixing the dirt mask, new values:\n",
            "cc.shape, min(cc),max(cc): (306741,), 73,798\n",
            "rr.shape, min(rr),max(rr): (18125,), 264,472\n"
          ]
        },
        {
          "output_type": "stream",
          "name": "stderr",
          "text": [
            "/usr/local/lib/python3.7/dist-packages/ipykernel_launcher.py:129: DeprecationWarning: `np.bool` is a deprecated alias for the builtin `bool`. To silence this warning, use `bool` by itself. Doing this will not modify any behavior and is safe. If you specifically wanted the numpy scalar type, use `np.bool_` here.\n",
            "Deprecated in NumPy 1.20; for more details and guidance: https://numpy.org/devdocs/release/1.20.0-notes.html#deprecations\n"
          ]
        },
        {
          "output_type": "stream",
          "name": "stdout",
          "text": [
            "cc.shape, min(cc),max(cc): (18125,), 522,639\n"
          ]
        },
        {
          "output_type": "stream",
          "name": "stderr",
          "text": [
            "/usr/local/lib/python3.7/dist-packages/ipykernel_launcher.py:129: DeprecationWarning: `np.bool` is a deprecated alias for the builtin `bool`. To silence this warning, use `bool` by itself. Doing this will not modify any behavior and is safe. If you specifically wanted the numpy scalar type, use `np.bool_` here.\n",
            "Deprecated in NumPy 1.20; for more details and guidance: https://numpy.org/devdocs/release/1.20.0-notes.html#deprecations\n",
            "/usr/local/lib/python3.7/dist-packages/skimage/transform/_warps.py:830: FutureWarning: Input image dtype is bool. Interpolation is not defined with bool data type. Please set order to 0 or explicitely cast input image to another data type. Starting from version 0.19 a ValueError will be raised instead of this warning.\n",
            "  order = _validate_interpolation_order(image.dtype, order)\n",
            "/usr/local/lib/python3.7/dist-packages/skimage/transform/_warps.py:830: FutureWarning: Input image dtype is bool. Interpolation is not defined with bool data type. Please set order to 0 or explicitely cast input image to another data type. Starting from version 0.19 a ValueError will be raised instead of this warning.\n",
            "  order = _validate_interpolation_order(image.dtype, order)\n"
          ]
        },
        {
          "output_type": "stream",
          "name": "stdout",
          "text": [
            "mask.shape, min(mask),max(mask): (1000, 1500, 1), 0,0\n",
            "rr.shape, min(rr),max(rr): (261242,), 439,1000\n",
            "cc.shape, min(cc),max(cc): (261242,), 564,1294\n",
            "After fixing the dirt mask, new values:\n",
            "rr.shape, min(rr),max(rr): (261242,), 439,999\n",
            "cc.shape, min(cc),max(cc): (261242,), 564,1294\n"
          ]
        },
        {
          "output_type": "stream",
          "name": "stderr",
          "text": [
            "/usr/local/lib/python3.7/dist-packages/ipykernel_launcher.py:129: DeprecationWarning: `np.bool` is a deprecated alias for the builtin `bool`. To silence this warning, use `bool` by itself. Doing this will not modify any behavior and is safe. If you specifically wanted the numpy scalar type, use `np.bool_` here.\n",
            "Deprecated in NumPy 1.20; for more details and guidance: https://numpy.org/devdocs/release/1.20.0-notes.html#deprecations\n"
          ]
        },
        {
          "output_type": "stream",
          "name": "stdout",
          "text": [
            "mask.shape, min(mask),max(mask): (1000, 1000, 1), 0,0\n",
            "rr.shape, min(rr),max(rr): (73133,), 391,703\n",
            "cc.shape, min(cc),max(cc): (73133,), 351,674\n",
            "After fixing the dirt mask, new values:\n",
            "rr.shape, min(rr),max(rr): (73133,), 391,703\n",
            "cc.shape, min(cc),max(cc): (73133,), 351,674\n"
          ]
        },
        {
          "output_type": "stream",
          "name": "stderr",
          "text": [
            "/usr/local/lib/python3.7/dist-packages/ipykernel_launcher.py:129: DeprecationWarning: `np.bool` is a deprecated alias for the builtin `bool`. To silence this warning, use `bool` by itself. Doing this will not modify any behavior and is safe. If you specifically wanted the numpy scalar type, use `np.bool_` here.\n",
            "Deprecated in NumPy 1.20; for more details and guidance: https://numpy.org/devdocs/release/1.20.0-notes.html#deprecations\n",
            "/usr/local/lib/python3.7/dist-packages/skimage/transform/_warps.py:830: FutureWarning: Input image dtype is bool. Interpolation is not defined with bool data type. Please set order to 0 or explicitely cast input image to another data type. Starting from version 0.19 a ValueError will be raised instead of this warning.\n",
            "  order = _validate_interpolation_order(image.dtype, order)\n",
            "/usr/local/lib/python3.7/dist-packages/skimage/transform/_warps.py:830: FutureWarning: Input image dtype is bool. Interpolation is not defined with bool data type. Please set order to 0 or explicitely cast input image to another data type. Starting from version 0.19 a ValueError will be raised instead of this warning.\n",
            "  order = _validate_interpolation_order(image.dtype, order)\n"
          ]
        },
        {
          "output_type": "stream",
          "name": "stdout",
          "text": [
            "mask.shape, min(mask),max(mask): (375, 500, 1), 0,0\n",
            "rr.shape, min(rr),max(rr): (13318,), 69,215\n",
            "cc.shape, min(cc),max(cc): (13318,), 16,170\n",
            "After fixing the dirt mask, new values:\n",
            "rr.shape, min(rr),max(rr): (13318,), 69,215\n",
            "cc.shape, min(cc),max(cc): (13318,), 16,170\n"
          ]
        },
        {
          "output_type": "stream",
          "name": "stderr",
          "text": [
            "/usr/local/lib/python3.7/dist-packages/ipykernel_launcher.py:129: DeprecationWarning: `np.bool` is a deprecated alias for the builtin `bool`. To silence this warning, use `bool` by itself. Doing this will not modify any behavior and is safe. If you specifically wanted the numpy scalar type, use `np.bool_` here.\n",
            "Deprecated in NumPy 1.20; for more details and guidance: https://numpy.org/devdocs/release/1.20.0-notes.html#deprecations\n",
            "/usr/local/lib/python3.7/dist-packages/skimage/transform/_warps.py:830: FutureWarning: Input image dtype is bool. Interpolation is not defined with bool data type. Please set order to 0 or explicitely cast input image to another data type. Starting from version 0.19 a ValueError will be raised instead of this warning.\n",
            "  order = _validate_interpolation_order(image.dtype, order)\n"
          ]
        },
        {
          "output_type": "stream",
          "name": "stdout",
          "text": [
            "mask.shape, min(mask),max(mask): (1024, 683, 1), 0,0\n",
            "rr.shape, min(rr),max(rr): (190428,), 472,1024\n",
            "cc.shape, min(cc),max(cc): (190428,), 92,577\n",
            "After fixing the dirt mask, new values:\n",
            "rr.shape, min(rr),max(rr): (190428,), 472,1023\n",
            "cc.shape, min(cc),max(cc): (190428,), 92,577\n"
          ]
        },
        {
          "output_type": "stream",
          "name": "stderr",
          "text": [
            "/usr/local/lib/python3.7/dist-packages/ipykernel_launcher.py:129: DeprecationWarning: `np.bool` is a deprecated alias for the builtin `bool`. To silence this warning, use `bool` by itself. Doing this will not modify any behavior and is safe. If you specifically wanted the numpy scalar type, use `np.bool_` here.\n",
            "Deprecated in NumPy 1.20; for more details and guidance: https://numpy.org/devdocs/release/1.20.0-notes.html#deprecations\n",
            "/usr/local/lib/python3.7/dist-packages/skimage/transform/_warps.py:830: FutureWarning: Input image dtype is bool. Interpolation is not defined with bool data type. Please set order to 0 or explicitely cast input image to another data type. Starting from version 0.19 a ValueError will be raised instead of this warning.\n",
            "  order = _validate_interpolation_order(image.dtype, order)\n"
          ]
        },
        {
          "output_type": "stream",
          "name": "stdout",
          "text": [
            "mask.shape, min(mask),max(mask): (683, 1024, 1), 0,0\n",
            "rr.shape, min(rr),max(rr): (46308,), 202,443\n",
            "cc.shape, min(cc),max(cc): (46308,), 325,592\n",
            "After fixing the dirt mask, new values:\n",
            "rr.shape, min(rr),max(rr): (46308,), 202,443\n",
            "cc.shape, min(cc),max(cc): (46308,), 325,592\n"
          ]
        },
        {
          "output_type": "stream",
          "name": "stderr",
          "text": [
            "/usr/local/lib/python3.7/dist-packages/ipykernel_launcher.py:129: DeprecationWarning: `np.bool` is a deprecated alias for the builtin `bool`. To silence this warning, use `bool` by itself. Doing this will not modify any behavior and is safe. If you specifically wanted the numpy scalar type, use `np.bool_` here.\n",
            "Deprecated in NumPy 1.20; for more details and guidance: https://numpy.org/devdocs/release/1.20.0-notes.html#deprecations\n",
            "/usr/local/lib/python3.7/dist-packages/skimage/transform/_warps.py:830: FutureWarning: Input image dtype is bool. Interpolation is not defined with bool data type. Please set order to 0 or explicitely cast input image to another data type. Starting from version 0.19 a ValueError will be raised instead of this warning.\n",
            "  order = _validate_interpolation_order(image.dtype, order)\n"
          ]
        },
        {
          "output_type": "stream",
          "name": "stdout",
          "text": [
            "mask.shape, min(mask),max(mask): (399, 263, 1), 0,0\n",
            "rr.shape, min(rr),max(rr): (14486,), 19,159\n",
            "cc.shape, min(cc),max(cc): (14486,), 67,206\n",
            "After fixing the dirt mask, new values:\n",
            "rr.shape, min(rr),max(rr): (14486,), 19,159\n",
            "cc.shape, min(cc),max(cc): (14486,), 67,206\n"
          ]
        },
        {
          "output_type": "stream",
          "name": "stderr",
          "text": [
            "/usr/local/lib/python3.7/dist-packages/ipykernel_launcher.py:129: DeprecationWarning: `np.bool` is a deprecated alias for the builtin `bool`. To silence this warning, use `bool` by itself. Doing this will not modify any behavior and is safe. If you specifically wanted the numpy scalar type, use `np.bool_` here.\n",
            "Deprecated in NumPy 1.20; for more details and guidance: https://numpy.org/devdocs/release/1.20.0-notes.html#deprecations\n"
          ]
        },
        {
          "output_type": "stream",
          "name": "stdout",
          "text": [
            "mask.shape, min(mask),max(mask): (450, 600, 1), 0,0\n",
            "rr.shape, min(rr),max(rr): (4863,), 215,289\n",
            "cc.shape, min(cc),max(cc): (4863,), 336,433\n",
            "After fixing the dirt mask, new values:\n",
            "rr.shape, min(rr),max(rr): (4863,), 215,289\n",
            "cc.shape, min(cc),max(cc): (4863,), 336,433\n"
          ]
        },
        {
          "output_type": "stream",
          "name": "stderr",
          "text": [
            "/usr/local/lib/python3.7/dist-packages/ipykernel_launcher.py:129: DeprecationWarning: `np.bool` is a deprecated alias for the builtin `bool`. To silence this warning, use `bool` by itself. Doing this will not modify any behavior and is safe. If you specifically wanted the numpy scalar type, use `np.bool_` here.\n",
            "Deprecated in NumPy 1.20; for more details and guidance: https://numpy.org/devdocs/release/1.20.0-notes.html#deprecations\n",
            "/usr/local/lib/python3.7/dist-packages/skimage/transform/_warps.py:830: FutureWarning: Input image dtype is bool. Interpolation is not defined with bool data type. Please set order to 0 or explicitely cast input image to another data type. Starting from version 0.19 a ValueError will be raised instead of this warning.\n",
            "  order = _validate_interpolation_order(image.dtype, order)\n",
            "/usr/local/lib/python3.7/dist-packages/skimage/transform/_warps.py:830: FutureWarning: Input image dtype is bool. Interpolation is not defined with bool data type. Please set order to 0 or explicitely cast input image to another data type. Starting from version 0.19 a ValueError will be raised instead of this warning.\n",
            "  order = _validate_interpolation_order(image.dtype, order)\n"
          ]
        },
        {
          "output_type": "stream",
          "name": "stdout",
          "text": [
            "mask.shape, min(mask),max(mask): (640, 640, 7), 0,0\n",
            "rr.shape, min(rr),max(rr): (38248,), 112,321\n",
            "cc.shape, min(cc),max(cc): (38248,), 13,232\n",
            "After fixing the dirt mask, new values:\n",
            "rr.shape, min(rr),max(rr): (38248,), 112,321\n",
            "cc.shape, min(cc),max(cc): (38248,), 13,232\n",
            "mask.shape, min(mask),max(mask): (640, 640, 7), 0,1\n",
            "rr.shape, min(rr),max(rr): (36357,), 89,312\n",
            "cc.shape, min(cc),max(cc): (36357,), 228,426\n",
            "After fixing the dirt mask, new values:\n",
            "rr.shape, min(rr),max(rr): (36357,), 89,312\n",
            "cc.shape, min(cc),max(cc): (36357,), 228,426\n",
            "mask.shape, min(mask),max(mask): (640, 640, 7), 0,1\n",
            "rr.shape, min(rr),max(rr): (30194,), 79,302\n",
            "cc.shape, min(cc),max(cc): (30194,), 416,588\n",
            "After fixing the dirt mask, new values:\n",
            "rr.shape, min(rr),max(rr): (30194,), 79,302\n",
            "cc.shape, min(cc),max(cc): (30194,), 416,588\n",
            "mask.shape, min(mask),max(mask): (640, 640, 7), 0,1\n",
            "rr.shape, min(rr),max(rr): (32843,), 311,519\n",
            "cc.shape, min(cc),max(cc): (32843,), 0,178\n",
            "After fixing the dirt mask, new values:\n",
            "rr.shape, min(rr),max(rr): (32843,), 311,519\n",
            "cc.shape, min(cc),max(cc): (32843,), 0,178\n",
            "mask.shape, min(mask),max(mask): (640, 640, 7), 0,1\n",
            "rr.shape, min(rr),max(rr): (36678,), 296,514\n",
            "cc.shape, min(cc),max(cc): (36678,), 168,370\n",
            "After fixing the dirt mask, new values:\n",
            "rr.shape, min(rr),max(rr): (36678,), 296,514\n",
            "cc.shape, min(cc),max(cc): (36678,), 168,370\n",
            "mask.shape, min(mask),max(mask): (640, 640, 7), 0,1\n",
            "rr.shape, min(rr),max(rr): (31403,), 308,512\n",
            "cc.shape, min(cc),max(cc): (31403,), 365,557\n",
            "After fixing the dirt mask, new values:\n",
            "rr.shape, min(rr),max(rr): (31403,), 308,512\n",
            "cc.shape, min(cc),max(cc): (31403,), 365,557\n",
            "mask.shape, min(mask),max(mask): (640, 640, 7), 0,1\n",
            "rr.shape, min(rr),max(rr): (18125,), 264,472\n",
            "cc.shape, min(cc),max(cc): (18125,), 522,639\n",
            "After fixing the dirt mask, new values:\n",
            "rr.shape, min(rr),max(rr): (18125,), 264,472\n",
            "cc.shape, min(cc),max(cc): (18125,), 522,639\n"
          ]
        },
        {
          "output_type": "stream",
          "name": "stderr",
          "text": [
            "/usr/local/lib/python3.7/dist-packages/ipykernel_launcher.py:129: DeprecationWarning: `np.bool` is a deprecated alias for the builtin `bool`. To silence this warning, use `bool` by itself. Doing this will not modify any behavior and is safe. If you specifically wanted the numpy scalar type, use `np.bool_` here.\n",
            "Deprecated in NumPy 1.20; for more details and guidance: https://numpy.org/devdocs/release/1.20.0-notes.html#deprecations\n",
            "/usr/local/lib/python3.7/dist-packages/skimage/transform/_warps.py:830: FutureWarning: Input image dtype is bool. Interpolation is not defined with bool data type. Please set order to 0 or explicitely cast input image to another data type. Starting from version 0.19 a ValueError will be raised instead of this warning.\n",
            "  order = _validate_interpolation_order(image.dtype, order)\n"
          ]
        },
        {
          "output_type": "stream",
          "name": "stdout",
          "text": [
            "mask.shape, min(mask),max(mask): (2687, 3357, 1), 0,0\n",
            "rr.shape, min(rr),max(rr): (409857,), 411,1361\n",
            "cc.shape, min(cc),max(cc): (409857,), 1726,2720\n",
            "After fixing the dirt mask, new values:\n",
            "rr.shape, min(rr),max(rr): (409857,), 411,1361\n",
            "cc.shape, min(cc),max(cc): (409857,), 1726,2720\n"
          ]
        },
        {
          "output_type": "stream",
          "name": "stderr",
          "text": [
            "/usr/local/lib/python3.7/dist-packages/ipykernel_launcher.py:129: DeprecationWarning: `np.bool` is a deprecated alias for the builtin `bool`. To silence this warning, use `bool` by itself. Doing this will not modify any behavior and is safe. If you specifically wanted the numpy scalar type, use `np.bool_` here.\n",
            "Deprecated in NumPy 1.20; for more details and guidance: https://numpy.org/devdocs/release/1.20.0-notes.html#deprecations\n"
          ]
        },
        {
          "output_type": "stream",
          "name": "stdout",
          "text": [
            "mask.shape, min(mask),max(mask): (1024, 683, 5), 0,0\n",
            "rr.shape, min(rr),max(rr): (23409,), 140,328\n",
            "cc.shape, min(cc),max(cc): (23409,), 142,340\n",
            "After fixing the dirt mask, new values:\n",
            "rr.shape, min(rr),max(rr): (23409,), 140,328\n",
            "cc.shape, min(cc),max(cc): (23409,), 142,340\n",
            "mask.shape, min(mask),max(mask): (1024, 683, 5), 0,1\n",
            "rr.shape, min(rr),max(rr): (47060,), 250,513\n",
            "cc.shape, min(cc),max(cc): (47060,), 80,304\n",
            "After fixing the dirt mask, new values:\n",
            "rr.shape, min(rr),max(rr): (47060,), 250,513\n",
            "cc.shape, min(cc),max(cc): (47060,), 80,304\n",
            "mask.shape, min(mask),max(mask): (1024, 683, 5), 0,1\n",
            "rr.shape, min(rr),max(rr): (34250,), 204,419\n",
            "cc.shape, min(cc),max(cc): (34250,), 305,554\n",
            "After fixing the dirt mask, new values:\n",
            "rr.shape, min(rr),max(rr): (34250,), 204,419\n",
            "cc.shape, min(cc),max(cc): (34250,), 305,554\n",
            "mask.shape, min(mask),max(mask): (1024, 683, 5), 0,1\n",
            "rr.shape, min(rr),max(rr): (56408,), 347,627\n",
            "cc.shape, min(cc),max(cc): (56408,), 371,644\n",
            "After fixing the dirt mask, new values:\n",
            "rr.shape, min(rr),max(rr): (56408,), 347,627\n",
            "cc.shape, min(cc),max(cc): (56408,), 371,644\n",
            "mask.shape, min(mask),max(mask): (1024, 683, 5), 0,1\n",
            "rr.shape, min(rr),max(rr): (55954,), 494,799\n",
            "cc.shape, min(cc),max(cc): (55954,), 180,416\n",
            "After fixing the dirt mask, new values:\n",
            "rr.shape, min(rr),max(rr): (55954,), 494,799\n",
            "cc.shape, min(cc),max(cc): (55954,), 180,416\n"
          ]
        },
        {
          "output_type": "stream",
          "name": "stderr",
          "text": [
            "/usr/local/lib/python3.7/dist-packages/ipykernel_launcher.py:129: DeprecationWarning: `np.bool` is a deprecated alias for the builtin `bool`. To silence this warning, use `bool` by itself. Doing this will not modify any behavior and is safe. If you specifically wanted the numpy scalar type, use `np.bool_` here.\n",
            "Deprecated in NumPy 1.20; for more details and guidance: https://numpy.org/devdocs/release/1.20.0-notes.html#deprecations\n",
            "/usr/local/lib/python3.7/dist-packages/skimage/transform/_warps.py:830: FutureWarning: Input image dtype is bool. Interpolation is not defined with bool data type. Please set order to 0 or explicitely cast input image to another data type. Starting from version 0.19 a ValueError will be raised instead of this warning.\n",
            "  order = _validate_interpolation_order(image.dtype, order)\n",
            "/usr/local/lib/python3.7/dist-packages/skimage/transform/_warps.py:830: FutureWarning: Input image dtype is bool. Interpolation is not defined with bool data type. Please set order to 0 or explicitely cast input image to another data type. Starting from version 0.19 a ValueError will be raised instead of this warning.\n",
            "  order = _validate_interpolation_order(image.dtype, order)\n"
          ]
        },
        {
          "output_type": "stream",
          "name": "stdout",
          "text": [
            "mask.shape, min(mask),max(mask): (1080, 810, 4), 0,0\n",
            "rr.shape, min(rr),max(rr): (64917,), 138,415\n",
            "cc.shape, min(cc),max(cc): (64917,), 184,479\n",
            "After fixing the dirt mask, new values:\n",
            "rr.shape, min(rr),max(rr): (64917,), 138,415\n",
            "cc.shape, min(cc),max(cc): (64917,), 184,479\n",
            "mask.shape, min(mask),max(mask): (1080, 810, 4), 0,1\n",
            "rr.shape, min(rr),max(rr): (52268,), 353,646\n",
            "cc.shape, min(cc),max(cc): (52268,), 388,621\n",
            "After fixing the dirt mask, new values:\n",
            "rr.shape, min(rr),max(rr): (52268,), 353,646\n",
            "cc.shape, min(cc),max(cc): (52268,), 388,621\n",
            "mask.shape, min(mask),max(mask): (1080, 810, 4), 0,1\n",
            "rr.shape, min(rr),max(rr): (46497,), 652,901\n",
            "cc.shape, min(cc),max(cc): (46497,), 384,635\n",
            "After fixing the dirt mask, new values:\n",
            "rr.shape, min(rr),max(rr): (46497,), 652,901\n",
            "cc.shape, min(cc),max(cc): (46497,), 384,635\n",
            "mask.shape, min(mask),max(mask): (1080, 810, 4), 0,1\n",
            "rr.shape, min(rr),max(rr): (42167,), 395,645\n",
            "cc.shape, min(cc),max(cc): (42167,), 168,397\n",
            "After fixing the dirt mask, new values:\n",
            "rr.shape, min(rr),max(rr): (42167,), 395,645\n",
            "cc.shape, min(cc),max(cc): (42167,), 168,397\n"
          ]
        },
        {
          "output_type": "stream",
          "name": "stderr",
          "text": [
            "/usr/local/lib/python3.7/dist-packages/ipykernel_launcher.py:129: DeprecationWarning: `np.bool` is a deprecated alias for the builtin `bool`. To silence this warning, use `bool` by itself. Doing this will not modify any behavior and is safe. If you specifically wanted the numpy scalar type, use `np.bool_` here.\n",
            "Deprecated in NumPy 1.20; for more details and guidance: https://numpy.org/devdocs/release/1.20.0-notes.html#deprecations\n"
          ]
        },
        {
          "output_type": "stream",
          "name": "stdout",
          "text": [
            "mask.shape, min(mask),max(mask): (1067, 1600, 1), 0,0\n",
            "rr.shape, min(rr),max(rr): (226384,), 193,748\n",
            "cc.shape, min(cc),max(cc): (226384,), 244,750\n",
            "After fixing the dirt mask, new values:\n",
            "rr.shape, min(rr),max(rr): (226384,), 193,748\n",
            "cc.shape, min(cc),max(cc): (226384,), 244,750\n"
          ]
        },
        {
          "output_type": "stream",
          "name": "stderr",
          "text": [
            "/usr/local/lib/python3.7/dist-packages/ipykernel_launcher.py:129: DeprecationWarning: `np.bool` is a deprecated alias for the builtin `bool`. To silence this warning, use `bool` by itself. Doing this will not modify any behavior and is safe. If you specifically wanted the numpy scalar type, use `np.bool_` here.\n",
            "Deprecated in NumPy 1.20; for more details and guidance: https://numpy.org/devdocs/release/1.20.0-notes.html#deprecations\n",
            "/usr/local/lib/python3.7/dist-packages/skimage/transform/_warps.py:830: FutureWarning: Input image dtype is bool. Interpolation is not defined with bool data type. Please set order to 0 or explicitely cast input image to another data type. Starting from version 0.19 a ValueError will be raised instead of this warning.\n",
            "  order = _validate_interpolation_order(image.dtype, order)\n",
            "/usr/local/lib/python3.7/dist-packages/skimage/transform/_warps.py:830: FutureWarning: Input image dtype is bool. Interpolation is not defined with bool data type. Please set order to 0 or explicitely cast input image to another data type. Starting from version 0.19 a ValueError will be raised instead of this warning.\n",
            "  order = _validate_interpolation_order(image.dtype, order)\n"
          ]
        },
        {
          "output_type": "stream",
          "name": "stdout",
          "text": [
            "mask.shape, min(mask),max(mask): (480, 960, 1), 0,0\n",
            "rr.shape, min(rr),max(rr): (20977,), 87,221\n",
            "cc.shape, min(cc),max(cc): (20977,), 512,744\n",
            "After fixing the dirt mask, new values:\n",
            "rr.shape, min(rr),max(rr): (20977,), 87,221\n",
            "cc.shape, min(cc),max(cc): (20977,), 512,744\n"
          ]
        },
        {
          "output_type": "stream",
          "name": "stderr",
          "text": [
            "/usr/local/lib/python3.7/dist-packages/ipykernel_launcher.py:129: DeprecationWarning: `np.bool` is a deprecated alias for the builtin `bool`. To silence this warning, use `bool` by itself. Doing this will not modify any behavior and is safe. If you specifically wanted the numpy scalar type, use `np.bool_` here.\n",
            "Deprecated in NumPy 1.20; for more details and guidance: https://numpy.org/devdocs/release/1.20.0-notes.html#deprecations\n",
            "/usr/local/lib/python3.7/dist-packages/skimage/transform/_warps.py:830: FutureWarning: Input image dtype is bool. Interpolation is not defined with bool data type. Please set order to 0 or explicitely cast input image to another data type. Starting from version 0.19 a ValueError will be raised instead of this warning.\n",
            "  order = _validate_interpolation_order(image.dtype, order)\n"
          ]
        },
        {
          "output_type": "stream",
          "name": "stdout",
          "text": [
            "mask.shape, min(mask),max(mask): (1020, 1920, 2), 0,0\n",
            "rr.shape, min(rr),max(rr): (167722,), 520,995\n",
            "cc.shape, min(cc),max(cc): (167722,), 587,1030\n",
            "After fixing the dirt mask, new values:\n",
            "rr.shape, min(rr),max(rr): (167722,), 520,995\n",
            "cc.shape, min(cc),max(cc): (167722,), 587,1030\n",
            "mask.shape, min(mask),max(mask): (606, 606, 2), 0,0\n",
            "rr.shape, min(rr),max(rr): (78497,), 34,425\n",
            "cc.shape, min(cc),max(cc): (78497,), 114,474\n",
            "After fixing the dirt mask, new values:\n",
            "rr.shape, min(rr),max(rr): (78497,), 34,425\n",
            "cc.shape, min(cc),max(cc): (78497,), 114,474\n",
            "mask.shape, min(mask),max(mask): (606, 606, 2), 0,1\n",
            "mask.shape, min(mask),max(mask): (1020, 1920, 2), 0,1\n",
            "rr.shape, min(rr),max(rr): (22891,), 178,441\n",
            "rr.shape, min(rr),max(rr): (241000,), 291,866\n",
            "cc.shape, min(cc),max(cc): (22891,), 1,147\n",
            "cc.shape, min(cc),max(cc): (241000,), 62,573\n",
            "After fixing the dirt mask, new values:\n",
            "After fixing the dirt mask, new values:\n",
            "rr.shape, min(rr),max(rr): (22891,), 178,441\n",
            "cc.shape, min(cc),max(cc): (22891,), 1,147\n"
          ]
        },
        {
          "output_type": "stream",
          "name": "stderr",
          "text": [
            "/usr/local/lib/python3.7/dist-packages/ipykernel_launcher.py:129: DeprecationWarning: `np.bool` is a deprecated alias for the builtin `bool`. To silence this warning, use `bool` by itself. Doing this will not modify any behavior and is safe. If you specifically wanted the numpy scalar type, use `np.bool_` here.\n",
            "Deprecated in NumPy 1.20; for more details and guidance: https://numpy.org/devdocs/release/1.20.0-notes.html#deprecations\n"
          ]
        },
        {
          "output_type": "stream",
          "name": "stdout",
          "text": [
            "rr.shape, min(rr),max(rr): (241000,), 291,866\n",
            "cc.shape, min(cc),max(cc): (241000,), 62,573\n"
          ]
        },
        {
          "output_type": "stream",
          "name": "stderr",
          "text": [
            "/usr/local/lib/python3.7/dist-packages/ipykernel_launcher.py:129: DeprecationWarning: `np.bool` is a deprecated alias for the builtin `bool`. To silence this warning, use `bool` by itself. Doing this will not modify any behavior and is safe. If you specifically wanted the numpy scalar type, use `np.bool_` here.\n",
            "Deprecated in NumPy 1.20; for more details and guidance: https://numpy.org/devdocs/release/1.20.0-notes.html#deprecations\n",
            "/usr/local/lib/python3.7/dist-packages/skimage/transform/_warps.py:830: FutureWarning: Input image dtype is bool. Interpolation is not defined with bool data type. Please set order to 0 or explicitely cast input image to another data type. Starting from version 0.19 a ValueError will be raised instead of this warning.\n",
            "  order = _validate_interpolation_order(image.dtype, order)\n",
            "/usr/local/lib/python3.7/dist-packages/skimage/transform/_warps.py:830: FutureWarning: Input image dtype is bool. Interpolation is not defined with bool data type. Please set order to 0 or explicitely cast input image to another data type. Starting from version 0.19 a ValueError will be raised instead of this warning.\n",
            "  order = _validate_interpolation_order(image.dtype, order)\n"
          ]
        },
        {
          "output_type": "stream",
          "name": "stdout",
          "text": [
            "mask.shape, min(mask),max(mask): (550, 550, 1), 0,0\n",
            "rr.shape, min(rr),max(rr): (41666,), 169,425\n",
            "cc.shape, min(cc),max(cc): (41666,), 315,524\n",
            "After fixing the dirt mask, new values:\n",
            "rr.shape, min(rr),max(rr): (41666,), 169,425\n",
            "mask.shape, min(mask),max(mask): (554, 900, 1), 0,0\n",
            "cc.shape, min(cc),max(cc): (41666,), 315,524\n",
            "rr.shape, min(rr),max(rr): (64330,), 99,453\n"
          ]
        },
        {
          "output_type": "stream",
          "name": "stderr",
          "text": [
            "/usr/local/lib/python3.7/dist-packages/ipykernel_launcher.py:129: DeprecationWarning: `np.bool` is a deprecated alias for the builtin `bool`. To silence this warning, use `bool` by itself. Doing this will not modify any behavior and is safe. If you specifically wanted the numpy scalar type, use `np.bool_` here.\n",
            "Deprecated in NumPy 1.20; for more details and guidance: https://numpy.org/devdocs/release/1.20.0-notes.html#deprecations\n"
          ]
        },
        {
          "output_type": "stream",
          "name": "stdout",
          "text": [
            "cc.shape, min(cc),max(cc): (64330,), 56,323\n",
            "After fixing the dirt mask, new values:\n",
            "rr.shape, min(rr),max(rr): (64330,), 99,453\n",
            "cc.shape, min(cc),max(cc): (64330,), 56,323\n"
          ]
        },
        {
          "output_type": "stream",
          "name": "stderr",
          "text": [
            "/usr/local/lib/python3.7/dist-packages/ipykernel_launcher.py:129: DeprecationWarning: `np.bool` is a deprecated alias for the builtin `bool`. To silence this warning, use `bool` by itself. Doing this will not modify any behavior and is safe. If you specifically wanted the numpy scalar type, use `np.bool_` here.\n",
            "Deprecated in NumPy 1.20; for more details and guidance: https://numpy.org/devdocs/release/1.20.0-notes.html#deprecations\n",
            "/usr/local/lib/python3.7/dist-packages/skimage/transform/_warps.py:830: FutureWarning: Input image dtype is bool. Interpolation is not defined with bool data type. Please set order to 0 or explicitely cast input image to another data type. Starting from version 0.19 a ValueError will be raised instead of this warning.\n",
            "  order = _validate_interpolation_order(image.dtype, order)\n",
            "/usr/local/lib/python3.7/dist-packages/skimage/transform/_warps.py:830: FutureWarning: Input image dtype is bool. Interpolation is not defined with bool data type. Please set order to 0 or explicitely cast input image to another data type. Starting from version 0.19 a ValueError will be raised instead of this warning.\n",
            "  order = _validate_interpolation_order(image.dtype, order)\n"
          ]
        },
        {
          "output_type": "stream",
          "name": "stdout",
          "text": [
            "mask.shape, min(mask),max(mask): (640, 640, 5), 0,0\n",
            "rr.shape, min(rr),max(rr): (25835,), 312,539\n",
            "cc.shape, min(cc),max(cc): (25835,), 273,443\n",
            "After fixing the dirt mask, new values:\n",
            "rr.shape, min(rr),max(rr): (25835,), 312,539\n",
            "cc.shape, min(cc),max(cc): (25835,), 273,443\n",
            "mask.shape, min(mask),max(mask): (640, 640, 5), 0,1\n",
            "rr.shape, min(rr),max(rr): (10419,), 252,364\n",
            "cc.shape, min(cc),max(cc): (10419,), 284,436\n",
            "After fixing the dirt mask, new values:\n",
            "rr.shape, min(rr),max(rr): (10419,), 252,364\n",
            "cc.shape, min(cc),max(cc): (10419,), 284,436\n",
            "mask.shape, min(mask),max(mask): (640, 640, 5), 0,1\n",
            "rr.shape, min(rr),max(rr): (6535,), 239,340\n",
            "cc.shape, min(cc),max(cc): (6535,), 390,515\n",
            "After fixing the dirt mask, new values:\n",
            "rr.shape, min(rr),max(rr): (6535,), 239,340\n",
            "cc.shape, min(cc),max(cc): (6535,), 390,515\n",
            "mask.shape, min(mask),max(mask): (1200, 800, 1), 0,0\n",
            "rr.shape, min(rr),max(rr): (215719,), 494,1045\n",
            "cc.shape, min(cc),max(cc): (215719,), 64,588\n",
            "After fixing the dirt mask, new values:\n",
            "rr.shape, min(rr),max(rr): (215719,), 494,1045\n",
            "cc.shape, min(cc),max(cc): (215719,), 64,588\n"
          ]
        },
        {
          "output_type": "stream",
          "name": "stderr",
          "text": [
            "/usr/local/lib/python3.7/dist-packages/ipykernel_launcher.py:129: DeprecationWarning: `np.bool` is a deprecated alias for the builtin `bool`. To silence this warning, use `bool` by itself. Doing this will not modify any behavior and is safe. If you specifically wanted the numpy scalar type, use `np.bool_` here.\n",
            "Deprecated in NumPy 1.20; for more details and guidance: https://numpy.org/devdocs/release/1.20.0-notes.html#deprecations\n"
          ]
        },
        {
          "output_type": "stream",
          "name": "stdout",
          "text": [
            "mask.shape, min(mask),max(mask): (640, 640, 5), 0,1\n",
            "rr.shape, min(rr),max(rr): (19996,), 101,335\n",
            "cc.shape, min(cc),max(cc): (19996,), 163,318\n",
            "After fixing the dirt mask, new values:\n",
            "rr.shape, min(rr),max(rr): (19996,), 101,335\n",
            "cc.shape, min(cc),max(cc): (19996,), 163,318\n",
            "mask.shape, min(mask),max(mask): (640, 640, 5), 0,1\n",
            "rr.shape, min(rr),max(rr): (11194,), 271,429\n",
            "cc.shape, min(cc),max(cc): (11194,), 8,176\n",
            "After fixing the dirt mask, new values:\n",
            "rr.shape, min(rr),max(rr): (11194,), 271,429\n",
            "cc.shape, min(cc),max(cc): (11194,), 8,176\n"
          ]
        },
        {
          "output_type": "stream",
          "name": "stderr",
          "text": [
            "/usr/local/lib/python3.7/dist-packages/ipykernel_launcher.py:129: DeprecationWarning: `np.bool` is a deprecated alias for the builtin `bool`. To silence this warning, use `bool` by itself. Doing this will not modify any behavior and is safe. If you specifically wanted the numpy scalar type, use `np.bool_` here.\n",
            "Deprecated in NumPy 1.20; for more details and guidance: https://numpy.org/devdocs/release/1.20.0-notes.html#deprecations\n",
            "/usr/local/lib/python3.7/dist-packages/skimage/transform/_warps.py:830: FutureWarning: Input image dtype is bool. Interpolation is not defined with bool data type. Please set order to 0 or explicitely cast input image to another data type. Starting from version 0.19 a ValueError will be raised instead of this warning.\n",
            "  order = _validate_interpolation_order(image.dtype, order)\n",
            "/usr/local/lib/python3.7/dist-packages/skimage/transform/_warps.py:830: FutureWarning: Input image dtype is bool. Interpolation is not defined with bool data type. Please set order to 0 or explicitely cast input image to another data type. Starting from version 0.19 a ValueError will be raised instead of this warning.\n",
            "  order = _validate_interpolation_order(image.dtype, order)\n"
          ]
        },
        {
          "output_type": "stream",
          "name": "stdout",
          "text": [
            "mask.shape, min(mask),max(mask): (541, 812, 4), 0,0\n",
            "rr.shape, min(rr),max(rr): (82349,), 67,387\n",
            "cc.shape, min(cc),max(cc): (82349,), 283,641\n",
            "After fixing the dirt mask, new values:\n",
            "rr.shape, min(rr),max(rr): (82349,), 67,387\n",
            "cc.shape, min(cc),max(cc): (82349,), 283,641\n",
            "mask.shape, min(mask),max(mask): (541, 812, 4), 0,1\n",
            "rr.shape, min(rr),max(rr): (86074,), 4,326\n",
            "cc.shape, min(cc),max(cc): (86074,), 0,401\n",
            "After fixing the dirt mask, new values:\n",
            "rr.shape, min(rr),max(rr): (86074,), 4,326\n",
            "cc.shape, min(cc),max(cc): (86074,), 0,401\n",
            "mask.shape, min(mask),max(mask): (541, 812, 4), 0,1\n",
            "rr.shape, min(rr),max(rr): (19352,), 1,134\n",
            "cc.shape, min(cc),max(cc): (19352,), 398,664\n",
            "After fixing the dirt mask, new values:\n",
            "rr.shape, min(rr),max(rr): (19352,), 1,134\n",
            "cc.shape, min(cc),max(cc): (19352,), 398,664\n",
            "mask.shape, min(mask),max(mask): (541, 812, 4), 0,1\n",
            "rr.shape, min(rr),max(rr): (8580,), 0,72\n",
            "cc.shape, min(cc),max(cc): (8580,), 140,417\n",
            "After fixing the dirt mask, new values:\n",
            "rr.shape, min(rr),max(rr): (8580,), 0,72\n",
            "cc.shape, min(cc),max(cc): (8580,), 140,417\n"
          ]
        },
        {
          "output_type": "stream",
          "name": "stderr",
          "text": [
            "/usr/local/lib/python3.7/dist-packages/ipykernel_launcher.py:129: DeprecationWarning: `np.bool` is a deprecated alias for the builtin `bool`. To silence this warning, use `bool` by itself. Doing this will not modify any behavior and is safe. If you specifically wanted the numpy scalar type, use `np.bool_` here.\n",
            "Deprecated in NumPy 1.20; for more details and guidance: https://numpy.org/devdocs/release/1.20.0-notes.html#deprecations\n",
            "/usr/local/lib/python3.7/dist-packages/skimage/transform/_warps.py:830: FutureWarning: Input image dtype is bool. Interpolation is not defined with bool data type. Please set order to 0 or explicitely cast input image to another data type. Starting from version 0.19 a ValueError will be raised instead of this warning.\n",
            "  order = _validate_interpolation_order(image.dtype, order)\n"
          ]
        },
        {
          "output_type": "stream",
          "name": "stdout",
          "text": [
            "mask.shape, min(mask),max(mask): (1196, 858, 1), 0,0\n",
            "rr.shape, min(rr),max(rr): (319855,), 261,926\n",
            "cc.shape, min(cc),max(cc): (319855,), 140,855\n",
            "After fixing the dirt mask, new values:\n",
            "rr.shape, min(rr),max(rr): (319855,), 261,926\n",
            "cc.shape, min(cc),max(cc): (319855,), 140,855\n"
          ]
        },
        {
          "output_type": "stream",
          "name": "stderr",
          "text": [
            "/usr/local/lib/python3.7/dist-packages/ipykernel_launcher.py:129: DeprecationWarning: `np.bool` is a deprecated alias for the builtin `bool`. To silence this warning, use `bool` by itself. Doing this will not modify any behavior and is safe. If you specifically wanted the numpy scalar type, use `np.bool_` here.\n",
            "Deprecated in NumPy 1.20; for more details and guidance: https://numpy.org/devdocs/release/1.20.0-notes.html#deprecations\n"
          ]
        },
        {
          "output_type": "stream",
          "name": "stdout",
          "text": [
            "mask.shape, min(mask),max(mask): (480, 960, 1), 0,0\n",
            "rr.shape, min(rr),max(rr): (20977,), 87,221\n",
            "cc.shape, min(cc),max(cc): (20977,), 512,744\n",
            "After fixing the dirt mask, new values:\n",
            "rr.shape, min(rr),max(rr): (20977,), 87,221\n",
            "cc.shape, min(cc),max(cc): (20977,), 512,744\n"
          ]
        },
        {
          "output_type": "stream",
          "name": "stderr",
          "text": [
            "/usr/local/lib/python3.7/dist-packages/ipykernel_launcher.py:129: DeprecationWarning: `np.bool` is a deprecated alias for the builtin `bool`. To silence this warning, use `bool` by itself. Doing this will not modify any behavior and is safe. If you specifically wanted the numpy scalar type, use `np.bool_` here.\n",
            "Deprecated in NumPy 1.20; for more details and guidance: https://numpy.org/devdocs/release/1.20.0-notes.html#deprecations\n",
            "/usr/local/lib/python3.7/dist-packages/skimage/transform/_warps.py:830: FutureWarning: Input image dtype is bool. Interpolation is not defined with bool data type. Please set order to 0 or explicitely cast input image to another data type. Starting from version 0.19 a ValueError will be raised instead of this warning.\n",
            "  order = _validate_interpolation_order(image.dtype, order)\n",
            "/usr/local/lib/python3.7/dist-packages/skimage/transform/_warps.py:830: FutureWarning: Input image dtype is bool. Interpolation is not defined with bool data type. Please set order to 0 or explicitely cast input image to another data type. Starting from version 0.19 a ValueError will be raised instead of this warning.\n",
            "  order = _validate_interpolation_order(image.dtype, order)\n"
          ]
        },
        {
          "output_type": "stream",
          "name": "stdout",
          "text": [
            "mask.shape, min(mask),max(mask): (2048, 1536, 1), 0,0\n",
            "mask.shape, min(mask),max(mask): (640, 960, 1), 0,0\n",
            "rr.shape, min(rr),max(rr): (126162,), 1119,1586\n",
            "rr.shape, min(rr),max(rr): (113998,), 136,541\n",
            "cc.shape, min(cc),max(cc): (113998,), 299,665\n",
            "cc.shape, min(cc),max(cc): (126162,), 959,1350\n",
            "After fixing the dirt mask, new values:\n",
            "rr.shape, min(rr),max(rr): (113998,), 136,541\n",
            "After fixing the dirt mask, new values:\n",
            "cc.shape, min(cc),max(cc): (113998,), 299,665\n"
          ]
        },
        {
          "output_type": "stream",
          "name": "stderr",
          "text": [
            "/usr/local/lib/python3.7/dist-packages/ipykernel_launcher.py:129: DeprecationWarning: `np.bool` is a deprecated alias for the builtin `bool`. To silence this warning, use `bool` by itself. Doing this will not modify any behavior and is safe. If you specifically wanted the numpy scalar type, use `np.bool_` here.\n",
            "Deprecated in NumPy 1.20; for more details and guidance: https://numpy.org/devdocs/release/1.20.0-notes.html#deprecations\n"
          ]
        },
        {
          "output_type": "stream",
          "name": "stdout",
          "text": [
            "rr.shape, min(rr),max(rr): (126162,), 1119,1586\n",
            "cc.shape, min(cc),max(cc): (126162,), 959,1350\n"
          ]
        },
        {
          "output_type": "stream",
          "name": "stderr",
          "text": [
            "/usr/local/lib/python3.7/dist-packages/ipykernel_launcher.py:129: DeprecationWarning: `np.bool` is a deprecated alias for the builtin `bool`. To silence this warning, use `bool` by itself. Doing this will not modify any behavior and is safe. If you specifically wanted the numpy scalar type, use `np.bool_` here.\n",
            "Deprecated in NumPy 1.20; for more details and guidance: https://numpy.org/devdocs/release/1.20.0-notes.html#deprecations\n",
            "/usr/local/lib/python3.7/dist-packages/skimage/transform/_warps.py:830: FutureWarning: Input image dtype is bool. Interpolation is not defined with bool data type. Please set order to 0 or explicitely cast input image to another data type. Starting from version 0.19 a ValueError will be raised instead of this warning.\n",
            "  order = _validate_interpolation_order(image.dtype, order)\n"
          ]
        },
        {
          "output_type": "stream",
          "name": "stdout",
          "text": [
            "mask.shape, min(mask),max(mask): (450, 600, 1), 0,0\n",
            "rr.shape, min(rr),max(rr): (6745,), 160,264\n",
            "cc.shape, min(cc),max(cc): (6745,), 474,584\n"
          ]
        },
        {
          "output_type": "stream",
          "name": "stderr",
          "text": [
            "/usr/local/lib/python3.7/dist-packages/skimage/transform/_warps.py:830: FutureWarning: Input image dtype is bool. Interpolation is not defined with bool data type. Please set order to 0 or explicitely cast input image to another data type. Starting from version 0.19 a ValueError will be raised instead of this warning.\n",
            "  order = _validate_interpolation_order(image.dtype, order)\n"
          ]
        },
        {
          "output_type": "stream",
          "name": "stdout",
          "text": [
            "After fixing the dirt mask, new values:\n",
            "rr.shape, min(rr),max(rr): (6745,), 160,264\n",
            "cc.shape, min(cc),max(cc): (6745,), 474,584\n"
          ]
        },
        {
          "output_type": "stream",
          "name": "stderr",
          "text": [
            "/usr/local/lib/python3.7/dist-packages/ipykernel_launcher.py:129: DeprecationWarning: `np.bool` is a deprecated alias for the builtin `bool`. To silence this warning, use `bool` by itself. Doing this will not modify any behavior and is safe. If you specifically wanted the numpy scalar type, use `np.bool_` here.\n",
            "Deprecated in NumPy 1.20; for more details and guidance: https://numpy.org/devdocs/release/1.20.0-notes.html#deprecations\n",
            "/usr/local/lib/python3.7/dist-packages/skimage/transform/_warps.py:830: FutureWarning: Input image dtype is bool. Interpolation is not defined with bool data type. Please set order to 0 or explicitely cast input image to another data type. Starting from version 0.19 a ValueError will be raised instead of this warning.\n",
            "  order = _validate_interpolation_order(image.dtype, order)\n"
          ]
        },
        {
          "output_type": "stream",
          "name": "stdout",
          "text": [
            "mask.shape, min(mask),max(mask): (540, 540, 3), 0,0\n",
            "rr.shape, min(rr),max(rr): (50860,), 13,364\n",
            "cc.shape, min(cc),max(cc): (50860,), 274,506\n",
            "After fixing the dirt mask, new values:\n",
            "rr.shape, min(rr),max(rr): (50860,), 13,364\n",
            "cc.shape, min(cc),max(cc): (50860,), 274,506\n",
            "mask.shape, min(mask),max(mask): (540, 540, 3), 0,1\n",
            "rr.shape, min(rr),max(rr): (66638,), 232,527\n",
            "cc.shape, min(cc),max(cc): (66638,), 124,446\n",
            "After fixing the dirt mask, new values:\n",
            "rr.shape, min(rr),max(rr): (66638,), 232,527\n",
            "cc.shape, min(cc),max(cc): (66638,), 124,446\n",
            "mask.shape, min(mask),max(mask): (540, 540, 3), 0,1\n",
            "rr.shape, min(rr),max(rr): (46383,), 61,340\n",
            "cc.shape, min(cc),max(cc): (46383,), 28,281\n",
            "After fixing the dirt mask, new values:\n",
            "rr.shape, min(rr),max(rr): (46383,), 61,340\n",
            "cc.shape, min(cc),max(cc): (46383,), 28,281\n",
            "mask.shape, min(mask),max(mask): (720, 960, 1), 0,0\n"
          ]
        },
        {
          "output_type": "stream",
          "name": "stderr",
          "text": [
            "/usr/local/lib/python3.7/dist-packages/ipykernel_launcher.py:129: DeprecationWarning: `np.bool` is a deprecated alias for the builtin `bool`. To silence this warning, use `bool` by itself. Doing this will not modify any behavior and is safe. If you specifically wanted the numpy scalar type, use `np.bool_` here.\n",
            "Deprecated in NumPy 1.20; for more details and guidance: https://numpy.org/devdocs/release/1.20.0-notes.html#deprecations\n"
          ]
        },
        {
          "output_type": "stream",
          "name": "stdout",
          "text": [
            "rr.shape, min(rr),max(rr): (42613,), 13,247\n",
            "cc.shape, min(cc),max(cc): (42613,), 136,406\n",
            "After fixing the dirt mask, new values:\n",
            "rr.shape, min(rr),max(rr): (42613,), 13,247\n",
            "cc.shape, min(cc),max(cc): (42613,), 136,406\n"
          ]
        },
        {
          "output_type": "stream",
          "name": "stderr",
          "text": [
            "/usr/local/lib/python3.7/dist-packages/ipykernel_launcher.py:129: DeprecationWarning: `np.bool` is a deprecated alias for the builtin `bool`. To silence this warning, use `bool` by itself. Doing this will not modify any behavior and is safe. If you specifically wanted the numpy scalar type, use `np.bool_` here.\n",
            "Deprecated in NumPy 1.20; for more details and guidance: https://numpy.org/devdocs/release/1.20.0-notes.html#deprecations\n",
            "/usr/local/lib/python3.7/dist-packages/skimage/transform/_warps.py:830: FutureWarning: Input image dtype is bool. Interpolation is not defined with bool data type. Please set order to 0 or explicitely cast input image to another data type. Starting from version 0.19 a ValueError will be raised instead of this warning.\n",
            "  order = _validate_interpolation_order(image.dtype, order)\n",
            "/usr/local/lib/python3.7/dist-packages/skimage/transform/_warps.py:830: FutureWarning: Input image dtype is bool. Interpolation is not defined with bool data type. Please set order to 0 or explicitely cast input image to another data type. Starting from version 0.19 a ValueError will be raised instead of this warning.\n",
            "  order = _validate_interpolation_order(image.dtype, order)\n"
          ]
        },
        {
          "output_type": "stream",
          "name": "stdout",
          "text": [
            "mask.shape, min(mask),max(mask): (682, 1024, 2), 0,0\n",
            "rr.shape, min(rr),max(rr): (79055,), 194,510\n",
            "cc.shape, min(cc),max(cc): (79055,), 663,978\n",
            "After fixing the dirt mask, new values:\n",
            "rr.shape, min(rr),max(rr): (79055,), 194,510\n",
            "cc.shape, min(cc),max(cc): (79055,), 663,978\n",
            "mask.shape, min(mask),max(mask): (323, 450, 1), 0,0\n",
            "rr.shape, min(rr),max(rr): (29971,), 8,201\n",
            "cc.shape, min(cc),max(cc): (29971,), 228,420\n",
            "After fixing the dirt mask, new values:\n",
            "rr.shape, min(rr),max(rr): (29971,), 8,201\n",
            "cc.shape, min(cc),max(cc): (29971,), 228,420\n"
          ]
        },
        {
          "output_type": "stream",
          "name": "stderr",
          "text": [
            "/usr/local/lib/python3.7/dist-packages/ipykernel_launcher.py:129: DeprecationWarning: `np.bool` is a deprecated alias for the builtin `bool`. To silence this warning, use `bool` by itself. Doing this will not modify any behavior and is safe. If you specifically wanted the numpy scalar type, use `np.bool_` here.\n",
            "Deprecated in NumPy 1.20; for more details and guidance: https://numpy.org/devdocs/release/1.20.0-notes.html#deprecations\n"
          ]
        },
        {
          "output_type": "stream",
          "name": "stdout",
          "text": [
            "mask.shape, min(mask),max(mask): (682, 1024, 2), 0,1\n",
            "rr.shape, min(rr),max(rr): (27801,), 61,282\n",
            "cc.shape, min(cc),max(cc): (27801,), 627,895\n",
            "After fixing the dirt mask, new values:\n",
            "rr.shape, min(rr),max(rr): (27801,), 61,282\n",
            "cc.shape, min(cc),max(cc): (27801,), 627,895\n"
          ]
        },
        {
          "output_type": "stream",
          "name": "stderr",
          "text": [
            "/usr/local/lib/python3.7/dist-packages/ipykernel_launcher.py:129: DeprecationWarning: `np.bool` is a deprecated alias for the builtin `bool`. To silence this warning, use `bool` by itself. Doing this will not modify any behavior and is safe. If you specifically wanted the numpy scalar type, use `np.bool_` here.\n",
            "Deprecated in NumPy 1.20; for more details and guidance: https://numpy.org/devdocs/release/1.20.0-notes.html#deprecations\n",
            "/usr/local/lib/python3.7/dist-packages/skimage/transform/_warps.py:830: FutureWarning: Input image dtype is bool. Interpolation is not defined with bool data type. Please set order to 0 or explicitely cast input image to another data type. Starting from version 0.19 a ValueError will be raised instead of this warning.\n",
            "  order = _validate_interpolation_order(image.dtype, order)\n",
            "/usr/local/lib/python3.7/dist-packages/skimage/transform/_warps.py:830: FutureWarning: Input image dtype is bool. Interpolation is not defined with bool data type. Please set order to 0 or explicitely cast input image to another data type. Starting from version 0.19 a ValueError will be raised instead of this warning.\n",
            "  order = _validate_interpolation_order(image.dtype, order)\n"
          ]
        },
        {
          "output_type": "stream",
          "name": "stdout",
          "text": [
            "mask.shape, min(mask),max(mask): (640, 640, 3), 0,0\n",
            "rr.shape, min(rr),max(rr): (34105,), 436,639\n",
            "cc.shape, min(cc),max(cc): (34105,), 299,508\n",
            "After fixing the dirt mask, new values:\n",
            "rr.shape, min(rr),max(rr): (34105,), 436,639\n",
            "cc.shape, min(cc),max(cc): (34105,), 299,508\n",
            "mask.shape, min(mask),max(mask): (640, 640, 3), 0,1\n",
            "rr.shape, min(rr),max(rr): (38334,), 332,611\n",
            "cc.shape, min(cc),max(cc): (38334,), 139,356\n",
            "After fixing the dirt mask, new values:\n",
            "rr.shape, min(rr),max(rr): (38334,), 332,611\n",
            "cc.shape, min(cc),max(cc): (38334,), 139,356\n",
            "mask.shape, min(mask),max(mask): (800, 600, 2), 0,0\n",
            "rr.shape, min(rr),max(rr): (85779,), 145,520\n",
            "cc.shape, min(cc),max(cc): (85779,), 183,488\n",
            "After fixing the dirt mask, new values:\n",
            "rr.shape, min(rr),max(rr): (85779,), 145,520\n",
            "cc.shape, min(cc),max(cc): (85779,), 183,488\n",
            "mask.shape, min(mask),max(mask): (640, 640, 3), 0,1\n",
            "rr.shape, min(rr),max(rr): (36504,), 126,346\n",
            "cc.shape, min(cc),max(cc): (36504,), 196,421\n",
            "After fixing the dirt mask, new values:\n",
            "rr.shape, min(rr),max(rr): (36504,), 126,346\n",
            "cc.shape, min(cc),max(cc): (36504,), 196,421\n"
          ]
        },
        {
          "output_type": "stream",
          "name": "stderr",
          "text": [
            "/usr/local/lib/python3.7/dist-packages/ipykernel_launcher.py:129: DeprecationWarning: `np.bool` is a deprecated alias for the builtin `bool`. To silence this warning, use `bool` by itself. Doing this will not modify any behavior and is safe. If you specifically wanted the numpy scalar type, use `np.bool_` here.\n",
            "Deprecated in NumPy 1.20; for more details and guidance: https://numpy.org/devdocs/release/1.20.0-notes.html#deprecations\n"
          ]
        },
        {
          "output_type": "stream",
          "name": "stdout",
          "text": [
            "mask.shape, min(mask),max(mask): (800, 600, 2), 0,1\n",
            "rr.shape, min(rr),max(rr): (21232,), 0,159\n",
            "cc.shape, min(cc),max(cc): (21232,), 266,428\n",
            "After fixing the dirt mask, new values:\n",
            "rr.shape, min(rr),max(rr): (21232,), 0,159\n",
            "cc.shape, min(cc),max(cc): (21232,), 266,428\n"
          ]
        },
        {
          "output_type": "stream",
          "name": "stderr",
          "text": [
            "/usr/local/lib/python3.7/dist-packages/ipykernel_launcher.py:129: DeprecationWarning: `np.bool` is a deprecated alias for the builtin `bool`. To silence this warning, use `bool` by itself. Doing this will not modify any behavior and is safe. If you specifically wanted the numpy scalar type, use `np.bool_` here.\n",
            "Deprecated in NumPy 1.20; for more details and guidance: https://numpy.org/devdocs/release/1.20.0-notes.html#deprecations\n",
            "/usr/local/lib/python3.7/dist-packages/skimage/transform/_warps.py:830: FutureWarning: Input image dtype is bool. Interpolation is not defined with bool data type. Please set order to 0 or explicitely cast input image to another data type. Starting from version 0.19 a ValueError will be raised instead of this warning.\n",
            "  order = _validate_interpolation_order(image.dtype, order)\n",
            "/usr/local/lib/python3.7/dist-packages/skimage/transform/_warps.py:830: FutureWarning: Input image dtype is bool. Interpolation is not defined with bool data type. Please set order to 0 or explicitely cast input image to another data type. Starting from version 0.19 a ValueError will be raised instead of this warning.\n",
            "  order = _validate_interpolation_order(image.dtype, order)\n"
          ]
        },
        {
          "output_type": "stream",
          "name": "stdout",
          "text": [
            "mask.shape, min(mask),max(mask): (1067, 1600, 1), 0,0\n",
            "rr.shape, min(rr),max(rr): (77179,), 7,344\n",
            "cc.shape, min(cc),max(cc): (77179,), 906,1260\n",
            "After fixing the dirt mask, new values:\n",
            "rr.shape, min(rr),max(rr): (77179,), 7,344\n",
            "cc.shape, min(cc),max(cc): (77179,), 906,1260\n"
          ]
        },
        {
          "output_type": "stream",
          "name": "stderr",
          "text": [
            "/usr/local/lib/python3.7/dist-packages/ipykernel_launcher.py:129: DeprecationWarning: `np.bool` is a deprecated alias for the builtin `bool`. To silence this warning, use `bool` by itself. Doing this will not modify any behavior and is safe. If you specifically wanted the numpy scalar type, use `np.bool_` here.\n",
            "Deprecated in NumPy 1.20; for more details and guidance: https://numpy.org/devdocs/release/1.20.0-notes.html#deprecations\n",
            "/usr/local/lib/python3.7/dist-packages/skimage/transform/_warps.py:830: FutureWarning: Input image dtype is bool. Interpolation is not defined with bool data type. Please set order to 0 or explicitely cast input image to another data type. Starting from version 0.19 a ValueError will be raised instead of this warning.\n",
            "  order = _validate_interpolation_order(image.dtype, order)\n"
          ]
        },
        {
          "output_type": "stream",
          "name": "stdout",
          "text": [
            "mask.shape, min(mask),max(mask): (2048, 1536, 1), 0,0\n",
            "rr.shape, min(rr),max(rr): (126162,), 1119,1586\n",
            "cc.shape, min(cc),max(cc): (126162,), 959,1350\n",
            "After fixing the dirt mask, new values:\n",
            "rr.shape, min(rr),max(rr): (126162,), 1119,1586\n",
            "cc.shape, min(cc),max(cc): (126162,), 959,1350\n"
          ]
        },
        {
          "output_type": "stream",
          "name": "stderr",
          "text": [
            "/usr/local/lib/python3.7/dist-packages/ipykernel_launcher.py:129: DeprecationWarning: `np.bool` is a deprecated alias for the builtin `bool`. To silence this warning, use `bool` by itself. Doing this will not modify any behavior and is safe. If you specifically wanted the numpy scalar type, use `np.bool_` here.\n",
            "Deprecated in NumPy 1.20; for more details and guidance: https://numpy.org/devdocs/release/1.20.0-notes.html#deprecations\n"
          ]
        },
        {
          "output_type": "stream",
          "name": "stdout",
          "text": [
            "mask.shape, min(mask),max(mask): (540, 960, 1), 0,0\n",
            "rr.shape, min(rr),max(rr): (83168,), 115,454\n",
            "cc.shape, min(cc),max(cc): (83168,), 306,657\n",
            "After fixing the dirt mask, new values:\n",
            "rr.shape, min(rr),max(rr): (83168,), 115,454\n",
            "cc.shape, min(cc),max(cc): (83168,), 306,657\n"
          ]
        },
        {
          "output_type": "stream",
          "name": "stderr",
          "text": [
            "/usr/local/lib/python3.7/dist-packages/ipykernel_launcher.py:129: DeprecationWarning: `np.bool` is a deprecated alias for the builtin `bool`. To silence this warning, use `bool` by itself. Doing this will not modify any behavior and is safe. If you specifically wanted the numpy scalar type, use `np.bool_` here.\n",
            "Deprecated in NumPy 1.20; for more details and guidance: https://numpy.org/devdocs/release/1.20.0-notes.html#deprecations\n",
            "/usr/local/lib/python3.7/dist-packages/skimage/transform/_warps.py:830: FutureWarning: Input image dtype is bool. Interpolation is not defined with bool data type. Please set order to 0 or explicitely cast input image to another data type. Starting from version 0.19 a ValueError will be raised instead of this warning.\n",
            "  order = _validate_interpolation_order(image.dtype, order)\n",
            "/usr/local/lib/python3.7/dist-packages/skimage/transform/_warps.py:830: FutureWarning: Input image dtype is bool. Interpolation is not defined with bool data type. Please set order to 0 or explicitely cast input image to another data type. Starting from version 0.19 a ValueError will be raised instead of this warning.\n",
            "  order = _validate_interpolation_order(image.dtype, order)\n"
          ]
        },
        {
          "output_type": "stream",
          "name": "stdout",
          "text": [
            "mask.shape, min(mask),max(mask): (640, 960, 1), 0,0\n",
            "rr.shape, min(rr),max(rr): (113998,), 136,541\n",
            "cc.shape, min(cc),max(cc): (113998,), 299,665\n",
            "After fixing the dirt mask, new values:\n",
            "rr.shape, min(rr),max(rr): (113998,), 136,541\n",
            "cc.shape, min(cc),max(cc): (113998,), 299,665\n"
          ]
        },
        {
          "output_type": "stream",
          "name": "stderr",
          "text": [
            "/usr/local/lib/python3.7/dist-packages/ipykernel_launcher.py:129: DeprecationWarning: `np.bool` is a deprecated alias for the builtin `bool`. To silence this warning, use `bool` by itself. Doing this will not modify any behavior and is safe. If you specifically wanted the numpy scalar type, use `np.bool_` here.\n",
            "Deprecated in NumPy 1.20; for more details and guidance: https://numpy.org/devdocs/release/1.20.0-notes.html#deprecations\n"
          ]
        },
        {
          "output_type": "stream",
          "name": "stdout",
          "text": [
            "mask.shape, min(mask),max(mask): (1440, 2560, 1), 0,0\n",
            "rr.shape, min(rr),max(rr): (206108,), 125,592\n",
            "cc.shape, min(cc),max(cc): (206108,), 965,1545\n",
            "After fixing the dirt mask, new values:\n",
            "rr.shape, min(rr),max(rr): (206108,), 125,592\n",
            "cc.shape, min(cc),max(cc): (206108,), 965,1545\n"
          ]
        },
        {
          "output_type": "stream",
          "name": "stderr",
          "text": [
            "/usr/local/lib/python3.7/dist-packages/ipykernel_launcher.py:129: DeprecationWarning: `np.bool` is a deprecated alias for the builtin `bool`. To silence this warning, use `bool` by itself. Doing this will not modify any behavior and is safe. If you specifically wanted the numpy scalar type, use `np.bool_` here.\n",
            "Deprecated in NumPy 1.20; for more details and guidance: https://numpy.org/devdocs/release/1.20.0-notes.html#deprecations\n",
            "/usr/local/lib/python3.7/dist-packages/skimage/transform/_warps.py:830: FutureWarning: Input image dtype is bool. Interpolation is not defined with bool data type. Please set order to 0 or explicitely cast input image to another data type. Starting from version 0.19 a ValueError will be raised instead of this warning.\n",
            "  order = _validate_interpolation_order(image.dtype, order)\n",
            "/usr/local/lib/python3.7/dist-packages/skimage/transform/_warps.py:830: FutureWarning: Input image dtype is bool. Interpolation is not defined with bool data type. Please set order to 0 or explicitely cast input image to another data type. Starting from version 0.19 a ValueError will be raised instead of this warning.\n",
            "  order = _validate_interpolation_order(image.dtype, order)\n"
          ]
        },
        {
          "output_type": "stream",
          "name": "stdout",
          "text": [
            "mask.shape, min(mask),max(mask): (700, 700, 2), 0,0\n",
            "rr.shape, min(rr),max(rr): (43241,), 1,257\n",
            "cc.shape, min(cc),max(cc): (43241,), 234,494\n",
            "After fixing the dirt mask, new values:\n",
            "rr.shape, min(rr),max(rr): (43241,), 1,257\n",
            "cc.shape, min(cc),max(cc): (43241,), 234,494\n",
            "mask.shape, min(mask),max(mask): (700, 700, 2), 0,1\n",
            "rr.shape, min(rr),max(rr): (46237,), 460,699\n",
            "cc.shape, min(cc),max(cc): (46237,), 410,657\n",
            "After fixing the dirt mask, new values:\n",
            "rr.shape, min(rr),max(rr): (46237,), 460,699\n",
            "cc.shape, min(cc),max(cc): (46237,), 410,657\n"
          ]
        },
        {
          "output_type": "stream",
          "name": "stderr",
          "text": [
            "/usr/local/lib/python3.7/dist-packages/ipykernel_launcher.py:129: DeprecationWarning: `np.bool` is a deprecated alias for the builtin `bool`. To silence this warning, use `bool` by itself. Doing this will not modify any behavior and is safe. If you specifically wanted the numpy scalar type, use `np.bool_` here.\n",
            "Deprecated in NumPy 1.20; for more details and guidance: https://numpy.org/devdocs/release/1.20.0-notes.html#deprecations\n"
          ]
        },
        {
          "output_type": "stream",
          "name": "stdout",
          "text": [
            "mask.shape, min(mask),max(mask): (1367, 2048, 2), 0,0\n",
            "rr.shape, min(rr),max(rr): (260912,), 239,1007\n",
            "cc.shape, min(cc),max(cc): (260912,), 750,1336\n",
            "After fixing the dirt mask, new values:\n",
            "rr.shape, min(rr),max(rr): (260912,), 239,1007\n",
            "cc.shape, min(cc),max(cc): (260912,), 750,1336\n"
          ]
        },
        {
          "output_type": "stream",
          "name": "stderr",
          "text": [
            "/usr/local/lib/python3.7/dist-packages/skimage/transform/_warps.py:830: FutureWarning: Input image dtype is bool. Interpolation is not defined with bool data type. Please set order to 0 or explicitely cast input image to another data type. Starting from version 0.19 a ValueError will be raised instead of this warning.\n",
            "  order = _validate_interpolation_order(image.dtype, order)\n"
          ]
        },
        {
          "output_type": "stream",
          "name": "stdout",
          "text": [
            "mask.shape, min(mask),max(mask): (1367, 2048, 2), 0,1\n",
            "rr.shape, min(rr),max(rr): (58070,), 426,803\n",
            "cc.shape, min(cc),max(cc): (58070,), 500,793\n",
            "After fixing the dirt mask, new values:\n",
            "rr.shape, min(rr),max(rr): (58070,), 426,803\n",
            "cc.shape, min(cc),max(cc): (58070,), 500,793\n"
          ]
        },
        {
          "output_type": "stream",
          "name": "stderr",
          "text": [
            "/usr/local/lib/python3.7/dist-packages/ipykernel_launcher.py:129: DeprecationWarning: `np.bool` is a deprecated alias for the builtin `bool`. To silence this warning, use `bool` by itself. Doing this will not modify any behavior and is safe. If you specifically wanted the numpy scalar type, use `np.bool_` here.\n",
            "Deprecated in NumPy 1.20; for more details and guidance: https://numpy.org/devdocs/release/1.20.0-notes.html#deprecations\n"
          ]
        },
        {
          "output_type": "stream",
          "name": "stdout",
          "text": [
            "mask.shape, min(mask),max(mask): (554, 900, 1), 0,0\n",
            "rr.shape, min(rr),max(rr): (64330,), 99,453\n",
            "cc.shape, min(cc),max(cc): (64330,), 56,323\n",
            "After fixing the dirt mask, new values:\n",
            "rr.shape, min(rr),max(rr): (64330,), 99,453\n",
            "cc.shape, min(cc),max(cc): (64330,), 56,323\n"
          ]
        },
        {
          "output_type": "stream",
          "name": "stderr",
          "text": [
            "/usr/local/lib/python3.7/dist-packages/ipykernel_launcher.py:129: DeprecationWarning: `np.bool` is a deprecated alias for the builtin `bool`. To silence this warning, use `bool` by itself. Doing this will not modify any behavior and is safe. If you specifically wanted the numpy scalar type, use `np.bool_` here.\n",
            "Deprecated in NumPy 1.20; for more details and guidance: https://numpy.org/devdocs/release/1.20.0-notes.html#deprecations\n",
            "/usr/local/lib/python3.7/dist-packages/skimage/transform/_warps.py:830: FutureWarning: Input image dtype is bool. Interpolation is not defined with bool data type. Please set order to 0 or explicitely cast input image to another data type. Starting from version 0.19 a ValueError will be raised instead of this warning.\n",
            "  order = _validate_interpolation_order(image.dtype, order)\n",
            "/usr/local/lib/python3.7/dist-packages/skimage/transform/_warps.py:830: FutureWarning: Input image dtype is bool. Interpolation is not defined with bool data type. Please set order to 0 or explicitely cast input image to another data type. Starting from version 0.19 a ValueError will be raised instead of this warning.\n",
            "  order = _validate_interpolation_order(image.dtype, order)\n"
          ]
        },
        {
          "output_type": "stream",
          "name": "stdout",
          "text": [
            "mask.shape, min(mask),max(mask): (400, 600, 2), 0,0\n",
            "rr.shape, min(rr),max(rr): (23604,), 141,325\n",
            "cc.shape, min(cc),max(cc): (23604,), 321,511\n",
            "After fixing the dirt mask, new values:\n",
            "rr.shape, min(rr),max(rr): (23604,), 141,325\n",
            "cc.shape, min(cc),max(cc): (23604,), 321,511\n",
            "mask.shape, min(mask),max(mask): (540, 960, 1), 0,0\n",
            "mask.shape, min(mask),max(mask): (400, 600, 2), 0,1\n",
            "rr.shape, min(rr),max(rr): (83168,), 115,454\n",
            "rr.shape, min(rr),max(rr): (19192,), 149,309\n",
            "cc.shape, min(cc),max(cc): (19192,), 53,210\n",
            "cc.shape, min(cc),max(cc): (83168,), 306,657\n",
            "After fixing the dirt mask, new values:\n",
            "After fixing the dirt mask, new values:\n",
            "rr.shape, min(rr),max(rr): (19192,), 149,309\n",
            "cc.shape, min(cc),max(cc): (19192,), 53,210\n",
            "rr.shape, min(rr),max(rr): (83168,), 115,454\n"
          ]
        },
        {
          "output_type": "stream",
          "name": "stderr",
          "text": [
            "/usr/local/lib/python3.7/dist-packages/ipykernel_launcher.py:129: DeprecationWarning: `np.bool` is a deprecated alias for the builtin `bool`. To silence this warning, use `bool` by itself. Doing this will not modify any behavior and is safe. If you specifically wanted the numpy scalar type, use `np.bool_` here.\n",
            "Deprecated in NumPy 1.20; for more details and guidance: https://numpy.org/devdocs/release/1.20.0-notes.html#deprecations\n"
          ]
        },
        {
          "output_type": "stream",
          "name": "stdout",
          "text": [
            "cc.shape, min(cc),max(cc): (83168,), 306,657\n"
          ]
        },
        {
          "output_type": "stream",
          "name": "stderr",
          "text": [
            "/usr/local/lib/python3.7/dist-packages/ipykernel_launcher.py:129: DeprecationWarning: `np.bool` is a deprecated alias for the builtin `bool`. To silence this warning, use `bool` by itself. Doing this will not modify any behavior and is safe. If you specifically wanted the numpy scalar type, use `np.bool_` here.\n",
            "Deprecated in NumPy 1.20; for more details and guidance: https://numpy.org/devdocs/release/1.20.0-notes.html#deprecations\n",
            "/usr/local/lib/python3.7/dist-packages/skimage/transform/_warps.py:830: FutureWarning: Input image dtype is bool. Interpolation is not defined with bool data type. Please set order to 0 or explicitely cast input image to another data type. Starting from version 0.19 a ValueError will be raised instead of this warning.\n",
            "  order = _validate_interpolation_order(image.dtype, order)\n",
            "/usr/local/lib/python3.7/dist-packages/skimage/transform/_warps.py:830: FutureWarning: Input image dtype is bool. Interpolation is not defined with bool data type. Please set order to 0 or explicitely cast input image to another data type. Starting from version 0.19 a ValueError will be raised instead of this warning.\n",
            "  order = _validate_interpolation_order(image.dtype, order)\n"
          ]
        },
        {
          "output_type": "stream",
          "name": "stdout",
          "text": [
            "mask.shape, min(mask),max(mask): (540, 540, 3), 0,0\n",
            "rr.shape, min(rr),max(rr): (50860,), 13,364\n",
            "cc.shape, min(cc),max(cc): (50860,), 274,506\n",
            "After fixing the dirt mask, new values:\n",
            "rr.shape, min(rr),max(rr): (50860,), 13,364\n",
            "cc.shape, min(cc),max(cc): (50860,), 274,506\n",
            "mask.shape, min(mask),max(mask): (540, 540, 3), 0,1\n",
            "rr.shape, min(rr),max(rr): (66638,), 232,527\n",
            "cc.shape, min(cc),max(cc): (66638,), 124,446\n",
            "After fixing the dirt mask, new values:\n",
            "rr.shape, min(rr),max(rr): (66638,), 232,527\n",
            "cc.shape, min(cc),max(cc): (66638,), 124,446\n",
            "mask.shape, min(mask),max(mask): (540, 540, 3), 0,1\n",
            "rr.shape, min(rr),max(rr): (46383,), 61,340\n",
            "cc.shape, min(cc),max(cc): (46383,), 28,281\n",
            "After fixing the dirt mask, new values:\n",
            "rr.shape, min(rr),max(rr): (46383,), 61,340\n",
            "cc.shape, min(cc),max(cc): (46383,), 28,281\n"
          ]
        },
        {
          "output_type": "stream",
          "name": "stderr",
          "text": [
            "/usr/local/lib/python3.7/dist-packages/ipykernel_launcher.py:129: DeprecationWarning: `np.bool` is a deprecated alias for the builtin `bool`. To silence this warning, use `bool` by itself. Doing this will not modify any behavior and is safe. If you specifically wanted the numpy scalar type, use `np.bool_` here.\n",
            "Deprecated in NumPy 1.20; for more details and guidance: https://numpy.org/devdocs/release/1.20.0-notes.html#deprecations\n"
          ]
        },
        {
          "output_type": "stream",
          "name": "stdout",
          "text": [
            "mask.shape, min(mask),max(mask): (640, 572, 1), 0,0\n",
            "rr.shape, min(rr),max(rr): (223009,), 35,607\n",
            "cc.shape, min(cc),max(cc): (223009,), 35,537\n",
            "After fixing the dirt mask, new values:\n",
            "rr.shape, min(rr),max(rr): (223009,), 35,607\n",
            "cc.shape, min(cc),max(cc): (223009,), 35,537\n"
          ]
        },
        {
          "output_type": "stream",
          "name": "stderr",
          "text": [
            "/usr/local/lib/python3.7/dist-packages/ipykernel_launcher.py:129: DeprecationWarning: `np.bool` is a deprecated alias for the builtin `bool`. To silence this warning, use `bool` by itself. Doing this will not modify any behavior and is safe. If you specifically wanted the numpy scalar type, use `np.bool_` here.\n",
            "Deprecated in NumPy 1.20; for more details and guidance: https://numpy.org/devdocs/release/1.20.0-notes.html#deprecations\n",
            "/usr/local/lib/python3.7/dist-packages/skimage/transform/_warps.py:830: FutureWarning: Input image dtype is bool. Interpolation is not defined with bool data type. Please set order to 0 or explicitely cast input image to another data type. Starting from version 0.19 a ValueError will be raised instead of this warning.\n",
            "  order = _validate_interpolation_order(image.dtype, order)\n",
            "/usr/local/lib/python3.7/dist-packages/skimage/transform/_warps.py:830: FutureWarning: Input image dtype is bool. Interpolation is not defined with bool data type. Please set order to 0 or explicitely cast input image to another data type. Starting from version 0.19 a ValueError will be raised instead of this warning.\n",
            "  order = _validate_interpolation_order(image.dtype, order)\n"
          ]
        },
        {
          "output_type": "stream",
          "name": "stdout",
          "text": [
            "mask.shape, min(mask),max(mask): (337, 500, 2), 0,0\n",
            "rr.shape, min(rr),max(rr): (54620,), 59,328\n",
            "cc.shape, min(cc),max(cc): (54620,), 41,314\n",
            "After fixing the dirt mask, new values:\n",
            "rr.shape, min(rr),max(rr): (54620,), 59,328\n",
            "cc.shape, min(cc),max(cc): (54620,), 41,314\n",
            "mask.shape, min(mask),max(mask): (337, 500, 2), 0,1\n",
            "rr.shape, min(rr),max(rr): (21291,), 1,139\n",
            "cc.shape, min(cc),max(cc): (21291,), 272,461\n",
            "After fixing the dirt mask, new values:\n",
            "rr.shape, min(rr),max(rr): (21291,), 1,139\n",
            "cc.shape, min(cc),max(cc): (21291,), 272,461\n"
          ]
        },
        {
          "output_type": "stream",
          "name": "stderr",
          "text": [
            "/usr/local/lib/python3.7/dist-packages/ipykernel_launcher.py:129: DeprecationWarning: `np.bool` is a deprecated alias for the builtin `bool`. To silence this warning, use `bool` by itself. Doing this will not modify any behavior and is safe. If you specifically wanted the numpy scalar type, use `np.bool_` here.\n",
            "Deprecated in NumPy 1.20; for more details and guidance: https://numpy.org/devdocs/release/1.20.0-notes.html#deprecations\n"
          ]
        },
        {
          "output_type": "stream",
          "name": "stdout",
          "text": [
            "mask.shape, min(mask),max(mask): (905, 1024, 1), 0,0\n",
            "rr.shape, min(rr),max(rr): (241814,), 35,587\n",
            "cc.shape, min(cc),max(cc): (241814,), 97,698\n",
            "After fixing the dirt mask, new values:\n",
            "rr.shape, min(rr),max(rr): (241814,), 35,587\n",
            "cc.shape, min(cc),max(cc): (241814,), 97,698\n"
          ]
        },
        {
          "output_type": "stream",
          "name": "stderr",
          "text": [
            "/usr/local/lib/python3.7/dist-packages/ipykernel_launcher.py:129: DeprecationWarning: `np.bool` is a deprecated alias for the builtin `bool`. To silence this warning, use `bool` by itself. Doing this will not modify any behavior and is safe. If you specifically wanted the numpy scalar type, use `np.bool_` here.\n",
            "Deprecated in NumPy 1.20; for more details and guidance: https://numpy.org/devdocs/release/1.20.0-notes.html#deprecations\n",
            "/usr/local/lib/python3.7/dist-packages/skimage/transform/_warps.py:830: FutureWarning: Input image dtype is bool. Interpolation is not defined with bool data type. Please set order to 0 or explicitely cast input image to another data type. Starting from version 0.19 a ValueError will be raised instead of this warning.\n",
            "  order = _validate_interpolation_order(image.dtype, order)\n",
            "/usr/local/lib/python3.7/dist-packages/skimage/transform/_warps.py:830: FutureWarning: Input image dtype is bool. Interpolation is not defined with bool data type. Please set order to 0 or explicitely cast input image to another data type. Starting from version 0.19 a ValueError will be raised instead of this warning.\n",
            "  order = _validate_interpolation_order(image.dtype, order)\n"
          ]
        },
        {
          "output_type": "stream",
          "name": "stdout",
          "text": [
            "mask.shape, min(mask),max(mask): (454, 633, 6), 0,0\n",
            "rr.shape, min(rr),max(rr): (12942,), 123,246\n",
            "cc.shape, min(cc),max(cc): (12942,), 3,127\n",
            "After fixing the dirt mask, new values:\n",
            "rr.shape, min(rr),max(rr): (12942,), 123,246\n",
            "cc.shape, min(cc),max(cc): (12942,), 3,127\n",
            "mask.shape, min(mask),max(mask): (454, 633, 6), 0,1\n",
            "rr.shape, min(rr),max(rr): (11892,), 294,447\n",
            "cc.shape, min(cc),max(cc): (11892,), 174,297\n",
            "After fixing the dirt mask, new values:\n",
            "rr.shape, min(rr),max(rr): (11892,), 294,447\n",
            "cc.shape, min(cc),max(cc): (11892,), 174,297\n",
            "mask.shape, min(mask),max(mask): (454, 633, 6), 0,1\n",
            "rr.shape, min(rr),max(rr): (11238,), 329,453\n",
            "cc.shape, min(cc),max(cc): (11238,), 382,490\n",
            "After fixing the dirt mask, new values:\n",
            "rr.shape, min(rr),max(rr): (11238,), 329,453\n",
            "cc.shape, min(cc),max(cc): (11238,), 382,490\n",
            "mask.shape, min(mask),max(mask): (454, 633, 6), 0,1\n",
            "rr.shape, min(rr),max(rr): (11314,), 210,345\n",
            "cc.shape, min(cc),max(cc): (11314,), 322,428\n",
            "After fixing the dirt mask, new values:\n",
            "rr.shape, min(rr),max(rr): (11314,), 210,345\n",
            "cc.shape, min(cc),max(cc): (11314,), 322,428\n",
            "mask.shape, min(mask),max(mask): (454, 633, 6), 0,1\n",
            "rr.shape, min(rr),max(rr): (12598,), 73,200\n",
            "cc.shape, min(cc),max(cc): (12598,), 382,501\n",
            "After fixing the dirt mask, new values:\n",
            "rr.shape, min(rr),max(rr): (12598,), 73,200\n",
            "cc.shape, min(cc),max(cc): (12598,), 382,501\n",
            "mask.shape, min(mask),max(mask): (454, 633, 6), 0,1\n",
            "rr.shape, min(rr),max(rr): (3942,), 328,430\n",
            "cc.shape, min(cc),max(cc): (3942,), 534,616\n",
            "After fixing the dirt mask, new values:\n",
            "rr.shape, min(rr),max(rr): (3942,), 328,430\n",
            "cc.shape, min(cc),max(cc): (3942,), 534,616\n"
          ]
        },
        {
          "output_type": "stream",
          "name": "stderr",
          "text": [
            "/usr/local/lib/python3.7/dist-packages/ipykernel_launcher.py:129: DeprecationWarning: `np.bool` is a deprecated alias for the builtin `bool`. To silence this warning, use `bool` by itself. Doing this will not modify any behavior and is safe. If you specifically wanted the numpy scalar type, use `np.bool_` here.\n",
            "Deprecated in NumPy 1.20; for more details and guidance: https://numpy.org/devdocs/release/1.20.0-notes.html#deprecations\n"
          ]
        },
        {
          "output_type": "stream",
          "name": "stdout",
          "text": [
            "mask.shape, min(mask),max(mask): (681, 1024, 1), 0,0\n",
            "rr.shape, min(rr),max(rr): (236138,), 65,648\n",
            "cc.shape, min(cc),max(cc): (236138,), 0,577\n",
            "After fixing the dirt mask, new values:\n",
            "rr.shape, min(rr),max(rr): (236138,), 65,648\n",
            "cc.shape, min(cc),max(cc): (236138,), 0,577\n"
          ]
        },
        {
          "output_type": "stream",
          "name": "stderr",
          "text": [
            "/usr/local/lib/python3.7/dist-packages/ipykernel_launcher.py:129: DeprecationWarning: `np.bool` is a deprecated alias for the builtin `bool`. To silence this warning, use `bool` by itself. Doing this will not modify any behavior and is safe. If you specifically wanted the numpy scalar type, use `np.bool_` here.\n",
            "Deprecated in NumPy 1.20; for more details and guidance: https://numpy.org/devdocs/release/1.20.0-notes.html#deprecations\n",
            "/usr/local/lib/python3.7/dist-packages/skimage/transform/_warps.py:830: FutureWarning: Input image dtype is bool. Interpolation is not defined with bool data type. Please set order to 0 or explicitely cast input image to another data type. Starting from version 0.19 a ValueError will be raised instead of this warning.\n",
            "  order = _validate_interpolation_order(image.dtype, order)\n",
            "/usr/local/lib/python3.7/dist-packages/skimage/transform/_warps.py:830: FutureWarning: Input image dtype is bool. Interpolation is not defined with bool data type. Please set order to 0 or explicitely cast input image to another data type. Starting from version 0.19 a ValueError will be raised instead of this warning.\n",
            "  order = _validate_interpolation_order(image.dtype, order)\n"
          ]
        },
        {
          "output_type": "stream",
          "name": "stdout",
          "text": [
            "mask.shape, min(mask),max(mask): (763, 1024, 2), 0,0\n",
            "rr.shape, min(rr),max(rr): (151648,), 89,694\n",
            "cc.shape, min(cc),max(cc): (151648,), 81,487\n",
            "After fixing the dirt mask, new values:\n",
            "rr.shape, min(rr),max(rr): (151648,), 89,694\n",
            "cc.shape, min(cc),max(cc): (151648,), 81,487\n",
            "mask.shape, min(mask),max(mask): (763, 1024, 2), 0,1\n",
            "rr.shape, min(rr),max(rr): (140945,), 203,708\n",
            "cc.shape, min(cc),max(cc): (140945,), 500,917\n",
            "After fixing the dirt mask, new values:\n",
            "rr.shape, min(rr),max(rr): (140945,), 203,708\n",
            "cc.shape, min(cc),max(cc): (140945,), 500,917\n"
          ]
        },
        {
          "output_type": "stream",
          "name": "stderr",
          "text": [
            "/usr/local/lib/python3.7/dist-packages/ipykernel_launcher.py:129: DeprecationWarning: `np.bool` is a deprecated alias for the builtin `bool`. To silence this warning, use `bool` by itself. Doing this will not modify any behavior and is safe. If you specifically wanted the numpy scalar type, use `np.bool_` here.\n",
            "Deprecated in NumPy 1.20; for more details and guidance: https://numpy.org/devdocs/release/1.20.0-notes.html#deprecations\n",
            "/usr/local/lib/python3.7/dist-packages/skimage/transform/_warps.py:830: FutureWarning: Input image dtype is bool. Interpolation is not defined with bool data type. Please set order to 0 or explicitely cast input image to another data type. Starting from version 0.19 a ValueError will be raised instead of this warning.\n",
            "  order = _validate_interpolation_order(image.dtype, order)\n"
          ]
        },
        {
          "output_type": "stream",
          "name": "stdout",
          "text": [
            "mask.shape, min(mask),max(mask): (1357, 1900, 2), 0,0\n",
            "rr.shape, min(rr),max(rr): (365294,), 4,971\n",
            "cc.shape, min(cc),max(cc): (365294,), 877,1578\n",
            "After fixing the dirt mask, new values:\n",
            "rr.shape, min(rr),max(rr): (365294,), 4,971\n",
            "cc.shape, min(cc),max(cc): (365294,), 877,1578\n",
            "mask.shape, min(mask),max(mask): (1357, 1900, 2), 0,1\n",
            "rr.shape, min(rr),max(rr): (318279,), 328,1107\n",
            "cc.shape, min(cc),max(cc): (318279,), 145,824\n",
            "After fixing the dirt mask, new values:\n",
            "rr.shape, min(rr),max(rr): (318279,), 328,1107\n",
            "cc.shape, min(cc),max(cc): (318279,), 145,824\n"
          ]
        },
        {
          "output_type": "stream",
          "name": "stderr",
          "text": [
            "/usr/local/lib/python3.7/dist-packages/ipykernel_launcher.py:129: DeprecationWarning: `np.bool` is a deprecated alias for the builtin `bool`. To silence this warning, use `bool` by itself. Doing this will not modify any behavior and is safe. If you specifically wanted the numpy scalar type, use `np.bool_` here.\n",
            "Deprecated in NumPy 1.20; for more details and guidance: https://numpy.org/devdocs/release/1.20.0-notes.html#deprecations\n",
            "/usr/local/lib/python3.7/dist-packages/skimage/transform/_warps.py:830: FutureWarning: Input image dtype is bool. Interpolation is not defined with bool data type. Please set order to 0 or explicitely cast input image to another data type. Starting from version 0.19 a ValueError will be raised instead of this warning.\n",
            "  order = _validate_interpolation_order(image.dtype, order)\n"
          ]
        },
        {
          "output_type": "stream",
          "name": "stdout",
          "text": [
            "mask.shape, min(mask),max(mask): (323, 450, 1), 0,0\n",
            "rr.shape, min(rr),max(rr): (29971,), 8,201\n",
            "cc.shape, min(cc),max(cc): (29971,), 228,420\n",
            "After fixing the dirt mask, new values:\n",
            "rr.shape, min(rr),max(rr): (29971,), 8,201\n",
            "cc.shape, min(cc),max(cc): (29971,), 228,420\n"
          ]
        },
        {
          "output_type": "stream",
          "name": "stderr",
          "text": [
            "/usr/local/lib/python3.7/dist-packages/ipykernel_launcher.py:129: DeprecationWarning: `np.bool` is a deprecated alias for the builtin `bool`. To silence this warning, use `bool` by itself. Doing this will not modify any behavior and is safe. If you specifically wanted the numpy scalar type, use `np.bool_` here.\n",
            "Deprecated in NumPy 1.20; for more details and guidance: https://numpy.org/devdocs/release/1.20.0-notes.html#deprecations\n",
            "/usr/local/lib/python3.7/dist-packages/skimage/transform/_warps.py:830: FutureWarning: Input image dtype is bool. Interpolation is not defined with bool data type. Please set order to 0 or explicitely cast input image to another data type. Starting from version 0.19 a ValueError will be raised instead of this warning.\n",
            "  order = _validate_interpolation_order(image.dtype, order)\n"
          ]
        },
        {
          "output_type": "stream",
          "name": "stdout",
          "text": [
            "mask.shape, min(mask),max(mask): (833, 1024, 2), 0,0\n",
            "rr.shape, min(rr),max(rr): (31513,), 114,322\n",
            "cc.shape, min(cc),max(cc): (31513,), 62,263\n",
            "After fixing the dirt mask, new values:\n",
            "rr.shape, min(rr),max(rr): (31513,), 114,322\n",
            "cc.shape, min(cc),max(cc): (31513,), 62,263\n",
            "mask.shape, min(mask),max(mask): (833, 1024, 2), 0,1\n",
            "rr.shape, min(rr),max(rr): (29853,), 101,305\n",
            "cc.shape, min(cc),max(cc): (29853,), 756,959\n",
            "After fixing the dirt mask, new values:\n",
            "rr.shape, min(rr),max(rr): (29853,), 101,305\n",
            "cc.shape, min(cc),max(cc): (29853,), 756,959\n"
          ]
        },
        {
          "output_type": "stream",
          "name": "stderr",
          "text": [
            "/usr/local/lib/python3.7/dist-packages/ipykernel_launcher.py:129: DeprecationWarning: `np.bool` is a deprecated alias for the builtin `bool`. To silence this warning, use `bool` by itself. Doing this will not modify any behavior and is safe. If you specifically wanted the numpy scalar type, use `np.bool_` here.\n",
            "Deprecated in NumPy 1.20; for more details and guidance: https://numpy.org/devdocs/release/1.20.0-notes.html#deprecations\n",
            "/usr/local/lib/python3.7/dist-packages/skimage/transform/_warps.py:830: FutureWarning: Input image dtype is bool. Interpolation is not defined with bool data type. Please set order to 0 or explicitely cast input image to another data type. Starting from version 0.19 a ValueError will be raised instead of this warning.\n",
            "  order = _validate_interpolation_order(image.dtype, order)\n"
          ]
        },
        {
          "output_type": "stream",
          "name": "stdout",
          "text": [
            "mask.shape, min(mask),max(mask): (480, 852, 1), 0,0\n",
            "rr.shape, min(rr),max(rr): (36766,), 121,340\n",
            "cc.shape, min(cc),max(cc): (36766,), 340,565\n",
            "After fixing the dirt mask, new values:\n",
            "rr.shape, min(rr),max(rr): (36766,), 121,340\n",
            "cc.shape, min(cc),max(cc): (36766,), 340,565\n"
          ]
        },
        {
          "output_type": "stream",
          "name": "stderr",
          "text": [
            "/usr/local/lib/python3.7/dist-packages/ipykernel_launcher.py:129: DeprecationWarning: `np.bool` is a deprecated alias for the builtin `bool`. To silence this warning, use `bool` by itself. Doing this will not modify any behavior and is safe. If you specifically wanted the numpy scalar type, use `np.bool_` here.\n",
            "Deprecated in NumPy 1.20; for more details and guidance: https://numpy.org/devdocs/release/1.20.0-notes.html#deprecations\n",
            "/usr/local/lib/python3.7/dist-packages/skimage/transform/_warps.py:830: FutureWarning: Input image dtype is bool. Interpolation is not defined with bool data type. Please set order to 0 or explicitely cast input image to another data type. Starting from version 0.19 a ValueError will be raised instead of this warning.\n",
            "  order = _validate_interpolation_order(image.dtype, order)\n"
          ]
        },
        {
          "output_type": "stream",
          "name": "stdout",
          "text": [
            "mask.shape, min(mask),max(mask): (1382, 2048, 3), 0,0\n",
            "rr.shape, min(rr),max(rr): (255266,), 199,735\n",
            "cc.shape, min(cc),max(cc): (255266,), 726,1306\n",
            "After fixing the dirt mask, new values:\n",
            "rr.shape, min(rr),max(rr): (255266,), 199,735\n",
            "cc.shape, min(cc),max(cc): (255266,), 726,1306\n",
            "mask.shape, min(mask),max(mask): (1382, 2048, 3), 0,1\n",
            "rr.shape, min(rr),max(rr): (170340,), 729,1167\n",
            "cc.shape, min(cc),max(cc): (170340,), 822,1287\n",
            "After fixing the dirt mask, new values:\n",
            "rr.shape, min(rr),max(rr): (170340,), 729,1167\n",
            "cc.shape, min(cc),max(cc): (170340,), 822,1287\n",
            "mask.shape, min(mask),max(mask): (1382, 2048, 3), 0,1\n",
            "rr.shape, min(rr),max(rr): (122348,), 1111,1381\n",
            "cc.shape, min(cc),max(cc): (122348,), 755,1325\n",
            "After fixing the dirt mask, new values:\n",
            "rr.shape, min(rr),max(rr): (122348,), 1111,1381\n",
            "cc.shape, min(cc),max(cc): (122348,), 755,1325\n"
          ]
        },
        {
          "output_type": "stream",
          "name": "stderr",
          "text": [
            "/usr/local/lib/python3.7/dist-packages/ipykernel_launcher.py:129: DeprecationWarning: `np.bool` is a deprecated alias for the builtin `bool`. To silence this warning, use `bool` by itself. Doing this will not modify any behavior and is safe. If you specifically wanted the numpy scalar type, use `np.bool_` here.\n",
            "Deprecated in NumPy 1.20; for more details and guidance: https://numpy.org/devdocs/release/1.20.0-notes.html#deprecations\n",
            "/usr/local/lib/python3.7/dist-packages/skimage/transform/_warps.py:830: FutureWarning: Input image dtype is bool. Interpolation is not defined with bool data type. Please set order to 0 or explicitely cast input image to another data type. Starting from version 0.19 a ValueError will be raised instead of this warning.\n",
            "  order = _validate_interpolation_order(image.dtype, order)\n"
          ]
        },
        {
          "output_type": "stream",
          "name": "stdout",
          "text": [
            "mask.shape, min(mask),max(mask): (400, 600, 2), 0,0\n",
            "rr.shape, min(rr),max(rr): (23604,), 141,325\n",
            "cc.shape, min(cc),max(cc): (23604,), 321,511\n",
            "After fixing the dirt mask, new values:\n",
            "rr.shape, min(rr),max(rr): (23604,), 141,325\n",
            "cc.shape, min(cc),max(cc): (23604,), 321,511\n",
            "mask.shape, min(mask),max(mask): (400, 600, 2), 0,1\n",
            "rr.shape, min(rr),max(rr): (19192,), 149,309\n",
            "cc.shape, min(cc),max(cc): (19192,), 53,210\n",
            "After fixing the dirt mask, new values:\n",
            "rr.shape, min(rr),max(rr): (19192,), 149,309\n",
            "cc.shape, min(cc),max(cc): (19192,), 53,210\n"
          ]
        },
        {
          "output_type": "stream",
          "name": "stderr",
          "text": [
            "/usr/local/lib/python3.7/dist-packages/ipykernel_launcher.py:129: DeprecationWarning: `np.bool` is a deprecated alias for the builtin `bool`. To silence this warning, use `bool` by itself. Doing this will not modify any behavior and is safe. If you specifically wanted the numpy scalar type, use `np.bool_` here.\n",
            "Deprecated in NumPy 1.20; for more details and guidance: https://numpy.org/devdocs/release/1.20.0-notes.html#deprecations\n",
            "/usr/local/lib/python3.7/dist-packages/skimage/transform/_warps.py:830: FutureWarning: Input image dtype is bool. Interpolation is not defined with bool data type. Please set order to 0 or explicitely cast input image to another data type. Starting from version 0.19 a ValueError will be raised instead of this warning.\n",
            "  order = _validate_interpolation_order(image.dtype, order)\n"
          ]
        },
        {
          "output_type": "stream",
          "name": "stdout",
          "text": [
            "mask.shape, min(mask),max(mask): (450, 600, 1), 0,0\n",
            "rr.shape, min(rr),max(rr): (4863,), 215,289\n",
            "cc.shape, min(cc),max(cc): (4863,), 336,433\n",
            "After fixing the dirt mask, new values:\n",
            "rr.shape, min(rr),max(rr): (4863,), 215,289\n",
            "cc.shape, min(cc),max(cc): (4863,), 336,433\n"
          ]
        },
        {
          "output_type": "stream",
          "name": "stderr",
          "text": [
            "/usr/local/lib/python3.7/dist-packages/ipykernel_launcher.py:129: DeprecationWarning: `np.bool` is a deprecated alias for the builtin `bool`. To silence this warning, use `bool` by itself. Doing this will not modify any behavior and is safe. If you specifically wanted the numpy scalar type, use `np.bool_` here.\n",
            "Deprecated in NumPy 1.20; for more details and guidance: https://numpy.org/devdocs/release/1.20.0-notes.html#deprecations\n",
            "/usr/local/lib/python3.7/dist-packages/skimage/transform/_warps.py:830: FutureWarning: Input image dtype is bool. Interpolation is not defined with bool data type. Please set order to 0 or explicitely cast input image to another data type. Starting from version 0.19 a ValueError will be raised instead of this warning.\n",
            "  order = _validate_interpolation_order(image.dtype, order)\n"
          ]
        },
        {
          "output_type": "stream",
          "name": "stdout",
          "text": [
            "mask.shape, min(mask),max(mask): (480, 852, 1), 0,0\n",
            "rr.shape, min(rr),max(rr): (167163,), 0,459\n",
            "cc.shape, min(cc),max(cc): (167163,), 4,539\n",
            "After fixing the dirt mask, new values:\n",
            "rr.shape, min(rr),max(rr): (167163,), 0,459\n",
            "cc.shape, min(cc),max(cc): (167163,), 4,539\n"
          ]
        },
        {
          "output_type": "stream",
          "name": "stderr",
          "text": [
            "/usr/local/lib/python3.7/dist-packages/ipykernel_launcher.py:129: DeprecationWarning: `np.bool` is a deprecated alias for the builtin `bool`. To silence this warning, use `bool` by itself. Doing this will not modify any behavior and is safe. If you specifically wanted the numpy scalar type, use `np.bool_` here.\n",
            "Deprecated in NumPy 1.20; for more details and guidance: https://numpy.org/devdocs/release/1.20.0-notes.html#deprecations\n",
            "/usr/local/lib/python3.7/dist-packages/skimage/transform/_warps.py:830: FutureWarning: Input image dtype is bool. Interpolation is not defined with bool data type. Please set order to 0 or explicitely cast input image to another data type. Starting from version 0.19 a ValueError will be raised instead of this warning.\n",
            "  order = _validate_interpolation_order(image.dtype, order)\n"
          ]
        },
        {
          "output_type": "stream",
          "name": "stdout",
          "text": [
            "mask.shape, min(mask),max(mask): (1365, 2047, 14), 0,0\n",
            "rr.shape, min(rr),max(rr): (37975,), 0,225\n",
            "cc.shape, min(cc),max(cc): (37975,), 0,227\n",
            "After fixing the dirt mask, new values:\n",
            "rr.shape, min(rr),max(rr): (37975,), 0,225\n",
            "cc.shape, min(cc),max(cc): (37975,), 0,227\n",
            "mask.shape, min(mask),max(mask): (1365, 2047, 14), 0,1\n",
            "rr.shape, min(rr),max(rr): (38265,), 186,398\n",
            "cc.shape, min(cc),max(cc): (38265,), 79,309\n",
            "After fixing the dirt mask, new values:\n",
            "rr.shape, min(rr),max(rr): (38265,), 186,398\n",
            "cc.shape, min(cc),max(cc): (38265,), 79,309\n",
            "mask.shape, min(mask),max(mask): (1365, 2047, 14), 0,1\n",
            "rr.shape, min(rr),max(rr): (29337,), 371,535\n",
            "cc.shape, min(cc),max(cc): (29337,), 0,213\n",
            "After fixing the dirt mask, new values:\n",
            "rr.shape, min(rr),max(rr): (29337,), 371,535\n",
            "cc.shape, min(cc),max(cc): (29337,), 0,213\n",
            "mask.shape, min(mask),max(mask): (1365, 2047, 14), 0,1\n",
            "rr.shape, min(rr),max(rr): (33603,), 33,249\n",
            "cc.shape, min(cc),max(cc): (33603,), 218,454\n",
            "After fixing the dirt mask, new values:\n",
            "rr.shape, min(rr),max(rr): (33603,), 33,249\n",
            "cc.shape, min(cc),max(cc): (33603,), 218,454\n",
            "mask.shape, min(mask),max(mask): (1365, 2047, 14), 0,1\n",
            "rr.shape, min(rr),max(rr): (28751,), 377,542\n",
            "cc.shape, min(cc),max(cc): (28751,), 192,409\n",
            "After fixing the dirt mask, new values:\n",
            "rr.shape, min(rr),max(rr): (28751,), 377,542\n",
            "cc.shape, min(cc),max(cc): (28751,), 192,409\n",
            "mask.shape, min(mask),max(mask): (1365, 2047, 14), 0,1\n",
            "rr.shape, min(rr),max(rr): (35438,), 177,403\n",
            "cc.shape, min(cc),max(cc): (35438,), 286,504\n",
            "After fixing the dirt mask, new values:\n",
            "rr.shape, min(rr),max(rr): (35438,), 177,403\n",
            "cc.shape, min(cc),max(cc): (35438,), 286,504\n",
            "mask.shape, min(mask),max(mask): (1365, 2047, 14), 0,1\n",
            "rr.shape, min(rr),max(rr): (37200,), 0,219\n",
            "cc.shape, min(cc),max(cc): (37200,), 436,681\n",
            "After fixing the dirt mask, new values:\n",
            "rr.shape, min(rr),max(rr): (37200,), 0,219\n",
            "cc.shape, min(cc),max(cc): (37200,), 436,681\n",
            "mask.shape, min(mask),max(mask): (1365, 2047, 14), 0,1\n",
            "rr.shape, min(rr),max(rr): (42911,), 175,409\n",
            "cc.shape, min(cc),max(cc): (42911,), 499,745\n",
            "After fixing the dirt mask, new values:\n",
            "rr.shape, min(rr),max(rr): (42911,), 175,409\n",
            "cc.shape, min(cc),max(cc): (42911,), 499,745\n",
            "mask.shape, min(mask),max(mask): (1365, 2047, 14), 0,1\n",
            "rr.shape, min(rr),max(rr): (33085,), 379,547\n",
            "cc.shape, min(cc),max(cc): (33085,), 386,629\n",
            "After fixing the dirt mask, new values:\n",
            "rr.shape, min(rr),max(rr): (33085,), 379,547\n",
            "cc.shape, min(cc),max(cc): (33085,), 386,629\n",
            "mask.shape, min(mask),max(mask): (1365, 2047, 14), 0,1\n",
            "rr.shape, min(rr),max(rr): (28656,), 46,224\n",
            "cc.shape, min(cc),max(cc): (28656,), 662,867\n",
            "After fixing the dirt mask, new values:\n",
            "rr.shape, min(rr),max(rr): (28656,), 46,224\n",
            "cc.shape, min(cc),max(cc): (28656,), 662,867\n",
            "mask.shape, min(mask),max(mask): (1365, 2047, 14), 0,1\n",
            "rr.shape, min(rr),max(rr): (32817,), 1,226\n",
            "cc.shape, min(cc),max(cc): (32817,), 863,1074\n",
            "After fixing the dirt mask, new values:\n",
            "rr.shape, min(rr),max(rr): (32817,), 1,226\n",
            "cc.shape, min(cc),max(cc): (32817,), 863,1074\n",
            "mask.shape, min(mask),max(mask): (1365, 2047, 14), 0,1\n",
            "rr.shape, min(rr),max(rr): (43264,), 184,438\n",
            "cc.shape, min(cc),max(cc): (43264,), 741,972\n",
            "After fixing the dirt mask, new values:\n",
            "rr.shape, min(rr),max(rr): (43264,), 184,438\n",
            "cc.shape, min(cc),max(cc): (43264,), 741,972\n",
            "mask.shape, min(mask),max(mask): (1365, 2047, 14), 0,1\n",
            "rr.shape, min(rr),max(rr): (25755,), 395,552\n",
            "cc.shape, min(cc),max(cc): (25755,), 612,815\n",
            "After fixing the dirt mask, new values:\n",
            "rr.shape, min(rr),max(rr): (25755,), 395,552\n",
            "cc.shape, min(cc),max(cc): (25755,), 612,815\n",
            "mask.shape, min(mask),max(mask): (1365, 2047, 14), 0,1\n",
            "rr.shape, min(rr),max(rr): (25388,), 402,555\n",
            "cc.shape, min(cc),max(cc): (25388,), 806,1003\n",
            "After fixing the dirt mask, new values:\n",
            "rr.shape, min(rr),max(rr): (25388,), 402,555\n",
            "cc.shape, min(cc),max(cc): (25388,), 806,1003\n"
          ]
        },
        {
          "output_type": "stream",
          "name": "stderr",
          "text": [
            "/usr/local/lib/python3.7/dist-packages/ipykernel_launcher.py:129: DeprecationWarning: `np.bool` is a deprecated alias for the builtin `bool`. To silence this warning, use `bool` by itself. Doing this will not modify any behavior and is safe. If you specifically wanted the numpy scalar type, use `np.bool_` here.\n",
            "Deprecated in NumPy 1.20; for more details and guidance: https://numpy.org/devdocs/release/1.20.0-notes.html#deprecations\n",
            "/usr/local/lib/python3.7/dist-packages/skimage/transform/_warps.py:830: FutureWarning: Input image dtype is bool. Interpolation is not defined with bool data type. Please set order to 0 or explicitely cast input image to another data type. Starting from version 0.19 a ValueError will be raised instead of this warning.\n",
            "  order = _validate_interpolation_order(image.dtype, order)\n"
          ]
        },
        {
          "output_type": "stream",
          "name": "stdout",
          "text": [
            "mask.shape, min(mask),max(mask): (1067, 1600, 1), 0,0\n",
            "rr.shape, min(rr),max(rr): (77179,), 7,344\n",
            "cc.shape, min(cc),max(cc): (77179,), 906,1260\n",
            "After fixing the dirt mask, new values:\n",
            "rr.shape, min(rr),max(rr): (77179,), 7,344\n",
            "cc.shape, min(cc),max(cc): (77179,), 906,1260\n"
          ]
        },
        {
          "output_type": "stream",
          "name": "stderr",
          "text": [
            "/usr/local/lib/python3.7/dist-packages/ipykernel_launcher.py:129: DeprecationWarning: `np.bool` is a deprecated alias for the builtin `bool`. To silence this warning, use `bool` by itself. Doing this will not modify any behavior and is safe. If you specifically wanted the numpy scalar type, use `np.bool_` here.\n",
            "Deprecated in NumPy 1.20; for more details and guidance: https://numpy.org/devdocs/release/1.20.0-notes.html#deprecations\n",
            "/usr/local/lib/python3.7/dist-packages/skimage/transform/_warps.py:830: FutureWarning: Input image dtype is bool. Interpolation is not defined with bool data type. Please set order to 0 or explicitely cast input image to another data type. Starting from version 0.19 a ValueError will be raised instead of this warning.\n",
            "  order = _validate_interpolation_order(image.dtype, order)\n"
          ]
        },
        {
          "output_type": "stream",
          "name": "stdout",
          "text": [
            "mask.shape, min(mask),max(mask): (1024, 1024, 1), 0,0\n",
            "rr.shape, min(rr),max(rr): (140090,), 517,984\n",
            "cc.shape, min(cc),max(cc): (140090,), 74,434\n",
            "After fixing the dirt mask, new values:\n",
            "rr.shape, min(rr),max(rr): (140090,), 517,984\n",
            "cc.shape, min(cc),max(cc): (140090,), 74,434\n"
          ]
        },
        {
          "output_type": "stream",
          "name": "stderr",
          "text": [
            "/usr/local/lib/python3.7/dist-packages/ipykernel_launcher.py:129: DeprecationWarning: `np.bool` is a deprecated alias for the builtin `bool`. To silence this warning, use `bool` by itself. Doing this will not modify any behavior and is safe. If you specifically wanted the numpy scalar type, use `np.bool_` here.\n",
            "Deprecated in NumPy 1.20; for more details and guidance: https://numpy.org/devdocs/release/1.20.0-notes.html#deprecations\n",
            "/usr/local/lib/python3.7/dist-packages/skimage/transform/_warps.py:830: FutureWarning: Input image dtype is bool. Interpolation is not defined with bool data type. Please set order to 0 or explicitely cast input image to another data type. Starting from version 0.19 a ValueError will be raised instead of this warning.\n",
            "  order = _validate_interpolation_order(image.dtype, order)\n"
          ]
        },
        {
          "output_type": "stream",
          "name": "stdout",
          "text": [
            "mask.shape, min(mask),max(mask): (1024, 1024, 1), 0,0\n",
            "rr.shape, min(rr),max(rr): (140090,), 517,984\n",
            "cc.shape, min(cc),max(cc): (140090,), 74,434\n",
            "After fixing the dirt mask, new values:\n",
            "rr.shape, min(rr),max(rr): (140090,), 517,984\n",
            "cc.shape, min(cc),max(cc): (140090,), 74,434\n"
          ]
        },
        {
          "output_type": "stream",
          "name": "stderr",
          "text": [
            "/usr/local/lib/python3.7/dist-packages/ipykernel_launcher.py:129: DeprecationWarning: `np.bool` is a deprecated alias for the builtin `bool`. To silence this warning, use `bool` by itself. Doing this will not modify any behavior and is safe. If you specifically wanted the numpy scalar type, use `np.bool_` here.\n",
            "Deprecated in NumPy 1.20; for more details and guidance: https://numpy.org/devdocs/release/1.20.0-notes.html#deprecations\n",
            "/usr/local/lib/python3.7/dist-packages/skimage/transform/_warps.py:830: FutureWarning: Input image dtype is bool. Interpolation is not defined with bool data type. Please set order to 0 or explicitely cast input image to another data type. Starting from version 0.19 a ValueError will be raised instead of this warning.\n",
            "  order = _validate_interpolation_order(image.dtype, order)\n"
          ]
        },
        {
          "output_type": "stream",
          "name": "stdout",
          "text": [
            "mask.shape, min(mask),max(mask): (375, 500, 1), 0,0\n",
            "rr.shape, min(rr),max(rr): (23294,), 138,320\n",
            "cc.shape, min(cc),max(cc): (23294,), 54,243\n",
            "After fixing the dirt mask, new values:\n",
            "rr.shape, min(rr),max(rr): (23294,), 138,320\n",
            "cc.shape, min(cc),max(cc): (23294,), 54,243\n"
          ]
        },
        {
          "output_type": "stream",
          "name": "stderr",
          "text": [
            "/usr/local/lib/python3.7/dist-packages/ipykernel_launcher.py:129: DeprecationWarning: `np.bool` is a deprecated alias for the builtin `bool`. To silence this warning, use `bool` by itself. Doing this will not modify any behavior and is safe. If you specifically wanted the numpy scalar type, use `np.bool_` here.\n",
            "Deprecated in NumPy 1.20; for more details and guidance: https://numpy.org/devdocs/release/1.20.0-notes.html#deprecations\n",
            "/usr/local/lib/python3.7/dist-packages/skimage/transform/_warps.py:830: FutureWarning: Input image dtype is bool. Interpolation is not defined with bool data type. Please set order to 0 or explicitely cast input image to another data type. Starting from version 0.19 a ValueError will be raised instead of this warning.\n",
            "  order = _validate_interpolation_order(image.dtype, order)\n"
          ]
        },
        {
          "output_type": "stream",
          "name": "stdout",
          "text": [
            "mask.shape, min(mask),max(mask): (375, 500, 1), 0,0\n",
            "rr.shape, min(rr),max(rr): (23294,), 138,320\n",
            "cc.shape, min(cc),max(cc): (23294,), 54,243\n",
            "After fixing the dirt mask, new values:\n",
            "cc.shape, min(cc),max(cc): (23294,), 54,243\n",
            "rr.shape, min(rr),max(rr): (23294,), 138,320\n"
          ]
        },
        {
          "output_type": "stream",
          "name": "stderr",
          "text": [
            "/usr/local/lib/python3.7/dist-packages/ipykernel_launcher.py:129: DeprecationWarning: `np.bool` is a deprecated alias for the builtin `bool`. To silence this warning, use `bool` by itself. Doing this will not modify any behavior and is safe. If you specifically wanted the numpy scalar type, use `np.bool_` here.\n",
            "Deprecated in NumPy 1.20; for more details and guidance: https://numpy.org/devdocs/release/1.20.0-notes.html#deprecations\n",
            "/usr/local/lib/python3.7/dist-packages/skimage/transform/_warps.py:830: FutureWarning: Input image dtype is bool. Interpolation is not defined with bool data type. Please set order to 0 or explicitely cast input image to another data type. Starting from version 0.19 a ValueError will be raised instead of this warning.\n",
            "  order = _validate_interpolation_order(image.dtype, order)\n"
          ]
        },
        {
          "output_type": "stream",
          "name": "stdout",
          "text": [
            "mask.shape, min(mask),max(mask): (1356, 2047, 1), 0,0\n",
            "rr.shape, min(rr),max(rr): (597074,), 240,1146\n",
            "cc.shape, min(cc),max(cc): (597074,), 1073,1970\n",
            "After fixing the dirt mask, new values:\n",
            "rr.shape, min(rr),max(rr): (597074,), 240,1146\n",
            "cc.shape, min(cc),max(cc): (597074,), 1073,1970\n"
          ]
        },
        {
          "output_type": "stream",
          "name": "stderr",
          "text": [
            "/usr/local/lib/python3.7/dist-packages/ipykernel_launcher.py:129: DeprecationWarning: `np.bool` is a deprecated alias for the builtin `bool`. To silence this warning, use `bool` by itself. Doing this will not modify any behavior and is safe. If you specifically wanted the numpy scalar type, use `np.bool_` here.\n",
            "Deprecated in NumPy 1.20; for more details and guidance: https://numpy.org/devdocs/release/1.20.0-notes.html#deprecations\n",
            "/usr/local/lib/python3.7/dist-packages/skimage/transform/_warps.py:830: FutureWarning: Input image dtype is bool. Interpolation is not defined with bool data type. Please set order to 0 or explicitely cast input image to another data type. Starting from version 0.19 a ValueError will be raised instead of this warning.\n",
            "  order = _validate_interpolation_order(image.dtype, order)\n"
          ]
        },
        {
          "output_type": "stream",
          "name": "stdout",
          "text": [
            "mask.shape, min(mask),max(mask): (700, 700, 2), 0,0\n",
            "rr.shape, min(rr),max(rr): (43241,), 1,257\n",
            "cc.shape, min(cc),max(cc): (43241,), 234,494\n",
            "After fixing the dirt mask, new values:\n",
            "rr.shape, min(rr),max(rr): (43241,), 1,257\n",
            "cc.shape, min(cc),max(cc): (43241,), 234,494\n",
            "mask.shape, min(mask),max(mask): (700, 700, 2), 0,1\n",
            "rr.shape, min(rr),max(rr): (46237,), 460,699\n",
            "cc.shape, min(cc),max(cc): (46237,), 410,657\n",
            "After fixing the dirt mask, new values:\n",
            "rr.shape, min(rr),max(rr): (46237,), 460,699\n",
            "cc.shape, min(cc),max(cc): (46237,), 410,657\n"
          ]
        },
        {
          "output_type": "stream",
          "name": "stderr",
          "text": [
            "/usr/local/lib/python3.7/dist-packages/ipykernel_launcher.py:129: DeprecationWarning: `np.bool` is a deprecated alias for the builtin `bool`. To silence this warning, use `bool` by itself. Doing this will not modify any behavior and is safe. If you specifically wanted the numpy scalar type, use `np.bool_` here.\n",
            "Deprecated in NumPy 1.20; for more details and guidance: https://numpy.org/devdocs/release/1.20.0-notes.html#deprecations\n",
            "/usr/local/lib/python3.7/dist-packages/skimage/transform/_warps.py:830: FutureWarning: Input image dtype is bool. Interpolation is not defined with bool data type. Please set order to 0 or explicitely cast input image to another data type. Starting from version 0.19 a ValueError will be raised instead of this warning.\n",
            "  order = _validate_interpolation_order(image.dtype, order)\n"
          ]
        },
        {
          "output_type": "stream",
          "name": "stdout",
          "text": [
            "mask.shape, min(mask),max(mask): (1440, 2560, 1), 0,0\n",
            "rr.shape, min(rr),max(rr): (206108,), 125,592\n",
            "cc.shape, min(cc),max(cc): (206108,), 965,1545\n",
            "After fixing the dirt mask, new values:\n",
            "rr.shape, min(rr),max(rr): (206108,), 125,592\n",
            "cc.shape, min(cc),max(cc): (206108,), 965,1545\n"
          ]
        },
        {
          "output_type": "stream",
          "name": "stderr",
          "text": [
            "/usr/local/lib/python3.7/dist-packages/ipykernel_launcher.py:129: DeprecationWarning: `np.bool` is a deprecated alias for the builtin `bool`. To silence this warning, use `bool` by itself. Doing this will not modify any behavior and is safe. If you specifically wanted the numpy scalar type, use `np.bool_` here.\n",
            "Deprecated in NumPy 1.20; for more details and guidance: https://numpy.org/devdocs/release/1.20.0-notes.html#deprecations\n",
            "/usr/local/lib/python3.7/dist-packages/skimage/transform/_warps.py:830: FutureWarning: Input image dtype is bool. Interpolation is not defined with bool data type. Please set order to 0 or explicitely cast input image to another data type. Starting from version 0.19 a ValueError will be raised instead of this warning.\n",
            "  order = _validate_interpolation_order(image.dtype, order)\n"
          ]
        },
        {
          "output_type": "stream",
          "name": "stdout",
          "text": [
            "mask.shape, min(mask),max(mask): (1700, 2400, 1), 0,0\n",
            "rr.shape, min(rr),max(rr): (463059,), 608,1387\n",
            "cc.shape, min(cc),max(cc): (463059,), 242,992\n",
            "After fixing the dirt mask, new values:\n",
            "rr.shape, min(rr),max(rr): (463059,), 608,1387\n",
            "cc.shape, min(cc),max(cc): (463059,), 242,992\n"
          ]
        },
        {
          "output_type": "stream",
          "name": "stderr",
          "text": [
            "/usr/local/lib/python3.7/dist-packages/ipykernel_launcher.py:129: DeprecationWarning: `np.bool` is a deprecated alias for the builtin `bool`. To silence this warning, use `bool` by itself. Doing this will not modify any behavior and is safe. If you specifically wanted the numpy scalar type, use `np.bool_` here.\n",
            "Deprecated in NumPy 1.20; for more details and guidance: https://numpy.org/devdocs/release/1.20.0-notes.html#deprecations\n",
            "/usr/local/lib/python3.7/dist-packages/skimage/transform/_warps.py:830: FutureWarning: Input image dtype is bool. Interpolation is not defined with bool data type. Please set order to 0 or explicitely cast input image to another data type. Starting from version 0.19 a ValueError will be raised instead of this warning.\n",
            "  order = _validate_interpolation_order(image.dtype, order)\n"
          ]
        },
        {
          "output_type": "stream",
          "name": "stdout",
          "text": [
            "mask.shape, min(mask),max(mask): (1000, 1500, 1), 0,0\n",
            "rr.shape, min(rr),max(rr): (261242,), 439,1000\n",
            "cc.shape, min(cc),max(cc): (261242,), 564,1294\n",
            "After fixing the dirt mask, new values:\n",
            "rr.shape, min(rr),max(rr): (261242,), 439,999\n",
            "cc.shape, min(cc),max(cc): (261242,), 564,1294\n"
          ]
        },
        {
          "output_type": "stream",
          "name": "stderr",
          "text": [
            "/usr/local/lib/python3.7/dist-packages/ipykernel_launcher.py:129: DeprecationWarning: `np.bool` is a deprecated alias for the builtin `bool`. To silence this warning, use `bool` by itself. Doing this will not modify any behavior and is safe. If you specifically wanted the numpy scalar type, use `np.bool_` here.\n",
            "Deprecated in NumPy 1.20; for more details and guidance: https://numpy.org/devdocs/release/1.20.0-notes.html#deprecations\n",
            "/usr/local/lib/python3.7/dist-packages/skimage/transform/_warps.py:830: FutureWarning: Input image dtype is bool. Interpolation is not defined with bool data type. Please set order to 0 or explicitely cast input image to another data type. Starting from version 0.19 a ValueError will be raised instead of this warning.\n",
            "  order = _validate_interpolation_order(image.dtype, order)\n"
          ]
        },
        {
          "output_type": "stream",
          "name": "stdout",
          "text": [
            "mask.shape, min(mask),max(mask): (1080, 810, 4), 0,0\n",
            "rr.shape, min(rr),max(rr): (64917,), 138,415\n",
            "cc.shape, min(cc),max(cc): (64917,), 184,479\n",
            "After fixing the dirt mask, new values:\n",
            "rr.shape, min(rr),max(rr): (64917,), 138,415\n",
            "cc.shape, min(cc),max(cc): (64917,), 184,479\n",
            "mask.shape, min(mask),max(mask): (1080, 810, 4), 0,1\n",
            "rr.shape, min(rr),max(rr): (52268,), 353,646\n",
            "cc.shape, min(cc),max(cc): (52268,), 388,621\n",
            "After fixing the dirt mask, new values:\n",
            "rr.shape, min(rr),max(rr): (52268,), 353,646\n",
            "cc.shape, min(cc),max(cc): (52268,), 388,621\n",
            "mask.shape, min(mask),max(mask): (1080, 810, 4), 0,1\n",
            "rr.shape, min(rr),max(rr): (46497,), 652,901\n",
            "cc.shape, min(cc),max(cc): (46497,), 384,635\n",
            "After fixing the dirt mask, new values:\n",
            "rr.shape, min(rr),max(rr): (46497,), 652,901\n",
            "cc.shape, min(cc),max(cc): (46497,), 384,635\n",
            "mask.shape, min(mask),max(mask): (1080, 810, 4), 0,1\n",
            "rr.shape, min(rr),max(rr): (42167,), 395,645\n",
            "cc.shape, min(cc),max(cc): (42167,), 168,397\n",
            "After fixing the dirt mask, new values:\n",
            "rr.shape, min(rr),max(rr): (42167,), 395,645\n",
            "cc.shape, min(cc),max(cc): (42167,), 168,397\n"
          ]
        },
        {
          "output_type": "stream",
          "name": "stderr",
          "text": [
            "/usr/local/lib/python3.7/dist-packages/ipykernel_launcher.py:129: DeprecationWarning: `np.bool` is a deprecated alias for the builtin `bool`. To silence this warning, use `bool` by itself. Doing this will not modify any behavior and is safe. If you specifically wanted the numpy scalar type, use `np.bool_` here.\n",
            "Deprecated in NumPy 1.20; for more details and guidance: https://numpy.org/devdocs/release/1.20.0-notes.html#deprecations\n",
            "/usr/local/lib/python3.7/dist-packages/skimage/transform/_warps.py:830: FutureWarning: Input image dtype is bool. Interpolation is not defined with bool data type. Please set order to 0 or explicitely cast input image to another data type. Starting from version 0.19 a ValueError will be raised instead of this warning.\n",
            "  order = _validate_interpolation_order(image.dtype, order)\n"
          ]
        },
        {
          "output_type": "stream",
          "name": "stdout",
          "text": [
            "mask.shape, min(mask),max(mask): (1000, 1000, 1), 0,0\n",
            "rr.shape, min(rr),max(rr): (73133,), 391,703\n",
            "cc.shape, min(cc),max(cc): (73133,), 351,674\n",
            "After fixing the dirt mask, new values:\n",
            "rr.shape, min(rr),max(rr): (73133,), 391,703\n",
            "cc.shape, min(cc),max(cc): (73133,), 351,674\n"
          ]
        },
        {
          "output_type": "stream",
          "name": "stderr",
          "text": [
            "/usr/local/lib/python3.7/dist-packages/ipykernel_launcher.py:129: DeprecationWarning: `np.bool` is a deprecated alias for the builtin `bool`. To silence this warning, use `bool` by itself. Doing this will not modify any behavior and is safe. If you specifically wanted the numpy scalar type, use `np.bool_` here.\n",
            "Deprecated in NumPy 1.20; for more details and guidance: https://numpy.org/devdocs/release/1.20.0-notes.html#deprecations\n",
            "/usr/local/lib/python3.7/dist-packages/skimage/transform/_warps.py:830: FutureWarning: Input image dtype is bool. Interpolation is not defined with bool data type. Please set order to 0 or explicitely cast input image to another data type. Starting from version 0.19 a ValueError will be raised instead of this warning.\n",
            "  order = _validate_interpolation_order(image.dtype, order)\n"
          ]
        },
        {
          "output_type": "stream",
          "name": "stdout",
          "text": [
            "mask.shape, min(mask),max(mask): (2048, 1365, 1), 0,0\n",
            "rr.shape, min(rr),max(rr): (15588,), 987,1130\n",
            "cc.shape, min(cc),max(cc): (15588,), 342,485\n",
            "After fixing the dirt mask, new values:\n",
            "rr.shape, min(rr),max(rr): (15588,), 987,1130\n",
            "cc.shape, min(cc),max(cc): (15588,), 342,485\n"
          ]
        },
        {
          "output_type": "stream",
          "name": "stderr",
          "text": [
            "/usr/local/lib/python3.7/dist-packages/ipykernel_launcher.py:129: DeprecationWarning: `np.bool` is a deprecated alias for the builtin `bool`. To silence this warning, use `bool` by itself. Doing this will not modify any behavior and is safe. If you specifically wanted the numpy scalar type, use `np.bool_` here.\n",
            "Deprecated in NumPy 1.20; for more details and guidance: https://numpy.org/devdocs/release/1.20.0-notes.html#deprecations\n",
            "/usr/local/lib/python3.7/dist-packages/skimage/transform/_warps.py:830: FutureWarning: Input image dtype is bool. Interpolation is not defined with bool data type. Please set order to 0 or explicitely cast input image to another data type. Starting from version 0.19 a ValueError will be raised instead of this warning.\n",
            "  order = _validate_interpolation_order(image.dtype, order)\n"
          ]
        },
        {
          "output_type": "stream",
          "name": "stdout",
          "text": [
            "mask.shape, min(mask),max(mask): (640, 960, 2), 0,0\n",
            "rr.shape, min(rr),max(rr): (36043,), 10,281\n",
            "cc.shape, min(cc),max(cc): (36043,), 221,435\n",
            "After fixing the dirt mask, new values:\n",
            "rr.shape, min(rr),max(rr): (36043,), 10,281\n",
            "cc.shape, min(cc),max(cc): (36043,), 221,435\n",
            "mask.shape, min(mask),max(mask): (640, 960, 2), 0,1\n",
            "rr.shape, min(rr),max(rr): (42332,), 46,301\n",
            "cc.shape, min(cc),max(cc): (42332,), 565,786\n",
            "After fixing the dirt mask, new values:\n",
            "rr.shape, min(rr),max(rr): (42332,), 46,301\n",
            "cc.shape, min(cc),max(cc): (42332,), 565,786\n"
          ]
        },
        {
          "output_type": "stream",
          "name": "stderr",
          "text": [
            "/usr/local/lib/python3.7/dist-packages/ipykernel_launcher.py:129: DeprecationWarning: `np.bool` is a deprecated alias for the builtin `bool`. To silence this warning, use `bool` by itself. Doing this will not modify any behavior and is safe. If you specifically wanted the numpy scalar type, use `np.bool_` here.\n",
            "Deprecated in NumPy 1.20; for more details and guidance: https://numpy.org/devdocs/release/1.20.0-notes.html#deprecations\n",
            "/usr/local/lib/python3.7/dist-packages/skimage/transform/_warps.py:830: FutureWarning: Input image dtype is bool. Interpolation is not defined with bool data type. Please set order to 0 or explicitely cast input image to another data type. Starting from version 0.19 a ValueError will be raised instead of this warning.\n",
            "  order = _validate_interpolation_order(image.dtype, order)\n"
          ]
        },
        {
          "output_type": "stream",
          "name": "stdout",
          "text": [
            "mask.shape, min(mask),max(mask): (682, 1024, 2), 0,0\n",
            "rr.shape, min(rr),max(rr): (79055,), 194,510\n",
            "cc.shape, min(cc),max(cc): (79055,), 663,978\n",
            "After fixing the dirt mask, new values:\n",
            "rr.shape, min(rr),max(rr): (79055,), 194,510\n",
            "cc.shape, min(cc),max(cc): (79055,), 663,978\n",
            "mask.shape, min(mask),max(mask): (682, 1024, 2), 0,1\n",
            "rr.shape, min(rr),max(rr): (27801,), 61,282\n",
            "cc.shape, min(cc),max(cc): (27801,), 627,895\n",
            "After fixing the dirt mask, new values:\n",
            "rr.shape, min(rr),max(rr): (27801,), 61,282\n",
            "cc.shape, min(cc),max(cc): (27801,), 627,895\n"
          ]
        },
        {
          "output_type": "stream",
          "name": "stderr",
          "text": [
            "/usr/local/lib/python3.7/dist-packages/ipykernel_launcher.py:129: DeprecationWarning: `np.bool` is a deprecated alias for the builtin `bool`. To silence this warning, use `bool` by itself. Doing this will not modify any behavior and is safe. If you specifically wanted the numpy scalar type, use `np.bool_` here.\n",
            "Deprecated in NumPy 1.20; for more details and guidance: https://numpy.org/devdocs/release/1.20.0-notes.html#deprecations\n",
            "/usr/local/lib/python3.7/dist-packages/skimage/transform/_warps.py:830: FutureWarning: Input image dtype is bool. Interpolation is not defined with bool data type. Please set order to 0 or explicitely cast input image to another data type. Starting from version 0.19 a ValueError will be raised instead of this warning.\n",
            "  order = _validate_interpolation_order(image.dtype, order)\n"
          ]
        },
        {
          "output_type": "stream",
          "name": "stdout",
          "text": [
            "mask.shape, min(mask),max(mask): (500, 500, 1), 0,0\n",
            "rr.shape, min(rr),max(rr): (38525,), 165,385\n",
            "cc.shape, min(cc),max(cc): (38525,), 0,243\n",
            "After fixing the dirt mask, new values:\n",
            "rr.shape, min(rr),max(rr): (38525,), 165,385\n",
            "cc.shape, min(cc),max(cc): (38525,), 0,243\n"
          ]
        },
        {
          "output_type": "stream",
          "name": "stderr",
          "text": [
            "/usr/local/lib/python3.7/dist-packages/ipykernel_launcher.py:129: DeprecationWarning: `np.bool` is a deprecated alias for the builtin `bool`. To silence this warning, use `bool` by itself. Doing this will not modify any behavior and is safe. If you specifically wanted the numpy scalar type, use `np.bool_` here.\n",
            "Deprecated in NumPy 1.20; for more details and guidance: https://numpy.org/devdocs/release/1.20.0-notes.html#deprecations\n",
            "/usr/local/lib/python3.7/dist-packages/skimage/transform/_warps.py:830: FutureWarning: Input image dtype is bool. Interpolation is not defined with bool data type. Please set order to 0 or explicitely cast input image to another data type. Starting from version 0.19 a ValueError will be raised instead of this warning.\n",
            "  order = _validate_interpolation_order(image.dtype, order)\n"
          ]
        },
        {
          "output_type": "stream",
          "name": "stdout",
          "text": [
            "mask.shape, min(mask),max(mask): (1024, 683, 5), 0,0\n",
            "rr.shape, min(rr),max(rr): (23409,), 140,328\n",
            "cc.shape, min(cc),max(cc): (23409,), 142,340\n",
            "After fixing the dirt mask, new values:\n",
            "rr.shape, min(rr),max(rr): (23409,), 140,328\n",
            "cc.shape, min(cc),max(cc): (23409,), 142,340\n",
            "mask.shape, min(mask),max(mask): (1024, 683, 5), 0,1\n",
            "rr.shape, min(rr),max(rr): (47060,), 250,513\n",
            "cc.shape, min(cc),max(cc): (47060,), 80,304\n",
            "After fixing the dirt mask, new values:\n",
            "rr.shape, min(rr),max(rr): (47060,), 250,513\n",
            "cc.shape, min(cc),max(cc): (47060,), 80,304\n",
            "mask.shape, min(mask),max(mask): (1024, 683, 5), 0,1\n",
            "rr.shape, min(rr),max(rr): (34250,), 204,419\n",
            "cc.shape, min(cc),max(cc): (34250,), 305,554\n",
            "After fixing the dirt mask, new values:\n",
            "rr.shape, min(rr),max(rr): (34250,), 204,419\n",
            "cc.shape, min(cc),max(cc): (34250,), 305,554\n",
            "mask.shape, min(mask),max(mask): (1024, 683, 5), 0,1\n",
            "rr.shape, min(rr),max(rr): (56408,), 347,627\n",
            "cc.shape, min(cc),max(cc): (56408,), 371,644\n",
            "After fixing the dirt mask, new values:\n",
            "rr.shape, min(rr),max(rr): (56408,), 347,627\n",
            "cc.shape, min(cc),max(cc): (56408,), 371,644\n",
            "mask.shape, min(mask),max(mask): (1024, 683, 5), 0,1\n",
            "rr.shape, min(rr),max(rr): (55954,), 494,799\n",
            "cc.shape, min(cc),max(cc): (55954,), 180,416\n",
            "After fixing the dirt mask, new values:\n",
            "rr.shape, min(rr),max(rr): (55954,), 494,799\n",
            "cc.shape, min(cc),max(cc): (55954,), 180,416\n"
          ]
        },
        {
          "output_type": "stream",
          "name": "stderr",
          "text": [
            "/usr/local/lib/python3.7/dist-packages/ipykernel_launcher.py:129: DeprecationWarning: `np.bool` is a deprecated alias for the builtin `bool`. To silence this warning, use `bool` by itself. Doing this will not modify any behavior and is safe. If you specifically wanted the numpy scalar type, use `np.bool_` here.\n",
            "Deprecated in NumPy 1.20; for more details and guidance: https://numpy.org/devdocs/release/1.20.0-notes.html#deprecations\n",
            "/usr/local/lib/python3.7/dist-packages/skimage/transform/_warps.py:830: FutureWarning: Input image dtype is bool. Interpolation is not defined with bool data type. Please set order to 0 or explicitely cast input image to another data type. Starting from version 0.19 a ValueError will be raised instead of this warning.\n",
            "  order = _validate_interpolation_order(image.dtype, order)\n"
          ]
        },
        {
          "output_type": "stream",
          "name": "stdout",
          "text": [
            "mask.shape, min(mask),max(mask): (1365, 2048, 1), 0,0\n",
            "rr.shape, min(rr),max(rr): (268754,), 212,819\n",
            "cc.shape, min(cc),max(cc): (268754,), 375,1001\n",
            "After fixing the dirt mask, new values:\n",
            "rr.shape, min(rr),max(rr): (268754,), 212,819\n",
            "cc.shape, min(cc),max(cc): (268754,), 375,1001\n"
          ]
        },
        {
          "output_type": "stream",
          "name": "stderr",
          "text": [
            "/usr/local/lib/python3.7/dist-packages/ipykernel_launcher.py:129: DeprecationWarning: `np.bool` is a deprecated alias for the builtin `bool`. To silence this warning, use `bool` by itself. Doing this will not modify any behavior and is safe. If you specifically wanted the numpy scalar type, use `np.bool_` here.\n",
            "Deprecated in NumPy 1.20; for more details and guidance: https://numpy.org/devdocs/release/1.20.0-notes.html#deprecations\n",
            "/usr/local/lib/python3.7/dist-packages/skimage/transform/_warps.py:830: FutureWarning: Input image dtype is bool. Interpolation is not defined with bool data type. Please set order to 0 or explicitely cast input image to another data type. Starting from version 0.19 a ValueError will be raised instead of this warning.\n",
            "  order = _validate_interpolation_order(image.dtype, order)\n"
          ]
        },
        {
          "output_type": "stream",
          "name": "stdout",
          "text": [
            "mask.shape, min(mask),max(mask): (1356, 2047, 1), 0,0\n",
            "rr.shape, min(rr),max(rr): (597074,), 240,1146\n",
            "cc.shape, min(cc),max(cc): (597074,), 1073,1970\n",
            "After fixing the dirt mask, new values:\n",
            "rr.shape, min(rr),max(rr): (597074,), 240,1146\n",
            "cc.shape, min(cc),max(cc): (597074,), 1073,1970\n"
          ]
        },
        {
          "output_type": "stream",
          "name": "stderr",
          "text": [
            "/usr/local/lib/python3.7/dist-packages/ipykernel_launcher.py:129: DeprecationWarning: `np.bool` is a deprecated alias for the builtin `bool`. To silence this warning, use `bool` by itself. Doing this will not modify any behavior and is safe. If you specifically wanted the numpy scalar type, use `np.bool_` here.\n",
            "Deprecated in NumPy 1.20; for more details and guidance: https://numpy.org/devdocs/release/1.20.0-notes.html#deprecations\n",
            "/usr/local/lib/python3.7/dist-packages/skimage/transform/_warps.py:830: FutureWarning: Input image dtype is bool. Interpolation is not defined with bool data type. Please set order to 0 or explicitely cast input image to another data type. Starting from version 0.19 a ValueError will be raised instead of this warning.\n",
            "  order = _validate_interpolation_order(image.dtype, order)\n"
          ]
        },
        {
          "output_type": "stream",
          "name": "stdout",
          "text": [
            "mask.shape, min(mask),max(mask): (738, 1024, 1), 0,0\n",
            "rr.shape, min(rr),max(rr): (110846,), 327,729\n",
            "cc.shape, min(cc),max(cc): (110846,), 195,574\n",
            "After fixing the dirt mask, new values:\n",
            "rr.shape, min(rr),max(rr): (110846,), 327,729\n",
            "cc.shape, min(cc),max(cc): (110846,), 195,574\n"
          ]
        },
        {
          "output_type": "stream",
          "name": "stderr",
          "text": [
            "/usr/local/lib/python3.7/dist-packages/ipykernel_launcher.py:129: DeprecationWarning: `np.bool` is a deprecated alias for the builtin `bool`. To silence this warning, use `bool` by itself. Doing this will not modify any behavior and is safe. If you specifically wanted the numpy scalar type, use `np.bool_` here.\n",
            "Deprecated in NumPy 1.20; for more details and guidance: https://numpy.org/devdocs/release/1.20.0-notes.html#deprecations\n",
            "/usr/local/lib/python3.7/dist-packages/skimage/transform/_warps.py:830: FutureWarning: Input image dtype is bool. Interpolation is not defined with bool data type. Please set order to 0 or explicitely cast input image to another data type. Starting from version 0.19 a ValueError will be raised instead of this warning.\n",
            "  order = _validate_interpolation_order(image.dtype, order)\n"
          ]
        },
        {
          "output_type": "stream",
          "name": "stdout",
          "text": [
            "mask.shape, min(mask),max(mask): (337, 500, 2), 0,0\n",
            "rr.shape, min(rr),max(rr): (54620,), 59,328\n",
            "cc.shape, min(cc),max(cc): (54620,), 41,314\n",
            "After fixing the dirt mask, new values:\n",
            "rr.shape, min(rr),max(rr): (54620,), 59,328\n",
            "cc.shape, min(cc),max(cc): (54620,), 41,314\n",
            "mask.shape, min(mask),max(mask): (337, 500, 2), 0,1\n",
            "rr.shape, min(rr),max(rr): (21291,), 1,139\n",
            "cc.shape, min(cc),max(cc): (21291,), 272,461\n",
            "After fixing the dirt mask, new values:\n",
            "rr.shape, min(rr),max(rr): (21291,), 1,139\n",
            "cc.shape, min(cc),max(cc): (21291,), 272,461\n"
          ]
        },
        {
          "output_type": "stream",
          "name": "stderr",
          "text": [
            "/usr/local/lib/python3.7/dist-packages/ipykernel_launcher.py:129: DeprecationWarning: `np.bool` is a deprecated alias for the builtin `bool`. To silence this warning, use `bool` by itself. Doing this will not modify any behavior and is safe. If you specifically wanted the numpy scalar type, use `np.bool_` here.\n",
            "Deprecated in NumPy 1.20; for more details and guidance: https://numpy.org/devdocs/release/1.20.0-notes.html#deprecations\n",
            "/usr/local/lib/python3.7/dist-packages/skimage/transform/_warps.py:830: FutureWarning: Input image dtype is bool. Interpolation is not defined with bool data type. Please set order to 0 or explicitely cast input image to another data type. Starting from version 0.19 a ValueError will be raised instead of this warning.\n",
            "  order = _validate_interpolation_order(image.dtype, order)\n"
          ]
        },
        {
          "output_type": "stream",
          "name": "stdout",
          "text": [
            "mask.shape, min(mask),max(mask): (519, 519, 1), 0,0\n",
            "rr.shape, min(rr),max(rr): (45588,), 147,415\n",
            "cc.shape, min(cc),max(cc): (45588,), 247,472\n",
            "After fixing the dirt mask, new values:\n",
            "rr.shape, min(rr),max(rr): (45588,), 147,415\n",
            "cc.shape, min(cc),max(cc): (45588,), 247,472\n"
          ]
        },
        {
          "output_type": "stream",
          "name": "stderr",
          "text": [
            "/usr/local/lib/python3.7/dist-packages/ipykernel_launcher.py:129: DeprecationWarning: `np.bool` is a deprecated alias for the builtin `bool`. To silence this warning, use `bool` by itself. Doing this will not modify any behavior and is safe. If you specifically wanted the numpy scalar type, use `np.bool_` here.\n",
            "Deprecated in NumPy 1.20; for more details and guidance: https://numpy.org/devdocs/release/1.20.0-notes.html#deprecations\n",
            "/usr/local/lib/python3.7/dist-packages/skimage/transform/_warps.py:830: FutureWarning: Input image dtype is bool. Interpolation is not defined with bool data type. Please set order to 0 or explicitely cast input image to another data type. Starting from version 0.19 a ValueError will be raised instead of this warning.\n",
            "  order = _validate_interpolation_order(image.dtype, order)\n"
          ]
        },
        {
          "output_type": "stream",
          "name": "stdout",
          "text": [
            "mask.shape, min(mask),max(mask): (425, 500, 2), 0,0\n",
            "rr.shape, min(rr),max(rr): (62429,), 56,390\n",
            "cc.shape, min(cc),max(cc): (62429,), 47,312\n",
            "After fixing the dirt mask, new values:\n",
            "rr.shape, min(rr),max(rr): (62429,), 56,390\n",
            "cc.shape, min(cc),max(cc): (62429,), 47,312\n",
            "mask.shape, min(mask),max(mask): (425, 500, 2), 0,1\n",
            "rr.shape, min(rr),max(rr): (28109,), 115,331\n",
            "cc.shape, min(cc),max(cc): (28109,), 277,455\n",
            "After fixing the dirt mask, new values:\n",
            "rr.shape, min(rr),max(rr): (28109,), 115,331\n",
            "cc.shape, min(cc),max(cc): (28109,), 277,455\n"
          ]
        },
        {
          "output_type": "stream",
          "name": "stderr",
          "text": [
            "/usr/local/lib/python3.7/dist-packages/ipykernel_launcher.py:129: DeprecationWarning: `np.bool` is a deprecated alias for the builtin `bool`. To silence this warning, use `bool` by itself. Doing this will not modify any behavior and is safe. If you specifically wanted the numpy scalar type, use `np.bool_` here.\n",
            "Deprecated in NumPy 1.20; for more details and guidance: https://numpy.org/devdocs/release/1.20.0-notes.html#deprecations\n",
            "/usr/local/lib/python3.7/dist-packages/skimage/transform/_warps.py:830: FutureWarning: Input image dtype is bool. Interpolation is not defined with bool data type. Please set order to 0 or explicitely cast input image to another data type. Starting from version 0.19 a ValueError will be raised instead of this warning.\n",
            "  order = _validate_interpolation_order(image.dtype, order)\n"
          ]
        },
        {
          "output_type": "stream",
          "name": "stdout",
          "text": [
            "mask.shape, min(mask),max(mask): (840, 1400, 1), 0,0\n",
            "rr.shape, min(rr),max(rr): (232786,), 146,644\n",
            "cc.shape, min(cc),max(cc): (232786,), 74,689\n",
            "After fixing the dirt mask, new values:\n",
            "rr.shape, min(rr),max(rr): (232786,), 146,644\n",
            "cc.shape, min(cc),max(cc): (232786,), 74,689\n"
          ]
        },
        {
          "output_type": "stream",
          "name": "stderr",
          "text": [
            "/usr/local/lib/python3.7/dist-packages/ipykernel_launcher.py:129: DeprecationWarning: `np.bool` is a deprecated alias for the builtin `bool`. To silence this warning, use `bool` by itself. Doing this will not modify any behavior and is safe. If you specifically wanted the numpy scalar type, use `np.bool_` here.\n",
            "Deprecated in NumPy 1.20; for more details and guidance: https://numpy.org/devdocs/release/1.20.0-notes.html#deprecations\n",
            "/usr/local/lib/python3.7/dist-packages/skimage/transform/_warps.py:830: FutureWarning: Input image dtype is bool. Interpolation is not defined with bool data type. Please set order to 0 or explicitely cast input image to another data type. Starting from version 0.19 a ValueError will be raised instead of this warning.\n",
            "  order = _validate_interpolation_order(image.dtype, order)\n"
          ]
        },
        {
          "output_type": "stream",
          "name": "stdout",
          "text": [
            "mask.shape, min(mask),max(mask): (1196, 858, 1), 0,0\n",
            "rr.shape, min(rr),max(rr): (319855,), 261,926\n",
            "cc.shape, min(cc),max(cc): (319855,), 140,855\n",
            "After fixing the dirt mask, new values:\n",
            "rr.shape, min(rr),max(rr): (319855,), 261,926\n",
            "cc.shape, min(cc),max(cc): (319855,), 140,855\n"
          ]
        },
        {
          "output_type": "stream",
          "name": "stderr",
          "text": [
            "/usr/local/lib/python3.7/dist-packages/ipykernel_launcher.py:129: DeprecationWarning: `np.bool` is a deprecated alias for the builtin `bool`. To silence this warning, use `bool` by itself. Doing this will not modify any behavior and is safe. If you specifically wanted the numpy scalar type, use `np.bool_` here.\n",
            "Deprecated in NumPy 1.20; for more details and guidance: https://numpy.org/devdocs/release/1.20.0-notes.html#deprecations\n",
            "/usr/local/lib/python3.7/dist-packages/skimage/transform/_warps.py:830: FutureWarning: Input image dtype is bool. Interpolation is not defined with bool data type. Please set order to 0 or explicitely cast input image to another data type. Starting from version 0.19 a ValueError will be raised instead of this warning.\n",
            "  order = _validate_interpolation_order(image.dtype, order)\n"
          ]
        },
        {
          "output_type": "stream",
          "name": "stdout",
          "text": [
            "mask.shape, min(mask),max(mask): (1024, 1536, 1), 0,0\n",
            "rr.shape, min(rr),max(rr): (306741,), 189,823\n",
            "cc.shape, min(cc),max(cc): (306741,), 73,798\n",
            "After fixing the dirt mask, new values:\n",
            "rr.shape, min(rr),max(rr): (306741,), 189,823\n",
            "cc.shape, min(cc),max(cc): (306741,), 73,798\n"
          ]
        },
        {
          "output_type": "stream",
          "name": "stderr",
          "text": [
            "/usr/local/lib/python3.7/dist-packages/ipykernel_launcher.py:129: DeprecationWarning: `np.bool` is a deprecated alias for the builtin `bool`. To silence this warning, use `bool` by itself. Doing this will not modify any behavior and is safe. If you specifically wanted the numpy scalar type, use `np.bool_` here.\n",
            "Deprecated in NumPy 1.20; for more details and guidance: https://numpy.org/devdocs/release/1.20.0-notes.html#deprecations\n",
            "/usr/local/lib/python3.7/dist-packages/skimage/transform/_warps.py:830: FutureWarning: Input image dtype is bool. Interpolation is not defined with bool data type. Please set order to 0 or explicitely cast input image to another data type. Starting from version 0.19 a ValueError will be raised instead of this warning.\n",
            "  order = _validate_interpolation_order(image.dtype, order)\n"
          ]
        },
        {
          "output_type": "stream",
          "name": "stdout",
          "text": [
            "mask.shape, min(mask),max(mask): (681, 1024, 1), 0,0\n",
            "rr.shape, min(rr),max(rr): (236138,), 65,648\n",
            "cc.shape, min(cc),max(cc): (236138,), 0,577\n",
            "After fixing the dirt mask, new values:\n",
            "rr.shape, min(rr),max(rr): (236138,), 65,648\n",
            "cc.shape, min(cc),max(cc): (236138,), 0,577\n"
          ]
        },
        {
          "output_type": "stream",
          "name": "stderr",
          "text": [
            "/usr/local/lib/python3.7/dist-packages/ipykernel_launcher.py:129: DeprecationWarning: `np.bool` is a deprecated alias for the builtin `bool`. To silence this warning, use `bool` by itself. Doing this will not modify any behavior and is safe. If you specifically wanted the numpy scalar type, use `np.bool_` here.\n",
            "Deprecated in NumPy 1.20; for more details and guidance: https://numpy.org/devdocs/release/1.20.0-notes.html#deprecations\n",
            "/usr/local/lib/python3.7/dist-packages/skimage/transform/_warps.py:830: FutureWarning: Input image dtype is bool. Interpolation is not defined with bool data type. Please set order to 0 or explicitely cast input image to another data type. Starting from version 0.19 a ValueError will be raised instead of this warning.\n",
            "  order = _validate_interpolation_order(image.dtype, order)\n"
          ]
        },
        {
          "output_type": "stream",
          "name": "stdout",
          "text": [
            "mask.shape, min(mask),max(mask): (1200, 800, 1), 0,0\n",
            "rr.shape, min(rr),max(rr): (215719,), 494,1045\n",
            "cc.shape, min(cc),max(cc): (215719,), 64,588\n",
            "After fixing the dirt mask, new values:\n",
            "rr.shape, min(rr),max(rr): (215719,), 494,1045\n",
            "cc.shape, min(cc),max(cc): (215719,), 64,588\n"
          ]
        },
        {
          "output_type": "stream",
          "name": "stderr",
          "text": [
            "/usr/local/lib/python3.7/dist-packages/ipykernel_launcher.py:129: DeprecationWarning: `np.bool` is a deprecated alias for the builtin `bool`. To silence this warning, use `bool` by itself. Doing this will not modify any behavior and is safe. If you specifically wanted the numpy scalar type, use `np.bool_` here.\n",
            "Deprecated in NumPy 1.20; for more details and guidance: https://numpy.org/devdocs/release/1.20.0-notes.html#deprecations\n",
            "/usr/local/lib/python3.7/dist-packages/skimage/transform/_warps.py:830: FutureWarning: Input image dtype is bool. Interpolation is not defined with bool data type. Please set order to 0 or explicitely cast input image to another data type. Starting from version 0.19 a ValueError will be raised instead of this warning.\n",
            "  order = _validate_interpolation_order(image.dtype, order)\n"
          ]
        },
        {
          "output_type": "stream",
          "name": "stdout",
          "text": [
            "mask.shape, min(mask),max(mask): (683, 1024, 1), 0,0\n",
            "rr.shape, min(rr),max(rr): (46308,), 202,443\n",
            "cc.shape, min(cc),max(cc): (46308,), 325,592\n",
            "After fixing the dirt mask, new values:\n",
            "rr.shape, min(rr),max(rr): (46308,), 202,443\n",
            "cc.shape, min(cc),max(cc): (46308,), 325,592\n"
          ]
        },
        {
          "output_type": "stream",
          "name": "stderr",
          "text": [
            "/usr/local/lib/python3.7/dist-packages/ipykernel_launcher.py:129: DeprecationWarning: `np.bool` is a deprecated alias for the builtin `bool`. To silence this warning, use `bool` by itself. Doing this will not modify any behavior and is safe. If you specifically wanted the numpy scalar type, use `np.bool_` here.\n",
            "Deprecated in NumPy 1.20; for more details and guidance: https://numpy.org/devdocs/release/1.20.0-notes.html#deprecations\n",
            "/usr/local/lib/python3.7/dist-packages/skimage/transform/_warps.py:830: FutureWarning: Input image dtype is bool. Interpolation is not defined with bool data type. Please set order to 0 or explicitely cast input image to another data type. Starting from version 0.19 a ValueError will be raised instead of this warning.\n",
            "  order = _validate_interpolation_order(image.dtype, order)\n"
          ]
        },
        {
          "output_type": "stream",
          "name": "stdout",
          "text": [
            "mask.shape, min(mask),max(mask): (1357, 1900, 2), 0,0\n",
            "rr.shape, min(rr),max(rr): (365294,), 4,971\n",
            "cc.shape, min(cc),max(cc): (365294,), 877,1578\n",
            "After fixing the dirt mask, new values:\n",
            "rr.shape, min(rr),max(rr): (365294,), 4,971\n",
            "cc.shape, min(cc),max(cc): (365294,), 877,1578\n",
            "mask.shape, min(mask),max(mask): (1357, 1900, 2), 0,1\n",
            "rr.shape, min(rr),max(rr): (318279,), 328,1107\n",
            "cc.shape, min(cc),max(cc): (318279,), 145,824\n",
            "After fixing the dirt mask, new values:\n",
            "rr.shape, min(rr),max(rr): (318279,), 328,1107\n",
            "cc.shape, min(cc),max(cc): (318279,), 145,824\n"
          ]
        },
        {
          "output_type": "stream",
          "name": "stderr",
          "text": [
            "/usr/local/lib/python3.7/dist-packages/ipykernel_launcher.py:129: DeprecationWarning: `np.bool` is a deprecated alias for the builtin `bool`. To silence this warning, use `bool` by itself. Doing this will not modify any behavior and is safe. If you specifically wanted the numpy scalar type, use `np.bool_` here.\n",
            "Deprecated in NumPy 1.20; for more details and guidance: https://numpy.org/devdocs/release/1.20.0-notes.html#deprecations\n",
            "/usr/local/lib/python3.7/dist-packages/skimage/transform/_warps.py:830: FutureWarning: Input image dtype is bool. Interpolation is not defined with bool data type. Please set order to 0 or explicitely cast input image to another data type. Starting from version 0.19 a ValueError will be raised instead of this warning.\n",
            "  order = _validate_interpolation_order(image.dtype, order)\n"
          ]
        }
      ]
    }
  ]
}